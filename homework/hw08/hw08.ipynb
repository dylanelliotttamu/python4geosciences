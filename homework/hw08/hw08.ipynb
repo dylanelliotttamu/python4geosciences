{
 "cells": [
  {
   "cell_type": "markdown",
   "metadata": {},
   "source": [
    "**Before you turn this problem in, make sure your notebook is in tidy format and everything runs as expected:**\n",
    "\n",
    "1. When the problem needs you to write codes inside a function, just directly write codes inside the already-existing functions. Don't create new functions and write your code in the new functions. \n",
    "\n",
    "2. Don't modify the original TEST cells! You can insert new testing cells to test your code when doing your homework. But make sure to delete those **new testing cells** after you finish your problem.\n",
    "\n",
    "3. After you complete all problems, to insure there is no error in your notebook, do the following: first, **restart the kernel** (in the menubar, select Kernel$\\rightarrow$Restart) and second **run all cells** (in the menubar, select Cell$\\rightarrow$Run All). **Note that this step is very important and can help you catch the error!**\n",
    "\n",
    "**Make sure you delete `raise NotImplementedError()`** (if existing) inside the function before you write your code and fill in any place that says \"YOUR CODE HERE\" or \"YOUR ANSWER HERE\":"
   ]
  },
  {
   "cell_type": "code",
   "execution_count": 1,
   "metadata": {},
   "outputs": [],
   "source": [
    "# fill in your name\n",
    "NAME = \"Dylan Elliott\""
   ]
  },
  {
   "cell_type": "markdown",
   "metadata": {},
   "source": [
    "---"
   ]
  },
  {
   "cell_type": "markdown",
   "metadata": {
    "deletable": false,
    "editable": false,
    "nbgrader": {
     "cell_type": "markdown",
     "checksum": "e069e88915b53aca9a7b0b5f540ccd7d",
     "grade": false,
     "grade_id": "cell-5475bcbc16f8d773",
     "locked": true,
     "schema_version": 3,
     "solution": false,
     "task": false
    }
   },
   "source": [
    "These problems are to do some basic time indexing with pandas. The first code loads in some data from the USGS waterdata site."
   ]
  },
  {
   "cell_type": "code",
   "execution_count": 2,
   "metadata": {
    "deletable": false,
    "editable": false,
    "nbgrader": {
     "cell_type": "code",
     "checksum": "6add60048ab29660e69184d45a4e9c6e",
     "grade": false,
     "grade_id": "cell-300f10bee14ee34b",
     "locked": true,
     "schema_version": 3,
     "solution": false,
     "task": false
    }
   },
   "outputs": [
    {
     "data": {
      "text/plain": [
       "datetime\n",
       "1993-07-14        NaN\n",
       "1993-07-15        NaN\n",
       "1993-07-16        NaN\n",
       "1993-07-17        NaN\n",
       "1993-07-18        NaN\n",
       "               ...   \n",
       "2018-10-19    36700.0\n",
       "2018-10-20    34900.0\n",
       "2018-10-21    40300.0\n",
       "2018-10-22    42100.0\n",
       "2018-10-23    38300.0\n",
       "Name: 135330_00060_00003, Length: 9233, dtype: float64"
      ]
     },
     "execution_count": 2,
     "metadata": {},
     "output_type": "execute_result"
    }
   ],
   "source": [
    "import numpy as np\n",
    "import pandas as pd\n",
    "\n",
    "url = 'https://waterdata.usgs.gov/tx/nwis/dv?format=rdb&site_no=08108700&referred_module=sw&begin_date=1993-01-01&end_date=2018-10-23'\n",
    "\n",
    "# load the data\n",
    "brazos = pd.read_csv(filepath_or_buffer=url, delim_whitespace=True, comment='#', skiprows=[34,], parse_dates=[2], index_col=[2])\n",
    "brazos.loc[:, '135330_00060_00003']  # mean daily discharge"
   ]
  },
  {
   "cell_type": "markdown",
   "metadata": {
    "deletable": false,
    "editable": false,
    "nbgrader": {
     "cell_type": "markdown",
     "checksum": "34c0c2c083dcd3843737f1f66f281ef6",
     "grade": false,
     "grade_id": "cell-2cef02aebe24d38d",
     "locked": true,
     "schema_version": 3,
     "solution": false,
     "task": false
    }
   },
   "source": [
    "[3 points] Explain what **each of the options** in the function call to `pd.read_csv` does in the cell below. \n",
    "\n",
    "* Note that you need to  write down specifically what the parameter and the number are doing. For example, parse_dates: Tell pandas that the columns specified should be imported as a date. In our case, parse_dates=[2] means the column that will be converted to date has an index of 2 (in other words, the 3rd column).\n",
    "\n",
    "* Need to explicitly distinguish between **column index** vs. **position of column** (like in the above example, column index is 2 and it is equivalent to the 3rd column)."
   ]
  },
  {
   "cell_type": "markdown",
   "metadata": {
    "deletable": false,
    "nbgrader": {
     "cell_type": "markdown",
     "checksum": "7dc049bff921d655755c6684a275fa49",
     "grade": true,
     "grade_id": "cell-5bd73baa53a916d5",
     "locked": false,
     "points": 3,
     "schema_version": 3,
     "solution": true,
     "task": false
    }
   },
   "source": [
    "Filepath_or_buffer=url tells pandas to identify that the variable called url to be the file from which pandas reads from.\n",
    "\n",
    "delim_whitespace=True tells pandas to differeniate values in the csv by the white spaces instead of comma or some other delimiter.\n",
    "\n",
    "Comment='#' tells Pandas: To skip entire row where # is read.\n",
    "\n",
    "Skiprows=[34,] tells pandas to start reading the file from row 35 and down. \n",
    "\n",
    "parse_dates=[2] tells pandas that the column that will be converted to date is the third column.\n",
    "\n",
    "index_col=[2] tells pandas to use the 3rd column as the index.\n"
   ]
  },
  {
   "cell_type": "markdown",
   "metadata": {
    "deletable": false,
    "editable": false,
    "nbgrader": {
     "cell_type": "markdown",
     "checksum": "57c2a4e4bd99204ac619a80f3c6a7f1b",
     "grade": false,
     "grade_id": "cell-09bb8a66ba3cf5a8",
     "locked": true,
     "schema_version": 3,
     "solution": false,
     "task": false
    }
   },
   "source": [
    "[2 points] Calculate the mean discharge in 2016 and 2017 and store the values in variables called 'brazos_mean_2016' and 'brazos_mean_2017'. Note that the discharge column name is \"135330_00060_00003\"."
   ]
  },
  {
   "cell_type": "code",
   "execution_count": 3,
   "metadata": {
    "deletable": false,
    "nbgrader": {
     "cell_type": "code",
     "checksum": "19b6a3b07cac1143d9ee66a55d7a23ef",
     "grade": false,
     "grade_id": "cell-d5cbe7f06097fe2e",
     "locked": false,
     "schema_version": 3,
     "solution": true
    }
   },
   "outputs": [],
   "source": [
    "# YOUR CODE HERE\n",
    "import matplotlib.pyplot as plt\n",
    "%matplotlib inline\n",
    "# mean_2016 = (brazos[\"135330_00060_00003\"].loc['2016']).mean()\n",
    "# print(vals_2016)\n",
    "\n",
    "brazos_mean_2016 = np.mean(brazos.loc['2016-01-01':'2016-12-31', '135330_00060_00003'])\n",
    "brazos_mean_2017 = np.mean(brazos.loc['2017-01-01':'2017-12-31', '135330_00060_00003'])"
   ]
  },
  {
   "cell_type": "code",
   "execution_count": 4,
   "metadata": {
    "deletable": false,
    "editable": false,
    "nbgrader": {
     "cell_type": "code",
     "checksum": "720747b467718aa642ad74aa33d5c4a7",
     "grade": true,
     "grade_id": "cell-356aa2cf22ec31e5",
     "locked": true,
     "points": 2,
     "schema_version": 3,
     "solution": false
    }
   },
   "outputs": [],
   "source": [
    "assert np.isclose(brazos_mean_2016, 13075.825136612022)\n",
    "assert np.isclose(brazos_mean_2017, 3443.3698630136987)"
   ]
  },
  {
   "cell_type": "markdown",
   "metadata": {
    "deletable": false,
    "editable": false,
    "nbgrader": {
     "cell_type": "markdown",
     "checksum": "9a4d1ff5e951284cc8a86aa29b882698",
     "grade": false,
     "grade_id": "cell-7e4585eed9171292",
     "locked": true,
     "schema_version": 3,
     "solution": false,
     "task": false
    }
   },
   "source": [
    "[3 points] Compare early summer discharge (May, June, and July) with late summer/fall discharge (August, September, October) in 2016 and 2017. Store your variables with names:\n",
    "\n",
    "   - brazos_mjj_2016\n",
    "   - brazos_aso_2016\n",
    "   - brazos_mjj_2017\n",
    "   - brazos_aso_2017\n"
   ]
  },
  {
   "cell_type": "code",
   "execution_count": 5,
   "metadata": {
    "deletable": false,
    "nbgrader": {
     "cell_type": "code",
     "checksum": "6739e66e28e9b23a83d9dcc10f6c446c",
     "grade": false,
     "grade_id": "cell-838ea2db5fc2d9df",
     "locked": false,
     "schema_version": 3,
     "solution": true
    }
   },
   "outputs": [],
   "source": [
    "# YOUR CODE HERE\n",
    "\n",
    "brazos_mjj_2016 = np.mean(brazos.loc['2016-05-01':'2016-7-31', '135330_00060_00003'])\n",
    "\n",
    "brazos_aso_2016 = np.mean(brazos.loc['2016-08-01':'2016-10-31', '135330_00060_00003'])\n",
    "\n",
    "brazos_mjj_2017 = np.mean(brazos.loc['2017-05-01':'2017-7-31', '135330_00060_00003'])\n",
    "\n",
    "brazos_aso_2017 = np.mean(brazos.loc['2017-08-01':'2017-10-31', '135330_00060_00003'])"
   ]
  },
  {
   "cell_type": "code",
   "execution_count": 6,
   "metadata": {
    "deletable": false,
    "editable": false,
    "nbgrader": {
     "cell_type": "code",
     "checksum": "cc828f87508464be4007c4653dfc9bbe",
     "grade": true,
     "grade_id": "cell-80a8857cc161af40",
     "locked": true,
     "points": 3,
     "schema_version": 3,
     "solution": false
    }
   },
   "outputs": [],
   "source": [
    "assert np.isclose(brazos_mjj_2016, 27803.695652173912)\n",
    "assert np.isclose(brazos_aso_2016, 4584.945652173913)\n",
    "assert np.isclose(brazos_mjj_2017, 2802.8804347826085)\n",
    "assert np.isclose(brazos_aso_2017, 1657.5217391304348)"
   ]
  }
 ],
 "metadata": {
  "kernelspec": {
   "display_name": "Python 3 (ipykernel)",
   "language": "python",
   "name": "python3"
  },
  "language_info": {
   "codemirror_mode": {
    "name": "ipython",
    "version": 3
   },
   "file_extension": ".py",
   "mimetype": "text/x-python",
   "name": "python",
   "nbconvert_exporter": "python",
   "pygments_lexer": "ipython3",
   "version": "3.8.10"
  },
  "toc": {
   "base_numbering": 1,
   "nav_menu": {},
   "number_sections": false,
   "sideBar": true,
   "skip_h1_title": false,
   "title_cell": "Table of Contents",
   "title_sidebar": "Contents",
   "toc_cell": false,
   "toc_position": {},
   "toc_section_display": true,
   "toc_window_display": false
  }
 },
 "nbformat": 4,
 "nbformat_minor": 2
}
