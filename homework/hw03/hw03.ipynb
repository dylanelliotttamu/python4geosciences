{
 "cells": [
  {
   "cell_type": "markdown",
   "metadata": {},
   "source": [
    "**Before you turn this problem in, make sure your notebook is in tidy format and everything runs as expected:**\n",
    "\n",
    "1. When the problem needs you to write codes inside a function, just directly write codes inside the already-existing functions. Don't create new functions and write your code in the new functions. \n",
    "\n",
    "2. Don't modify the original TEST cells! You can insert new testing cells to test your code when doing your homework. But make sure to delete those **new testing cells** after you finish your problem.\n",
    "\n",
    "3. After you complete all problems, to insure there is no error in your notebook, do the following: first, **restart the kernel** (in the menubar, select Kernel$\\rightarrow$Restart) and second **run all cells** (in the menubar, select Cell$\\rightarrow$Run All). **Note that this step is very important and can help you catch the error!**\n",
    "\n",
    "**Make sure you delete `raise NotImplementedError()`** (if existing) inside the function before you write your code and fill in any place that says \"YOUR CODE HERE\" or \"YOUR ANSWER HERE\":"
   ]
  },
  {
   "cell_type": "code",
   "execution_count": 1,
   "metadata": {},
   "outputs": [],
   "source": [
    "# fill in your name\n",
    "NAME = \"Dylan Elliott\""
   ]
  },
  {
   "cell_type": "markdown",
   "metadata": {},
   "source": [
    "---"
   ]
  },
  {
   "cell_type": "markdown",
   "metadata": {
    "deletable": false,
    "editable": false,
    "nbgrader": {
     "cell_type": "markdown",
     "checksum": "e464b748c65b589a7ed2dc13b32638b6",
     "grade": false,
     "grade_id": "cell-644bb211b2a5eb19",
     "locked": true,
     "schema_version": 3,
     "solution": false
    }
   },
   "source": [
    "# Core Language continued"
   ]
  },
  {
   "cell_type": "code",
   "execution_count": 2,
   "metadata": {
    "deletable": false,
    "editable": false,
    "nbgrader": {
     "cell_type": "code",
     "checksum": "e028c4500901c91dee0645ffe9b1d324",
     "grade": false,
     "grade_id": "cell-55f59d1d41ee224e",
     "locked": true,
     "schema_version": 3,
     "solution": false,
     "task": false
    }
   },
   "outputs": [],
   "source": [
    "# import the package\n",
    "from nose.tools import assert_equal"
   ]
  },
  {
   "cell_type": "markdown",
   "metadata": {
    "deletable": false,
    "editable": false,
    "nbgrader": {
     "cell_type": "markdown",
     "checksum": "18b77bb16bca139c624deb5584493609",
     "grade": false,
     "grade_id": "cell-916c7d25dd2b0c34",
     "locked": true,
     "schema_version": 3,
     "solution": false
    }
   },
   "source": [
    "### 1. Compute the length of a given list or string (2 points)\n",
    "\n",
    "Define a function that computes the length of a given list or string. (It is true that Python has the len() function built in, but do not use it for your solution — use a loop instead.)\n",
    "\n",
    "For example:\n",
    "\n",
    "    >>> length(['string1', 'string2'])\n",
    "    2\n",
    "    >>> length('string1')\n",
    "    7"
   ]
  },
  {
   "cell_type": "code",
   "execution_count": 3,
   "metadata": {
    "deletable": false,
    "nbgrader": {
     "cell_type": "code",
     "checksum": "d53cc17c11bfb7680732d4be521a2e80",
     "grade": false,
     "grade_id": "cell-7cc34eb8c688c3a5",
     "locked": false,
     "schema_version": 3,
     "solution": true
    }
   },
   "outputs": [],
   "source": [
    "def length(inputs):\n",
    "    \"\"\"Compute the length of a given list or string, but without using `len`.\n",
    "    \n",
    "    Parameters\n",
    "    ----------\n",
    "    inputs : string or list\n",
    "        \n",
    "        \n",
    "    Returns\n",
    "    -------\n",
    "    integer that is either the number of characters in the input string or the number of \n",
    "    entries in the input list.\n",
    "    \"\"\"\n",
    "    # YOUR CODE HERE\n",
    "    count_str = 0\n",
    "\n",
    "    for i in inputs: \n",
    "        count_str += 1\n",
    "    return count_str"
   ]
  },
  {
   "cell_type": "code",
   "execution_count": 4,
   "metadata": {
    "deletable": false,
    "editable": false,
    "nbgrader": {
     "cell_type": "code",
     "checksum": "073f9a09c46964faf2513b3ecd5d5ab1",
     "grade": true,
     "grade_id": "cell-3870df85ff34e2bb",
     "locked": true,
     "points": 2,
     "schema_version": 3,
     "solution": false
    }
   },
   "outputs": [
    {
     "name": "stdout",
     "output_type": "stream",
     "text": [
      "Success!\n"
     ]
    }
   ],
   "source": [
    "\"\"\"(2 points) Test code for the previous function. This cell should NOT give any errors when it is run.\"\"\"\n",
    "\n",
    "# Check a list\n",
    "inputs = ['apple', 'orange']\n",
    "assert_equal(length(inputs), 2)\n",
    "\n",
    "# Check a string\n",
    "inputs = 'tomato'\n",
    "assert_equal(length(inputs), 6)\n",
    "\n",
    "# What about a string with a space in it?\n",
    "inputs = 'bacon and eggs'\n",
    "assert_equal(length(inputs), 14)\n",
    "\n",
    "# Also will look for not using the built-in len() function\n",
    "len_old = len\n",
    "len = None\n",
    "inputs = 'tomato'\n",
    "assert_equal(length(inputs), 6)\n",
    "len = len_old\n",
    "\n",
    "print(\"Success!\")"
   ]
  },
  {
   "cell_type": "markdown",
   "metadata": {
    "deletable": false,
    "editable": false,
    "nbgrader": {
     "cell_type": "markdown",
     "checksum": "b35bdc3583543f7072947e7474409323",
     "grade": false,
     "grade_id": "cell-07ddd638868eb4fd",
     "locked": true,
     "schema_version": 3,
     "solution": false
    }
   },
   "source": [
    "### 2a-b. Convert list of words into list of integers of length of words (3 points)\n",
    "\n",
    "Write a series of functions that maps a list of words into a list of integers representing the lengths of the corresponding words. Write them in two different ways (and **you can use the built-in len() function**): \n",
    "\n",
    "1. using a for-loop\n",
    "1. using list comprehensions. \n",
    "\n",
    "Each function will return a list of word lengths, for example,\n",
    "\n",
    "    >>> method1(['list', 'of', 'words'])\n",
    "    [4, 2, 5]"
   ]
  },
  {
   "cell_type": "code",
   "execution_count": 5,
   "metadata": {
    "deletable": false,
    "nbgrader": {
     "cell_type": "code",
     "checksum": "c0aae405b2a617d83a08aed6de750a4b",
     "grade": false,
     "grade_id": "forloop",
     "locked": false,
     "schema_version": 3,
     "solution": true
    }
   },
   "outputs": [],
   "source": [
    "# part a\n",
    "def method1(input1):\n",
    "    \"\"\"Returns a list of integers representing the lengths of the corresponding input list of words.\n",
    "    Do this using a for loop.\n",
    "    \n",
    "    Parameters\n",
    "    ----------\n",
    "    input1 : list of str\n",
    "        inputs to be counted   \n",
    "        \n",
    "    Returns\n",
    "    -------\n",
    "    list of integers counting the elements in the input list\n",
    "    \"\"\"\n",
    "    # YOUR CODE HERE\n",
    "    listoflengthsofwords = []\n",
    "    for item in input1:\n",
    "        listoflengthsofwords.append(len(item))\n",
    "    return listoflengthsofwords"
   ]
  },
  {
   "cell_type": "code",
   "execution_count": 6,
   "metadata": {
    "deletable": false,
    "editable": false,
    "nbgrader": {
     "cell_type": "code",
     "checksum": "7dd5b4fcb87ba1a57c08904ca8da62fe",
     "grade": true,
     "grade_id": "test_forloop",
     "locked": true,
     "points": 1,
     "schema_version": 3,
     "solution": false
    }
   },
   "outputs": [
    {
     "name": "stdout",
     "output_type": "stream",
     "text": [
      "success!\n"
     ]
    }
   ],
   "source": [
    "\"\"\"(1 point) Test code for the previous function. This cell should NOT give any errors when it is run.\"\"\"\n",
    "# check with a list\n",
    "words = ['one', 'two', 'three']\n",
    "assert_equal(method1(words), [3, 3, 5])\n",
    "# Also will check that a for loop was used\n",
    "print('success!')"
   ]
  },
  {
   "cell_type": "code",
   "execution_count": 7,
   "metadata": {
    "deletable": false,
    "nbgrader": {
     "cell_type": "code",
     "checksum": "fbbe4403a1dd0b591707993c7a18ffda",
     "grade": false,
     "grade_id": "listcomprehension",
     "locked": false,
     "schema_version": 3,
     "solution": true,
     "task": false
    }
   },
   "outputs": [],
   "source": [
    "# part b\n",
    "def method2(input2):\n",
    "    \"\"\"Returns a list of integers representing the lengths of the corresponding input list of words.\n",
    "    Do this using a list comprehension.\n",
    "    \n",
    "    Parameters\n",
    "    ----------\n",
    "    input1 : list of str\n",
    "        inputs to be counted   \n",
    "        \n",
    "    Returns\n",
    "    -------\n",
    "    list of integers counting the elements in the input list\n",
    "    \"\"\"\n",
    "    # YOUR CODE HERE\n",
    "    return [len(items) for items in input2]"
   ]
  },
  {
   "cell_type": "code",
   "execution_count": 8,
   "metadata": {
    "deletable": false,
    "editable": false,
    "nbgrader": {
     "cell_type": "code",
     "checksum": "1f20df878d69cd94dfe7261ab79bccf8",
     "grade": true,
     "grade_id": "test_listcomprehension",
     "locked": true,
     "points": 1,
     "schema_version": 3,
     "solution": false,
     "task": false
    }
   },
   "outputs": [
    {
     "name": "stdout",
     "output_type": "stream",
     "text": [
      "success!\n"
     ]
    }
   ],
   "source": [
    "\"\"\"(1 point) Test code for the previous function. This cell should NOT give any errors when it is run.\"\"\"\n",
    "# check with a list\n",
    "words = ['one', 'two', 'three']\n",
    "assert_equal(method2(words), [3, 3, 5])\n",
    "# Also will check that a list comprehension was used\n",
    "print('success!')"
   ]
  },
  {
   "cell_type": "code",
   "execution_count": 9,
   "metadata": {
    "deletable": false,
    "editable": false,
    "nbgrader": {
     "cell_type": "code",
     "checksum": "8b81ffa774600f63c47eda54c16dddf5",
     "grade": true,
     "grade_id": "test_all",
     "locked": true,
     "points": 1,
     "schema_version": 3,
     "solution": false
    }
   },
   "outputs": [
    {
     "name": "stdout",
     "output_type": "stream",
     "text": [
      "success!\n"
     ]
    }
   ],
   "source": [
    "\"\"\"(1 point) Test code for the previous function. This cell should NOT give any errors when it is run.\"\"\"\n",
    "words = ['five', 'eight', 'infinity']\n",
    "# Check that the result is the same for all methods\n",
    "assert_equal(method1(words), method2(words))\n",
    "print('success!')"
   ]
  },
  {
   "cell_type": "markdown",
   "metadata": {
    "deletable": false,
    "editable": false,
    "nbgrader": {
     "cell_type": "markdown",
     "checksum": "f9e4952d734cf6f92ec278e80f5c7b4a",
     "grade": false,
     "grade_id": "cell-50c577a724c2dc2a",
     "locked": true,
     "schema_version": 3,
     "solution": false
    }
   },
   "source": [
    "### 3. Number of integers to reach 1 thousand (3 points)\n",
    "\n",
    "Calculate how many integers, starting from 1 and counting each consecutive integer, are needed to add up to be more than 1 thousand. Use a `while` loop to do this."
   ]
  },
  {
   "cell_type": "code",
   "execution_count": 10,
   "metadata": {
    "deletable": false,
    "nbgrader": {
     "cell_type": "code",
     "checksum": "0d44d14c880f4aa01d3bc73b0ec90212",
     "grade": false,
     "grade_id": "cell-3e995c9f072905fb",
     "locked": false,
     "schema_version": 3,
     "solution": true
    }
   },
   "outputs": [],
   "source": [
    "def ints_to_thousand():\n",
    "    '''Find the number of consecutive integers (starting from 1) that are needed to add \n",
    "    together to sum to more than 1 thousand.'''\n",
    "    \n",
    "    # YOUR CODE HERE\n",
    "    total = 0\n",
    "    howmanyints = 0\n",
    "    while total < 1000:\n",
    "        howmanyints += 1\n",
    "        total += howmanyints\n",
    "    return howmanyints"
   ]
  },
  {
   "cell_type": "code",
   "execution_count": 11,
   "metadata": {
    "deletable": false,
    "editable": false,
    "nbgrader": {
     "cell_type": "code",
     "checksum": "3661d74d51d1e9abcbf585340961037f",
     "grade": true,
     "grade_id": "cell-c17f04140621a1f3",
     "locked": true,
     "points": 3,
     "schema_version": 3,
     "solution": false
    }
   },
   "outputs": [
    {
     "name": "stdout",
     "output_type": "stream",
     "text": [
      "success!\n"
     ]
    }
   ],
   "source": [
    "\"\"\"(3 points) Test code for the previous function. This cell should NOT give any errors when it is run.\"\"\"\n",
    "\n",
    "# save the number of integers\n",
    "numints = ints_to_thousand()\n",
    "\n",
    "assert(numints == 45)\n",
    "\n",
    "print('success!')"
   ]
  },
  {
   "cell_type": "markdown",
   "metadata": {
    "deletable": false,
    "editable": false,
    "nbgrader": {
     "cell_type": "markdown",
     "checksum": "711bd79a77d65dfcc1d2cd5549ee1979",
     "grade": false,
     "grade_id": "cell-1160339447183619",
     "locked": true,
     "schema_version": 3,
     "solution": false
    }
   },
   "source": [
    "### 4. Number lines in a text file (4 points)\n",
    "\n",
    "Write a function, `num_lines()`, that numbers all of the lines in a text file, skipping empty lines, and writes the output to another specified file. For example, if the original text file contains:\n",
    "\n",
    "    this is the first line: hello, python!\n",
    "    this is a test line for second line\n",
    "    \n",
    "    this is a third line following the empty line\n",
    "    \n",
    "\n",
    "Then the output file should contain the original text but with the line number in the beginning. Note that for the empty line in the original file, it will still be an empty line in the output file (without line number!)\n",
    "\n",
    "    0 this is the first line: hello, python!\n",
    "    1 this is a test line for second line\n",
    "    \n",
    "    2 this is a third line following the empty line\n",
    "\n",
    "The function uses inputfilename as the input file name argument and uses outputfilename as the output file name argument. **Hence, you don't need to create another filename inside of the function. Just use the default inputfilename and outpufilename**. In the test cell, we are using a file called `'inputfile.txt'` to serve as the input file (in other words, the `inputfilename` argument in our `num_lines()` function will use the string `'inputfile.txt'` as its value). You can see the content of `'inputfile.txt'` by opening it using your laptop text editor. Note that this `inputfile.txt` file is sitting in the same directory as this notebook for you to read it easily using Python.\n",
    "\n",
    "Tips: I highly recommend you make a copy of the original `inputfile.txt` file before you complete this problem. In previous semesters, some students will accidentally write new contents to the original `inputfile.txt` file and the whole function will not work as expected. In case you think your answer is correct but the test cell still throws out errors, it might be due to the change of the original `inputfile.txt` file. In this case, you can replace the changed `inputfile.txt` with your saved original `inputfile.txt` file and rerun your code."
   ]
  },
  {
   "cell_type": "code",
   "execution_count": 24,
   "metadata": {
    "deletable": false,
    "nbgrader": {
     "cell_type": "code",
     "checksum": "c2981a4805edca9a4397305d48e6c299",
     "grade": false,
     "grade_id": "lines",
     "locked": false,
     "schema_version": 3,
     "solution": true
    }
   },
   "outputs": [],
   "source": [
    "def num_lines(inputfilename, outputfilename):\n",
    "    \"\"\"Numbers all lines in a text file, skipping empty lines. Writes results to output file.\n",
    "    \n",
    "    Parameters\n",
    "    ----------\n",
    "    inputfilename : string\n",
    "        Name of the input file to be read in.\n",
    "        \n",
    "    outputfilename : string\n",
    "        Name of the output file to be written to.  \n",
    "        \n",
    "    Returns\n",
    "    -------\n",
    "    Nothing, but does write results to file outputfilename.\n",
    "    \"\"\"\n",
    "    \n",
    "    count = 0 \n",
    "    f_out = open(outputfilename, 'w') \n",
    "    with open(inputfilename) as f_in:\n",
    "        lines = f_in.readlines()\n",
    "        for line in lines:\n",
    "            if line == ('\\n'):\n",
    "                f_out.write('\\n')\n",
    "            else:\n",
    "                f_out.write(str(count) + ' ' + line)\n",
    "                count += 1\n",
    "    f_out.close()                                  "
   ]
  },
  {
   "cell_type": "code",
   "execution_count": 25,
   "metadata": {
    "deletable": false,
    "editable": false,
    "nbgrader": {
     "cell_type": "code",
     "checksum": "65f85a5b669357b893257c102101e5fe",
     "grade": true,
     "grade_id": "test_lines",
     "locked": true,
     "points": 4,
     "schema_version": 3,
     "solution": false
    }
   },
   "outputs": [
    {
     "name": "stdout",
     "output_type": "stream",
     "text": [
      "Success!\n"
     ]
    }
   ],
   "source": [
    "\"\"\"(4 points) Test code for the previous function. This cell should NOT give any errors when it is run.\"\"\"\n",
    "\n",
    "# run code\n",
    "inputfilename = 'inputfile.txt'  # this is in the hw directory\n",
    "\n",
    "# put output file in user directory:\n",
    "import os\n",
    "outputfilename = inputfilename.split('/')[-1].split('.')[0] + '_mod.txt'  # splitting up file name and removing path\n",
    "outputfilename = '/'.join((os.getcwd(), outputfilename))  # this gives absolute path to user directory\n",
    "num_lines(inputfilename, outputfilename)  # save to local directory\n",
    "\n",
    "# check for existence of output file\n",
    "assert os.path.exists(outputfilename)\n",
    "\n",
    "# check for text in output file being correct\n",
    "fin = open(outputfilename, 'r')  # prepare to read\n",
    "lines = fin.readlines()\n",
    "line = lines[0].split(' ')\n",
    "assert_equal(line[0], '0')  # check first word in line\n",
    "assert_equal(line[-1], 'eros.\\n')  # check final word in line\n",
    "assert_equal(lines[1], '\\n')  # check empty line\n",
    "line = lines[2].split(' ')\n",
    "assert_equal(line[0], '1')  # check first word in line\n",
    "assert_equal(line[-1], 'sodales.\\n')  # check final word in line\n",
    "assert_equal(lines[3], '\\n')  # check empty line\n",
    "line = lines[4].split(' ')\n",
    "assert_equal(line[0], '2')  # check first word in line\n",
    "assert_equal(line[-1], 'a.\\n')  # check final word in line\n",
    "assert_equal(lines[5], '\\n')  # check empty line\n",
    "line = lines[6].split(' ')\n",
    "assert_equal(line[0], '3')  # check first word in line\n",
    "assert_equal(line[-1], 'ut.\\n')  # check final word in line\n",
    "assert_equal(lines[7], '\\n')  # check empty line\n",
    "line = lines[8].split(' ')\n",
    "assert_equal(line[0], '4')  # check first word in line\n",
    "assert_equal(line[-1], 'malesuada.\\n')  # check final word in line\n",
    "fin.close()\n",
    "\n",
    "print('Success!')"
   ]
  }
 ],
 "metadata": {
  "anaconda-cloud": {},
  "kernelspec": {
   "display_name": "Python 3 (ipykernel)",
   "language": "python",
   "name": "python3"
  },
  "language_info": {
   "codemirror_mode": {
    "name": "ipython",
    "version": 3
   },
   "file_extension": ".py",
   "mimetype": "text/x-python",
   "name": "python",
   "nbconvert_exporter": "python",
   "pygments_lexer": "ipython3",
   "version": "3.8.10"
  },
  "toc": {
   "base_numbering": 1,
   "nav_menu": {},
   "number_sections": false,
   "sideBar": true,
   "skip_h1_title": false,
   "title_cell": "Table of Contents",
   "title_sidebar": "Contents",
   "toc_cell": false,
   "toc_position": {},
   "toc_section_display": true,
   "toc_window_display": false
  }
 },
 "nbformat": 4,
 "nbformat_minor": 1
}
