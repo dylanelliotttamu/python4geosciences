{
 "cells": [
  {
   "cell_type": "markdown",
   "metadata": {},
   "source": [
    "**Before you turn this problem in, make sure your notebook is in tidy format and everything runs as expected:**\n",
    "\n",
    "1. When the problem needs you to write codes inside a function, just directly write codes inside the already-existing functions. Don't create new functions and write your code in the new functions. \n",
    "\n",
    "2. Don't modify the original TEST cells! You can insert new testing cells to test your code when doing your homework. But make sure to delete those **new testing cells** after you finish your problem.\n",
    "\n",
    "3. After you complete all problems, to insure there is no error in your notebook, do the following: first, **restart the kernel** (in the menubar, select Kernel$\\rightarrow$Restart) and second **run all cells** (in the menubar, select Cell$\\rightarrow$Run All). **Note that this step is very important and can help you catch the error!**\n",
    "\n",
    "**Make sure you delete `raise NotImplementedError()`** (if existing) inside the function before you write your code and fill in any place that says \"YOUR CODE HERE\" or \"YOUR ANSWER HERE\":"
   ]
  },
  {
   "cell_type": "code",
   "execution_count": 1,
   "metadata": {},
   "outputs": [],
   "source": [
    "# fill in your name\n",
    "NAME = \"Dylan Elliott\""
   ]
  },
  {
   "cell_type": "markdown",
   "metadata": {},
   "source": [
    "---"
   ]
  },
  {
   "cell_type": "markdown",
   "metadata": {
    "deletable": false,
    "editable": false,
    "nbgrader": {
     "cell_type": "markdown",
     "checksum": "9535966e6e63556deda7f9a78e90dc03",
     "grade": false,
     "grade_id": "cell-0cc806455f80fecd",
     "locked": true,
     "schema_version": 3,
     "solution": false,
     "task": false
    }
   },
   "source": [
    "# NumPy continue..."
   ]
  },
  {
   "cell_type": "code",
   "execution_count": 2,
   "metadata": {
    "deletable": false,
    "editable": false,
    "nbgrader": {
     "cell_type": "code",
     "checksum": "cc95ce727528d3fc870cd5714a943806",
     "grade": false,
     "grade_id": "cell-ca97d8d0f39a5736",
     "locked": true,
     "schema_version": 3,
     "solution": false,
     "task": false
    }
   },
   "outputs": [],
   "source": [
    "# always import this first\n",
    "import numpy as np"
   ]
  },
  {
   "cell_type": "markdown",
   "metadata": {
    "deletable": false,
    "editable": false,
    "nbgrader": {
     "cell_type": "markdown",
     "checksum": "eaab296210923192d1ba8d5e3c6014e3",
     "grade": false,
     "grade_id": "cell-6d8c2f096d52ba65",
     "locked": true,
     "schema_version": 3,
     "solution": false,
     "task": false
    }
   },
   "source": [
    "### 1. Create an array with all 0 inside and 1 on the border (2 points)\n",
    "Write a function to create a 2D array. This array should have all zero values, except for the elements around the border (i.e., the first and last rows, and the first and last columns), which should have a value of one.\n",
    "</div>"
   ]
  },
  {
   "cell_type": "code",
   "execution_count": 3,
   "metadata": {
    "deletable": false,
    "nbgrader": {
     "cell_type": "code",
     "checksum": "962d91ecb5d9812898959fa2564e1be9",
     "grade": false,
     "grade_id": "border",
     "locked": false,
     "schema_version": 3,
     "solution": true
    }
   },
   "outputs": [],
   "source": [
    "def border(n, m):\n",
    "    \"\"\"Creates an array with shape (n, m) that is all zeros\n",
    "    except for the border (i.e., the first and last rows and\n",
    "    columns), which should be filled with ones.\n",
    "\n",
    "    Hint: you should be able to do this in three lines\n",
    "    (including the return statement)\n",
    "\n",
    "    Parameters\n",
    "    ----------\n",
    "    n, m: int\n",
    "        Number of rows and number of columns\n",
    "\n",
    "    Returns\n",
    "    -------\n",
    "    numpy array with shape (n, m)\n",
    "\n",
    "    \"\"\"\n",
    "    \n",
    "    b = np.zeros((n,m))\n",
    "    \n",
    "    for i in b[0,:]: # get first row and all columns across it and add 1 to it\n",
    "        b[0,:] = 1\n",
    "    \n",
    "    for i in b[-1,:]: # get the last row and all the columns across it\n",
    "        b[-1,:] = 1\n",
    "    \n",
    "    for i in b[:,0]: # get the first column and all rows below it\n",
    "        b[:,0] = 1\n",
    "    \n",
    "    for i in b[:,-1]: # get the last column and all the rows below it\n",
    "        b[:,-1] = 1 \n",
    "    \n",
    "    result = b\n",
    "    \n",
    "    return result "
   ]
  },
  {
   "cell_type": "code",
   "execution_count": 4,
   "metadata": {
    "deletable": false,
    "editable": false,
    "nbgrader": {
     "cell_type": "code",
     "checksum": "c4618043019a2bd5fa03645e94048835",
     "grade": true,
     "grade_id": "test_border",
     "locked": false,
     "points": 2,
     "schema_version": 3,
     "solution": false
    }
   },
   "outputs": [
    {
     "name": "stdout",
     "output_type": "stream",
     "text": [
      "Success!\n"
     ]
    }
   ],
   "source": [
    "from numpy.testing import assert_array_equal\n",
    "from nose.tools import assert_equal\n",
    "\n",
    "# check a few small examples explicitly\n",
    "assert_array_equal(border(1, 1), [[1]])\n",
    "assert_array_equal(border(2, 2), [[1, 1], [1, 1]])\n",
    "assert_array_equal(border(3, 3), [[1, 1, 1], [1, 0, 1], [1, 1, 1]])\n",
    "assert_array_equal(border(3, 4), [[1, 1, 1, 1], [1, 0, 0, 1], [1, 1, 1, 1]])\n",
    "\n",
    "# check a few large and random examples\n",
    "for i in range(10):\n",
    "    n, m = np.random.randint(2, 1000, 2)\n",
    "    result = border(n, m)\n",
    "\n",
    "    # check dtype and array shape\n",
    "    assert_equal(result.dtype, float)\n",
    "    assert_equal(result.shape, (n, m))\n",
    "\n",
    "    # check the borders\n",
    "    assert (result[0] == 1).all()\n",
    "    assert (result[-1] == 1).all()\n",
    "    assert (result[:, 0] == 1).all()\n",
    "    assert (result[:, -1] == 1).all()\n",
    "\n",
    "    # check that everything else is zero\n",
    "    assert np.sum(result) == (2*n + 2*m - 4)\n",
    "\n",
    "print(\"Success!\")"
   ]
  },
  {
   "cell_type": "markdown",
   "metadata": {
    "deletable": false,
    "editable": false,
    "nbgrader": {
     "cell_type": "markdown",
     "checksum": "24d0a74df6bfa62cee173cb976e6510f",
     "grade": false,
     "grade_id": "cell-39e9f4a9c83f1a30",
     "locked": true,
     "schema_version": 3,
     "solution": false
    }
   },
   "source": [
    "### 2. Subtract the row mean from rows of a matrix (2 points)\n",
    "\n",
    "Write a function `array_minus_row_mean` which takes in matrix $F$, then subtracts the mean of each row of the matrix from the respective row. Do this without using a loop (that is, using array operations). For example, the input matrix is\n",
    "\n",
    "    array([[  0.,   1.,   2.,   3.],\n",
    "           [  4.,   5.,   6.,   7.],\n",
    "           [  8.,   9.,  10.,  11.]])\n",
    "\n",
    "The output should be:\n",
    "\n",
    "    array([[-1.5, -0.5,  0.5,  1.5],\n",
    "           [-1.5, -0.5,  0.5,  1.5],\n",
    "           [-1.5, -0.5,  0.5,  1.5]])"
   ]
  },
  {
   "cell_type": "code",
   "execution_count": 5,
   "metadata": {
    "deletable": false,
    "nbgrader": {
     "cell_type": "code",
     "checksum": "e509ed1c6fcb70ce63dccceaccda4998",
     "grade": false,
     "grade_id": "rowmean",
     "locked": false,
     "schema_version": 3,
     "solution": true
    }
   },
   "outputs": [],
   "source": [
    "def array_minus_row_mean(F):\n",
    "    \"\"\"Returns input array with the mean of each row subtracted from the respective row.\n",
    "    \n",
    "    Does not use a loop but instead uses array operations.\n",
    "    \n",
    "    Parameters\n",
    "    ----------\n",
    "    F : numpy array\n",
    "        \n",
    "    Returns\n",
    "    -------\n",
    "    F with mean of each row subtracted from the respective row\n",
    "    \"\"\"\n",
    "    \n",
    "    # take the mean of each row\n",
    "    mean_values = np.mean(F, axis=1)\n",
    "    diff_arr = F - mean_values.reshape(-1,1)\n",
    "    \n",
    "    return diff_arr"
   ]
  },
  {
   "cell_type": "code",
   "execution_count": 6,
   "metadata": {
    "deletable": false,
    "editable": false,
    "nbgrader": {
     "cell_type": "code",
     "checksum": "21918dfb5e68ce217ce4ada230526346",
     "grade": true,
     "grade_id": "test_rowmean",
     "locked": true,
     "points": 1,
     "schema_version": 3,
     "solution": false
    }
   },
   "outputs": [
    {
     "name": "stdout",
     "output_type": "stream",
     "text": [
      "This test worked! Try the next cell too.\n"
     ]
    }
   ],
   "source": [
    "\"\"\"(1 point) Test code for the previous function. This cell should NOT give any errors when it is run.\"\"\"\n",
    "\n",
    "G = np.ones((2, 3))\n",
    "assert np.array_equal(array_minus_row_mean(G), np.zeros((2, 3)))\n",
    "\n",
    "print(\"This test worked! Try the next cell too.\")"
   ]
  },
  {
   "cell_type": "code",
   "execution_count": 7,
   "metadata": {
    "deletable": false,
    "editable": false,
    "nbgrader": {
     "cell_type": "code",
     "checksum": "09b32293940fb03cdc0ad7e3718da034",
     "grade": true,
     "grade_id": "test_rowmean2",
     "locked": true,
     "points": 1,
     "schema_version": 3,
     "solution": false
    }
   },
   "outputs": [
    {
     "name": "stdout",
     "output_type": "stream",
     "text": [
      "Success!\n"
     ]
    }
   ],
   "source": [
    "\"\"\"(1 point) Test code for the previous function. This cell should NOT give any errors when it is run.\"\"\"\n",
    "\n",
    "H = np.array([[1., 2.], [3., 4.]])\n",
    "Hminus = np.array([[-0.5, 0.5], [-0.5, 0.5]])\n",
    "assert np.array_equal(array_minus_row_mean(H), Hminus)\n",
    "\n",
    "print(\"Success!\")"
   ]
  },
  {
   "cell_type": "markdown",
   "metadata": {
    "deletable": false,
    "editable": false,
    "nbgrader": {
     "cell_type": "markdown",
     "checksum": "83f057472ad27b3c9d308c2eaadcd1af",
     "grade": false,
     "grade_id": "cell-92b1c7ee484bb5c3",
     "locked": true,
     "schema_version": 3,
     "solution": false,
     "task": false
    }
   },
   "source": [
    "### 3. Modify the array based on index (5 points)\n",
    "\n",
    "Write a function, <code>threshold</code>, which takes an array and returns a new array with values thresholded by the mean of the original array. The new array will have 1 where values in the original array are greater than the mean, 0 where they are equal to the mean, and -1 where they are less than the mean.\n"
   ]
  },
  {
   "cell_type": "code",
   "execution_count": 8,
   "metadata": {
    "deletable": false,
    "nbgrader": {
     "cell_type": "code",
     "checksum": "1a30356d8f579c80d70ee27917e6cf00",
     "grade": false,
     "grade_id": "threshold",
     "locked": false,
     "schema_version": 3,
     "solution": true
    }
   },
   "outputs": [],
   "source": [
    "def threshold(arr):\n",
    "    \"\"\"Computes the mean of the given array, and returns a new array which\n",
    "    is 1 where values in the original array are greater than the mean, 0 where\n",
    "    they are equal to the mean, and -1 where they are less than the mean.\n",
    "\n",
    "    Remember that if you want to create a copy of an array, you need to use\n",
    "    `arr.copy()`.\n",
    "    \n",
    "    Hint: your solution should use boolean indexing.\n",
    "    \n",
    "    Parameters\n",
    "    ----------\n",
    "    arr : numpy.ndarray\n",
    "\n",
    "    Returns\n",
    "    -------\n",
    "    new_arr : thresholded version of `arr`\n",
    "    \n",
    "    \"\"\"\n",
    "    # compute mean \n",
    "    mean_arr = np.mean(arr)\n",
    "    \n",
    "    # make copy\n",
    "    new_arr = np.copy(arr)\n",
    "    \n",
    "    new_arr[arr > mean_arr] = 1\n",
    "    \n",
    "    new_arr[arr < mean_arr] = -1\n",
    "    \n",
    "    new_arr[arr == mean_arr] = 0\n",
    "            \n",
    "    return new_arr"
   ]
  },
  {
   "cell_type": "code",
   "execution_count": 9,
   "metadata": {
    "deletable": false,
    "editable": false,
    "nbgrader": {
     "cell_type": "code",
     "checksum": "52ebd96c16c823c878d0c2ccae7a7455",
     "grade": true,
     "grade_id": "test_threshold_1",
     "locked": false,
     "points": 3,
     "schema_version": 3,
     "solution": false
    }
   },
   "outputs": [
    {
     "name": "stdout",
     "output_type": "stream",
     "text": [
      "These worked! There are a few more in the next cell...\n"
     ]
    }
   ],
   "source": [
    "\"\"\"Try a few obvious threshold cases.\"\"\"\n",
    "from numpy.testing import assert_array_equal\n",
    "assert_array_equal(threshold(np.array([1, 2, 1, 1])), np.array([-1, 1, -1, -1]))\n",
    "assert_array_equal(threshold(np.array([1, 0, 1, 0])), np.array([1, -1, 1, -1]))\n",
    "assert_array_equal(threshold(np.array([1, 0.5, 0, 0.5])), np.array([1, 0, -1, 0]))\n",
    "\n",
    "print(\"These worked! There are a few more in the next cell...\")"
   ]
  },
  {
   "cell_type": "code",
   "execution_count": 10,
   "metadata": {
    "deletable": false,
    "editable": false,
    "nbgrader": {
     "cell_type": "code",
     "checksum": "96fdbef965fd3a0f1caf787bdc7524a8",
     "grade": true,
     "grade_id": "test_threshold_2",
     "locked": false,
     "points": 2,
     "schema_version": 3,
     "solution": false
    }
   },
   "outputs": [
    {
     "name": "stdout",
     "output_type": "stream",
     "text": [
      "Success!\n"
     ]
    }
   ],
   "source": [
    "\"\"\"Try another case\"\"\"\n",
    "x = np.array([[-2, -1, -5, 0.1], [1.7, -3.8, 0.5, 0.6]])\n",
    "y = threshold(x)\n",
    "assert_array_equal(y, np.array([[-1, 1, -1, 1], [1, -1, 1, 1]]))\n",
    "print(\"Success!\")"
   ]
  },
  {
   "cell_type": "markdown",
   "metadata": {
    "deletable": false,
    "editable": false,
    "nbgrader": {
     "cell_type": "markdown",
     "checksum": "8e394bd2a7f931d69c37990c5a430199",
     "grade": false,
     "grade_id": "cell-a158895d687b87ed",
     "locked": true,
     "schema_version": 3,
     "solution": false,
     "task": false
    }
   },
   "source": [
    "### 4. Multiply arrays (3 points)\n",
    "\n",
    "Write function `multiply_arrays` which takes in two arrays, $O$ and $P$, of shape (5,5,3) and (5,5), respectively, and returns $O$ times $P$, and $P$ times the transpose of $O$, respectively. Use the operator `*` for multiplication."
   ]
  },
  {
   "cell_type": "code",
   "execution_count": 11,
   "metadata": {
    "deletable": false,
    "nbgrader": {
     "cell_type": "code",
     "checksum": "43c279daaa15a4c6b8281892895e2b99",
     "grade": false,
     "grade_id": "array_multiply",
     "locked": false,
     "schema_version": 3,
     "solution": true,
     "task": false
    }
   },
   "outputs": [],
   "source": [
    "def multiply_arrays(O, P):\n",
    "    \"\"\"Returns O times P and P times O transpose.\n",
    "    \n",
    "    Parameters\n",
    "    ----------\n",
    "    O: numpy array\n",
    "        shape 5 x 5 x 3\n",
    "    P: numpy array\n",
    "        Shape 5 x 5\n",
    "    \n",
    "    Returns\n",
    "    -------\n",
    "    (O * P), (P * transpose of O) \n",
    "    \"\"\"\n",
    "    P_newaxis = P[:,:,np.newaxis]\n",
    "    \n",
    "    O_multi_P = O * P_newaxis\n",
    "    \n",
    "    P_trans_O = P * O.T\n",
    "    \n",
    "    return O_multi_P, P_trans_O"
   ]
  },
  {
   "cell_type": "code",
   "execution_count": 12,
   "metadata": {
    "deletable": false,
    "editable": false,
    "nbgrader": {
     "cell_type": "code",
     "checksum": "8adc428f89c86ad61d3fc5cc598a9fcc",
     "grade": true,
     "grade_id": "test_array_multiply_1",
     "locked": true,
     "points": 2,
     "schema_version": 3,
     "solution": false,
     "task": false
    }
   },
   "outputs": [],
   "source": [
    "\"\"\"(1 point) Test code for the previous function. This cell should NOT give any errors when it is run.\"\"\"\n",
    "\n",
    "Q = np.random.rand(5, 5, 3)\n",
    "R = np.random.rand(5, 5)\n",
    "S, T = multiply_arrays(Q, R)\n",
    "\n",
    "assert S.shape == (5, 5, 3)\n"
   ]
  },
  {
   "cell_type": "code",
   "execution_count": 13,
   "metadata": {
    "deletable": false,
    "editable": false,
    "nbgrader": {
     "cell_type": "code",
     "checksum": "f6ef758e7c9e1d35430489613f03f667",
     "grade": true,
     "grade_id": "test_array_multiply_2",
     "locked": true,
     "points": 1,
     "schema_version": 3,
     "solution": false,
     "task": false
    }
   },
   "outputs": [
    {
     "name": "stdout",
     "output_type": "stream",
     "text": [
      "Success!\n"
     ]
    }
   ],
   "source": [
    "\"\"\"(1 point) Test code for the previous function. This cell should NOT give any errors when it is run.\"\"\"\n",
    "\n",
    "assert T.shape == (3, 5, 5)\n",
    "\n",
    "print(\"Success!\")"
   ]
  },
  {
   "cell_type": "markdown",
   "metadata": {
    "deletable": false,
    "editable": false,
    "nbgrader": {
     "cell_type": "markdown",
     "checksum": "1bb47643101df318061e36142c8753d6",
     "grade": false,
     "grade_id": "cell-933a5095efe6be0a",
     "locked": true,
     "schema_version": 3,
     "solution": false,
     "task": false
    }
   },
   "source": [
    "### 5. Fitting a line (2 points)\n",
    "\n",
    "Write a function `xatfive`. Use `numpy` polynomial functions to fit the input values `x` and `y` to a line (i.e., first order polynomial), and return the expected value based on that fit at `x=5.0`\n"
   ]
  },
  {
   "cell_type": "code",
   "execution_count": 14,
   "metadata": {
    "deletable": false,
    "nbgrader": {
     "cell_type": "code",
     "checksum": "8ec95bf16b6325fe4ff58675fbbb5116",
     "grade": false,
     "grade_id": "fit",
     "locked": false,
     "schema_version": 3,
     "solution": true,
     "task": false
    }
   },
   "outputs": [],
   "source": [
    "def xatfive(x, y):\n",
    "    \n",
    "    \"\"\"Returns the expected fitted value at x = 5.\n",
    "    \n",
    "    Parameters\n",
    "    ----------\n",
    "    x: 1-D numpy array\n",
    "    y: 1-D numpy array\n",
    "    \n",
    "    Returns\n",
    "    -------\n",
    "    Expected fit at x=5 of linear fit of random data x and y\n",
    "    \n",
    "    \"\"\"\n",
    "    fit = np.polyfit(x, y,1)\n",
    "    result = fit[np.where(x==5)]\n",
    "    \n",
    "    return result"
   ]
  },
  {
   "cell_type": "code",
   "execution_count": 15,
   "metadata": {
    "deletable": false,
    "editable": false,
    "nbgrader": {
     "cell_type": "code",
     "checksum": "b82ffa03c6c7c030d89088c6e2f898ec",
     "grade": true,
     "grade_id": "test_fit",
     "locked": true,
     "points": 2,
     "schema_version": 3,
     "solution": false,
     "task": false
    }
   },
   "outputs": [
    {
     "name": "stdout",
     "output_type": "stream",
     "text": [
      "Success!\n"
     ]
    }
   ],
   "source": [
    "x = np.array([ 0.29646582,  5.9083115 ,  2.97347063,  0.77284422,  9.39502588,\n",
    "               2.15227687,  6.1158336 ,  4.56733438,  9.9835841 ,  9.72066327])\n",
    "y = np.array([  1.18875319,  17.82393043,   9.1241461 ,   2.5398729 ,\n",
    "               28.48371414,   6.5234553 ,  18.49199616,  13.91623748,\n",
    "               29.9688738 ,  29.41331221])\n",
    "\n",
    "assert np.allclose(xatfive(x, y), 15.182532735557906)\n",
    "print(\"Success!\")"
   ]
  },
  {
   "cell_type": "markdown",
   "metadata": {
    "deletable": false,
    "editable": false,
    "nbgrader": {
     "cell_type": "markdown",
     "checksum": "5225dbcd2feba0d98438397d5d047fb3",
     "grade": false,
     "grade_id": "cell-406a04d2a06beb21",
     "locked": true,
     "schema_version": 3,
     "solution": false,
     "task": false
    }
   },
   "source": [
    "# Graduate student problems below"
   ]
  },
  {
   "cell_type": "markdown",
   "metadata": {
    "deletable": false,
    "editable": false,
    "nbgrader": {
     "cell_type": "markdown",
     "checksum": "b18e5d34ef9929b944b9251994e2fdd3",
     "grade": false,
     "grade_id": "cell-9068c2e1acc65538",
     "locked": true,
     "schema_version": 3,
     "solution": false,
     "task": false
    }
   },
   "source": [
    "### 6. Array manipulation (3 points)"
   ]
  },
  {
   "cell_type": "markdown",
   "metadata": {
    "deletable": false,
    "editable": false,
    "nbgrader": {
     "cell_type": "markdown",
     "checksum": "a29aa8c7f24c6d58e7b750e721bfbb1c",
     "grade": false,
     "grade_id": "cell-c066b4c35fae16de",
     "locked": true,
     "schema_version": 3,
     "solution": false,
     "task": false
    }
   },
   "source": [
    "Some coding warm up before you complete the problem below. We have `experiment_data.npy` file that contains the trial results for all participants at different time slots. Each row represents the same participant at all time slots and each column represents the same time slot containing all participants. This file contains 2-D data. We also have `experiment_participants.npy` that contains all the ids for participants. This file contains 1-D data, and the number of elements is equal to the number of rows in the first 2-D file."
   ]
  },
  {
   "cell_type": "code",
   "execution_count": 16,
   "metadata": {
    "deletable": false,
    "editable": false,
    "nbgrader": {
     "cell_type": "code",
     "checksum": "34e010dd177cbf6065a091e498949543",
     "grade": false,
     "grade_id": "cell-51a095271048cbf4",
     "locked": true,
     "schema_version": 3,
     "solution": false,
     "task": false
    }
   },
   "outputs": [
    {
     "name": "stdout",
     "output_type": "stream",
     "text": [
      "[[1668.07869346  774.38921876 3161.14983152 ... 2359.05394666\n",
      "   784.36404676  448.33416341]\n",
      " [2419.38185232  809.18389145 2766.62648929 ... 1159.47379735\n",
      "  1330.44887992 1842.3268586 ]\n",
      " [2221.02887591 1496.00517071  354.95889145 ... 1355.74575912\n",
      "  1205.29137942 1385.71283365]\n",
      " ...\n",
      " [1654.50469248  518.3271927  5127.58599224 ... 2544.1042064\n",
      "   624.07607332 1029.57386246]\n",
      " [ 480.68016502 4690.12200498 1520.27397139 ... 1000.40541618\n",
      "   988.73647145  378.43452948]\n",
      " [1823.42891807 3680.12951133 3522.94413167 ...  591.4133153\n",
      "   383.26367525 1768.50528483]]\n",
      "(50, 300)\n"
     ]
    }
   ],
   "source": [
    "data = np.load(\"experiment_data.npy\")\n",
    "\n",
    "print(data)\n",
    "\n",
    "print(data.shape)"
   ]
  },
  {
   "cell_type": "code",
   "execution_count": 17,
   "metadata": {
    "deletable": false,
    "editable": false,
    "nbgrader": {
     "cell_type": "code",
     "checksum": "b1fbb9f610cd6affcda0bacb915549b8",
     "grade": false,
     "grade_id": "cell-a7fe71e38abbb312",
     "locked": true,
     "schema_version": 3,
     "solution": false,
     "task": false
    }
   },
   "outputs": [
    {
     "name": "stdout",
     "output_type": "stream",
     "text": [
      "['p_045' 'p_039' 'p_027' 'p_023' 'p_041' 'p_008' 'p_025' 'p_019' 'p_036'\n",
      " 'p_049' 'p_050' 'p_029' 'p_032' 'p_006' 'p_028' 'p_034' 'p_044' 'p_016'\n",
      " 'p_010' 'p_017' 'p_022' 'p_033' 'p_042' 'p_009' 'p_047' 'p_035' 'p_002'\n",
      " 'p_014' 'p_020' 'p_043' 'p_003' 'p_012' 'p_030' 'p_015' 'p_011' 'p_018'\n",
      " 'p_004' 'p_040' 'p_001' 'p_031' 'p_005' 'p_013' 'p_046' 'p_038' 'p_021'\n",
      " 'p_026' 'p_024' 'p_048' 'p_007' 'p_037']\n",
      "(50,)\n"
     ]
    }
   ],
   "source": [
    "participants = np.load(\"experiment_participants.npy\")\n",
    "\n",
    "print(participants)\n",
    "\n",
    "print(participants.shape)"
   ]
  },
  {
   "cell_type": "markdown",
   "metadata": {
    "deletable": false,
    "editable": false,
    "nbgrader": {
     "cell_type": "markdown",
     "checksum": "50a7831faa743067ec303171b4f0e85e",
     "grade": false,
     "grade_id": "cell-8aa978f7e721ef48",
     "locked": true,
     "schema_version": 3,
     "solution": false,
     "task": false
    }
   },
   "source": [
    "In other words, the first row of `data` corresponds to the first element of `participants` (so participant 45), the second row of `data` was given by participant 39, and so on.\n",
    "\n",
    "if we wanted to pull out just the responses for participant 2, a natural approach would be to use boolean indexing:"
   ]
  },
  {
   "cell_type": "code",
   "execution_count": 18,
   "metadata": {
    "deletable": false,
    "editable": false,
    "nbgrader": {
     "cell_type": "code",
     "checksum": "efd616adad7bb6a0b38d12c9734d2515",
     "grade": false,
     "grade_id": "cell-befc150fe41aad22",
     "locked": true,
     "schema_version": 3,
     "solution": false,
     "task": false
    }
   },
   "outputs": [
    {
     "data": {
      "text/plain": [
       "array([False, False, False, False, False, False, False, False, False,\n",
       "       False, False, False, False, False, False, False, False, False,\n",
       "       False, False, False, False, False, False, False, False,  True,\n",
       "       False, False, False, False, False, False, False, False, False,\n",
       "       False, False, False, False, False, False, False, False, False,\n",
       "       False, False, False, False, False])"
      ]
     },
     "execution_count": 18,
     "metadata": {},
     "output_type": "execute_result"
    }
   ],
   "source": [
    "participants == 'p_002'"
   ]
  },
  {
   "cell_type": "code",
   "execution_count": 19,
   "metadata": {
    "deletable": false,
    "editable": false,
    "nbgrader": {
     "cell_type": "code",
     "checksum": "15cad9dd9b06a4cabd7e95afaa7ae34e",
     "grade": false,
     "grade_id": "cell-ad2c5b18eac23ede",
     "locked": true,
     "schema_version": 3,
     "solution": false,
     "task": false
    }
   },
   "outputs": [
    {
     "data": {
      "text/plain": [
       "(1, 300)"
      ]
     },
     "execution_count": 19,
     "metadata": {},
     "output_type": "execute_result"
    }
   ],
   "source": [
    "data[participants == 'p_002'].shape"
   ]
  },
  {
   "cell_type": "markdown",
   "metadata": {
    "deletable": false,
    "editable": false,
    "nbgrader": {
     "cell_type": "markdown",
     "checksum": "2d0261607abb9205c8cb49ddf40af271",
     "grade": false,
     "grade_id": "cell-5a599964d2b2554c",
     "locked": true,
     "schema_version": 3,
     "solution": false,
     "task": false
    }
   },
   "source": [
    "Another way that we could do this would be to determine the index of participant 2, and then use that to index into data. To do this, we can use a function called np.where, which returns the indices of elements that are true:"
   ]
  },
  {
   "cell_type": "code",
   "execution_count": 20,
   "metadata": {
    "deletable": false,
    "editable": false,
    "nbgrader": {
     "cell_type": "code",
     "checksum": "d1922f513b32a42e84ba5dcff4446309",
     "grade": false,
     "grade_id": "cell-955460ba476fac80",
     "locked": true,
     "schema_version": 3,
     "solution": false,
     "task": false
    }
   },
   "outputs": [
    {
     "data": {
      "text/plain": [
       "(array([26]),)"
      ]
     },
     "execution_count": 20,
     "metadata": {},
     "output_type": "execute_result"
    }
   ],
   "source": [
    "np.where(participants == 'p_002')"
   ]
  },
  {
   "cell_type": "code",
   "execution_count": 21,
   "metadata": {
    "deletable": false,
    "editable": false,
    "nbgrader": {
     "cell_type": "code",
     "checksum": "759b8987c4eb21a1b9d5b6dc71710e8e",
     "grade": false,
     "grade_id": "cell-78116ff81b394602",
     "locked": true,
     "schema_version": 3,
     "solution": false,
     "task": false
    }
   },
   "outputs": [
    {
     "data": {
      "text/plain": [
       "(1, 300)"
      ]
     },
     "execution_count": 21,
     "metadata": {},
     "output_type": "execute_result"
    }
   ],
   "source": [
    "data[np.where(participants == 'p_002')].shape"
   ]
  },
  {
   "cell_type": "markdown",
   "metadata": {
    "deletable": false,
    "editable": false,
    "nbgrader": {
     "cell_type": "markdown",
     "checksum": "1f813d063b51d1ea71c21cc822fbeab3",
     "grade": false,
     "grade_id": "cell-067ae9c5bc8278c7",
     "locked": true,
     "schema_version": 3,
     "solution": false,
     "task": false
    }
   },
   "source": [
    "#### Now comes the question\n",
    "Write a function called `participant_mean` that takes as arguments a participant name/id, the data, and the list of participant names/ids, and computes the average trial results for the given participant.\n",
    "\n",
    "Note that A clear statement should be printed if more than one participant has the given name/id. **Even if you only have one participant that has the given name, you still need to write this code block for future-proof**. The statement can be something like \"more than one participant with id: xxx\" (xxx is the participant name). In this case, you need to compute the average trial results for all participants.\n"
   ]
  },
  {
   "cell_type": "code",
   "execution_count": 22,
   "metadata": {
    "deletable": false,
    "nbgrader": {
     "cell_type": "code",
     "checksum": "591f417d85b1d89320ed42428d7135ac",
     "grade": false,
     "grade_id": "participant_mean",
     "locked": false,
     "schema_version": 3,
     "solution": true
    }
   },
   "outputs": [],
   "source": [
    "def participant_mean(participant, data, participants):\n",
    "    \"\"\"Computes the mean response for the given participant. \n",
    "    \n",
    "    A clear statement describing the problem should be printed if more than one participant has the given name.\n",
    "    \n",
    "    Hint: your solution should use `np.where`.\n",
    "    \n",
    "    Parameters\n",
    "    ----------\n",
    "    participant: string\n",
    "        The name/id of the participant\n",
    "    data: numpy.ndarray with shape (n, m)\n",
    "        Rows correspond to participants, columns to trials\n",
    "    participants: numpy.ndarray with shape(n,)\n",
    "        A string array containing participant names/ids, corresponding to\n",
    "        the rows of the `data` array.\n",
    "        \n",
    "    Returns\n",
    "    -------\n",
    "    float: the mean response of the participant over all trials\n",
    "    \n",
    "    \"\"\"\n",
    "    # find where participant matches participant data\n",
    "    \n",
    "    new_data = data[np.where(participants == participant)]\n",
    "    \n",
    "    # array of means of columns\n",
    "    mean_of_columns = np.mean(new_data, axis = 1)\n",
    "    result = mean_of_columns\n",
    "    \n",
    "    # if statement when there is more than one participant with the same id i.e: 'a' then,\n",
    "    # print the id or else return the mean of the column for that participant \n",
    "     \n",
    "    if len(new_data) > 1:\n",
    "        print('There is more than one participant with id: {} !'.format(participant))\n",
    "        return result\n",
    "    else:\n",
    "        return result"
   ]
  },
  {
   "cell_type": "code",
   "execution_count": 23,
   "metadata": {
    "deletable": false,
    "editable": false,
    "nbgrader": {
     "cell_type": "code",
     "checksum": "020acbfe81bbf22d8ab86d3124a07005",
     "grade": true,
     "grade_id": "test_participant_mean_1",
     "locked": false,
     "points": 2,
     "schema_version": 3,
     "solution": false
    }
   },
   "outputs": [
    {
     "name": "stdout",
     "output_type": "stream",
     "text": [
      "These work! More in next cell...\n"
     ]
    }
   ],
   "source": [
    "\"\"\"Check for correct answers with the example experiment data.\"\"\"\n",
    "from numpy.testing import assert_allclose\n",
    "data = np.load(\"experiment_data.npy\")\n",
    "participants = np.load(\"experiment_participants.npy\")\n",
    "assert_allclose(participant_mean('p_002', data, participants), 1857.7013113499095)\n",
    "assert_allclose(participant_mean('p_047', data, participants), 1906.0651466520821)\n",
    "assert_allclose(participant_mean('p_013', data, participants), 1718.4379910225193)\n",
    "print(\"These work! More in next cell...\")"
   ]
  },
  {
   "cell_type": "code",
   "execution_count": 24,
   "metadata": {
    "deletable": false,
    "editable": false,
    "nbgrader": {
     "cell_type": "code",
     "checksum": "fb6ec4191fa067f804fc469ac50dbb12",
     "grade": true,
     "grade_id": "test_participant_mean_2",
     "locked": false,
     "points": 1,
     "schema_version": 3,
     "solution": false
    }
   },
   "outputs": [
    {
     "name": "stdout",
     "output_type": "stream",
     "text": [
      "Success!\n"
     ]
    }
   ],
   "source": [
    "\"\"\"Check for correct answers for some different data.\"\"\"\n",
    "data = np.arange(32).reshape((4, 8))\n",
    "participants = np.array(['a', 'b', 'c', 'd'])\n",
    "assert_allclose(participant_mean('a', data, participants), 3.5)\n",
    "assert_allclose(participant_mean('b', data, participants), 11.5)\n",
    "assert_allclose(participant_mean('c', data, participants), 19.5)\n",
    "assert_allclose(participant_mean('d', data, participants), 27.5)\n",
    "print(\"Success!\")"
   ]
  }
 ],
 "metadata": {
  "kernelspec": {
   "display_name": "Python 3 (ipykernel)",
   "language": "python",
   "name": "python3"
  },
  "language_info": {
   "codemirror_mode": {
    "name": "ipython",
    "version": 3
   },
   "file_extension": ".py",
   "mimetype": "text/x-python",
   "name": "python",
   "nbconvert_exporter": "python",
   "pygments_lexer": "ipython3",
   "version": "3.8.10"
  },
  "toc": {
   "base_numbering": 1,
   "nav_menu": {},
   "number_sections": false,
   "sideBar": true,
   "skip_h1_title": false,
   "title_cell": "Table of Contents",
   "title_sidebar": "Contents",
   "toc_cell": false,
   "toc_position": {},
   "toc_section_display": true,
   "toc_window_display": false
  }
 },
 "nbformat": 4,
 "nbformat_minor": 1
}
