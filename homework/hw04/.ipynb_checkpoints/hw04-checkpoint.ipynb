{
 "cells": [
  {
   "cell_type": "markdown",
   "metadata": {},
   "source": [
    "**Before you turn this problem in, make sure your notebook is in tidy format and everything runs as expected:**\n",
    "\n",
    "1. When the problem needs you to write codes inside a function, just directly write codes inside the already-existing functions. Don't create new functions and write your code in the new functions. \n",
    "\n",
    "2. Don't modify the original TEST cells! You can insert new testing cells to test your code when doing your homework. But make sure to delete those **new testing cells** after you finish your problem.\n",
    "\n",
    "3. After you complete all problems, to insure there is no error in your notebook, do the following: first, **restart the kernel** (in the menubar, select Kernel$\\rightarrow$Restart) and second **run all cells** (in the menubar, select Cell$\\rightarrow$Run All). **Note that this step is very important and can help you catch the error!**\n",
    "\n",
    "**Make sure you delete `raise NotImplementedError()`** (if existing) inside the function before you write your code and fill in any place that says \"YOUR CODE HERE\" or \"YOUR ANSWER HERE\":"
   ]
  },
  {
   "cell_type": "code",
   "execution_count": 1,
   "metadata": {},
   "outputs": [],
   "source": [
    "# fill in your name\n",
    "NAME = \"Dylan Elliott\""
   ]
  },
  {
   "cell_type": "markdown",
   "metadata": {},
   "source": [
    "---"
   ]
  },
  {
   "cell_type": "markdown",
   "metadata": {
    "deletable": false,
    "editable": false,
    "nbgrader": {
     "cell_type": "markdown",
     "checksum": "2c22198134537622b70a90f5cd1c96d3",
     "grade": false,
     "grade_id": "cell-c0563c11a2dbc9d6",
     "locked": true,
     "schema_version": 3,
     "solution": false
    }
   },
   "source": [
    "# Numerical Python"
   ]
  },
  {
   "cell_type": "code",
   "execution_count": 2,
   "metadata": {
    "deletable": false,
    "editable": false,
    "nbgrader": {
     "cell_type": "code",
     "checksum": "567d7c2787eb6e24a4d7baea3d0c8aa6",
     "grade": false,
     "grade_id": "cell-88c9e8c49e5f9c71",
     "locked": true,
     "schema_version": 3,
     "solution": false,
     "task": false
    }
   },
   "outputs": [],
   "source": [
    "# ALWAYS RUN THIS CELL FIRST\n",
    "import numpy as np"
   ]
  },
  {
   "cell_type": "markdown",
   "metadata": {
    "deletable": false,
    "editable": false,
    "nbgrader": {
     "cell_type": "markdown",
     "checksum": "f1662ba872a90ae2b70478d63c76b86c",
     "grade": false,
     "grade_id": "cell-b7457ad18e009228",
     "locked": true,
     "schema_version": 3,
     "solution": false
    }
   },
   "source": [
    "### 1. Vector manipulation (0.5 points)\n",
    "\n",
    "The word \"vector\" is commonly used to mean a one-dimensional array. \n",
    "Create a vector of size 10 called `vectorm` that contains zeros but with the fifth value as 2."
   ]
  },
  {
   "cell_type": "code",
   "execution_count": 3,
   "metadata": {
    "deletable": false,
    "nbgrader": {
     "cell_type": "code",
     "checksum": "e70f75646ba5687616e39f509d50c051",
     "grade": false,
     "grade_id": "vector-manipulation",
     "locked": false,
     "schema_version": 3,
     "solution": true
    }
   },
   "outputs": [],
   "source": [
    "# YOUR CODE HERE\n",
    "vectorm = np.array([0,0,0,0,2,0,0,0,0,0])"
   ]
  },
  {
   "cell_type": "code",
   "execution_count": 4,
   "metadata": {
    "deletable": false,
    "editable": false,
    "nbgrader": {
     "cell_type": "code",
     "checksum": "8553be22b9a74439dd1e6397ae3f505d",
     "grade": true,
     "grade_id": "test_vector-manipulation",
     "locked": true,
     "points": 0.5,
     "schema_version": 3,
     "solution": false
    }
   },
   "outputs": [
    {
     "name": "stdout",
     "output_type": "stream",
     "text": [
      "Success!\n"
     ]
    }
   ],
   "source": [
    "\"\"\"(0.5 point) Test code for the previous function. This cell should NOT give any errors when it is run.\"\"\"\n",
    "\n",
    "assert isinstance(vectorm, np.ndarray)\n",
    "assert vectorm[:4].all() == 0\n",
    "assert vectorm[4] == 2\n",
    "assert vectorm[5:].all() == 0\n",
    "\n",
    "print(\"Success!\")"
   ]
  },
  {
   "cell_type": "markdown",
   "metadata": {
    "deletable": false,
    "editable": false,
    "nbgrader": {
     "cell_type": "markdown",
     "checksum": "919e5f42ef0a66f8370370d47912b971",
     "grade": false,
     "grade_id": "cell-e96ee956469814d0",
     "locked": true,
     "schema_version": 3,
     "solution": false
    }
   },
   "source": [
    "### 2. Vector range (0.5 points)\n",
    "\n",
    "Create a vector called `vectorr` with values ranging from 10 to 59, inclusive (aka, also including 10 and 59). Do not write out each element to create the array."
   ]
  },
  {
   "cell_type": "code",
   "execution_count": 5,
   "metadata": {
    "deletable": false,
    "nbgrader": {
     "cell_type": "code",
     "checksum": "d8c523146cd563e6a7cb303d61afda69",
     "grade": false,
     "grade_id": "vector-range",
     "locked": false,
     "schema_version": 3,
     "solution": true
    }
   },
   "outputs": [],
   "source": [
    "# YOUR CODE HERE\n",
    "vectorr = np.arange(10,60)\n"
   ]
  },
  {
   "cell_type": "code",
   "execution_count": 6,
   "metadata": {
    "deletable": false,
    "editable": false,
    "nbgrader": {
     "cell_type": "code",
     "checksum": "7f4cdd8d7e0754104d68545d276bee28",
     "grade": true,
     "grade_id": "test_vector-range",
     "locked": true,
     "points": 0.5,
     "schema_version": 3,
     "solution": false
    }
   },
   "outputs": [
    {
     "name": "stdout",
     "output_type": "stream",
     "text": [
      "Success!\n"
     ]
    }
   ],
   "source": [
    "\"\"\"(0.5 point) Test code for the previous function. This cell should NOT give any errors when it is run.\"\"\"\n",
    "\n",
    "assert np.array_equal(vectorr, np.array([10, 11, 12, 13, 14, 15, 16, 17, 18, 19, 20, 21, 22, 23, 24, 25, 26,\n",
    "       27, 28, 29, 30, 31, 32, 33, 34, 35, 36, 37, 38, 39, 40, 41, 42, 43, 44, 45, 46, 47, 48, 49, 50, 51, 52, 53, 54, 55, 56, 57, 58, 59]))\n",
    "assert isinstance(vectorr, np.ndarray)\n",
    "\n",
    "print(\"Success!\")"
   ]
  },
  {
   "cell_type": "markdown",
   "metadata": {
    "deletable": false,
    "editable": false,
    "nbgrader": {
     "cell_type": "markdown",
     "checksum": "46cd8da90dd0f84efa7cdf96628d8d52",
     "grade": false,
     "grade_id": "cell-b1556cbe10920a06",
     "locked": true,
     "schema_version": 3,
     "solution": false
    }
   },
   "source": [
    "### 3. Reverse a vector (1 point)\n",
    "\n",
    "Write a function, `reverse(x)` which reverses a vector, so that the first element becomes the last element."
   ]
  },
  {
   "cell_type": "code",
   "execution_count": 7,
   "metadata": {
    "deletable": false,
    "nbgrader": {
     "cell_type": "code",
     "checksum": "573e24f417759b4fb5354a8fed4def62",
     "grade": false,
     "grade_id": "reverse",
     "locked": false,
     "schema_version": 3,
     "solution": true
    }
   },
   "outputs": [],
   "source": [
    "def reverse(vec):\n",
    "    \"\"\"return a 1D vector with the elements reversed\n",
    "\n",
    "    Input\n",
    "    -----\n",
    "        x: 1D array\n",
    "\n",
    "    Output\n",
    "    ------\n",
    "        res: 1D array, with the elements of `x` reversed\n",
    "    \"\"\"\n",
    "    # YOUR CODE HERE\n",
    "    backwards = vec[::-1]\n",
    "    return backwards"
   ]
  },
  {
   "cell_type": "code",
   "execution_count": 8,
   "metadata": {
    "deletable": false,
    "editable": false,
    "nbgrader": {
     "cell_type": "code",
     "checksum": "783b22c248ca0336ec02de5a77e6dada",
     "grade": true,
     "grade_id": "test_reverse",
     "locked": true,
     "points": 1,
     "schema_version": 3,
     "solution": false
    }
   },
   "outputs": [
    {
     "name": "stdout",
     "output_type": "stream",
     "text": [
      "Success!\n"
     ]
    }
   ],
   "source": [
    "\"\"\"(1 point) Test code for the previous function. This cell should NOT give any errors when it is run.\"\"\"\n",
    "\n",
    "vec = np.array([1, 2, 3, 4])\n",
    "vector_reversed = reverse(vec)\n",
    "assert np.array_equal(vector_reversed, np.array([4, 3, 2, 1]))\n",
    "vec = np.array([-1, 9, 2.38])\n",
    "vector_reversed = reverse(vec)\n",
    "assert np.array_equal(vector_reversed, np.array([2.38, 9, -1]))\n",
    "assert isinstance(vector_reversed, np.ndarray)\n",
    "\n",
    "print(\"Success!\")"
   ]
  },
  {
   "cell_type": "markdown",
   "metadata": {
    "deletable": false,
    "editable": false,
    "nbgrader": {
     "cell_type": "markdown",
     "checksum": "278fbab882fbbfa8f0349e575354ee83",
     "grade": false,
     "grade_id": "cell-a91cca8e0f314c40",
     "locked": true,
     "schema_version": 3,
     "solution": false
    }
   },
   "source": [
    "### 4. Array with random values (1 point)\n",
    "\n",
    "Create a 10x20x3 array called `random_array` that contains normally distributed ($\\mu=0,~\\sigma=1)$ random values."
   ]
  },
  {
   "cell_type": "code",
   "execution_count": 9,
   "metadata": {
    "deletable": false,
    "nbgrader": {
     "cell_type": "code",
     "checksum": "4947bd55f5e49a87e8b09310cb8243de",
     "grade": false,
     "grade_id": "random_array",
     "locked": false,
     "schema_version": 3,
     "solution": true
    }
   },
   "outputs": [],
   "source": [
    "# YOUR CODE HERE\n",
    "random_array = np.random.normal(loc=0, scale=1, size=600)\n",
    "random_array = random_array.reshape(10,20,3)"
   ]
  },
  {
   "cell_type": "code",
   "execution_count": 10,
   "metadata": {
    "deletable": false,
    "editable": false,
    "nbgrader": {
     "cell_type": "code",
     "checksum": "0a7be02bc3f1c1f819571ca187050c3b",
     "grade": true,
     "grade_id": "test_random_array",
     "locked": true,
     "points": 1,
     "schema_version": 3,
     "solution": false
    }
   },
   "outputs": [
    {
     "name": "stdout",
     "output_type": "stream",
     "text": [
      "Success!\n"
     ]
    }
   ],
   "source": [
    "\"\"\"(1 point) Test code for the previous function. This cell should NOT give any errors when it is run.\"\"\"\n",
    "\n",
    "assert random_array.shape == (10, 20, 3)  # check for shape\n",
    "assert np.allclose(random_array.mean(), 0, atol=0.1)\n",
    "assert np.allclose(random_array.std(), 1, atol=0.1)\n",
    "\n",
    "print(\"Success!\")"
   ]
  },
  {
   "cell_type": "markdown",
   "metadata": {
    "deletable": false,
    "editable": false,
    "nbgrader": {
     "cell_type": "markdown",
     "checksum": "1dd155da023e0e04becae67e008b333a",
     "grade": false,
     "grade_id": "cell-fc382a25114485bd",
     "locked": true,
     "schema_version": 3,
     "solution": false
    }
   },
   "source": [
    "### 5. Vector without end points (1 point)\n",
    "\n",
    "Create a vector of size 10 called `vector_end` which has values ranging uniformly in sequence from 0 to 1 (not random sampling), both excluded. Put it in another way, the 10 elements should be equally-spaced between 0 and 1 (as shown in the picture). Do not explicitly write out the values in an array. Instead, use `np.linspace` and modify the resultant vector by indexing.\n",
    "\n",
    "![0-10-number.png](0-10-number.png)'"
   ]
  },
  {
   "cell_type": "code",
   "execution_count": 11,
   "metadata": {
    "deletable": false,
    "nbgrader": {
     "cell_type": "code",
     "checksum": "df4f13495cc8c4ec552d1c39385eabf6",
     "grade": false,
     "grade_id": "vector_end",
     "locked": false,
     "schema_version": 3,
     "solution": true
    }
   },
   "outputs": [],
   "source": [
    "# YOUR CODE HERE\n",
    "vector_end = np.linspace(0,1,12)[1:-1]\n"
   ]
  },
  {
   "cell_type": "code",
   "execution_count": 12,
   "metadata": {
    "deletable": false,
    "editable": false,
    "nbgrader": {
     "cell_type": "code",
     "checksum": "0b984fba4f89e60bb7f22bb8a6e1d768",
     "grade": true,
     "grade_id": "test_vector_end",
     "locked": true,
     "points": 1,
     "schema_version": 3,
     "solution": false
    }
   },
   "outputs": [
    {
     "name": "stdout",
     "output_type": "stream",
     "text": [
      "Success!\n"
     ]
    }
   ],
   "source": [
    "\"\"\"(1 point) Test code for the previous function. This cell should NOT give any errors when it is run.\"\"\"\n",
    "\n",
    "output_vector_end = np.array([ 0.09090909,  0.18181818,  0.27272727,  0.36363636,  0.45454545,\n",
    "        0.54545455,  0.63636364,  0.72727273,  0.81818182,  0.90909091])\n",
    "assert np.allclose(output_vector_end, vector_end)\n",
    "\n",
    "print(\"Success!\")"
   ]
  },
  {
   "cell_type": "markdown",
   "metadata": {
    "deletable": false,
    "editable": false,
    "nbgrader": {
     "cell_type": "markdown",
     "checksum": "48ad6a9a73677b8d4ae2cd3164831368",
     "grade": false,
     "grade_id": "cell-aeaeb421c470f8ef",
     "locked": true,
     "schema_version": 3,
     "solution": false
    }
   },
   "source": [
    "### 6. Sorted random vector (1 point)\n",
    "\n",
    "Create a vector of size 20 called `sorted_array` which contains random numbers (from a function in `np.random`) that you have sorted. It should be sorted in increasing order."
   ]
  },
  {
   "cell_type": "code",
   "execution_count": 13,
   "metadata": {
    "deletable": false,
    "nbgrader": {
     "cell_type": "code",
     "checksum": "76d9b552b7bdb6f39f9577b78d7c5968",
     "grade": false,
     "grade_id": "sorted_array",
     "locked": false,
     "schema_version": 3,
     "solution": true
    }
   },
   "outputs": [],
   "source": [
    "# YOUR CODE HERE\n",
    "rand_numbers = np.random.randint(low=0, high=100, size=20)\n",
    "sorted_array = np.sort(rand_numbers)"
   ]
  },
  {
   "cell_type": "code",
   "execution_count": 14,
   "metadata": {
    "deletable": false,
    "editable": false,
    "nbgrader": {
     "cell_type": "code",
     "checksum": "e840b128a2bf9629f392dddaf1d0925e",
     "grade": true,
     "grade_id": "test_sorted_array",
     "locked": true,
     "points": 1,
     "schema_version": 3,
     "solution": false
    }
   },
   "outputs": [
    {
     "name": "stdout",
     "output_type": "stream",
     "text": [
      "Success!\n"
     ]
    }
   ],
   "source": [
    "\"\"\"(1 point) Test code for the previous function. This cell should NOT give any errors when it is run.\"\"\"\n",
    "\n",
    "# check data type\n",
    "assert isinstance(sorted_array, np.ndarray)\n",
    "\n",
    "# check for proper size\n",
    "assert sorted_array.size == 20\n",
    "# check that array is sorted\n",
    "# note that instead of > 0, we should use >= 0!\n",
    "assert (np.diff(sorted_array) >= 0).all()\n",
    "\n",
    "print(\"Success!\")"
   ]
  },
  {
   "cell_type": "markdown",
   "metadata": {
    "deletable": false,
    "editable": false,
    "nbgrader": {
     "cell_type": "markdown",
     "checksum": "c3d34400391d96fff872efd2811b3f1a",
     "grade": false,
     "grade_id": "cell-6f6fe49797d45031",
     "locked": true,
     "schema_version": 3,
     "solution": false
    }
   },
   "source": [
    "### 7. Operations on an array with random values (4 points)\n",
    "\n",
    "Fill in the code for a function, `maxesmins()`, which takes in an array and then returns \n",
    "- the minimum value of the 2nd row\n",
    "- the maximum value of the 4th column\n",
    "\n",
    "If there aren't enough rows or columns in the array to return either, return `np.nan` instead.\n",
    "\n",
    "Hint 1: use try-except might be the best approach here. But you can also use if-else to solve this problem.\n",
    "\n",
    "Hint 2: Don't use K.shape >= (2, 4) as it will not work for comparing two values together at the same time\n"
   ]
  },
  {
   "cell_type": "code",
   "execution_count": 15,
   "metadata": {
    "deletable": false,
    "nbgrader": {
     "cell_type": "code",
     "checksum": "b95237045ca4c9f1550f5459a9781ca4",
     "grade": false,
     "grade_id": "random_operations",
     "locked": false,
     "schema_version": 3,
     "solution": true
    }
   },
   "outputs": [],
   "source": [
    "def maxesmins(K):\n",
    "    \"\"\"Returns the min of the 2nd row and max of the 4th column.\n",
    "\n",
    "    Parameters\n",
    "    ----------\n",
    "    K : numpy array\n",
    "        \n",
    "    Returns\n",
    "    -------\n",
    "    min of the 2nd row and max of the 4th column, as a tuple, or a np.nan for either if the array is too small to calculate it\n",
    "    \"\"\"\n",
    "    \n",
    "    try:\n",
    "        kmin = min(K[1,:])\n",
    "        \n",
    "    except:\n",
    "        kmin = np.nan\n",
    "        \n",
    "    try:\n",
    "        kmax = max(K[:,3])\n",
    "        \n",
    "    except:\n",
    "        kmax = np.nan\n",
    "    \n",
    "    return kmin, kmax\n"
   ]
  },
  {
   "cell_type": "code",
   "execution_count": 16,
   "metadata": {
    "deletable": false,
    "editable": false,
    "nbgrader": {
     "cell_type": "code",
     "checksum": "df7fdb2523731249d74d588759b68135",
     "grade": true,
     "grade_id": "test_random_operations",
     "locked": true,
     "points": 1,
     "schema_version": 3,
     "solution": false
    }
   },
   "outputs": [
    {
     "name": "stdout",
     "output_type": "stream",
     "text": [
      "This test worked! Next cell has more.\n"
     ]
    }
   ],
   "source": [
    "\"\"\"(1 point) Test code for the previous function. This cell should NOT give any errors when it is run.\"\"\"\n",
    "\n",
    "L = np.array([[1, 3, 5, 7], [2, 4, 6, 8]])\n",
    "assert (2, 8) == maxesmins(L)\n",
    "\n",
    "print(\"This test worked! Next cell has more.\")"
   ]
  },
  {
   "cell_type": "code",
   "execution_count": 17,
   "metadata": {
    "deletable": false,
    "editable": false,
    "nbgrader": {
     "cell_type": "code",
     "checksum": "f3914ea8efa640c06f2c21d56bf93ed4",
     "grade": true,
     "grade_id": "test_random_operations2",
     "locked": true,
     "points": 1,
     "schema_version": 3,
     "solution": false
    }
   },
   "outputs": [
    {
     "name": "stdout",
     "output_type": "stream",
     "text": [
      "This test worked! Next cell has more.\n"
     ]
    }
   ],
   "source": [
    "\"\"\"(1 point) Test code for the previous function. This cell should NOT give any errors when it is run.\"\"\"\n",
    "\n",
    "M = np.ones((5, 5))\n",
    "assert (1, 1) == maxesmins(M)\n",
    "\n",
    "print(\"This test worked! Next cell has more.\")"
   ]
  },
  {
   "cell_type": "code",
   "execution_count": 18,
   "metadata": {
    "deletable": false,
    "editable": false,
    "nbgrader": {
     "cell_type": "code",
     "checksum": "312b1961ed2624260b9a6b029a4fd11a",
     "grade": true,
     "grade_id": "test_random_operations3",
     "locked": true,
     "points": 0.5,
     "schema_version": 3,
     "solution": false
    }
   },
   "outputs": [
    {
     "name": "stdout",
     "output_type": "stream",
     "text": [
      "Success!\n"
     ]
    }
   ],
   "source": [
    "\"\"\"(1 point) Test code for the previous function. This cell should NOT give any errors when it is run.\"\"\"\n",
    "\n",
    "N = np.zeros((3, 2))\n",
    "assert (0, np.nan) == maxesmins(N)\n",
    "\n",
    "print(\"Success!\")"
   ]
  },
  {
   "cell_type": "code",
   "execution_count": 19,
   "metadata": {
    "deletable": false,
    "editable": false,
    "nbgrader": {
     "cell_type": "code",
     "checksum": "86c81fc404987e1762d449dccce5816c",
     "grade": true,
     "grade_id": "cell-a5baa9b2907d99dc",
     "locked": true,
     "points": 0.5,
     "schema_version": 3,
     "solution": false,
     "task": false
    }
   },
   "outputs": [
    {
     "name": "stdout",
     "output_type": "stream",
     "text": [
      "Success!\n"
     ]
    }
   ],
   "source": [
    "N = np.zeros((1, 3))\n",
    "assert (np.nan, np.nan) == maxesmins(N)\n",
    "\n",
    "print(\"Success!\")"
   ]
  },
  {
   "cell_type": "code",
   "execution_count": 20,
   "metadata": {
    "deletable": false,
    "editable": false,
    "nbgrader": {
     "cell_type": "code",
     "checksum": "dce1ebfc7459eb36cf5799421783ae36",
     "grade": true,
     "grade_id": "cell-ae7b685ea892977a",
     "locked": true,
     "points": 1,
     "schema_version": 3,
     "solution": false,
     "task": false
    }
   },
   "outputs": [
    {
     "name": "stdout",
     "output_type": "stream",
     "text": [
      "Success!\n"
     ]
    }
   ],
   "source": [
    "N = np.zeros((3, 1))\n",
    "assert (0, np.nan) == maxesmins(N)\n",
    "\n",
    "print(\"Success!\")"
   ]
  },
  {
   "cell_type": "markdown",
   "metadata": {
    "deletable": false,
    "editable": false,
    "nbgrader": {
     "cell_type": "markdown",
     "checksum": "1ce6d3d0a4b5572d8e2e5051dc78ec65",
     "grade": false,
     "grade_id": "cell-a18b59a919ab1949",
     "locked": true,
     "schema_version": 3,
     "solution": false
    }
   },
   "source": [
    "### 8. array concatenation (3 points)\n",
    "\n",
    "Write a function `array_concat(x, y)` that accepts x and y as two arrays and returns an array that concatenates array x and array y horizontally. It should work on both 1D arrays or 2D arrays (or mixture of 1D and 2D arrays) with the desirable shape. Below are some examples and your function should also work for arrays with different shapes than those examples.\n",
    "    \n",
    "    if (1D and 1D):\n",
    "    x is array([1, 2, 3])\n",
    "    y is array([4, 5])\n",
    "    \n",
    "    The returned array will be array([1, 2, 3, 4, 5])\n",
    "    \n",
    "    if (2D and 2D):\n",
    "    x is array([[1, 2, 3],\n",
    "                [4, 5, 6],\n",
    "                [4, 5, 6]])\n",
    "                \n",
    "    y is array([[7, 8],\n",
    "                [9, 10],\n",
    "                [9, 10]])\n",
    "    \n",
    "    The returned array will be array([[1, 2, 3, 7, 8],\n",
    "                                      [4, 5, 6, 9, 10],\n",
    "                                      [4, 5, 6, 9, 10]])\n",
    "\n",
    "    if (2D and 1D):\n",
    "    x is array([[1, 2, 3],\n",
    "                [4, 5, 6],\n",
    "                [4, 5, 6]])\n",
    "                \n",
    "    y is array([7, 8, 9)])\n",
    "    \n",
    "    The returned array will be array([[1, 2, 3, 7],\n",
    "                                      [4, 5, 6, 8],\n",
    "                                      [4, 5, 6, 9]])\n",
    "                                      \n",
    "    if (1D and 2D):\n",
    "    x is array([7, 8)])\n",
    "                \n",
    "    y is array([[1, 2, 3],\n",
    "                [4, 5, 6]])\n",
    "    \n",
    "    The returned array will be array([[7, 1, 2, 3],\n",
    "                                      [8, 4, 5, 6]])"
   ]
  },
  {
   "cell_type": "code",
   "execution_count": 21,
   "metadata": {
    "deletable": false,
    "nbgrader": {
     "cell_type": "code",
     "checksum": "5f3ad84a629eb1e44418134e8d6c929c",
     "grade": false,
     "grade_id": "find_nonzero",
     "locked": false,
     "schema_version": 3,
     "solution": true
    }
   },
   "outputs": [],
   "source": [
    "def array_concat(x, y):\n",
    "    \"\"\"input two arrays x and y and join the two arrays horizontally\n",
    "       return the concatenated array\n",
    "\n",
    "    Inputs:\n",
    "        x: array\n",
    "        y: array\n",
    "    \n",
    "    Returns:\n",
    "        the concatenated array\n",
    "    \"\"\"\n",
    "\n",
    "    if x.ndim == y.ndim:    \n",
    "        return np.hstack((x,y))\n",
    "    elif x.ndim == 1 and y.ndim == 2:\n",
    "        x = x.reshape(-1,1)\n",
    "        return np.hstack((x,y))\n",
    "    else:\n",
    "        y = y.reshape(-1,1)\n",
    "        return np.hstack((x,y))\n"
   ]
  },
  {
   "cell_type": "code",
   "execution_count": 22,
   "metadata": {
    "deletable": false,
    "editable": false,
    "nbgrader": {
     "cell_type": "code",
     "checksum": "570e5b75097931da2e64d6e4262b3b8d",
     "grade": true,
     "grade_id": "1D-1D",
     "locked": true,
     "points": 1,
     "schema_version": 3,
     "solution": false
    }
   },
   "outputs": [
    {
     "name": "stdout",
     "output_type": "stream",
     "text": [
      "Success!\n"
     ]
    }
   ],
   "source": [
    "# part A\n",
    "\"\"\"(1 point) Test code for the previous function. This cell should NOT give any errors when it is run.\n",
    "Do not alter the contents of this cell.\"\"\"\n",
    "\n",
    "x = np.array([2, 3, 4])\n",
    "y = np.array([4, 5])\n",
    "assert np.array_equal(array_concat(x, y), np.array([2, 3, 4, 4, 5]))\n",
    "\n",
    "print(\"Success!\")"
   ]
  },
  {
   "cell_type": "code",
   "execution_count": 23,
   "metadata": {
    "deletable": false,
    "editable": false,
    "nbgrader": {
     "cell_type": "code",
     "checksum": "2a9510d9c72ee994276ddde522b4f552",
     "grade": true,
     "grade_id": "2D-1D",
     "locked": true,
     "points": 1,
     "schema_version": 3,
     "solution": false
    }
   },
   "outputs": [
    {
     "name": "stdout",
     "output_type": "stream",
     "text": [
      "Success!\n"
     ]
    }
   ],
   "source": [
    "# part B\n",
    "\"\"\"(1 point) Test code for the previous function. This cell should NOT give any errors when it is run.\n",
    "Do not alter the contents of this cell.\"\"\"\n",
    "\n",
    "x = np.array([[1, 4], [2, 3]])\n",
    "y = np.array([2, 3])\n",
    "assert np.array_equal(array_concat(x, y), np.array([[1, 4, 2], [2, 3, 3]]))\n",
    "\n",
    "print(\"Success!\")"
   ]
  },
  {
   "cell_type": "code",
   "execution_count": 24,
   "metadata": {
    "deletable": false,
    "editable": false,
    "nbgrader": {
     "cell_type": "code",
     "checksum": "1d93a956227cc62076f1ca48aa799e6c",
     "grade": true,
     "grade_id": "1D-2D",
     "locked": true,
     "points": 0.5,
     "schema_version": 3,
     "solution": false,
     "task": false
    }
   },
   "outputs": [
    {
     "name": "stdout",
     "output_type": "stream",
     "text": [
      "Success!\n"
     ]
    }
   ],
   "source": [
    "# part C\n",
    "\"\"\"(1 point) Test code for the previous function. This cell should NOT give any errors when it is run.\n",
    "Do not alter the contents of this cell.\"\"\"\n",
    "\n",
    "x = np.array([7, 8])\n",
    "y = np.array([[2, 3, 3], [1, 4, 1]])\n",
    "assert np.array_equal(array_concat(x, y), np.array([[7, 2, 3, 3], [8, 1, 4, 1]]))\n",
    "\n",
    "print(\"Success!\")"
   ]
  },
  {
   "cell_type": "code",
   "execution_count": 25,
   "metadata": {
    "deletable": false,
    "editable": false,
    "nbgrader": {
     "cell_type": "code",
     "checksum": "2e462e36f66b5558ff0ce0160fc28c0e",
     "grade": true,
     "grade_id": "2D-2D",
     "locked": true,
     "points": 0.5,
     "schema_version": 3,
     "solution": false,
     "task": false
    }
   },
   "outputs": [
    {
     "name": "stdout",
     "output_type": "stream",
     "text": [
      "Success!\n"
     ]
    }
   ],
   "source": [
    "# part D\n",
    "\"\"\"(1 point) Test code for the previous function. This cell should NOT give any errors when it is run.\n",
    "Do not alter the contents of this cell.\"\"\"\n",
    "\n",
    "x = np.array([[1, 4, 3], [2, 3, 1]])\n",
    "y = np.array([[2, 3, 3], [1, 4, 1]])\n",
    "assert np.array_equal(array_concat(x, y), np.array([[1, 4, 3, 2, 3, 3], [2, 3, 1, 1, 4, 1]]))\n",
    "\n",
    "print(\"Success!\")"
   ]
  },
  {
   "cell_type": "markdown",
   "metadata": {
    "deletable": false,
    "editable": false,
    "nbgrader": {
     "cell_type": "markdown",
     "checksum": "5d389cd78df29a3e078da52c486f4e5a",
     "grade": false,
     "grade_id": "cell-ef83cca8e991c558",
     "locked": true,
     "schema_version": 3,
     "solution": false,
     "task": false
    }
   },
   "source": [
    "# Graduate student problems below"
   ]
  },
  {
   "cell_type": "markdown",
   "metadata": {
    "deletable": false,
    "editable": false,
    "nbgrader": {
     "cell_type": "markdown",
     "checksum": "e2fa80f5b0fd2e4ef61c471b175d5dde",
     "grade": false,
     "grade_id": "cell-5fb069d0561193b0",
     "locked": true,
     "schema_version": 3,
     "solution": false
    }
   },
   "source": [
    "### 9. Convert from Cartesian to polar coordinates (3 points)\n",
    "\n",
    "Write a function `cart2polar(xy)` which takes in an Nx2 (N rows and 2 columns) matrix of `x, y` pairs representing Cartesian coordinates and return the locations represented in polar coordinates in the same shape matrix (**also Nx2, not 2xN**). Read the docstring for more details. Note, you should use `np.arctan2` instead of `np.arctan` to preserve the correct quadrant."
   ]
  },
  {
   "cell_type": "code",
   "execution_count": 26,
   "metadata": {
    "deletable": false,
    "nbgrader": {
     "cell_type": "code",
     "checksum": "1d5b009312808a064967cb73a00e4599",
     "grade": false,
     "grade_id": "cart2polar",
     "locked": false,
     "schema_version": 3,
     "solution": true
    }
   },
   "outputs": [],
   "source": [
    "def cart2polar(xy):\n",
    "    \"\"\"Convert input from Cartesian to polar coordinates.\n",
    "    \n",
    "    Parameters\n",
    "    ----------\n",
    "    xy : array\n",
    "        Nx2 array of Cartesian coordinates, with columns of x and y coordinates, respectively.\n",
    "        \n",
    "    Returns\n",
    "    -------\n",
    "    rphi : array\n",
    "        Coordinates Nx2 array containing input coordinates in polar representation, \n",
    "        with columns radius and angle, respectively.\n",
    "    \"\"\"\n",
    "    # take xy array and break up into x arr and y array\n",
    "    # make xarray into rcos(theta) and y -> rsin(theta)\n",
    "    \n",
    "    x = xy[:,0]\n",
    "    \n",
    "    y = xy[:,1]\n",
    "    \n",
    "    r = np.sqrt(x**2 + y**2)\n",
    "    \n",
    "    theta = np.arctan2(y,x)\n",
    "    \n",
    "    # polar coord -> (r,theta)\n",
    "    # combine into one array -> r_theta =====> rphi\n",
    "    \n",
    "    rphi = np.column_stack((r,theta)) \n",
    "\n",
    "    return rphi"
   ]
  },
  {
   "cell_type": "code",
   "execution_count": 27,
   "metadata": {
    "deletable": false,
    "editable": false,
    "nbgrader": {
     "cell_type": "code",
     "checksum": "8c875e1a3338e5d7a5f0efc9dafebc44",
     "grade": true,
     "grade_id": "test_cart2polar",
     "locked": true,
     "points": 3,
     "schema_version": 3,
     "solution": false
    }
   },
   "outputs": [
    {
     "name": "stdout",
     "output_type": "stream",
     "text": [
      "Success!\n"
     ]
    }
   ],
   "source": [
    "\"\"\"(3 points) Test code for the previous function. This cell should NOT give any errors when it is run.\"\"\"\n",
    "\n",
    "cart = np.random.rand(10, 2)\n",
    "polar = cart2polar(cart)\n",
    "\n",
    "assert polar.shape == (10, 2)  # check for shape\n",
    "\n",
    "test_input = np.array([[1, 0]])\n",
    "test_output = np.array([[1, 0]])\n",
    "assert (cart2polar(test_input) == test_output).all()  #  check for known case [1, 0]\n",
    "\n",
    "test_input = np.array([[0, 1]])\n",
    "test_output = np.array([[1, np.pi/2]])\n",
    "assert (cart2polar(test_input) == test_output).all()  #  check for known case [0, 1]\n",
    "\n",
    "print(\"Success!\")"
   ]
  },
  {
   "cell_type": "code",
   "execution_count": null,
   "metadata": {},
   "outputs": [],
   "source": []
  }
 ],
 "metadata": {
  "anaconda-cloud": {},
  "kernelspec": {
   "display_name": "Python 3 (ipykernel)",
   "language": "python",
   "name": "python3"
  },
  "language_info": {
   "codemirror_mode": {
    "name": "ipython",
    "version": 3
   },
   "file_extension": ".py",
   "mimetype": "text/x-python",
   "name": "python",
   "nbconvert_exporter": "python",
   "pygments_lexer": "ipython3",
   "version": "3.8.10"
  },
  "toc": {
   "base_numbering": 1,
   "nav_menu": {},
   "number_sections": false,
   "sideBar": true,
   "skip_h1_title": false,
   "title_cell": "Table of Contents",
   "title_sidebar": "Contents",
   "toc_cell": false,
   "toc_position": {},
   "toc_section_display": true,
   "toc_window_display": false
  }
 },
 "nbformat": 4,
 "nbformat_minor": 1
}
