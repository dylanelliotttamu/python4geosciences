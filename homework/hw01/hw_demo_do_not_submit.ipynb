{
 "cells": [
  {
   "cell_type": "markdown",
   "metadata": {},
   "source": [
    "**Before you turn this problem in, make sure your notebook is in tidy format and everything runs as expected:**\n",
    "\n",
    "1. When the problem needs you to write codes inside a function, just directly write codes inside the already-existing functions. Don't create new functions and write your code in the new functions. \n",
    "\n",
    "2. Don't modify the original TEST cells! You can insert new testing cells to test your code when doing your homework. But make sure to delete those **new testing cells** after you finish your problem.\n",
    "\n",
    "3. After you complete all problems, to insure there is no error in your notebook, do the following: first, **restart the kernel** (in the menubar, select Kernel$\\rightarrow$Restart) and second **run all cells** (in the menubar, select Cell$\\rightarrow$Run All). **Note that this step is very important and can help you catch the error!**\n",
    "\n",
    "**Make sure you delete `raise NotImplementedError()`** (if existing) inside the function before you write your code and fill in any place that says \"YOUR CODE HERE\" or \"YOUR ANSWER HERE\":"
   ]
  },
  {
   "cell_type": "code",
   "execution_count": null,
   "metadata": {},
   "outputs": [],
   "source": [
    "# fill in your name\n",
    "NAME = \"\""
   ]
  },
  {
   "cell_type": "markdown",
   "metadata": {},
   "source": [
    "---"
   ]
  },
  {
   "cell_type": "markdown",
   "metadata": {
    "deletable": false,
    "editable": false,
    "nbgrader": {
     "cell_type": "markdown",
     "checksum": "a472aaeca22e9aacc290af1a0eeb7a3a",
     "grade": false,
     "grade_id": "cell-1479fec38367c153",
     "locked": true,
     "schema_version": 3,
     "solution": false,
     "task": false
    }
   },
   "source": [
    "For many of the coding assignments we give you, we will provide tests that your code must pass. These will be in one or more cells after the code you need to write, and they *must* pass for you to get credit.\n",
    "\n",
    "Also, be aware that test cells will be included only for *coding* questions -- you're on your own to judge whether you have the correct answer for questions requiring a written response!"
   ]
  },
  {
   "cell_type": "markdown",
   "metadata": {
    "deletable": false,
    "editable": false,
    "nbgrader": {
     "cell_type": "markdown",
     "checksum": "9e00e48db5eda7fa96cc5a8c3985cb8e",
     "grade": false,
     "grade_id": "cell-823e50059ac24145",
     "locked": true,
     "schema_version": 3,
     "solution": false,
     "task": false
    }
   },
   "source": [
    "**This file is only for testing purpose, and it is not homework! Don't submit this file to canvas.**"
   ]
  },
  {
   "cell_type": "markdown",
   "metadata": {
    "deletable": false,
    "editable": false,
    "nbgrader": {
     "cell_type": "markdown",
     "checksum": "5b9610b1165160aac04e4791cf573259",
     "grade": false,
     "grade_id": "cell-111ed163f1bd9c35",
     "locked": true,
     "schema_version": 3,
     "solution": false,
     "task": false
    }
   },
   "source": [
    "## 1. (1 point)\n",
    "\n",
    "Markdown is a special way of writing text in order to specify formatting, like whether text should be bold, italicized, etc.\n",
    "\n",
    "For the following few exercises, try to format the specified text using Markdown.\n",
    "\n",
    "\n",
    "* Hint: after editing the Markdown, you will need to run the cell so that the formatting appears.\n",
    "\n",
    "Note that in this assignment, the formatted text boxes are actually images, so you cannot look at the cell in edit mode to see the answer. However, in future assignments, we will write all the instructions in Markdown, so in the future you will always be able to look at the cell in edit mode to see how the formatting is done."
   ]
  },
  {
   "cell_type": "markdown",
   "metadata": {
    "deletable": false,
    "editable": false,
    "nbgrader": {
     "cell_type": "markdown",
     "checksum": "2bbf9cab619bc18bbcdc99758c013c61",
     "grade": false,
     "grade_id": "markdown",
     "locked": true,
     "schema_version": 3,
     "solution": false,
     "task": false
    }
   },
   "source": [
    "<div class=\"alert alert-success\">\n",
    "Italicize the word \"Banana\", like this:\n",
    "</div>\n",
    "\n",
    "![banana](images/banana-italics.png)"
   ]
  },
  {
   "cell_type": "markdown",
   "metadata": {
    "deletable": false,
    "nbgrader": {
     "cell_type": "markdown",
     "checksum": "7e3c50f3c896e83c0d0e2ea93ad8c7b8",
     "grade": true,
     "grade_id": "test_markdown",
     "locked": false,
     "points": 0,
     "schema_version": 3,
     "solution": true,
     "task": false
    }
   },
   "source": [
    "YOUR ANSWER HERE"
   ]
  },
  {
   "cell_type": "markdown",
   "metadata": {
    "deletable": false,
    "editable": false,
    "nbgrader": {
     "cell_type": "markdown",
     "checksum": "0257b9de546e0152ac0fe5c017cc02b5",
     "grade": false,
     "grade_id": "cell-dc2c953555bc2bb8",
     "locked": true,
     "schema_version": 3,
     "solution": false,
     "task": false
    }
   },
   "source": [
    "## 2. (2 points)\n",
    "\n",
    "<div class=\"alert alert-success\">\n",
    "Implement the function <code>hello</code> and make sure the test cells runs without any errors. You will need to delete the line with `raise NotImplementedError`, write your own solution, and then re-run the cell before running the test cell. Each time you change code in a cell, you  will need to re-run that cell before running any other cells that depend on it!\n",
    "</div>"
   ]
  },
  {
   "cell_type": "code",
   "execution_count": null,
   "metadata": {
    "deletable": false,
    "editable": false,
    "nbgrader": {
     "cell_type": "code",
     "checksum": "11bcb1ea8cbc8ec2015ef22c0604bca7",
     "grade": false,
     "grade_id": "cell-d2acf84dba9a7f4b",
     "locked": true,
     "schema_version": 3,
     "solution": false,
     "task": false
    }
   },
   "outputs": [],
   "source": [
    "from nose.tools import assert_equal"
   ]
  },
  {
   "cell_type": "code",
   "execution_count": null,
   "metadata": {
    "deletable": false,
    "nbgrader": {
     "cell_type": "code",
     "checksum": "805601f35c4f95ff6aee3766bcf4b84b",
     "grade": false,
     "grade_id": "hello",
     "locked": false,
     "schema_version": 3,
     "solution": true,
     "task": false
    }
   },
   "outputs": [],
   "source": [
    "def hello(name):\n",
    "    \"\"\"Returns a message containing \"Hello, <name>!\", \n",
    "    where <name> is passed in as an argument.\n",
    "    \n",
    "    Parameters\n",
    "    ----------\n",
    "    name : string\n",
    "        The name of the person to say hello to\n",
    "        \n",
    "    Returns\n",
    "    -------\n",
    "    the message containing \"Hello, <name>!\"\n",
    "    \n",
    "    \"\"\"\n",
    "    # YOUR CODE HERE\n",
    "    raise NotImplementedError()"
   ]
  },
  {
   "cell_type": "code",
   "execution_count": null,
   "metadata": {
    "deletable": false,
    "editable": false,
    "nbgrader": {
     "cell_type": "code",
     "checksum": "4673742bf02b5afe6b59dda7fefffefc",
     "grade": true,
     "grade_id": "test_hello",
     "locked": true,
     "points": 0,
     "schema_version": 3,
     "solution": false,
     "task": false
    }
   },
   "outputs": [],
   "source": [
    "# this is the formal TEST cell and you should not modify!!!\n",
    "\n",
    "\"\"\"(1 point) Test code for the 'hello' function. This cell should NOT give any errors when it is run.\"\"\"\n",
    "from nose.tools import assert_equal\n",
    "assert_equal(hello(\"Jessica\"), \"Hello, Jessica!\")\n",
    "assert_equal(hello(\"jessica\"), \"Hello, jessica!\")\n",
    "assert_equal(hello(\"Tom\"), \"Hello, Tom!\")\n",
    "assert_equal(hello(\"123\"), \"Hello, 123!\")\n",
    "\n",
    "print(\"Success!\")"
   ]
  },
  {
   "cell_type": "markdown",
   "metadata": {
    "deletable": false,
    "editable": false,
    "nbgrader": {
     "cell_type": "markdown",
     "checksum": "0b433761b18210ad62a9184820740fd7",
     "grade": false,
     "grade_id": "cell-473da896a634ed1d",
     "locked": true,
     "schema_version": 3,
     "solution": false,
     "task": false
    }
   },
   "source": [
    "<div class=\"alert alert-info\">When completing a problem set, it is often useful to supplement the autograder tests with test cases of your own. Below, we provide you with a \"scratch\" cell to be used for your own testing purposes. <br>\n",
    "\n",
    "Keep in mind, however, that writing your own test cases is **completely optional** -- these are only here to help you test whether your answer is correct as you complete the assignment. This means that you will *not* be graded on anything you include in these cells you created yourself!</div>"
   ]
  },
  {
   "cell_type": "code",
   "execution_count": null,
   "metadata": {},
   "outputs": [],
   "source": [
    "# add your own test cases in this cell!\n",
    "\n",
    "# try running your hello function with your own name and see what happens\n",
    "# this is to compare whether the output from hello(\"shuang\") is the same as the string \"Hello, shuang!\"\n",
    "\n",
    "assert_equal(hello(\"shuang\"), \"Hello, shuang!\")"
   ]
  }
 ],
 "metadata": {
  "kernelspec": {
   "display_name": "Python 3 (ipykernel)",
   "language": "python",
   "name": "python3"
  },
  "language_info": {
   "codemirror_mode": {
    "name": "ipython",
    "version": 3
   },
   "file_extension": ".py",
   "mimetype": "text/x-python",
   "name": "python",
   "nbconvert_exporter": "python",
   "pygments_lexer": "ipython3",
   "version": "3.8.10"
  },
  "toc": {
   "base_numbering": 1,
   "nav_menu": {},
   "number_sections": false,
   "sideBar": true,
   "skip_h1_title": false,
   "title_cell": "Table of Contents",
   "title_sidebar": "Contents",
   "toc_cell": false,
   "toc_position": {},
   "toc_section_display": true,
   "toc_window_display": false
  }
 },
 "nbformat": 4,
 "nbformat_minor": 1
}
