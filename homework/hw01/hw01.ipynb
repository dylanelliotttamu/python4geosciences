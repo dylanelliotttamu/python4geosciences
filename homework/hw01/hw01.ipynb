{
 "cells": [
  {
   "cell_type": "markdown",
   "metadata": {},
   "source": [
    "**Before you turn this problem in, make sure your notebook is in tidy format and everything runs as expected:**\n",
    "\n",
    "1. When the problem needs you to write codes inside a function, just directly write codes inside the already-existing functions. Don't create new functions and write your code in the new functions. \n",
    "\n",
    "2. Don't modify the original TEST cells! You can insert new testing cells to test your code when doing your homework. But make sure to delete those **new testing cells** after you finish your problem.\n",
    "\n",
    "3. After you complete all problems, to insure there is no error in your notebook, do the following: first, **restart the kernel** (in the menubar, select Kernel$\\rightarrow$Restart) and second **run all cells** (in the menubar, select Cell$\\rightarrow$Run All). **Note that this step is very important and can help you catch the error!**\n",
    "\n",
    "**Make sure you delete `raise NotImplementedError()`** (if existing) inside the function before you write your code and fill in any place that says \"YOUR CODE HERE\" or \"YOUR ANSWER HERE\":"
   ]
  },
  {
   "cell_type": "code",
   "execution_count": 1,
   "metadata": {},
   "outputs": [],
   "source": [
    "# fill in your name\n",
    "NAME = \"Dylan Elliott\""
   ]
  },
  {
   "cell_type": "markdown",
   "metadata": {},
   "source": [
    "---"
   ]
  },
  {
   "cell_type": "markdown",
   "metadata": {
    "deletable": false,
    "editable": false,
    "nbgrader": {
     "cell_type": "markdown",
     "checksum": "3c979c65ea2006ff436f19cb7dede213",
     "grade": false,
     "grade_id": "cell-c55c478f05355658",
     "locked": true,
     "schema_version": 3,
     "solution": false,
     "task": false
    }
   },
   "source": [
    "# Markdown"
   ]
  },
  {
   "cell_type": "markdown",
   "metadata": {
    "deletable": false,
    "editable": false,
    "nbgrader": {
     "cell_type": "markdown",
     "checksum": "8fe162c7624228aad4b0a0155bed10a6",
     "grade": false,
     "grade_id": "cell-a07003efc9edaef1",
     "locked": true,
     "schema_version": 3,
     "solution": false,
     "task": false
    }
   },
   "source": [
    "Markdown is a special way of writing text in order to specify formatting, like whether text should be bold, italicized, etc.\n",
    "\n",
    "For the following few exercises, try to format the specified text using Markdown.\n",
    "\n",
    "* Hint: after editing the Markdown, you will need to run the cell so that the formatting appears.\n",
    "\n",
    "Note that in this assignment, the formatted text boxes are actually images, so you cannot look at the cell in edit mode to see the answer."
   ]
  },
  {
   "cell_type": "markdown",
   "metadata": {
    "deletable": false,
    "editable": false,
    "nbgrader": {
     "cell_type": "markdown",
     "checksum": "ba076ab1457da393c727b489373e3d42",
     "grade": false,
     "grade_id": "cell-85291127b8a3d8aa",
     "locked": true,
     "schema_version": 3,
     "solution": false,
     "task": false
    }
   },
   "source": [
    "## Italics (1 point)"
   ]
  },
  {
   "cell_type": "markdown",
   "metadata": {
    "deletable": false,
    "editable": false,
    "nbgrader": {
     "cell_type": "markdown",
     "checksum": "85372c2ae16e48756791bea51a7dded3",
     "grade": false,
     "grade_id": "cell-3274063657b51147",
     "locked": true,
     "schema_version": 3,
     "solution": false,
     "task": false
    }
   },
   "source": [
    "<div class=\"alert alert-success\">\n",
    "Italicize the word \"Banana\", like this:\n",
    "</div>\n",
    "\n",
    "![](images/banana-italics.png)"
   ]
  },
  {
   "cell_type": "markdown",
   "metadata": {
    "deletable": false,
    "nbgrader": {
     "cell_type": "markdown",
     "checksum": "d0140a1ad943699ee88c0efdfd7702d0",
     "grade": true,
     "grade_id": "cell-italics",
     "locked": false,
     "points": 1,
     "schema_version": 3,
     "solution": true,
     "task": false
    }
   },
   "source": [
    "*Banana*"
   ]
  },
  {
   "cell_type": "markdown",
   "metadata": {
    "deletable": false,
    "editable": false,
    "nbgrader": {
     "cell_type": "markdown",
     "checksum": "8d45ef683edd255067cc0eba7a8eede4",
     "grade": false,
     "grade_id": "cell-c8bd7401b984334d",
     "locked": true,
     "schema_version": 3,
     "solution": false,
     "task": false
    }
   },
   "source": [
    "## bold (1 point)"
   ]
  },
  {
   "cell_type": "markdown",
   "metadata": {
    "deletable": false,
    "editable": false,
    "nbgrader": {
     "cell_type": "markdown",
     "checksum": "c12693e79eabe4708c29e9734d538dab",
     "grade": false,
     "grade_id": "cell-e2364a353bcf962e",
     "locked": true,
     "schema_version": 3,
     "solution": false,
     "task": false
    }
   },
   "source": [
    "<div class=\"alert alert-success\">\n",
    "Bold the word \"Orange\", like this:\n",
    "</div>\n",
    "\n",
    "![orange](images/orange-bold.png)"
   ]
  },
  {
   "cell_type": "markdown",
   "metadata": {
    "deletable": false,
    "nbgrader": {
     "cell_type": "markdown",
     "checksum": "02e4b15a1347e5d4ffb64e4bdb0db46e",
     "grade": true,
     "grade_id": "cell-bold",
     "locked": false,
     "points": 1,
     "schema_version": 3,
     "solution": true,
     "task": false
    }
   },
   "source": [
    "<div align=\"center\"><b>Orange</b></div>"
   ]
  },
  {
   "cell_type": "markdown",
   "metadata": {
    "deletable": false,
    "editable": false,
    "nbgrader": {
     "cell_type": "markdown",
     "checksum": "a60a91bd685e4c1f4b22a5bcf710bd9d",
     "grade": false,
     "grade_id": "cell-8bd35f03fa990c9c",
     "locked": true,
     "schema_version": 3,
     "solution": false,
     "task": false
    }
   },
   "source": [
    "## unordered list (1 point)"
   ]
  },
  {
   "cell_type": "markdown",
   "metadata": {
    "deletable": false,
    "editable": false,
    "nbgrader": {
     "cell_type": "markdown",
     "checksum": "b36d9e109fdb7b099792036da2f7e71b",
     "grade": false,
     "grade_id": "cell-292b10084310dda5",
     "locked": true,
     "schema_version": 3,
     "solution": false,
     "task": false
    }
   },
   "source": [
    "<div class=\"alert alert-success\">\n",
    "Make a bulleted list consisting of the words \"Apple\", \"Banana\", and \"Orange\", like this:\n",
    "</div>\n",
    "\n",
    "![](images/bulleted-list.png)"
   ]
  },
  {
   "cell_type": "markdown",
   "metadata": {
    "deletable": false,
    "nbgrader": {
     "cell_type": "markdown",
     "checksum": "a85f9ca0c2f2226f2282d668cc53d648",
     "grade": true,
     "grade_id": "cell-list1",
     "locked": false,
     "points": 1,
     "schema_version": 3,
     "solution": true,
     "task": false
    }
   },
   "source": [
    "<div align=\"center\">\n",
    " \n",
    "    * Apple\n",
    "    * Banana\n",
    "    * Orange\n",
    "    \n",
    "</div>"
   ]
  },
  {
   "cell_type": "markdown",
   "metadata": {
    "deletable": false,
    "editable": false,
    "nbgrader": {
     "cell_type": "markdown",
     "checksum": "d24d5e6a3d803b209e47a1c2886bc81e",
     "grade": false,
     "grade_id": "cell-b6353e3a037894a6",
     "locked": true,
     "schema_version": 3,
     "solution": false,
     "task": false
    }
   },
   "source": [
    "## ordered list (1 point)"
   ]
  },
  {
   "cell_type": "markdown",
   "metadata": {
    "deletable": false,
    "editable": false,
    "nbgrader": {
     "cell_type": "markdown",
     "checksum": "45bc2d93ad5861b1a6e224bcf5a604d7",
     "grade": false,
     "grade_id": "cell-851b1da1bf994308",
     "locked": true,
     "schema_version": 3,
     "solution": false,
     "task": false
    }
   },
   "source": [
    "<div class=\"alert alert-success\">\n",
    "Make a numbered list consisting of the words \"Strawberry\", \"Blueberry\", and \"Raspberry\", like this:\n",
    "</div>\n",
    "\n",
    "![](images/numbered-list.png)"
   ]
  },
  {
   "cell_type": "markdown",
   "metadata": {
    "deletable": false,
    "nbgrader": {
     "cell_type": "markdown",
     "checksum": "c3f075175164127e03afa5beb78c2b59",
     "grade": true,
     "grade_id": "cell-list2",
     "locked": false,
     "points": 1,
     "schema_version": 3,
     "solution": true,
     "task": false
    }
   },
   "source": [
    "1. Strawberry\n",
    "2. Blueberry\n",
    "3. Raspberry\n"
   ]
  },
  {
   "cell_type": "markdown",
   "metadata": {
    "deletable": false,
    "editable": false,
    "nbgrader": {
     "cell_type": "markdown",
     "checksum": "cd61927c3efdcd5c1bab69f249da790b",
     "grade": false,
     "grade_id": "cell-a231bec7fd9afa04",
     "locked": true,
     "schema_version": 3,
     "solution": false,
     "task": false
    }
   },
   "source": [
    "## fancy list (2 points)"
   ]
  },
  {
   "cell_type": "markdown",
   "metadata": {
    "deletable": false,
    "editable": false,
    "nbgrader": {
     "cell_type": "markdown",
     "checksum": "429f086b545115f73402ade472729e9e",
     "grade": false,
     "grade_id": "cell-15dcbe315bc2df5a",
     "locked": true,
     "schema_version": 3,
     "solution": false,
     "task": false
    }
   },
   "source": [
    "<div class=\"alert alert-success\">\n",
    "Make the following list of lists:\n",
    "</div>\n",
    "\n",
    "![](images/list-of-lists.png)"
   ]
  },
  {
   "cell_type": "markdown",
   "metadata": {
    "deletable": false,
    "nbgrader": {
     "cell_type": "markdown",
     "checksum": "0b38d4206d1ce894ad727a909a9c4d6c",
     "grade": true,
     "grade_id": "cell-list3",
     "locked": false,
     "points": 2,
     "schema_version": 3,
     "solution": true,
     "task": false
    }
   },
   "source": [
    "<ol>\n",
    "    <li>Fruits\n",
    "        <ul> \n",
    "        <li>Apple</li>\n",
    "        <li>Banana</li>\n",
    "        <li>Orange</li>\n",
    "        </ul></li>    \n",
    "    <li>Berries\n",
    "        <ul> \n",
    "        <li>Strawberry</li>\n",
    "        <li>Blueberry</li>\n",
    "        <li>Raspberry</li>\n",
    "        </ul> \n",
    "    </li>\n",
    "</ol>"
   ]
  },
  {
   "cell_type": "markdown",
   "metadata": {
    "deletable": false,
    "editable": false,
    "nbgrader": {
     "cell_type": "markdown",
     "checksum": "1858a093935aa6057752a63ffa67d047",
     "grade": false,
     "grade_id": "cell-133b811dda48f347",
     "locked": true,
     "schema_version": 3,
     "solution": false,
     "task": false
    }
   },
   "source": [
    "## equation (3 points)\n",
    "**Math euqations (powerful!) (see tutorials of [this](https://www.codersarts.com/forum/machine-learning/writing-mathematical-equations-in-jupyter-notebook) and [this](https://math.meta.stackexchange.com/questions/5020/mathjax-basic-tutorial-and-quick-reference)):**"
   ]
  },
  {
   "cell_type": "markdown",
   "metadata": {
    "deletable": false,
    "editable": false,
    "nbgrader": {
     "cell_type": "markdown",
     "checksum": "a919621c9d44c61482d7bab655844234",
     "grade": false,
     "grade_id": "cell-1c928ea629445aa6",
     "locked": true,
     "schema_version": 3,
     "solution": false,
     "task": false
    }
   },
   "source": [
    "<div class=\"alert alert-success\">\n",
    "Write the following equation (correlation coefficient):\n",
    "</div>\n",
    "\n",
    "<img src = 'images/r_equation.png' width='150'/>"
   ]
  },
  {
   "cell_type": "markdown",
   "metadata": {
    "deletable": false,
    "nbgrader": {
     "cell_type": "markdown",
     "checksum": "7c48b95a4b9a4d1594ee51d30a44271b",
     "grade": true,
     "grade_id": "cell-6972aee8a11ab289",
     "locked": false,
     "points": 3,
     "schema_version": 3,
     "solution": true,
     "task": false
    }
   },
   "source": [
    "$$r =  \\frac{\\sum_{i=1}^n ( x_i - \\bar{x})(y_i - \\bar{y} ) } {{\\sqrt{\\sum_{i=1}^n ( x_i - \\bar{x})^2}}{\\sqrt{\\sum_{i=1}^n ( y_i - \\bar{y} )^2}}}$$"
   ]
  }
 ],
 "metadata": {
  "kernelspec": {
   "display_name": "Python 3",
   "language": "python",
   "name": "python3"
  },
  "language_info": {
   "codemirror_mode": {
    "name": "ipython",
    "version": 3
   },
   "file_extension": ".py",
   "mimetype": "text/x-python",
   "name": "python",
   "nbconvert_exporter": "python",
   "pygments_lexer": "ipython3",
   "version": "3.8.5"
  },
  "toc": {
   "base_numbering": 1,
   "nav_menu": {},
   "number_sections": false,
   "sideBar": true,
   "skip_h1_title": false,
   "title_cell": "Table of Contents",
   "title_sidebar": "Contents",
   "toc_cell": false,
   "toc_position": {},
   "toc_section_display": true,
   "toc_window_display": false
  }
 },
 "nbformat": 4,
 "nbformat_minor": 5
}
