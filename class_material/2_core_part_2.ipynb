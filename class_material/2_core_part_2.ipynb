{
 "cells": [
  {
   "cell_type": "markdown",
   "metadata": {},
   "source": [
    "# Python cheatsheets and tutorials\n",
    "\n",
    "1. [Python basics](https://www.pythoncheatsheet.org/)\n",
    "2. [numpy](http://datacamp-community-prod.s3.amazonaws.com/da466534-51fe-4c6d-b0cb-154f4782eb54)\n",
    "3. [pandas](https://pandas.pydata.org/Pandas_Cheat_Sheet.pdf)\n",
    "4. [Basics, numpy and pandas](https://www.kaggle.com/lavanyashukla01/pandas-numpy-python-cheatsheet)\n",
    "5. [matplotlib for plotting](https://github.com/matplotlib/cheatsheets#cheatsheets) \n",
    "6. [seaborn for plotting](https://seaborn.pydata.org/tutorial.html) "
   ]
  },
  {
   "cell_type": "markdown",
   "metadata": {},
   "source": [
    "# Python basics part 2"
   ]
  },
  {
   "cell_type": "markdown",
   "metadata": {},
   "source": [
    "# Conditionals\n",
    "\n",
    "Generally, conditionals look like\n",
    "\n",
    "    if <test>:\n",
    "        <Code run if test is valid>>\n",
    "\n",
    "or\n",
    "\n",
    "    if <first test>:\n",
    "        <Code run if the first test is valid.>\n",
    "    elif <second test>:\n",
    "        <Code run if the second test is valid>\n",
    "    else:\n",
    "        <Code run if neither test is valid>\n",
    "\n",
    "In both cases the test statements are code segments that return a boolean value, often a test for equality or inequality. The `elif` and `else` statements are always optional; both, either, or none can be included."
   ]
  },
  {
   "cell_type": "code",
   "execution_count": 1,
   "metadata": {},
   "outputs": [
    {
     "name": "stdout",
     "output_type": "stream",
     "text": [
      "x is more than 10\n"
     ]
    }
   ],
   "source": [
    "x = 20\n",
    "\n",
    "if x < 10:\n",
    "    print('x is less than 10')\n",
    "else:\n",
    "    print('x is more than 10')"
   ]
  },
  {
   "cell_type": "markdown",
   "metadata": {},
   "source": [
    "#### Note: Indentation is very important\n",
    "\n",
    "* Indentation in python is typically *4 spaces*. Most programming text editors will be smart about indentation, and will also convert TABs to four spaces. Jupyter notebooks are smart about indentation, and will do the right thing, i.e., autoindent a line below a line with a trailing colon, and convert TABs to spaces.\n",
    "\n",
    "* Indentation is commonly seen in functions, try-except code blocks, conditionals (here), for-while loops (will see later), etc. In Jupyter notebook, just press `Enter` or `Return` following the keyword line (e.g., `def`, `if`, `for`, `while`) and it will create the indentation in the following line."
   ]
  },
  {
   "cell_type": "markdown",
   "metadata": {},
   "source": [
    "---\n",
    "### *Exercise*\n",
    "\n",
    "> Run the code in the following cell. Is this what you want?\n",
    "\n",
    "> Add an `elif` statement to code that will print the correct message when x is 10.\n",
    "\n",
    "---"
   ]
  },
  {
   "cell_type": "code",
   "execution_count": 8,
   "metadata": {},
   "outputs": [],
   "source": [
    "x = 10\n",
    "def check_value(x):\n",
    "    if x < 10:\n",
    "        print('x is less than 10')\n",
    "    elif x == 10: \n",
    "        print('x is 10')\n",
    "    else:\n",
    "        print('x is more than 10')\n"
   ]
  },
  {
   "cell_type": "code",
   "execution_count": 9,
   "metadata": {},
   "outputs": [
    {
     "name": "stdout",
     "output_type": "stream",
     "text": [
      "x is 10\n"
     ]
    }
   ],
   "source": [
    "check_value(x)\n"
   ]
  },
  {
   "cell_type": "markdown",
   "metadata": {},
   "source": [
    "### More on conditional: `and`, `or`"
   ]
  },
  {
   "cell_type": "markdown",
   "metadata": {},
   "source": [
    "* For `and`: when all tests joined by `and` are true, the result will be true. If there is any test that is false, the result will be false.\n",
    "\n",
    "* For `or`: when there is at least one test joined by `or` is true, the result will be true. If all tests are false, the result will be false"
   ]
  },
  {
   "cell_type": "code",
   "execution_count": 10,
   "metadata": {},
   "outputs": [],
   "source": [
    "a = 3\n",
    "b = 4"
   ]
  },
  {
   "cell_type": "code",
   "execution_count": 11,
   "metadata": {},
   "outputs": [
    {
     "name": "stdout",
     "output_type": "stream",
     "text": [
      "a is bigger than 2\n"
     ]
    }
   ],
   "source": [
    "if (a > 2):\n",
    "    print(\"a is bigger than 2\")"
   ]
  },
  {
   "cell_type": "markdown",
   "metadata": {},
   "source": [
    "**using `and`:**"
   ]
  },
  {
   "cell_type": "code",
   "execution_count": 12,
   "metadata": {},
   "outputs": [
    {
     "name": "stdout",
     "output_type": "stream",
     "text": [
      "the result is true\n"
     ]
    }
   ],
   "source": [
    "# both tests are true\n",
    "if (a > 2 and b > 3):\n",
    "    print(\"the result is true\")\n",
    "else:\n",
    "    print(\"the result is false\")"
   ]
  },
  {
   "cell_type": "code",
   "execution_count": 13,
   "metadata": {},
   "outputs": [
    {
     "name": "stdout",
     "output_type": "stream",
     "text": [
      "the result is false\n"
     ]
    }
   ],
   "source": [
    "# one condition is false\n",
    "if (a > 4 and b > 3):\n",
    "    print(\"the result is true\")\n",
    "else:\n",
    "    print(\"the result is false\")"
   ]
  },
  {
   "cell_type": "code",
   "execution_count": 14,
   "metadata": {},
   "outputs": [
    {
     "name": "stdout",
     "output_type": "stream",
     "text": [
      "the result is false\n"
     ]
    }
   ],
   "source": [
    "# both conditions are false\n",
    "if (a > 4 and b > 5):\n",
    "    print(\"the result is true\")\n",
    "else:\n",
    "    print(\"the result is false\")"
   ]
  },
  {
   "cell_type": "markdown",
   "metadata": {},
   "source": [
    "**using `or`:**"
   ]
  },
  {
   "cell_type": "code",
   "execution_count": 15,
   "metadata": {},
   "outputs": [
    {
     "name": "stdout",
     "output_type": "stream",
     "text": [
      "the result is true\n"
     ]
    }
   ],
   "source": [
    "# both tests are true\n",
    "if (a > 2 or b > 3):\n",
    "    print(\"the result is true\")\n",
    "else:\n",
    "    print(\"the result is false\")"
   ]
  },
  {
   "cell_type": "code",
   "execution_count": 16,
   "metadata": {},
   "outputs": [
    {
     "name": "stdout",
     "output_type": "stream",
     "text": [
      "the result is true\n"
     ]
    }
   ],
   "source": [
    "# one condition is false\n",
    "if (a > 4 or b > 3):\n",
    "    print(\"the result is true\")\n",
    "else:\n",
    "    print(\"the result is false\")"
   ]
  },
  {
   "cell_type": "code",
   "execution_count": 17,
   "metadata": {},
   "outputs": [
    {
     "name": "stdout",
     "output_type": "stream",
     "text": [
      "the result is false\n"
     ]
    }
   ],
   "source": [
    "# both conditions are false\n",
    "if (a > 4 or b > 5):\n",
    "    print(\"the result is true\")\n",
    "else:\n",
    "    print(\"the result is false\")"
   ]
  },
  {
   "cell_type": "markdown",
   "metadata": {},
   "source": [
    "# Loops\n",
    "\n",
    "Loops are one of the fundamental structures in programming. Loops allow you to iterate over each element in a sequence, one at a time, and do something with those elements."
   ]
  },
  {
   "cell_type": "markdown",
   "metadata": {},
   "source": [
    "### For loops"
   ]
  },
  {
   "cell_type": "code",
   "execution_count": 18,
   "metadata": {},
   "outputs": [
    {
     "name": "stdout",
     "output_type": "stream",
     "text": [
      "1\n",
      "2\n",
      "3\n"
     ]
    }
   ],
   "source": [
    "for i in [1, 2, 3]:\n",
    "    print(i)"
   ]
  },
  {
   "cell_type": "markdown",
   "metadata": {},
   "source": [
    "*Loop syntax*: Loops have a very particular syntax in Python; this syntax is one of the most notable features to Python newcomers. The format looks like (using for-loop as an example)\n",
    "\n",
    "    for *element* in *sequence*:                # NOTE the colon at the end\n",
    "        <some code that uses the *element*>     # the block of code that is looped over for each element\n",
    "        <more code that uses the *element*>     # is indented four spaces (yes four! yes spaces!)\n",
    "    \n",
    "    <the code after the loop continues>         # the end of the loop is marked simply by unindented code\n",
    "    \n",
    "**Indentation is important**."
   ]
  },
  {
   "cell_type": "markdown",
   "metadata": {},
   "source": [
    "A simple example of the for-loop is to find the sum of the squares of the sequence 0 through 99:\n",
    "\n",
    "**Note in the following codes:**\n",
    "\n",
    "1. the `+=` operator is equivalent to `sum = sum + n**2` equal to `sum += n**2`\n",
    "2. the `**` operator is a power\n",
    "3. the range function yields a sequence of numbers from 0 up to but not including the number inside range. For example, range(5) will yields a sequence of numbers from 0 up to 4 (**not 5!**)"
   ]
  },
  {
   "cell_type": "code",
   "execution_count": 19,
   "metadata": {},
   "outputs": [
    {
     "name": "stdout",
     "output_type": "stream",
     "text": [
      "328350\n"
     ]
    }
   ],
   "source": [
    "sum_of_squares = 0\n",
    "\n",
    "for n in range(100):\n",
    "    sum_of_squares += n**2        \n",
    "\n",
    "print(sum_of_squares)"
   ]
  },
  {
   "cell_type": "markdown",
   "metadata": {},
   "source": [
    "**More on range (see this [tutorial](https://www.datacamp.com/community/tutorials/python-range-function?utm_source=adwords_ppc&utm_medium=cpc&utm_campaignid=14051819510&utm_adgroupid=&utm_device=c&utm_keyword=&utm_matchtype=&utm_network=x&utm_adpostion=&utm_creative=&utm_targetid=&utm_loc_interest_ms=&utm_loc_physical_ms=1026305&gclid=Cj0KCQiAieWOBhCYARIsANcOw0zo4UpTfmMB8VpGxUMp-G9zZDdV5Htglp9FGF_9sobW9aGkq_FnjxIaAmFoEALw_wcB))**\n",
    "\n",
    "* The range function is a very popular and widely used function in Python, especially when you are working with predominantly **for loops**.\n",
    "\n",
    "* Since the `range()` function returns a **generator object** that only stores the start, stop, and step values, it consumes less amount of memory irrespective of the range it represents when compared to a list or tuple.\n",
    "\n",
    "* The range() function can be represented in three different ways, or you can think of them as three range parameters:\n",
    "    1. range(start, stop, step) : This generates the sequence based on the start and stop value (not including the stop value), with a step size of step.\n",
    "    2. range(start, stop) : This generates the sequence based on the start and stop value (not including the stop value), with a step size of 1.\n",
    "    3. range(stop): This generates the sequence based on the start (0) and stop value (not including the stop value), with a step size of 1."
   ]
  },
  {
   "cell_type": "code",
   "execution_count": 20,
   "metadata": {},
   "outputs": [
    {
     "name": "stdout",
     "output_type": "stream",
     "text": [
      "2\n",
      "4\n",
      "6\n",
      "8\n"
     ]
    }
   ],
   "source": [
    "# some examples\n",
    "for i in range(2,10,2):\n",
    "    print(i)"
   ]
  },
  {
   "cell_type": "code",
   "execution_count": 21,
   "metadata": {},
   "outputs": [
    {
     "name": "stdout",
     "output_type": "stream",
     "text": [
      "2\n",
      "3\n",
      "4\n",
      "5\n",
      "6\n",
      "7\n",
      "8\n",
      "9\n"
     ]
    }
   ],
   "source": [
    "# some examples\n",
    "for i in range(2,10):\n",
    "    print(i)"
   ]
  },
  {
   "cell_type": "code",
   "execution_count": 22,
   "metadata": {},
   "outputs": [
    {
     "name": "stdout",
     "output_type": "stream",
     "text": [
      "0\n",
      "1\n",
      "2\n",
      "3\n",
      "4\n",
      "5\n",
      "6\n",
      "7\n",
      "8\n",
      "9\n"
     ]
    }
   ],
   "source": [
    "# some examples\n",
    "for i in range(10):\n",
    "    print(i)"
   ]
  },
  {
   "cell_type": "code",
   "execution_count": 23,
   "metadata": {},
   "outputs": [
    {
     "name": "stdout",
     "output_type": "stream",
     "text": [
      "0\n",
      "1\n",
      "2\n",
      "3\n",
      "4\n",
      "5\n",
      "6\n",
      "7\n",
      "8\n",
      "9\n"
     ]
    }
   ],
   "source": [
    "# This cell generates the same result, but is not recommended\n",
    "# compared with range(10), this [0, 1, 2, 3, 4, 5, 6, 7, 8, 9] will consume more memory\n",
    "for i in [0, 1, 2, 3, 4, 5, 6, 7, 8, 9]:\n",
    "    print(i)\n"
   ]
  },
  {
   "cell_type": "markdown",
   "metadata": {},
   "source": [
    "---\n",
    "### *Exercise*\n",
    "\n",
    "> Create a for loop. print from 10 to 1.\n",
    "\n",
    "---"
   ]
  },
  {
   "cell_type": "code",
   "execution_count": 34,
   "metadata": {},
   "outputs": [
    {
     "name": "stdout",
     "output_type": "stream",
     "text": [
      "10\n",
      "9\n",
      "8\n",
      "7\n",
      "6\n",
      "5\n",
      "4\n",
      "3\n",
      "2\n",
      "1\n"
     ]
    }
   ],
   "source": [
    "for i in range(10,0,-1):\n",
    "    print(i)"
   ]
  },
  {
   "cell_type": "markdown",
   "metadata": {},
   "source": [
    "You can iterate over any sequence (e.g., range, list, or **even string**)! Note that string is also a sequence."
   ]
  },
  {
   "cell_type": "code",
   "execution_count": 36,
   "metadata": {},
   "outputs": [
    {
     "name": "stdout",
     "output_type": "stream",
     "text": [
      "h\n",
      "e\n",
      "l\n",
      "l\n",
      "o\n",
      ",\n",
      " \n",
      "w\n",
      "o\n",
      "r\n",
      "l\n",
      "d\n"
     ]
    }
   ],
   "source": [
    "for element in \"hello, world\":\n",
    "    print(element)"
   ]
  },
  {
   "cell_type": "markdown",
   "metadata": {},
   "source": [
    "**Tips**: If you only need the element (not the indices) inside the sequence, it is better to **iterate over the sequence itself** than to **loop over the indices of that sequence**. \n",
    "\n",
    "The following two examples give the same result, but the first is much more readable and easily understood than the second. **Do the first whenever possible**."
   ]
  },
  {
   "cell_type": "code",
   "execution_count": 37,
   "metadata": {},
   "outputs": [
    {
     "name": "stdout",
     "output_type": "stream",
     "text": [
      "the quick brown fox jumped over the lazy dog \n"
     ]
    }
   ],
   "source": [
    "# THIS IS BETTER THAN THE NEXT CODE BLOCK. DO IT THIS WAY.\n",
    "words = ['the', 'quick', 'brown', 'fox', 'jumped', 'over', 'the', 'lazy', 'dog']\n",
    "\n",
    "sentence = ''  # this initializes a string which we can then add onto\n",
    "for word in words:\n",
    "    sentence += word + ' ' # note '+=' is equivalent to sentence = sentence + word + ' '\n",
    "\n",
    "print(sentence)"
   ]
  },
  {
   "cell_type": "code",
   "execution_count": 38,
   "metadata": {},
   "outputs": [
    {
     "name": "stdout",
     "output_type": "stream",
     "text": [
      "the quick brown fox jumped over the lazy dog \n"
     ]
    }
   ],
   "source": [
    "# DON'T DO IT THIS WAY IF POSSIBLE, DO IT THE WAY IN THE PREVIOUS CODE BLOCK.\n",
    "words = ['the', 'quick', 'brown', 'fox', 'jumped', 'over', 'the', 'lazy', 'dog']\n",
    "\n",
    "sentence = ''\n",
    "for i in range(len(words)):\n",
    "    sentence += words[i] + ' '\n",
    "\n",
    "print(sentence)"
   ]
  },
  {
   "cell_type": "markdown",
   "metadata": {},
   "source": [
    "Sometimes you want to iterate over both the elements and their indices in a sequence. One way to do that is the `enumerate` function:\n",
    "\n",
    "    enumerate(<sequence>)\n",
    "\n",
    "This returns a sequence of **tuples** containing two items. The first item in each tuple is the index, the second is the element itself. It is commonly used in `for` loops, like"
   ]
  },
  {
   "cell_type": "code",
   "execution_count": 39,
   "metadata": {},
   "outputs": [
    {
     "name": "stdout",
     "output_type": "stream",
     "text": [
      "The iteration is (0, 'the')\n",
      "The iteration is (1, 'quick')\n",
      "The iteration is (2, 'brown')\n",
      "The iteration is (3, 'fox')\n",
      "The iteration is (4, 'jumped')\n",
      "The iteration is (5, 'over')\n",
      "The iteration is (6, 'the')\n",
      "The iteration is (7, 'lazy')\n",
      "The iteration is (8, 'dog')\n"
     ]
    }
   ],
   "source": [
    "for tuple_word in enumerate(words):\n",
    "    print('The iteration is', tuple_word)"
   ]
  },
  {
   "cell_type": "markdown",
   "metadata": {},
   "source": [
    "**If you want to seperate the index and the element:**"
   ]
  },
  {
   "cell_type": "code",
   "execution_count": 40,
   "metadata": {},
   "outputs": [
    {
     "name": "stdout",
     "output_type": "stream",
     "text": [
      "The index is 0 and the word is the\n",
      "The index is 1 and the word is quick\n",
      "The index is 2 and the word is brown\n",
      "The index is 3 and the word is fox\n",
      "The index is 4 and the word is jumped\n",
      "The index is 5 and the word is over\n",
      "The index is 6 and the word is the\n",
      "The index is 7 and the word is lazy\n",
      "The index is 8 and the word is dog\n"
     ]
    }
   ],
   "source": [
    "for idx, word in enumerate(words):\n",
    "    print('The index is {0} and the word is {1}'.format(idx, word))"
   ]
  },
  {
   "cell_type": "markdown",
   "metadata": {},
   "source": [
    "---\n",
    "### *Exercise*\n",
    "\n",
    "> Create a list that contains \"Sam\", \"Tim\", and \"Lidia\", iterate this list and print out the following <br>\n",
    "\n",
    "Number 1 is Sam <br>\n",
    "Number 2 is Tim <br>\n",
    "Number 3 is Lidia <br>\n",
    "\n",
    "> Try to use two print methods\n",
    "\n",
    "---"
   ]
  },
  {
   "cell_type": "code",
   "execution_count": 46,
   "metadata": {},
   "outputs": [
    {
     "name": "stdout",
     "output_type": "stream",
     "text": [
      "Number 1 is Sam\n",
      "Number 2 is Tim\n",
      "Number 3 is Lidia\n"
     ]
    }
   ],
   "source": [
    "name_list = ['Sam', 'Tim', 'Lidia']\n",
    "\n",
    "for idx, name in enumerate(name_list):\n",
    "    print('Number {0} is {1}'.format(idx+1,name))"
   ]
  },
  {
   "cell_type": "code",
   "execution_count": 47,
   "metadata": {},
   "outputs": [
    {
     "name": "stdout",
     "output_type": "stream",
     "text": [
      "Number 1 is Sam\n",
      "Number 2 is Tim\n",
      "Number 3 is Lidia\n"
     ]
    }
   ],
   "source": [
    "for idx, name in enumerate(name_list):\n",
    "    print('Number ' + str(idx+1) + ' is '+ name)"
   ]
  },
  {
   "cell_type": "markdown",
   "metadata": {},
   "source": [
    "### List comprehension (super useful!)\n",
    "\n",
    "There is a short way to make a list from a simple rule by using list comprehensions. The syntax is like\n",
    "\n",
    "    [<element(item)> for item in sequence]\n",
    "    \n",
    "The `element` can be any code snippet that depends on the `item`. "
   ]
  },
  {
   "cell_type": "markdown",
   "metadata": {},
   "source": [
    "for example, we can calculate the squares of the first 10 integers"
   ]
  },
  {
   "cell_type": "code",
   "execution_count": 48,
   "metadata": {},
   "outputs": [
    {
     "data": {
      "text/plain": [
       "[0, 1, 4, 9, 16, 25, 36, 49, 64, 81]"
      ]
     },
     "execution_count": 48,
     "metadata": {},
     "output_type": "execute_result"
    }
   ],
   "source": [
    "[i**2 for i in range(10)]"
   ]
  },
  {
   "cell_type": "code",
   "execution_count": 49,
   "metadata": {},
   "outputs": [
    {
     "data": {
      "text/plain": [
       "[0, 1, 4, 9, 16, 25, 36, 49, 64, 81]"
      ]
     },
     "execution_count": 49,
     "metadata": {},
     "output_type": "execute_result"
    }
   ],
   "source": [
    "# the normal way (cumbersome!):\n",
    "xx = []\n",
    "for i in range(10):\n",
    "    xx.append(i**2)\n",
    "xx"
   ]
  },
  {
   "cell_type": "markdown",
   "metadata": {},
   "source": [
    "This example gives a sequence of boolean values that determine if the element in a list is a string."
   ]
  },
  {
   "cell_type": "code",
   "execution_count": 50,
   "metadata": {},
   "outputs": [
    {
     "data": {
      "text/plain": [
       "[False, False, True, False, False]"
      ]
     },
     "execution_count": 50,
     "metadata": {},
     "output_type": "execute_result"
    }
   ],
   "source": [
    "random_list = [1, 2, 'three', 4.0, ['five']]\n",
    "foo = [isinstance(item, str) for item in random_list]\n",
    "foo"
   ]
  },
  {
   "cell_type": "markdown",
   "metadata": {},
   "source": [
    "*the normal for-loop: cumbersome!!!*"
   ]
  },
  {
   "cell_type": "code",
   "execution_count": 51,
   "metadata": {},
   "outputs": [
    {
     "data": {
      "text/plain": [
       "[False, False, True, False, False]"
      ]
     },
     "execution_count": 51,
     "metadata": {},
     "output_type": "execute_result"
    }
   ],
   "source": [
    "random_list = [1, 2, 'three', 4.0, ['five']]\n",
    "\n",
    "foo = []\n",
    "for item in random_list:\n",
    "    foo.append(isinstance(item, str))\n",
    "foo"
   ]
  },
  {
   "cell_type": "markdown",
   "metadata": {},
   "source": [
    "---\n",
    "### *Exercise*\n",
    "\n",
    "> Modify the previous list comprehension to test if the elements are integers.\n",
    "\n",
    "---"
   ]
  },
  {
   "cell_type": "code",
   "execution_count": 53,
   "metadata": {},
   "outputs": [
    {
     "data": {
      "text/plain": [
       "[True, True, False, False, False]"
      ]
     },
     "execution_count": 53,
     "metadata": {},
     "output_type": "execute_result"
    }
   ],
   "source": [
    "[isinstance(item, int) for item in random_list]"
   ]
  },
  {
   "cell_type": "markdown",
   "metadata": {},
   "source": [
    "**Combine list comprehension with filtering**\n",
    "\n",
    "This filtering form is similar to the simple form of list comprehension, but it evaluates boolean-expression for every item. It also only keeps those members for which the boolean expression is True."
   ]
  },
  {
   "cell_type": "code",
   "execution_count": 54,
   "metadata": {},
   "outputs": [
    {
     "data": {
      "text/plain": [
       "[0, 1, 2, 3, 4, 5, 6, 7, 8, 9]"
      ]
     },
     "execution_count": 54,
     "metadata": {},
     "output_type": "execute_result"
    }
   ],
   "source": [
    "# obtain the integers from 0 to 9\n",
    "foo = [i for i in range(10)]\n",
    "foo"
   ]
  },
  {
   "cell_type": "code",
   "execution_count": 55,
   "metadata": {},
   "outputs": [
    {
     "data": {
      "text/plain": [
       "[0, 3, 6, 9]"
      ]
     },
     "execution_count": 55,
     "metadata": {},
     "output_type": "execute_result"
    }
   ],
   "source": [
    "# obtain the integers from 0 to 9 that are divisible by 3\n",
    "# we use the modulus operator % to check is the remainder is 0\n",
    "foo = [i for i in range(10) if i % 3 == 0]\n",
    "foo"
   ]
  },
  {
   "cell_type": "markdown",
   "metadata": {},
   "source": [
    "*the normal for-loop: cumbersome!!!* Not recommended!"
   ]
  },
  {
   "cell_type": "code",
   "execution_count": 56,
   "metadata": {},
   "outputs": [
    {
     "data": {
      "text/plain": [
       "[0, 3, 6, 9]"
      ]
     },
     "execution_count": 56,
     "metadata": {},
     "output_type": "execute_result"
    }
   ],
   "source": [
    "foo = []\n",
    "for i in range(10):\n",
    "    if i % 3 == 0:\n",
    "        foo.append(i)\n",
    "        \n",
    "foo"
   ]
  },
  {
   "cell_type": "markdown",
   "metadata": {},
   "source": [
    "### While loops\n",
    "\n",
    "The majority of loops that you will write will be `for` loops. These are loops that have a defined number of iterations, over a specified sequence. However, there may be times when it is not clear when the loop should terminate. In this case, you use a `while` loop. This has the syntax\n",
    "\n",
    "    while <condition>:\n",
    "        <code>\n",
    "\n",
    "The while loop is like a repeated if statement. The code is executed over and over again, as long as the `condition` is True.\n",
    "\n",
    "`condition` should be something that can be evaluated when the loop is started, and the variables that determine the conditional should be modified in the loop and should finally yield a false condition to stop the loop.\n",
    "\n",
    "**This kind of loop should be used carefully** — it is relatively easy to accidentally create an infinite loop, where the condition is never triggered to stop so the loop continues forever. **This can cause the computer to crash**."
   ]
  },
  {
   "cell_type": "markdown",
   "metadata": {},
   "source": [
    "Here is an example of using the while loop to check the error of a dummy numerical model\n",
    "\n",
    "* Error starts at 50\n",
    "* Error is divided by 4 on every run\n",
    "* Continue until error is no longer > 1"
   ]
  },
  {
   "cell_type": "code",
   "execution_count": 60,
   "metadata": {},
   "outputs": [
    {
     "name": "stdout",
     "output_type": "stream",
     "text": [
      "12.5\n",
      "3.125\n",
      "0.78125\n"
     ]
    }
   ],
   "source": [
    "error = 50\n",
    "\n",
    "while error > 1:\n",
    "    error = error / 4\n",
    "    print(error)"
   ]
  },
  {
   "cell_type": "markdown",
   "metadata": {},
   "source": [
    "---\n",
    "### *Exercise*\n",
    "\n",
    "* Write a for loop, add up integers from 0 to 100.\n",
    "\n",
    "* Write a while loop, add up integers from 0 to 100.\n",
    "\n",
    "---"
   ]
  },
  {
   "cell_type": "code",
   "execution_count": 70,
   "metadata": {},
   "outputs": [
    {
     "data": {
      "text/plain": [
       "5050"
      ]
     },
     "execution_count": 70,
     "metadata": {},
     "output_type": "execute_result"
    }
   ],
   "source": [
    "to100 = range(0,101,1)\n",
    "sum_num = 0\n",
    "for i in to100:\n",
    "    sum_num += i\n",
    "sum_num"
   ]
  },
  {
   "cell_type": "code",
   "execution_count": 76,
   "metadata": {},
   "outputs": [
    {
     "name": "stdout",
     "output_type": "stream",
     "text": [
      "5050\n"
     ]
    }
   ],
   "source": [
    "i = 0 \n",
    "sum_num = 0\n",
    "\n",
    "while i < 101:\n",
    "    sum_num = sum_num +i\n",
    "    i = i + 1\n",
    "    \n",
    "print(sum_num)"
   ]
  },
  {
   "cell_type": "markdown",
   "metadata": {},
   "source": [
    "### Flow control: combine loops and conditionals\n",
    "\n",
    "There are a few statements that allow you to control the flow of any iterative loop: `continue`, `break`, and `pass`.\n",
    "\n",
    "- `continue` stops the current iteration and continues to the next element of the loop, if there is one.\n",
    "\n",
    "- `break` stops the current iteration, and leaves the loop."
   ]
  },
  {
   "cell_type": "code",
   "execution_count": 72,
   "metadata": {},
   "outputs": [
    {
     "name": "stdout",
     "output_type": "stream",
     "text": [
      "0\n",
      "1\n",
      "2\n",
      "3\n",
      "4\n",
      "6\n",
      "7\n",
      "8\n",
      "9\n",
      "done\n"
     ]
    }
   ],
   "source": [
    "# print all the numbers from 0 to 9, except 5\n",
    "for n in range(10):\n",
    "    if n == 5:\n",
    "        continue\n",
    "    print(n)\n",
    "\n",
    "print('done')"
   ]
  },
  {
   "cell_type": "code",
   "execution_count": 73,
   "metadata": {},
   "outputs": [
    {
     "name": "stdout",
     "output_type": "stream",
     "text": [
      "0\n",
      "1\n",
      "2\n",
      "3\n",
      "4\n",
      "done\n"
     ]
    }
   ],
   "source": [
    "# print all the numbers up to (but not including) 5, then break out of the loop.\n",
    "for n in range(10):\n",
    "    if n == 5:\n",
    "        break\n",
    "    print(n)\n",
    "\n",
    "print('done')\n"
   ]
  },
  {
   "cell_type": "markdown",
   "metadata": {
    "collapsed": true
   },
   "source": [
    "# Functions\n",
    "\n",
    "Functions are ways to create reusable blocks of code that can be run with different variable values – the input variables to the function. Functions are defined using the syntax\n",
    "\n",
    "    def <function name>(var1, var2, ...):\n",
    "        <block of code...>\n",
    "        return <return variable(s)>\n",
    "\n",
    "Functions can be defined at any point in the code, and called at any subsequent point.\n",
    "\n",
    "**Note:** \n",
    "\n",
    "1. indentation following the `def` line!\n",
    "2. the return statement is not required if you don't want to return anything!"
   ]
  },
  {
   "cell_type": "code",
   "execution_count": 74,
   "metadata": {},
   "outputs": [],
   "source": [
    "def addfive(x):\n",
    "    return x + 5"
   ]
  },
  {
   "cell_type": "markdown",
   "metadata": {},
   "source": [
    "**If you want to run the function, you need to call the function. You can use either positional argument or keyword argument**"
   ]
  },
  {
   "cell_type": "code",
   "execution_count": 75,
   "metadata": {},
   "outputs": [
    {
     "data": {
      "text/plain": [
       "8"
      ]
     },
     "execution_count": 75,
     "metadata": {},
     "output_type": "execute_result"
    }
   ],
   "source": [
    "addfive(3) # positional argument without x"
   ]
  },
  {
   "cell_type": "code",
   "execution_count": null,
   "metadata": {},
   "outputs": [],
   "source": [
    "addfive(x = 3) # keyword argument with x"
   ]
  },
  {
   "cell_type": "markdown",
   "metadata": {},
   "source": [
    "**recap on the difference between interactive output and the real `print` function**"
   ]
  },
  {
   "cell_type": "code",
   "execution_count": null,
   "metadata": {},
   "outputs": [],
   "source": [
    "def addfive_with_print(x):\n",
    "    print(x+5)\n",
    "    return x+5"
   ]
  },
  {
   "cell_type": "code",
   "execution_count": null,
   "metadata": {},
   "outputs": [],
   "source": [
    "addfive_with_print(3)"
   ]
  },
  {
   "cell_type": "code",
   "execution_count": null,
   "metadata": {},
   "outputs": [],
   "source": [
    "a = addfive_with_print(3)"
   ]
  },
  {
   "cell_type": "code",
   "execution_count": null,
   "metadata": {
    "scrolled": true
   },
   "outputs": [],
   "source": [
    "a"
   ]
  },
  {
   "cell_type": "markdown",
   "metadata": {},
   "source": [
    "**Note that function stops after running `return`**"
   ]
  },
  {
   "cell_type": "code",
   "execution_count": null,
   "metadata": {},
   "outputs": [],
   "source": [
    "def addfive_with_print_wrong(x):\n",
    "    return x + 5\n",
    "    print(x + 5) # print will not work here!!!"
   ]
  },
  {
   "cell_type": "markdown",
   "metadata": {},
   "source": [
    "why is nothing printed out when you run the cell below?"
   ]
  },
  {
   "cell_type": "code",
   "execution_count": null,
   "metadata": {},
   "outputs": [],
   "source": [
    "a = addfive_with_print_wrong(3)"
   ]
  },
  {
   "cell_type": "markdown",
   "metadata": {},
   "source": [
    "## More on function inputs and outputs\n",
    "\n",
    "Functions can have multiple input and output values."
   ]
  },
  {
   "cell_type": "code",
   "execution_count": 1,
   "metadata": {},
   "outputs": [],
   "source": [
    "def sasos(a, b, c):\n",
    "    res1 = 2*a + b + c\n",
    "    res2 = a**3 + b**2 + c**2\n",
    "    return res1, res2"
   ]
  },
  {
   "cell_type": "code",
   "execution_count": 2,
   "metadata": {},
   "outputs": [
    {
     "data": {
      "text/plain": [
       "(7, 14)"
      ]
     },
     "execution_count": 2,
     "metadata": {},
     "output_type": "execute_result"
    }
   ],
   "source": [
    "# note that \"return res1, res2\" in the function above will return a tuple\n",
    "s = sasos(1,2,3) # positional argument\n",
    "s"
   ]
  },
  {
   "cell_type": "code",
   "execution_count": null,
   "metadata": {},
   "outputs": [],
   "source": [
    "s = sasos(a = 1, b = 2, c = 3) # keyword argument\n",
    "s"
   ]
  },
  {
   "cell_type": "code",
   "execution_count": null,
   "metadata": {},
   "outputs": [],
   "source": [
    "s = sasos(c = 3, b = 2, a = 1) # keyword argument with a new sequence\n",
    "s"
   ]
  },
  {
   "cell_type": "code",
   "execution_count": null,
   "metadata": {},
   "outputs": [],
   "source": [
    "s = sasos(3, 2, 1) # positional argument with a new sequence\n",
    "s "
   ]
  },
  {
   "cell_type": "code",
   "execution_count": null,
   "metadata": {},
   "outputs": [],
   "source": [
    "# unpack the tuple\n",
    "s1, s2 = sasos(1, 2, 3)\n",
    "print(s1)\n",
    "print(s2)"
   ]
  },
  {
   "cell_type": "code",
   "execution_count": null,
   "metadata": {},
   "outputs": [],
   "source": [
    "# You can assign the output first to a single variable and then unpack later\n",
    "# but this needs more lines of code\n",
    "s = sasos(1, 2, 3)\n",
    "s1 = s[0]\n",
    "s2 = s[1]\n",
    "print(s1)\n",
    "print(s2)"
   ]
  },
  {
   "cell_type": "markdown",
   "metadata": {},
   "source": [
    "Functions can have variables with default values."
   ]
  },
  {
   "cell_type": "code",
   "execution_count": 4,
   "metadata": {},
   "outputs": [],
   "source": [
    "def powsum(x, y, z, a=1, b=2, c=3):\n",
    "    return x**a + y**b + z**c # x to the power of a, y to the powe of b, and z to the power of c"
   ]
  },
  {
   "cell_type": "code",
   "execution_count": 5,
   "metadata": {},
   "outputs": [
    {
     "data": {
      "text/plain": [
       "75"
      ]
     },
     "execution_count": 5,
     "metadata": {},
     "output_type": "execute_result"
    }
   ],
   "source": [
    "powsum(2, 3, 4) # positional argument with all default a, b, c values"
   ]
  },
  {
   "cell_type": "code",
   "execution_count": 6,
   "metadata": {},
   "outputs": [
    {
     "data": {
      "text/plain": [
       "309"
      ]
     },
     "execution_count": 6,
     "metadata": {},
     "output_type": "execute_result"
    }
   ],
   "source": [
    "powsum(2, 3, 4, b=5) # positional argument with new keyword argument b"
   ]
  },
  {
   "cell_type": "code",
   "execution_count": 7,
   "metadata": {},
   "outputs": [
    {
     "data": {
      "text/plain": [
       "23"
      ]
     },
     "execution_count": 7,
     "metadata": {},
     "output_type": "execute_result"
    }
   ],
   "source": [
    "powsum(z=2, c=2, x=3, y=4) # all arguments are keyword arguments"
   ]
  },
  {
   "cell_type": "markdown",
   "metadata": {},
   "source": [
    "---\n",
    "### *Exercise*\n",
    "\n",
    "* Verify `powsum(z=2, x=3, y=4, c=2)` is the same as `powsum(3, 4, 2, c=2)`\n",
    "\n",
    "* What happens when you do `powsum(3, 4, 2, x=2)`?  Why?\n",
    "\n",
    "\n",
    "---"
   ]
  },
  {
   "cell_type": "code",
   "execution_count": 11,
   "metadata": {},
   "outputs": [
    {
     "data": {
      "text/plain": [
       "True"
      ]
     },
     "execution_count": 11,
     "metadata": {},
     "output_type": "execute_result"
    }
   ],
   "source": [
    "powsum(z=2,x=3,y=4,c=2) == powsum(3,4,2,c=2)\n"
   ]
  },
  {
   "cell_type": "code",
   "execution_count": 9,
   "metadata": {},
   "outputs": [
    {
     "data": {
      "text/plain": [
       "23"
      ]
     },
     "execution_count": 9,
     "metadata": {},
     "output_type": "execute_result"
    }
   ],
   "source": [
    "powsum(3,4,2,c=2)"
   ]
  },
  {
   "cell_type": "code",
   "execution_count": 10,
   "metadata": {},
   "outputs": [
    {
     "ename": "TypeError",
     "evalue": "powsum() got multiple values for argument 'x'",
     "output_type": "error",
     "traceback": [
      "\u001b[0;31m---------------------------------------------------------------------------\u001b[0m",
      "\u001b[0;31mTypeError\u001b[0m                                 Traceback (most recent call last)",
      "\u001b[0;32m/var/folders/4l/gn64yzcd6938cphmlv0bpkj80000gn/T/ipykernel_37645/3593959024.py\u001b[0m in \u001b[0;36m<module>\u001b[0;34m\u001b[0m\n\u001b[0;32m----> 1\u001b[0;31m \u001b[0mpowsum\u001b[0m\u001b[0;34m(\u001b[0m\u001b[0;36m3\u001b[0m\u001b[0;34m,\u001b[0m\u001b[0;36m4\u001b[0m\u001b[0;34m,\u001b[0m\u001b[0;36m2\u001b[0m\u001b[0;34m,\u001b[0m\u001b[0mx\u001b[0m\u001b[0;34m=\u001b[0m\u001b[0;36m2\u001b[0m\u001b[0;34m)\u001b[0m\u001b[0;34m\u001b[0m\u001b[0;34m\u001b[0m\u001b[0m\n\u001b[0m",
      "\u001b[0;31mTypeError\u001b[0m: powsum() got multiple values for argument 'x'"
     ]
    }
   ],
   "source": [
    "powsum(3,4,2,x=2)"
   ]
  },
  {
   "cell_type": "markdown",
   "metadata": {},
   "source": [
    "## Docstrings\n",
    "\n",
    "You can add 'help' text to functions by adding a `docstring`(paired triple single-quotes or double-quotes), which is just a regular string, right below the definition of the function. **This should be considered a mandatory step in your code writing.**\n",
    "\n",
    "> Do Something Today, That You'll Thank Yourself For Tomorrow."
   ]
  },
  {
   "cell_type": "code",
   "execution_count": 12,
   "metadata": {},
   "outputs": [],
   "source": [
    "def addfive(x):\n",
    "    '''Return the argument plus five\n",
    "    \n",
    "    Input:  x\n",
    "            A number\n",
    "    \n",
    "    Output: foo\n",
    "            The number x plus five\n",
    "    \n",
    "    '''\n",
    "    return x + 5"
   ]
  },
  {
   "cell_type": "code",
   "execution_count": null,
   "metadata": {},
   "outputs": [],
   "source": [
    "# now, try addfive?\n",
    "# addfive?"
   ]
  },
  {
   "cell_type": "code",
   "execution_count": 13,
   "metadata": {},
   "outputs": [
    {
     "data": {
      "text/plain": [
       "8"
      ]
     },
     "execution_count": 13,
     "metadata": {},
     "output_type": "execute_result"
    }
   ],
   "source": [
    "addfive(3)"
   ]
  },
  {
   "cell_type": "markdown",
   "metadata": {},
   "source": [
    "See [PEP-257](https://www.python.org/dev/peps/pep-0257/) for guidelines about writing good docstrings."
   ]
  },
  {
   "cell_type": "markdown",
   "metadata": {},
   "source": [
    "## Scope of variables\n",
    "The scope of a variable refers to the segment of the code in which the variable is accessible.\n",
    "\n",
    "\n",
    "* Variables that can be accessed throughout the program are called **global variables**. The variables we created up to now are almost all global variables (except inside of a function). <br><br>\n",
    "\n",
    "* Variables with limited scope are called **local variables**. Variables defined inside a function have their scope limited to the function. They cannot be accessed from the outside and only exit in memory as long as the function executes. That is, all of the variables that are changed within the block of code inside a function are only changed within that block, and do not affect similarly named variables outside the function."
   ]
  },
  {
   "cell_type": "code",
   "execution_count": 14,
   "metadata": {},
   "outputs": [
    {
     "name": "stdout",
     "output_type": "stream",
     "text": [
      "Inside changex, x = 15\n"
     ]
    }
   ],
   "source": [
    "x = 5 # global variable\n",
    "\n",
    "def changex(x):      # This x is local to the function\n",
    "    y = 10           # This y is local to the function\n",
    "    x = x + y         # h ere the local variable x is changed\n",
    "    print('Inside changex, x =', x)\n",
    "    return x\n",
    "\n",
    "res = changex(x)    # supply the value of x in the 'global' scope"
   ]
  },
  {
   "cell_type": "code",
   "execution_count": 15,
   "metadata": {},
   "outputs": [
    {
     "name": "stdout",
     "output_type": "stream",
     "text": [
      "The returned value is 15\n",
      "Outside of changex, x = 5\n"
     ]
    }
   ],
   "source": [
    "print('The returned value is', res)          \n",
    "print('Outside of changex, x =', x)            # The global x is unchanged "
   ]
  },
  {
   "cell_type": "code",
   "execution_count": null,
   "metadata": {},
   "outputs": [],
   "source": [
    "# print(y) # y is inside of the changex function so it is not defined"
   ]
  },
  {
   "cell_type": "markdown",
   "metadata": {},
   "source": [
    "Variables from the 'global' scope can be used within a function, as long as those variables are unchanged. This technique should generally only be used when it is very clear what value the global variable has, for example, in very short helper functions."
   ]
  },
  {
   "cell_type": "code",
   "execution_count": 16,
   "metadata": {},
   "outputs": [],
   "source": [
    "x = 5\n",
    "\n",
    "def dostuffwithx():\n",
    "    res = x + 5       # Here, the global value of x is used, since it is not passed to the function explicitly,\n",
    "                      # or defined inside the function.\n",
    "    return res"
   ]
  },
  {
   "cell_type": "code",
   "execution_count": 19,
   "metadata": {},
   "outputs": [
    {
     "data": {
      "text/plain": [
       "10"
      ]
     },
     "execution_count": 19,
     "metadata": {},
     "output_type": "execute_result"
    }
   ],
   "source": [
    "dostuffwithx()"
   ]
  },
  {
   "cell_type": "markdown",
   "metadata": {},
   "source": [
    "**Tip**: Even if there is no argument in the function, you still need to use the round bracket following function's name when you run the function!"
   ]
  },
  {
   "cell_type": "code",
   "execution_count": null,
   "metadata": {
    "scrolled": true
   },
   "outputs": [],
   "source": [
    "dostuffwithx"
   ]
  },
  {
   "cell_type": "markdown",
   "metadata": {},
   "source": [
    "### Unpacking function arguments\n",
    "\n",
    "You can provide a sequence of arguments to a function by placing a `*` in front of the sequence, like\n",
    "\n",
    "    foo(*args)\n",
    "\n",
    "This unpacks the elements of the **sequence** (like list or tuple) into the arguments of the function, in order.\n",
    "\n",
    "**The advantage is that you don't need to extract the element from the sequence one by one when you pass those elements to the function arguments**."
   ]
  },
  {
   "cell_type": "code",
   "execution_count": 20,
   "metadata": {},
   "outputs": [],
   "source": [
    "# we define the powsum function here again\n",
    "def powsum(x, y, z, a=1, b=2, c=3):\n",
    "    return x**a + y**b + z**c # x to the power of a, y to the powe of b, and z to the power of c"
   ]
  },
  {
   "cell_type": "code",
   "execution_count": 21,
   "metadata": {},
   "outputs": [
    {
     "data": {
      "text/plain": [
       "32"
      ]
     },
     "execution_count": 21,
     "metadata": {},
     "output_type": "execute_result"
    }
   ],
   "source": [
    "# a quick example for unpacking\n",
    "xyz = [1, 2, 3]\n",
    "powsum(*xyz)"
   ]
  },
  {
   "cell_type": "code",
   "execution_count": 22,
   "metadata": {},
   "outputs": [
    {
     "data": {
      "text/plain": [
       "32"
      ]
     },
     "execution_count": 22,
     "metadata": {},
     "output_type": "execute_result"
    }
   ],
   "source": [
    "# the above is the same as:\n",
    "powsum(xyz[0], xyz[1], xyz[2])"
   ]
  },
  {
   "cell_type": "markdown",
   "metadata": {},
   "source": [
    "You can also **unpack dictionaries** as keyword arguments by placing `**` in front of the dictionary, like \n",
    "\n",
    "    foo(**kwargs)"
   ]
  },
  {
   "cell_type": "code",
   "execution_count": 23,
   "metadata": {},
   "outputs": [
    {
     "data": {
      "text/plain": [
       "32"
      ]
     },
     "execution_count": 23,
     "metadata": {},
     "output_type": "execute_result"
    }
   ],
   "source": [
    "powdict = {'a': 1, 'b': 2, 'c': 3}\n",
    "\n",
    "powsum(1, 2, 3, **powdict)"
   ]
  },
  {
   "cell_type": "code",
   "execution_count": 24,
   "metadata": {},
   "outputs": [
    {
     "data": {
      "text/plain": [
       "32"
      ]
     },
     "execution_count": 24,
     "metadata": {},
     "output_type": "execute_result"
    }
   ],
   "source": [
    "# the above is the same as:\n",
    "powsum(1, 2, 3, a=powdict['a'], b=powdict['b'], c=powdict['c'])"
   ]
  },
  {
   "cell_type": "markdown",
   "metadata": {},
   "source": [
    "**Unpacking sequence (list or tuple) can be mixed with unpacking dictionary. E.g., `foo(*args, **kwargs)` works.**"
   ]
  },
  {
   "cell_type": "code",
   "execution_count": null,
   "metadata": {},
   "outputs": [],
   "source": [
    "xyz = [1, 2, 3]\n",
    "powdict = {'a': 1, 'b': 2, 'c': 3}\n",
    "\n",
    "powsum(*xyz, **powdict)"
   ]
  },
  {
   "cell_type": "markdown",
   "metadata": {},
   "source": [
    "### Unpacking in other common cases"
   ]
  },
  {
   "cell_type": "markdown",
   "metadata": {},
   "source": [
    "One common usage is using the builtin `zip` function to take a 'transpose' of a set of points."
   ]
  },
  {
   "cell_type": "code",
   "execution_count": 25,
   "metadata": {},
   "outputs": [],
   "source": [
    "names = [\"Sam\", \"Tim\", \"Lidia\"]\n",
    "laptops = [\"mac\", \"windows\", \"linux\"]"
   ]
  },
  {
   "cell_type": "code",
   "execution_count": 26,
   "metadata": {},
   "outputs": [
    {
     "data": {
      "text/plain": [
       "<zip at 0x7ff609941200>"
      ]
     },
     "execution_count": 26,
     "metadata": {},
     "output_type": "execute_result"
    }
   ],
   "source": [
    "zip(names, laptops)"
   ]
  },
  {
   "cell_type": "code",
   "execution_count": 27,
   "metadata": {},
   "outputs": [
    {
     "data": {
      "text/plain": [
       "[('Sam', 'mac'), ('Tim', 'windows'), ('Lidia', 'linux')]"
      ]
     },
     "execution_count": 27,
     "metadata": {},
     "output_type": "execute_result"
    }
   ],
   "source": [
    "list(zip(names, laptops))"
   ]
  },
  {
   "cell_type": "code",
   "execution_count": 28,
   "metadata": {},
   "outputs": [],
   "source": [
    "# the names list and the laptops list are contained in a single list\n",
    "# how can we pair the name and the laptop and generate a new list?\n",
    "names_laptops = [[\"Sam\", \"Tim\", \"Lidia\"], [\"mac\", \"windows\", \"linux\"]]"
   ]
  },
  {
   "cell_type": "code",
   "execution_count": 29,
   "metadata": {},
   "outputs": [
    {
     "data": {
      "text/plain": [
       "[('Sam', 'mac'), ('Tim', 'windows'), ('Lidia', 'linux')]"
      ]
     },
     "execution_count": 29,
     "metadata": {},
     "output_type": "execute_result"
    }
   ],
   "source": [
    "list(zip(*names_laptops)) # this is exactly the same with list(zip(names, laptops))"
   ]
  },
  {
   "cell_type": "code",
   "execution_count": 30,
   "metadata": {},
   "outputs": [
    {
     "data": {
      "text/plain": [
       "[('Sam', 'mac'), ('Tim', 'windows'), ('Lidia', 'linux')]"
      ]
     },
     "execution_count": 30,
     "metadata": {},
     "output_type": "execute_result"
    }
   ],
   "source": [
    "# the above is the same as:\n",
    "list(zip(names_laptops[0], names_laptops[1]))"
   ]
  },
  {
   "cell_type": "markdown",
   "metadata": {},
   "source": [
    "# Reading and writing text files\n",
    "\n",
    "There are many different file formats. Some data are stored in a specialized binary format. But there are also many datasets that are simple text files. Basic text file commands are included in the Python core language."
   ]
  },
  {
   "cell_type": "markdown",
   "metadata": {},
   "source": [
    "**This is the screenshot of the `02_GPS.dat` file**"
   ]
  },
  {
   "cell_type": "markdown",
   "metadata": {},
   "source": [
    "![data](img/02_GPS_screenshot.png)"
   ]
  },
  {
   "cell_type": "code",
   "execution_count": 31,
   "metadata": {},
   "outputs": [],
   "source": [
    "# open the \"02_GPS.dat\" data file created by a handheld GPS unit in the data folder\n",
    "f = open('data/02_GPS.dat')"
   ]
  },
  {
   "cell_type": "markdown",
   "metadata": {},
   "source": [
    "**Tip**: later when we are done with the file, we would close it with the `f.close()` command (note that `f` is what you define yourself).           "
   ]
  },
  {
   "cell_type": "markdown",
   "metadata": {},
   "source": [
    "\n",
    "### *Exercise*\n",
    "\n",
    "* Use `TAB` completion to explore the different attributes and methods of the `f` object.\n",
    "\n",
    "* We will use the `f.readlines()` method to obtain all of the lines in the file. Run `f.readlines()` yourself and see what this command returns. Run it twice and see what happens.\n"
   ]
  },
  {
   "cell_type": "code",
   "execution_count": 32,
   "metadata": {},
   "outputs": [
    {
     "data": {
      "text/plain": [
       "[\"Grid\\tLat/Lon hddd°mm.mmm'\\n\",\n",
       " 'Datum\\tWGS 84\\n',\n",
       " '\\n',\n",
       " 'Header\\tName\\tStart Time\\tElapsed Time\\tLength\\tAverage Speed\\tLink\\n',\n",
       " '\\n',\n",
       " 'Track\\tACTIVE LOG\\t5/20/2006 1:34:55 PM \\t01:56:53\\t4.80 mi\\t2.5 mph\\t\\n',\n",
       " '\\n',\n",
       " 'Header\\tPosition\\tTime\\tAltitude\\tDepth\\tLeg Length\\tLeg Time\\tLeg Speed\\tLeg Course\\n',\n",
       " '\\n',\n",
       " 'Trackpoint\\tN42 49.820 W70 45.415\\t5/20/2006 1:35:10 PM \\t16 ft\\t\\t17 ft\\t00:00:15\\t0.76 mph\\t200° true\\n',\n",
       " 'Trackpoint\\tN42 49.821 W70 45.408\\t5/20/2006 1:35:25 PM \\t15 ft\\t\\t30 ft\\t00:00:15\\t1.4 mph\\t75° true\\n',\n",
       " 'Trackpoint\\tN42 49.824 W70 45.400\\t5/20/2006 1:35:40 PM \\t19 ft\\t\\t38 ft\\t00:00:15\\t1.7 mph\\t66° true\\n',\n",
       " 'Trackpoint\\tN42 49.825 W70 45.393\\t5/20/2006 1:35:55 PM \\t18 ft\\t\\t35 ft\\t00:00:15\\t1.6 mph\\t77° true\\n',\n",
       " 'Trackpoint\\tN42 49.824 W70 45.379\\t5/20/2006 1:36:10 PM \\t24 ft\\t\\t64 ft\\t00:00:15\\t2.9 mph\\t97° true\\n',\n",
       " 'Trackpoint\\tN42 49.821 W70 45.370\\t5/20/2006 1:36:25 PM \\t19 ft\\t\\t43 ft\\t00:00:15\\t2.0 mph\\t111° true\\n',\n",
       " 'Trackpoint\\tN42 49.821 W70 45.362\\t5/20/2006 1:36:40 PM \\t26 ft\\t\\t34 ft\\t00:00:15\\t1.6 mph\\t90° true\\n',\n",
       " 'Trackpoint\\tN42 49.821 W70 45.353\\t5/20/2006 1:36:55 PM \\t24 ft\\t\\t40 ft\\t00:00:15\\t1.8 mph\\t90° true\\n',\n",
       " 'Trackpoint\\tN42 49.816 W70 45.341\\t5/20/2006 1:37:10 PM \\t23 ft\\t\\t60 ft\\t00:00:15\\t2.7 mph\\t121° true\\n',\n",
       " 'Trackpoint\\tN42 49.807 W70 45.330\\t5/20/2006 1:37:25 PM \\t13 ft\\t\\t75 ft\\t00:00:15\\t3.4 mph\\t137° true\\n',\n",
       " 'Trackpoint\\tN42 49.794 W70 45.324\\t5/20/2006 1:37:40 PM \\t0.5 ft\\t\\t82 ft\\t00:00:15\\t3.7 mph\\t164° true\\n',\n",
       " 'Trackpoint\\tN42 49.784 W70 45.326\\t5/20/2006 1:37:55 PM \\t4 ft\\t\\t63 ft\\t00:00:15\\t2.9 mph\\t185° true\\n',\n",
       " 'Trackpoint\\tN42 49.776 W70 45.339\\t5/20/2006 1:38:10 PM \\t5 ft\\t\\t74 ft\\t00:00:15\\t3.4 mph\\t231° true\\n',\n",
       " 'Trackpoint\\tN42 49.781 W70 45.361\\t5/20/2006 1:38:25 PM \\t5 ft\\t\\t103 ft\\t00:00:15\\t4.7 mph\\t288° true\\n',\n",
       " 'Trackpoint\\tN42 49.786 W70 45.381\\t5/20/2006 1:38:40 PM \\t10 ft\\t\\t97 ft\\t00:00:15\\t4.4 mph\\t289° true\\n',\n",
       " 'Trackpoint\\tN42 49.780 W70 45.400\\t5/20/2006 1:38:55 PM \\t8 ft\\t\\t95 ft\\t00:00:15\\t4.3 mph\\t246° true\\n',\n",
       " 'Trackpoint\\tN42 49.767 W70 45.412\\t5/20/2006 1:39:10 PM \\t16 ft\\t\\t94 ft\\t00:00:15\\t4.3 mph\\t213° true\\n',\n",
       " 'Trackpoint\\tN42 49.750 W70 45.420\\t5/20/2006 1:39:25 PM \\t19 ft\\t\\t108 ft\\t00:00:15\\t4.9 mph\\t199° true\\n',\n",
       " 'Trackpoint\\tN42 49.735 W70 45.430\\t5/20/2006 1:39:40 PM \\t13 ft\\t\\t105 ft\\t00:00:15\\t4.8 mph\\t206° true\\n',\n",
       " 'Trackpoint\\tN42 49.719 W70 45.440\\t5/20/2006 1:39:55 PM \\t11 ft\\t\\t105 ft\\t00:00:15\\t4.8 mph\\t206° true\\n',\n",
       " 'Trackpoint\\tN42 49.701 W70 45.447\\t5/20/2006 1:40:10 PM \\t10 ft\\t\\t113 ft\\t00:00:15\\t5.2 mph\\t195° true\\n',\n",
       " 'Trackpoint\\tN42 49.683 W70 45.455\\t5/20/2006 1:40:25 PM \\t11 ft\\t\\t115 ft\\t00:00:15\\t5.2 mph\\t197° true\\n',\n",
       " 'Trackpoint\\tN42 49.668 W70 45.465\\t5/20/2006 1:40:40 PM \\t10 ft\\t\\t105 ft\\t00:00:15\\t4.8 mph\\t206° true\\n',\n",
       " 'Trackpoint\\tN42 49.652 W70 45.476\\t5/20/2006 1:40:55 PM \\t10 ft\\t\\t107 ft\\t00:00:15\\t4.9 mph\\t209° true\\n',\n",
       " 'Trackpoint\\tN42 49.637 W70 45.489\\t5/20/2006 1:41:10 PM \\t10 ft\\t\\t110 ft\\t00:00:15\\t5.0 mph\\t211° true\\n',\n",
       " 'Trackpoint\\tN42 49.623 W70 45.502\\t5/20/2006 1:41:25 PM \\t10 ft\\t\\t104 ft\\t00:00:15\\t4.7 mph\\t214° true\\n',\n",
       " 'Trackpoint\\tN42 49.611 W70 45.520\\t5/20/2006 1:41:40 PM \\t10 ft\\t\\t107 ft\\t00:00:15\\t4.9 mph\\t229° true\\n',\n",
       " 'Trackpoint\\tN42 49.600 W70 45.537\\t5/20/2006 1:41:55 PM \\t8 ft\\t\\t103 ft\\t00:00:15\\t4.7 mph\\t227° true\\n',\n",
       " 'Trackpoint\\tN42 49.585 W70 45.552\\t5/20/2006 1:42:10 PM \\t7 ft\\t\\t110 ft\\t00:00:15\\t5.0 mph\\t219° true\\n',\n",
       " 'Trackpoint\\tN42 49.574 W70 45.569\\t5/20/2006 1:42:25 PM \\t5 ft\\t\\t103 ft\\t00:00:15\\t4.7 mph\\t227° true\\n',\n",
       " 'Trackpoint\\tN42 49.562 W70 45.586\\t5/20/2006 1:42:40 PM \\t7 ft\\t\\t103 ft\\t00:00:15\\t4.7 mph\\t227° true\\n',\n",
       " 'Trackpoint\\tN42 49.549 W70 45.601\\t5/20/2006 1:42:55 PM \\t7 ft\\t\\t104 ft\\t00:00:15\\t4.7 mph\\t221° true\\n',\n",
       " 'Trackpoint\\tN42 49.536 W70 45.617\\t5/20/2006 1:43:10 PM \\t5 ft\\t\\t104 ft\\t00:00:15\\t4.7 mph\\t221° true\\n',\n",
       " 'Trackpoint\\tN42 49.525 W70 45.632\\t5/20/2006 1:43:25 PM \\t4 ft\\t\\t99 ft\\t00:00:15\\t4.5 mph\\t224° true\\n',\n",
       " 'Trackpoint\\tN42 49.513 W70 45.646\\t5/20/2006 1:43:40 PM \\t7 ft\\t\\t95 ft\\t00:00:15\\t4.3 mph\\t222° true\\n',\n",
       " 'Trackpoint\\tN42 49.499 W70 45.660\\t5/20/2006 1:43:55 PM \\t5 ft\\t\\t107 ft\\t00:00:15\\t4.9 mph\\t216° true\\n',\n",
       " 'Trackpoint\\tN42 49.486 W70 45.675\\t5/20/2006 1:44:10 PM \\t5 ft\\t\\t101 ft\\t00:00:15\\t4.6 mph\\t219° true\\n',\n",
       " 'Trackpoint\\tN42 49.473 W70 45.690\\t5/20/2006 1:44:25 PM \\t8 ft\\t\\t104 ft\\t00:00:15\\t4.7 mph\\t221° true\\n',\n",
       " 'Trackpoint\\tN42 49.463 W70 45.707\\t5/20/2006 1:44:40 PM \\t5 ft\\t\\t98 ft\\t00:00:15\\t4.4 mph\\t230° true\\n',\n",
       " 'Trackpoint\\tN42 49.452 W70 45.722\\t5/20/2006 1:44:55 PM \\t7 ft\\t\\t99 ft\\t00:00:15\\t4.5 mph\\t224° true\\n',\n",
       " 'Trackpoint\\tN42 49.436 W70 45.734\\t5/20/2006 1:45:10 PM \\t11 ft\\t\\t107 ft\\t00:00:15\\t4.9 mph\\t209° true\\n',\n",
       " 'Trackpoint\\tN42 49.422 W70 45.747\\t5/20/2006 1:45:25 PM \\t11 ft\\t\\t104 ft\\t00:00:15\\t4.7 mph\\t214° true\\n',\n",
       " 'Trackpoint\\tN42 49.412 W70 45.762\\t5/20/2006 1:45:40 PM \\t8 ft\\t\\t93 ft\\t00:00:15\\t4.2 mph\\t228° true\\n',\n",
       " 'Trackpoint\\tN42 49.401 W70 45.780\\t5/20/2006 1:45:55 PM \\t7 ft\\t\\t102 ft\\t00:00:15\\t4.6 mph\\t232° true\\n',\n",
       " 'Trackpoint\\tN42 49.388 W70 45.796\\t5/20/2006 1:46:10 PM \\t8 ft\\t\\t104 ft\\t00:00:15\\t4.7 mph\\t221° true\\n',\n",
       " 'Trackpoint\\tN42 49.377 W70 45.811\\t5/20/2006 1:46:25 PM \\t13 ft\\t\\t99 ft\\t00:00:15\\t4.5 mph\\t224° true\\n',\n",
       " 'Trackpoint\\tN42 49.365 W70 45.828\\t5/20/2006 1:46:40 PM \\t16 ft\\t\\t103 ft\\t00:00:15\\t4.7 mph\\t227° true\\n',\n",
       " 'Trackpoint\\tN42 49.354 W70 45.845\\t5/20/2006 1:46:55 PM \\t16 ft\\t\\t103 ft\\t00:00:15\\t4.7 mph\\t227° true\\n',\n",
       " 'Trackpoint\\tN42 49.342 W70 45.861\\t5/20/2006 1:47:10 PM \\t15 ft\\t\\t103 ft\\t00:00:15\\t4.7 mph\\t227° true\\n',\n",
       " 'Trackpoint\\tN42 49.329 W70 45.877\\t5/20/2006 1:47:25 PM \\t10 ft\\t\\t104 ft\\t00:00:15\\t4.7 mph\\t221° true\\n',\n",
       " 'Trackpoint\\tN42 49.318 W70 45.892\\t5/20/2006 1:47:40 PM \\t10 ft\\t\\t99 ft\\t00:00:15\\t4.5 mph\\t224° true\\n',\n",
       " 'Trackpoint\\tN42 49.307 W70 45.909\\t5/20/2006 1:47:55 PM \\t13 ft\\t\\t98 ft\\t00:00:15\\t4.4 mph\\t230° true\\n',\n",
       " 'Trackpoint\\tN42 49.297 W70 45.926\\t5/20/2006 1:48:10 PM \\t11 ft\\t\\t98 ft\\t00:00:15\\t4.4 mph\\t230° true\\n',\n",
       " 'Trackpoint\\tN42 49.287 W70 45.945\\t5/20/2006 1:48:25 PM \\t11 ft\\t\\t107 ft\\t00:00:15\\t4.8 mph\\t234° true\\n',\n",
       " 'Trackpoint\\tN42 49.276 W70 45.962\\t5/20/2006 1:48:40 PM \\t11 ft\\t\\t98 ft\\t00:00:15\\t4.4 mph\\t230° true\\n',\n",
       " 'Trackpoint\\tN42 49.264 W70 45.977\\t5/20/2006 1:48:55 PM \\t11 ft\\t\\t104 ft\\t00:00:15\\t4.7 mph\\t221° true\\n',\n",
       " 'Trackpoint\\tN42 49.252 W70 45.993\\t5/20/2006 1:49:10 PM \\t8 ft\\t\\t99 ft\\t00:00:15\\t4.5 mph\\t224° true\\n',\n",
       " 'Trackpoint\\tN42 49.244 W70 46.012\\t5/20/2006 1:49:25 PM \\t7 ft\\t\\t98 ft\\t00:00:15\\t4.5 mph\\t241° true\\n',\n",
       " 'Trackpoint\\tN42 49.237 W70 46.031\\t5/20/2006 1:49:40 PM \\t5 ft\\t\\t98 ft\\t00:00:15\\t4.5 mph\\t241° true\\n',\n",
       " 'Trackpoint\\tN42 49.226 W70 46.052\\t5/20/2006 1:49:56 PM \\t8 ft\\t\\t111 ft\\t00:00:16\\t4.7 mph\\t236° true\\n',\n",
       " 'Trackpoint\\tN42 49.217 W70 46.070\\t5/20/2006 1:50:11 PM \\t13 ft\\t\\t97 ft\\t00:00:15\\t4.4 mph\\t236° true\\n',\n",
       " 'Trackpoint\\tN42 49.208 W70 46.088\\t5/20/2006 1:50:26 PM \\t13 ft\\t\\t97 ft\\t00:00:15\\t4.4 mph\\t236° true\\n',\n",
       " 'Trackpoint\\tN42 49.199 W70 46.109\\t5/20/2006 1:50:42 PM \\t19 ft\\t\\t107 ft\\t00:00:16\\t4.6 mph\\t239° true\\n',\n",
       " 'Trackpoint\\tN42 49.191 W70 46.128\\t5/20/2006 1:50:57 PM \\t24 ft\\t\\t98 ft\\t00:00:15\\t4.5 mph\\t241° true\\n',\n",
       " 'Trackpoint\\tN42 49.182 W70 46.147\\t5/20/2006 1:51:12 PM \\t19 ft\\t\\t102 ft\\t00:00:15\\t4.6 mph\\t238° true\\n',\n",
       " 'Trackpoint\\tN42 49.170 W70 46.164\\t5/20/2006 1:51:27 PM \\t16 ft\\t\\t108 ft\\t00:00:15\\t4.9 mph\\t224° true\\n',\n",
       " 'Trackpoint\\tN42 49.159 W70 46.181\\t5/20/2006 1:51:42 PM \\t11 ft\\t\\t98 ft\\t00:00:15\\t4.4 mph\\t230° true\\n',\n",
       " 'Trackpoint\\tN42 49.154 W70 46.201\\t5/20/2006 1:51:57 PM \\t10 ft\\t\\t97 ft\\t00:00:15\\t4.4 mph\\t251° true\\n',\n",
       " 'Trackpoint\\tN42 49.154 W70 46.223\\t5/20/2006 1:52:12 PM \\t-4.3 ft\\t\\t98 ft\\t00:00:15\\t4.4 mph\\t270° true\\n',\n",
       " 'Trackpoint\\tN42 49.153 W70 46.245\\t5/20/2006 1:52:27 PM \\t-2.7 ft\\t\\t98 ft\\t00:00:15\\t4.5 mph\\t265° true\\n',\n",
       " 'Trackpoint\\tN42 49.145 W70 46.264\\t5/20/2006 1:52:42 PM \\t2 ft\\t\\t98 ft\\t00:00:15\\t4.5 mph\\t241° true\\n',\n",
       " 'Trackpoint\\tN42 49.136 W70 46.284\\t5/20/2006 1:52:57 PM \\t5 ft\\t\\t102 ft\\t00:00:15\\t4.6 mph\\t238° true\\n',\n",
       " 'Trackpoint\\tN42 49.125 W70 46.299\\t5/20/2006 1:53:12 PM \\t8 ft\\t\\t99 ft\\t00:00:15\\t4.5 mph\\t224° true\\n',\n",
       " 'Trackpoint\\tN42 49.112 W70 46.313\\t5/20/2006 1:53:27 PM \\t10 ft\\t\\t101 ft\\t00:00:15\\t4.6 mph\\t219° true\\n',\n",
       " 'Trackpoint\\tN42 49.099 W70 46.329\\t5/20/2006 1:53:42 PM \\t11 ft\\t\\t104 ft\\t00:00:15\\t4.7 mph\\t221° true\\n',\n",
       " 'Trackpoint\\tN42 49.091 W70 46.345\\t5/20/2006 1:53:57 PM \\t11 ft\\t\\t88 ft\\t00:00:15\\t4.0 mph\\t238° true\\n',\n",
       " 'Trackpoint\\tN42 49.087 W70 46.366\\t5/20/2006 1:54:12 PM \\t13 ft\\t\\t95 ft\\t00:00:15\\t4.3 mph\\t256° true\\n',\n",
       " 'Trackpoint\\tN42 49.082 W70 46.387\\t5/20/2006 1:54:27 PM \\t16 ft\\t\\t97 ft\\t00:00:15\\t4.4 mph\\t251° true\\n',\n",
       " 'Trackpoint\\tN42 49.072 W70 46.406\\t5/20/2006 1:54:42 PM \\t15 ft\\t\\t107 ft\\t00:00:15\\t4.8 mph\\t234° true\\n',\n",
       " 'Trackpoint\\tN42 49.060 W70 46.424\\t5/20/2006 1:54:57 PM \\t11 ft\\t\\t107 ft\\t00:00:15\\t4.9 mph\\t229° true\\n',\n",
       " 'Trackpoint\\tN42 49.051 W70 46.441\\t5/20/2006 1:55:12 PM \\t11 ft\\t\\t93 ft\\t00:00:15\\t4.2 mph\\t234° true\\n',\n",
       " 'Trackpoint\\tN42 49.045 W70 46.461\\t5/20/2006 1:55:27 PM \\t13 ft\\t\\t100 ft\\t00:00:15\\t4.5 mph\\t247° true\\n',\n",
       " 'Trackpoint\\tN42 49.041 W70 46.483\\t5/20/2006 1:55:42 PM \\t15 ft\\t\\t101 ft\\t00:00:15\\t4.6 mph\\t256° true\\n',\n",
       " 'Trackpoint\\tN42 49.036 W70 46.504\\t5/20/2006 1:55:57 PM \\t16 ft\\t\\t97 ft\\t00:00:15\\t4.4 mph\\t251° true\\n',\n",
       " 'Trackpoint\\tN42 49.024 W70 46.522\\t5/20/2006 1:56:12 PM \\t15 ft\\t\\t107 ft\\t00:00:15\\t4.9 mph\\t229° true\\n',\n",
       " 'Trackpoint\\tN42 49.010 W70 46.535\\t5/20/2006 1:56:27 PM \\t18 ft\\t\\t104 ft\\t00:00:15\\t4.7 mph\\t214° true\\n',\n",
       " 'Trackpoint\\tN42 48.998 W70 46.550\\t5/20/2006 1:56:42 PM \\t15 ft\\t\\t99 ft\\t00:00:15\\t4.5 mph\\t224° true\\n',\n",
       " 'Trackpoint\\tN42 48.987 W70 46.567\\t5/20/2006 1:56:57 PM \\t15 ft\\t\\t103 ft\\t00:00:15\\t4.7 mph\\t227° true\\n',\n",
       " 'Trackpoint\\tN42 48.976 W70 46.584\\t5/20/2006 1:57:12 PM \\t13 ft\\t\\t98 ft\\t00:00:15\\t4.4 mph\\t230° true\\n',\n",
       " 'Trackpoint\\tN42 48.962 W70 46.599\\t5/20/2006 1:57:27 PM \\t15 ft\\t\\t110 ft\\t00:00:15\\t5.0 mph\\t219° true\\n',\n",
       " 'Trackpoint\\tN42 48.947 W70 46.613\\t5/20/2006 1:57:42 PM \\t13 ft\\t\\t113 ft\\t00:00:15\\t5.2 mph\\t214° true\\n',\n",
       " 'Trackpoint\\tN42 48.931 W70 46.626\\t5/20/2006 1:57:57 PM \\t13 ft\\t\\t110 ft\\t00:00:15\\t5.0 mph\\t211° true\\n',\n",
       " 'Trackpoint\\tN42 48.916 W70 46.640\\t5/20/2006 1:58:12 PM \\t13 ft\\t\\t113 ft\\t00:00:15\\t5.2 mph\\t214° true\\n',\n",
       " 'Trackpoint\\tN42 48.902 W70 46.653\\t5/20/2006 1:58:27 PM \\t13 ft\\t\\t104 ft\\t00:00:15\\t4.7 mph\\t214° true\\n',\n",
       " 'Trackpoint\\tN42 48.885 W70 46.666\\t5/20/2006 1:58:42 PM \\t11 ft\\t\\t117 ft\\t00:00:15\\t5.3 mph\\t209° true\\n',\n",
       " 'Trackpoint\\tN42 48.868 W70 46.678\\t5/20/2006 1:58:57 PM \\t15 ft\\t\\t114 ft\\t00:00:15\\t5.2 mph\\t207° true\\n',\n",
       " 'Trackpoint\\tN42 48.852 W70 46.688\\t5/20/2006 1:59:12 PM \\t15 ft\\t\\t112 ft\\t00:00:15\\t5.1 mph\\t204° true\\n',\n",
       " 'Trackpoint\\tN42 48.835 W70 46.698\\t5/20/2006 1:59:27 PM \\t13 ft\\t\\t112 ft\\t00:00:15\\t5.1 mph\\t204° true\\n',\n",
       " 'Trackpoint\\tN42 48.821 W70 46.711\\t5/20/2006 1:59:42 PM \\t13 ft\\t\\t104 ft\\t00:00:15\\t4.7 mph\\t214° true\\n',\n",
       " 'Trackpoint\\tN42 48.807 W70 46.727\\t5/20/2006 1:59:57 PM \\t15 ft\\t\\t110 ft\\t00:00:15\\t5.0 mph\\t219° true\\n',\n",
       " 'Trackpoint\\tN42 48.796 W70 46.743\\t5/20/2006 2:00:12 PM \\t15 ft\\t\\t98 ft\\t00:00:15\\t4.4 mph\\t230° true\\n',\n",
       " 'Trackpoint\\tN42 48.788 W70 46.763\\t5/20/2006 2:00:27 PM \\t13 ft\\t\\t98 ft\\t00:00:15\\t4.5 mph\\t241° true\\n',\n",
       " 'Trackpoint\\tN42 48.785 W70 46.783\\t5/20/2006 2:00:42 PM \\t13 ft\\t\\t95 ft\\t00:00:15\\t4.3 mph\\t256° true\\n',\n",
       " 'Trackpoint\\tN42 48.778 W70 46.804\\t5/20/2006 2:00:57 PM \\t11 ft\\t\\t100 ft\\t00:00:15\\t4.5 mph\\t247° true\\n',\n",
       " 'Trackpoint\\tN42 48.772 W70 46.826\\t5/20/2006 2:01:12 PM \\t10 ft\\t\\t105 ft\\t00:00:15\\t4.8 mph\\t248° true\\n',\n",
       " 'Trackpoint\\tN42 48.773 W70 46.846\\t5/20/2006 2:01:27 PM \\t10 ft\\t\\t92 ft\\t00:00:15\\t4.2 mph\\t275° true\\n',\n",
       " 'Trackpoint\\tN42 48.778 W70 46.867\\t5/20/2006 2:01:42 PM \\t7 ft\\t\\t97 ft\\t00:00:15\\t4.4 mph\\t289° true\\n',\n",
       " 'Trackpoint\\tN42 48.786 W70 46.886\\t5/20/2006 2:01:57 PM \\t10 ft\\t\\t98 ft\\t00:00:15\\t4.5 mph\\t299° true\\n',\n",
       " 'Trackpoint\\tN42 48.791 W70 46.907\\t5/20/2006 2:02:12 PM \\t11 ft\\t\\t97 ft\\t00:00:15\\t4.4 mph\\t289° true\\n',\n",
       " 'Trackpoint\\tN42 48.792 W70 46.929\\t5/20/2006 2:02:27 PM \\t10 ft\\t\\t98 ft\\t00:00:15\\t4.5 mph\\t275° true\\n',\n",
       " 'Trackpoint\\tN42 48.790 W70 46.951\\t5/20/2006 2:02:42 PM \\t13 ft\\t\\t99 ft\\t00:00:15\\t4.5 mph\\t261° true\\n',\n",
       " 'Trackpoint\\tN42 48.785 W70 46.972\\t5/20/2006 2:02:57 PM \\t16 ft\\t\\t103 ft\\t00:00:15\\t4.7 mph\\t252° true\\n',\n",
       " 'Trackpoint\\tN42 48.777 W70 46.993\\t5/20/2006 2:03:12 PM \\t15 ft\\t\\t103 ft\\t00:00:15\\t4.7 mph\\t243° true\\n',\n",
       " 'Trackpoint\\tN42 48.768 W70 47.015\\t5/20/2006 2:03:27 PM \\t15 ft\\t\\t112 ft\\t00:00:15\\t5.1 mph\\t241° true\\n',\n",
       " 'Trackpoint\\tN42 48.763 W70 47.036\\t5/20/2006 2:03:42 PM \\t15 ft\\t\\t97 ft\\t00:00:15\\t4.4 mph\\t251° true\\n',\n",
       " 'Trackpoint\\tN42 48.761 W70 47.059\\t5/20/2006 2:03:57 PM \\t11 ft\\t\\t104 ft\\t00:00:15\\t4.7 mph\\t266° true\\n',\n",
       " 'Trackpoint\\tN42 48.764 W70 47.081\\t5/20/2006 2:04:12 PM \\t8 ft\\t\\t99 ft\\t00:00:15\\t4.5 mph\\t279° true\\n',\n",
       " 'Trackpoint\\tN42 48.772 W70 47.100\\t5/20/2006 2:04:27 PM \\t10 ft\\t\\t98 ft\\t00:00:15\\t4.5 mph\\t299° true\\n',\n",
       " 'Trackpoint\\tN42 48.778 W70 47.120\\t5/20/2006 2:04:42 PM \\t11 ft\\t\\t100 ft\\t00:00:15\\t4.5 mph\\t293° true\\n',\n",
       " 'Trackpoint\\tN42 48.786 W70 47.141\\t5/20/2006 2:04:57 PM \\t10 ft\\t\\t103 ft\\t00:00:15\\t4.7 mph\\t297° true\\n',\n",
       " 'Trackpoint\\tN42 48.792 W70 47.160\\t5/20/2006 2:05:12 PM \\t8 ft\\t\\t95 ft\\t00:00:15\\t4.3 mph\\t294° true\\n',\n",
       " 'Trackpoint\\tN42 48.799 W70 47.181\\t5/20/2006 2:05:27 PM \\t8 ft\\t\\t100 ft\\t00:00:15\\t4.5 mph\\t293° true\\n',\n",
       " 'Trackpoint\\tN42 48.805 W70 47.202\\t5/20/2006 2:05:42 PM \\t8 ft\\t\\t100 ft\\t00:00:15\\t4.5 mph\\t293° true\\n',\n",
       " 'Trackpoint\\tN42 48.813 W70 47.221\\t5/20/2006 2:05:57 PM \\t7 ft\\t\\t98 ft\\t00:00:15\\t4.5 mph\\t299° true\\n',\n",
       " 'Trackpoint\\tN42 48.818 W70 47.243\\t5/20/2006 2:06:12 PM \\t7 ft\\t\\t103 ft\\t00:00:15\\t4.7 mph\\t288° true\\n',\n",
       " 'Trackpoint\\tN42 48.823 W70 47.265\\t5/20/2006 2:06:27 PM \\t8 ft\\t\\t103 ft\\t00:00:15\\t4.7 mph\\t288° true\\n',\n",
       " 'Trackpoint\\tN42 48.830 W70 47.287\\t5/20/2006 2:06:42 PM \\t8 ft\\t\\t105 ft\\t00:00:15\\t4.8 mph\\t292° true\\n',\n",
       " 'Trackpoint\\tN42 48.836 W70 47.307\\t5/20/2006 2:06:57 PM \\t7 ft\\t\\t100 ft\\t00:00:15\\t4.5 mph\\t293° true\\n',\n",
       " 'Trackpoint\\tN42 48.844 W70 47.329\\t5/20/2006 2:07:12 PM \\t7 ft\\t\\t108 ft\\t00:00:15\\t4.9 mph\\t296° true\\n',\n",
       " 'Trackpoint\\tN42 48.850 W70 47.350\\t5/20/2006 2:07:27 PM \\t2 ft\\t\\t100 ft\\t00:00:15\\t4.5 mph\\t293° true\\n',\n",
       " 'Trackpoint\\tN42 48.857 W70 47.370\\t5/20/2006 2:07:42 PM \\t5 ft\\t\\t100 ft\\t00:00:15\\t4.5 mph\\t293° true\\n',\n",
       " 'Trackpoint\\tN42 48.861 W70 47.392\\t5/20/2006 2:07:57 PM \\t4 ft\\t\\t101 ft\\t00:00:15\\t4.6 mph\\t284° true\\n',\n",
       " 'Trackpoint\\tN42 48.864 W70 47.414\\t5/20/2006 2:08:12 PM \\t5 ft\\t\\t101 ft\\t00:00:15\\t4.6 mph\\t284° true\\n',\n",
       " 'Trackpoint\\tN42 48.866 W70 47.435\\t5/20/2006 2:08:27 PM \\t2 ft\\t\\t92 ft\\t00:00:15\\t4.2 mph\\t275° true\\n',\n",
       " 'Trackpoint\\tN42 48.872 W70 47.454\\t5/20/2006 2:08:42 PM \\t4 ft\\t\\t95 ft\\t00:00:15\\t4.3 mph\\t294° true\\n',\n",
       " 'Trackpoint\\tN42 48.885 W70 47.468\\t5/20/2006 2:08:57 PM \\t5 ft\\t\\t101 ft\\t00:00:15\\t4.6 mph\\t321° true\\n',\n",
       " 'Trackpoint\\tN42 48.895 W70 47.481\\t5/20/2006 2:09:12 PM \\t5 ft\\t\\t85 ft\\t00:00:15\\t3.9 mph\\t317° true\\n',\n",
       " 'Trackpoint\\tN42 48.900 W70 47.486\\t5/20/2006 2:09:27 PM \\t4 ft\\t\\t39 ft\\t00:00:15\\t1.8 mph\\t324° true\\n',\n",
       " 'Trackpoint\\tN42 48.906 W70 47.486\\t5/20/2006 2:09:42 PM \\t7 ft\\t\\t31 ft\\t00:00:15\\t1.4 mph\\t0° true\\n',\n",
       " 'Trackpoint\\tN42 48.916 W70 47.487\\t5/20/2006 2:09:57 PM \\t4 ft\\t\\t63 ft\\t00:00:15\\t2.9 mph\\t355° true\\n',\n",
       " 'Trackpoint\\tN42 48.921 W70 47.499\\t5/20/2006 2:10:12 PM \\t5 ft\\t\\t60 ft\\t00:00:15\\t2.7 mph\\t301° true\\n',\n",
       " 'Trackpoint\\tN42 48.913 W70 47.512\\t5/20/2006 2:10:27 PM \\t5 ft\\t\\t74 ft\\t00:00:15\\t3.4 mph\\t231° true\\n',\n",
       " 'Trackpoint\\tN42 48.903 W70 47.529\\t5/20/2006 2:10:42 PM \\t10 ft\\t\\t98 ft\\t00:00:15\\t4.4 mph\\t230° true\\n',\n",
       " 'Trackpoint\\tN42 48.893 W70 47.545\\t5/20/2006 2:10:57 PM \\t10 ft\\t\\t98 ft\\t00:00:15\\t4.4 mph\\t230° true\\n',\n",
       " 'Trackpoint\\tN42 48.886 W70 47.554\\t5/20/2006 2:11:12 PM \\t10 ft\\t\\t56 ft\\t00:00:15\\t2.6 mph\\t226° true\\n',\n",
       " 'Trackpoint\\tN42 48.880 W70 47.557\\t5/20/2006 2:11:27 PM \\t10 ft\\t\\t41 ft\\t00:00:15\\t1.9 mph\\t196° true\\n',\n",
       " 'Trackpoint\\tN42 48.871 W70 47.563\\t5/20/2006 2:11:42 PM \\t8 ft\\t\\t62 ft\\t00:00:15\\t2.8 mph\\t208° true\\n',\n",
       " 'Trackpoint\\tN42 48.867 W70 47.572\\t5/20/2006 2:11:57 PM \\t7 ft\\t\\t47 ft\\t00:00:15\\t2.1 mph\\t240° true\\n',\n",
       " 'Trackpoint\\tN42 48.868 W70 47.579\\t5/20/2006 2:12:12 PM \\t8 ft\\t\\t30 ft\\t00:00:15\\t1.4 mph\\t285° true\\n',\n",
       " 'Trackpoint\\tN42 48.876 W70 47.575\\t5/20/2006 2:12:27 PM \\t10 ft\\t\\t50 ft\\t00:00:15\\t2.3 mph\\t20° true\\n',\n",
       " 'Trackpoint\\tN42 48.879 W70 47.570\\t5/20/2006 2:12:42 PM \\t10 ft\\t\\t28 ft\\t00:00:15\\t1.3 mph\\t56° true\\n',\n",
       " 'Trackpoint\\tN42 48.877 W70 47.566\\t5/20/2006 2:12:57 PM \\t13 ft\\t\\t19 ft\\t00:00:15\\t0.86 mph\\t114° true\\n',\n",
       " 'Trackpoint\\tN42 48.876 W70 47.562\\t5/20/2006 2:13:12 PM \\t11 ft\\t\\t19 ft\\t00:00:15\\t0.86 mph\\t114° true\\n',\n",
       " 'Trackpoint\\tN42 48.875 W70 47.556\\t5/20/2006 2:13:27 PM \\t11 ft\\t\\t30 ft\\t00:00:15\\t1.4 mph\\t105° true\\n',\n",
       " 'Trackpoint\\tN42 48.873 W70 47.549\\t5/20/2006 2:13:42 PM \\t13 ft\\t\\t30 ft\\t00:00:15\\t1.4 mph\\t105° true\\n',\n",
       " 'Trackpoint\\tN42 48.873 W70 47.543\\t5/20/2006 2:13:57 PM \\t13 ft\\t\\t29 ft\\t00:00:15\\t1.3 mph\\t90° true\\n',\n",
       " 'Trackpoint\\tN42 48.872 W70 47.535\\t5/20/2006 2:14:12 PM \\t15 ft\\t\\t35 ft\\t00:00:15\\t1.6 mph\\t103° true\\n',\n",
       " 'Trackpoint\\tN42 48.872 W70 47.527\\t5/20/2006 2:14:27 PM \\t15 ft\\t\\t34 ft\\t00:00:15\\t1.6 mph\\t90° true\\n',\n",
       " 'Trackpoint\\tN42 48.871 W70 47.520\\t5/20/2006 2:14:42 PM \\t13 ft\\t\\t35 ft\\t00:00:15\\t1.6 mph\\t103° true\\n',\n",
       " 'Trackpoint\\tN42 48.871 W70 47.511\\t5/20/2006 2:14:57 PM \\t15 ft\\t\\t40 ft\\t00:00:15\\t1.8 mph\\t90° true\\n',\n",
       " 'Trackpoint\\tN42 48.871 W70 47.503\\t5/20/2006 2:15:12 PM \\t15 ft\\t\\t34 ft\\t00:00:15\\t1.6 mph\\t90° true\\n',\n",
       " 'Trackpoint\\tN42 48.872 W70 47.495\\t5/20/2006 2:15:27 PM \\t16 ft\\t\\t35 ft\\t00:00:15\\t1.6 mph\\t77° true\\n',\n",
       " 'Trackpoint\\tN42 48.872 W70 47.487\\t5/20/2006 2:15:42 PM \\t15 ft\\t\\t34 ft\\t00:00:15\\t1.6 mph\\t90° true\\n',\n",
       " 'Trackpoint\\tN42 48.872 W70 47.480\\t5/20/2006 2:15:57 PM \\t15 ft\\t\\t34 ft\\t00:00:15\\t1.6 mph\\t90° true\\n',\n",
       " 'Trackpoint\\tN42 48.872 W70 47.472\\t5/20/2006 2:16:12 PM \\t15 ft\\t\\t34 ft\\t00:00:15\\t1.6 mph\\t90° true\\n',\n",
       " 'Trackpoint\\tN42 48.872 W70 47.466\\t5/20/2006 2:16:27 PM \\t11 ft\\t\\t29 ft\\t00:00:15\\t1.3 mph\\t90° true\\n',\n",
       " 'Trackpoint\\tN42 48.873 W70 47.459\\t5/20/2006 2:16:42 PM \\t10 ft\\t\\t30 ft\\t00:00:15\\t1.4 mph\\t75° true\\n',\n",
       " 'Trackpoint\\tN42 48.873 W70 47.451\\t5/20/2006 2:16:57 PM \\t11 ft\\t\\t34 ft\\t00:00:15\\t1.6 mph\\t90° true\\n',\n",
       " 'Trackpoint\\tN42 48.873 W70 47.445\\t5/20/2006 2:17:12 PM \\t11 ft\\t\\t29 ft\\t00:00:15\\t1.3 mph\\t90° true\\n',\n",
       " 'Trackpoint\\tN42 48.873 W70 47.437\\t5/20/2006 2:17:27 PM \\t15 ft\\t\\t34 ft\\t00:00:15\\t1.6 mph\\t90° true\\n',\n",
       " 'Trackpoint\\tN42 48.875 W70 47.431\\t5/20/2006 2:17:42 PM \\t13 ft\\t\\t30 ft\\t00:00:15\\t1.4 mph\\t75° true\\n',\n",
       " 'Trackpoint\\tN42 48.875 W70 47.423\\t5/20/2006 2:17:57 PM \\t10 ft\\t\\t34 ft\\t00:00:15\\t1.6 mph\\t90° true\\n',\n",
       " 'Trackpoint\\tN42 48.875 W70 47.417\\t5/20/2006 2:18:12 PM \\t10 ft\\t\\t29 ft\\t00:00:15\\t1.3 mph\\t90° true\\n',\n",
       " 'Trackpoint\\tN42 48.876 W70 47.409\\t5/20/2006 2:18:27 PM \\t8 ft\\t\\t35 ft\\t00:00:15\\t1.6 mph\\t77° true\\n',\n",
       " 'Trackpoint\\tN42 48.876 W70 47.402\\t5/20/2006 2:18:42 PM \\t10 ft\\t\\t29 ft\\t00:00:15\\t1.3 mph\\t90° true\\n',\n",
       " 'Trackpoint\\tN42 48.876 W70 47.396\\t5/20/2006 2:18:57 PM \\t13 ft\\t\\t29 ft\\t00:00:15\\t1.3 mph\\t90° true\\n',\n",
       " 'Trackpoint\\tN42 48.876 W70 47.391\\t5/20/2006 2:19:12 PM \\t16 ft\\t\\t23 ft\\t00:00:15\\t1.0 mph\\t90° true\\n',\n",
       " 'Trackpoint\\tN42 48.877 W70 47.383\\t5/20/2006 2:19:27 PM \\t16 ft\\t\\t35 ft\\t00:00:15\\t1.6 mph\\t77° true\\n',\n",
       " 'Trackpoint\\tN42 48.877 W70 47.377\\t5/20/2006 2:19:42 PM \\t15 ft\\t\\t29 ft\\t00:00:15\\t1.3 mph\\t90° true\\n',\n",
       " 'Trackpoint\\tN42 48.879 W70 47.370\\t5/20/2006 2:19:57 PM \\t15 ft\\t\\t30 ft\\t00:00:15\\t1.4 mph\\t75° true\\n',\n",
       " 'Trackpoint\\tN42 48.879 W70 47.364\\t5/20/2006 2:20:12 PM \\t16 ft\\t\\t29 ft\\t00:00:15\\t1.3 mph\\t90° true\\n',\n",
       " 'Trackpoint\\tN42 48.879 W70 47.356\\t5/20/2006 2:20:27 PM \\t13 ft\\t\\t34 ft\\t00:00:15\\t1.6 mph\\t90° true\\n',\n",
       " 'Trackpoint\\tN42 48.880 W70 47.350\\t5/20/2006 2:20:42 PM \\t13 ft\\t\\t30 ft\\t00:00:15\\t1.4 mph\\t75° true\\n',\n",
       " 'Trackpoint\\tN42 48.880 W70 47.343\\t5/20/2006 2:20:57 PM \\t11 ft\\t\\t29 ft\\t00:00:15\\t1.3 mph\\t90° true\\n',\n",
       " 'Trackpoint\\tN42 48.880 W70 47.337\\t5/20/2006 2:21:12 PM \\t13 ft\\t\\t29 ft\\t00:00:15\\t1.3 mph\\t90° true\\n',\n",
       " 'Trackpoint\\tN42 48.880 W70 47.330\\t5/20/2006 2:21:27 PM \\t15 ft\\t\\t29 ft\\t00:00:15\\t1.3 mph\\t90° true\\n',\n",
       " 'Trackpoint\\tN42 48.880 W70 47.324\\t5/20/2006 2:21:42 PM \\t15 ft\\t\\t29 ft\\t00:00:15\\t1.3 mph\\t90° true\\n',\n",
       " 'Trackpoint\\tN42 48.881 W70 47.317\\t5/20/2006 2:21:57 PM \\t15 ft\\t\\t30 ft\\t00:00:15\\t1.4 mph\\t75° true\\n',\n",
       " 'Trackpoint\\tN42 48.881 W70 47.311\\t5/20/2006 2:22:12 PM \\t13 ft\\t\\t29 ft\\t00:00:15\\t1.3 mph\\t90° true\\n',\n",
       " 'Trackpoint\\tN42 48.881 W70 47.305\\t5/20/2006 2:22:27 PM \\t15 ft\\t\\t29 ft\\t00:00:15\\t1.3 mph\\t90° true\\n',\n",
       " 'Trackpoint\\tN42 48.881 W70 47.297\\t5/20/2006 2:22:42 PM \\t16 ft\\t\\t34 ft\\t00:00:15\\t1.6 mph\\t90° true\\n',\n",
       " 'Trackpoint\\tN42 48.881 W70 47.290\\t5/20/2006 2:22:57 PM \\t15 ft\\t\\t29 ft\\t00:00:15\\t1.3 mph\\t90° true\\n',\n",
       " 'Trackpoint\\tN42 48.882 W70 47.283\\t5/20/2006 2:23:13 PM \\t13 ft\\t\\t35 ft\\t00:00:16\\t1.5 mph\\t77° true\\n',\n",
       " 'Trackpoint\\tN42 48.882 W70 47.276\\t5/20/2006 2:23:28 PM \\t13 ft\\t\\t29 ft\\t00:00:15\\t1.3 mph\\t90° true\\n',\n",
       " 'Trackpoint\\tN42 48.881 W70 47.270\\t5/20/2006 2:23:43 PM \\t11 ft\\t\\t30 ft\\t00:00:15\\t1.4 mph\\t105° true\\n',\n",
       " 'Trackpoint\\tN42 48.882 W70 47.263\\t5/20/2006 2:23:58 PM \\t11 ft\\t\\t30 ft\\t00:00:15\\t1.4 mph\\t75° true\\n',\n",
       " 'Trackpoint\\tN42 48.888 W70 47.251\\t5/20/2006 2:24:13 PM \\t11 ft\\t\\t65 ft\\t00:00:15\\t3.0 mph\\t61° true\\n',\n",
       " 'Trackpoint\\tN42 48.898 W70 47.244\\t5/20/2006 2:24:28 PM \\t10 ft\\t\\t69 ft\\t00:00:15\\t3.1 mph\\t25° true\\n',\n",
       " 'Trackpoint\\tN42 48.907 W70 47.253\\t5/20/2006 2:24:43 PM \\t11 ft\\t\\t68 ft\\t00:00:15\\t3.1 mph\\t324° true\\n',\n",
       " 'Trackpoint\\tN42 48.908 W70 47.272\\t5/20/2006 2:24:58 PM \\t10 ft\\t\\t87 ft\\t00:00:15\\t3.9 mph\\t275° true\\n',\n",
       " 'Trackpoint\\tN42 48.915 W70 47.294\\t5/20/2006 2:25:13 PM \\t13 ft\\t\\t105 ft\\t00:00:15\\t4.8 mph\\t292° true\\n',\n",
       " 'Trackpoint\\tN42 48.920 W70 47.317\\t5/20/2006 2:25:28 PM \\t15 ft\\t\\t108 ft\\t00:00:15\\t4.9 mph\\t287° true\\n',\n",
       " 'Trackpoint\\tN42 48.922 W70 47.341\\t5/20/2006 2:25:43 PM \\t13 ft\\t\\t105 ft\\t00:00:15\\t4.8 mph\\t279° true\\n',\n",
       " 'Trackpoint\\tN42 48.926 W70 47.364\\t5/20/2006 2:25:58 PM \\t11 ft\\t\\t106 ft\\t00:00:15\\t4.8 mph\\t283° true\\n',\n",
       " 'Trackpoint\\tN42 48.930 W70 47.387\\t5/20/2006 2:26:13 PM \\t15 ft\\t\\t106 ft\\t00:00:15\\t4.8 mph\\t283° true\\n',\n",
       " 'Trackpoint\\tN42 48.934 W70 47.411\\t5/20/2006 2:26:28 PM \\t15 ft\\t\\t112 ft\\t00:00:15\\t5.1 mph\\t282° true\\n',\n",
       " 'Trackpoint\\tN42 48.939 W70 47.435\\t5/20/2006 2:26:43 PM \\t18 ft\\t\\t108 ft\\t00:00:15\\t4.9 mph\\t287° true\\n',\n",
       " 'Trackpoint\\tN42 48.942 W70 47.457\\t5/20/2006 2:26:58 PM \\t16 ft\\t\\t99 ft\\t00:00:15\\t4.5 mph\\t279° true\\n',\n",
       " 'Trackpoint\\tN42 48.942 W70 47.477\\t5/20/2006 2:27:13 PM \\t15 ft\\t\\t92 ft\\t00:00:15\\t4.2 mph\\t270° true\\n',\n",
       " 'Trackpoint\\tN42 48.934 W70 47.487\\t5/20/2006 2:27:28 PM \\t15 ft\\t\\t66 ft\\t00:00:15\\t3.0 mph\\t224° true\\n',\n",
       " 'Trackpoint\\tN42 48.926 W70 47.489\\t5/20/2006 2:27:43 PM \\t16 ft\\t\\t47 ft\\t00:00:15\\t2.2 mph\\t187° true\\n',\n",
       " 'Trackpoint\\tN42 48.922 W70 47.485\\t5/20/2006 2:27:58 PM \\t13 ft\\t\\t29 ft\\t00:00:15\\t1.3 mph\\t144° true\\n',\n",
       " 'Trackpoint\\tN42 48.921 W70 47.478\\t5/20/2006 2:28:13 PM \\t8 ft\\t\\t30 ft\\t00:00:15\\t1.4 mph\\t105° true\\n',\n",
       " 'Trackpoint\\tN42 48.921 W70 47.471\\t5/20/2006 2:28:28 PM \\t7 ft\\t\\t34 ft\\t00:00:15\\t1.6 mph\\t90° true\\n',\n",
       " 'Trackpoint\\tN42 48.920 W70 47.463\\t5/20/2006 2:28:43 PM \\t8 ft\\t\\t35 ft\\t00:00:15\\t1.6 mph\\t103° true\\n',\n",
       " 'Trackpoint\\tN42 48.919 W70 47.457\\t5/20/2006 2:28:58 PM \\t7 ft\\t\\t30 ft\\t00:00:15\\t1.4 mph\\t105° true\\n',\n",
       " 'Trackpoint\\tN42 48.917 W70 47.449\\t5/20/2006 2:29:13 PM \\t7 ft\\t\\t35 ft\\t00:00:15\\t1.6 mph\\t103° true\\n',\n",
       " 'Trackpoint\\tN42 48.916 W70 47.441\\t5/20/2006 2:29:28 PM \\t8 ft\\t\\t35 ft\\t00:00:15\\t1.6 mph\\t103° true\\n',\n",
       " 'Trackpoint\\tN42 48.915 W70 47.433\\t5/20/2006 2:29:43 PM \\t7 ft\\t\\t35 ft\\t00:00:15\\t1.6 mph\\t103° true\\n',\n",
       " 'Trackpoint\\tN42 48.913 W70 47.426\\t5/20/2006 2:29:58 PM \\t8 ft\\t\\t35 ft\\t00:00:15\\t1.6 mph\\t103° true\\n',\n",
       " 'Trackpoint\\tN42 48.912 W70 47.417\\t5/20/2006 2:30:13 PM \\t8 ft\\t\\t41 ft\\t00:00:15\\t1.9 mph\\t101° true\\n',\n",
       " 'Trackpoint\\tN42 48.911 W70 47.409\\t5/20/2006 2:30:28 PM \\t7 ft\\t\\t35 ft\\t00:00:15\\t1.6 mph\\t103° true\\n',\n",
       " 'Trackpoint\\tN42 48.910 W70 47.401\\t5/20/2006 2:30:43 PM \\t11 ft\\t\\t35 ft\\t00:00:15\\t1.6 mph\\t103° true\\n',\n",
       " 'Trackpoint\\tN42 48.908 W70 47.392\\t5/20/2006 2:30:58 PM \\t8 ft\\t\\t41 ft\\t00:00:15\\t1.9 mph\\t101° true\\n',\n",
       " 'Trackpoint\\tN42 48.906 W70 47.386\\t5/20/2006 2:31:13 PM \\t10 ft\\t\\t33 ft\\t00:00:15\\t1.5 mph\\t119° true\\n',\n",
       " 'Trackpoint\\tN42 48.904 W70 47.377\\t5/20/2006 2:31:28 PM \\t8 ft\\t\\t41 ft\\t00:00:15\\t1.9 mph\\t101° true\\n',\n",
       " 'Trackpoint\\tN42 48.902 W70 47.369\\t5/20/2006 2:31:43 PM \\t8 ft\\t\\t38 ft\\t00:00:15\\t1.7 mph\\t114° true\\n',\n",
       " 'Trackpoint\\tN42 48.900 W70 47.361\\t5/20/2006 2:31:58 PM \\t7 ft\\t\\t35 ft\\t00:00:15\\t1.6 mph\\t103° true\\n',\n",
       " 'Trackpoint\\tN42 48.899 W70 47.352\\t5/20/2006 2:32:13 PM \\t7 ft\\t\\t41 ft\\t00:00:15\\t1.9 mph\\t101° true\\n',\n",
       " 'Trackpoint\\tN42 48.897 W70 47.344\\t5/20/2006 2:32:28 PM \\t7 ft\\t\\t38 ft\\t00:00:15\\t1.7 mph\\t114° true\\n',\n",
       " 'Trackpoint\\tN42 48.895 W70 47.335\\t5/20/2006 2:32:43 PM \\t5 ft\\t\\t41 ft\\t00:00:15\\t1.9 mph\\t101° true\\n',\n",
       " 'Trackpoint\\tN42 48.894 W70 47.328\\t5/20/2006 2:32:58 PM \\t5 ft\\t\\t35 ft\\t00:00:15\\t1.6 mph\\t103° true\\n',\n",
       " 'Trackpoint\\tN42 48.893 W70 47.320\\t5/20/2006 2:33:13 PM \\t5 ft\\t\\t35 ft\\t00:00:15\\t1.6 mph\\t103° true\\n',\n",
       " 'Trackpoint\\tN42 48.890 W70 47.312\\t5/20/2006 2:33:28 PM \\t7 ft\\t\\t38 ft\\t00:00:15\\t1.7 mph\\t114° true\\n',\n",
       " 'Trackpoint\\tN42 48.890 W70 47.306\\t5/20/2006 2:33:43 PM \\t8 ft\\t\\t29 ft\\t00:00:15\\t1.3 mph\\t90° true\\n',\n",
       " 'Trackpoint\\tN42 48.889 W70 47.297\\t5/20/2006 2:33:58 PM \\t7 ft\\t\\t41 ft\\t00:00:15\\t1.9 mph\\t101° true\\n',\n",
       " 'Trackpoint\\tN42 48.888 W70 47.290\\t5/20/2006 2:34:13 PM \\t7 ft\\t\\t30 ft\\t00:00:15\\t1.4 mph\\t105° true\\n',\n",
       " 'Trackpoint\\tN42 48.886 W70 47.283\\t5/20/2006 2:34:28 PM \\t5 ft\\t\\t35 ft\\t00:00:15\\t1.6 mph\\t103° true\\n',\n",
       " 'Trackpoint\\tN42 48.885 W70 47.275\\t5/20/2006 2:34:43 PM \\t7 ft\\t\\t35 ft\\t00:00:15\\t1.6 mph\\t103° true\\n',\n",
       " 'Trackpoint\\tN42 48.884 W70 47.267\\t5/20/2006 2:34:58 PM \\t7 ft\\t\\t35 ft\\t00:00:15\\t1.6 mph\\t103° true\\n',\n",
       " 'Trackpoint\\tN42 48.882 W70 47.260\\t5/20/2006 2:35:13 PM \\t5 ft\\t\\t35 ft\\t00:00:15\\t1.6 mph\\t103° true\\n',\n",
       " 'Trackpoint\\tN42 48.881 W70 47.252\\t5/20/2006 2:35:28 PM \\t7 ft\\t\\t35 ft\\t00:00:15\\t1.6 mph\\t103° true\\n',\n",
       " 'Trackpoint\\tN42 48.880 W70 47.244\\t5/20/2006 2:35:43 PM \\t5 ft\\t\\t35 ft\\t00:00:15\\t1.6 mph\\t103° true\\n',\n",
       " 'Trackpoint\\tN42 48.879 W70 47.236\\t5/20/2006 2:35:58 PM \\t5 ft\\t\\t35 ft\\t00:00:15\\t1.6 mph\\t103° true\\n',\n",
       " 'Trackpoint\\tN42 48.879 W70 47.227\\t5/20/2006 2:36:13 PM \\t4 ft\\t\\t40 ft\\t00:00:15\\t1.8 mph\\t90° true\\n',\n",
       " 'Trackpoint\\tN42 48.877 W70 47.220\\t5/20/2006 2:36:28 PM \\t7 ft\\t\\t35 ft\\t00:00:15\\t1.6 mph\\t103° true\\n',\n",
       " 'Trackpoint\\tN42 48.876 W70 47.212\\t5/20/2006 2:36:43 PM \\t7 ft\\t\\t35 ft\\t00:00:15\\t1.6 mph\\t103° true\\n',\n",
       " 'Trackpoint\\tN42 48.875 W70 47.205\\t5/20/2006 2:36:58 PM \\t5 ft\\t\\t30 ft\\t00:00:15\\t1.4 mph\\t105° true\\n',\n",
       " 'Trackpoint\\tN42 48.873 W70 47.199\\t5/20/2006 2:37:13 PM \\t4 ft\\t\\t30 ft\\t00:00:15\\t1.4 mph\\t105° true\\n',\n",
       " 'Trackpoint\\tN42 48.872 W70 47.191\\t5/20/2006 2:37:28 PM \\t5 ft\\t\\t35 ft\\t00:00:15\\t1.6 mph\\t103° true\\n',\n",
       " 'Trackpoint\\tN42 48.871 W70 47.185\\t5/20/2006 2:37:43 PM \\t4 ft\\t\\t30 ft\\t00:00:15\\t1.4 mph\\t105° true\\n',\n",
       " 'Trackpoint\\tN42 48.870 W70 47.177\\t5/20/2006 2:37:58 PM \\t7 ft\\t\\t35 ft\\t00:00:15\\t1.6 mph\\t103° true\\n',\n",
       " 'Trackpoint\\tN42 48.867 W70 47.169\\t5/20/2006 2:38:13 PM \\t7 ft\\t\\t38 ft\\t00:00:15\\t1.7 mph\\t114° true\\n',\n",
       " 'Trackpoint\\tN42 48.866 W70 47.163\\t5/20/2006 2:38:28 PM \\t7 ft\\t\\t30 ft\\t00:00:15\\t1.4 mph\\t105° true\\n',\n",
       " 'Trackpoint\\tN42 48.864 W70 47.155\\t5/20/2006 2:38:43 PM \\t5 ft\\t\\t35 ft\\t00:00:15\\t1.6 mph\\t103° true\\n',\n",
       " 'Trackpoint\\tN42 48.863 W70 47.148\\t5/20/2006 2:38:58 PM \\t7 ft\\t\\t35 ft\\t00:00:15\\t1.6 mph\\t103° true\\n',\n",
       " 'Trackpoint\\tN42 48.862 W70 47.140\\t5/20/2006 2:39:14 PM \\t7 ft\\t\\t35 ft\\t00:00:16\\t1.5 mph\\t103° true\\n',\n",
       " 'Trackpoint\\tN42 48.861 W70 47.133\\t5/20/2006 2:39:29 PM \\t8 ft\\t\\t30 ft\\t00:00:15\\t1.4 mph\\t105° true\\n',\n",
       " 'Trackpoint\\tN42 48.859 W70 47.126\\t5/20/2006 2:39:44 PM \\t8 ft\\t\\t35 ft\\t00:00:15\\t1.6 mph\\t103° true\\n',\n",
       " 'Trackpoint\\tN42 48.858 W70 47.118\\t5/20/2006 2:39:59 PM \\t8 ft\\t\\t35 ft\\t00:00:15\\t1.6 mph\\t103° true\\n',\n",
       " 'Trackpoint\\tN42 48.857 W70 47.110\\t5/20/2006 2:40:14 PM \\t10 ft\\t\\t35 ft\\t00:00:15\\t1.6 mph\\t103° true\\n',\n",
       " 'Trackpoint\\tN42 48.855 W70 47.102\\t5/20/2006 2:40:29 PM \\t7 ft\\t\\t35 ft\\t00:00:15\\t1.6 mph\\t103° true\\n',\n",
       " 'Trackpoint\\tN42 48.854 W70 47.096\\t5/20/2006 2:40:44 PM \\t5 ft\\t\\t30 ft\\t00:00:15\\t1.4 mph\\t105° true\\n',\n",
       " 'Trackpoint\\tN42 48.853 W70 47.087\\t5/20/2006 2:40:59 PM \\t8 ft\\t\\t41 ft\\t00:00:15\\t1.9 mph\\t101° true\\n',\n",
       " 'Trackpoint\\tN42 48.852 W70 47.081\\t5/20/2006 2:41:14 PM \\t7 ft\\t\\t30 ft\\t00:00:15\\t1.4 mph\\t105° true\\n',\n",
       " 'Trackpoint\\tN42 48.850 W70 47.073\\t5/20/2006 2:41:29 PM \\t8 ft\\t\\t35 ft\\t00:00:15\\t1.6 mph\\t103° true\\n',\n",
       " 'Trackpoint\\tN42 48.849 W70 47.065\\t5/20/2006 2:41:44 PM \\t5 ft\\t\\t35 ft\\t00:00:15\\t1.6 mph\\t103° true\\n',\n",
       " 'Trackpoint\\tN42 48.848 W70 47.057\\t5/20/2006 2:41:59 PM \\t8 ft\\t\\t35 ft\\t00:00:15\\t1.6 mph\\t103° true\\n',\n",
       " 'Trackpoint\\tN42 48.846 W70 47.048\\t5/20/2006 2:42:15 PM \\t7 ft\\t\\t41 ft\\t00:00:16\\t1.7 mph\\t101° true\\n',\n",
       " 'Trackpoint\\tN42 48.845 W70 47.041\\t5/20/2006 2:42:30 PM \\t7 ft\\t\\t35 ft\\t00:00:15\\t1.6 mph\\t103° true\\n',\n",
       " 'Trackpoint\\tN42 48.844 W70 47.034\\t5/20/2006 2:42:45 PM \\t8 ft\\t\\t30 ft\\t00:00:15\\t1.4 mph\\t105° true\\n',\n",
       " 'Trackpoint\\tN42 48.843 W70 47.026\\t5/20/2006 2:43:00 PM \\t7 ft\\t\\t35 ft\\t00:00:15\\t1.6 mph\\t103° true\\n',\n",
       " 'Trackpoint\\tN42 48.840 W70 47.019\\t5/20/2006 2:43:15 PM \\t8 ft\\t\\t38 ft\\t00:00:15\\t1.7 mph\\t114° true\\n',\n",
       " 'Trackpoint\\tN42 48.839 W70 47.011\\t5/20/2006 2:43:30 PM \\t8 ft\\t\\t35 ft\\t00:00:15\\t1.6 mph\\t103° true\\n',\n",
       " 'Trackpoint\\tN42 48.837 W70 47.003\\t5/20/2006 2:43:45 PM \\t10 ft\\t\\t35 ft\\t00:00:15\\t1.6 mph\\t103° true\\n',\n",
       " 'Trackpoint\\tN42 48.835 W70 46.996\\t5/20/2006 2:44:00 PM \\t8 ft\\t\\t38 ft\\t00:00:15\\t1.7 mph\\t114° true\\n',\n",
       " 'Trackpoint\\tN42 48.834 W70 46.987\\t5/20/2006 2:44:15 PM \\t10 ft\\t\\t41 ft\\t00:00:15\\t1.9 mph\\t101° true\\n',\n",
       " 'Trackpoint\\tN42 48.832 W70 46.980\\t5/20/2006 2:44:30 PM \\t11 ft\\t\\t30 ft\\t00:00:15\\t1.4 mph\\t105° true\\n',\n",
       " 'Trackpoint\\tN42 48.831 W70 46.972\\t5/20/2006 2:44:45 PM \\t10 ft\\t\\t35 ft\\t00:00:15\\t1.6 mph\\t103° true\\n',\n",
       " 'Trackpoint\\tN42 48.830 W70 46.965\\t5/20/2006 2:45:00 PM \\t8 ft\\t\\t35 ft\\t00:00:15\\t1.6 mph\\t103° true\\n',\n",
       " 'Trackpoint\\tN42 48.828 W70 46.958\\t5/20/2006 2:45:15 PM \\t7 ft\\t\\t30 ft\\t00:00:15\\t1.4 mph\\t105° true\\n',\n",
       " 'Trackpoint\\tN42 48.827 W70 46.952\\t5/20/2006 2:45:30 PM \\t10 ft\\t\\t30 ft\\t00:00:15\\t1.4 mph\\t105° true\\n',\n",
       " 'Trackpoint\\tN42 48.826 W70 46.945\\t5/20/2006 2:45:45 PM \\t10 ft\\t\\t30 ft\\t00:00:15\\t1.4 mph\\t105° true\\n',\n",
       " 'Trackpoint\\tN42 48.825 W70 46.939\\t5/20/2006 2:46:00 PM \\t8 ft\\t\\t30 ft\\t00:00:15\\t1.4 mph\\t105° true\\n',\n",
       " 'Trackpoint\\tN42 48.823 W70 46.934\\t5/20/2006 2:46:15 PM \\t5 ft\\t\\t24 ft\\t00:00:15\\t1.1 mph\\t109° true\\n',\n",
       " 'Trackpoint\\tN42 48.822 W70 46.929\\t5/20/2006 2:46:30 PM \\t8 ft\\t\\t24 ft\\t00:00:15\\t1.1 mph\\t109° true\\n',\n",
       " 'Trackpoint\\tN42 48.822 W70 46.922\\t5/20/2006 2:46:45 PM \\t8 ft\\t\\t29 ft\\t00:00:15\\t1.3 mph\\t90° true\\n',\n",
       " 'Trackpoint\\tN42 48.821 W70 46.916\\t5/20/2006 2:47:00 PM \\t8 ft\\t\\t30 ft\\t00:00:15\\t1.4 mph\\t105° true\\n',\n",
       " 'Trackpoint\\tN42 48.819 W70 46.911\\t5/20/2006 2:47:15 PM \\t8 ft\\t\\t24 ft\\t00:00:15\\t1.1 mph\\t109° true\\n',\n",
       " 'Trackpoint\\tN42 48.818 W70 46.904\\t5/20/2006 2:47:30 PM \\t8 ft\\t\\t30 ft\\t00:00:15\\t1.4 mph\\t105° true\\n',\n",
       " 'Trackpoint\\tN42 48.817 W70 46.898\\t5/20/2006 2:47:45 PM \\t8 ft\\t\\t30 ft\\t00:00:15\\t1.4 mph\\t105° true\\n',\n",
       " 'Trackpoint\\tN42 48.816 W70 46.891\\t5/20/2006 2:48:00 PM \\t10 ft\\t\\t30 ft\\t00:00:15\\t1.4 mph\\t105° true\\n',\n",
       " 'Trackpoint\\tN42 48.814 W70 46.885\\t5/20/2006 2:48:15 PM \\t11 ft\\t\\t30 ft\\t00:00:15\\t1.4 mph\\t105° true\\n',\n",
       " 'Trackpoint\\tN42 48.812 W70 46.878\\t5/20/2006 2:48:30 PM \\t11 ft\\t\\t33 ft\\t00:00:15\\t1.5 mph\\t119° true\\n',\n",
       " 'Trackpoint\\tN42 48.810 W70 46.872\\t5/20/2006 2:48:45 PM \\t13 ft\\t\\t30 ft\\t00:00:15\\t1.4 mph\\t105° true\\n',\n",
       " 'Trackpoint\\tN42 48.809 W70 46.866\\t5/20/2006 2:49:00 PM \\t13 ft\\t\\t30 ft\\t00:00:15\\t1.4 mph\\t105° true\\n',\n",
       " 'Trackpoint\\tN42 48.808 W70 46.859\\t5/20/2006 2:49:15 PM \\t13 ft\\t\\t30 ft\\t00:00:15\\t1.4 mph\\t105° true\\n',\n",
       " 'Trackpoint\\tN42 48.805 W70 46.854\\t5/20/2006 2:49:30 PM \\t11 ft\\t\\t28 ft\\t00:00:15\\t1.3 mph\\t124° true\\n',\n",
       " 'Trackpoint\\tN42 48.804 W70 46.848\\t5/20/2006 2:49:45 PM \\t10 ft\\t\\t30 ft\\t00:00:15\\t1.4 mph\\t105° true\\n',\n",
       " 'Trackpoint\\tN42 48.803 W70 46.840\\t5/20/2006 2:50:00 PM \\t8 ft\\t\\t35 ft\\t00:00:15\\t1.6 mph\\t103° true\\n',\n",
       " 'Trackpoint\\tN42 48.801 W70 46.833\\t5/20/2006 2:50:15 PM \\t8 ft\\t\\t30 ft\\t00:00:15\\t1.4 mph\\t105° true\\n',\n",
       " 'Trackpoint\\tN42 48.800 W70 46.827\\t5/20/2006 2:50:30 PM \\t10 ft\\t\\t30 ft\\t00:00:15\\t1.4 mph\\t105° true\\n',\n",
       " 'Trackpoint\\tN42 48.799 W70 46.820\\t5/20/2006 2:50:45 PM \\t10 ft\\t\\t30 ft\\t00:00:15\\t1.4 mph\\t105° true\\n',\n",
       " 'Trackpoint\\tN42 48.797 W70 46.814\\t5/20/2006 2:51:00 PM \\t10 ft\\t\\t30 ft\\t00:00:15\\t1.4 mph\\t105° true\\n',\n",
       " 'Trackpoint\\tN42 48.796 W70 46.808\\t5/20/2006 2:51:15 PM \\t8 ft\\t\\t30 ft\\t00:00:15\\t1.4 mph\\t105° true\\n',\n",
       " 'Trackpoint\\tN42 48.794 W70 46.801\\t5/20/2006 2:51:30 PM \\t8 ft\\t\\t33 ft\\t00:00:15\\t1.5 mph\\t119° true\\n',\n",
       " 'Trackpoint\\tN42 48.792 W70 46.795\\t5/20/2006 2:51:45 PM \\t7 ft\\t\\t30 ft\\t00:00:15\\t1.4 mph\\t105° true\\n',\n",
       " 'Trackpoint\\tN42 48.791 W70 46.790\\t5/20/2006 2:52:00 PM \\t8 ft\\t\\t24 ft\\t00:00:15\\t1.1 mph\\t109° true\\n',\n",
       " 'Trackpoint\\tN42 48.790 W70 46.783\\t5/20/2006 2:52:15 PM \\t8 ft\\t\\t30 ft\\t00:00:15\\t1.4 mph\\t105° true\\n',\n",
       " 'Trackpoint\\tN42 48.790 W70 46.778\\t5/20/2006 2:52:30 PM \\t7 ft\\t\\t23 ft\\t00:00:15\\t1.0 mph\\t90° true\\n',\n",
       " 'Trackpoint\\tN42 48.788 W70 46.772\\t5/20/2006 2:52:45 PM \\t8 ft\\t\\t30 ft\\t00:00:15\\t1.4 mph\\t105° true\\n',\n",
       " 'Trackpoint\\tN42 48.786 W70 46.765\\t5/20/2006 2:53:01 PM \\t10 ft\\t\\t33 ft\\t00:00:16\\t1.4 mph\\t119° true\\n',\n",
       " 'Trackpoint\\tN42 48.786 W70 46.759\\t5/20/2006 2:53:16 PM \\t10 ft\\t\\t29 ft\\t00:00:15\\t1.3 mph\\t90° true\\n',\n",
       " 'Trackpoint\\tN42 48.785 W70 46.754\\t5/20/2006 2:53:31 PM \\t10 ft\\t\\t24 ft\\t00:00:15\\t1.1 mph\\t109° true\\n',\n",
       " 'Trackpoint\\tN42 48.783 W70 46.747\\t5/20/2006 2:53:46 PM \\t10 ft\\t\\t30 ft\\t00:00:15\\t1.4 mph\\t105° true\\n',\n",
       " 'Trackpoint\\tN42 48.782 W70 46.742\\t5/20/2006 2:54:01 PM \\t11 ft\\t\\t24 ft\\t00:00:15\\t1.1 mph\\t109° true\\n',\n",
       " 'Trackpoint\\tN42 48.781 W70 46.736\\t5/20/2006 2:54:16 PM \\t11 ft\\t\\t30 ft\\t00:00:15\\t1.4 mph\\t105° true\\n',\n",
       " 'Trackpoint\\tN42 48.779 W70 46.730\\t5/20/2006 2:54:31 PM \\t11 ft\\t\\t24 ft\\t00:00:15\\t1.1 mph\\t109° true\\n',\n",
       " 'Trackpoint\\tN42 48.779 W70 46.724\\t5/20/2006 2:54:46 PM \\t11 ft\\t\\t29 ft\\t00:00:15\\t1.3 mph\\t90° true\\n',\n",
       " 'Trackpoint\\tN42 48.778 W70 46.719\\t5/20/2006 2:55:01 PM \\t11 ft\\t\\t24 ft\\t00:00:15\\t1.1 mph\\t109° true\\n',\n",
       " 'Trackpoint\\tN42 48.776 W70 46.712\\t5/20/2006 2:55:16 PM \\t11 ft\\t\\t33 ft\\t00:00:15\\t1.5 mph\\t119° true\\n',\n",
       " 'Trackpoint\\tN42 48.774 W70 46.706\\t5/20/2006 2:55:31 PM \\t13 ft\\t\\t30 ft\\t00:00:15\\t1.4 mph\\t105° true\\n',\n",
       " 'Trackpoint\\tN42 48.773 W70 46.699\\t5/20/2006 2:55:46 PM \\t11 ft\\t\\t30 ft\\t00:00:15\\t1.4 mph\\t105° true\\n',\n",
       " 'Trackpoint\\tN42 48.772 W70 46.693\\t5/20/2006 2:56:01 PM \\t11 ft\\t\\t30 ft\\t00:00:15\\t1.4 mph\\t105° true\\n',\n",
       " 'Trackpoint\\tN42 48.770 W70 46.687\\t5/20/2006 2:56:16 PM \\t10 ft\\t\\t30 ft\\t00:00:15\\t1.4 mph\\t105° true\\n',\n",
       " 'Trackpoint\\tN42 48.769 W70 46.681\\t5/20/2006 2:56:31 PM \\t11 ft\\t\\t24 ft\\t00:00:15\\t1.1 mph\\t109° true\\n',\n",
       " 'Trackpoint\\tN42 48.768 W70 46.675\\t5/20/2006 2:56:46 PM \\t10 ft\\t\\t30 ft\\t00:00:15\\t1.4 mph\\t105° true\\n',\n",
       " 'Trackpoint\\tN42 48.767 W70 46.669\\t5/20/2006 2:57:01 PM \\t13 ft\\t\\t30 ft\\t00:00:15\\t1.4 mph\\t105° true\\n',\n",
       " 'Trackpoint\\tN42 48.765 W70 46.662\\t5/20/2006 2:57:16 PM \\t10 ft\\t\\t30 ft\\t00:00:15\\t1.4 mph\\t105° true\\n',\n",
       " 'Trackpoint\\tN42 48.764 W70 46.656\\t5/20/2006 2:57:31 PM \\t11 ft\\t\\t30 ft\\t00:00:15\\t1.4 mph\\t105° true\\n',\n",
       " 'Trackpoint\\tN42 48.763 W70 46.651\\t5/20/2006 2:57:46 PM \\t10 ft\\t\\t24 ft\\t00:00:15\\t1.1 mph\\t109° true\\n',\n",
       " 'Trackpoint\\tN42 48.760 W70 46.644\\t5/20/2006 2:58:01 PM \\t13 ft\\t\\t33 ft\\t00:00:15\\t1.5 mph\\t119° true\\n',\n",
       " 'Trackpoint\\tN42 48.759 W70 46.639\\t5/20/2006 2:58:16 PM \\t13 ft\\t\\t24 ft\\t00:00:15\\t1.1 mph\\t109° true\\n',\n",
       " 'Trackpoint\\tN42 48.758 W70 46.633\\t5/20/2006 2:58:31 PM \\t13 ft\\t\\t30 ft\\t00:00:15\\t1.4 mph\\t105° true\\n',\n",
       " 'Trackpoint\\tN42 48.756 W70 46.627\\t5/20/2006 2:58:46 PM \\t11 ft\\t\\t24 ft\\t00:00:15\\t1.1 mph\\t109° true\\n',\n",
       " 'Trackpoint\\tN42 48.755 W70 46.621\\t5/20/2006 2:59:01 PM \\t10 ft\\t\\t30 ft\\t00:00:15\\t1.4 mph\\t105° true\\n',\n",
       " 'Trackpoint\\tN42 48.754 W70 46.616\\t5/20/2006 2:59:16 PM \\t8 ft\\t\\t24 ft\\t00:00:15\\t1.1 mph\\t109° true\\n',\n",
       " 'Trackpoint\\tN42 48.752 W70 46.609\\t5/20/2006 2:59:31 PM \\t11 ft\\t\\t30 ft\\t00:00:15\\t1.4 mph\\t105° true\\n',\n",
       " 'Trackpoint\\tN42 48.751 W70 46.603\\t5/20/2006 2:59:46 PM \\t8 ft\\t\\t30 ft\\t00:00:15\\t1.4 mph\\t105° true\\n',\n",
       " 'Trackpoint\\tN42 48.749 W70 46.598\\t5/20/2006 3:00:01 PM \\t8 ft\\t\\t28 ft\\t00:00:15\\t1.3 mph\\t124° true\\n',\n",
       " 'Trackpoint\\tN42 48.747 W70 46.591\\t5/20/2006 3:00:16 PM \\t10 ft\\t\\t30 ft\\t00:00:15\\t1.4 mph\\t105° true\\n',\n",
       " 'Trackpoint\\tN42 48.746 W70 46.586\\t5/20/2006 3:00:31 PM \\t10 ft\\t\\t24 ft\\t00:00:15\\t1.1 mph\\t109° true\\n',\n",
       " 'Trackpoint\\tN42 48.745 W70 46.580\\t5/20/2006 3:00:46 PM \\t8 ft\\t\\t30 ft\\t00:00:15\\t1.4 mph\\t105° true\\n',\n",
       " 'Trackpoint\\tN42 48.743 W70 46.575\\t5/20/2006 3:01:01 PM \\t10 ft\\t\\t24 ft\\t00:00:15\\t1.1 mph\\t109° true\\n',\n",
       " 'Trackpoint\\tN42 48.742 W70 46.568\\t5/20/2006 3:01:16 PM \\t10 ft\\t\\t30 ft\\t00:00:15\\t1.4 mph\\t105° true\\n',\n",
       " 'Trackpoint\\tN42 48.742 W70 46.563\\t5/20/2006 3:01:31 PM \\t8 ft\\t\\t23 ft\\t00:00:15\\t1.0 mph\\t90° true\\n',\n",
       " 'Trackpoint\\tN42 48.740 W70 46.557\\t5/20/2006 3:01:46 PM \\t8 ft\\t\\t33 ft\\t00:00:15\\t1.5 mph\\t119° true\\n',\n",
       " 'Trackpoint\\tN42 48.738 W70 46.550\\t5/20/2006 3:02:01 PM \\t10 ft\\t\\t30 ft\\t00:00:15\\t1.4 mph\\t105° true\\n',\n",
       " 'Trackpoint\\tN42 48.737 W70 46.544\\t5/20/2006 3:02:16 PM \\t10 ft\\t\\t30 ft\\t00:00:15\\t1.4 mph\\t105° true\\n',\n",
       " 'Trackpoint\\tN42 48.736 W70 46.539\\t5/20/2006 3:02:31 PM \\t8 ft\\t\\t24 ft\\t00:00:15\\t1.1 mph\\t109° true\\n',\n",
       " 'Trackpoint\\tN42 48.734 W70 46.533\\t5/20/2006 3:02:46 PM \\t8 ft\\t\\t24 ft\\t00:00:15\\t1.1 mph\\t109° true\\n',\n",
       " 'Trackpoint\\tN42 48.733 W70 46.528\\t5/20/2006 3:03:01 PM \\t11 ft\\t\\t24 ft\\t00:00:15\\t1.1 mph\\t109° true\\n',\n",
       " 'Trackpoint\\tN42 48.732 W70 46.523\\t5/20/2006 3:03:16 PM \\t11 ft\\t\\t24 ft\\t00:00:15\\t1.1 mph\\t109° true\\n',\n",
       " 'Trackpoint\\tN42 48.731 W70 46.517\\t5/20/2006 3:03:31 PM \\t11 ft\\t\\t30 ft\\t00:00:15\\t1.4 mph\\t105° true\\n',\n",
       " 'Trackpoint\\tN42 48.729 W70 46.512\\t5/20/2006 3:03:46 PM \\t10 ft\\t\\t24 ft\\t00:00:15\\t1.1 mph\\t109° true\\n',\n",
       " 'Trackpoint\\tN42 48.728 W70 46.505\\t5/20/2006 3:04:01 PM \\t8 ft\\t\\t30 ft\\t00:00:15\\t1.4 mph\\t105° true\\n',\n",
       " 'Trackpoint\\tN42 48.727 W70 46.500\\t5/20/2006 3:04:16 PM \\t8 ft\\t\\t24 ft\\t00:00:15\\t1.1 mph\\t109° true\\n',\n",
       " 'Trackpoint\\tN42 48.724 W70 46.493\\t5/20/2006 3:04:31 PM \\t7 ft\\t\\t33 ft\\t00:00:15\\t1.5 mph\\t119° true\\n',\n",
       " 'Trackpoint\\tN42 48.723 W70 46.487\\t5/20/2006 3:04:46 PM \\t7 ft\\t\\t30 ft\\t00:00:15\\t1.4 mph\\t105° true\\n',\n",
       " 'Trackpoint\\tN42 48.722 W70 46.481\\t5/20/2006 3:05:01 PM \\t5 ft\\t\\t30 ft\\t00:00:15\\t1.4 mph\\t105° true\\n',\n",
       " 'Trackpoint\\tN42 48.720 W70 46.475\\t5/20/2006 3:05:16 PM \\t8 ft\\t\\t24 ft\\t00:00:15\\t1.1 mph\\t109° true\\n',\n",
       " 'Trackpoint\\tN42 48.719 W70 46.469\\t5/20/2006 3:05:31 PM \\t10 ft\\t\\t30 ft\\t00:00:15\\t1.4 mph\\t105° true\\n',\n",
       " 'Trackpoint\\tN42 48.718 W70 46.464\\t5/20/2006 3:05:46 PM \\t10 ft\\t\\t24 ft\\t00:00:15\\t1.1 mph\\t109° true\\n',\n",
       " 'Trackpoint\\tN42 48.716 W70 46.457\\t5/20/2006 3:06:01 PM \\t11 ft\\t\\t30 ft\\t00:00:15\\t1.4 mph\\t105° true\\n',\n",
       " 'Trackpoint\\tN42 48.715 W70 46.451\\t5/20/2006 3:06:16 PM \\t11 ft\\t\\t30 ft\\t00:00:15\\t1.4 mph\\t105° true\\n',\n",
       " 'Trackpoint\\tN42 48.714 W70 46.446\\t5/20/2006 3:06:31 PM \\t10 ft\\t\\t24 ft\\t00:00:15\\t1.1 mph\\t109° true\\n',\n",
       " 'Trackpoint\\tN42 48.713 W70 46.439\\t5/20/2006 3:06:46 PM \\t10 ft\\t\\t30 ft\\t00:00:15\\t1.4 mph\\t105° true\\n',\n",
       " 'Trackpoint\\tN42 48.711 W70 46.434\\t5/20/2006 3:07:01 PM \\t10 ft\\t\\t24 ft\\t00:00:15\\t1.1 mph\\t109° true\\n',\n",
       " 'Trackpoint\\tN42 48.709 W70 46.428\\t5/20/2006 3:07:16 PM \\t11 ft\\t\\t33 ft\\t00:00:15\\t1.5 mph\\t119° true\\n',\n",
       " 'Trackpoint\\tN42 48.707 W70 46.423\\t5/20/2006 3:07:31 PM \\t11 ft\\t\\t24 ft\\t00:00:15\\t1.1 mph\\t109° true\\n',\n",
       " 'Trackpoint\\tN42 48.706 W70 46.416\\t5/20/2006 3:07:46 PM \\t11 ft\\t\\t30 ft\\t00:00:15\\t1.4 mph\\t105° true\\n',\n",
       " 'Trackpoint\\tN42 48.705 W70 46.410\\t5/20/2006 3:08:01 PM \\t11 ft\\t\\t30 ft\\t00:00:15\\t1.4 mph\\t105° true\\n',\n",
       " 'Trackpoint\\tN42 48.704 W70 46.405\\t5/20/2006 3:08:16 PM \\t10 ft\\t\\t24 ft\\t00:00:15\\t1.1 mph\\t109° true\\n',\n",
       " 'Trackpoint\\tN42 48.701 W70 46.398\\t5/20/2006 3:08:31 PM \\t10 ft\\t\\t33 ft\\t00:00:15\\t1.5 mph\\t119° true\\n',\n",
       " 'Trackpoint\\tN42 48.700 W70 46.392\\t5/20/2006 3:08:46 PM \\t8 ft\\t\\t30 ft\\t00:00:15\\t1.4 mph\\t105° true\\n',\n",
       " 'Trackpoint\\tN42 48.698 W70 46.387\\t5/20/2006 3:09:01 PM \\t8 ft\\t\\t24 ft\\t00:00:15\\t1.1 mph\\t109° true\\n',\n",
       " 'Trackpoint\\tN42 48.697 W70 46.380\\t5/20/2006 3:09:16 PM \\t8 ft\\t\\t30 ft\\t00:00:15\\t1.4 mph\\t105° true\\n',\n",
       " 'Trackpoint\\tN42 48.696 W70 46.375\\t5/20/2006 3:09:31 PM \\t7 ft\\t\\t24 ft\\t00:00:15\\t1.1 mph\\t109° true\\n',\n",
       " 'Trackpoint\\tN42 48.694 W70 46.370\\t5/20/2006 3:09:46 PM \\t7 ft\\t\\t24 ft\\t00:00:15\\t1.1 mph\\t109° true\\n',\n",
       " 'Trackpoint\\tN42 48.693 W70 46.363\\t5/20/2006 3:10:01 PM \\t7 ft\\t\\t30 ft\\t00:00:15\\t1.4 mph\\t105° true\\n',\n",
       " 'Trackpoint\\tN42 48.692 W70 46.358\\t5/20/2006 3:10:16 PM \\t7 ft\\t\\t24 ft\\t00:00:15\\t1.1 mph\\t109° true\\n',\n",
       " 'Trackpoint\\tN42 48.691 W70 46.352\\t5/20/2006 3:10:31 PM \\t8 ft\\t\\t30 ft\\t00:00:15\\t1.4 mph\\t105° true\\n',\n",
       " 'Trackpoint\\tN42 48.688 W70 46.345\\t5/20/2006 3:10:46 PM \\t8 ft\\t\\t33 ft\\t00:00:15\\t1.5 mph\\t119° true\\n',\n",
       " 'Trackpoint\\tN42 48.687 W70 46.340\\t5/20/2006 3:11:01 PM \\t10 ft\\t\\t24 ft\\t00:00:15\\t1.1 mph\\t109° true\\n',\n",
       " 'Trackpoint\\tN42 48.685 W70 46.335\\t5/20/2006 3:11:16 PM \\t7 ft\\t\\t24 ft\\t00:00:15\\t1.1 mph\\t109° true\\n',\n",
       " 'Trackpoint\\tN42 48.684 W70 46.329\\t5/20/2006 3:11:31 PM \\t7 ft\\t\\t30 ft\\t00:00:15\\t1.4 mph\\t105° true\\n',\n",
       " 'Trackpoint\\tN42 48.683 W70 46.322\\t5/20/2006 3:11:46 PM \\t8 ft\\t\\t30 ft\\t00:00:15\\t1.4 mph\\t105° true\\n',\n",
       " 'Trackpoint\\tN42 48.680 W70 46.316\\t5/20/2006 3:12:01 PM \\t8 ft\\t\\t33 ft\\t00:00:15\\t1.5 mph\\t119° true\\n',\n",
       " 'Trackpoint\\tN42 48.679 W70 46.311\\t5/20/2006 3:12:16 PM \\t8 ft\\t\\t24 ft\\t00:00:15\\t1.1 mph\\t109° true\\n',\n",
       " 'Trackpoint\\tN42 48.678 W70 46.304\\t5/20/2006 3:12:31 PM \\t5 ft\\t\\t30 ft\\t00:00:15\\t1.4 mph\\t105° true\\n',\n",
       " 'Trackpoint\\tN42 48.676 W70 46.298\\t5/20/2006 3:12:46 PM \\t4 ft\\t\\t30 ft\\t00:00:15\\t1.4 mph\\t105° true\\n',\n",
       " 'Trackpoint\\tN42 48.675 W70 46.291\\t5/20/2006 3:13:01 PM \\t5 ft\\t\\t30 ft\\t00:00:15\\t1.4 mph\\t105° true\\n',\n",
       " 'Trackpoint\\tN42 48.673 W70 46.285\\t5/20/2006 3:13:16 PM \\t5 ft\\t\\t33 ft\\t00:00:15\\t1.5 mph\\t119° true\\n',\n",
       " 'Trackpoint\\tN42 48.671 W70 46.280\\t5/20/2006 3:13:31 PM \\t5 ft\\t\\t24 ft\\t00:00:15\\t1.1 mph\\t109° true\\n',\n",
       " 'Trackpoint\\tN42 48.670 W70 46.273\\t5/20/2006 3:13:46 PM \\t5 ft\\t\\t30 ft\\t00:00:15\\t1.4 mph\\t105° true\\n',\n",
       " 'Trackpoint\\tN42 48.669 W70 46.267\\t5/20/2006 3:14:01 PM \\t5 ft\\t\\t30 ft\\t00:00:15\\t1.4 mph\\t105° true\\n',\n",
       " 'Trackpoint\\tN42 48.666 W70 46.260\\t5/20/2006 3:14:16 PM \\t4 ft\\t\\t33 ft\\t00:00:15\\t1.5 mph\\t119° true\\n',\n",
       " 'Trackpoint\\tN42 48.665 W70 46.254\\t5/20/2006 3:14:31 PM \\t2 ft\\t\\t30 ft\\t00:00:15\\t1.4 mph\\t105° true\\n',\n",
       " 'Trackpoint\\tN42 48.664 W70 46.249\\t5/20/2006 3:14:46 PM \\t4 ft\\t\\t24 ft\\t00:00:15\\t1.1 mph\\t109° true\\n',\n",
       " 'Trackpoint\\tN42 48.662 W70 46.242\\t5/20/2006 3:15:01 PM \\t5 ft\\t\\t30 ft\\t00:00:15\\t1.4 mph\\t105° true\\n',\n",
       " 'Trackpoint\\tN42 48.660 W70 46.236\\t5/20/2006 3:15:16 PM \\t7 ft\\t\\t33 ft\\t00:00:15\\t1.5 mph\\t119° true\\n',\n",
       " 'Trackpoint\\tN42 48.658 W70 46.230\\t5/20/2006 3:15:31 PM \\t10 ft\\t\\t30 ft\\t00:00:15\\t1.4 mph\\t105° true\\n',\n",
       " 'Trackpoint\\tN42 48.657 W70 46.223\\t5/20/2006 3:15:46 PM \\t10 ft\\t\\t30 ft\\t00:00:15\\t1.4 mph\\t105° true\\n',\n",
       " 'Trackpoint\\tN42 48.656 W70 46.218\\t5/20/2006 3:16:01 PM \\t10 ft\\t\\t24 ft\\t00:00:15\\t1.1 mph\\t109° true\\n',\n",
       " 'Trackpoint\\tN42 48.653 W70 46.212\\t5/20/2006 3:16:16 PM \\t10 ft\\t\\t33 ft\\t00:00:15\\t1.5 mph\\t119° true\\n',\n",
       " 'Trackpoint\\tN42 48.652 W70 46.205\\t5/20/2006 3:16:31 PM \\t10 ft\\t\\t30 ft\\t00:00:15\\t1.4 mph\\t105° true\\n',\n",
       " 'Trackpoint\\tN42 48.651 W70 46.199\\t5/20/2006 3:16:46 PM \\t10 ft\\t\\t30 ft\\t00:00:15\\t1.4 mph\\t105° true\\n',\n",
       " 'Trackpoint\\tN42 48.649 W70 46.194\\t5/20/2006 3:17:01 PM \\t10 ft\\t\\t24 ft\\t00:00:15\\t1.1 mph\\t109° true\\n',\n",
       " 'Trackpoint\\tN42 48.648 W70 46.187\\t5/20/2006 3:17:16 PM \\t8 ft\\t\\t30 ft\\t00:00:15\\t1.4 mph\\t105° true\\n',\n",
       " 'Trackpoint\\tN42 48.647 W70 46.181\\t5/20/2006 3:17:31 PM \\t11 ft\\t\\t30 ft\\t00:00:15\\t1.4 mph\\t105° true\\n',\n",
       " 'Trackpoint\\tN42 48.646 W70 46.175\\t5/20/2006 3:17:46 PM \\t11 ft\\t\\t24 ft\\t00:00:15\\t1.1 mph\\t109° true\\n',\n",
       " 'Trackpoint\\tN42 48.644 W70 46.170\\t5/20/2006 3:18:01 PM \\t8 ft\\t\\t24 ft\\t00:00:15\\t1.1 mph\\t109° true\\n',\n",
       " 'Trackpoint\\tN42 48.643 W70 46.164\\t5/20/2006 3:18:16 PM \\t7 ft\\t\\t30 ft\\t00:00:15\\t1.4 mph\\t105° true\\n',\n",
       " 'Trackpoint\\tN42 48.640 W70 46.159\\t5/20/2006 3:18:31 PM \\t10 ft\\t\\t28 ft\\t00:00:15\\t1.3 mph\\t124° true\\n',\n",
       " 'Trackpoint\\tN42 48.639 W70 46.152\\t5/20/2006 3:18:46 PM \\t10 ft\\t\\t30 ft\\t00:00:15\\t1.4 mph\\t105° true\\n',\n",
       " 'Trackpoint\\tN42 48.638 W70 46.147\\t5/20/2006 3:19:01 PM \\t11 ft\\t\\t24 ft\\t00:00:15\\t1.1 mph\\t109° true\\n',\n",
       " 'Trackpoint\\tN42 48.637 W70 46.141\\t5/20/2006 3:19:16 PM \\t11 ft\\t\\t30 ft\\t00:00:15\\t1.4 mph\\t105° true\\n',\n",
       " 'Trackpoint\\tN42 48.635 W70 46.136\\t5/20/2006 3:19:31 PM \\t10 ft\\t\\t24 ft\\t00:00:15\\t1.1 mph\\t109° true\\n',\n",
       " 'Trackpoint\\tN42 48.634 W70 46.130\\t5/20/2006 3:19:46 PM \\t10 ft\\t\\t24 ft\\t00:00:15\\t1.1 mph\\t109° true\\n',\n",
       " 'Trackpoint\\tN42 48.633 W70 46.125\\t5/20/2006 3:20:01 PM \\t11 ft\\t\\t24 ft\\t00:00:15\\t1.1 mph\\t109° true\\n',\n",
       " 'Trackpoint\\tN42 48.631 W70 46.119\\t5/20/2006 3:20:16 PM \\t10 ft\\t\\t30 ft\\t00:00:15\\t1.4 mph\\t105° true\\n',\n",
       " 'Trackpoint\\tN42 48.630 W70 46.114\\t5/20/2006 3:20:31 PM \\t8 ft\\t\\t24 ft\\t00:00:15\\t1.1 mph\\t109° true\\n',\n",
       " 'Trackpoint\\tN42 48.629 W70 46.107\\t5/20/2006 3:20:46 PM \\t8 ft\\t\\t30 ft\\t00:00:15\\t1.4 mph\\t105° true\\n',\n",
       " 'Trackpoint\\tN42 48.628 W70 46.102\\t5/20/2006 3:21:01 PM \\t10 ft\\t\\t24 ft\\t00:00:15\\t1.1 mph\\t109° true\\n',\n",
       " 'Trackpoint\\tN42 48.626 W70 46.097\\t5/20/2006 3:21:16 PM \\t8 ft\\t\\t24 ft\\t00:00:15\\t1.1 mph\\t109° true\\n',\n",
       " 'Trackpoint\\tN42 48.625 W70 46.092\\t5/20/2006 3:21:31 PM \\t8 ft\\t\\t24 ft\\t00:00:15\\t1.1 mph\\t109° true\\n',\n",
       " 'Trackpoint\\tN42 48.624 W70 46.087\\t5/20/2006 3:21:46 PM \\t8 ft\\t\\t24 ft\\t00:00:15\\t1.1 mph\\t109° true\\n',\n",
       " 'Trackpoint\\tN42 48.622 W70 46.081\\t5/20/2006 3:22:01 PM \\t10 ft\\t\\t24 ft\\t00:00:15\\t1.1 mph\\t109° true\\n',\n",
       " 'Trackpoint\\tN42 48.621 W70 46.075\\t5/20/2006 3:22:16 PM \\t8 ft\\t\\t30 ft\\t00:00:15\\t1.4 mph\\t105° true\\n',\n",
       " 'Trackpoint\\tN42 48.620 W70 46.070\\t5/20/2006 3:22:31 PM \\t7 ft\\t\\t24 ft\\t00:00:15\\t1.1 mph\\t109° true\\n',\n",
       " 'Trackpoint\\tN42 48.619 W70 46.065\\t5/20/2006 3:22:46 PM \\t4 ft\\t\\t24 ft\\t00:00:15\\t1.1 mph\\t109° true\\n',\n",
       " 'Trackpoint\\tN42 48.616 W70 46.058\\t5/20/2006 3:23:01 PM \\t4 ft\\t\\t33 ft\\t00:00:15\\t1.5 mph\\t119° true\\n',\n",
       " 'Trackpoint\\tN42 48.615 W70 46.053\\t5/20/2006 3:23:16 PM \\t5 ft\\t\\t24 ft\\t00:00:15\\t1.1 mph\\t109° true\\n',\n",
       " 'Trackpoint\\tN42 48.613 W70 46.047\\t5/20/2006 3:23:31 PM \\t7 ft\\t\\t30 ft\\t00:00:15\\t1.4 mph\\t105° true\\n',\n",
       " 'Trackpoint\\tN42 48.612 W70 46.042\\t5/20/2006 3:23:46 PM \\t4 ft\\t\\t24 ft\\t00:00:15\\t1.1 mph\\t109° true\\n',\n",
       " 'Trackpoint\\tN42 48.611 W70 46.036\\t5/20/2006 3:24:01 PM \\t5 ft\\t\\t24 ft\\t00:00:15\\t1.1 mph\\t109° true\\n',\n",
       " 'Trackpoint\\tN42 48.610 W70 46.030\\t5/20/2006 3:24:16 PM \\t7 ft\\t\\t30 ft\\t00:00:15\\t1.4 mph\\t105° true\\n',\n",
       " 'Trackpoint\\tN42 48.608 W70 46.025\\t5/20/2006 3:24:31 PM \\t5 ft\\t\\t24 ft\\t00:00:15\\t1.1 mph\\t109° true\\n',\n",
       " 'Trackpoint\\tN42 48.607 W70 46.020\\t5/20/2006 3:24:46 PM \\t5 ft\\t\\t24 ft\\t00:00:15\\t1.1 mph\\t109° true\\n',\n",
       " 'Trackpoint\\tN42 48.606 W70 46.013\\t5/20/2006 3:25:01 PM \\t5 ft\\t\\t30 ft\\t00:00:15\\t1.4 mph\\t105° true\\n',\n",
       " 'Trackpoint\\tN42 48.604 W70 46.008\\t5/20/2006 3:25:16 PM \\t5 ft\\t\\t24 ft\\t00:00:15\\t1.1 mph\\t109° true\\n',\n",
       " 'Trackpoint\\tN42 48.603 W70 46.002\\t5/20/2006 3:25:31 PM \\t8 ft\\t\\t30 ft\\t00:00:15\\t1.4 mph\\t105° true\\n',\n",
       " 'Trackpoint\\tN42 48.602 W70 45.997\\t5/20/2006 3:25:46 PM \\t8 ft\\t\\t24 ft\\t00:00:15\\t1.1 mph\\t109° true\\n',\n",
       " 'Trackpoint\\tN42 48.601 W70 45.991\\t5/20/2006 3:26:01 PM \\t8 ft\\t\\t24 ft\\t00:00:15\\t1.1 mph\\t109° true\\n',\n",
       " 'Trackpoint\\tN42 48.598 W70 45.985\\t5/20/2006 3:26:16 PM \\t5 ft\\t\\t33 ft\\t00:00:15\\t1.5 mph\\t119° true\\n',\n",
       " 'Trackpoint\\tN42 48.597 W70 45.978\\t5/20/2006 3:26:31 PM \\t5 ft\\t\\t30 ft\\t00:00:15\\t1.4 mph\\t105° true\\n',\n",
       " 'Trackpoint\\tN42 48.595 W70 45.973\\t5/20/2006 3:26:46 PM \\t7 ft\\t\\t24 ft\\t00:00:15\\t1.1 mph\\t109° true\\n',\n",
       " 'Trackpoint\\tN42 48.594 W70 45.968\\t5/20/2006 3:27:01 PM \\t8 ft\\t\\t24 ft\\t00:00:15\\t1.1 mph\\t109° true\\n',\n",
       " 'Trackpoint\\tN42 48.593 W70 45.962\\t5/20/2006 3:27:16 PM \\t8 ft\\t\\t30 ft\\t00:00:15\\t1.4 mph\\t105° true\\n',\n",
       " 'Trackpoint\\tN42 48.590 W70 45.957\\t5/20/2006 3:27:31 PM \\t7 ft\\t\\t28 ft\\t00:00:15\\t1.3 mph\\t124° true\\n',\n",
       " 'Trackpoint\\tN42 48.589 W70 45.951\\t5/20/2006 3:27:46 PM \\t7 ft\\t\\t24 ft\\t00:00:15\\t1.1 mph\\t109° true\\n',\n",
       " 'Trackpoint\\tN42 48.588 W70 45.944\\t5/20/2006 3:28:01 PM \\t10 ft\\t\\t35 ft\\t00:00:15\\t1.6 mph\\t103° true\\n',\n",
       " 'Trackpoint\\tN42 48.588 W70 45.932\\t5/20/2006 3:28:16 PM \\t5 ft\\t\\t52 ft\\t00:00:15\\t2.4 mph\\t90° true\\n',\n",
       " 'Trackpoint\\tN42 48.593 W70 45.919\\t5/20/2006 3:28:32 PM \\t-5.9 ft\\t\\t65 ft\\t00:00:16\\t2.8 mph\\t61° true\\n',\n",
       " 'Trackpoint\\tN42 48.602 W70 45.917\\t5/20/2006 3:28:47 PM \\t-5.9 ft\\t\\t56 ft\\t00:00:15\\t2.5 mph\\t12° true\\n',\n",
       " 'Trackpoint\\tN42 48.608 W70 45.921\\t5/20/2006 3:29:02 PM \\t2 ft\\t\\t43 ft\\t00:00:15\\t1.9 mph\\t336° true\\n',\n",
       " 'Trackpoint\\tN42 48.607 W70 45.932\\t5/20/2006 3:29:17 PM \\t8 ft\\t\\t52 ft\\t00:00:15\\t2.4 mph\\t261° true\\n',\n",
       " 'Trackpoint\\tN42 48.606 W70 45.951\\t5/20/2006 3:29:32 PM \\t10 ft\\t\\t87 ft\\t00:00:15\\t3.9 mph\\t265° true\\n',\n",
       " 'Trackpoint\\tN42 48.606 W70 45.975\\t5/20/2006 3:29:47 PM \\t4 ft\\t\\t103 ft\\t00:00:15\\t4.7 mph\\t270° true\\n',\n",
       " 'Trackpoint\\tN42 48.606 W70 45.999\\t5/20/2006 3:30:02 PM \\t4 ft\\t\\t109 ft\\t00:00:15\\t5.0 mph\\t270° true\\n',\n",
       " 'Trackpoint\\tN42 48.602 W70 46.022\\t5/20/2006 3:30:17 PM \\t8 ft\\t\\t106 ft\\t00:00:15\\t4.8 mph\\t257° true\\n',\n",
       " 'Trackpoint\\tN42 48.598 W70 46.047\\t5/20/2006 3:30:32 PM \\t8 ft\\t\\t112 ft\\t00:00:15\\t5.1 mph\\t258° true\\n',\n",
       " 'Trackpoint\\tN42 48.595 W70 46.070\\t5/20/2006 3:30:47 PM \\t16 ft\\t\\t105 ft\\t00:00:15\\t4.8 mph\\t261° true\\n',\n",
       " 'Trackpoint\\tN42 48.595 W70 46.093\\t5/20/2006 3:31:02 PM \\t15 ft\\t\\t103 ft\\t00:00:15\\t4.7 mph\\t270° true\\n',\n",
       " 'Trackpoint\\tN42 48.597 W70 46.118\\t5/20/2006 3:31:17 PM \\t7 ft\\t\\t110 ft\\t00:00:15\\t5.0 mph\\t274° true\\n',\n",
       " 'Trackpoint\\tN42 48.598 W70 46.142\\t5/20/2006 3:31:32 PM \\t7 ft\\t\\t110 ft\\t00:00:15\\t5.0 mph\\t274° true\\n',\n",
       " 'Trackpoint\\tN42 48.599 W70 46.166\\t5/20/2006 3:31:47 PM \\t7 ft\\t\\t110 ft\\t00:00:15\\t5.0 mph\\t274° true\\n',\n",
       " 'Trackpoint\\tN42 48.601 W70 46.168\\t5/20/2006 3:31:48 PM \\t7 ft\\t\\t10 ft\\t00:00:01\\t6.6 mph\\t324° true']"
      ]
     },
     "execution_count": 32,
     "metadata": {},
     "output_type": "execute_result"
    }
   ],
   "source": [
    "f.readlines()"
   ]
  },
  {
   "cell_type": "code",
   "execution_count": 33,
   "metadata": {},
   "outputs": [
    {
     "data": {
      "text/plain": [
       "0"
      ]
     },
     "execution_count": 33,
     "metadata": {},
     "output_type": "execute_result"
    }
   ],
   "source": [
    "# This sets the pointer back to the beginning of the file. This allows us to run this\n",
    "# block of code many times without reopening the file each time.\n",
    "\n",
    "f.seek(0) # important!"
   ]
  },
  {
   "cell_type": "code",
   "execution_count": 34,
   "metadata": {},
   "outputs": [
    {
     "data": {
      "text/plain": [
       "[\"Grid\\tLat/Lon hddd°mm.mmm'\\n\",\n",
       " 'Datum\\tWGS 84\\n',\n",
       " '\\n',\n",
       " 'Header\\tName\\tStart Time\\tElapsed Time\\tLength\\tAverage Speed\\tLink\\n',\n",
       " '\\n',\n",
       " 'Track\\tACTIVE LOG\\t5/20/2006 1:34:55 PM \\t01:56:53\\t4.80 mi\\t2.5 mph\\t\\n',\n",
       " '\\n',\n",
       " 'Header\\tPosition\\tTime\\tAltitude\\tDepth\\tLeg Length\\tLeg Time\\tLeg Speed\\tLeg Course\\n',\n",
       " '\\n',\n",
       " 'Trackpoint\\tN42 49.820 W70 45.415\\t5/20/2006 1:35:10 PM \\t16 ft\\t\\t17 ft\\t00:00:15\\t0.76 mph\\t200° true\\n',\n",
       " 'Trackpoint\\tN42 49.821 W70 45.408\\t5/20/2006 1:35:25 PM \\t15 ft\\t\\t30 ft\\t00:00:15\\t1.4 mph\\t75° true\\n',\n",
       " 'Trackpoint\\tN42 49.824 W70 45.400\\t5/20/2006 1:35:40 PM \\t19 ft\\t\\t38 ft\\t00:00:15\\t1.7 mph\\t66° true\\n',\n",
       " 'Trackpoint\\tN42 49.825 W70 45.393\\t5/20/2006 1:35:55 PM \\t18 ft\\t\\t35 ft\\t00:00:15\\t1.6 mph\\t77° true\\n',\n",
       " 'Trackpoint\\tN42 49.824 W70 45.379\\t5/20/2006 1:36:10 PM \\t24 ft\\t\\t64 ft\\t00:00:15\\t2.9 mph\\t97° true\\n',\n",
       " 'Trackpoint\\tN42 49.821 W70 45.370\\t5/20/2006 1:36:25 PM \\t19 ft\\t\\t43 ft\\t00:00:15\\t2.0 mph\\t111° true\\n',\n",
       " 'Trackpoint\\tN42 49.821 W70 45.362\\t5/20/2006 1:36:40 PM \\t26 ft\\t\\t34 ft\\t00:00:15\\t1.6 mph\\t90° true\\n',\n",
       " 'Trackpoint\\tN42 49.821 W70 45.353\\t5/20/2006 1:36:55 PM \\t24 ft\\t\\t40 ft\\t00:00:15\\t1.8 mph\\t90° true\\n',\n",
       " 'Trackpoint\\tN42 49.816 W70 45.341\\t5/20/2006 1:37:10 PM \\t23 ft\\t\\t60 ft\\t00:00:15\\t2.7 mph\\t121° true\\n',\n",
       " 'Trackpoint\\tN42 49.807 W70 45.330\\t5/20/2006 1:37:25 PM \\t13 ft\\t\\t75 ft\\t00:00:15\\t3.4 mph\\t137° true\\n',\n",
       " 'Trackpoint\\tN42 49.794 W70 45.324\\t5/20/2006 1:37:40 PM \\t0.5 ft\\t\\t82 ft\\t00:00:15\\t3.7 mph\\t164° true\\n',\n",
       " 'Trackpoint\\tN42 49.784 W70 45.326\\t5/20/2006 1:37:55 PM \\t4 ft\\t\\t63 ft\\t00:00:15\\t2.9 mph\\t185° true\\n',\n",
       " 'Trackpoint\\tN42 49.776 W70 45.339\\t5/20/2006 1:38:10 PM \\t5 ft\\t\\t74 ft\\t00:00:15\\t3.4 mph\\t231° true\\n',\n",
       " 'Trackpoint\\tN42 49.781 W70 45.361\\t5/20/2006 1:38:25 PM \\t5 ft\\t\\t103 ft\\t00:00:15\\t4.7 mph\\t288° true\\n',\n",
       " 'Trackpoint\\tN42 49.786 W70 45.381\\t5/20/2006 1:38:40 PM \\t10 ft\\t\\t97 ft\\t00:00:15\\t4.4 mph\\t289° true\\n',\n",
       " 'Trackpoint\\tN42 49.780 W70 45.400\\t5/20/2006 1:38:55 PM \\t8 ft\\t\\t95 ft\\t00:00:15\\t4.3 mph\\t246° true\\n',\n",
       " 'Trackpoint\\tN42 49.767 W70 45.412\\t5/20/2006 1:39:10 PM \\t16 ft\\t\\t94 ft\\t00:00:15\\t4.3 mph\\t213° true\\n',\n",
       " 'Trackpoint\\tN42 49.750 W70 45.420\\t5/20/2006 1:39:25 PM \\t19 ft\\t\\t108 ft\\t00:00:15\\t4.9 mph\\t199° true\\n',\n",
       " 'Trackpoint\\tN42 49.735 W70 45.430\\t5/20/2006 1:39:40 PM \\t13 ft\\t\\t105 ft\\t00:00:15\\t4.8 mph\\t206° true\\n',\n",
       " 'Trackpoint\\tN42 49.719 W70 45.440\\t5/20/2006 1:39:55 PM \\t11 ft\\t\\t105 ft\\t00:00:15\\t4.8 mph\\t206° true\\n',\n",
       " 'Trackpoint\\tN42 49.701 W70 45.447\\t5/20/2006 1:40:10 PM \\t10 ft\\t\\t113 ft\\t00:00:15\\t5.2 mph\\t195° true\\n',\n",
       " 'Trackpoint\\tN42 49.683 W70 45.455\\t5/20/2006 1:40:25 PM \\t11 ft\\t\\t115 ft\\t00:00:15\\t5.2 mph\\t197° true\\n',\n",
       " 'Trackpoint\\tN42 49.668 W70 45.465\\t5/20/2006 1:40:40 PM \\t10 ft\\t\\t105 ft\\t00:00:15\\t4.8 mph\\t206° true\\n',\n",
       " 'Trackpoint\\tN42 49.652 W70 45.476\\t5/20/2006 1:40:55 PM \\t10 ft\\t\\t107 ft\\t00:00:15\\t4.9 mph\\t209° true\\n',\n",
       " 'Trackpoint\\tN42 49.637 W70 45.489\\t5/20/2006 1:41:10 PM \\t10 ft\\t\\t110 ft\\t00:00:15\\t5.0 mph\\t211° true\\n',\n",
       " 'Trackpoint\\tN42 49.623 W70 45.502\\t5/20/2006 1:41:25 PM \\t10 ft\\t\\t104 ft\\t00:00:15\\t4.7 mph\\t214° true\\n',\n",
       " 'Trackpoint\\tN42 49.611 W70 45.520\\t5/20/2006 1:41:40 PM \\t10 ft\\t\\t107 ft\\t00:00:15\\t4.9 mph\\t229° true\\n',\n",
       " 'Trackpoint\\tN42 49.600 W70 45.537\\t5/20/2006 1:41:55 PM \\t8 ft\\t\\t103 ft\\t00:00:15\\t4.7 mph\\t227° true\\n',\n",
       " 'Trackpoint\\tN42 49.585 W70 45.552\\t5/20/2006 1:42:10 PM \\t7 ft\\t\\t110 ft\\t00:00:15\\t5.0 mph\\t219° true\\n',\n",
       " 'Trackpoint\\tN42 49.574 W70 45.569\\t5/20/2006 1:42:25 PM \\t5 ft\\t\\t103 ft\\t00:00:15\\t4.7 mph\\t227° true\\n',\n",
       " 'Trackpoint\\tN42 49.562 W70 45.586\\t5/20/2006 1:42:40 PM \\t7 ft\\t\\t103 ft\\t00:00:15\\t4.7 mph\\t227° true\\n',\n",
       " 'Trackpoint\\tN42 49.549 W70 45.601\\t5/20/2006 1:42:55 PM \\t7 ft\\t\\t104 ft\\t00:00:15\\t4.7 mph\\t221° true\\n',\n",
       " 'Trackpoint\\tN42 49.536 W70 45.617\\t5/20/2006 1:43:10 PM \\t5 ft\\t\\t104 ft\\t00:00:15\\t4.7 mph\\t221° true\\n',\n",
       " 'Trackpoint\\tN42 49.525 W70 45.632\\t5/20/2006 1:43:25 PM \\t4 ft\\t\\t99 ft\\t00:00:15\\t4.5 mph\\t224° true\\n',\n",
       " 'Trackpoint\\tN42 49.513 W70 45.646\\t5/20/2006 1:43:40 PM \\t7 ft\\t\\t95 ft\\t00:00:15\\t4.3 mph\\t222° true\\n',\n",
       " 'Trackpoint\\tN42 49.499 W70 45.660\\t5/20/2006 1:43:55 PM \\t5 ft\\t\\t107 ft\\t00:00:15\\t4.9 mph\\t216° true\\n',\n",
       " 'Trackpoint\\tN42 49.486 W70 45.675\\t5/20/2006 1:44:10 PM \\t5 ft\\t\\t101 ft\\t00:00:15\\t4.6 mph\\t219° true\\n',\n",
       " 'Trackpoint\\tN42 49.473 W70 45.690\\t5/20/2006 1:44:25 PM \\t8 ft\\t\\t104 ft\\t00:00:15\\t4.7 mph\\t221° true\\n',\n",
       " 'Trackpoint\\tN42 49.463 W70 45.707\\t5/20/2006 1:44:40 PM \\t5 ft\\t\\t98 ft\\t00:00:15\\t4.4 mph\\t230° true\\n',\n",
       " 'Trackpoint\\tN42 49.452 W70 45.722\\t5/20/2006 1:44:55 PM \\t7 ft\\t\\t99 ft\\t00:00:15\\t4.5 mph\\t224° true\\n',\n",
       " 'Trackpoint\\tN42 49.436 W70 45.734\\t5/20/2006 1:45:10 PM \\t11 ft\\t\\t107 ft\\t00:00:15\\t4.9 mph\\t209° true\\n',\n",
       " 'Trackpoint\\tN42 49.422 W70 45.747\\t5/20/2006 1:45:25 PM \\t11 ft\\t\\t104 ft\\t00:00:15\\t4.7 mph\\t214° true\\n',\n",
       " 'Trackpoint\\tN42 49.412 W70 45.762\\t5/20/2006 1:45:40 PM \\t8 ft\\t\\t93 ft\\t00:00:15\\t4.2 mph\\t228° true\\n',\n",
       " 'Trackpoint\\tN42 49.401 W70 45.780\\t5/20/2006 1:45:55 PM \\t7 ft\\t\\t102 ft\\t00:00:15\\t4.6 mph\\t232° true\\n',\n",
       " 'Trackpoint\\tN42 49.388 W70 45.796\\t5/20/2006 1:46:10 PM \\t8 ft\\t\\t104 ft\\t00:00:15\\t4.7 mph\\t221° true\\n',\n",
       " 'Trackpoint\\tN42 49.377 W70 45.811\\t5/20/2006 1:46:25 PM \\t13 ft\\t\\t99 ft\\t00:00:15\\t4.5 mph\\t224° true\\n',\n",
       " 'Trackpoint\\tN42 49.365 W70 45.828\\t5/20/2006 1:46:40 PM \\t16 ft\\t\\t103 ft\\t00:00:15\\t4.7 mph\\t227° true\\n',\n",
       " 'Trackpoint\\tN42 49.354 W70 45.845\\t5/20/2006 1:46:55 PM \\t16 ft\\t\\t103 ft\\t00:00:15\\t4.7 mph\\t227° true\\n',\n",
       " 'Trackpoint\\tN42 49.342 W70 45.861\\t5/20/2006 1:47:10 PM \\t15 ft\\t\\t103 ft\\t00:00:15\\t4.7 mph\\t227° true\\n',\n",
       " 'Trackpoint\\tN42 49.329 W70 45.877\\t5/20/2006 1:47:25 PM \\t10 ft\\t\\t104 ft\\t00:00:15\\t4.7 mph\\t221° true\\n',\n",
       " 'Trackpoint\\tN42 49.318 W70 45.892\\t5/20/2006 1:47:40 PM \\t10 ft\\t\\t99 ft\\t00:00:15\\t4.5 mph\\t224° true\\n',\n",
       " 'Trackpoint\\tN42 49.307 W70 45.909\\t5/20/2006 1:47:55 PM \\t13 ft\\t\\t98 ft\\t00:00:15\\t4.4 mph\\t230° true\\n',\n",
       " 'Trackpoint\\tN42 49.297 W70 45.926\\t5/20/2006 1:48:10 PM \\t11 ft\\t\\t98 ft\\t00:00:15\\t4.4 mph\\t230° true\\n',\n",
       " 'Trackpoint\\tN42 49.287 W70 45.945\\t5/20/2006 1:48:25 PM \\t11 ft\\t\\t107 ft\\t00:00:15\\t4.8 mph\\t234° true\\n',\n",
       " 'Trackpoint\\tN42 49.276 W70 45.962\\t5/20/2006 1:48:40 PM \\t11 ft\\t\\t98 ft\\t00:00:15\\t4.4 mph\\t230° true\\n',\n",
       " 'Trackpoint\\tN42 49.264 W70 45.977\\t5/20/2006 1:48:55 PM \\t11 ft\\t\\t104 ft\\t00:00:15\\t4.7 mph\\t221° true\\n',\n",
       " 'Trackpoint\\tN42 49.252 W70 45.993\\t5/20/2006 1:49:10 PM \\t8 ft\\t\\t99 ft\\t00:00:15\\t4.5 mph\\t224° true\\n',\n",
       " 'Trackpoint\\tN42 49.244 W70 46.012\\t5/20/2006 1:49:25 PM \\t7 ft\\t\\t98 ft\\t00:00:15\\t4.5 mph\\t241° true\\n',\n",
       " 'Trackpoint\\tN42 49.237 W70 46.031\\t5/20/2006 1:49:40 PM \\t5 ft\\t\\t98 ft\\t00:00:15\\t4.5 mph\\t241° true\\n',\n",
       " 'Trackpoint\\tN42 49.226 W70 46.052\\t5/20/2006 1:49:56 PM \\t8 ft\\t\\t111 ft\\t00:00:16\\t4.7 mph\\t236° true\\n',\n",
       " 'Trackpoint\\tN42 49.217 W70 46.070\\t5/20/2006 1:50:11 PM \\t13 ft\\t\\t97 ft\\t00:00:15\\t4.4 mph\\t236° true\\n',\n",
       " 'Trackpoint\\tN42 49.208 W70 46.088\\t5/20/2006 1:50:26 PM \\t13 ft\\t\\t97 ft\\t00:00:15\\t4.4 mph\\t236° true\\n',\n",
       " 'Trackpoint\\tN42 49.199 W70 46.109\\t5/20/2006 1:50:42 PM \\t19 ft\\t\\t107 ft\\t00:00:16\\t4.6 mph\\t239° true\\n',\n",
       " 'Trackpoint\\tN42 49.191 W70 46.128\\t5/20/2006 1:50:57 PM \\t24 ft\\t\\t98 ft\\t00:00:15\\t4.5 mph\\t241° true\\n',\n",
       " 'Trackpoint\\tN42 49.182 W70 46.147\\t5/20/2006 1:51:12 PM \\t19 ft\\t\\t102 ft\\t00:00:15\\t4.6 mph\\t238° true\\n',\n",
       " 'Trackpoint\\tN42 49.170 W70 46.164\\t5/20/2006 1:51:27 PM \\t16 ft\\t\\t108 ft\\t00:00:15\\t4.9 mph\\t224° true\\n',\n",
       " 'Trackpoint\\tN42 49.159 W70 46.181\\t5/20/2006 1:51:42 PM \\t11 ft\\t\\t98 ft\\t00:00:15\\t4.4 mph\\t230° true\\n',\n",
       " 'Trackpoint\\tN42 49.154 W70 46.201\\t5/20/2006 1:51:57 PM \\t10 ft\\t\\t97 ft\\t00:00:15\\t4.4 mph\\t251° true\\n',\n",
       " 'Trackpoint\\tN42 49.154 W70 46.223\\t5/20/2006 1:52:12 PM \\t-4.3 ft\\t\\t98 ft\\t00:00:15\\t4.4 mph\\t270° true\\n',\n",
       " 'Trackpoint\\tN42 49.153 W70 46.245\\t5/20/2006 1:52:27 PM \\t-2.7 ft\\t\\t98 ft\\t00:00:15\\t4.5 mph\\t265° true\\n',\n",
       " 'Trackpoint\\tN42 49.145 W70 46.264\\t5/20/2006 1:52:42 PM \\t2 ft\\t\\t98 ft\\t00:00:15\\t4.5 mph\\t241° true\\n',\n",
       " 'Trackpoint\\tN42 49.136 W70 46.284\\t5/20/2006 1:52:57 PM \\t5 ft\\t\\t102 ft\\t00:00:15\\t4.6 mph\\t238° true\\n',\n",
       " 'Trackpoint\\tN42 49.125 W70 46.299\\t5/20/2006 1:53:12 PM \\t8 ft\\t\\t99 ft\\t00:00:15\\t4.5 mph\\t224° true\\n',\n",
       " 'Trackpoint\\tN42 49.112 W70 46.313\\t5/20/2006 1:53:27 PM \\t10 ft\\t\\t101 ft\\t00:00:15\\t4.6 mph\\t219° true\\n',\n",
       " 'Trackpoint\\tN42 49.099 W70 46.329\\t5/20/2006 1:53:42 PM \\t11 ft\\t\\t104 ft\\t00:00:15\\t4.7 mph\\t221° true\\n',\n",
       " 'Trackpoint\\tN42 49.091 W70 46.345\\t5/20/2006 1:53:57 PM \\t11 ft\\t\\t88 ft\\t00:00:15\\t4.0 mph\\t238° true\\n',\n",
       " 'Trackpoint\\tN42 49.087 W70 46.366\\t5/20/2006 1:54:12 PM \\t13 ft\\t\\t95 ft\\t00:00:15\\t4.3 mph\\t256° true\\n',\n",
       " 'Trackpoint\\tN42 49.082 W70 46.387\\t5/20/2006 1:54:27 PM \\t16 ft\\t\\t97 ft\\t00:00:15\\t4.4 mph\\t251° true\\n',\n",
       " 'Trackpoint\\tN42 49.072 W70 46.406\\t5/20/2006 1:54:42 PM \\t15 ft\\t\\t107 ft\\t00:00:15\\t4.8 mph\\t234° true\\n',\n",
       " 'Trackpoint\\tN42 49.060 W70 46.424\\t5/20/2006 1:54:57 PM \\t11 ft\\t\\t107 ft\\t00:00:15\\t4.9 mph\\t229° true\\n',\n",
       " 'Trackpoint\\tN42 49.051 W70 46.441\\t5/20/2006 1:55:12 PM \\t11 ft\\t\\t93 ft\\t00:00:15\\t4.2 mph\\t234° true\\n',\n",
       " 'Trackpoint\\tN42 49.045 W70 46.461\\t5/20/2006 1:55:27 PM \\t13 ft\\t\\t100 ft\\t00:00:15\\t4.5 mph\\t247° true\\n',\n",
       " 'Trackpoint\\tN42 49.041 W70 46.483\\t5/20/2006 1:55:42 PM \\t15 ft\\t\\t101 ft\\t00:00:15\\t4.6 mph\\t256° true\\n',\n",
       " 'Trackpoint\\tN42 49.036 W70 46.504\\t5/20/2006 1:55:57 PM \\t16 ft\\t\\t97 ft\\t00:00:15\\t4.4 mph\\t251° true\\n',\n",
       " 'Trackpoint\\tN42 49.024 W70 46.522\\t5/20/2006 1:56:12 PM \\t15 ft\\t\\t107 ft\\t00:00:15\\t4.9 mph\\t229° true\\n',\n",
       " 'Trackpoint\\tN42 49.010 W70 46.535\\t5/20/2006 1:56:27 PM \\t18 ft\\t\\t104 ft\\t00:00:15\\t4.7 mph\\t214° true\\n',\n",
       " 'Trackpoint\\tN42 48.998 W70 46.550\\t5/20/2006 1:56:42 PM \\t15 ft\\t\\t99 ft\\t00:00:15\\t4.5 mph\\t224° true\\n',\n",
       " 'Trackpoint\\tN42 48.987 W70 46.567\\t5/20/2006 1:56:57 PM \\t15 ft\\t\\t103 ft\\t00:00:15\\t4.7 mph\\t227° true\\n',\n",
       " 'Trackpoint\\tN42 48.976 W70 46.584\\t5/20/2006 1:57:12 PM \\t13 ft\\t\\t98 ft\\t00:00:15\\t4.4 mph\\t230° true\\n',\n",
       " 'Trackpoint\\tN42 48.962 W70 46.599\\t5/20/2006 1:57:27 PM \\t15 ft\\t\\t110 ft\\t00:00:15\\t5.0 mph\\t219° true\\n',\n",
       " 'Trackpoint\\tN42 48.947 W70 46.613\\t5/20/2006 1:57:42 PM \\t13 ft\\t\\t113 ft\\t00:00:15\\t5.2 mph\\t214° true\\n',\n",
       " 'Trackpoint\\tN42 48.931 W70 46.626\\t5/20/2006 1:57:57 PM \\t13 ft\\t\\t110 ft\\t00:00:15\\t5.0 mph\\t211° true\\n',\n",
       " 'Trackpoint\\tN42 48.916 W70 46.640\\t5/20/2006 1:58:12 PM \\t13 ft\\t\\t113 ft\\t00:00:15\\t5.2 mph\\t214° true\\n',\n",
       " 'Trackpoint\\tN42 48.902 W70 46.653\\t5/20/2006 1:58:27 PM \\t13 ft\\t\\t104 ft\\t00:00:15\\t4.7 mph\\t214° true\\n',\n",
       " 'Trackpoint\\tN42 48.885 W70 46.666\\t5/20/2006 1:58:42 PM \\t11 ft\\t\\t117 ft\\t00:00:15\\t5.3 mph\\t209° true\\n',\n",
       " 'Trackpoint\\tN42 48.868 W70 46.678\\t5/20/2006 1:58:57 PM \\t15 ft\\t\\t114 ft\\t00:00:15\\t5.2 mph\\t207° true\\n',\n",
       " 'Trackpoint\\tN42 48.852 W70 46.688\\t5/20/2006 1:59:12 PM \\t15 ft\\t\\t112 ft\\t00:00:15\\t5.1 mph\\t204° true\\n',\n",
       " 'Trackpoint\\tN42 48.835 W70 46.698\\t5/20/2006 1:59:27 PM \\t13 ft\\t\\t112 ft\\t00:00:15\\t5.1 mph\\t204° true\\n',\n",
       " 'Trackpoint\\tN42 48.821 W70 46.711\\t5/20/2006 1:59:42 PM \\t13 ft\\t\\t104 ft\\t00:00:15\\t4.7 mph\\t214° true\\n',\n",
       " 'Trackpoint\\tN42 48.807 W70 46.727\\t5/20/2006 1:59:57 PM \\t15 ft\\t\\t110 ft\\t00:00:15\\t5.0 mph\\t219° true\\n',\n",
       " 'Trackpoint\\tN42 48.796 W70 46.743\\t5/20/2006 2:00:12 PM \\t15 ft\\t\\t98 ft\\t00:00:15\\t4.4 mph\\t230° true\\n',\n",
       " 'Trackpoint\\tN42 48.788 W70 46.763\\t5/20/2006 2:00:27 PM \\t13 ft\\t\\t98 ft\\t00:00:15\\t4.5 mph\\t241° true\\n',\n",
       " 'Trackpoint\\tN42 48.785 W70 46.783\\t5/20/2006 2:00:42 PM \\t13 ft\\t\\t95 ft\\t00:00:15\\t4.3 mph\\t256° true\\n',\n",
       " 'Trackpoint\\tN42 48.778 W70 46.804\\t5/20/2006 2:00:57 PM \\t11 ft\\t\\t100 ft\\t00:00:15\\t4.5 mph\\t247° true\\n',\n",
       " 'Trackpoint\\tN42 48.772 W70 46.826\\t5/20/2006 2:01:12 PM \\t10 ft\\t\\t105 ft\\t00:00:15\\t4.8 mph\\t248° true\\n',\n",
       " 'Trackpoint\\tN42 48.773 W70 46.846\\t5/20/2006 2:01:27 PM \\t10 ft\\t\\t92 ft\\t00:00:15\\t4.2 mph\\t275° true\\n',\n",
       " 'Trackpoint\\tN42 48.778 W70 46.867\\t5/20/2006 2:01:42 PM \\t7 ft\\t\\t97 ft\\t00:00:15\\t4.4 mph\\t289° true\\n',\n",
       " 'Trackpoint\\tN42 48.786 W70 46.886\\t5/20/2006 2:01:57 PM \\t10 ft\\t\\t98 ft\\t00:00:15\\t4.5 mph\\t299° true\\n',\n",
       " 'Trackpoint\\tN42 48.791 W70 46.907\\t5/20/2006 2:02:12 PM \\t11 ft\\t\\t97 ft\\t00:00:15\\t4.4 mph\\t289° true\\n',\n",
       " 'Trackpoint\\tN42 48.792 W70 46.929\\t5/20/2006 2:02:27 PM \\t10 ft\\t\\t98 ft\\t00:00:15\\t4.5 mph\\t275° true\\n',\n",
       " 'Trackpoint\\tN42 48.790 W70 46.951\\t5/20/2006 2:02:42 PM \\t13 ft\\t\\t99 ft\\t00:00:15\\t4.5 mph\\t261° true\\n',\n",
       " 'Trackpoint\\tN42 48.785 W70 46.972\\t5/20/2006 2:02:57 PM \\t16 ft\\t\\t103 ft\\t00:00:15\\t4.7 mph\\t252° true\\n',\n",
       " 'Trackpoint\\tN42 48.777 W70 46.993\\t5/20/2006 2:03:12 PM \\t15 ft\\t\\t103 ft\\t00:00:15\\t4.7 mph\\t243° true\\n',\n",
       " 'Trackpoint\\tN42 48.768 W70 47.015\\t5/20/2006 2:03:27 PM \\t15 ft\\t\\t112 ft\\t00:00:15\\t5.1 mph\\t241° true\\n',\n",
       " 'Trackpoint\\tN42 48.763 W70 47.036\\t5/20/2006 2:03:42 PM \\t15 ft\\t\\t97 ft\\t00:00:15\\t4.4 mph\\t251° true\\n',\n",
       " 'Trackpoint\\tN42 48.761 W70 47.059\\t5/20/2006 2:03:57 PM \\t11 ft\\t\\t104 ft\\t00:00:15\\t4.7 mph\\t266° true\\n',\n",
       " 'Trackpoint\\tN42 48.764 W70 47.081\\t5/20/2006 2:04:12 PM \\t8 ft\\t\\t99 ft\\t00:00:15\\t4.5 mph\\t279° true\\n',\n",
       " 'Trackpoint\\tN42 48.772 W70 47.100\\t5/20/2006 2:04:27 PM \\t10 ft\\t\\t98 ft\\t00:00:15\\t4.5 mph\\t299° true\\n',\n",
       " 'Trackpoint\\tN42 48.778 W70 47.120\\t5/20/2006 2:04:42 PM \\t11 ft\\t\\t100 ft\\t00:00:15\\t4.5 mph\\t293° true\\n',\n",
       " 'Trackpoint\\tN42 48.786 W70 47.141\\t5/20/2006 2:04:57 PM \\t10 ft\\t\\t103 ft\\t00:00:15\\t4.7 mph\\t297° true\\n',\n",
       " 'Trackpoint\\tN42 48.792 W70 47.160\\t5/20/2006 2:05:12 PM \\t8 ft\\t\\t95 ft\\t00:00:15\\t4.3 mph\\t294° true\\n',\n",
       " 'Trackpoint\\tN42 48.799 W70 47.181\\t5/20/2006 2:05:27 PM \\t8 ft\\t\\t100 ft\\t00:00:15\\t4.5 mph\\t293° true\\n',\n",
       " 'Trackpoint\\tN42 48.805 W70 47.202\\t5/20/2006 2:05:42 PM \\t8 ft\\t\\t100 ft\\t00:00:15\\t4.5 mph\\t293° true\\n',\n",
       " 'Trackpoint\\tN42 48.813 W70 47.221\\t5/20/2006 2:05:57 PM \\t7 ft\\t\\t98 ft\\t00:00:15\\t4.5 mph\\t299° true\\n',\n",
       " 'Trackpoint\\tN42 48.818 W70 47.243\\t5/20/2006 2:06:12 PM \\t7 ft\\t\\t103 ft\\t00:00:15\\t4.7 mph\\t288° true\\n',\n",
       " 'Trackpoint\\tN42 48.823 W70 47.265\\t5/20/2006 2:06:27 PM \\t8 ft\\t\\t103 ft\\t00:00:15\\t4.7 mph\\t288° true\\n',\n",
       " 'Trackpoint\\tN42 48.830 W70 47.287\\t5/20/2006 2:06:42 PM \\t8 ft\\t\\t105 ft\\t00:00:15\\t4.8 mph\\t292° true\\n',\n",
       " 'Trackpoint\\tN42 48.836 W70 47.307\\t5/20/2006 2:06:57 PM \\t7 ft\\t\\t100 ft\\t00:00:15\\t4.5 mph\\t293° true\\n',\n",
       " 'Trackpoint\\tN42 48.844 W70 47.329\\t5/20/2006 2:07:12 PM \\t7 ft\\t\\t108 ft\\t00:00:15\\t4.9 mph\\t296° true\\n',\n",
       " 'Trackpoint\\tN42 48.850 W70 47.350\\t5/20/2006 2:07:27 PM \\t2 ft\\t\\t100 ft\\t00:00:15\\t4.5 mph\\t293° true\\n',\n",
       " 'Trackpoint\\tN42 48.857 W70 47.370\\t5/20/2006 2:07:42 PM \\t5 ft\\t\\t100 ft\\t00:00:15\\t4.5 mph\\t293° true\\n',\n",
       " 'Trackpoint\\tN42 48.861 W70 47.392\\t5/20/2006 2:07:57 PM \\t4 ft\\t\\t101 ft\\t00:00:15\\t4.6 mph\\t284° true\\n',\n",
       " 'Trackpoint\\tN42 48.864 W70 47.414\\t5/20/2006 2:08:12 PM \\t5 ft\\t\\t101 ft\\t00:00:15\\t4.6 mph\\t284° true\\n',\n",
       " 'Trackpoint\\tN42 48.866 W70 47.435\\t5/20/2006 2:08:27 PM \\t2 ft\\t\\t92 ft\\t00:00:15\\t4.2 mph\\t275° true\\n',\n",
       " 'Trackpoint\\tN42 48.872 W70 47.454\\t5/20/2006 2:08:42 PM \\t4 ft\\t\\t95 ft\\t00:00:15\\t4.3 mph\\t294° true\\n',\n",
       " 'Trackpoint\\tN42 48.885 W70 47.468\\t5/20/2006 2:08:57 PM \\t5 ft\\t\\t101 ft\\t00:00:15\\t4.6 mph\\t321° true\\n',\n",
       " 'Trackpoint\\tN42 48.895 W70 47.481\\t5/20/2006 2:09:12 PM \\t5 ft\\t\\t85 ft\\t00:00:15\\t3.9 mph\\t317° true\\n',\n",
       " 'Trackpoint\\tN42 48.900 W70 47.486\\t5/20/2006 2:09:27 PM \\t4 ft\\t\\t39 ft\\t00:00:15\\t1.8 mph\\t324° true\\n',\n",
       " 'Trackpoint\\tN42 48.906 W70 47.486\\t5/20/2006 2:09:42 PM \\t7 ft\\t\\t31 ft\\t00:00:15\\t1.4 mph\\t0° true\\n',\n",
       " 'Trackpoint\\tN42 48.916 W70 47.487\\t5/20/2006 2:09:57 PM \\t4 ft\\t\\t63 ft\\t00:00:15\\t2.9 mph\\t355° true\\n',\n",
       " 'Trackpoint\\tN42 48.921 W70 47.499\\t5/20/2006 2:10:12 PM \\t5 ft\\t\\t60 ft\\t00:00:15\\t2.7 mph\\t301° true\\n',\n",
       " 'Trackpoint\\tN42 48.913 W70 47.512\\t5/20/2006 2:10:27 PM \\t5 ft\\t\\t74 ft\\t00:00:15\\t3.4 mph\\t231° true\\n',\n",
       " 'Trackpoint\\tN42 48.903 W70 47.529\\t5/20/2006 2:10:42 PM \\t10 ft\\t\\t98 ft\\t00:00:15\\t4.4 mph\\t230° true\\n',\n",
       " 'Trackpoint\\tN42 48.893 W70 47.545\\t5/20/2006 2:10:57 PM \\t10 ft\\t\\t98 ft\\t00:00:15\\t4.4 mph\\t230° true\\n',\n",
       " 'Trackpoint\\tN42 48.886 W70 47.554\\t5/20/2006 2:11:12 PM \\t10 ft\\t\\t56 ft\\t00:00:15\\t2.6 mph\\t226° true\\n',\n",
       " 'Trackpoint\\tN42 48.880 W70 47.557\\t5/20/2006 2:11:27 PM \\t10 ft\\t\\t41 ft\\t00:00:15\\t1.9 mph\\t196° true\\n',\n",
       " 'Trackpoint\\tN42 48.871 W70 47.563\\t5/20/2006 2:11:42 PM \\t8 ft\\t\\t62 ft\\t00:00:15\\t2.8 mph\\t208° true\\n',\n",
       " 'Trackpoint\\tN42 48.867 W70 47.572\\t5/20/2006 2:11:57 PM \\t7 ft\\t\\t47 ft\\t00:00:15\\t2.1 mph\\t240° true\\n',\n",
       " 'Trackpoint\\tN42 48.868 W70 47.579\\t5/20/2006 2:12:12 PM \\t8 ft\\t\\t30 ft\\t00:00:15\\t1.4 mph\\t285° true\\n',\n",
       " 'Trackpoint\\tN42 48.876 W70 47.575\\t5/20/2006 2:12:27 PM \\t10 ft\\t\\t50 ft\\t00:00:15\\t2.3 mph\\t20° true\\n',\n",
       " 'Trackpoint\\tN42 48.879 W70 47.570\\t5/20/2006 2:12:42 PM \\t10 ft\\t\\t28 ft\\t00:00:15\\t1.3 mph\\t56° true\\n',\n",
       " 'Trackpoint\\tN42 48.877 W70 47.566\\t5/20/2006 2:12:57 PM \\t13 ft\\t\\t19 ft\\t00:00:15\\t0.86 mph\\t114° true\\n',\n",
       " 'Trackpoint\\tN42 48.876 W70 47.562\\t5/20/2006 2:13:12 PM \\t11 ft\\t\\t19 ft\\t00:00:15\\t0.86 mph\\t114° true\\n',\n",
       " 'Trackpoint\\tN42 48.875 W70 47.556\\t5/20/2006 2:13:27 PM \\t11 ft\\t\\t30 ft\\t00:00:15\\t1.4 mph\\t105° true\\n',\n",
       " 'Trackpoint\\tN42 48.873 W70 47.549\\t5/20/2006 2:13:42 PM \\t13 ft\\t\\t30 ft\\t00:00:15\\t1.4 mph\\t105° true\\n',\n",
       " 'Trackpoint\\tN42 48.873 W70 47.543\\t5/20/2006 2:13:57 PM \\t13 ft\\t\\t29 ft\\t00:00:15\\t1.3 mph\\t90° true\\n',\n",
       " 'Trackpoint\\tN42 48.872 W70 47.535\\t5/20/2006 2:14:12 PM \\t15 ft\\t\\t35 ft\\t00:00:15\\t1.6 mph\\t103° true\\n',\n",
       " 'Trackpoint\\tN42 48.872 W70 47.527\\t5/20/2006 2:14:27 PM \\t15 ft\\t\\t34 ft\\t00:00:15\\t1.6 mph\\t90° true\\n',\n",
       " 'Trackpoint\\tN42 48.871 W70 47.520\\t5/20/2006 2:14:42 PM \\t13 ft\\t\\t35 ft\\t00:00:15\\t1.6 mph\\t103° true\\n',\n",
       " 'Trackpoint\\tN42 48.871 W70 47.511\\t5/20/2006 2:14:57 PM \\t15 ft\\t\\t40 ft\\t00:00:15\\t1.8 mph\\t90° true\\n',\n",
       " 'Trackpoint\\tN42 48.871 W70 47.503\\t5/20/2006 2:15:12 PM \\t15 ft\\t\\t34 ft\\t00:00:15\\t1.6 mph\\t90° true\\n',\n",
       " 'Trackpoint\\tN42 48.872 W70 47.495\\t5/20/2006 2:15:27 PM \\t16 ft\\t\\t35 ft\\t00:00:15\\t1.6 mph\\t77° true\\n',\n",
       " 'Trackpoint\\tN42 48.872 W70 47.487\\t5/20/2006 2:15:42 PM \\t15 ft\\t\\t34 ft\\t00:00:15\\t1.6 mph\\t90° true\\n',\n",
       " 'Trackpoint\\tN42 48.872 W70 47.480\\t5/20/2006 2:15:57 PM \\t15 ft\\t\\t34 ft\\t00:00:15\\t1.6 mph\\t90° true\\n',\n",
       " 'Trackpoint\\tN42 48.872 W70 47.472\\t5/20/2006 2:16:12 PM \\t15 ft\\t\\t34 ft\\t00:00:15\\t1.6 mph\\t90° true\\n',\n",
       " 'Trackpoint\\tN42 48.872 W70 47.466\\t5/20/2006 2:16:27 PM \\t11 ft\\t\\t29 ft\\t00:00:15\\t1.3 mph\\t90° true\\n',\n",
       " 'Trackpoint\\tN42 48.873 W70 47.459\\t5/20/2006 2:16:42 PM \\t10 ft\\t\\t30 ft\\t00:00:15\\t1.4 mph\\t75° true\\n',\n",
       " 'Trackpoint\\tN42 48.873 W70 47.451\\t5/20/2006 2:16:57 PM \\t11 ft\\t\\t34 ft\\t00:00:15\\t1.6 mph\\t90° true\\n',\n",
       " 'Trackpoint\\tN42 48.873 W70 47.445\\t5/20/2006 2:17:12 PM \\t11 ft\\t\\t29 ft\\t00:00:15\\t1.3 mph\\t90° true\\n',\n",
       " 'Trackpoint\\tN42 48.873 W70 47.437\\t5/20/2006 2:17:27 PM \\t15 ft\\t\\t34 ft\\t00:00:15\\t1.6 mph\\t90° true\\n',\n",
       " 'Trackpoint\\tN42 48.875 W70 47.431\\t5/20/2006 2:17:42 PM \\t13 ft\\t\\t30 ft\\t00:00:15\\t1.4 mph\\t75° true\\n',\n",
       " 'Trackpoint\\tN42 48.875 W70 47.423\\t5/20/2006 2:17:57 PM \\t10 ft\\t\\t34 ft\\t00:00:15\\t1.6 mph\\t90° true\\n',\n",
       " 'Trackpoint\\tN42 48.875 W70 47.417\\t5/20/2006 2:18:12 PM \\t10 ft\\t\\t29 ft\\t00:00:15\\t1.3 mph\\t90° true\\n',\n",
       " 'Trackpoint\\tN42 48.876 W70 47.409\\t5/20/2006 2:18:27 PM \\t8 ft\\t\\t35 ft\\t00:00:15\\t1.6 mph\\t77° true\\n',\n",
       " 'Trackpoint\\tN42 48.876 W70 47.402\\t5/20/2006 2:18:42 PM \\t10 ft\\t\\t29 ft\\t00:00:15\\t1.3 mph\\t90° true\\n',\n",
       " 'Trackpoint\\tN42 48.876 W70 47.396\\t5/20/2006 2:18:57 PM \\t13 ft\\t\\t29 ft\\t00:00:15\\t1.3 mph\\t90° true\\n',\n",
       " 'Trackpoint\\tN42 48.876 W70 47.391\\t5/20/2006 2:19:12 PM \\t16 ft\\t\\t23 ft\\t00:00:15\\t1.0 mph\\t90° true\\n',\n",
       " 'Trackpoint\\tN42 48.877 W70 47.383\\t5/20/2006 2:19:27 PM \\t16 ft\\t\\t35 ft\\t00:00:15\\t1.6 mph\\t77° true\\n',\n",
       " 'Trackpoint\\tN42 48.877 W70 47.377\\t5/20/2006 2:19:42 PM \\t15 ft\\t\\t29 ft\\t00:00:15\\t1.3 mph\\t90° true\\n',\n",
       " 'Trackpoint\\tN42 48.879 W70 47.370\\t5/20/2006 2:19:57 PM \\t15 ft\\t\\t30 ft\\t00:00:15\\t1.4 mph\\t75° true\\n',\n",
       " 'Trackpoint\\tN42 48.879 W70 47.364\\t5/20/2006 2:20:12 PM \\t16 ft\\t\\t29 ft\\t00:00:15\\t1.3 mph\\t90° true\\n',\n",
       " 'Trackpoint\\tN42 48.879 W70 47.356\\t5/20/2006 2:20:27 PM \\t13 ft\\t\\t34 ft\\t00:00:15\\t1.6 mph\\t90° true\\n',\n",
       " 'Trackpoint\\tN42 48.880 W70 47.350\\t5/20/2006 2:20:42 PM \\t13 ft\\t\\t30 ft\\t00:00:15\\t1.4 mph\\t75° true\\n',\n",
       " 'Trackpoint\\tN42 48.880 W70 47.343\\t5/20/2006 2:20:57 PM \\t11 ft\\t\\t29 ft\\t00:00:15\\t1.3 mph\\t90° true\\n',\n",
       " 'Trackpoint\\tN42 48.880 W70 47.337\\t5/20/2006 2:21:12 PM \\t13 ft\\t\\t29 ft\\t00:00:15\\t1.3 mph\\t90° true\\n',\n",
       " 'Trackpoint\\tN42 48.880 W70 47.330\\t5/20/2006 2:21:27 PM \\t15 ft\\t\\t29 ft\\t00:00:15\\t1.3 mph\\t90° true\\n',\n",
       " 'Trackpoint\\tN42 48.880 W70 47.324\\t5/20/2006 2:21:42 PM \\t15 ft\\t\\t29 ft\\t00:00:15\\t1.3 mph\\t90° true\\n',\n",
       " 'Trackpoint\\tN42 48.881 W70 47.317\\t5/20/2006 2:21:57 PM \\t15 ft\\t\\t30 ft\\t00:00:15\\t1.4 mph\\t75° true\\n',\n",
       " 'Trackpoint\\tN42 48.881 W70 47.311\\t5/20/2006 2:22:12 PM \\t13 ft\\t\\t29 ft\\t00:00:15\\t1.3 mph\\t90° true\\n',\n",
       " 'Trackpoint\\tN42 48.881 W70 47.305\\t5/20/2006 2:22:27 PM \\t15 ft\\t\\t29 ft\\t00:00:15\\t1.3 mph\\t90° true\\n',\n",
       " 'Trackpoint\\tN42 48.881 W70 47.297\\t5/20/2006 2:22:42 PM \\t16 ft\\t\\t34 ft\\t00:00:15\\t1.6 mph\\t90° true\\n',\n",
       " 'Trackpoint\\tN42 48.881 W70 47.290\\t5/20/2006 2:22:57 PM \\t15 ft\\t\\t29 ft\\t00:00:15\\t1.3 mph\\t90° true\\n',\n",
       " 'Trackpoint\\tN42 48.882 W70 47.283\\t5/20/2006 2:23:13 PM \\t13 ft\\t\\t35 ft\\t00:00:16\\t1.5 mph\\t77° true\\n',\n",
       " 'Trackpoint\\tN42 48.882 W70 47.276\\t5/20/2006 2:23:28 PM \\t13 ft\\t\\t29 ft\\t00:00:15\\t1.3 mph\\t90° true\\n',\n",
       " 'Trackpoint\\tN42 48.881 W70 47.270\\t5/20/2006 2:23:43 PM \\t11 ft\\t\\t30 ft\\t00:00:15\\t1.4 mph\\t105° true\\n',\n",
       " 'Trackpoint\\tN42 48.882 W70 47.263\\t5/20/2006 2:23:58 PM \\t11 ft\\t\\t30 ft\\t00:00:15\\t1.4 mph\\t75° true\\n',\n",
       " 'Trackpoint\\tN42 48.888 W70 47.251\\t5/20/2006 2:24:13 PM \\t11 ft\\t\\t65 ft\\t00:00:15\\t3.0 mph\\t61° true\\n',\n",
       " 'Trackpoint\\tN42 48.898 W70 47.244\\t5/20/2006 2:24:28 PM \\t10 ft\\t\\t69 ft\\t00:00:15\\t3.1 mph\\t25° true\\n',\n",
       " 'Trackpoint\\tN42 48.907 W70 47.253\\t5/20/2006 2:24:43 PM \\t11 ft\\t\\t68 ft\\t00:00:15\\t3.1 mph\\t324° true\\n',\n",
       " 'Trackpoint\\tN42 48.908 W70 47.272\\t5/20/2006 2:24:58 PM \\t10 ft\\t\\t87 ft\\t00:00:15\\t3.9 mph\\t275° true\\n',\n",
       " 'Trackpoint\\tN42 48.915 W70 47.294\\t5/20/2006 2:25:13 PM \\t13 ft\\t\\t105 ft\\t00:00:15\\t4.8 mph\\t292° true\\n',\n",
       " 'Trackpoint\\tN42 48.920 W70 47.317\\t5/20/2006 2:25:28 PM \\t15 ft\\t\\t108 ft\\t00:00:15\\t4.9 mph\\t287° true\\n',\n",
       " 'Trackpoint\\tN42 48.922 W70 47.341\\t5/20/2006 2:25:43 PM \\t13 ft\\t\\t105 ft\\t00:00:15\\t4.8 mph\\t279° true\\n',\n",
       " 'Trackpoint\\tN42 48.926 W70 47.364\\t5/20/2006 2:25:58 PM \\t11 ft\\t\\t106 ft\\t00:00:15\\t4.8 mph\\t283° true\\n',\n",
       " 'Trackpoint\\tN42 48.930 W70 47.387\\t5/20/2006 2:26:13 PM \\t15 ft\\t\\t106 ft\\t00:00:15\\t4.8 mph\\t283° true\\n',\n",
       " 'Trackpoint\\tN42 48.934 W70 47.411\\t5/20/2006 2:26:28 PM \\t15 ft\\t\\t112 ft\\t00:00:15\\t5.1 mph\\t282° true\\n',\n",
       " 'Trackpoint\\tN42 48.939 W70 47.435\\t5/20/2006 2:26:43 PM \\t18 ft\\t\\t108 ft\\t00:00:15\\t4.9 mph\\t287° true\\n',\n",
       " 'Trackpoint\\tN42 48.942 W70 47.457\\t5/20/2006 2:26:58 PM \\t16 ft\\t\\t99 ft\\t00:00:15\\t4.5 mph\\t279° true\\n',\n",
       " 'Trackpoint\\tN42 48.942 W70 47.477\\t5/20/2006 2:27:13 PM \\t15 ft\\t\\t92 ft\\t00:00:15\\t4.2 mph\\t270° true\\n',\n",
       " 'Trackpoint\\tN42 48.934 W70 47.487\\t5/20/2006 2:27:28 PM \\t15 ft\\t\\t66 ft\\t00:00:15\\t3.0 mph\\t224° true\\n',\n",
       " 'Trackpoint\\tN42 48.926 W70 47.489\\t5/20/2006 2:27:43 PM \\t16 ft\\t\\t47 ft\\t00:00:15\\t2.2 mph\\t187° true\\n',\n",
       " 'Trackpoint\\tN42 48.922 W70 47.485\\t5/20/2006 2:27:58 PM \\t13 ft\\t\\t29 ft\\t00:00:15\\t1.3 mph\\t144° true\\n',\n",
       " 'Trackpoint\\tN42 48.921 W70 47.478\\t5/20/2006 2:28:13 PM \\t8 ft\\t\\t30 ft\\t00:00:15\\t1.4 mph\\t105° true\\n',\n",
       " 'Trackpoint\\tN42 48.921 W70 47.471\\t5/20/2006 2:28:28 PM \\t7 ft\\t\\t34 ft\\t00:00:15\\t1.6 mph\\t90° true\\n',\n",
       " 'Trackpoint\\tN42 48.920 W70 47.463\\t5/20/2006 2:28:43 PM \\t8 ft\\t\\t35 ft\\t00:00:15\\t1.6 mph\\t103° true\\n',\n",
       " 'Trackpoint\\tN42 48.919 W70 47.457\\t5/20/2006 2:28:58 PM \\t7 ft\\t\\t30 ft\\t00:00:15\\t1.4 mph\\t105° true\\n',\n",
       " 'Trackpoint\\tN42 48.917 W70 47.449\\t5/20/2006 2:29:13 PM \\t7 ft\\t\\t35 ft\\t00:00:15\\t1.6 mph\\t103° true\\n',\n",
       " 'Trackpoint\\tN42 48.916 W70 47.441\\t5/20/2006 2:29:28 PM \\t8 ft\\t\\t35 ft\\t00:00:15\\t1.6 mph\\t103° true\\n',\n",
       " 'Trackpoint\\tN42 48.915 W70 47.433\\t5/20/2006 2:29:43 PM \\t7 ft\\t\\t35 ft\\t00:00:15\\t1.6 mph\\t103° true\\n',\n",
       " 'Trackpoint\\tN42 48.913 W70 47.426\\t5/20/2006 2:29:58 PM \\t8 ft\\t\\t35 ft\\t00:00:15\\t1.6 mph\\t103° true\\n',\n",
       " 'Trackpoint\\tN42 48.912 W70 47.417\\t5/20/2006 2:30:13 PM \\t8 ft\\t\\t41 ft\\t00:00:15\\t1.9 mph\\t101° true\\n',\n",
       " 'Trackpoint\\tN42 48.911 W70 47.409\\t5/20/2006 2:30:28 PM \\t7 ft\\t\\t35 ft\\t00:00:15\\t1.6 mph\\t103° true\\n',\n",
       " 'Trackpoint\\tN42 48.910 W70 47.401\\t5/20/2006 2:30:43 PM \\t11 ft\\t\\t35 ft\\t00:00:15\\t1.6 mph\\t103° true\\n',\n",
       " 'Trackpoint\\tN42 48.908 W70 47.392\\t5/20/2006 2:30:58 PM \\t8 ft\\t\\t41 ft\\t00:00:15\\t1.9 mph\\t101° true\\n',\n",
       " 'Trackpoint\\tN42 48.906 W70 47.386\\t5/20/2006 2:31:13 PM \\t10 ft\\t\\t33 ft\\t00:00:15\\t1.5 mph\\t119° true\\n',\n",
       " 'Trackpoint\\tN42 48.904 W70 47.377\\t5/20/2006 2:31:28 PM \\t8 ft\\t\\t41 ft\\t00:00:15\\t1.9 mph\\t101° true\\n',\n",
       " 'Trackpoint\\tN42 48.902 W70 47.369\\t5/20/2006 2:31:43 PM \\t8 ft\\t\\t38 ft\\t00:00:15\\t1.7 mph\\t114° true\\n',\n",
       " 'Trackpoint\\tN42 48.900 W70 47.361\\t5/20/2006 2:31:58 PM \\t7 ft\\t\\t35 ft\\t00:00:15\\t1.6 mph\\t103° true\\n',\n",
       " 'Trackpoint\\tN42 48.899 W70 47.352\\t5/20/2006 2:32:13 PM \\t7 ft\\t\\t41 ft\\t00:00:15\\t1.9 mph\\t101° true\\n',\n",
       " 'Trackpoint\\tN42 48.897 W70 47.344\\t5/20/2006 2:32:28 PM \\t7 ft\\t\\t38 ft\\t00:00:15\\t1.7 mph\\t114° true\\n',\n",
       " 'Trackpoint\\tN42 48.895 W70 47.335\\t5/20/2006 2:32:43 PM \\t5 ft\\t\\t41 ft\\t00:00:15\\t1.9 mph\\t101° true\\n',\n",
       " 'Trackpoint\\tN42 48.894 W70 47.328\\t5/20/2006 2:32:58 PM \\t5 ft\\t\\t35 ft\\t00:00:15\\t1.6 mph\\t103° true\\n',\n",
       " 'Trackpoint\\tN42 48.893 W70 47.320\\t5/20/2006 2:33:13 PM \\t5 ft\\t\\t35 ft\\t00:00:15\\t1.6 mph\\t103° true\\n',\n",
       " 'Trackpoint\\tN42 48.890 W70 47.312\\t5/20/2006 2:33:28 PM \\t7 ft\\t\\t38 ft\\t00:00:15\\t1.7 mph\\t114° true\\n',\n",
       " 'Trackpoint\\tN42 48.890 W70 47.306\\t5/20/2006 2:33:43 PM \\t8 ft\\t\\t29 ft\\t00:00:15\\t1.3 mph\\t90° true\\n',\n",
       " 'Trackpoint\\tN42 48.889 W70 47.297\\t5/20/2006 2:33:58 PM \\t7 ft\\t\\t41 ft\\t00:00:15\\t1.9 mph\\t101° true\\n',\n",
       " 'Trackpoint\\tN42 48.888 W70 47.290\\t5/20/2006 2:34:13 PM \\t7 ft\\t\\t30 ft\\t00:00:15\\t1.4 mph\\t105° true\\n',\n",
       " 'Trackpoint\\tN42 48.886 W70 47.283\\t5/20/2006 2:34:28 PM \\t5 ft\\t\\t35 ft\\t00:00:15\\t1.6 mph\\t103° true\\n',\n",
       " 'Trackpoint\\tN42 48.885 W70 47.275\\t5/20/2006 2:34:43 PM \\t7 ft\\t\\t35 ft\\t00:00:15\\t1.6 mph\\t103° true\\n',\n",
       " 'Trackpoint\\tN42 48.884 W70 47.267\\t5/20/2006 2:34:58 PM \\t7 ft\\t\\t35 ft\\t00:00:15\\t1.6 mph\\t103° true\\n',\n",
       " 'Trackpoint\\tN42 48.882 W70 47.260\\t5/20/2006 2:35:13 PM \\t5 ft\\t\\t35 ft\\t00:00:15\\t1.6 mph\\t103° true\\n',\n",
       " 'Trackpoint\\tN42 48.881 W70 47.252\\t5/20/2006 2:35:28 PM \\t7 ft\\t\\t35 ft\\t00:00:15\\t1.6 mph\\t103° true\\n',\n",
       " 'Trackpoint\\tN42 48.880 W70 47.244\\t5/20/2006 2:35:43 PM \\t5 ft\\t\\t35 ft\\t00:00:15\\t1.6 mph\\t103° true\\n',\n",
       " 'Trackpoint\\tN42 48.879 W70 47.236\\t5/20/2006 2:35:58 PM \\t5 ft\\t\\t35 ft\\t00:00:15\\t1.6 mph\\t103° true\\n',\n",
       " 'Trackpoint\\tN42 48.879 W70 47.227\\t5/20/2006 2:36:13 PM \\t4 ft\\t\\t40 ft\\t00:00:15\\t1.8 mph\\t90° true\\n',\n",
       " 'Trackpoint\\tN42 48.877 W70 47.220\\t5/20/2006 2:36:28 PM \\t7 ft\\t\\t35 ft\\t00:00:15\\t1.6 mph\\t103° true\\n',\n",
       " 'Trackpoint\\tN42 48.876 W70 47.212\\t5/20/2006 2:36:43 PM \\t7 ft\\t\\t35 ft\\t00:00:15\\t1.6 mph\\t103° true\\n',\n",
       " 'Trackpoint\\tN42 48.875 W70 47.205\\t5/20/2006 2:36:58 PM \\t5 ft\\t\\t30 ft\\t00:00:15\\t1.4 mph\\t105° true\\n',\n",
       " 'Trackpoint\\tN42 48.873 W70 47.199\\t5/20/2006 2:37:13 PM \\t4 ft\\t\\t30 ft\\t00:00:15\\t1.4 mph\\t105° true\\n',\n",
       " 'Trackpoint\\tN42 48.872 W70 47.191\\t5/20/2006 2:37:28 PM \\t5 ft\\t\\t35 ft\\t00:00:15\\t1.6 mph\\t103° true\\n',\n",
       " 'Trackpoint\\tN42 48.871 W70 47.185\\t5/20/2006 2:37:43 PM \\t4 ft\\t\\t30 ft\\t00:00:15\\t1.4 mph\\t105° true\\n',\n",
       " 'Trackpoint\\tN42 48.870 W70 47.177\\t5/20/2006 2:37:58 PM \\t7 ft\\t\\t35 ft\\t00:00:15\\t1.6 mph\\t103° true\\n',\n",
       " 'Trackpoint\\tN42 48.867 W70 47.169\\t5/20/2006 2:38:13 PM \\t7 ft\\t\\t38 ft\\t00:00:15\\t1.7 mph\\t114° true\\n',\n",
       " 'Trackpoint\\tN42 48.866 W70 47.163\\t5/20/2006 2:38:28 PM \\t7 ft\\t\\t30 ft\\t00:00:15\\t1.4 mph\\t105° true\\n',\n",
       " 'Trackpoint\\tN42 48.864 W70 47.155\\t5/20/2006 2:38:43 PM \\t5 ft\\t\\t35 ft\\t00:00:15\\t1.6 mph\\t103° true\\n',\n",
       " 'Trackpoint\\tN42 48.863 W70 47.148\\t5/20/2006 2:38:58 PM \\t7 ft\\t\\t35 ft\\t00:00:15\\t1.6 mph\\t103° true\\n',\n",
       " 'Trackpoint\\tN42 48.862 W70 47.140\\t5/20/2006 2:39:14 PM \\t7 ft\\t\\t35 ft\\t00:00:16\\t1.5 mph\\t103° true\\n',\n",
       " 'Trackpoint\\tN42 48.861 W70 47.133\\t5/20/2006 2:39:29 PM \\t8 ft\\t\\t30 ft\\t00:00:15\\t1.4 mph\\t105° true\\n',\n",
       " 'Trackpoint\\tN42 48.859 W70 47.126\\t5/20/2006 2:39:44 PM \\t8 ft\\t\\t35 ft\\t00:00:15\\t1.6 mph\\t103° true\\n',\n",
       " 'Trackpoint\\tN42 48.858 W70 47.118\\t5/20/2006 2:39:59 PM \\t8 ft\\t\\t35 ft\\t00:00:15\\t1.6 mph\\t103° true\\n',\n",
       " 'Trackpoint\\tN42 48.857 W70 47.110\\t5/20/2006 2:40:14 PM \\t10 ft\\t\\t35 ft\\t00:00:15\\t1.6 mph\\t103° true\\n',\n",
       " 'Trackpoint\\tN42 48.855 W70 47.102\\t5/20/2006 2:40:29 PM \\t7 ft\\t\\t35 ft\\t00:00:15\\t1.6 mph\\t103° true\\n',\n",
       " 'Trackpoint\\tN42 48.854 W70 47.096\\t5/20/2006 2:40:44 PM \\t5 ft\\t\\t30 ft\\t00:00:15\\t1.4 mph\\t105° true\\n',\n",
       " 'Trackpoint\\tN42 48.853 W70 47.087\\t5/20/2006 2:40:59 PM \\t8 ft\\t\\t41 ft\\t00:00:15\\t1.9 mph\\t101° true\\n',\n",
       " 'Trackpoint\\tN42 48.852 W70 47.081\\t5/20/2006 2:41:14 PM \\t7 ft\\t\\t30 ft\\t00:00:15\\t1.4 mph\\t105° true\\n',\n",
       " 'Trackpoint\\tN42 48.850 W70 47.073\\t5/20/2006 2:41:29 PM \\t8 ft\\t\\t35 ft\\t00:00:15\\t1.6 mph\\t103° true\\n',\n",
       " 'Trackpoint\\tN42 48.849 W70 47.065\\t5/20/2006 2:41:44 PM \\t5 ft\\t\\t35 ft\\t00:00:15\\t1.6 mph\\t103° true\\n',\n",
       " 'Trackpoint\\tN42 48.848 W70 47.057\\t5/20/2006 2:41:59 PM \\t8 ft\\t\\t35 ft\\t00:00:15\\t1.6 mph\\t103° true\\n',\n",
       " 'Trackpoint\\tN42 48.846 W70 47.048\\t5/20/2006 2:42:15 PM \\t7 ft\\t\\t41 ft\\t00:00:16\\t1.7 mph\\t101° true\\n',\n",
       " 'Trackpoint\\tN42 48.845 W70 47.041\\t5/20/2006 2:42:30 PM \\t7 ft\\t\\t35 ft\\t00:00:15\\t1.6 mph\\t103° true\\n',\n",
       " 'Trackpoint\\tN42 48.844 W70 47.034\\t5/20/2006 2:42:45 PM \\t8 ft\\t\\t30 ft\\t00:00:15\\t1.4 mph\\t105° true\\n',\n",
       " 'Trackpoint\\tN42 48.843 W70 47.026\\t5/20/2006 2:43:00 PM \\t7 ft\\t\\t35 ft\\t00:00:15\\t1.6 mph\\t103° true\\n',\n",
       " 'Trackpoint\\tN42 48.840 W70 47.019\\t5/20/2006 2:43:15 PM \\t8 ft\\t\\t38 ft\\t00:00:15\\t1.7 mph\\t114° true\\n',\n",
       " 'Trackpoint\\tN42 48.839 W70 47.011\\t5/20/2006 2:43:30 PM \\t8 ft\\t\\t35 ft\\t00:00:15\\t1.6 mph\\t103° true\\n',\n",
       " 'Trackpoint\\tN42 48.837 W70 47.003\\t5/20/2006 2:43:45 PM \\t10 ft\\t\\t35 ft\\t00:00:15\\t1.6 mph\\t103° true\\n',\n",
       " 'Trackpoint\\tN42 48.835 W70 46.996\\t5/20/2006 2:44:00 PM \\t8 ft\\t\\t38 ft\\t00:00:15\\t1.7 mph\\t114° true\\n',\n",
       " 'Trackpoint\\tN42 48.834 W70 46.987\\t5/20/2006 2:44:15 PM \\t10 ft\\t\\t41 ft\\t00:00:15\\t1.9 mph\\t101° true\\n',\n",
       " 'Trackpoint\\tN42 48.832 W70 46.980\\t5/20/2006 2:44:30 PM \\t11 ft\\t\\t30 ft\\t00:00:15\\t1.4 mph\\t105° true\\n',\n",
       " 'Trackpoint\\tN42 48.831 W70 46.972\\t5/20/2006 2:44:45 PM \\t10 ft\\t\\t35 ft\\t00:00:15\\t1.6 mph\\t103° true\\n',\n",
       " 'Trackpoint\\tN42 48.830 W70 46.965\\t5/20/2006 2:45:00 PM \\t8 ft\\t\\t35 ft\\t00:00:15\\t1.6 mph\\t103° true\\n',\n",
       " 'Trackpoint\\tN42 48.828 W70 46.958\\t5/20/2006 2:45:15 PM \\t7 ft\\t\\t30 ft\\t00:00:15\\t1.4 mph\\t105° true\\n',\n",
       " 'Trackpoint\\tN42 48.827 W70 46.952\\t5/20/2006 2:45:30 PM \\t10 ft\\t\\t30 ft\\t00:00:15\\t1.4 mph\\t105° true\\n',\n",
       " 'Trackpoint\\tN42 48.826 W70 46.945\\t5/20/2006 2:45:45 PM \\t10 ft\\t\\t30 ft\\t00:00:15\\t1.4 mph\\t105° true\\n',\n",
       " 'Trackpoint\\tN42 48.825 W70 46.939\\t5/20/2006 2:46:00 PM \\t8 ft\\t\\t30 ft\\t00:00:15\\t1.4 mph\\t105° true\\n',\n",
       " 'Trackpoint\\tN42 48.823 W70 46.934\\t5/20/2006 2:46:15 PM \\t5 ft\\t\\t24 ft\\t00:00:15\\t1.1 mph\\t109° true\\n',\n",
       " 'Trackpoint\\tN42 48.822 W70 46.929\\t5/20/2006 2:46:30 PM \\t8 ft\\t\\t24 ft\\t00:00:15\\t1.1 mph\\t109° true\\n',\n",
       " 'Trackpoint\\tN42 48.822 W70 46.922\\t5/20/2006 2:46:45 PM \\t8 ft\\t\\t29 ft\\t00:00:15\\t1.3 mph\\t90° true\\n',\n",
       " 'Trackpoint\\tN42 48.821 W70 46.916\\t5/20/2006 2:47:00 PM \\t8 ft\\t\\t30 ft\\t00:00:15\\t1.4 mph\\t105° true\\n',\n",
       " 'Trackpoint\\tN42 48.819 W70 46.911\\t5/20/2006 2:47:15 PM \\t8 ft\\t\\t24 ft\\t00:00:15\\t1.1 mph\\t109° true\\n',\n",
       " 'Trackpoint\\tN42 48.818 W70 46.904\\t5/20/2006 2:47:30 PM \\t8 ft\\t\\t30 ft\\t00:00:15\\t1.4 mph\\t105° true\\n',\n",
       " 'Trackpoint\\tN42 48.817 W70 46.898\\t5/20/2006 2:47:45 PM \\t8 ft\\t\\t30 ft\\t00:00:15\\t1.4 mph\\t105° true\\n',\n",
       " 'Trackpoint\\tN42 48.816 W70 46.891\\t5/20/2006 2:48:00 PM \\t10 ft\\t\\t30 ft\\t00:00:15\\t1.4 mph\\t105° true\\n',\n",
       " 'Trackpoint\\tN42 48.814 W70 46.885\\t5/20/2006 2:48:15 PM \\t11 ft\\t\\t30 ft\\t00:00:15\\t1.4 mph\\t105° true\\n',\n",
       " 'Trackpoint\\tN42 48.812 W70 46.878\\t5/20/2006 2:48:30 PM \\t11 ft\\t\\t33 ft\\t00:00:15\\t1.5 mph\\t119° true\\n',\n",
       " 'Trackpoint\\tN42 48.810 W70 46.872\\t5/20/2006 2:48:45 PM \\t13 ft\\t\\t30 ft\\t00:00:15\\t1.4 mph\\t105° true\\n',\n",
       " 'Trackpoint\\tN42 48.809 W70 46.866\\t5/20/2006 2:49:00 PM \\t13 ft\\t\\t30 ft\\t00:00:15\\t1.4 mph\\t105° true\\n',\n",
       " 'Trackpoint\\tN42 48.808 W70 46.859\\t5/20/2006 2:49:15 PM \\t13 ft\\t\\t30 ft\\t00:00:15\\t1.4 mph\\t105° true\\n',\n",
       " 'Trackpoint\\tN42 48.805 W70 46.854\\t5/20/2006 2:49:30 PM \\t11 ft\\t\\t28 ft\\t00:00:15\\t1.3 mph\\t124° true\\n',\n",
       " 'Trackpoint\\tN42 48.804 W70 46.848\\t5/20/2006 2:49:45 PM \\t10 ft\\t\\t30 ft\\t00:00:15\\t1.4 mph\\t105° true\\n',\n",
       " 'Trackpoint\\tN42 48.803 W70 46.840\\t5/20/2006 2:50:00 PM \\t8 ft\\t\\t35 ft\\t00:00:15\\t1.6 mph\\t103° true\\n',\n",
       " 'Trackpoint\\tN42 48.801 W70 46.833\\t5/20/2006 2:50:15 PM \\t8 ft\\t\\t30 ft\\t00:00:15\\t1.4 mph\\t105° true\\n',\n",
       " 'Trackpoint\\tN42 48.800 W70 46.827\\t5/20/2006 2:50:30 PM \\t10 ft\\t\\t30 ft\\t00:00:15\\t1.4 mph\\t105° true\\n',\n",
       " 'Trackpoint\\tN42 48.799 W70 46.820\\t5/20/2006 2:50:45 PM \\t10 ft\\t\\t30 ft\\t00:00:15\\t1.4 mph\\t105° true\\n',\n",
       " 'Trackpoint\\tN42 48.797 W70 46.814\\t5/20/2006 2:51:00 PM \\t10 ft\\t\\t30 ft\\t00:00:15\\t1.4 mph\\t105° true\\n',\n",
       " 'Trackpoint\\tN42 48.796 W70 46.808\\t5/20/2006 2:51:15 PM \\t8 ft\\t\\t30 ft\\t00:00:15\\t1.4 mph\\t105° true\\n',\n",
       " 'Trackpoint\\tN42 48.794 W70 46.801\\t5/20/2006 2:51:30 PM \\t8 ft\\t\\t33 ft\\t00:00:15\\t1.5 mph\\t119° true\\n',\n",
       " 'Trackpoint\\tN42 48.792 W70 46.795\\t5/20/2006 2:51:45 PM \\t7 ft\\t\\t30 ft\\t00:00:15\\t1.4 mph\\t105° true\\n',\n",
       " 'Trackpoint\\tN42 48.791 W70 46.790\\t5/20/2006 2:52:00 PM \\t8 ft\\t\\t24 ft\\t00:00:15\\t1.1 mph\\t109° true\\n',\n",
       " 'Trackpoint\\tN42 48.790 W70 46.783\\t5/20/2006 2:52:15 PM \\t8 ft\\t\\t30 ft\\t00:00:15\\t1.4 mph\\t105° true\\n',\n",
       " 'Trackpoint\\tN42 48.790 W70 46.778\\t5/20/2006 2:52:30 PM \\t7 ft\\t\\t23 ft\\t00:00:15\\t1.0 mph\\t90° true\\n',\n",
       " 'Trackpoint\\tN42 48.788 W70 46.772\\t5/20/2006 2:52:45 PM \\t8 ft\\t\\t30 ft\\t00:00:15\\t1.4 mph\\t105° true\\n',\n",
       " 'Trackpoint\\tN42 48.786 W70 46.765\\t5/20/2006 2:53:01 PM \\t10 ft\\t\\t33 ft\\t00:00:16\\t1.4 mph\\t119° true\\n',\n",
       " 'Trackpoint\\tN42 48.786 W70 46.759\\t5/20/2006 2:53:16 PM \\t10 ft\\t\\t29 ft\\t00:00:15\\t1.3 mph\\t90° true\\n',\n",
       " 'Trackpoint\\tN42 48.785 W70 46.754\\t5/20/2006 2:53:31 PM \\t10 ft\\t\\t24 ft\\t00:00:15\\t1.1 mph\\t109° true\\n',\n",
       " 'Trackpoint\\tN42 48.783 W70 46.747\\t5/20/2006 2:53:46 PM \\t10 ft\\t\\t30 ft\\t00:00:15\\t1.4 mph\\t105° true\\n',\n",
       " 'Trackpoint\\tN42 48.782 W70 46.742\\t5/20/2006 2:54:01 PM \\t11 ft\\t\\t24 ft\\t00:00:15\\t1.1 mph\\t109° true\\n',\n",
       " 'Trackpoint\\tN42 48.781 W70 46.736\\t5/20/2006 2:54:16 PM \\t11 ft\\t\\t30 ft\\t00:00:15\\t1.4 mph\\t105° true\\n',\n",
       " 'Trackpoint\\tN42 48.779 W70 46.730\\t5/20/2006 2:54:31 PM \\t11 ft\\t\\t24 ft\\t00:00:15\\t1.1 mph\\t109° true\\n',\n",
       " 'Trackpoint\\tN42 48.779 W70 46.724\\t5/20/2006 2:54:46 PM \\t11 ft\\t\\t29 ft\\t00:00:15\\t1.3 mph\\t90° true\\n',\n",
       " 'Trackpoint\\tN42 48.778 W70 46.719\\t5/20/2006 2:55:01 PM \\t11 ft\\t\\t24 ft\\t00:00:15\\t1.1 mph\\t109° true\\n',\n",
       " 'Trackpoint\\tN42 48.776 W70 46.712\\t5/20/2006 2:55:16 PM \\t11 ft\\t\\t33 ft\\t00:00:15\\t1.5 mph\\t119° true\\n',\n",
       " 'Trackpoint\\tN42 48.774 W70 46.706\\t5/20/2006 2:55:31 PM \\t13 ft\\t\\t30 ft\\t00:00:15\\t1.4 mph\\t105° true\\n',\n",
       " 'Trackpoint\\tN42 48.773 W70 46.699\\t5/20/2006 2:55:46 PM \\t11 ft\\t\\t30 ft\\t00:00:15\\t1.4 mph\\t105° true\\n',\n",
       " 'Trackpoint\\tN42 48.772 W70 46.693\\t5/20/2006 2:56:01 PM \\t11 ft\\t\\t30 ft\\t00:00:15\\t1.4 mph\\t105° true\\n',\n",
       " 'Trackpoint\\tN42 48.770 W70 46.687\\t5/20/2006 2:56:16 PM \\t10 ft\\t\\t30 ft\\t00:00:15\\t1.4 mph\\t105° true\\n',\n",
       " 'Trackpoint\\tN42 48.769 W70 46.681\\t5/20/2006 2:56:31 PM \\t11 ft\\t\\t24 ft\\t00:00:15\\t1.1 mph\\t109° true\\n',\n",
       " 'Trackpoint\\tN42 48.768 W70 46.675\\t5/20/2006 2:56:46 PM \\t10 ft\\t\\t30 ft\\t00:00:15\\t1.4 mph\\t105° true\\n',\n",
       " 'Trackpoint\\tN42 48.767 W70 46.669\\t5/20/2006 2:57:01 PM \\t13 ft\\t\\t30 ft\\t00:00:15\\t1.4 mph\\t105° true\\n',\n",
       " 'Trackpoint\\tN42 48.765 W70 46.662\\t5/20/2006 2:57:16 PM \\t10 ft\\t\\t30 ft\\t00:00:15\\t1.4 mph\\t105° true\\n',\n",
       " 'Trackpoint\\tN42 48.764 W70 46.656\\t5/20/2006 2:57:31 PM \\t11 ft\\t\\t30 ft\\t00:00:15\\t1.4 mph\\t105° true\\n',\n",
       " 'Trackpoint\\tN42 48.763 W70 46.651\\t5/20/2006 2:57:46 PM \\t10 ft\\t\\t24 ft\\t00:00:15\\t1.1 mph\\t109° true\\n',\n",
       " 'Trackpoint\\tN42 48.760 W70 46.644\\t5/20/2006 2:58:01 PM \\t13 ft\\t\\t33 ft\\t00:00:15\\t1.5 mph\\t119° true\\n',\n",
       " 'Trackpoint\\tN42 48.759 W70 46.639\\t5/20/2006 2:58:16 PM \\t13 ft\\t\\t24 ft\\t00:00:15\\t1.1 mph\\t109° true\\n',\n",
       " 'Trackpoint\\tN42 48.758 W70 46.633\\t5/20/2006 2:58:31 PM \\t13 ft\\t\\t30 ft\\t00:00:15\\t1.4 mph\\t105° true\\n',\n",
       " 'Trackpoint\\tN42 48.756 W70 46.627\\t5/20/2006 2:58:46 PM \\t11 ft\\t\\t24 ft\\t00:00:15\\t1.1 mph\\t109° true\\n',\n",
       " 'Trackpoint\\tN42 48.755 W70 46.621\\t5/20/2006 2:59:01 PM \\t10 ft\\t\\t30 ft\\t00:00:15\\t1.4 mph\\t105° true\\n',\n",
       " 'Trackpoint\\tN42 48.754 W70 46.616\\t5/20/2006 2:59:16 PM \\t8 ft\\t\\t24 ft\\t00:00:15\\t1.1 mph\\t109° true\\n',\n",
       " 'Trackpoint\\tN42 48.752 W70 46.609\\t5/20/2006 2:59:31 PM \\t11 ft\\t\\t30 ft\\t00:00:15\\t1.4 mph\\t105° true\\n',\n",
       " 'Trackpoint\\tN42 48.751 W70 46.603\\t5/20/2006 2:59:46 PM \\t8 ft\\t\\t30 ft\\t00:00:15\\t1.4 mph\\t105° true\\n',\n",
       " 'Trackpoint\\tN42 48.749 W70 46.598\\t5/20/2006 3:00:01 PM \\t8 ft\\t\\t28 ft\\t00:00:15\\t1.3 mph\\t124° true\\n',\n",
       " 'Trackpoint\\tN42 48.747 W70 46.591\\t5/20/2006 3:00:16 PM \\t10 ft\\t\\t30 ft\\t00:00:15\\t1.4 mph\\t105° true\\n',\n",
       " 'Trackpoint\\tN42 48.746 W70 46.586\\t5/20/2006 3:00:31 PM \\t10 ft\\t\\t24 ft\\t00:00:15\\t1.1 mph\\t109° true\\n',\n",
       " 'Trackpoint\\tN42 48.745 W70 46.580\\t5/20/2006 3:00:46 PM \\t8 ft\\t\\t30 ft\\t00:00:15\\t1.4 mph\\t105° true\\n',\n",
       " 'Trackpoint\\tN42 48.743 W70 46.575\\t5/20/2006 3:01:01 PM \\t10 ft\\t\\t24 ft\\t00:00:15\\t1.1 mph\\t109° true\\n',\n",
       " 'Trackpoint\\tN42 48.742 W70 46.568\\t5/20/2006 3:01:16 PM \\t10 ft\\t\\t30 ft\\t00:00:15\\t1.4 mph\\t105° true\\n',\n",
       " 'Trackpoint\\tN42 48.742 W70 46.563\\t5/20/2006 3:01:31 PM \\t8 ft\\t\\t23 ft\\t00:00:15\\t1.0 mph\\t90° true\\n',\n",
       " 'Trackpoint\\tN42 48.740 W70 46.557\\t5/20/2006 3:01:46 PM \\t8 ft\\t\\t33 ft\\t00:00:15\\t1.5 mph\\t119° true\\n',\n",
       " 'Trackpoint\\tN42 48.738 W70 46.550\\t5/20/2006 3:02:01 PM \\t10 ft\\t\\t30 ft\\t00:00:15\\t1.4 mph\\t105° true\\n',\n",
       " 'Trackpoint\\tN42 48.737 W70 46.544\\t5/20/2006 3:02:16 PM \\t10 ft\\t\\t30 ft\\t00:00:15\\t1.4 mph\\t105° true\\n',\n",
       " 'Trackpoint\\tN42 48.736 W70 46.539\\t5/20/2006 3:02:31 PM \\t8 ft\\t\\t24 ft\\t00:00:15\\t1.1 mph\\t109° true\\n',\n",
       " 'Trackpoint\\tN42 48.734 W70 46.533\\t5/20/2006 3:02:46 PM \\t8 ft\\t\\t24 ft\\t00:00:15\\t1.1 mph\\t109° true\\n',\n",
       " 'Trackpoint\\tN42 48.733 W70 46.528\\t5/20/2006 3:03:01 PM \\t11 ft\\t\\t24 ft\\t00:00:15\\t1.1 mph\\t109° true\\n',\n",
       " 'Trackpoint\\tN42 48.732 W70 46.523\\t5/20/2006 3:03:16 PM \\t11 ft\\t\\t24 ft\\t00:00:15\\t1.1 mph\\t109° true\\n',\n",
       " 'Trackpoint\\tN42 48.731 W70 46.517\\t5/20/2006 3:03:31 PM \\t11 ft\\t\\t30 ft\\t00:00:15\\t1.4 mph\\t105° true\\n',\n",
       " 'Trackpoint\\tN42 48.729 W70 46.512\\t5/20/2006 3:03:46 PM \\t10 ft\\t\\t24 ft\\t00:00:15\\t1.1 mph\\t109° true\\n',\n",
       " 'Trackpoint\\tN42 48.728 W70 46.505\\t5/20/2006 3:04:01 PM \\t8 ft\\t\\t30 ft\\t00:00:15\\t1.4 mph\\t105° true\\n',\n",
       " 'Trackpoint\\tN42 48.727 W70 46.500\\t5/20/2006 3:04:16 PM \\t8 ft\\t\\t24 ft\\t00:00:15\\t1.1 mph\\t109° true\\n',\n",
       " 'Trackpoint\\tN42 48.724 W70 46.493\\t5/20/2006 3:04:31 PM \\t7 ft\\t\\t33 ft\\t00:00:15\\t1.5 mph\\t119° true\\n',\n",
       " 'Trackpoint\\tN42 48.723 W70 46.487\\t5/20/2006 3:04:46 PM \\t7 ft\\t\\t30 ft\\t00:00:15\\t1.4 mph\\t105° true\\n',\n",
       " 'Trackpoint\\tN42 48.722 W70 46.481\\t5/20/2006 3:05:01 PM \\t5 ft\\t\\t30 ft\\t00:00:15\\t1.4 mph\\t105° true\\n',\n",
       " 'Trackpoint\\tN42 48.720 W70 46.475\\t5/20/2006 3:05:16 PM \\t8 ft\\t\\t24 ft\\t00:00:15\\t1.1 mph\\t109° true\\n',\n",
       " 'Trackpoint\\tN42 48.719 W70 46.469\\t5/20/2006 3:05:31 PM \\t10 ft\\t\\t30 ft\\t00:00:15\\t1.4 mph\\t105° true\\n',\n",
       " 'Trackpoint\\tN42 48.718 W70 46.464\\t5/20/2006 3:05:46 PM \\t10 ft\\t\\t24 ft\\t00:00:15\\t1.1 mph\\t109° true\\n',\n",
       " 'Trackpoint\\tN42 48.716 W70 46.457\\t5/20/2006 3:06:01 PM \\t11 ft\\t\\t30 ft\\t00:00:15\\t1.4 mph\\t105° true\\n',\n",
       " 'Trackpoint\\tN42 48.715 W70 46.451\\t5/20/2006 3:06:16 PM \\t11 ft\\t\\t30 ft\\t00:00:15\\t1.4 mph\\t105° true\\n',\n",
       " 'Trackpoint\\tN42 48.714 W70 46.446\\t5/20/2006 3:06:31 PM \\t10 ft\\t\\t24 ft\\t00:00:15\\t1.1 mph\\t109° true\\n',\n",
       " 'Trackpoint\\tN42 48.713 W70 46.439\\t5/20/2006 3:06:46 PM \\t10 ft\\t\\t30 ft\\t00:00:15\\t1.4 mph\\t105° true\\n',\n",
       " 'Trackpoint\\tN42 48.711 W70 46.434\\t5/20/2006 3:07:01 PM \\t10 ft\\t\\t24 ft\\t00:00:15\\t1.1 mph\\t109° true\\n',\n",
       " 'Trackpoint\\tN42 48.709 W70 46.428\\t5/20/2006 3:07:16 PM \\t11 ft\\t\\t33 ft\\t00:00:15\\t1.5 mph\\t119° true\\n',\n",
       " 'Trackpoint\\tN42 48.707 W70 46.423\\t5/20/2006 3:07:31 PM \\t11 ft\\t\\t24 ft\\t00:00:15\\t1.1 mph\\t109° true\\n',\n",
       " 'Trackpoint\\tN42 48.706 W70 46.416\\t5/20/2006 3:07:46 PM \\t11 ft\\t\\t30 ft\\t00:00:15\\t1.4 mph\\t105° true\\n',\n",
       " 'Trackpoint\\tN42 48.705 W70 46.410\\t5/20/2006 3:08:01 PM \\t11 ft\\t\\t30 ft\\t00:00:15\\t1.4 mph\\t105° true\\n',\n",
       " 'Trackpoint\\tN42 48.704 W70 46.405\\t5/20/2006 3:08:16 PM \\t10 ft\\t\\t24 ft\\t00:00:15\\t1.1 mph\\t109° true\\n',\n",
       " 'Trackpoint\\tN42 48.701 W70 46.398\\t5/20/2006 3:08:31 PM \\t10 ft\\t\\t33 ft\\t00:00:15\\t1.5 mph\\t119° true\\n',\n",
       " 'Trackpoint\\tN42 48.700 W70 46.392\\t5/20/2006 3:08:46 PM \\t8 ft\\t\\t30 ft\\t00:00:15\\t1.4 mph\\t105° true\\n',\n",
       " 'Trackpoint\\tN42 48.698 W70 46.387\\t5/20/2006 3:09:01 PM \\t8 ft\\t\\t24 ft\\t00:00:15\\t1.1 mph\\t109° true\\n',\n",
       " 'Trackpoint\\tN42 48.697 W70 46.380\\t5/20/2006 3:09:16 PM \\t8 ft\\t\\t30 ft\\t00:00:15\\t1.4 mph\\t105° true\\n',\n",
       " 'Trackpoint\\tN42 48.696 W70 46.375\\t5/20/2006 3:09:31 PM \\t7 ft\\t\\t24 ft\\t00:00:15\\t1.1 mph\\t109° true\\n',\n",
       " 'Trackpoint\\tN42 48.694 W70 46.370\\t5/20/2006 3:09:46 PM \\t7 ft\\t\\t24 ft\\t00:00:15\\t1.1 mph\\t109° true\\n',\n",
       " 'Trackpoint\\tN42 48.693 W70 46.363\\t5/20/2006 3:10:01 PM \\t7 ft\\t\\t30 ft\\t00:00:15\\t1.4 mph\\t105° true\\n',\n",
       " 'Trackpoint\\tN42 48.692 W70 46.358\\t5/20/2006 3:10:16 PM \\t7 ft\\t\\t24 ft\\t00:00:15\\t1.1 mph\\t109° true\\n',\n",
       " 'Trackpoint\\tN42 48.691 W70 46.352\\t5/20/2006 3:10:31 PM \\t8 ft\\t\\t30 ft\\t00:00:15\\t1.4 mph\\t105° true\\n',\n",
       " 'Trackpoint\\tN42 48.688 W70 46.345\\t5/20/2006 3:10:46 PM \\t8 ft\\t\\t33 ft\\t00:00:15\\t1.5 mph\\t119° true\\n',\n",
       " 'Trackpoint\\tN42 48.687 W70 46.340\\t5/20/2006 3:11:01 PM \\t10 ft\\t\\t24 ft\\t00:00:15\\t1.1 mph\\t109° true\\n',\n",
       " 'Trackpoint\\tN42 48.685 W70 46.335\\t5/20/2006 3:11:16 PM \\t7 ft\\t\\t24 ft\\t00:00:15\\t1.1 mph\\t109° true\\n',\n",
       " 'Trackpoint\\tN42 48.684 W70 46.329\\t5/20/2006 3:11:31 PM \\t7 ft\\t\\t30 ft\\t00:00:15\\t1.4 mph\\t105° true\\n',\n",
       " 'Trackpoint\\tN42 48.683 W70 46.322\\t5/20/2006 3:11:46 PM \\t8 ft\\t\\t30 ft\\t00:00:15\\t1.4 mph\\t105° true\\n',\n",
       " 'Trackpoint\\tN42 48.680 W70 46.316\\t5/20/2006 3:12:01 PM \\t8 ft\\t\\t33 ft\\t00:00:15\\t1.5 mph\\t119° true\\n',\n",
       " 'Trackpoint\\tN42 48.679 W70 46.311\\t5/20/2006 3:12:16 PM \\t8 ft\\t\\t24 ft\\t00:00:15\\t1.1 mph\\t109° true\\n',\n",
       " 'Trackpoint\\tN42 48.678 W70 46.304\\t5/20/2006 3:12:31 PM \\t5 ft\\t\\t30 ft\\t00:00:15\\t1.4 mph\\t105° true\\n',\n",
       " 'Trackpoint\\tN42 48.676 W70 46.298\\t5/20/2006 3:12:46 PM \\t4 ft\\t\\t30 ft\\t00:00:15\\t1.4 mph\\t105° true\\n',\n",
       " 'Trackpoint\\tN42 48.675 W70 46.291\\t5/20/2006 3:13:01 PM \\t5 ft\\t\\t30 ft\\t00:00:15\\t1.4 mph\\t105° true\\n',\n",
       " 'Trackpoint\\tN42 48.673 W70 46.285\\t5/20/2006 3:13:16 PM \\t5 ft\\t\\t33 ft\\t00:00:15\\t1.5 mph\\t119° true\\n',\n",
       " 'Trackpoint\\tN42 48.671 W70 46.280\\t5/20/2006 3:13:31 PM \\t5 ft\\t\\t24 ft\\t00:00:15\\t1.1 mph\\t109° true\\n',\n",
       " 'Trackpoint\\tN42 48.670 W70 46.273\\t5/20/2006 3:13:46 PM \\t5 ft\\t\\t30 ft\\t00:00:15\\t1.4 mph\\t105° true\\n',\n",
       " 'Trackpoint\\tN42 48.669 W70 46.267\\t5/20/2006 3:14:01 PM \\t5 ft\\t\\t30 ft\\t00:00:15\\t1.4 mph\\t105° true\\n',\n",
       " 'Trackpoint\\tN42 48.666 W70 46.260\\t5/20/2006 3:14:16 PM \\t4 ft\\t\\t33 ft\\t00:00:15\\t1.5 mph\\t119° true\\n',\n",
       " 'Trackpoint\\tN42 48.665 W70 46.254\\t5/20/2006 3:14:31 PM \\t2 ft\\t\\t30 ft\\t00:00:15\\t1.4 mph\\t105° true\\n',\n",
       " 'Trackpoint\\tN42 48.664 W70 46.249\\t5/20/2006 3:14:46 PM \\t4 ft\\t\\t24 ft\\t00:00:15\\t1.1 mph\\t109° true\\n',\n",
       " 'Trackpoint\\tN42 48.662 W70 46.242\\t5/20/2006 3:15:01 PM \\t5 ft\\t\\t30 ft\\t00:00:15\\t1.4 mph\\t105° true\\n',\n",
       " 'Trackpoint\\tN42 48.660 W70 46.236\\t5/20/2006 3:15:16 PM \\t7 ft\\t\\t33 ft\\t00:00:15\\t1.5 mph\\t119° true\\n',\n",
       " 'Trackpoint\\tN42 48.658 W70 46.230\\t5/20/2006 3:15:31 PM \\t10 ft\\t\\t30 ft\\t00:00:15\\t1.4 mph\\t105° true\\n',\n",
       " 'Trackpoint\\tN42 48.657 W70 46.223\\t5/20/2006 3:15:46 PM \\t10 ft\\t\\t30 ft\\t00:00:15\\t1.4 mph\\t105° true\\n',\n",
       " 'Trackpoint\\tN42 48.656 W70 46.218\\t5/20/2006 3:16:01 PM \\t10 ft\\t\\t24 ft\\t00:00:15\\t1.1 mph\\t109° true\\n',\n",
       " 'Trackpoint\\tN42 48.653 W70 46.212\\t5/20/2006 3:16:16 PM \\t10 ft\\t\\t33 ft\\t00:00:15\\t1.5 mph\\t119° true\\n',\n",
       " 'Trackpoint\\tN42 48.652 W70 46.205\\t5/20/2006 3:16:31 PM \\t10 ft\\t\\t30 ft\\t00:00:15\\t1.4 mph\\t105° true\\n',\n",
       " 'Trackpoint\\tN42 48.651 W70 46.199\\t5/20/2006 3:16:46 PM \\t10 ft\\t\\t30 ft\\t00:00:15\\t1.4 mph\\t105° true\\n',\n",
       " 'Trackpoint\\tN42 48.649 W70 46.194\\t5/20/2006 3:17:01 PM \\t10 ft\\t\\t24 ft\\t00:00:15\\t1.1 mph\\t109° true\\n',\n",
       " 'Trackpoint\\tN42 48.648 W70 46.187\\t5/20/2006 3:17:16 PM \\t8 ft\\t\\t30 ft\\t00:00:15\\t1.4 mph\\t105° true\\n',\n",
       " 'Trackpoint\\tN42 48.647 W70 46.181\\t5/20/2006 3:17:31 PM \\t11 ft\\t\\t30 ft\\t00:00:15\\t1.4 mph\\t105° true\\n',\n",
       " 'Trackpoint\\tN42 48.646 W70 46.175\\t5/20/2006 3:17:46 PM \\t11 ft\\t\\t24 ft\\t00:00:15\\t1.1 mph\\t109° true\\n',\n",
       " 'Trackpoint\\tN42 48.644 W70 46.170\\t5/20/2006 3:18:01 PM \\t8 ft\\t\\t24 ft\\t00:00:15\\t1.1 mph\\t109° true\\n',\n",
       " 'Trackpoint\\tN42 48.643 W70 46.164\\t5/20/2006 3:18:16 PM \\t7 ft\\t\\t30 ft\\t00:00:15\\t1.4 mph\\t105° true\\n',\n",
       " 'Trackpoint\\tN42 48.640 W70 46.159\\t5/20/2006 3:18:31 PM \\t10 ft\\t\\t28 ft\\t00:00:15\\t1.3 mph\\t124° true\\n',\n",
       " 'Trackpoint\\tN42 48.639 W70 46.152\\t5/20/2006 3:18:46 PM \\t10 ft\\t\\t30 ft\\t00:00:15\\t1.4 mph\\t105° true\\n',\n",
       " 'Trackpoint\\tN42 48.638 W70 46.147\\t5/20/2006 3:19:01 PM \\t11 ft\\t\\t24 ft\\t00:00:15\\t1.1 mph\\t109° true\\n',\n",
       " 'Trackpoint\\tN42 48.637 W70 46.141\\t5/20/2006 3:19:16 PM \\t11 ft\\t\\t30 ft\\t00:00:15\\t1.4 mph\\t105° true\\n',\n",
       " 'Trackpoint\\tN42 48.635 W70 46.136\\t5/20/2006 3:19:31 PM \\t10 ft\\t\\t24 ft\\t00:00:15\\t1.1 mph\\t109° true\\n',\n",
       " 'Trackpoint\\tN42 48.634 W70 46.130\\t5/20/2006 3:19:46 PM \\t10 ft\\t\\t24 ft\\t00:00:15\\t1.1 mph\\t109° true\\n',\n",
       " 'Trackpoint\\tN42 48.633 W70 46.125\\t5/20/2006 3:20:01 PM \\t11 ft\\t\\t24 ft\\t00:00:15\\t1.1 mph\\t109° true\\n',\n",
       " 'Trackpoint\\tN42 48.631 W70 46.119\\t5/20/2006 3:20:16 PM \\t10 ft\\t\\t30 ft\\t00:00:15\\t1.4 mph\\t105° true\\n',\n",
       " 'Trackpoint\\tN42 48.630 W70 46.114\\t5/20/2006 3:20:31 PM \\t8 ft\\t\\t24 ft\\t00:00:15\\t1.1 mph\\t109° true\\n',\n",
       " 'Trackpoint\\tN42 48.629 W70 46.107\\t5/20/2006 3:20:46 PM \\t8 ft\\t\\t30 ft\\t00:00:15\\t1.4 mph\\t105° true\\n',\n",
       " 'Trackpoint\\tN42 48.628 W70 46.102\\t5/20/2006 3:21:01 PM \\t10 ft\\t\\t24 ft\\t00:00:15\\t1.1 mph\\t109° true\\n',\n",
       " 'Trackpoint\\tN42 48.626 W70 46.097\\t5/20/2006 3:21:16 PM \\t8 ft\\t\\t24 ft\\t00:00:15\\t1.1 mph\\t109° true\\n',\n",
       " 'Trackpoint\\tN42 48.625 W70 46.092\\t5/20/2006 3:21:31 PM \\t8 ft\\t\\t24 ft\\t00:00:15\\t1.1 mph\\t109° true\\n',\n",
       " 'Trackpoint\\tN42 48.624 W70 46.087\\t5/20/2006 3:21:46 PM \\t8 ft\\t\\t24 ft\\t00:00:15\\t1.1 mph\\t109° true\\n',\n",
       " 'Trackpoint\\tN42 48.622 W70 46.081\\t5/20/2006 3:22:01 PM \\t10 ft\\t\\t24 ft\\t00:00:15\\t1.1 mph\\t109° true\\n',\n",
       " 'Trackpoint\\tN42 48.621 W70 46.075\\t5/20/2006 3:22:16 PM \\t8 ft\\t\\t30 ft\\t00:00:15\\t1.4 mph\\t105° true\\n',\n",
       " 'Trackpoint\\tN42 48.620 W70 46.070\\t5/20/2006 3:22:31 PM \\t7 ft\\t\\t24 ft\\t00:00:15\\t1.1 mph\\t109° true\\n',\n",
       " 'Trackpoint\\tN42 48.619 W70 46.065\\t5/20/2006 3:22:46 PM \\t4 ft\\t\\t24 ft\\t00:00:15\\t1.1 mph\\t109° true\\n',\n",
       " 'Trackpoint\\tN42 48.616 W70 46.058\\t5/20/2006 3:23:01 PM \\t4 ft\\t\\t33 ft\\t00:00:15\\t1.5 mph\\t119° true\\n',\n",
       " 'Trackpoint\\tN42 48.615 W70 46.053\\t5/20/2006 3:23:16 PM \\t5 ft\\t\\t24 ft\\t00:00:15\\t1.1 mph\\t109° true\\n',\n",
       " 'Trackpoint\\tN42 48.613 W70 46.047\\t5/20/2006 3:23:31 PM \\t7 ft\\t\\t30 ft\\t00:00:15\\t1.4 mph\\t105° true\\n',\n",
       " 'Trackpoint\\tN42 48.612 W70 46.042\\t5/20/2006 3:23:46 PM \\t4 ft\\t\\t24 ft\\t00:00:15\\t1.1 mph\\t109° true\\n',\n",
       " 'Trackpoint\\tN42 48.611 W70 46.036\\t5/20/2006 3:24:01 PM \\t5 ft\\t\\t24 ft\\t00:00:15\\t1.1 mph\\t109° true\\n',\n",
       " 'Trackpoint\\tN42 48.610 W70 46.030\\t5/20/2006 3:24:16 PM \\t7 ft\\t\\t30 ft\\t00:00:15\\t1.4 mph\\t105° true\\n',\n",
       " 'Trackpoint\\tN42 48.608 W70 46.025\\t5/20/2006 3:24:31 PM \\t5 ft\\t\\t24 ft\\t00:00:15\\t1.1 mph\\t109° true\\n',\n",
       " 'Trackpoint\\tN42 48.607 W70 46.020\\t5/20/2006 3:24:46 PM \\t5 ft\\t\\t24 ft\\t00:00:15\\t1.1 mph\\t109° true\\n',\n",
       " 'Trackpoint\\tN42 48.606 W70 46.013\\t5/20/2006 3:25:01 PM \\t5 ft\\t\\t30 ft\\t00:00:15\\t1.4 mph\\t105° true\\n',\n",
       " 'Trackpoint\\tN42 48.604 W70 46.008\\t5/20/2006 3:25:16 PM \\t5 ft\\t\\t24 ft\\t00:00:15\\t1.1 mph\\t109° true\\n',\n",
       " 'Trackpoint\\tN42 48.603 W70 46.002\\t5/20/2006 3:25:31 PM \\t8 ft\\t\\t30 ft\\t00:00:15\\t1.4 mph\\t105° true\\n',\n",
       " 'Trackpoint\\tN42 48.602 W70 45.997\\t5/20/2006 3:25:46 PM \\t8 ft\\t\\t24 ft\\t00:00:15\\t1.1 mph\\t109° true\\n',\n",
       " 'Trackpoint\\tN42 48.601 W70 45.991\\t5/20/2006 3:26:01 PM \\t8 ft\\t\\t24 ft\\t00:00:15\\t1.1 mph\\t109° true\\n',\n",
       " 'Trackpoint\\tN42 48.598 W70 45.985\\t5/20/2006 3:26:16 PM \\t5 ft\\t\\t33 ft\\t00:00:15\\t1.5 mph\\t119° true\\n',\n",
       " 'Trackpoint\\tN42 48.597 W70 45.978\\t5/20/2006 3:26:31 PM \\t5 ft\\t\\t30 ft\\t00:00:15\\t1.4 mph\\t105° true\\n',\n",
       " 'Trackpoint\\tN42 48.595 W70 45.973\\t5/20/2006 3:26:46 PM \\t7 ft\\t\\t24 ft\\t00:00:15\\t1.1 mph\\t109° true\\n',\n",
       " 'Trackpoint\\tN42 48.594 W70 45.968\\t5/20/2006 3:27:01 PM \\t8 ft\\t\\t24 ft\\t00:00:15\\t1.1 mph\\t109° true\\n',\n",
       " 'Trackpoint\\tN42 48.593 W70 45.962\\t5/20/2006 3:27:16 PM \\t8 ft\\t\\t30 ft\\t00:00:15\\t1.4 mph\\t105° true\\n',\n",
       " 'Trackpoint\\tN42 48.590 W70 45.957\\t5/20/2006 3:27:31 PM \\t7 ft\\t\\t28 ft\\t00:00:15\\t1.3 mph\\t124° true\\n',\n",
       " 'Trackpoint\\tN42 48.589 W70 45.951\\t5/20/2006 3:27:46 PM \\t7 ft\\t\\t24 ft\\t00:00:15\\t1.1 mph\\t109° true\\n',\n",
       " 'Trackpoint\\tN42 48.588 W70 45.944\\t5/20/2006 3:28:01 PM \\t10 ft\\t\\t35 ft\\t00:00:15\\t1.6 mph\\t103° true\\n',\n",
       " 'Trackpoint\\tN42 48.588 W70 45.932\\t5/20/2006 3:28:16 PM \\t5 ft\\t\\t52 ft\\t00:00:15\\t2.4 mph\\t90° true\\n',\n",
       " 'Trackpoint\\tN42 48.593 W70 45.919\\t5/20/2006 3:28:32 PM \\t-5.9 ft\\t\\t65 ft\\t00:00:16\\t2.8 mph\\t61° true\\n',\n",
       " 'Trackpoint\\tN42 48.602 W70 45.917\\t5/20/2006 3:28:47 PM \\t-5.9 ft\\t\\t56 ft\\t00:00:15\\t2.5 mph\\t12° true\\n',\n",
       " 'Trackpoint\\tN42 48.608 W70 45.921\\t5/20/2006 3:29:02 PM \\t2 ft\\t\\t43 ft\\t00:00:15\\t1.9 mph\\t336° true\\n',\n",
       " 'Trackpoint\\tN42 48.607 W70 45.932\\t5/20/2006 3:29:17 PM \\t8 ft\\t\\t52 ft\\t00:00:15\\t2.4 mph\\t261° true\\n',\n",
       " 'Trackpoint\\tN42 48.606 W70 45.951\\t5/20/2006 3:29:32 PM \\t10 ft\\t\\t87 ft\\t00:00:15\\t3.9 mph\\t265° true\\n',\n",
       " 'Trackpoint\\tN42 48.606 W70 45.975\\t5/20/2006 3:29:47 PM \\t4 ft\\t\\t103 ft\\t00:00:15\\t4.7 mph\\t270° true\\n',\n",
       " 'Trackpoint\\tN42 48.606 W70 45.999\\t5/20/2006 3:30:02 PM \\t4 ft\\t\\t109 ft\\t00:00:15\\t5.0 mph\\t270° true\\n',\n",
       " 'Trackpoint\\tN42 48.602 W70 46.022\\t5/20/2006 3:30:17 PM \\t8 ft\\t\\t106 ft\\t00:00:15\\t4.8 mph\\t257° true\\n',\n",
       " 'Trackpoint\\tN42 48.598 W70 46.047\\t5/20/2006 3:30:32 PM \\t8 ft\\t\\t112 ft\\t00:00:15\\t5.1 mph\\t258° true\\n',\n",
       " 'Trackpoint\\tN42 48.595 W70 46.070\\t5/20/2006 3:30:47 PM \\t16 ft\\t\\t105 ft\\t00:00:15\\t4.8 mph\\t261° true\\n',\n",
       " 'Trackpoint\\tN42 48.595 W70 46.093\\t5/20/2006 3:31:02 PM \\t15 ft\\t\\t103 ft\\t00:00:15\\t4.7 mph\\t270° true\\n',\n",
       " 'Trackpoint\\tN42 48.597 W70 46.118\\t5/20/2006 3:31:17 PM \\t7 ft\\t\\t110 ft\\t00:00:15\\t5.0 mph\\t274° true\\n',\n",
       " 'Trackpoint\\tN42 48.598 W70 46.142\\t5/20/2006 3:31:32 PM \\t7 ft\\t\\t110 ft\\t00:00:15\\t5.0 mph\\t274° true\\n',\n",
       " 'Trackpoint\\tN42 48.599 W70 46.166\\t5/20/2006 3:31:47 PM \\t7 ft\\t\\t110 ft\\t00:00:15\\t5.0 mph\\t274° true\\n',\n",
       " 'Trackpoint\\tN42 48.601 W70 46.168\\t5/20/2006 3:31:48 PM \\t7 ft\\t\\t10 ft\\t00:00:01\\t6.6 mph\\t324° true']"
      ]
     },
     "execution_count": 34,
     "metadata": {},
     "output_type": "execute_result"
    }
   ],
   "source": [
    "# now we run f.readlines()\n",
    "f.readlines()"
   ]
  },
  {
   "cell_type": "markdown",
   "metadata": {},
   "source": [
    "**Extract info from the text:**\n",
    "\n",
    "Our goal is to extract the latitude of each trackpoint in the unit of degree. For each latitude value, we have both  arc degree and arc minute in the original file. Hence, to get the latitude in the unit of degree, we need to convert the arc minute to arc degree and then add it to the original arc degree."
   ]
  },
  {
   "cell_type": "code",
   "execution_count": 35,
   "metadata": {},
   "outputs": [
    {
     "data": {
      "text/plain": [
       "0"
      ]
     },
     "execution_count": 35,
     "metadata": {},
     "output_type": "execute_result"
    }
   ],
   "source": [
    "f.seek(0) # important!"
   ]
  },
  {
   "cell_type": "code",
   "execution_count": 36,
   "metadata": {},
   "outputs": [],
   "source": [
    "# get all the text in the data file\n",
    "lines_all = f.readlines()"
   ]
  },
  {
   "cell_type": "code",
   "execution_count": 84,
   "metadata": {
    "scrolled": true
   },
   "outputs": [
    {
     "data": {
      "text/plain": [
       "[\"Grid\\tLat/Lon hddd°mm.mmm'\\n\",\n",
       " 'Datum\\tWGS 84\\n',\n",
       " '\\n',\n",
       " 'Header\\tName\\tStart Time\\tElapsed Time\\tLength\\tAverage Speed\\tLink\\n',\n",
       " '\\n',\n",
       " 'Track\\tACTIVE LOG\\t5/20/2006 1:34:55 PM \\t01:56:53\\t4.80 mi\\t2.5 mph\\t\\n',\n",
       " '\\n',\n",
       " 'Header\\tPosition\\tTime\\tAltitude\\tDepth\\tLeg Length\\tLeg Time\\tLeg Speed\\tLeg Course\\n',\n",
       " '\\n',\n",
       " 'Trackpoint\\tN42 49.820 W70 45.415\\t5/20/2006 1:35:10 PM \\t16 ft\\t\\t17 ft\\t00:00:15\\t0.76 mph\\t200° true\\n',\n",
       " 'Trackpoint\\tN42 49.821 W70 45.408\\t5/20/2006 1:35:25 PM \\t15 ft\\t\\t30 ft\\t00:00:15\\t1.4 mph\\t75° true\\n',\n",
       " 'Trackpoint\\tN42 49.824 W70 45.400\\t5/20/2006 1:35:40 PM \\t19 ft\\t\\t38 ft\\t00:00:15\\t1.7 mph\\t66° true\\n',\n",
       " 'Trackpoint\\tN42 49.825 W70 45.393\\t5/20/2006 1:35:55 PM \\t18 ft\\t\\t35 ft\\t00:00:15\\t1.6 mph\\t77° true\\n',\n",
       " 'Trackpoint\\tN42 49.824 W70 45.379\\t5/20/2006 1:36:10 PM \\t24 ft\\t\\t64 ft\\t00:00:15\\t2.9 mph\\t97° true\\n',\n",
       " 'Trackpoint\\tN42 49.821 W70 45.370\\t5/20/2006 1:36:25 PM \\t19 ft\\t\\t43 ft\\t00:00:15\\t2.0 mph\\t111° true\\n',\n",
       " 'Trackpoint\\tN42 49.821 W70 45.362\\t5/20/2006 1:36:40 PM \\t26 ft\\t\\t34 ft\\t00:00:15\\t1.6 mph\\t90° true\\n',\n",
       " 'Trackpoint\\tN42 49.821 W70 45.353\\t5/20/2006 1:36:55 PM \\t24 ft\\t\\t40 ft\\t00:00:15\\t1.8 mph\\t90° true\\n',\n",
       " 'Trackpoint\\tN42 49.816 W70 45.341\\t5/20/2006 1:37:10 PM \\t23 ft\\t\\t60 ft\\t00:00:15\\t2.7 mph\\t121° true\\n',\n",
       " 'Trackpoint\\tN42 49.807 W70 45.330\\t5/20/2006 1:37:25 PM \\t13 ft\\t\\t75 ft\\t00:00:15\\t3.4 mph\\t137° true\\n',\n",
       " 'Trackpoint\\tN42 49.794 W70 45.324\\t5/20/2006 1:37:40 PM \\t0.5 ft\\t\\t82 ft\\t00:00:15\\t3.7 mph\\t164° true\\n',\n",
       " 'Trackpoint\\tN42 49.784 W70 45.326\\t5/20/2006 1:37:55 PM \\t4 ft\\t\\t63 ft\\t00:00:15\\t2.9 mph\\t185° true\\n',\n",
       " 'Trackpoint\\tN42 49.776 W70 45.339\\t5/20/2006 1:38:10 PM \\t5 ft\\t\\t74 ft\\t00:00:15\\t3.4 mph\\t231° true\\n',\n",
       " 'Trackpoint\\tN42 49.781 W70 45.361\\t5/20/2006 1:38:25 PM \\t5 ft\\t\\t103 ft\\t00:00:15\\t4.7 mph\\t288° true\\n',\n",
       " 'Trackpoint\\tN42 49.786 W70 45.381\\t5/20/2006 1:38:40 PM \\t10 ft\\t\\t97 ft\\t00:00:15\\t4.4 mph\\t289° true\\n',\n",
       " 'Trackpoint\\tN42 49.780 W70 45.400\\t5/20/2006 1:38:55 PM \\t8 ft\\t\\t95 ft\\t00:00:15\\t4.3 mph\\t246° true\\n',\n",
       " 'Trackpoint\\tN42 49.767 W70 45.412\\t5/20/2006 1:39:10 PM \\t16 ft\\t\\t94 ft\\t00:00:15\\t4.3 mph\\t213° true\\n',\n",
       " 'Trackpoint\\tN42 49.750 W70 45.420\\t5/20/2006 1:39:25 PM \\t19 ft\\t\\t108 ft\\t00:00:15\\t4.9 mph\\t199° true\\n',\n",
       " 'Trackpoint\\tN42 49.735 W70 45.430\\t5/20/2006 1:39:40 PM \\t13 ft\\t\\t105 ft\\t00:00:15\\t4.8 mph\\t206° true\\n',\n",
       " 'Trackpoint\\tN42 49.719 W70 45.440\\t5/20/2006 1:39:55 PM \\t11 ft\\t\\t105 ft\\t00:00:15\\t4.8 mph\\t206° true\\n',\n",
       " 'Trackpoint\\tN42 49.701 W70 45.447\\t5/20/2006 1:40:10 PM \\t10 ft\\t\\t113 ft\\t00:00:15\\t5.2 mph\\t195° true\\n',\n",
       " 'Trackpoint\\tN42 49.683 W70 45.455\\t5/20/2006 1:40:25 PM \\t11 ft\\t\\t115 ft\\t00:00:15\\t5.2 mph\\t197° true\\n',\n",
       " 'Trackpoint\\tN42 49.668 W70 45.465\\t5/20/2006 1:40:40 PM \\t10 ft\\t\\t105 ft\\t00:00:15\\t4.8 mph\\t206° true\\n',\n",
       " 'Trackpoint\\tN42 49.652 W70 45.476\\t5/20/2006 1:40:55 PM \\t10 ft\\t\\t107 ft\\t00:00:15\\t4.9 mph\\t209° true\\n',\n",
       " 'Trackpoint\\tN42 49.637 W70 45.489\\t5/20/2006 1:41:10 PM \\t10 ft\\t\\t110 ft\\t00:00:15\\t5.0 mph\\t211° true\\n',\n",
       " 'Trackpoint\\tN42 49.623 W70 45.502\\t5/20/2006 1:41:25 PM \\t10 ft\\t\\t104 ft\\t00:00:15\\t4.7 mph\\t214° true\\n',\n",
       " 'Trackpoint\\tN42 49.611 W70 45.520\\t5/20/2006 1:41:40 PM \\t10 ft\\t\\t107 ft\\t00:00:15\\t4.9 mph\\t229° true\\n',\n",
       " 'Trackpoint\\tN42 49.600 W70 45.537\\t5/20/2006 1:41:55 PM \\t8 ft\\t\\t103 ft\\t00:00:15\\t4.7 mph\\t227° true\\n',\n",
       " 'Trackpoint\\tN42 49.585 W70 45.552\\t5/20/2006 1:42:10 PM \\t7 ft\\t\\t110 ft\\t00:00:15\\t5.0 mph\\t219° true\\n',\n",
       " 'Trackpoint\\tN42 49.574 W70 45.569\\t5/20/2006 1:42:25 PM \\t5 ft\\t\\t103 ft\\t00:00:15\\t4.7 mph\\t227° true\\n',\n",
       " 'Trackpoint\\tN42 49.562 W70 45.586\\t5/20/2006 1:42:40 PM \\t7 ft\\t\\t103 ft\\t00:00:15\\t4.7 mph\\t227° true\\n',\n",
       " 'Trackpoint\\tN42 49.549 W70 45.601\\t5/20/2006 1:42:55 PM \\t7 ft\\t\\t104 ft\\t00:00:15\\t4.7 mph\\t221° true\\n',\n",
       " 'Trackpoint\\tN42 49.536 W70 45.617\\t5/20/2006 1:43:10 PM \\t5 ft\\t\\t104 ft\\t00:00:15\\t4.7 mph\\t221° true\\n',\n",
       " 'Trackpoint\\tN42 49.525 W70 45.632\\t5/20/2006 1:43:25 PM \\t4 ft\\t\\t99 ft\\t00:00:15\\t4.5 mph\\t224° true\\n',\n",
       " 'Trackpoint\\tN42 49.513 W70 45.646\\t5/20/2006 1:43:40 PM \\t7 ft\\t\\t95 ft\\t00:00:15\\t4.3 mph\\t222° true\\n',\n",
       " 'Trackpoint\\tN42 49.499 W70 45.660\\t5/20/2006 1:43:55 PM \\t5 ft\\t\\t107 ft\\t00:00:15\\t4.9 mph\\t216° true\\n',\n",
       " 'Trackpoint\\tN42 49.486 W70 45.675\\t5/20/2006 1:44:10 PM \\t5 ft\\t\\t101 ft\\t00:00:15\\t4.6 mph\\t219° true\\n',\n",
       " 'Trackpoint\\tN42 49.473 W70 45.690\\t5/20/2006 1:44:25 PM \\t8 ft\\t\\t104 ft\\t00:00:15\\t4.7 mph\\t221° true\\n',\n",
       " 'Trackpoint\\tN42 49.463 W70 45.707\\t5/20/2006 1:44:40 PM \\t5 ft\\t\\t98 ft\\t00:00:15\\t4.4 mph\\t230° true\\n',\n",
       " 'Trackpoint\\tN42 49.452 W70 45.722\\t5/20/2006 1:44:55 PM \\t7 ft\\t\\t99 ft\\t00:00:15\\t4.5 mph\\t224° true\\n',\n",
       " 'Trackpoint\\tN42 49.436 W70 45.734\\t5/20/2006 1:45:10 PM \\t11 ft\\t\\t107 ft\\t00:00:15\\t4.9 mph\\t209° true\\n',\n",
       " 'Trackpoint\\tN42 49.422 W70 45.747\\t5/20/2006 1:45:25 PM \\t11 ft\\t\\t104 ft\\t00:00:15\\t4.7 mph\\t214° true\\n',\n",
       " 'Trackpoint\\tN42 49.412 W70 45.762\\t5/20/2006 1:45:40 PM \\t8 ft\\t\\t93 ft\\t00:00:15\\t4.2 mph\\t228° true\\n',\n",
       " 'Trackpoint\\tN42 49.401 W70 45.780\\t5/20/2006 1:45:55 PM \\t7 ft\\t\\t102 ft\\t00:00:15\\t4.6 mph\\t232° true\\n',\n",
       " 'Trackpoint\\tN42 49.388 W70 45.796\\t5/20/2006 1:46:10 PM \\t8 ft\\t\\t104 ft\\t00:00:15\\t4.7 mph\\t221° true\\n',\n",
       " 'Trackpoint\\tN42 49.377 W70 45.811\\t5/20/2006 1:46:25 PM \\t13 ft\\t\\t99 ft\\t00:00:15\\t4.5 mph\\t224° true\\n',\n",
       " 'Trackpoint\\tN42 49.365 W70 45.828\\t5/20/2006 1:46:40 PM \\t16 ft\\t\\t103 ft\\t00:00:15\\t4.7 mph\\t227° true\\n',\n",
       " 'Trackpoint\\tN42 49.354 W70 45.845\\t5/20/2006 1:46:55 PM \\t16 ft\\t\\t103 ft\\t00:00:15\\t4.7 mph\\t227° true\\n',\n",
       " 'Trackpoint\\tN42 49.342 W70 45.861\\t5/20/2006 1:47:10 PM \\t15 ft\\t\\t103 ft\\t00:00:15\\t4.7 mph\\t227° true\\n',\n",
       " 'Trackpoint\\tN42 49.329 W70 45.877\\t5/20/2006 1:47:25 PM \\t10 ft\\t\\t104 ft\\t00:00:15\\t4.7 mph\\t221° true\\n',\n",
       " 'Trackpoint\\tN42 49.318 W70 45.892\\t5/20/2006 1:47:40 PM \\t10 ft\\t\\t99 ft\\t00:00:15\\t4.5 mph\\t224° true\\n',\n",
       " 'Trackpoint\\tN42 49.307 W70 45.909\\t5/20/2006 1:47:55 PM \\t13 ft\\t\\t98 ft\\t00:00:15\\t4.4 mph\\t230° true\\n',\n",
       " 'Trackpoint\\tN42 49.297 W70 45.926\\t5/20/2006 1:48:10 PM \\t11 ft\\t\\t98 ft\\t00:00:15\\t4.4 mph\\t230° true\\n',\n",
       " 'Trackpoint\\tN42 49.287 W70 45.945\\t5/20/2006 1:48:25 PM \\t11 ft\\t\\t107 ft\\t00:00:15\\t4.8 mph\\t234° true\\n',\n",
       " 'Trackpoint\\tN42 49.276 W70 45.962\\t5/20/2006 1:48:40 PM \\t11 ft\\t\\t98 ft\\t00:00:15\\t4.4 mph\\t230° true\\n',\n",
       " 'Trackpoint\\tN42 49.264 W70 45.977\\t5/20/2006 1:48:55 PM \\t11 ft\\t\\t104 ft\\t00:00:15\\t4.7 mph\\t221° true\\n',\n",
       " 'Trackpoint\\tN42 49.252 W70 45.993\\t5/20/2006 1:49:10 PM \\t8 ft\\t\\t99 ft\\t00:00:15\\t4.5 mph\\t224° true\\n',\n",
       " 'Trackpoint\\tN42 49.244 W70 46.012\\t5/20/2006 1:49:25 PM \\t7 ft\\t\\t98 ft\\t00:00:15\\t4.5 mph\\t241° true\\n',\n",
       " 'Trackpoint\\tN42 49.237 W70 46.031\\t5/20/2006 1:49:40 PM \\t5 ft\\t\\t98 ft\\t00:00:15\\t4.5 mph\\t241° true\\n',\n",
       " 'Trackpoint\\tN42 49.226 W70 46.052\\t5/20/2006 1:49:56 PM \\t8 ft\\t\\t111 ft\\t00:00:16\\t4.7 mph\\t236° true\\n',\n",
       " 'Trackpoint\\tN42 49.217 W70 46.070\\t5/20/2006 1:50:11 PM \\t13 ft\\t\\t97 ft\\t00:00:15\\t4.4 mph\\t236° true\\n',\n",
       " 'Trackpoint\\tN42 49.208 W70 46.088\\t5/20/2006 1:50:26 PM \\t13 ft\\t\\t97 ft\\t00:00:15\\t4.4 mph\\t236° true\\n',\n",
       " 'Trackpoint\\tN42 49.199 W70 46.109\\t5/20/2006 1:50:42 PM \\t19 ft\\t\\t107 ft\\t00:00:16\\t4.6 mph\\t239° true\\n',\n",
       " 'Trackpoint\\tN42 49.191 W70 46.128\\t5/20/2006 1:50:57 PM \\t24 ft\\t\\t98 ft\\t00:00:15\\t4.5 mph\\t241° true\\n',\n",
       " 'Trackpoint\\tN42 49.182 W70 46.147\\t5/20/2006 1:51:12 PM \\t19 ft\\t\\t102 ft\\t00:00:15\\t4.6 mph\\t238° true\\n',\n",
       " 'Trackpoint\\tN42 49.170 W70 46.164\\t5/20/2006 1:51:27 PM \\t16 ft\\t\\t108 ft\\t00:00:15\\t4.9 mph\\t224° true\\n',\n",
       " 'Trackpoint\\tN42 49.159 W70 46.181\\t5/20/2006 1:51:42 PM \\t11 ft\\t\\t98 ft\\t00:00:15\\t4.4 mph\\t230° true\\n',\n",
       " 'Trackpoint\\tN42 49.154 W70 46.201\\t5/20/2006 1:51:57 PM \\t10 ft\\t\\t97 ft\\t00:00:15\\t4.4 mph\\t251° true\\n',\n",
       " 'Trackpoint\\tN42 49.154 W70 46.223\\t5/20/2006 1:52:12 PM \\t-4.3 ft\\t\\t98 ft\\t00:00:15\\t4.4 mph\\t270° true\\n',\n",
       " 'Trackpoint\\tN42 49.153 W70 46.245\\t5/20/2006 1:52:27 PM \\t-2.7 ft\\t\\t98 ft\\t00:00:15\\t4.5 mph\\t265° true\\n',\n",
       " 'Trackpoint\\tN42 49.145 W70 46.264\\t5/20/2006 1:52:42 PM \\t2 ft\\t\\t98 ft\\t00:00:15\\t4.5 mph\\t241° true\\n',\n",
       " 'Trackpoint\\tN42 49.136 W70 46.284\\t5/20/2006 1:52:57 PM \\t5 ft\\t\\t102 ft\\t00:00:15\\t4.6 mph\\t238° true\\n',\n",
       " 'Trackpoint\\tN42 49.125 W70 46.299\\t5/20/2006 1:53:12 PM \\t8 ft\\t\\t99 ft\\t00:00:15\\t4.5 mph\\t224° true\\n',\n",
       " 'Trackpoint\\tN42 49.112 W70 46.313\\t5/20/2006 1:53:27 PM \\t10 ft\\t\\t101 ft\\t00:00:15\\t4.6 mph\\t219° true\\n',\n",
       " 'Trackpoint\\tN42 49.099 W70 46.329\\t5/20/2006 1:53:42 PM \\t11 ft\\t\\t104 ft\\t00:00:15\\t4.7 mph\\t221° true\\n',\n",
       " 'Trackpoint\\tN42 49.091 W70 46.345\\t5/20/2006 1:53:57 PM \\t11 ft\\t\\t88 ft\\t00:00:15\\t4.0 mph\\t238° true\\n',\n",
       " 'Trackpoint\\tN42 49.087 W70 46.366\\t5/20/2006 1:54:12 PM \\t13 ft\\t\\t95 ft\\t00:00:15\\t4.3 mph\\t256° true\\n',\n",
       " 'Trackpoint\\tN42 49.082 W70 46.387\\t5/20/2006 1:54:27 PM \\t16 ft\\t\\t97 ft\\t00:00:15\\t4.4 mph\\t251° true\\n',\n",
       " 'Trackpoint\\tN42 49.072 W70 46.406\\t5/20/2006 1:54:42 PM \\t15 ft\\t\\t107 ft\\t00:00:15\\t4.8 mph\\t234° true\\n',\n",
       " 'Trackpoint\\tN42 49.060 W70 46.424\\t5/20/2006 1:54:57 PM \\t11 ft\\t\\t107 ft\\t00:00:15\\t4.9 mph\\t229° true\\n',\n",
       " 'Trackpoint\\tN42 49.051 W70 46.441\\t5/20/2006 1:55:12 PM \\t11 ft\\t\\t93 ft\\t00:00:15\\t4.2 mph\\t234° true\\n',\n",
       " 'Trackpoint\\tN42 49.045 W70 46.461\\t5/20/2006 1:55:27 PM \\t13 ft\\t\\t100 ft\\t00:00:15\\t4.5 mph\\t247° true\\n',\n",
       " 'Trackpoint\\tN42 49.041 W70 46.483\\t5/20/2006 1:55:42 PM \\t15 ft\\t\\t101 ft\\t00:00:15\\t4.6 mph\\t256° true\\n',\n",
       " 'Trackpoint\\tN42 49.036 W70 46.504\\t5/20/2006 1:55:57 PM \\t16 ft\\t\\t97 ft\\t00:00:15\\t4.4 mph\\t251° true\\n',\n",
       " 'Trackpoint\\tN42 49.024 W70 46.522\\t5/20/2006 1:56:12 PM \\t15 ft\\t\\t107 ft\\t00:00:15\\t4.9 mph\\t229° true\\n',\n",
       " 'Trackpoint\\tN42 49.010 W70 46.535\\t5/20/2006 1:56:27 PM \\t18 ft\\t\\t104 ft\\t00:00:15\\t4.7 mph\\t214° true\\n',\n",
       " 'Trackpoint\\tN42 48.998 W70 46.550\\t5/20/2006 1:56:42 PM \\t15 ft\\t\\t99 ft\\t00:00:15\\t4.5 mph\\t224° true\\n',\n",
       " 'Trackpoint\\tN42 48.987 W70 46.567\\t5/20/2006 1:56:57 PM \\t15 ft\\t\\t103 ft\\t00:00:15\\t4.7 mph\\t227° true\\n',\n",
       " 'Trackpoint\\tN42 48.976 W70 46.584\\t5/20/2006 1:57:12 PM \\t13 ft\\t\\t98 ft\\t00:00:15\\t4.4 mph\\t230° true\\n',\n",
       " 'Trackpoint\\tN42 48.962 W70 46.599\\t5/20/2006 1:57:27 PM \\t15 ft\\t\\t110 ft\\t00:00:15\\t5.0 mph\\t219° true\\n',\n",
       " 'Trackpoint\\tN42 48.947 W70 46.613\\t5/20/2006 1:57:42 PM \\t13 ft\\t\\t113 ft\\t00:00:15\\t5.2 mph\\t214° true\\n',\n",
       " 'Trackpoint\\tN42 48.931 W70 46.626\\t5/20/2006 1:57:57 PM \\t13 ft\\t\\t110 ft\\t00:00:15\\t5.0 mph\\t211° true\\n',\n",
       " 'Trackpoint\\tN42 48.916 W70 46.640\\t5/20/2006 1:58:12 PM \\t13 ft\\t\\t113 ft\\t00:00:15\\t5.2 mph\\t214° true\\n',\n",
       " 'Trackpoint\\tN42 48.902 W70 46.653\\t5/20/2006 1:58:27 PM \\t13 ft\\t\\t104 ft\\t00:00:15\\t4.7 mph\\t214° true\\n',\n",
       " 'Trackpoint\\tN42 48.885 W70 46.666\\t5/20/2006 1:58:42 PM \\t11 ft\\t\\t117 ft\\t00:00:15\\t5.3 mph\\t209° true\\n',\n",
       " 'Trackpoint\\tN42 48.868 W70 46.678\\t5/20/2006 1:58:57 PM \\t15 ft\\t\\t114 ft\\t00:00:15\\t5.2 mph\\t207° true\\n',\n",
       " 'Trackpoint\\tN42 48.852 W70 46.688\\t5/20/2006 1:59:12 PM \\t15 ft\\t\\t112 ft\\t00:00:15\\t5.1 mph\\t204° true\\n',\n",
       " 'Trackpoint\\tN42 48.835 W70 46.698\\t5/20/2006 1:59:27 PM \\t13 ft\\t\\t112 ft\\t00:00:15\\t5.1 mph\\t204° true\\n',\n",
       " 'Trackpoint\\tN42 48.821 W70 46.711\\t5/20/2006 1:59:42 PM \\t13 ft\\t\\t104 ft\\t00:00:15\\t4.7 mph\\t214° true\\n',\n",
       " 'Trackpoint\\tN42 48.807 W70 46.727\\t5/20/2006 1:59:57 PM \\t15 ft\\t\\t110 ft\\t00:00:15\\t5.0 mph\\t219° true\\n',\n",
       " 'Trackpoint\\tN42 48.796 W70 46.743\\t5/20/2006 2:00:12 PM \\t15 ft\\t\\t98 ft\\t00:00:15\\t4.4 mph\\t230° true\\n',\n",
       " 'Trackpoint\\tN42 48.788 W70 46.763\\t5/20/2006 2:00:27 PM \\t13 ft\\t\\t98 ft\\t00:00:15\\t4.5 mph\\t241° true\\n',\n",
       " 'Trackpoint\\tN42 48.785 W70 46.783\\t5/20/2006 2:00:42 PM \\t13 ft\\t\\t95 ft\\t00:00:15\\t4.3 mph\\t256° true\\n',\n",
       " 'Trackpoint\\tN42 48.778 W70 46.804\\t5/20/2006 2:00:57 PM \\t11 ft\\t\\t100 ft\\t00:00:15\\t4.5 mph\\t247° true\\n',\n",
       " 'Trackpoint\\tN42 48.772 W70 46.826\\t5/20/2006 2:01:12 PM \\t10 ft\\t\\t105 ft\\t00:00:15\\t4.8 mph\\t248° true\\n',\n",
       " 'Trackpoint\\tN42 48.773 W70 46.846\\t5/20/2006 2:01:27 PM \\t10 ft\\t\\t92 ft\\t00:00:15\\t4.2 mph\\t275° true\\n',\n",
       " 'Trackpoint\\tN42 48.778 W70 46.867\\t5/20/2006 2:01:42 PM \\t7 ft\\t\\t97 ft\\t00:00:15\\t4.4 mph\\t289° true\\n',\n",
       " 'Trackpoint\\tN42 48.786 W70 46.886\\t5/20/2006 2:01:57 PM \\t10 ft\\t\\t98 ft\\t00:00:15\\t4.5 mph\\t299° true\\n',\n",
       " 'Trackpoint\\tN42 48.791 W70 46.907\\t5/20/2006 2:02:12 PM \\t11 ft\\t\\t97 ft\\t00:00:15\\t4.4 mph\\t289° true\\n',\n",
       " 'Trackpoint\\tN42 48.792 W70 46.929\\t5/20/2006 2:02:27 PM \\t10 ft\\t\\t98 ft\\t00:00:15\\t4.5 mph\\t275° true\\n',\n",
       " 'Trackpoint\\tN42 48.790 W70 46.951\\t5/20/2006 2:02:42 PM \\t13 ft\\t\\t99 ft\\t00:00:15\\t4.5 mph\\t261° true\\n',\n",
       " 'Trackpoint\\tN42 48.785 W70 46.972\\t5/20/2006 2:02:57 PM \\t16 ft\\t\\t103 ft\\t00:00:15\\t4.7 mph\\t252° true\\n',\n",
       " 'Trackpoint\\tN42 48.777 W70 46.993\\t5/20/2006 2:03:12 PM \\t15 ft\\t\\t103 ft\\t00:00:15\\t4.7 mph\\t243° true\\n',\n",
       " 'Trackpoint\\tN42 48.768 W70 47.015\\t5/20/2006 2:03:27 PM \\t15 ft\\t\\t112 ft\\t00:00:15\\t5.1 mph\\t241° true\\n',\n",
       " 'Trackpoint\\tN42 48.763 W70 47.036\\t5/20/2006 2:03:42 PM \\t15 ft\\t\\t97 ft\\t00:00:15\\t4.4 mph\\t251° true\\n',\n",
       " 'Trackpoint\\tN42 48.761 W70 47.059\\t5/20/2006 2:03:57 PM \\t11 ft\\t\\t104 ft\\t00:00:15\\t4.7 mph\\t266° true\\n',\n",
       " 'Trackpoint\\tN42 48.764 W70 47.081\\t5/20/2006 2:04:12 PM \\t8 ft\\t\\t99 ft\\t00:00:15\\t4.5 mph\\t279° true\\n',\n",
       " 'Trackpoint\\tN42 48.772 W70 47.100\\t5/20/2006 2:04:27 PM \\t10 ft\\t\\t98 ft\\t00:00:15\\t4.5 mph\\t299° true\\n',\n",
       " 'Trackpoint\\tN42 48.778 W70 47.120\\t5/20/2006 2:04:42 PM \\t11 ft\\t\\t100 ft\\t00:00:15\\t4.5 mph\\t293° true\\n',\n",
       " 'Trackpoint\\tN42 48.786 W70 47.141\\t5/20/2006 2:04:57 PM \\t10 ft\\t\\t103 ft\\t00:00:15\\t4.7 mph\\t297° true\\n',\n",
       " 'Trackpoint\\tN42 48.792 W70 47.160\\t5/20/2006 2:05:12 PM \\t8 ft\\t\\t95 ft\\t00:00:15\\t4.3 mph\\t294° true\\n',\n",
       " 'Trackpoint\\tN42 48.799 W70 47.181\\t5/20/2006 2:05:27 PM \\t8 ft\\t\\t100 ft\\t00:00:15\\t4.5 mph\\t293° true\\n',\n",
       " 'Trackpoint\\tN42 48.805 W70 47.202\\t5/20/2006 2:05:42 PM \\t8 ft\\t\\t100 ft\\t00:00:15\\t4.5 mph\\t293° true\\n',\n",
       " 'Trackpoint\\tN42 48.813 W70 47.221\\t5/20/2006 2:05:57 PM \\t7 ft\\t\\t98 ft\\t00:00:15\\t4.5 mph\\t299° true\\n',\n",
       " 'Trackpoint\\tN42 48.818 W70 47.243\\t5/20/2006 2:06:12 PM \\t7 ft\\t\\t103 ft\\t00:00:15\\t4.7 mph\\t288° true\\n',\n",
       " 'Trackpoint\\tN42 48.823 W70 47.265\\t5/20/2006 2:06:27 PM \\t8 ft\\t\\t103 ft\\t00:00:15\\t4.7 mph\\t288° true\\n',\n",
       " 'Trackpoint\\tN42 48.830 W70 47.287\\t5/20/2006 2:06:42 PM \\t8 ft\\t\\t105 ft\\t00:00:15\\t4.8 mph\\t292° true\\n',\n",
       " 'Trackpoint\\tN42 48.836 W70 47.307\\t5/20/2006 2:06:57 PM \\t7 ft\\t\\t100 ft\\t00:00:15\\t4.5 mph\\t293° true\\n',\n",
       " 'Trackpoint\\tN42 48.844 W70 47.329\\t5/20/2006 2:07:12 PM \\t7 ft\\t\\t108 ft\\t00:00:15\\t4.9 mph\\t296° true\\n',\n",
       " 'Trackpoint\\tN42 48.850 W70 47.350\\t5/20/2006 2:07:27 PM \\t2 ft\\t\\t100 ft\\t00:00:15\\t4.5 mph\\t293° true\\n',\n",
       " 'Trackpoint\\tN42 48.857 W70 47.370\\t5/20/2006 2:07:42 PM \\t5 ft\\t\\t100 ft\\t00:00:15\\t4.5 mph\\t293° true\\n',\n",
       " 'Trackpoint\\tN42 48.861 W70 47.392\\t5/20/2006 2:07:57 PM \\t4 ft\\t\\t101 ft\\t00:00:15\\t4.6 mph\\t284° true\\n',\n",
       " 'Trackpoint\\tN42 48.864 W70 47.414\\t5/20/2006 2:08:12 PM \\t5 ft\\t\\t101 ft\\t00:00:15\\t4.6 mph\\t284° true\\n',\n",
       " 'Trackpoint\\tN42 48.866 W70 47.435\\t5/20/2006 2:08:27 PM \\t2 ft\\t\\t92 ft\\t00:00:15\\t4.2 mph\\t275° true\\n',\n",
       " 'Trackpoint\\tN42 48.872 W70 47.454\\t5/20/2006 2:08:42 PM \\t4 ft\\t\\t95 ft\\t00:00:15\\t4.3 mph\\t294° true\\n',\n",
       " 'Trackpoint\\tN42 48.885 W70 47.468\\t5/20/2006 2:08:57 PM \\t5 ft\\t\\t101 ft\\t00:00:15\\t4.6 mph\\t321° true\\n',\n",
       " 'Trackpoint\\tN42 48.895 W70 47.481\\t5/20/2006 2:09:12 PM \\t5 ft\\t\\t85 ft\\t00:00:15\\t3.9 mph\\t317° true\\n',\n",
       " 'Trackpoint\\tN42 48.900 W70 47.486\\t5/20/2006 2:09:27 PM \\t4 ft\\t\\t39 ft\\t00:00:15\\t1.8 mph\\t324° true\\n',\n",
       " 'Trackpoint\\tN42 48.906 W70 47.486\\t5/20/2006 2:09:42 PM \\t7 ft\\t\\t31 ft\\t00:00:15\\t1.4 mph\\t0° true\\n',\n",
       " 'Trackpoint\\tN42 48.916 W70 47.487\\t5/20/2006 2:09:57 PM \\t4 ft\\t\\t63 ft\\t00:00:15\\t2.9 mph\\t355° true\\n',\n",
       " 'Trackpoint\\tN42 48.921 W70 47.499\\t5/20/2006 2:10:12 PM \\t5 ft\\t\\t60 ft\\t00:00:15\\t2.7 mph\\t301° true\\n',\n",
       " 'Trackpoint\\tN42 48.913 W70 47.512\\t5/20/2006 2:10:27 PM \\t5 ft\\t\\t74 ft\\t00:00:15\\t3.4 mph\\t231° true\\n',\n",
       " 'Trackpoint\\tN42 48.903 W70 47.529\\t5/20/2006 2:10:42 PM \\t10 ft\\t\\t98 ft\\t00:00:15\\t4.4 mph\\t230° true\\n',\n",
       " 'Trackpoint\\tN42 48.893 W70 47.545\\t5/20/2006 2:10:57 PM \\t10 ft\\t\\t98 ft\\t00:00:15\\t4.4 mph\\t230° true\\n',\n",
       " 'Trackpoint\\tN42 48.886 W70 47.554\\t5/20/2006 2:11:12 PM \\t10 ft\\t\\t56 ft\\t00:00:15\\t2.6 mph\\t226° true\\n',\n",
       " 'Trackpoint\\tN42 48.880 W70 47.557\\t5/20/2006 2:11:27 PM \\t10 ft\\t\\t41 ft\\t00:00:15\\t1.9 mph\\t196° true\\n',\n",
       " 'Trackpoint\\tN42 48.871 W70 47.563\\t5/20/2006 2:11:42 PM \\t8 ft\\t\\t62 ft\\t00:00:15\\t2.8 mph\\t208° true\\n',\n",
       " 'Trackpoint\\tN42 48.867 W70 47.572\\t5/20/2006 2:11:57 PM \\t7 ft\\t\\t47 ft\\t00:00:15\\t2.1 mph\\t240° true\\n',\n",
       " 'Trackpoint\\tN42 48.868 W70 47.579\\t5/20/2006 2:12:12 PM \\t8 ft\\t\\t30 ft\\t00:00:15\\t1.4 mph\\t285° true\\n',\n",
       " 'Trackpoint\\tN42 48.876 W70 47.575\\t5/20/2006 2:12:27 PM \\t10 ft\\t\\t50 ft\\t00:00:15\\t2.3 mph\\t20° true\\n',\n",
       " 'Trackpoint\\tN42 48.879 W70 47.570\\t5/20/2006 2:12:42 PM \\t10 ft\\t\\t28 ft\\t00:00:15\\t1.3 mph\\t56° true\\n',\n",
       " 'Trackpoint\\tN42 48.877 W70 47.566\\t5/20/2006 2:12:57 PM \\t13 ft\\t\\t19 ft\\t00:00:15\\t0.86 mph\\t114° true\\n',\n",
       " 'Trackpoint\\tN42 48.876 W70 47.562\\t5/20/2006 2:13:12 PM \\t11 ft\\t\\t19 ft\\t00:00:15\\t0.86 mph\\t114° true\\n',\n",
       " 'Trackpoint\\tN42 48.875 W70 47.556\\t5/20/2006 2:13:27 PM \\t11 ft\\t\\t30 ft\\t00:00:15\\t1.4 mph\\t105° true\\n',\n",
       " 'Trackpoint\\tN42 48.873 W70 47.549\\t5/20/2006 2:13:42 PM \\t13 ft\\t\\t30 ft\\t00:00:15\\t1.4 mph\\t105° true\\n',\n",
       " 'Trackpoint\\tN42 48.873 W70 47.543\\t5/20/2006 2:13:57 PM \\t13 ft\\t\\t29 ft\\t00:00:15\\t1.3 mph\\t90° true\\n',\n",
       " 'Trackpoint\\tN42 48.872 W70 47.535\\t5/20/2006 2:14:12 PM \\t15 ft\\t\\t35 ft\\t00:00:15\\t1.6 mph\\t103° true\\n',\n",
       " 'Trackpoint\\tN42 48.872 W70 47.527\\t5/20/2006 2:14:27 PM \\t15 ft\\t\\t34 ft\\t00:00:15\\t1.6 mph\\t90° true\\n',\n",
       " 'Trackpoint\\tN42 48.871 W70 47.520\\t5/20/2006 2:14:42 PM \\t13 ft\\t\\t35 ft\\t00:00:15\\t1.6 mph\\t103° true\\n',\n",
       " 'Trackpoint\\tN42 48.871 W70 47.511\\t5/20/2006 2:14:57 PM \\t15 ft\\t\\t40 ft\\t00:00:15\\t1.8 mph\\t90° true\\n',\n",
       " 'Trackpoint\\tN42 48.871 W70 47.503\\t5/20/2006 2:15:12 PM \\t15 ft\\t\\t34 ft\\t00:00:15\\t1.6 mph\\t90° true\\n',\n",
       " 'Trackpoint\\tN42 48.872 W70 47.495\\t5/20/2006 2:15:27 PM \\t16 ft\\t\\t35 ft\\t00:00:15\\t1.6 mph\\t77° true\\n',\n",
       " 'Trackpoint\\tN42 48.872 W70 47.487\\t5/20/2006 2:15:42 PM \\t15 ft\\t\\t34 ft\\t00:00:15\\t1.6 mph\\t90° true\\n',\n",
       " 'Trackpoint\\tN42 48.872 W70 47.480\\t5/20/2006 2:15:57 PM \\t15 ft\\t\\t34 ft\\t00:00:15\\t1.6 mph\\t90° true\\n',\n",
       " 'Trackpoint\\tN42 48.872 W70 47.472\\t5/20/2006 2:16:12 PM \\t15 ft\\t\\t34 ft\\t00:00:15\\t1.6 mph\\t90° true\\n',\n",
       " 'Trackpoint\\tN42 48.872 W70 47.466\\t5/20/2006 2:16:27 PM \\t11 ft\\t\\t29 ft\\t00:00:15\\t1.3 mph\\t90° true\\n',\n",
       " 'Trackpoint\\tN42 48.873 W70 47.459\\t5/20/2006 2:16:42 PM \\t10 ft\\t\\t30 ft\\t00:00:15\\t1.4 mph\\t75° true\\n',\n",
       " 'Trackpoint\\tN42 48.873 W70 47.451\\t5/20/2006 2:16:57 PM \\t11 ft\\t\\t34 ft\\t00:00:15\\t1.6 mph\\t90° true\\n',\n",
       " 'Trackpoint\\tN42 48.873 W70 47.445\\t5/20/2006 2:17:12 PM \\t11 ft\\t\\t29 ft\\t00:00:15\\t1.3 mph\\t90° true\\n',\n",
       " 'Trackpoint\\tN42 48.873 W70 47.437\\t5/20/2006 2:17:27 PM \\t15 ft\\t\\t34 ft\\t00:00:15\\t1.6 mph\\t90° true\\n',\n",
       " 'Trackpoint\\tN42 48.875 W70 47.431\\t5/20/2006 2:17:42 PM \\t13 ft\\t\\t30 ft\\t00:00:15\\t1.4 mph\\t75° true\\n',\n",
       " 'Trackpoint\\tN42 48.875 W70 47.423\\t5/20/2006 2:17:57 PM \\t10 ft\\t\\t34 ft\\t00:00:15\\t1.6 mph\\t90° true\\n',\n",
       " 'Trackpoint\\tN42 48.875 W70 47.417\\t5/20/2006 2:18:12 PM \\t10 ft\\t\\t29 ft\\t00:00:15\\t1.3 mph\\t90° true\\n',\n",
       " 'Trackpoint\\tN42 48.876 W70 47.409\\t5/20/2006 2:18:27 PM \\t8 ft\\t\\t35 ft\\t00:00:15\\t1.6 mph\\t77° true\\n',\n",
       " 'Trackpoint\\tN42 48.876 W70 47.402\\t5/20/2006 2:18:42 PM \\t10 ft\\t\\t29 ft\\t00:00:15\\t1.3 mph\\t90° true\\n',\n",
       " 'Trackpoint\\tN42 48.876 W70 47.396\\t5/20/2006 2:18:57 PM \\t13 ft\\t\\t29 ft\\t00:00:15\\t1.3 mph\\t90° true\\n',\n",
       " 'Trackpoint\\tN42 48.876 W70 47.391\\t5/20/2006 2:19:12 PM \\t16 ft\\t\\t23 ft\\t00:00:15\\t1.0 mph\\t90° true\\n',\n",
       " 'Trackpoint\\tN42 48.877 W70 47.383\\t5/20/2006 2:19:27 PM \\t16 ft\\t\\t35 ft\\t00:00:15\\t1.6 mph\\t77° true\\n',\n",
       " 'Trackpoint\\tN42 48.877 W70 47.377\\t5/20/2006 2:19:42 PM \\t15 ft\\t\\t29 ft\\t00:00:15\\t1.3 mph\\t90° true\\n',\n",
       " 'Trackpoint\\tN42 48.879 W70 47.370\\t5/20/2006 2:19:57 PM \\t15 ft\\t\\t30 ft\\t00:00:15\\t1.4 mph\\t75° true\\n',\n",
       " 'Trackpoint\\tN42 48.879 W70 47.364\\t5/20/2006 2:20:12 PM \\t16 ft\\t\\t29 ft\\t00:00:15\\t1.3 mph\\t90° true\\n',\n",
       " 'Trackpoint\\tN42 48.879 W70 47.356\\t5/20/2006 2:20:27 PM \\t13 ft\\t\\t34 ft\\t00:00:15\\t1.6 mph\\t90° true\\n',\n",
       " 'Trackpoint\\tN42 48.880 W70 47.350\\t5/20/2006 2:20:42 PM \\t13 ft\\t\\t30 ft\\t00:00:15\\t1.4 mph\\t75° true\\n',\n",
       " 'Trackpoint\\tN42 48.880 W70 47.343\\t5/20/2006 2:20:57 PM \\t11 ft\\t\\t29 ft\\t00:00:15\\t1.3 mph\\t90° true\\n',\n",
       " 'Trackpoint\\tN42 48.880 W70 47.337\\t5/20/2006 2:21:12 PM \\t13 ft\\t\\t29 ft\\t00:00:15\\t1.3 mph\\t90° true\\n',\n",
       " 'Trackpoint\\tN42 48.880 W70 47.330\\t5/20/2006 2:21:27 PM \\t15 ft\\t\\t29 ft\\t00:00:15\\t1.3 mph\\t90° true\\n',\n",
       " 'Trackpoint\\tN42 48.880 W70 47.324\\t5/20/2006 2:21:42 PM \\t15 ft\\t\\t29 ft\\t00:00:15\\t1.3 mph\\t90° true\\n',\n",
       " 'Trackpoint\\tN42 48.881 W70 47.317\\t5/20/2006 2:21:57 PM \\t15 ft\\t\\t30 ft\\t00:00:15\\t1.4 mph\\t75° true\\n',\n",
       " 'Trackpoint\\tN42 48.881 W70 47.311\\t5/20/2006 2:22:12 PM \\t13 ft\\t\\t29 ft\\t00:00:15\\t1.3 mph\\t90° true\\n',\n",
       " 'Trackpoint\\tN42 48.881 W70 47.305\\t5/20/2006 2:22:27 PM \\t15 ft\\t\\t29 ft\\t00:00:15\\t1.3 mph\\t90° true\\n',\n",
       " 'Trackpoint\\tN42 48.881 W70 47.297\\t5/20/2006 2:22:42 PM \\t16 ft\\t\\t34 ft\\t00:00:15\\t1.6 mph\\t90° true\\n',\n",
       " 'Trackpoint\\tN42 48.881 W70 47.290\\t5/20/2006 2:22:57 PM \\t15 ft\\t\\t29 ft\\t00:00:15\\t1.3 mph\\t90° true\\n',\n",
       " 'Trackpoint\\tN42 48.882 W70 47.283\\t5/20/2006 2:23:13 PM \\t13 ft\\t\\t35 ft\\t00:00:16\\t1.5 mph\\t77° true\\n',\n",
       " 'Trackpoint\\tN42 48.882 W70 47.276\\t5/20/2006 2:23:28 PM \\t13 ft\\t\\t29 ft\\t00:00:15\\t1.3 mph\\t90° true\\n',\n",
       " 'Trackpoint\\tN42 48.881 W70 47.270\\t5/20/2006 2:23:43 PM \\t11 ft\\t\\t30 ft\\t00:00:15\\t1.4 mph\\t105° true\\n',\n",
       " 'Trackpoint\\tN42 48.882 W70 47.263\\t5/20/2006 2:23:58 PM \\t11 ft\\t\\t30 ft\\t00:00:15\\t1.4 mph\\t75° true\\n',\n",
       " 'Trackpoint\\tN42 48.888 W70 47.251\\t5/20/2006 2:24:13 PM \\t11 ft\\t\\t65 ft\\t00:00:15\\t3.0 mph\\t61° true\\n',\n",
       " 'Trackpoint\\tN42 48.898 W70 47.244\\t5/20/2006 2:24:28 PM \\t10 ft\\t\\t69 ft\\t00:00:15\\t3.1 mph\\t25° true\\n',\n",
       " 'Trackpoint\\tN42 48.907 W70 47.253\\t5/20/2006 2:24:43 PM \\t11 ft\\t\\t68 ft\\t00:00:15\\t3.1 mph\\t324° true\\n',\n",
       " 'Trackpoint\\tN42 48.908 W70 47.272\\t5/20/2006 2:24:58 PM \\t10 ft\\t\\t87 ft\\t00:00:15\\t3.9 mph\\t275° true\\n',\n",
       " 'Trackpoint\\tN42 48.915 W70 47.294\\t5/20/2006 2:25:13 PM \\t13 ft\\t\\t105 ft\\t00:00:15\\t4.8 mph\\t292° true\\n',\n",
       " 'Trackpoint\\tN42 48.920 W70 47.317\\t5/20/2006 2:25:28 PM \\t15 ft\\t\\t108 ft\\t00:00:15\\t4.9 mph\\t287° true\\n',\n",
       " 'Trackpoint\\tN42 48.922 W70 47.341\\t5/20/2006 2:25:43 PM \\t13 ft\\t\\t105 ft\\t00:00:15\\t4.8 mph\\t279° true\\n',\n",
       " 'Trackpoint\\tN42 48.926 W70 47.364\\t5/20/2006 2:25:58 PM \\t11 ft\\t\\t106 ft\\t00:00:15\\t4.8 mph\\t283° true\\n',\n",
       " 'Trackpoint\\tN42 48.930 W70 47.387\\t5/20/2006 2:26:13 PM \\t15 ft\\t\\t106 ft\\t00:00:15\\t4.8 mph\\t283° true\\n',\n",
       " 'Trackpoint\\tN42 48.934 W70 47.411\\t5/20/2006 2:26:28 PM \\t15 ft\\t\\t112 ft\\t00:00:15\\t5.1 mph\\t282° true\\n',\n",
       " 'Trackpoint\\tN42 48.939 W70 47.435\\t5/20/2006 2:26:43 PM \\t18 ft\\t\\t108 ft\\t00:00:15\\t4.9 mph\\t287° true\\n',\n",
       " 'Trackpoint\\tN42 48.942 W70 47.457\\t5/20/2006 2:26:58 PM \\t16 ft\\t\\t99 ft\\t00:00:15\\t4.5 mph\\t279° true\\n',\n",
       " 'Trackpoint\\tN42 48.942 W70 47.477\\t5/20/2006 2:27:13 PM \\t15 ft\\t\\t92 ft\\t00:00:15\\t4.2 mph\\t270° true\\n',\n",
       " 'Trackpoint\\tN42 48.934 W70 47.487\\t5/20/2006 2:27:28 PM \\t15 ft\\t\\t66 ft\\t00:00:15\\t3.0 mph\\t224° true\\n',\n",
       " 'Trackpoint\\tN42 48.926 W70 47.489\\t5/20/2006 2:27:43 PM \\t16 ft\\t\\t47 ft\\t00:00:15\\t2.2 mph\\t187° true\\n',\n",
       " 'Trackpoint\\tN42 48.922 W70 47.485\\t5/20/2006 2:27:58 PM \\t13 ft\\t\\t29 ft\\t00:00:15\\t1.3 mph\\t144° true\\n',\n",
       " 'Trackpoint\\tN42 48.921 W70 47.478\\t5/20/2006 2:28:13 PM \\t8 ft\\t\\t30 ft\\t00:00:15\\t1.4 mph\\t105° true\\n',\n",
       " 'Trackpoint\\tN42 48.921 W70 47.471\\t5/20/2006 2:28:28 PM \\t7 ft\\t\\t34 ft\\t00:00:15\\t1.6 mph\\t90° true\\n',\n",
       " 'Trackpoint\\tN42 48.920 W70 47.463\\t5/20/2006 2:28:43 PM \\t8 ft\\t\\t35 ft\\t00:00:15\\t1.6 mph\\t103° true\\n',\n",
       " 'Trackpoint\\tN42 48.919 W70 47.457\\t5/20/2006 2:28:58 PM \\t7 ft\\t\\t30 ft\\t00:00:15\\t1.4 mph\\t105° true\\n',\n",
       " 'Trackpoint\\tN42 48.917 W70 47.449\\t5/20/2006 2:29:13 PM \\t7 ft\\t\\t35 ft\\t00:00:15\\t1.6 mph\\t103° true\\n',\n",
       " 'Trackpoint\\tN42 48.916 W70 47.441\\t5/20/2006 2:29:28 PM \\t8 ft\\t\\t35 ft\\t00:00:15\\t1.6 mph\\t103° true\\n',\n",
       " 'Trackpoint\\tN42 48.915 W70 47.433\\t5/20/2006 2:29:43 PM \\t7 ft\\t\\t35 ft\\t00:00:15\\t1.6 mph\\t103° true\\n',\n",
       " 'Trackpoint\\tN42 48.913 W70 47.426\\t5/20/2006 2:29:58 PM \\t8 ft\\t\\t35 ft\\t00:00:15\\t1.6 mph\\t103° true\\n',\n",
       " 'Trackpoint\\tN42 48.912 W70 47.417\\t5/20/2006 2:30:13 PM \\t8 ft\\t\\t41 ft\\t00:00:15\\t1.9 mph\\t101° true\\n',\n",
       " 'Trackpoint\\tN42 48.911 W70 47.409\\t5/20/2006 2:30:28 PM \\t7 ft\\t\\t35 ft\\t00:00:15\\t1.6 mph\\t103° true\\n',\n",
       " 'Trackpoint\\tN42 48.910 W70 47.401\\t5/20/2006 2:30:43 PM \\t11 ft\\t\\t35 ft\\t00:00:15\\t1.6 mph\\t103° true\\n',\n",
       " 'Trackpoint\\tN42 48.908 W70 47.392\\t5/20/2006 2:30:58 PM \\t8 ft\\t\\t41 ft\\t00:00:15\\t1.9 mph\\t101° true\\n',\n",
       " 'Trackpoint\\tN42 48.906 W70 47.386\\t5/20/2006 2:31:13 PM \\t10 ft\\t\\t33 ft\\t00:00:15\\t1.5 mph\\t119° true\\n',\n",
       " 'Trackpoint\\tN42 48.904 W70 47.377\\t5/20/2006 2:31:28 PM \\t8 ft\\t\\t41 ft\\t00:00:15\\t1.9 mph\\t101° true\\n',\n",
       " 'Trackpoint\\tN42 48.902 W70 47.369\\t5/20/2006 2:31:43 PM \\t8 ft\\t\\t38 ft\\t00:00:15\\t1.7 mph\\t114° true\\n',\n",
       " 'Trackpoint\\tN42 48.900 W70 47.361\\t5/20/2006 2:31:58 PM \\t7 ft\\t\\t35 ft\\t00:00:15\\t1.6 mph\\t103° true\\n',\n",
       " 'Trackpoint\\tN42 48.899 W70 47.352\\t5/20/2006 2:32:13 PM \\t7 ft\\t\\t41 ft\\t00:00:15\\t1.9 mph\\t101° true\\n',\n",
       " 'Trackpoint\\tN42 48.897 W70 47.344\\t5/20/2006 2:32:28 PM \\t7 ft\\t\\t38 ft\\t00:00:15\\t1.7 mph\\t114° true\\n',\n",
       " 'Trackpoint\\tN42 48.895 W70 47.335\\t5/20/2006 2:32:43 PM \\t5 ft\\t\\t41 ft\\t00:00:15\\t1.9 mph\\t101° true\\n',\n",
       " 'Trackpoint\\tN42 48.894 W70 47.328\\t5/20/2006 2:32:58 PM \\t5 ft\\t\\t35 ft\\t00:00:15\\t1.6 mph\\t103° true\\n',\n",
       " 'Trackpoint\\tN42 48.893 W70 47.320\\t5/20/2006 2:33:13 PM \\t5 ft\\t\\t35 ft\\t00:00:15\\t1.6 mph\\t103° true\\n',\n",
       " 'Trackpoint\\tN42 48.890 W70 47.312\\t5/20/2006 2:33:28 PM \\t7 ft\\t\\t38 ft\\t00:00:15\\t1.7 mph\\t114° true\\n',\n",
       " 'Trackpoint\\tN42 48.890 W70 47.306\\t5/20/2006 2:33:43 PM \\t8 ft\\t\\t29 ft\\t00:00:15\\t1.3 mph\\t90° true\\n',\n",
       " 'Trackpoint\\tN42 48.889 W70 47.297\\t5/20/2006 2:33:58 PM \\t7 ft\\t\\t41 ft\\t00:00:15\\t1.9 mph\\t101° true\\n',\n",
       " 'Trackpoint\\tN42 48.888 W70 47.290\\t5/20/2006 2:34:13 PM \\t7 ft\\t\\t30 ft\\t00:00:15\\t1.4 mph\\t105° true\\n',\n",
       " 'Trackpoint\\tN42 48.886 W70 47.283\\t5/20/2006 2:34:28 PM \\t5 ft\\t\\t35 ft\\t00:00:15\\t1.6 mph\\t103° true\\n',\n",
       " 'Trackpoint\\tN42 48.885 W70 47.275\\t5/20/2006 2:34:43 PM \\t7 ft\\t\\t35 ft\\t00:00:15\\t1.6 mph\\t103° true\\n',\n",
       " 'Trackpoint\\tN42 48.884 W70 47.267\\t5/20/2006 2:34:58 PM \\t7 ft\\t\\t35 ft\\t00:00:15\\t1.6 mph\\t103° true\\n',\n",
       " 'Trackpoint\\tN42 48.882 W70 47.260\\t5/20/2006 2:35:13 PM \\t5 ft\\t\\t35 ft\\t00:00:15\\t1.6 mph\\t103° true\\n',\n",
       " 'Trackpoint\\tN42 48.881 W70 47.252\\t5/20/2006 2:35:28 PM \\t7 ft\\t\\t35 ft\\t00:00:15\\t1.6 mph\\t103° true\\n',\n",
       " 'Trackpoint\\tN42 48.880 W70 47.244\\t5/20/2006 2:35:43 PM \\t5 ft\\t\\t35 ft\\t00:00:15\\t1.6 mph\\t103° true\\n',\n",
       " 'Trackpoint\\tN42 48.879 W70 47.236\\t5/20/2006 2:35:58 PM \\t5 ft\\t\\t35 ft\\t00:00:15\\t1.6 mph\\t103° true\\n',\n",
       " 'Trackpoint\\tN42 48.879 W70 47.227\\t5/20/2006 2:36:13 PM \\t4 ft\\t\\t40 ft\\t00:00:15\\t1.8 mph\\t90° true\\n',\n",
       " 'Trackpoint\\tN42 48.877 W70 47.220\\t5/20/2006 2:36:28 PM \\t7 ft\\t\\t35 ft\\t00:00:15\\t1.6 mph\\t103° true\\n',\n",
       " 'Trackpoint\\tN42 48.876 W70 47.212\\t5/20/2006 2:36:43 PM \\t7 ft\\t\\t35 ft\\t00:00:15\\t1.6 mph\\t103° true\\n',\n",
       " 'Trackpoint\\tN42 48.875 W70 47.205\\t5/20/2006 2:36:58 PM \\t5 ft\\t\\t30 ft\\t00:00:15\\t1.4 mph\\t105° true\\n',\n",
       " 'Trackpoint\\tN42 48.873 W70 47.199\\t5/20/2006 2:37:13 PM \\t4 ft\\t\\t30 ft\\t00:00:15\\t1.4 mph\\t105° true\\n',\n",
       " 'Trackpoint\\tN42 48.872 W70 47.191\\t5/20/2006 2:37:28 PM \\t5 ft\\t\\t35 ft\\t00:00:15\\t1.6 mph\\t103° true\\n',\n",
       " 'Trackpoint\\tN42 48.871 W70 47.185\\t5/20/2006 2:37:43 PM \\t4 ft\\t\\t30 ft\\t00:00:15\\t1.4 mph\\t105° true\\n',\n",
       " 'Trackpoint\\tN42 48.870 W70 47.177\\t5/20/2006 2:37:58 PM \\t7 ft\\t\\t35 ft\\t00:00:15\\t1.6 mph\\t103° true\\n',\n",
       " 'Trackpoint\\tN42 48.867 W70 47.169\\t5/20/2006 2:38:13 PM \\t7 ft\\t\\t38 ft\\t00:00:15\\t1.7 mph\\t114° true\\n',\n",
       " 'Trackpoint\\tN42 48.866 W70 47.163\\t5/20/2006 2:38:28 PM \\t7 ft\\t\\t30 ft\\t00:00:15\\t1.4 mph\\t105° true\\n',\n",
       " 'Trackpoint\\tN42 48.864 W70 47.155\\t5/20/2006 2:38:43 PM \\t5 ft\\t\\t35 ft\\t00:00:15\\t1.6 mph\\t103° true\\n',\n",
       " 'Trackpoint\\tN42 48.863 W70 47.148\\t5/20/2006 2:38:58 PM \\t7 ft\\t\\t35 ft\\t00:00:15\\t1.6 mph\\t103° true\\n',\n",
       " 'Trackpoint\\tN42 48.862 W70 47.140\\t5/20/2006 2:39:14 PM \\t7 ft\\t\\t35 ft\\t00:00:16\\t1.5 mph\\t103° true\\n',\n",
       " 'Trackpoint\\tN42 48.861 W70 47.133\\t5/20/2006 2:39:29 PM \\t8 ft\\t\\t30 ft\\t00:00:15\\t1.4 mph\\t105° true\\n',\n",
       " 'Trackpoint\\tN42 48.859 W70 47.126\\t5/20/2006 2:39:44 PM \\t8 ft\\t\\t35 ft\\t00:00:15\\t1.6 mph\\t103° true\\n',\n",
       " 'Trackpoint\\tN42 48.858 W70 47.118\\t5/20/2006 2:39:59 PM \\t8 ft\\t\\t35 ft\\t00:00:15\\t1.6 mph\\t103° true\\n',\n",
       " 'Trackpoint\\tN42 48.857 W70 47.110\\t5/20/2006 2:40:14 PM \\t10 ft\\t\\t35 ft\\t00:00:15\\t1.6 mph\\t103° true\\n',\n",
       " 'Trackpoint\\tN42 48.855 W70 47.102\\t5/20/2006 2:40:29 PM \\t7 ft\\t\\t35 ft\\t00:00:15\\t1.6 mph\\t103° true\\n',\n",
       " 'Trackpoint\\tN42 48.854 W70 47.096\\t5/20/2006 2:40:44 PM \\t5 ft\\t\\t30 ft\\t00:00:15\\t1.4 mph\\t105° true\\n',\n",
       " 'Trackpoint\\tN42 48.853 W70 47.087\\t5/20/2006 2:40:59 PM \\t8 ft\\t\\t41 ft\\t00:00:15\\t1.9 mph\\t101° true\\n',\n",
       " 'Trackpoint\\tN42 48.852 W70 47.081\\t5/20/2006 2:41:14 PM \\t7 ft\\t\\t30 ft\\t00:00:15\\t1.4 mph\\t105° true\\n',\n",
       " 'Trackpoint\\tN42 48.850 W70 47.073\\t5/20/2006 2:41:29 PM \\t8 ft\\t\\t35 ft\\t00:00:15\\t1.6 mph\\t103° true\\n',\n",
       " 'Trackpoint\\tN42 48.849 W70 47.065\\t5/20/2006 2:41:44 PM \\t5 ft\\t\\t35 ft\\t00:00:15\\t1.6 mph\\t103° true\\n',\n",
       " 'Trackpoint\\tN42 48.848 W70 47.057\\t5/20/2006 2:41:59 PM \\t8 ft\\t\\t35 ft\\t00:00:15\\t1.6 mph\\t103° true\\n',\n",
       " 'Trackpoint\\tN42 48.846 W70 47.048\\t5/20/2006 2:42:15 PM \\t7 ft\\t\\t41 ft\\t00:00:16\\t1.7 mph\\t101° true\\n',\n",
       " 'Trackpoint\\tN42 48.845 W70 47.041\\t5/20/2006 2:42:30 PM \\t7 ft\\t\\t35 ft\\t00:00:15\\t1.6 mph\\t103° true\\n',\n",
       " 'Trackpoint\\tN42 48.844 W70 47.034\\t5/20/2006 2:42:45 PM \\t8 ft\\t\\t30 ft\\t00:00:15\\t1.4 mph\\t105° true\\n',\n",
       " 'Trackpoint\\tN42 48.843 W70 47.026\\t5/20/2006 2:43:00 PM \\t7 ft\\t\\t35 ft\\t00:00:15\\t1.6 mph\\t103° true\\n',\n",
       " 'Trackpoint\\tN42 48.840 W70 47.019\\t5/20/2006 2:43:15 PM \\t8 ft\\t\\t38 ft\\t00:00:15\\t1.7 mph\\t114° true\\n',\n",
       " 'Trackpoint\\tN42 48.839 W70 47.011\\t5/20/2006 2:43:30 PM \\t8 ft\\t\\t35 ft\\t00:00:15\\t1.6 mph\\t103° true\\n',\n",
       " 'Trackpoint\\tN42 48.837 W70 47.003\\t5/20/2006 2:43:45 PM \\t10 ft\\t\\t35 ft\\t00:00:15\\t1.6 mph\\t103° true\\n',\n",
       " 'Trackpoint\\tN42 48.835 W70 46.996\\t5/20/2006 2:44:00 PM \\t8 ft\\t\\t38 ft\\t00:00:15\\t1.7 mph\\t114° true\\n',\n",
       " 'Trackpoint\\tN42 48.834 W70 46.987\\t5/20/2006 2:44:15 PM \\t10 ft\\t\\t41 ft\\t00:00:15\\t1.9 mph\\t101° true\\n',\n",
       " 'Trackpoint\\tN42 48.832 W70 46.980\\t5/20/2006 2:44:30 PM \\t11 ft\\t\\t30 ft\\t00:00:15\\t1.4 mph\\t105° true\\n',\n",
       " 'Trackpoint\\tN42 48.831 W70 46.972\\t5/20/2006 2:44:45 PM \\t10 ft\\t\\t35 ft\\t00:00:15\\t1.6 mph\\t103° true\\n',\n",
       " 'Trackpoint\\tN42 48.830 W70 46.965\\t5/20/2006 2:45:00 PM \\t8 ft\\t\\t35 ft\\t00:00:15\\t1.6 mph\\t103° true\\n',\n",
       " 'Trackpoint\\tN42 48.828 W70 46.958\\t5/20/2006 2:45:15 PM \\t7 ft\\t\\t30 ft\\t00:00:15\\t1.4 mph\\t105° true\\n',\n",
       " 'Trackpoint\\tN42 48.827 W70 46.952\\t5/20/2006 2:45:30 PM \\t10 ft\\t\\t30 ft\\t00:00:15\\t1.4 mph\\t105° true\\n',\n",
       " 'Trackpoint\\tN42 48.826 W70 46.945\\t5/20/2006 2:45:45 PM \\t10 ft\\t\\t30 ft\\t00:00:15\\t1.4 mph\\t105° true\\n',\n",
       " 'Trackpoint\\tN42 48.825 W70 46.939\\t5/20/2006 2:46:00 PM \\t8 ft\\t\\t30 ft\\t00:00:15\\t1.4 mph\\t105° true\\n',\n",
       " 'Trackpoint\\tN42 48.823 W70 46.934\\t5/20/2006 2:46:15 PM \\t5 ft\\t\\t24 ft\\t00:00:15\\t1.1 mph\\t109° true\\n',\n",
       " 'Trackpoint\\tN42 48.822 W70 46.929\\t5/20/2006 2:46:30 PM \\t8 ft\\t\\t24 ft\\t00:00:15\\t1.1 mph\\t109° true\\n',\n",
       " 'Trackpoint\\tN42 48.822 W70 46.922\\t5/20/2006 2:46:45 PM \\t8 ft\\t\\t29 ft\\t00:00:15\\t1.3 mph\\t90° true\\n',\n",
       " 'Trackpoint\\tN42 48.821 W70 46.916\\t5/20/2006 2:47:00 PM \\t8 ft\\t\\t30 ft\\t00:00:15\\t1.4 mph\\t105° true\\n',\n",
       " 'Trackpoint\\tN42 48.819 W70 46.911\\t5/20/2006 2:47:15 PM \\t8 ft\\t\\t24 ft\\t00:00:15\\t1.1 mph\\t109° true\\n',\n",
       " 'Trackpoint\\tN42 48.818 W70 46.904\\t5/20/2006 2:47:30 PM \\t8 ft\\t\\t30 ft\\t00:00:15\\t1.4 mph\\t105° true\\n',\n",
       " 'Trackpoint\\tN42 48.817 W70 46.898\\t5/20/2006 2:47:45 PM \\t8 ft\\t\\t30 ft\\t00:00:15\\t1.4 mph\\t105° true\\n',\n",
       " 'Trackpoint\\tN42 48.816 W70 46.891\\t5/20/2006 2:48:00 PM \\t10 ft\\t\\t30 ft\\t00:00:15\\t1.4 mph\\t105° true\\n',\n",
       " 'Trackpoint\\tN42 48.814 W70 46.885\\t5/20/2006 2:48:15 PM \\t11 ft\\t\\t30 ft\\t00:00:15\\t1.4 mph\\t105° true\\n',\n",
       " 'Trackpoint\\tN42 48.812 W70 46.878\\t5/20/2006 2:48:30 PM \\t11 ft\\t\\t33 ft\\t00:00:15\\t1.5 mph\\t119° true\\n',\n",
       " 'Trackpoint\\tN42 48.810 W70 46.872\\t5/20/2006 2:48:45 PM \\t13 ft\\t\\t30 ft\\t00:00:15\\t1.4 mph\\t105° true\\n',\n",
       " 'Trackpoint\\tN42 48.809 W70 46.866\\t5/20/2006 2:49:00 PM \\t13 ft\\t\\t30 ft\\t00:00:15\\t1.4 mph\\t105° true\\n',\n",
       " 'Trackpoint\\tN42 48.808 W70 46.859\\t5/20/2006 2:49:15 PM \\t13 ft\\t\\t30 ft\\t00:00:15\\t1.4 mph\\t105° true\\n',\n",
       " 'Trackpoint\\tN42 48.805 W70 46.854\\t5/20/2006 2:49:30 PM \\t11 ft\\t\\t28 ft\\t00:00:15\\t1.3 mph\\t124° true\\n',\n",
       " 'Trackpoint\\tN42 48.804 W70 46.848\\t5/20/2006 2:49:45 PM \\t10 ft\\t\\t30 ft\\t00:00:15\\t1.4 mph\\t105° true\\n',\n",
       " 'Trackpoint\\tN42 48.803 W70 46.840\\t5/20/2006 2:50:00 PM \\t8 ft\\t\\t35 ft\\t00:00:15\\t1.6 mph\\t103° true\\n',\n",
       " 'Trackpoint\\tN42 48.801 W70 46.833\\t5/20/2006 2:50:15 PM \\t8 ft\\t\\t30 ft\\t00:00:15\\t1.4 mph\\t105° true\\n',\n",
       " 'Trackpoint\\tN42 48.800 W70 46.827\\t5/20/2006 2:50:30 PM \\t10 ft\\t\\t30 ft\\t00:00:15\\t1.4 mph\\t105° true\\n',\n",
       " 'Trackpoint\\tN42 48.799 W70 46.820\\t5/20/2006 2:50:45 PM \\t10 ft\\t\\t30 ft\\t00:00:15\\t1.4 mph\\t105° true\\n',\n",
       " 'Trackpoint\\tN42 48.797 W70 46.814\\t5/20/2006 2:51:00 PM \\t10 ft\\t\\t30 ft\\t00:00:15\\t1.4 mph\\t105° true\\n',\n",
       " 'Trackpoint\\tN42 48.796 W70 46.808\\t5/20/2006 2:51:15 PM \\t8 ft\\t\\t30 ft\\t00:00:15\\t1.4 mph\\t105° true\\n',\n",
       " 'Trackpoint\\tN42 48.794 W70 46.801\\t5/20/2006 2:51:30 PM \\t8 ft\\t\\t33 ft\\t00:00:15\\t1.5 mph\\t119° true\\n',\n",
       " 'Trackpoint\\tN42 48.792 W70 46.795\\t5/20/2006 2:51:45 PM \\t7 ft\\t\\t30 ft\\t00:00:15\\t1.4 mph\\t105° true\\n',\n",
       " 'Trackpoint\\tN42 48.791 W70 46.790\\t5/20/2006 2:52:00 PM \\t8 ft\\t\\t24 ft\\t00:00:15\\t1.1 mph\\t109° true\\n',\n",
       " 'Trackpoint\\tN42 48.790 W70 46.783\\t5/20/2006 2:52:15 PM \\t8 ft\\t\\t30 ft\\t00:00:15\\t1.4 mph\\t105° true\\n',\n",
       " 'Trackpoint\\tN42 48.790 W70 46.778\\t5/20/2006 2:52:30 PM \\t7 ft\\t\\t23 ft\\t00:00:15\\t1.0 mph\\t90° true\\n',\n",
       " 'Trackpoint\\tN42 48.788 W70 46.772\\t5/20/2006 2:52:45 PM \\t8 ft\\t\\t30 ft\\t00:00:15\\t1.4 mph\\t105° true\\n',\n",
       " 'Trackpoint\\tN42 48.786 W70 46.765\\t5/20/2006 2:53:01 PM \\t10 ft\\t\\t33 ft\\t00:00:16\\t1.4 mph\\t119° true\\n',\n",
       " 'Trackpoint\\tN42 48.786 W70 46.759\\t5/20/2006 2:53:16 PM \\t10 ft\\t\\t29 ft\\t00:00:15\\t1.3 mph\\t90° true\\n',\n",
       " 'Trackpoint\\tN42 48.785 W70 46.754\\t5/20/2006 2:53:31 PM \\t10 ft\\t\\t24 ft\\t00:00:15\\t1.1 mph\\t109° true\\n',\n",
       " 'Trackpoint\\tN42 48.783 W70 46.747\\t5/20/2006 2:53:46 PM \\t10 ft\\t\\t30 ft\\t00:00:15\\t1.4 mph\\t105° true\\n',\n",
       " 'Trackpoint\\tN42 48.782 W70 46.742\\t5/20/2006 2:54:01 PM \\t11 ft\\t\\t24 ft\\t00:00:15\\t1.1 mph\\t109° true\\n',\n",
       " 'Trackpoint\\tN42 48.781 W70 46.736\\t5/20/2006 2:54:16 PM \\t11 ft\\t\\t30 ft\\t00:00:15\\t1.4 mph\\t105° true\\n',\n",
       " 'Trackpoint\\tN42 48.779 W70 46.730\\t5/20/2006 2:54:31 PM \\t11 ft\\t\\t24 ft\\t00:00:15\\t1.1 mph\\t109° true\\n',\n",
       " 'Trackpoint\\tN42 48.779 W70 46.724\\t5/20/2006 2:54:46 PM \\t11 ft\\t\\t29 ft\\t00:00:15\\t1.3 mph\\t90° true\\n',\n",
       " 'Trackpoint\\tN42 48.778 W70 46.719\\t5/20/2006 2:55:01 PM \\t11 ft\\t\\t24 ft\\t00:00:15\\t1.1 mph\\t109° true\\n',\n",
       " 'Trackpoint\\tN42 48.776 W70 46.712\\t5/20/2006 2:55:16 PM \\t11 ft\\t\\t33 ft\\t00:00:15\\t1.5 mph\\t119° true\\n',\n",
       " 'Trackpoint\\tN42 48.774 W70 46.706\\t5/20/2006 2:55:31 PM \\t13 ft\\t\\t30 ft\\t00:00:15\\t1.4 mph\\t105° true\\n',\n",
       " 'Trackpoint\\tN42 48.773 W70 46.699\\t5/20/2006 2:55:46 PM \\t11 ft\\t\\t30 ft\\t00:00:15\\t1.4 mph\\t105° true\\n',\n",
       " 'Trackpoint\\tN42 48.772 W70 46.693\\t5/20/2006 2:56:01 PM \\t11 ft\\t\\t30 ft\\t00:00:15\\t1.4 mph\\t105° true\\n',\n",
       " 'Trackpoint\\tN42 48.770 W70 46.687\\t5/20/2006 2:56:16 PM \\t10 ft\\t\\t30 ft\\t00:00:15\\t1.4 mph\\t105° true\\n',\n",
       " 'Trackpoint\\tN42 48.769 W70 46.681\\t5/20/2006 2:56:31 PM \\t11 ft\\t\\t24 ft\\t00:00:15\\t1.1 mph\\t109° true\\n',\n",
       " 'Trackpoint\\tN42 48.768 W70 46.675\\t5/20/2006 2:56:46 PM \\t10 ft\\t\\t30 ft\\t00:00:15\\t1.4 mph\\t105° true\\n',\n",
       " 'Trackpoint\\tN42 48.767 W70 46.669\\t5/20/2006 2:57:01 PM \\t13 ft\\t\\t30 ft\\t00:00:15\\t1.4 mph\\t105° true\\n',\n",
       " 'Trackpoint\\tN42 48.765 W70 46.662\\t5/20/2006 2:57:16 PM \\t10 ft\\t\\t30 ft\\t00:00:15\\t1.4 mph\\t105° true\\n',\n",
       " 'Trackpoint\\tN42 48.764 W70 46.656\\t5/20/2006 2:57:31 PM \\t11 ft\\t\\t30 ft\\t00:00:15\\t1.4 mph\\t105° true\\n',\n",
       " 'Trackpoint\\tN42 48.763 W70 46.651\\t5/20/2006 2:57:46 PM \\t10 ft\\t\\t24 ft\\t00:00:15\\t1.1 mph\\t109° true\\n',\n",
       " 'Trackpoint\\tN42 48.760 W70 46.644\\t5/20/2006 2:58:01 PM \\t13 ft\\t\\t33 ft\\t00:00:15\\t1.5 mph\\t119° true\\n',\n",
       " 'Trackpoint\\tN42 48.759 W70 46.639\\t5/20/2006 2:58:16 PM \\t13 ft\\t\\t24 ft\\t00:00:15\\t1.1 mph\\t109° true\\n',\n",
       " 'Trackpoint\\tN42 48.758 W70 46.633\\t5/20/2006 2:58:31 PM \\t13 ft\\t\\t30 ft\\t00:00:15\\t1.4 mph\\t105° true\\n',\n",
       " 'Trackpoint\\tN42 48.756 W70 46.627\\t5/20/2006 2:58:46 PM \\t11 ft\\t\\t24 ft\\t00:00:15\\t1.1 mph\\t109° true\\n',\n",
       " 'Trackpoint\\tN42 48.755 W70 46.621\\t5/20/2006 2:59:01 PM \\t10 ft\\t\\t30 ft\\t00:00:15\\t1.4 mph\\t105° true\\n',\n",
       " 'Trackpoint\\tN42 48.754 W70 46.616\\t5/20/2006 2:59:16 PM \\t8 ft\\t\\t24 ft\\t00:00:15\\t1.1 mph\\t109° true\\n',\n",
       " 'Trackpoint\\tN42 48.752 W70 46.609\\t5/20/2006 2:59:31 PM \\t11 ft\\t\\t30 ft\\t00:00:15\\t1.4 mph\\t105° true\\n',\n",
       " 'Trackpoint\\tN42 48.751 W70 46.603\\t5/20/2006 2:59:46 PM \\t8 ft\\t\\t30 ft\\t00:00:15\\t1.4 mph\\t105° true\\n',\n",
       " 'Trackpoint\\tN42 48.749 W70 46.598\\t5/20/2006 3:00:01 PM \\t8 ft\\t\\t28 ft\\t00:00:15\\t1.3 mph\\t124° true\\n',\n",
       " 'Trackpoint\\tN42 48.747 W70 46.591\\t5/20/2006 3:00:16 PM \\t10 ft\\t\\t30 ft\\t00:00:15\\t1.4 mph\\t105° true\\n',\n",
       " 'Trackpoint\\tN42 48.746 W70 46.586\\t5/20/2006 3:00:31 PM \\t10 ft\\t\\t24 ft\\t00:00:15\\t1.1 mph\\t109° true\\n',\n",
       " 'Trackpoint\\tN42 48.745 W70 46.580\\t5/20/2006 3:00:46 PM \\t8 ft\\t\\t30 ft\\t00:00:15\\t1.4 mph\\t105° true\\n',\n",
       " 'Trackpoint\\tN42 48.743 W70 46.575\\t5/20/2006 3:01:01 PM \\t10 ft\\t\\t24 ft\\t00:00:15\\t1.1 mph\\t109° true\\n',\n",
       " 'Trackpoint\\tN42 48.742 W70 46.568\\t5/20/2006 3:01:16 PM \\t10 ft\\t\\t30 ft\\t00:00:15\\t1.4 mph\\t105° true\\n',\n",
       " 'Trackpoint\\tN42 48.742 W70 46.563\\t5/20/2006 3:01:31 PM \\t8 ft\\t\\t23 ft\\t00:00:15\\t1.0 mph\\t90° true\\n',\n",
       " 'Trackpoint\\tN42 48.740 W70 46.557\\t5/20/2006 3:01:46 PM \\t8 ft\\t\\t33 ft\\t00:00:15\\t1.5 mph\\t119° true\\n',\n",
       " 'Trackpoint\\tN42 48.738 W70 46.550\\t5/20/2006 3:02:01 PM \\t10 ft\\t\\t30 ft\\t00:00:15\\t1.4 mph\\t105° true\\n',\n",
       " 'Trackpoint\\tN42 48.737 W70 46.544\\t5/20/2006 3:02:16 PM \\t10 ft\\t\\t30 ft\\t00:00:15\\t1.4 mph\\t105° true\\n',\n",
       " 'Trackpoint\\tN42 48.736 W70 46.539\\t5/20/2006 3:02:31 PM \\t8 ft\\t\\t24 ft\\t00:00:15\\t1.1 mph\\t109° true\\n',\n",
       " 'Trackpoint\\tN42 48.734 W70 46.533\\t5/20/2006 3:02:46 PM \\t8 ft\\t\\t24 ft\\t00:00:15\\t1.1 mph\\t109° true\\n',\n",
       " 'Trackpoint\\tN42 48.733 W70 46.528\\t5/20/2006 3:03:01 PM \\t11 ft\\t\\t24 ft\\t00:00:15\\t1.1 mph\\t109° true\\n',\n",
       " 'Trackpoint\\tN42 48.732 W70 46.523\\t5/20/2006 3:03:16 PM \\t11 ft\\t\\t24 ft\\t00:00:15\\t1.1 mph\\t109° true\\n',\n",
       " 'Trackpoint\\tN42 48.731 W70 46.517\\t5/20/2006 3:03:31 PM \\t11 ft\\t\\t30 ft\\t00:00:15\\t1.4 mph\\t105° true\\n',\n",
       " 'Trackpoint\\tN42 48.729 W70 46.512\\t5/20/2006 3:03:46 PM \\t10 ft\\t\\t24 ft\\t00:00:15\\t1.1 mph\\t109° true\\n',\n",
       " 'Trackpoint\\tN42 48.728 W70 46.505\\t5/20/2006 3:04:01 PM \\t8 ft\\t\\t30 ft\\t00:00:15\\t1.4 mph\\t105° true\\n',\n",
       " 'Trackpoint\\tN42 48.727 W70 46.500\\t5/20/2006 3:04:16 PM \\t8 ft\\t\\t24 ft\\t00:00:15\\t1.1 mph\\t109° true\\n',\n",
       " 'Trackpoint\\tN42 48.724 W70 46.493\\t5/20/2006 3:04:31 PM \\t7 ft\\t\\t33 ft\\t00:00:15\\t1.5 mph\\t119° true\\n',\n",
       " 'Trackpoint\\tN42 48.723 W70 46.487\\t5/20/2006 3:04:46 PM \\t7 ft\\t\\t30 ft\\t00:00:15\\t1.4 mph\\t105° true\\n',\n",
       " 'Trackpoint\\tN42 48.722 W70 46.481\\t5/20/2006 3:05:01 PM \\t5 ft\\t\\t30 ft\\t00:00:15\\t1.4 mph\\t105° true\\n',\n",
       " 'Trackpoint\\tN42 48.720 W70 46.475\\t5/20/2006 3:05:16 PM \\t8 ft\\t\\t24 ft\\t00:00:15\\t1.1 mph\\t109° true\\n',\n",
       " 'Trackpoint\\tN42 48.719 W70 46.469\\t5/20/2006 3:05:31 PM \\t10 ft\\t\\t30 ft\\t00:00:15\\t1.4 mph\\t105° true\\n',\n",
       " 'Trackpoint\\tN42 48.718 W70 46.464\\t5/20/2006 3:05:46 PM \\t10 ft\\t\\t24 ft\\t00:00:15\\t1.1 mph\\t109° true\\n',\n",
       " 'Trackpoint\\tN42 48.716 W70 46.457\\t5/20/2006 3:06:01 PM \\t11 ft\\t\\t30 ft\\t00:00:15\\t1.4 mph\\t105° true\\n',\n",
       " 'Trackpoint\\tN42 48.715 W70 46.451\\t5/20/2006 3:06:16 PM \\t11 ft\\t\\t30 ft\\t00:00:15\\t1.4 mph\\t105° true\\n',\n",
       " 'Trackpoint\\tN42 48.714 W70 46.446\\t5/20/2006 3:06:31 PM \\t10 ft\\t\\t24 ft\\t00:00:15\\t1.1 mph\\t109° true\\n',\n",
       " 'Trackpoint\\tN42 48.713 W70 46.439\\t5/20/2006 3:06:46 PM \\t10 ft\\t\\t30 ft\\t00:00:15\\t1.4 mph\\t105° true\\n',\n",
       " 'Trackpoint\\tN42 48.711 W70 46.434\\t5/20/2006 3:07:01 PM \\t10 ft\\t\\t24 ft\\t00:00:15\\t1.1 mph\\t109° true\\n',\n",
       " 'Trackpoint\\tN42 48.709 W70 46.428\\t5/20/2006 3:07:16 PM \\t11 ft\\t\\t33 ft\\t00:00:15\\t1.5 mph\\t119° true\\n',\n",
       " 'Trackpoint\\tN42 48.707 W70 46.423\\t5/20/2006 3:07:31 PM \\t11 ft\\t\\t24 ft\\t00:00:15\\t1.1 mph\\t109° true\\n',\n",
       " 'Trackpoint\\tN42 48.706 W70 46.416\\t5/20/2006 3:07:46 PM \\t11 ft\\t\\t30 ft\\t00:00:15\\t1.4 mph\\t105° true\\n',\n",
       " 'Trackpoint\\tN42 48.705 W70 46.410\\t5/20/2006 3:08:01 PM \\t11 ft\\t\\t30 ft\\t00:00:15\\t1.4 mph\\t105° true\\n',\n",
       " 'Trackpoint\\tN42 48.704 W70 46.405\\t5/20/2006 3:08:16 PM \\t10 ft\\t\\t24 ft\\t00:00:15\\t1.1 mph\\t109° true\\n',\n",
       " 'Trackpoint\\tN42 48.701 W70 46.398\\t5/20/2006 3:08:31 PM \\t10 ft\\t\\t33 ft\\t00:00:15\\t1.5 mph\\t119° true\\n',\n",
       " 'Trackpoint\\tN42 48.700 W70 46.392\\t5/20/2006 3:08:46 PM \\t8 ft\\t\\t30 ft\\t00:00:15\\t1.4 mph\\t105° true\\n',\n",
       " 'Trackpoint\\tN42 48.698 W70 46.387\\t5/20/2006 3:09:01 PM \\t8 ft\\t\\t24 ft\\t00:00:15\\t1.1 mph\\t109° true\\n',\n",
       " 'Trackpoint\\tN42 48.697 W70 46.380\\t5/20/2006 3:09:16 PM \\t8 ft\\t\\t30 ft\\t00:00:15\\t1.4 mph\\t105° true\\n',\n",
       " 'Trackpoint\\tN42 48.696 W70 46.375\\t5/20/2006 3:09:31 PM \\t7 ft\\t\\t24 ft\\t00:00:15\\t1.1 mph\\t109° true\\n',\n",
       " 'Trackpoint\\tN42 48.694 W70 46.370\\t5/20/2006 3:09:46 PM \\t7 ft\\t\\t24 ft\\t00:00:15\\t1.1 mph\\t109° true\\n',\n",
       " 'Trackpoint\\tN42 48.693 W70 46.363\\t5/20/2006 3:10:01 PM \\t7 ft\\t\\t30 ft\\t00:00:15\\t1.4 mph\\t105° true\\n',\n",
       " 'Trackpoint\\tN42 48.692 W70 46.358\\t5/20/2006 3:10:16 PM \\t7 ft\\t\\t24 ft\\t00:00:15\\t1.1 mph\\t109° true\\n',\n",
       " 'Trackpoint\\tN42 48.691 W70 46.352\\t5/20/2006 3:10:31 PM \\t8 ft\\t\\t30 ft\\t00:00:15\\t1.4 mph\\t105° true\\n',\n",
       " 'Trackpoint\\tN42 48.688 W70 46.345\\t5/20/2006 3:10:46 PM \\t8 ft\\t\\t33 ft\\t00:00:15\\t1.5 mph\\t119° true\\n',\n",
       " 'Trackpoint\\tN42 48.687 W70 46.340\\t5/20/2006 3:11:01 PM \\t10 ft\\t\\t24 ft\\t00:00:15\\t1.1 mph\\t109° true\\n',\n",
       " 'Trackpoint\\tN42 48.685 W70 46.335\\t5/20/2006 3:11:16 PM \\t7 ft\\t\\t24 ft\\t00:00:15\\t1.1 mph\\t109° true\\n',\n",
       " 'Trackpoint\\tN42 48.684 W70 46.329\\t5/20/2006 3:11:31 PM \\t7 ft\\t\\t30 ft\\t00:00:15\\t1.4 mph\\t105° true\\n',\n",
       " 'Trackpoint\\tN42 48.683 W70 46.322\\t5/20/2006 3:11:46 PM \\t8 ft\\t\\t30 ft\\t00:00:15\\t1.4 mph\\t105° true\\n',\n",
       " 'Trackpoint\\tN42 48.680 W70 46.316\\t5/20/2006 3:12:01 PM \\t8 ft\\t\\t33 ft\\t00:00:15\\t1.5 mph\\t119° true\\n',\n",
       " 'Trackpoint\\tN42 48.679 W70 46.311\\t5/20/2006 3:12:16 PM \\t8 ft\\t\\t24 ft\\t00:00:15\\t1.1 mph\\t109° true\\n',\n",
       " 'Trackpoint\\tN42 48.678 W70 46.304\\t5/20/2006 3:12:31 PM \\t5 ft\\t\\t30 ft\\t00:00:15\\t1.4 mph\\t105° true\\n',\n",
       " 'Trackpoint\\tN42 48.676 W70 46.298\\t5/20/2006 3:12:46 PM \\t4 ft\\t\\t30 ft\\t00:00:15\\t1.4 mph\\t105° true\\n',\n",
       " 'Trackpoint\\tN42 48.675 W70 46.291\\t5/20/2006 3:13:01 PM \\t5 ft\\t\\t30 ft\\t00:00:15\\t1.4 mph\\t105° true\\n',\n",
       " 'Trackpoint\\tN42 48.673 W70 46.285\\t5/20/2006 3:13:16 PM \\t5 ft\\t\\t33 ft\\t00:00:15\\t1.5 mph\\t119° true\\n',\n",
       " 'Trackpoint\\tN42 48.671 W70 46.280\\t5/20/2006 3:13:31 PM \\t5 ft\\t\\t24 ft\\t00:00:15\\t1.1 mph\\t109° true\\n',\n",
       " 'Trackpoint\\tN42 48.670 W70 46.273\\t5/20/2006 3:13:46 PM \\t5 ft\\t\\t30 ft\\t00:00:15\\t1.4 mph\\t105° true\\n',\n",
       " 'Trackpoint\\tN42 48.669 W70 46.267\\t5/20/2006 3:14:01 PM \\t5 ft\\t\\t30 ft\\t00:00:15\\t1.4 mph\\t105° true\\n',\n",
       " 'Trackpoint\\tN42 48.666 W70 46.260\\t5/20/2006 3:14:16 PM \\t4 ft\\t\\t33 ft\\t00:00:15\\t1.5 mph\\t119° true\\n',\n",
       " 'Trackpoint\\tN42 48.665 W70 46.254\\t5/20/2006 3:14:31 PM \\t2 ft\\t\\t30 ft\\t00:00:15\\t1.4 mph\\t105° true\\n',\n",
       " 'Trackpoint\\tN42 48.664 W70 46.249\\t5/20/2006 3:14:46 PM \\t4 ft\\t\\t24 ft\\t00:00:15\\t1.1 mph\\t109° true\\n',\n",
       " 'Trackpoint\\tN42 48.662 W70 46.242\\t5/20/2006 3:15:01 PM \\t5 ft\\t\\t30 ft\\t00:00:15\\t1.4 mph\\t105° true\\n',\n",
       " 'Trackpoint\\tN42 48.660 W70 46.236\\t5/20/2006 3:15:16 PM \\t7 ft\\t\\t33 ft\\t00:00:15\\t1.5 mph\\t119° true\\n',\n",
       " 'Trackpoint\\tN42 48.658 W70 46.230\\t5/20/2006 3:15:31 PM \\t10 ft\\t\\t30 ft\\t00:00:15\\t1.4 mph\\t105° true\\n',\n",
       " 'Trackpoint\\tN42 48.657 W70 46.223\\t5/20/2006 3:15:46 PM \\t10 ft\\t\\t30 ft\\t00:00:15\\t1.4 mph\\t105° true\\n',\n",
       " 'Trackpoint\\tN42 48.656 W70 46.218\\t5/20/2006 3:16:01 PM \\t10 ft\\t\\t24 ft\\t00:00:15\\t1.1 mph\\t109° true\\n',\n",
       " 'Trackpoint\\tN42 48.653 W70 46.212\\t5/20/2006 3:16:16 PM \\t10 ft\\t\\t33 ft\\t00:00:15\\t1.5 mph\\t119° true\\n',\n",
       " 'Trackpoint\\tN42 48.652 W70 46.205\\t5/20/2006 3:16:31 PM \\t10 ft\\t\\t30 ft\\t00:00:15\\t1.4 mph\\t105° true\\n',\n",
       " 'Trackpoint\\tN42 48.651 W70 46.199\\t5/20/2006 3:16:46 PM \\t10 ft\\t\\t30 ft\\t00:00:15\\t1.4 mph\\t105° true\\n',\n",
       " 'Trackpoint\\tN42 48.649 W70 46.194\\t5/20/2006 3:17:01 PM \\t10 ft\\t\\t24 ft\\t00:00:15\\t1.1 mph\\t109° true\\n',\n",
       " 'Trackpoint\\tN42 48.648 W70 46.187\\t5/20/2006 3:17:16 PM \\t8 ft\\t\\t30 ft\\t00:00:15\\t1.4 mph\\t105° true\\n',\n",
       " 'Trackpoint\\tN42 48.647 W70 46.181\\t5/20/2006 3:17:31 PM \\t11 ft\\t\\t30 ft\\t00:00:15\\t1.4 mph\\t105° true\\n',\n",
       " 'Trackpoint\\tN42 48.646 W70 46.175\\t5/20/2006 3:17:46 PM \\t11 ft\\t\\t24 ft\\t00:00:15\\t1.1 mph\\t109° true\\n',\n",
       " 'Trackpoint\\tN42 48.644 W70 46.170\\t5/20/2006 3:18:01 PM \\t8 ft\\t\\t24 ft\\t00:00:15\\t1.1 mph\\t109° true\\n',\n",
       " 'Trackpoint\\tN42 48.643 W70 46.164\\t5/20/2006 3:18:16 PM \\t7 ft\\t\\t30 ft\\t00:00:15\\t1.4 mph\\t105° true\\n',\n",
       " 'Trackpoint\\tN42 48.640 W70 46.159\\t5/20/2006 3:18:31 PM \\t10 ft\\t\\t28 ft\\t00:00:15\\t1.3 mph\\t124° true\\n',\n",
       " 'Trackpoint\\tN42 48.639 W70 46.152\\t5/20/2006 3:18:46 PM \\t10 ft\\t\\t30 ft\\t00:00:15\\t1.4 mph\\t105° true\\n',\n",
       " 'Trackpoint\\tN42 48.638 W70 46.147\\t5/20/2006 3:19:01 PM \\t11 ft\\t\\t24 ft\\t00:00:15\\t1.1 mph\\t109° true\\n',\n",
       " 'Trackpoint\\tN42 48.637 W70 46.141\\t5/20/2006 3:19:16 PM \\t11 ft\\t\\t30 ft\\t00:00:15\\t1.4 mph\\t105° true\\n',\n",
       " 'Trackpoint\\tN42 48.635 W70 46.136\\t5/20/2006 3:19:31 PM \\t10 ft\\t\\t24 ft\\t00:00:15\\t1.1 mph\\t109° true\\n',\n",
       " 'Trackpoint\\tN42 48.634 W70 46.130\\t5/20/2006 3:19:46 PM \\t10 ft\\t\\t24 ft\\t00:00:15\\t1.1 mph\\t109° true\\n',\n",
       " 'Trackpoint\\tN42 48.633 W70 46.125\\t5/20/2006 3:20:01 PM \\t11 ft\\t\\t24 ft\\t00:00:15\\t1.1 mph\\t109° true\\n',\n",
       " 'Trackpoint\\tN42 48.631 W70 46.119\\t5/20/2006 3:20:16 PM \\t10 ft\\t\\t30 ft\\t00:00:15\\t1.4 mph\\t105° true\\n',\n",
       " 'Trackpoint\\tN42 48.630 W70 46.114\\t5/20/2006 3:20:31 PM \\t8 ft\\t\\t24 ft\\t00:00:15\\t1.1 mph\\t109° true\\n',\n",
       " 'Trackpoint\\tN42 48.629 W70 46.107\\t5/20/2006 3:20:46 PM \\t8 ft\\t\\t30 ft\\t00:00:15\\t1.4 mph\\t105° true\\n',\n",
       " 'Trackpoint\\tN42 48.628 W70 46.102\\t5/20/2006 3:21:01 PM \\t10 ft\\t\\t24 ft\\t00:00:15\\t1.1 mph\\t109° true\\n',\n",
       " 'Trackpoint\\tN42 48.626 W70 46.097\\t5/20/2006 3:21:16 PM \\t8 ft\\t\\t24 ft\\t00:00:15\\t1.1 mph\\t109° true\\n',\n",
       " 'Trackpoint\\tN42 48.625 W70 46.092\\t5/20/2006 3:21:31 PM \\t8 ft\\t\\t24 ft\\t00:00:15\\t1.1 mph\\t109° true\\n',\n",
       " 'Trackpoint\\tN42 48.624 W70 46.087\\t5/20/2006 3:21:46 PM \\t8 ft\\t\\t24 ft\\t00:00:15\\t1.1 mph\\t109° true\\n',\n",
       " 'Trackpoint\\tN42 48.622 W70 46.081\\t5/20/2006 3:22:01 PM \\t10 ft\\t\\t24 ft\\t00:00:15\\t1.1 mph\\t109° true\\n',\n",
       " 'Trackpoint\\tN42 48.621 W70 46.075\\t5/20/2006 3:22:16 PM \\t8 ft\\t\\t30 ft\\t00:00:15\\t1.4 mph\\t105° true\\n',\n",
       " 'Trackpoint\\tN42 48.620 W70 46.070\\t5/20/2006 3:22:31 PM \\t7 ft\\t\\t24 ft\\t00:00:15\\t1.1 mph\\t109° true\\n',\n",
       " 'Trackpoint\\tN42 48.619 W70 46.065\\t5/20/2006 3:22:46 PM \\t4 ft\\t\\t24 ft\\t00:00:15\\t1.1 mph\\t109° true\\n',\n",
       " 'Trackpoint\\tN42 48.616 W70 46.058\\t5/20/2006 3:23:01 PM \\t4 ft\\t\\t33 ft\\t00:00:15\\t1.5 mph\\t119° true\\n',\n",
       " 'Trackpoint\\tN42 48.615 W70 46.053\\t5/20/2006 3:23:16 PM \\t5 ft\\t\\t24 ft\\t00:00:15\\t1.1 mph\\t109° true\\n',\n",
       " 'Trackpoint\\tN42 48.613 W70 46.047\\t5/20/2006 3:23:31 PM \\t7 ft\\t\\t30 ft\\t00:00:15\\t1.4 mph\\t105° true\\n',\n",
       " 'Trackpoint\\tN42 48.612 W70 46.042\\t5/20/2006 3:23:46 PM \\t4 ft\\t\\t24 ft\\t00:00:15\\t1.1 mph\\t109° true\\n',\n",
       " 'Trackpoint\\tN42 48.611 W70 46.036\\t5/20/2006 3:24:01 PM \\t5 ft\\t\\t24 ft\\t00:00:15\\t1.1 mph\\t109° true\\n',\n",
       " 'Trackpoint\\tN42 48.610 W70 46.030\\t5/20/2006 3:24:16 PM \\t7 ft\\t\\t30 ft\\t00:00:15\\t1.4 mph\\t105° true\\n',\n",
       " 'Trackpoint\\tN42 48.608 W70 46.025\\t5/20/2006 3:24:31 PM \\t5 ft\\t\\t24 ft\\t00:00:15\\t1.1 mph\\t109° true\\n',\n",
       " 'Trackpoint\\tN42 48.607 W70 46.020\\t5/20/2006 3:24:46 PM \\t5 ft\\t\\t24 ft\\t00:00:15\\t1.1 mph\\t109° true\\n',\n",
       " 'Trackpoint\\tN42 48.606 W70 46.013\\t5/20/2006 3:25:01 PM \\t5 ft\\t\\t30 ft\\t00:00:15\\t1.4 mph\\t105° true\\n',\n",
       " 'Trackpoint\\tN42 48.604 W70 46.008\\t5/20/2006 3:25:16 PM \\t5 ft\\t\\t24 ft\\t00:00:15\\t1.1 mph\\t109° true\\n',\n",
       " 'Trackpoint\\tN42 48.603 W70 46.002\\t5/20/2006 3:25:31 PM \\t8 ft\\t\\t30 ft\\t00:00:15\\t1.4 mph\\t105° true\\n',\n",
       " 'Trackpoint\\tN42 48.602 W70 45.997\\t5/20/2006 3:25:46 PM \\t8 ft\\t\\t24 ft\\t00:00:15\\t1.1 mph\\t109° true\\n',\n",
       " 'Trackpoint\\tN42 48.601 W70 45.991\\t5/20/2006 3:26:01 PM \\t8 ft\\t\\t24 ft\\t00:00:15\\t1.1 mph\\t109° true\\n',\n",
       " 'Trackpoint\\tN42 48.598 W70 45.985\\t5/20/2006 3:26:16 PM \\t5 ft\\t\\t33 ft\\t00:00:15\\t1.5 mph\\t119° true\\n',\n",
       " 'Trackpoint\\tN42 48.597 W70 45.978\\t5/20/2006 3:26:31 PM \\t5 ft\\t\\t30 ft\\t00:00:15\\t1.4 mph\\t105° true\\n',\n",
       " 'Trackpoint\\tN42 48.595 W70 45.973\\t5/20/2006 3:26:46 PM \\t7 ft\\t\\t24 ft\\t00:00:15\\t1.1 mph\\t109° true\\n',\n",
       " 'Trackpoint\\tN42 48.594 W70 45.968\\t5/20/2006 3:27:01 PM \\t8 ft\\t\\t24 ft\\t00:00:15\\t1.1 mph\\t109° true\\n',\n",
       " 'Trackpoint\\tN42 48.593 W70 45.962\\t5/20/2006 3:27:16 PM \\t8 ft\\t\\t30 ft\\t00:00:15\\t1.4 mph\\t105° true\\n',\n",
       " 'Trackpoint\\tN42 48.590 W70 45.957\\t5/20/2006 3:27:31 PM \\t7 ft\\t\\t28 ft\\t00:00:15\\t1.3 mph\\t124° true\\n',\n",
       " 'Trackpoint\\tN42 48.589 W70 45.951\\t5/20/2006 3:27:46 PM \\t7 ft\\t\\t24 ft\\t00:00:15\\t1.1 mph\\t109° true\\n',\n",
       " 'Trackpoint\\tN42 48.588 W70 45.944\\t5/20/2006 3:28:01 PM \\t10 ft\\t\\t35 ft\\t00:00:15\\t1.6 mph\\t103° true\\n',\n",
       " 'Trackpoint\\tN42 48.588 W70 45.932\\t5/20/2006 3:28:16 PM \\t5 ft\\t\\t52 ft\\t00:00:15\\t2.4 mph\\t90° true\\n',\n",
       " 'Trackpoint\\tN42 48.593 W70 45.919\\t5/20/2006 3:28:32 PM \\t-5.9 ft\\t\\t65 ft\\t00:00:16\\t2.8 mph\\t61° true\\n',\n",
       " 'Trackpoint\\tN42 48.602 W70 45.917\\t5/20/2006 3:28:47 PM \\t-5.9 ft\\t\\t56 ft\\t00:00:15\\t2.5 mph\\t12° true\\n',\n",
       " 'Trackpoint\\tN42 48.608 W70 45.921\\t5/20/2006 3:29:02 PM \\t2 ft\\t\\t43 ft\\t00:00:15\\t1.9 mph\\t336° true\\n',\n",
       " 'Trackpoint\\tN42 48.607 W70 45.932\\t5/20/2006 3:29:17 PM \\t8 ft\\t\\t52 ft\\t00:00:15\\t2.4 mph\\t261° true\\n',\n",
       " 'Trackpoint\\tN42 48.606 W70 45.951\\t5/20/2006 3:29:32 PM \\t10 ft\\t\\t87 ft\\t00:00:15\\t3.9 mph\\t265° true\\n',\n",
       " 'Trackpoint\\tN42 48.606 W70 45.975\\t5/20/2006 3:29:47 PM \\t4 ft\\t\\t103 ft\\t00:00:15\\t4.7 mph\\t270° true\\n',\n",
       " 'Trackpoint\\tN42 48.606 W70 45.999\\t5/20/2006 3:30:02 PM \\t4 ft\\t\\t109 ft\\t00:00:15\\t5.0 mph\\t270° true\\n',\n",
       " 'Trackpoint\\tN42 48.602 W70 46.022\\t5/20/2006 3:30:17 PM \\t8 ft\\t\\t106 ft\\t00:00:15\\t4.8 mph\\t257° true\\n',\n",
       " 'Trackpoint\\tN42 48.598 W70 46.047\\t5/20/2006 3:30:32 PM \\t8 ft\\t\\t112 ft\\t00:00:15\\t5.1 mph\\t258° true\\n',\n",
       " 'Trackpoint\\tN42 48.595 W70 46.070\\t5/20/2006 3:30:47 PM \\t16 ft\\t\\t105 ft\\t00:00:15\\t4.8 mph\\t261° true\\n',\n",
       " 'Trackpoint\\tN42 48.595 W70 46.093\\t5/20/2006 3:31:02 PM \\t15 ft\\t\\t103 ft\\t00:00:15\\t4.7 mph\\t270° true\\n',\n",
       " 'Trackpoint\\tN42 48.597 W70 46.118\\t5/20/2006 3:31:17 PM \\t7 ft\\t\\t110 ft\\t00:00:15\\t5.0 mph\\t274° true\\n',\n",
       " 'Trackpoint\\tN42 48.598 W70 46.142\\t5/20/2006 3:31:32 PM \\t7 ft\\t\\t110 ft\\t00:00:15\\t5.0 mph\\t274° true\\n',\n",
       " 'Trackpoint\\tN42 48.599 W70 46.166\\t5/20/2006 3:31:47 PM \\t7 ft\\t\\t110 ft\\t00:00:15\\t5.0 mph\\t274° true\\n',\n",
       " 'Trackpoint\\tN42 48.601 W70 46.168\\t5/20/2006 3:31:48 PM \\t7 ft\\t\\t10 ft\\t00:00:01\\t6.6 mph\\t324° true']"
      ]
     },
     "execution_count": 84,
     "metadata": {},
     "output_type": "execute_result"
    }
   ],
   "source": [
    "lines_all"
   ]
  },
  {
   "cell_type": "code",
   "execution_count": 37,
   "metadata": {},
   "outputs": [
    {
     "data": {
      "text/plain": [
       "\"Grid\\tLat/Lon hddd°mm.mmm'\\n\""
      ]
     },
     "execution_count": 37,
     "metadata": {},
     "output_type": "execute_result"
    }
   ],
   "source": [
    "lines_all[0]"
   ]
  },
  {
   "cell_type": "code",
   "execution_count": 85,
   "metadata": {},
   "outputs": [
    {
     "data": {
      "text/plain": [
       "'Datum\\tWGS 84\\n'"
      ]
     },
     "execution_count": 85,
     "metadata": {},
     "output_type": "execute_result"
    }
   ],
   "source": [
    "lines_all[1]"
   ]
  },
  {
   "cell_type": "code",
   "execution_count": 86,
   "metadata": {},
   "outputs": [
    {
     "data": {
      "text/plain": [
       "'\\n'"
      ]
     },
     "execution_count": 86,
     "metadata": {},
     "output_type": "execute_result"
    }
   ],
   "source": [
    "lines_all[2]"
   ]
  },
  {
   "cell_type": "code",
   "execution_count": 88,
   "metadata": {},
   "outputs": [
    {
     "data": {
      "text/plain": [
       "'Trackpoint\\tN42 49.821 W70 45.408\\t5/20/2006 1:35:25 PM \\t15 ft\\t\\t30 ft\\t00:00:15\\t1.4 mph\\t75° true\\n'"
      ]
     },
     "execution_count": 88,
     "metadata": {},
     "output_type": "execute_result"
    }
   ],
   "source": [
    "lines_all[10]"
   ]
  },
  {
   "cell_type": "markdown",
   "metadata": {},
   "source": [
    "now we use `.split` to separate the words in the list"
   ]
  },
  {
   "cell_type": "code",
   "execution_count": 89,
   "metadata": {},
   "outputs": [
    {
     "data": {
      "text/plain": [
       "['Trackpoint',\n",
       " 'N42',\n",
       " '49.821',\n",
       " 'W70',\n",
       " '45.408',\n",
       " '5/20/2006',\n",
       " '1:35:25',\n",
       " 'PM',\n",
       " '15',\n",
       " 'ft',\n",
       " '30',\n",
       " 'ft',\n",
       " '00:00:15',\n",
       " '1.4',\n",
       " 'mph',\n",
       " '75°',\n",
       " 'true']"
      ]
     },
     "execution_count": 89,
     "metadata": {},
     "output_type": "execute_result"
    }
   ],
   "source": [
    "lines_all[10].split()"
   ]
  },
  {
   "cell_type": "code",
   "execution_count": 90,
   "metadata": {},
   "outputs": [
    {
     "data": {
      "text/plain": [
       "'Trackpoint'"
      ]
     },
     "execution_count": 90,
     "metadata": {},
     "output_type": "execute_result"
    }
   ],
   "source": [
    "lines_all[10].split()[0]"
   ]
  },
  {
   "cell_type": "code",
   "execution_count": 91,
   "metadata": {},
   "outputs": [
    {
     "data": {
      "text/plain": [
       "'N42'"
      ]
     },
     "execution_count": 91,
     "metadata": {},
     "output_type": "execute_result"
    }
   ],
   "source": [
    "lines_all[10].split()[1]"
   ]
  },
  {
   "cell_type": "code",
   "execution_count": 92,
   "metadata": {},
   "outputs": [
    {
     "data": {
      "text/plain": [
       "'42'"
      ]
     },
     "execution_count": 92,
     "metadata": {},
     "output_type": "execute_result"
    }
   ],
   "source": [
    "lines_all[10].split()[1][1:]"
   ]
  },
  {
   "cell_type": "code",
   "execution_count": 93,
   "metadata": {},
   "outputs": [
    {
     "data": {
      "text/plain": [
       "42.0"
      ]
     },
     "execution_count": 93,
     "metadata": {},
     "output_type": "execute_result"
    }
   ],
   "source": [
    "# we get the degree in numeric values\n",
    "float(lines_all[10].split()[1][1:])"
   ]
  },
  {
   "cell_type": "code",
   "execution_count": 94,
   "metadata": {},
   "outputs": [
    {
     "data": {
      "text/plain": [
       "'49.821'"
      ]
     },
     "execution_count": 94,
     "metadata": {},
     "output_type": "execute_result"
    }
   ],
   "source": [
    "lines_all[10].split()[2]"
   ]
  },
  {
   "cell_type": "code",
   "execution_count": 95,
   "metadata": {},
   "outputs": [
    {
     "data": {
      "text/plain": [
       "49.821"
      ]
     },
     "execution_count": 95,
     "metadata": {},
     "output_type": "execute_result"
    }
   ],
   "source": [
    "# we get the minute in numeric values\n",
    "float(lines_all[10].split()[2])"
   ]
  },
  {
   "cell_type": "code",
   "execution_count": 96,
   "metadata": {},
   "outputs": [
    {
     "data": {
      "text/plain": [
       "0.8303499999999999"
      ]
     },
     "execution_count": 96,
     "metadata": {},
     "output_type": "execute_result"
    }
   ],
   "source": [
    "# we convert the minute to degree\n",
    "float(lines_all[10].split()[2])/60"
   ]
  },
  {
   "cell_type": "code",
   "execution_count": 97,
   "metadata": {},
   "outputs": [
    {
     "data": {
      "text/plain": [
       "42.83035"
      ]
     },
     "execution_count": 97,
     "metadata": {},
     "output_type": "execute_result"
    }
   ],
   "source": [
    "# join them together\n",
    "float(lines_all[10].split()[1][1:]) + float(lines_all[10].split()[2])/60"
   ]
  },
  {
   "cell_type": "code",
   "execution_count": 98,
   "metadata": {},
   "outputs": [
    {
     "data": {
      "text/plain": [
       "42.83035"
      ]
     },
     "execution_count": 98,
     "metadata": {},
     "output_type": "execute_result"
    }
   ],
   "source": [
    "# since lines_all[10].split() is duplicated in the code, we can first create a variable to store this value\n",
    "data = lines_all[10].split()\n",
    "float(data[1][1:]) + float(data[2])/60"
   ]
  },
  {
   "cell_type": "markdown",
   "metadata": {},
   "source": [
    "now let's try to output the latitude of each trackpoint:\n",
    "**the key is to find the line that contains the latitude**"
   ]
  },
  {
   "cell_type": "code",
   "execution_count": 38,
   "metadata": {},
   "outputs": [
    {
     "ename": "IndexError",
     "evalue": "list index out of range",
     "output_type": "error",
     "traceback": [
      "\u001b[0;31m---------------------------------------------------------------------------\u001b[0m",
      "\u001b[0;31mIndexError\u001b[0m                                Traceback (most recent call last)",
      "\u001b[0;32m/var/folders/4l/gn64yzcd6938cphmlv0bpkj80000gn/T/ipykernel_37645/1763092056.py\u001b[0m in \u001b[0;36m<module>\u001b[0;34m\u001b[0m\n\u001b[1;32m      2\u001b[0m \u001b[0;32mfor\u001b[0m \u001b[0mline\u001b[0m \u001b[0;32min\u001b[0m \u001b[0mlines_all\u001b[0m\u001b[0;34m:\u001b[0m        \u001b[0;31m# iterate over each line in the file. Each line is a string.\u001b[0m\u001b[0;34m\u001b[0m\u001b[0;34m\u001b[0m\u001b[0m\n\u001b[1;32m      3\u001b[0m     \u001b[0mdata\u001b[0m \u001b[0;34m=\u001b[0m \u001b[0mline\u001b[0m\u001b[0;34m.\u001b[0m\u001b[0msplit\u001b[0m\u001b[0;34m(\u001b[0m\u001b[0;34m)\u001b[0m       \u001b[0;31m# split the line of text into words, each separated by spaces or tabs\u001b[0m\u001b[0;34m\u001b[0m\u001b[0;34m\u001b[0m\u001b[0m\n\u001b[0;32m----> 4\u001b[0;31m     \u001b[0;32mif\u001b[0m \u001b[0mdata\u001b[0m\u001b[0;34m[\u001b[0m\u001b[0;36m0\u001b[0m\u001b[0;34m]\u001b[0m \u001b[0;34m==\u001b[0m \u001b[0;34m'Trackpoint'\u001b[0m\u001b[0;34m:\u001b[0m   \u001b[0;31m# We only want to consider lines that begin with 'Trackpoint', as these hold the data\u001b[0m\u001b[0;34m\u001b[0m\u001b[0;34m\u001b[0m\u001b[0m\n\u001b[0m\u001b[1;32m      5\u001b[0m         \u001b[0mprint\u001b[0m\u001b[0;34m(\u001b[0m\u001b[0mfloat\u001b[0m\u001b[0;34m(\u001b[0m\u001b[0mdata\u001b[0m\u001b[0;34m[\u001b[0m\u001b[0;36m1\u001b[0m\u001b[0;34m]\u001b[0m\u001b[0;34m[\u001b[0m\u001b[0;36m1\u001b[0m\u001b[0;34m:\u001b[0m\u001b[0;34m]\u001b[0m\u001b[0;34m)\u001b[0m \u001b[0;34m+\u001b[0m \u001b[0mfloat\u001b[0m\u001b[0;34m(\u001b[0m\u001b[0mdata\u001b[0m\u001b[0;34m[\u001b[0m\u001b[0;36m2\u001b[0m\u001b[0;34m]\u001b[0m\u001b[0;34m)\u001b[0m\u001b[0;34m/\u001b[0m\u001b[0;36m60.0\u001b[0m\u001b[0;34m)\u001b[0m \u001b[0;31m# print the latitude\u001b[0m\u001b[0;34m\u001b[0m\u001b[0;34m\u001b[0m\u001b[0m\n",
      "\u001b[0;31mIndexError\u001b[0m: list index out of range"
     ]
    }
   ],
   "source": [
    "# use for loop to get the latitude and longitude for each trackpoint line\n",
    "for line in lines_all:        # iterate over each line in the file. Each line is a string.\n",
    "    data = line.split()       # split the line of text into words, each separated by spaces or tabs        \n",
    "    if data[0] == 'Trackpoint':   # We only want to consider lines that begin with 'Trackpoint', as these hold the data\n",
    "        print(float(data[1][1:]) + float(data[2])/60.0) # print the latitude"
   ]
  },
  {
   "cell_type": "markdown",
   "metadata": {},
   "source": [
    "**Why do we see the error?**"
   ]
  },
  {
   "cell_type": "markdown",
   "metadata": {},
   "source": [
    "There might be something wrong inside the for loop!"
   ]
  },
  {
   "cell_type": "code",
   "execution_count": null,
   "metadata": {},
   "outputs": [],
   "source": [
    "# lines_all[0].split()"
   ]
  },
  {
   "cell_type": "code",
   "execution_count": null,
   "metadata": {},
   "outputs": [],
   "source": [
    "# lines_all[0].split()[0]"
   ]
  },
  {
   "cell_type": "code",
   "execution_count": null,
   "metadata": {
    "scrolled": true
   },
   "outputs": [],
   "source": [
    "# lines_all[2].split()"
   ]
  },
  {
   "cell_type": "code",
   "execution_count": null,
   "metadata": {},
   "outputs": [],
   "source": [
    "# lines_all[2].split()[0]"
   ]
  },
  {
   "cell_type": "markdown",
   "metadata": {},
   "source": [
    "**The right way:**"
   ]
  },
  {
   "cell_type": "code",
   "execution_count": 39,
   "metadata": {},
   "outputs": [
    {
     "name": "stdout",
     "output_type": "stream",
     "text": [
      "42.830333333333336\n",
      "42.83035\n",
      "42.8304\n",
      "42.830416666666665\n",
      "42.8304\n",
      "42.83035\n",
      "42.83035\n",
      "42.83035\n",
      "42.83026666666667\n",
      "42.83011666666667\n",
      "42.8299\n",
      "42.82973333333333\n",
      "42.8296\n",
      "42.829683333333335\n",
      "42.829766666666664\n",
      "42.82966666666667\n",
      "42.82945\n",
      "42.829166666666666\n",
      "42.828916666666665\n",
      "42.82865\n",
      "42.82835\n",
      "42.82805\n",
      "42.8278\n",
      "42.827533333333335\n",
      "42.827283333333334\n",
      "42.82705\n",
      "42.82685\n",
      "42.82666666666667\n",
      "42.82641666666667\n",
      "42.826233333333334\n",
      "42.826033333333335\n",
      "42.82581666666667\n",
      "42.8256\n",
      "42.82541666666667\n",
      "42.82521666666667\n",
      "42.824983333333336\n",
      "42.82476666666667\n",
      "42.82455\n",
      "42.82438333333333\n",
      "42.8242\n",
      "42.823933333333336\n",
      "42.8237\n",
      "42.82353333333333\n",
      "42.82335\n",
      "42.82313333333333\n",
      "42.82295\n",
      "42.82275\n",
      "42.82256666666667\n",
      "42.82236666666667\n",
      "42.82215\n",
      "42.82196666666667\n",
      "42.821783333333336\n",
      "42.821616666666664\n",
      "42.82145\n",
      "42.821266666666666\n",
      "42.82106666666667\n",
      "42.82086666666667\n",
      "42.82073333333334\n",
      "42.820616666666666\n",
      "42.820433333333334\n",
      "42.820283333333336\n",
      "42.82013333333333\n",
      "42.81998333333333\n",
      "42.81985\n",
      "42.8197\n",
      "42.8195\n",
      "42.819316666666666\n",
      "42.81923333333334\n",
      "42.81923333333334\n",
      "42.81921666666667\n",
      "42.81908333333333\n",
      "42.818933333333334\n",
      "42.81875\n",
      "42.818533333333335\n",
      "42.81831666666667\n",
      "42.81818333333333\n",
      "42.81811666666667\n",
      "42.81803333333333\n",
      "42.81786666666667\n",
      "42.81766666666667\n",
      "42.81751666666667\n",
      "42.81741666666667\n",
      "42.81735\n",
      "42.81726666666667\n",
      "42.81706666666667\n",
      "42.816833333333335\n",
      "42.816633333333336\n",
      "42.81645\n",
      "42.816266666666664\n",
      "42.81603333333334\n",
      "42.815783333333336\n",
      "42.81551666666667\n",
      "42.815266666666666\n",
      "42.81503333333333\n",
      "42.81475\n",
      "42.81446666666667\n",
      "42.8142\n",
      "42.813916666666664\n",
      "42.81368333333333\n",
      "42.81345\n",
      "42.813266666666664\n",
      "42.81313333333333\n",
      "42.81308333333333\n",
      "42.81296666666667\n",
      "42.812866666666665\n",
      "42.81288333333333\n",
      "42.81296666666667\n",
      "42.8131\n",
      "42.813183333333335\n",
      "42.8132\n",
      "42.81316666666667\n",
      "42.81308333333333\n",
      "42.81295\n",
      "42.8128\n",
      "42.81271666666667\n",
      "42.81268333333333\n",
      "42.812733333333334\n",
      "42.812866666666665\n",
      "42.81296666666667\n",
      "42.8131\n",
      "42.8132\n",
      "42.813316666666665\n",
      "42.81341666666667\n",
      "42.81355\n",
      "42.813633333333335\n",
      "42.813716666666664\n",
      "42.813833333333335\n",
      "42.81393333333333\n",
      "42.81406666666667\n",
      "42.814166666666665\n",
      "42.814283333333336\n",
      "42.81435\n",
      "42.8144\n",
      "42.814433333333334\n",
      "42.81453333333333\n",
      "42.81475\n",
      "42.81491666666667\n",
      "42.815\n",
      "42.8151\n",
      "42.815266666666666\n",
      "42.81535\n",
      "42.815216666666664\n",
      "42.81505\n",
      "42.814883333333334\n",
      "42.814766666666664\n",
      "42.81466666666667\n",
      "42.81451666666667\n",
      "42.81445\n",
      "42.81446666666667\n",
      "42.8146\n",
      "42.81465\n",
      "42.814616666666666\n",
      "42.8146\n",
      "42.81458333333333\n",
      "42.81455\n",
      "42.81455\n",
      "42.81453333333333\n",
      "42.81453333333333\n",
      "42.81451666666667\n",
      "42.81451666666667\n",
      "42.81451666666667\n",
      "42.81453333333333\n",
      "42.81453333333333\n",
      "42.81453333333333\n",
      "42.81453333333333\n",
      "42.81453333333333\n",
      "42.81455\n",
      "42.81455\n",
      "42.81455\n",
      "42.81455\n",
      "42.81458333333333\n",
      "42.81458333333333\n",
      "42.81458333333333\n",
      "42.8146\n",
      "42.8146\n",
      "42.8146\n",
      "42.8146\n",
      "42.814616666666666\n",
      "42.814616666666666\n",
      "42.81465\n",
      "42.81465\n",
      "42.81465\n",
      "42.81466666666667\n",
      "42.81466666666667\n",
      "42.81466666666667\n",
      "42.81466666666667\n",
      "42.81466666666667\n",
      "42.814683333333335\n",
      "42.814683333333335\n",
      "42.814683333333335\n",
      "42.814683333333335\n",
      "42.814683333333335\n",
      "42.8147\n",
      "42.8147\n",
      "42.814683333333335\n",
      "42.8147\n",
      "42.8148\n",
      "42.81496666666666\n",
      "42.81511666666667\n",
      "42.815133333333335\n",
      "42.81525\n",
      "42.815333333333335\n",
      "42.81536666666667\n",
      "42.81543333333333\n",
      "42.8155\n",
      "42.81556666666667\n",
      "42.81565\n",
      "42.8157\n",
      "42.8157\n",
      "42.81556666666667\n",
      "42.81543333333333\n",
      "42.81536666666667\n",
      "42.81535\n",
      "42.81535\n",
      "42.815333333333335\n",
      "42.81531666666667\n",
      "42.81528333333333\n",
      "42.815266666666666\n",
      "42.81525\n",
      "42.815216666666664\n",
      "42.8152\n",
      "42.81518333333333\n",
      "42.81516666666667\n",
      "42.815133333333335\n",
      "42.8151\n",
      "42.81506666666667\n",
      "42.81503333333333\n",
      "42.815\n",
      "42.81498333333333\n",
      "42.81495\n",
      "42.81491666666667\n",
      "42.8149\n",
      "42.814883333333334\n",
      "42.81483333333333\n",
      "42.81483333333333\n",
      "42.814816666666665\n",
      "42.8148\n",
      "42.814766666666664\n",
      "42.81475\n",
      "42.814733333333336\n",
      "42.8147\n",
      "42.814683333333335\n",
      "42.81466666666667\n",
      "42.81465\n",
      "42.81465\n",
      "42.814616666666666\n",
      "42.8146\n",
      "42.81458333333333\n",
      "42.81455\n",
      "42.81453333333333\n",
      "42.81451666666667\n",
      "42.8145\n",
      "42.81445\n",
      "42.814433333333334\n",
      "42.8144\n",
      "42.81438333333333\n",
      "42.814366666666665\n",
      "42.81435\n",
      "42.81431666666667\n",
      "42.8143\n",
      "42.814283333333336\n",
      "42.81425\n",
      "42.814233333333334\n",
      "42.81421666666667\n",
      "42.8142\n",
      "42.814166666666665\n",
      "42.81415\n",
      "42.81413333333333\n",
      "42.8141\n",
      "42.814083333333336\n",
      "42.81406666666667\n",
      "42.81405\n",
      "42.814\n",
      "42.81398333333333\n",
      "42.81395\n",
      "42.813916666666664\n",
      "42.8139\n",
      "42.81386666666667\n",
      "42.81385\n",
      "42.813833333333335\n",
      "42.8138\n",
      "42.81378333333333\n",
      "42.813766666666666\n",
      "42.81375\n",
      "42.813716666666664\n",
      "42.8137\n",
      "42.8137\n",
      "42.81368333333333\n",
      "42.81365\n",
      "42.813633333333335\n",
      "42.81361666666667\n",
      "42.8136\n",
      "42.81356666666667\n",
      "42.81353333333333\n",
      "42.8135\n",
      "42.81348333333333\n",
      "42.81346666666666\n",
      "42.81341666666667\n",
      "42.8134\n",
      "42.813383333333334\n",
      "42.81335\n",
      "42.81333333333333\n",
      "42.813316666666665\n",
      "42.81328333333333\n",
      "42.813266666666664\n",
      "42.813233333333336\n",
      "42.8132\n",
      "42.813183333333335\n",
      "42.81316666666667\n",
      "42.81316666666667\n",
      "42.81313333333333\n",
      "42.8131\n",
      "42.8131\n",
      "42.81308333333333\n",
      "42.81305\n",
      "42.81303333333334\n",
      "42.81301666666667\n",
      "42.812983333333335\n",
      "42.812983333333335\n",
      "42.81296666666667\n",
      "42.81293333333333\n",
      "42.8129\n",
      "42.81288333333333\n",
      "42.812866666666665\n",
      "42.81283333333333\n",
      "42.81281666666667\n",
      "42.8128\n",
      "42.812783333333336\n",
      "42.81275\n",
      "42.812733333333334\n",
      "42.81271666666667\n",
      "42.812666666666665\n",
      "42.81265\n",
      "42.81263333333333\n",
      "42.8126\n",
      "42.812583333333336\n",
      "42.81256666666667\n",
      "42.812533333333334\n",
      "42.81251666666667\n",
      "42.81248333333333\n",
      "42.81245\n",
      "42.81243333333333\n",
      "42.812416666666664\n",
      "42.81238333333334\n",
      "42.81236666666667\n",
      "42.81236666666667\n",
      "42.812333333333335\n",
      "42.8123\n",
      "42.81228333333333\n",
      "42.812266666666666\n",
      "42.81223333333333\n",
      "42.812216666666664\n",
      "42.8122\n",
      "42.81218333333333\n",
      "42.81215\n",
      "42.812133333333335\n",
      "42.81211666666667\n",
      "42.81206666666667\n",
      "42.81205\n",
      "42.81203333333333\n",
      "42.812\n",
      "42.81198333333333\n",
      "42.81196666666666\n",
      "42.811933333333336\n",
      "42.81191666666667\n",
      "42.8119\n",
      "42.811883333333334\n",
      "42.81185\n",
      "42.811816666666665\n",
      "42.81178333333333\n",
      "42.811766666666664\n",
      "42.81175\n",
      "42.811733333333336\n",
      "42.811683333333335\n",
      "42.81166666666667\n",
      "42.81163333333333\n",
      "42.811616666666666\n",
      "42.8116\n",
      "42.811566666666664\n",
      "42.81155\n",
      "42.81153333333334\n",
      "42.81151666666667\n",
      "42.81146666666667\n",
      "42.81145\n",
      "42.811416666666666\n",
      "42.8114\n",
      "42.81138333333333\n",
      "42.81133333333333\n",
      "42.81131666666667\n",
      "42.8113\n",
      "42.81126666666667\n",
      "42.81125\n",
      "42.81121666666667\n",
      "42.81118333333333\n",
      "42.811166666666665\n",
      "42.81115\n",
      "42.8111\n",
      "42.811083333333336\n",
      "42.81106666666667\n",
      "42.811033333333334\n",
      "42.811\n",
      "42.810966666666666\n",
      "42.81095\n",
      "42.81093333333333\n",
      "42.81088333333334\n",
      "42.81086666666667\n",
      "42.81085\n",
      "42.81081666666667\n",
      "42.8108\n",
      "42.81078333333333\n",
      "42.810766666666666\n",
      "42.81073333333333\n",
      "42.810716666666664\n",
      "42.81066666666667\n",
      "42.81065\n",
      "42.810633333333335\n",
      "42.81061666666667\n",
      "42.810583333333334\n",
      "42.810566666666666\n",
      "42.81055\n",
      "42.810516666666665\n",
      "42.8105\n",
      "42.81048333333333\n",
      "42.81046666666667\n",
      "42.810433333333336\n",
      "42.81041666666667\n",
      "42.8104\n",
      "42.81036666666667\n",
      "42.81035\n",
      "42.81033333333333\n",
      "42.810316666666665\n",
      "42.810266666666664\n",
      "42.81025\n",
      "42.81021666666667\n",
      "42.8102\n",
      "42.810183333333335\n",
      "42.81016666666667\n",
      "42.81013333333333\n",
      "42.810116666666666\n",
      "42.8101\n",
      "42.810066666666664\n",
      "42.81005\n",
      "42.81003333333334\n",
      "42.81001666666667\n",
      "42.80996666666667\n",
      "42.80995\n",
      "42.809916666666666\n",
      "42.8099\n",
      "42.80988333333333\n",
      "42.80983333333333\n",
      "42.80981666666667\n",
      "42.8098\n",
      "42.8098\n",
      "42.80988333333333\n",
      "42.81003333333334\n",
      "42.81013333333333\n",
      "42.810116666666666\n",
      "42.8101\n",
      "42.8101\n",
      "42.8101\n",
      "42.81003333333334\n",
      "42.80996666666667\n",
      "42.809916666666666\n",
      "42.809916666666666\n",
      "42.80995\n",
      "42.80996666666667\n",
      "42.809983333333335\n",
      "42.81001666666667\n"
     ]
    }
   ],
   "source": [
    "# use for loop to get the latitude and longitude for each trackpoint line\n",
    "for line in lines_all:        # iterate over each line in the file. Each line is a string.\n",
    "    data = line.split()       # split the line of text into words, each separated by spaces or tabs\n",
    "    if data == []:            # Test for an empty list, the same as \"if not data\"\n",
    "        continue         \n",
    "    if data[0] == 'Trackpoint':   # We only want to consider lines that begin with 'Trackpoint', as these hold the data\n",
    "        print(float(data[1][1:]) + float(data[2])/60.0) # print the latitude"
   ]
  },
  {
   "cell_type": "code",
   "execution_count": 40,
   "metadata": {},
   "outputs": [],
   "source": [
    "# remember to close the file\n",
    "f.close()"
   ]
  },
  {
   "cell_type": "markdown",
   "metadata": {},
   "source": [
    "**Now let's put everything together!**"
   ]
  },
  {
   "cell_type": "code",
   "execution_count": 41,
   "metadata": {},
   "outputs": [
    {
     "name": "stdout",
     "output_type": "stream",
     "text": [
      "42.830333333333336\n",
      "42.83035\n",
      "42.8304\n",
      "42.830416666666665\n",
      "42.8304\n",
      "42.83035\n",
      "42.83035\n",
      "42.83035\n",
      "42.83026666666667\n",
      "42.83011666666667\n",
      "42.8299\n",
      "42.82973333333333\n",
      "42.8296\n",
      "42.829683333333335\n",
      "42.829766666666664\n",
      "42.82966666666667\n",
      "42.82945\n",
      "42.829166666666666\n",
      "42.828916666666665\n",
      "42.82865\n",
      "42.82835\n",
      "42.82805\n",
      "42.8278\n",
      "42.827533333333335\n",
      "42.827283333333334\n",
      "42.82705\n",
      "42.82685\n",
      "42.82666666666667\n",
      "42.82641666666667\n",
      "42.826233333333334\n",
      "42.826033333333335\n",
      "42.82581666666667\n",
      "42.8256\n",
      "42.82541666666667\n",
      "42.82521666666667\n",
      "42.824983333333336\n",
      "42.82476666666667\n",
      "42.82455\n",
      "42.82438333333333\n",
      "42.8242\n",
      "42.823933333333336\n",
      "42.8237\n",
      "42.82353333333333\n",
      "42.82335\n",
      "42.82313333333333\n",
      "42.82295\n",
      "42.82275\n",
      "42.82256666666667\n",
      "42.82236666666667\n",
      "42.82215\n",
      "42.82196666666667\n",
      "42.821783333333336\n",
      "42.821616666666664\n",
      "42.82145\n",
      "42.821266666666666\n",
      "42.82106666666667\n",
      "42.82086666666667\n",
      "42.82073333333334\n",
      "42.820616666666666\n",
      "42.820433333333334\n",
      "42.820283333333336\n",
      "42.82013333333333\n",
      "42.81998333333333\n",
      "42.81985\n",
      "42.8197\n",
      "42.8195\n",
      "42.819316666666666\n",
      "42.81923333333334\n",
      "42.81923333333334\n",
      "42.81921666666667\n",
      "42.81908333333333\n",
      "42.818933333333334\n",
      "42.81875\n",
      "42.818533333333335\n",
      "42.81831666666667\n",
      "42.81818333333333\n",
      "42.81811666666667\n",
      "42.81803333333333\n",
      "42.81786666666667\n",
      "42.81766666666667\n",
      "42.81751666666667\n",
      "42.81741666666667\n",
      "42.81735\n",
      "42.81726666666667\n",
      "42.81706666666667\n",
      "42.816833333333335\n",
      "42.816633333333336\n",
      "42.81645\n",
      "42.816266666666664\n",
      "42.81603333333334\n",
      "42.815783333333336\n",
      "42.81551666666667\n",
      "42.815266666666666\n",
      "42.81503333333333\n",
      "42.81475\n",
      "42.81446666666667\n",
      "42.8142\n",
      "42.813916666666664\n",
      "42.81368333333333\n",
      "42.81345\n",
      "42.813266666666664\n",
      "42.81313333333333\n",
      "42.81308333333333\n",
      "42.81296666666667\n",
      "42.812866666666665\n",
      "42.81288333333333\n",
      "42.81296666666667\n",
      "42.8131\n",
      "42.813183333333335\n",
      "42.8132\n",
      "42.81316666666667\n",
      "42.81308333333333\n",
      "42.81295\n",
      "42.8128\n",
      "42.81271666666667\n",
      "42.81268333333333\n",
      "42.812733333333334\n",
      "42.812866666666665\n",
      "42.81296666666667\n",
      "42.8131\n",
      "42.8132\n",
      "42.813316666666665\n",
      "42.81341666666667\n",
      "42.81355\n",
      "42.813633333333335\n",
      "42.813716666666664\n",
      "42.813833333333335\n",
      "42.81393333333333\n",
      "42.81406666666667\n",
      "42.814166666666665\n",
      "42.814283333333336\n",
      "42.81435\n",
      "42.8144\n",
      "42.814433333333334\n",
      "42.81453333333333\n",
      "42.81475\n",
      "42.81491666666667\n",
      "42.815\n",
      "42.8151\n",
      "42.815266666666666\n",
      "42.81535\n",
      "42.815216666666664\n",
      "42.81505\n",
      "42.814883333333334\n",
      "42.814766666666664\n",
      "42.81466666666667\n",
      "42.81451666666667\n",
      "42.81445\n",
      "42.81446666666667\n",
      "42.8146\n",
      "42.81465\n",
      "42.814616666666666\n",
      "42.8146\n",
      "42.81458333333333\n",
      "42.81455\n",
      "42.81455\n",
      "42.81453333333333\n",
      "42.81453333333333\n",
      "42.81451666666667\n",
      "42.81451666666667\n",
      "42.81451666666667\n",
      "42.81453333333333\n",
      "42.81453333333333\n",
      "42.81453333333333\n",
      "42.81453333333333\n",
      "42.81453333333333\n",
      "42.81455\n",
      "42.81455\n",
      "42.81455\n",
      "42.81455\n",
      "42.81458333333333\n",
      "42.81458333333333\n",
      "42.81458333333333\n",
      "42.8146\n",
      "42.8146\n",
      "42.8146\n",
      "42.8146\n",
      "42.814616666666666\n",
      "42.814616666666666\n",
      "42.81465\n",
      "42.81465\n",
      "42.81465\n",
      "42.81466666666667\n",
      "42.81466666666667\n",
      "42.81466666666667\n",
      "42.81466666666667\n",
      "42.81466666666667\n",
      "42.814683333333335\n",
      "42.814683333333335\n",
      "42.814683333333335\n",
      "42.814683333333335\n",
      "42.814683333333335\n",
      "42.8147\n",
      "42.8147\n",
      "42.814683333333335\n",
      "42.8147\n",
      "42.8148\n",
      "42.81496666666666\n",
      "42.81511666666667\n",
      "42.815133333333335\n",
      "42.81525\n",
      "42.815333333333335\n",
      "42.81536666666667\n",
      "42.81543333333333\n",
      "42.8155\n",
      "42.81556666666667\n",
      "42.81565\n",
      "42.8157\n",
      "42.8157\n",
      "42.81556666666667\n",
      "42.81543333333333\n",
      "42.81536666666667\n",
      "42.81535\n",
      "42.81535\n",
      "42.815333333333335\n",
      "42.81531666666667\n",
      "42.81528333333333\n",
      "42.815266666666666\n",
      "42.81525\n",
      "42.815216666666664\n",
      "42.8152\n",
      "42.81518333333333\n",
      "42.81516666666667\n",
      "42.815133333333335\n",
      "42.8151\n",
      "42.81506666666667\n",
      "42.81503333333333\n",
      "42.815\n",
      "42.81498333333333\n",
      "42.81495\n",
      "42.81491666666667\n",
      "42.8149\n",
      "42.814883333333334\n",
      "42.81483333333333\n",
      "42.81483333333333\n",
      "42.814816666666665\n",
      "42.8148\n",
      "42.814766666666664\n",
      "42.81475\n",
      "42.814733333333336\n",
      "42.8147\n",
      "42.814683333333335\n",
      "42.81466666666667\n",
      "42.81465\n",
      "42.81465\n",
      "42.814616666666666\n",
      "42.8146\n",
      "42.81458333333333\n",
      "42.81455\n",
      "42.81453333333333\n",
      "42.81451666666667\n",
      "42.8145\n",
      "42.81445\n",
      "42.814433333333334\n",
      "42.8144\n",
      "42.81438333333333\n",
      "42.814366666666665\n",
      "42.81435\n",
      "42.81431666666667\n",
      "42.8143\n",
      "42.814283333333336\n",
      "42.81425\n",
      "42.814233333333334\n",
      "42.81421666666667\n",
      "42.8142\n",
      "42.814166666666665\n",
      "42.81415\n",
      "42.81413333333333\n",
      "42.8141\n",
      "42.814083333333336\n",
      "42.81406666666667\n",
      "42.81405\n",
      "42.814\n",
      "42.81398333333333\n",
      "42.81395\n",
      "42.813916666666664\n",
      "42.8139\n",
      "42.81386666666667\n",
      "42.81385\n",
      "42.813833333333335\n",
      "42.8138\n",
      "42.81378333333333\n",
      "42.813766666666666\n",
      "42.81375\n",
      "42.813716666666664\n",
      "42.8137\n",
      "42.8137\n",
      "42.81368333333333\n",
      "42.81365\n",
      "42.813633333333335\n",
      "42.81361666666667\n",
      "42.8136\n",
      "42.81356666666667\n",
      "42.81353333333333\n",
      "42.8135\n",
      "42.81348333333333\n",
      "42.81346666666666\n",
      "42.81341666666667\n",
      "42.8134\n",
      "42.813383333333334\n",
      "42.81335\n",
      "42.81333333333333\n",
      "42.813316666666665\n",
      "42.81328333333333\n",
      "42.813266666666664\n",
      "42.813233333333336\n",
      "42.8132\n",
      "42.813183333333335\n",
      "42.81316666666667\n",
      "42.81316666666667\n",
      "42.81313333333333\n",
      "42.8131\n",
      "42.8131\n",
      "42.81308333333333\n",
      "42.81305\n",
      "42.81303333333334\n",
      "42.81301666666667\n",
      "42.812983333333335\n",
      "42.812983333333335\n",
      "42.81296666666667\n",
      "42.81293333333333\n",
      "42.8129\n",
      "42.81288333333333\n",
      "42.812866666666665\n",
      "42.81283333333333\n",
      "42.81281666666667\n",
      "42.8128\n",
      "42.812783333333336\n",
      "42.81275\n",
      "42.812733333333334\n",
      "42.81271666666667\n",
      "42.812666666666665\n",
      "42.81265\n",
      "42.81263333333333\n",
      "42.8126\n",
      "42.812583333333336\n",
      "42.81256666666667\n",
      "42.812533333333334\n",
      "42.81251666666667\n",
      "42.81248333333333\n",
      "42.81245\n",
      "42.81243333333333\n",
      "42.812416666666664\n",
      "42.81238333333334\n",
      "42.81236666666667\n",
      "42.81236666666667\n",
      "42.812333333333335\n",
      "42.8123\n",
      "42.81228333333333\n",
      "42.812266666666666\n",
      "42.81223333333333\n",
      "42.812216666666664\n",
      "42.8122\n",
      "42.81218333333333\n",
      "42.81215\n",
      "42.812133333333335\n",
      "42.81211666666667\n",
      "42.81206666666667\n",
      "42.81205\n",
      "42.81203333333333\n",
      "42.812\n",
      "42.81198333333333\n",
      "42.81196666666666\n",
      "42.811933333333336\n",
      "42.81191666666667\n",
      "42.8119\n",
      "42.811883333333334\n",
      "42.81185\n",
      "42.811816666666665\n",
      "42.81178333333333\n",
      "42.811766666666664\n",
      "42.81175\n",
      "42.811733333333336\n",
      "42.811683333333335\n",
      "42.81166666666667\n",
      "42.81163333333333\n",
      "42.811616666666666\n",
      "42.8116\n",
      "42.811566666666664\n",
      "42.81155\n",
      "42.81153333333334\n",
      "42.81151666666667\n",
      "42.81146666666667\n",
      "42.81145\n",
      "42.811416666666666\n",
      "42.8114\n",
      "42.81138333333333\n",
      "42.81133333333333\n",
      "42.81131666666667\n",
      "42.8113\n",
      "42.81126666666667\n",
      "42.81125\n",
      "42.81121666666667\n",
      "42.81118333333333\n",
      "42.811166666666665\n",
      "42.81115\n",
      "42.8111\n",
      "42.811083333333336\n",
      "42.81106666666667\n",
      "42.811033333333334\n",
      "42.811\n",
      "42.810966666666666\n",
      "42.81095\n",
      "42.81093333333333\n",
      "42.81088333333334\n",
      "42.81086666666667\n",
      "42.81085\n",
      "42.81081666666667\n",
      "42.8108\n",
      "42.81078333333333\n",
      "42.810766666666666\n",
      "42.81073333333333\n",
      "42.810716666666664\n",
      "42.81066666666667\n",
      "42.81065\n",
      "42.810633333333335\n",
      "42.81061666666667\n",
      "42.810583333333334\n",
      "42.810566666666666\n",
      "42.81055\n",
      "42.810516666666665\n",
      "42.8105\n",
      "42.81048333333333\n",
      "42.81046666666667\n",
      "42.810433333333336\n",
      "42.81041666666667\n",
      "42.8104\n",
      "42.81036666666667\n",
      "42.81035\n",
      "42.81033333333333\n",
      "42.810316666666665\n",
      "42.810266666666664\n",
      "42.81025\n",
      "42.81021666666667\n",
      "42.8102\n",
      "42.810183333333335\n",
      "42.81016666666667\n",
      "42.81013333333333\n",
      "42.810116666666666\n",
      "42.8101\n",
      "42.810066666666664\n",
      "42.81005\n",
      "42.81003333333334\n",
      "42.81001666666667\n",
      "42.80996666666667\n",
      "42.80995\n",
      "42.809916666666666\n",
      "42.8099\n",
      "42.80988333333333\n",
      "42.80983333333333\n",
      "42.80981666666667\n",
      "42.8098\n",
      "42.8098\n",
      "42.80988333333333\n",
      "42.81003333333334\n",
      "42.81013333333333\n",
      "42.810116666666666\n",
      "42.8101\n",
      "42.8101\n",
      "42.8101\n",
      "42.81003333333334\n",
      "42.80996666666667\n",
      "42.809916666666666\n",
      "42.809916666666666\n",
      "42.80995\n",
      "42.80996666666667\n",
      "42.809983333333335\n",
      "42.81001666666667\n"
     ]
    }
   ],
   "source": [
    "# open the file\n",
    "f = open('data/02_GPS.dat')\n",
    "\n",
    "# go to the first line\n",
    "f.seek(0)\n",
    "\n",
    "# get all the text in the data file\n",
    "lines_all = f.readlines()\n",
    "\n",
    "# use for loop to get the latitude and longitude for each trackpoint line\n",
    "for line in lines_all:        # iterate over each line in the file. Each line is a string.\n",
    "    data = line.split()       # split the line of text into words, each separated by spaces or tabs\n",
    "    if data == []:            # Test for an empty list, the same as \"if not data\"\n",
    "        continue         \n",
    "    if data[0] == 'Trackpoint':   # We only want to consider lines that begin with 'Trackpoint', as these hold the data\n",
    "        print(float(data[1][1:]) + float(data[2])/60.0) # print the latitude\n",
    "        \n",
    "# close the file\n",
    "f.close()"
   ]
  },
  {
   "cell_type": "markdown",
   "metadata": {},
   "source": [
    "**Now, lets write the converted latitudes to a file**"
   ]
  },
  {
   "cell_type": "markdown",
   "metadata": {
    "collapsed": true
   },
   "source": [
    "To write a file, open it with the `'w'` flag, which specifies the file as writable. This example shows how to write the latitude with a specific format (**2 decimal places**) to a file called \"gps_out.dat\" in the data folder. [Learn more about string formatting from the python documentation](https://docs.python.org/3/library/string.html#format-string-syntax)"
   ]
  },
  {
   "cell_type": "code",
   "execution_count": 43,
   "metadata": {},
   "outputs": [],
   "source": [
    "# open the output file\n",
    "fout = open('data_out/gps_out_lat.txt', 'w')\n",
    "\n",
    "# open the file containing the input\n",
    "f = open('data/02_GPS.dat')\n",
    "\n",
    "# go to the first line\n",
    "f.seek(0)\n",
    "\n",
    "for line in f.readlines():        # iterate over each line in the file. Each line is a string.\n",
    "    data = line.split()           # split the line of text into words, each separated by spaces\n",
    "    if data == []:                # Test for an empty list\n",
    "        continue         \n",
    "    if data[0] == 'Trackpoint':   # We only want to consider lines that begin with 'Trackpoint', as these hold the data\n",
    "        lat = float(data[1][1:]) + float(data[2])/60.0\n",
    "        \n",
    "        # write to the fout file with 2 decimal places (don't forget the newline character \\n)\n",
    "        fout.write(\"{0:.2f}\\n\".format(lat)) # print the latitude with 2 decimal places            \n",
    "\n",
    "f.close()\n",
    "fout.close()"
   ]
  },
  {
   "cell_type": "markdown",
   "metadata": {},
   "source": [
    "\n",
    "### *Exercise*\n",
    "\n",
    "> Following the above tutorial, write the longitude with 2 decimal places and save the output to the 'data_out' folder with a filename of \"gps_out_lon.txt\" \n",
    "\n",
    "> Test \"{0:.2f}\\n\" vs. \"{0:.2f}\" when you write to the file."
   ]
  },
  {
   "cell_type": "code",
   "execution_count": null,
   "metadata": {},
   "outputs": [],
   "source": []
  },
  {
   "cell_type": "code",
   "execution_count": null,
   "metadata": {},
   "outputs": [],
   "source": []
  }
 ],
 "metadata": {
  "anaconda-cloud": {},
  "kernelspec": {
   "display_name": "Python 3 (ipykernel)",
   "language": "python",
   "name": "python3"
  },
  "language_info": {
   "codemirror_mode": {
    "name": "ipython",
    "version": 3
   },
   "file_extension": ".py",
   "mimetype": "text/x-python",
   "name": "python",
   "nbconvert_exporter": "python",
   "pygments_lexer": "ipython3",
   "version": "3.8.10"
  },
  "toc": {
   "base_numbering": 1,
   "nav_menu": {},
   "number_sections": false,
   "sideBar": true,
   "skip_h1_title": false,
   "title_cell": "Table of Contents",
   "title_sidebar": "Contents",
   "toc_cell": false,
   "toc_position": {},
   "toc_section_display": true,
   "toc_window_display": false
  }
 },
 "nbformat": 4,
 "nbformat_minor": 1
}
