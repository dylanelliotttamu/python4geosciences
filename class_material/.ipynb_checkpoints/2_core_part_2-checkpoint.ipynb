{
 "cells": [
  {
   "cell_type": "markdown",
   "metadata": {},
   "source": [
    "# Python cheatsheets and tutorials\n",
    "\n",
    "1. [Python basics](https://www.pythoncheatsheet.org/)\n",
    "2. [numpy](http://datacamp-community-prod.s3.amazonaws.com/da466534-51fe-4c6d-b0cb-154f4782eb54)\n",
    "3. [pandas](https://pandas.pydata.org/Pandas_Cheat_Sheet.pdf)\n",
    "4. [Basics, numpy and pandas](https://www.kaggle.com/lavanyashukla01/pandas-numpy-python-cheatsheet)\n",
    "5. [matplotlib for plotting](https://github.com/matplotlib/cheatsheets#cheatsheets) \n",
    "6. [seaborn for plotting](https://seaborn.pydata.org/tutorial.html) "
   ]
  },
  {
   "cell_type": "markdown",
   "metadata": {},
   "source": [
    "# Python basics part 2"
   ]
  },
  {
   "cell_type": "markdown",
   "metadata": {},
   "source": [
    "# Conditionals\n",
    "\n",
    "Generally, conditionals look like\n",
    "\n",
    "    if <test>:\n",
    "        <Code run if test is valid>>\n",
    "\n",
    "or\n",
    "\n",
    "    if <first test>:\n",
    "        <Code run if the first test is valid.>\n",
    "    elif <second test>:\n",
    "        <Code run if the second test is valid>\n",
    "    else:\n",
    "        <Code run if neither test is valid>\n",
    "\n",
    "In both cases the test statements are code segments that return a boolean value, often a test for equality or inequality. The `elif` and `else` statements are always optional; both, either, or none can be included."
   ]
  },
  {
   "cell_type": "code",
   "execution_count": 1,
   "metadata": {},
   "outputs": [
    {
     "name": "stdout",
     "output_type": "stream",
     "text": [
      "x is more than 10\n"
     ]
    }
   ],
   "source": [
    "x = 20\n",
    "\n",
    "if x < 10:\n",
    "    print('x is less than 10')\n",
    "else:\n",
    "    print('x is more than 10')"
   ]
  },
  {
   "cell_type": "markdown",
   "metadata": {},
   "source": [
    "#### Note: Indentation is very important\n",
    "\n",
    "* Indentation in python is typically *4 spaces*. Most programming text editors will be smart about indentation, and will also convert TABs to four spaces. Jupyter notebooks are smart about indentation, and will do the right thing, i.e., autoindent a line below a line with a trailing colon, and convert TABs to spaces.\n",
    "\n",
    "* Indentation is commonly seen in functions, try-except code blocks, conditionals (here), for-while loops (will see later), etc. In Jupyter notebook, just press `Enter` or `Return` following the keyword line (e.g., `def`, `if`, `for`, `while`) and it will create the indentation in the following line."
   ]
  },
  {
   "cell_type": "markdown",
   "metadata": {},
   "source": [
    "---\n",
    "### *Exercise*\n",
    "\n",
    "> Run the code in the following cell. Is this what you want?\n",
    "\n",
    "> Add an `elif` statement to code that will print the correct message when x is 10.\n",
    "\n",
    "---"
   ]
  },
  {
   "cell_type": "code",
   "execution_count": 8,
   "metadata": {},
   "outputs": [],
   "source": [
    "x = 10\n",
    "def check_value(x):\n",
    "    if x < 10:\n",
    "        print('x is less than 10')\n",
    "    elif x == 10: \n",
    "        print('x is 10')\n",
    "    else:\n",
    "        print('x is more than 10')\n"
   ]
  },
  {
   "cell_type": "code",
   "execution_count": 9,
   "metadata": {},
   "outputs": [
    {
     "name": "stdout",
     "output_type": "stream",
     "text": [
      "x is 10\n"
     ]
    }
   ],
   "source": [
    "check_value(x)\n"
   ]
  },
  {
   "cell_type": "markdown",
   "metadata": {},
   "source": [
    "### More on conditional: `and`, `or`"
   ]
  },
  {
   "cell_type": "markdown",
   "metadata": {},
   "source": [
    "* For `and`: when all tests joined by `and` are true, the result will be true. If there is any test that is false, the result will be false.\n",
    "\n",
    "* For `or`: when there is at least one test joined by `or` is true, the result will be true. If all tests are false, the result will be false"
   ]
  },
  {
   "cell_type": "code",
   "execution_count": 10,
   "metadata": {},
   "outputs": [],
   "source": [
    "a = 3\n",
    "b = 4"
   ]
  },
  {
   "cell_type": "code",
   "execution_count": 11,
   "metadata": {},
   "outputs": [
    {
     "name": "stdout",
     "output_type": "stream",
     "text": [
      "a is bigger than 2\n"
     ]
    }
   ],
   "source": [
    "if (a > 2):\n",
    "    print(\"a is bigger than 2\")"
   ]
  },
  {
   "cell_type": "markdown",
   "metadata": {},
   "source": [
    "**using `and`:**"
   ]
  },
  {
   "cell_type": "code",
   "execution_count": 12,
   "metadata": {},
   "outputs": [
    {
     "name": "stdout",
     "output_type": "stream",
     "text": [
      "the result is true\n"
     ]
    }
   ],
   "source": [
    "# both tests are true\n",
    "if (a > 2 and b > 3):\n",
    "    print(\"the result is true\")\n",
    "else:\n",
    "    print(\"the result is false\")"
   ]
  },
  {
   "cell_type": "code",
   "execution_count": 13,
   "metadata": {},
   "outputs": [
    {
     "name": "stdout",
     "output_type": "stream",
     "text": [
      "the result is false\n"
     ]
    }
   ],
   "source": [
    "# one condition is false\n",
    "if (a > 4 and b > 3):\n",
    "    print(\"the result is true\")\n",
    "else:\n",
    "    print(\"the result is false\")"
   ]
  },
  {
   "cell_type": "code",
   "execution_count": 14,
   "metadata": {},
   "outputs": [
    {
     "name": "stdout",
     "output_type": "stream",
     "text": [
      "the result is false\n"
     ]
    }
   ],
   "source": [
    "# both conditions are false\n",
    "if (a > 4 and b > 5):\n",
    "    print(\"the result is true\")\n",
    "else:\n",
    "    print(\"the result is false\")"
   ]
  },
  {
   "cell_type": "markdown",
   "metadata": {},
   "source": [
    "**using `or`:**"
   ]
  },
  {
   "cell_type": "code",
   "execution_count": 15,
   "metadata": {},
   "outputs": [
    {
     "name": "stdout",
     "output_type": "stream",
     "text": [
      "the result is true\n"
     ]
    }
   ],
   "source": [
    "# both tests are true\n",
    "if (a > 2 or b > 3):\n",
    "    print(\"the result is true\")\n",
    "else:\n",
    "    print(\"the result is false\")"
   ]
  },
  {
   "cell_type": "code",
   "execution_count": 16,
   "metadata": {},
   "outputs": [
    {
     "name": "stdout",
     "output_type": "stream",
     "text": [
      "the result is true\n"
     ]
    }
   ],
   "source": [
    "# one condition is false\n",
    "if (a > 4 or b > 3):\n",
    "    print(\"the result is true\")\n",
    "else:\n",
    "    print(\"the result is false\")"
   ]
  },
  {
   "cell_type": "code",
   "execution_count": 17,
   "metadata": {},
   "outputs": [
    {
     "name": "stdout",
     "output_type": "stream",
     "text": [
      "the result is false\n"
     ]
    }
   ],
   "source": [
    "# both conditions are false\n",
    "if (a > 4 or b > 5):\n",
    "    print(\"the result is true\")\n",
    "else:\n",
    "    print(\"the result is false\")"
   ]
  },
  {
   "cell_type": "markdown",
   "metadata": {},
   "source": [
    "# Loops\n",
    "\n",
    "Loops are one of the fundamental structures in programming. Loops allow you to iterate over each element in a sequence, one at a time, and do something with those elements."
   ]
  },
  {
   "cell_type": "markdown",
   "metadata": {},
   "source": [
    "### For loops"
   ]
  },
  {
   "cell_type": "code",
   "execution_count": 18,
   "metadata": {},
   "outputs": [
    {
     "name": "stdout",
     "output_type": "stream",
     "text": [
      "1\n",
      "2\n",
      "3\n"
     ]
    }
   ],
   "source": [
    "for i in [1, 2, 3]:\n",
    "    print(i)"
   ]
  },
  {
   "cell_type": "markdown",
   "metadata": {},
   "source": [
    "*Loop syntax*: Loops have a very particular syntax in Python; this syntax is one of the most notable features to Python newcomers. The format looks like (using for-loop as an example)\n",
    "\n",
    "    for *element* in *sequence*:                # NOTE the colon at the end\n",
    "        <some code that uses the *element*>     # the block of code that is looped over for each element\n",
    "        <more code that uses the *element*>     # is indented four spaces (yes four! yes spaces!)\n",
    "    \n",
    "    <the code after the loop continues>         # the end of the loop is marked simply by unindented code\n",
    "    \n",
    "**Indentation is important**."
   ]
  },
  {
   "cell_type": "markdown",
   "metadata": {},
   "source": [
    "A simple example of the for-loop is to find the sum of the squares of the sequence 0 through 99:\n",
    "\n",
    "**Note in the following codes:**\n",
    "\n",
    "1. the `+=` operator is equivalent to `sum = sum + n**2` equal to `sum += n**2`\n",
    "2. the `**` operator is a power\n",
    "3. the range function yields a sequence of numbers from 0 up to but not including the number inside range. For example, range(5) will yields a sequence of numbers from 0 up to 4 (**not 5!**)"
   ]
  },
  {
   "cell_type": "code",
   "execution_count": 19,
   "metadata": {},
   "outputs": [
    {
     "name": "stdout",
     "output_type": "stream",
     "text": [
      "328350\n"
     ]
    }
   ],
   "source": [
    "sum_of_squares = 0\n",
    "\n",
    "for n in range(100):\n",
    "    sum_of_squares += n**2        \n",
    "\n",
    "print(sum_of_squares)"
   ]
  },
  {
   "cell_type": "markdown",
   "metadata": {},
   "source": [
    "**More on range (see this [tutorial](https://www.datacamp.com/community/tutorials/python-range-function?utm_source=adwords_ppc&utm_medium=cpc&utm_campaignid=14051819510&utm_adgroupid=&utm_device=c&utm_keyword=&utm_matchtype=&utm_network=x&utm_adpostion=&utm_creative=&utm_targetid=&utm_loc_interest_ms=&utm_loc_physical_ms=1026305&gclid=Cj0KCQiAieWOBhCYARIsANcOw0zo4UpTfmMB8VpGxUMp-G9zZDdV5Htglp9FGF_9sobW9aGkq_FnjxIaAmFoEALw_wcB))**\n",
    "\n",
    "* The range function is a very popular and widely used function in Python, especially when you are working with predominantly **for loops**.\n",
    "\n",
    "* Since the `range()` function returns a **generator object** that only stores the start, stop, and step values, it consumes less amount of memory irrespective of the range it represents when compared to a list or tuple.\n",
    "\n",
    "* The range() function can be represented in three different ways, or you can think of them as three range parameters:\n",
    "    1. range(start, stop, step) : This generates the sequence based on the start and stop value (not including the stop value), with a step size of step.\n",
    "    2. range(start, stop) : This generates the sequence based on the start and stop value (not including the stop value), with a step size of 1.\n",
    "    3. range(stop): This generates the sequence based on the start (0) and stop value (not including the stop value), with a step size of 1."
   ]
  },
  {
   "cell_type": "code",
   "execution_count": 20,
   "metadata": {},
   "outputs": [
    {
     "name": "stdout",
     "output_type": "stream",
     "text": [
      "2\n",
      "4\n",
      "6\n",
      "8\n"
     ]
    }
   ],
   "source": [
    "# some examples\n",
    "for i in range(2,10,2):\n",
    "    print(i)"
   ]
  },
  {
   "cell_type": "code",
   "execution_count": 21,
   "metadata": {},
   "outputs": [
    {
     "name": "stdout",
     "output_type": "stream",
     "text": [
      "2\n",
      "3\n",
      "4\n",
      "5\n",
      "6\n",
      "7\n",
      "8\n",
      "9\n"
     ]
    }
   ],
   "source": [
    "# some examples\n",
    "for i in range(2,10):\n",
    "    print(i)"
   ]
  },
  {
   "cell_type": "code",
   "execution_count": 22,
   "metadata": {},
   "outputs": [
    {
     "name": "stdout",
     "output_type": "stream",
     "text": [
      "0\n",
      "1\n",
      "2\n",
      "3\n",
      "4\n",
      "5\n",
      "6\n",
      "7\n",
      "8\n",
      "9\n"
     ]
    }
   ],
   "source": [
    "# some examples\n",
    "for i in range(10):\n",
    "    print(i)"
   ]
  },
  {
   "cell_type": "code",
   "execution_count": 23,
   "metadata": {},
   "outputs": [
    {
     "name": "stdout",
     "output_type": "stream",
     "text": [
      "0\n",
      "1\n",
      "2\n",
      "3\n",
      "4\n",
      "5\n",
      "6\n",
      "7\n",
      "8\n",
      "9\n"
     ]
    }
   ],
   "source": [
    "# This cell generates the same result, but is not recommended\n",
    "# compared with range(10), this [0, 1, 2, 3, 4, 5, 6, 7, 8, 9] will consume more memory\n",
    "for i in [0, 1, 2, 3, 4, 5, 6, 7, 8, 9]:\n",
    "    print(i)\n"
   ]
  },
  {
   "cell_type": "markdown",
   "metadata": {},
   "source": [
    "---\n",
    "### *Exercise*\n",
    "\n",
    "> Create a for loop. print from 10 to 1.\n",
    "\n",
    "---"
   ]
  },
  {
   "cell_type": "code",
   "execution_count": 34,
   "metadata": {},
   "outputs": [
    {
     "name": "stdout",
     "output_type": "stream",
     "text": [
      "10\n",
      "9\n",
      "8\n",
      "7\n",
      "6\n",
      "5\n",
      "4\n",
      "3\n",
      "2\n",
      "1\n"
     ]
    }
   ],
   "source": [
    "for i in range(10,0,-1):\n",
    "    print(i)"
   ]
  },
  {
   "cell_type": "markdown",
   "metadata": {},
   "source": [
    "You can iterate over any sequence (e.g., range, list, or **even string**)! Note that string is also a sequence."
   ]
  },
  {
   "cell_type": "code",
   "execution_count": 36,
   "metadata": {},
   "outputs": [
    {
     "name": "stdout",
     "output_type": "stream",
     "text": [
      "h\n",
      "e\n",
      "l\n",
      "l\n",
      "o\n",
      ",\n",
      " \n",
      "w\n",
      "o\n",
      "r\n",
      "l\n",
      "d\n"
     ]
    }
   ],
   "source": [
    "for element in \"hello, world\":\n",
    "    print(element)"
   ]
  },
  {
   "cell_type": "markdown",
   "metadata": {},
   "source": [
    "**Tips**: If you only need the element (not the indices) inside the sequence, it is better to **iterate over the sequence itself** than to **loop over the indices of that sequence**. \n",
    "\n",
    "The following two examples give the same result, but the first is much more readable and easily understood than the second. **Do the first whenever possible**."
   ]
  },
  {
   "cell_type": "code",
   "execution_count": 37,
   "metadata": {},
   "outputs": [
    {
     "name": "stdout",
     "output_type": "stream",
     "text": [
      "the quick brown fox jumped over the lazy dog \n"
     ]
    }
   ],
   "source": [
    "# THIS IS BETTER THAN THE NEXT CODE BLOCK. DO IT THIS WAY.\n",
    "words = ['the', 'quick', 'brown', 'fox', 'jumped', 'over', 'the', 'lazy', 'dog']\n",
    "\n",
    "sentence = ''  # this initializes a string which we can then add onto\n",
    "for word in words:\n",
    "    sentence += word + ' ' # note '+=' is equivalent to sentence = sentence + word + ' '\n",
    "\n",
    "print(sentence)"
   ]
  },
  {
   "cell_type": "code",
   "execution_count": 38,
   "metadata": {},
   "outputs": [
    {
     "name": "stdout",
     "output_type": "stream",
     "text": [
      "the quick brown fox jumped over the lazy dog \n"
     ]
    }
   ],
   "source": [
    "# DON'T DO IT THIS WAY IF POSSIBLE, DO IT THE WAY IN THE PREVIOUS CODE BLOCK.\n",
    "words = ['the', 'quick', 'brown', 'fox', 'jumped', 'over', 'the', 'lazy', 'dog']\n",
    "\n",
    "sentence = ''\n",
    "for i in range(len(words)):\n",
    "    sentence += words[i] + ' '\n",
    "\n",
    "print(sentence)"
   ]
  },
  {
   "cell_type": "markdown",
   "metadata": {},
   "source": [
    "Sometimes you want to iterate over both the elements and their indices in a sequence. One way to do that is the `enumerate` function:\n",
    "\n",
    "    enumerate(<sequence>)\n",
    "\n",
    "This returns a sequence of **tuples** containing two items. The first item in each tuple is the index, the second is the element itself. It is commonly used in `for` loops, like"
   ]
  },
  {
   "cell_type": "code",
   "execution_count": 39,
   "metadata": {},
   "outputs": [
    {
     "name": "stdout",
     "output_type": "stream",
     "text": [
      "The iteration is (0, 'the')\n",
      "The iteration is (1, 'quick')\n",
      "The iteration is (2, 'brown')\n",
      "The iteration is (3, 'fox')\n",
      "The iteration is (4, 'jumped')\n",
      "The iteration is (5, 'over')\n",
      "The iteration is (6, 'the')\n",
      "The iteration is (7, 'lazy')\n",
      "The iteration is (8, 'dog')\n"
     ]
    }
   ],
   "source": [
    "for tuple_word in enumerate(words):\n",
    "    print('The iteration is', tuple_word)"
   ]
  },
  {
   "cell_type": "markdown",
   "metadata": {},
   "source": [
    "**If you want to seperate the index and the element:**"
   ]
  },
  {
   "cell_type": "code",
   "execution_count": 40,
   "metadata": {},
   "outputs": [
    {
     "name": "stdout",
     "output_type": "stream",
     "text": [
      "The index is 0 and the word is the\n",
      "The index is 1 and the word is quick\n",
      "The index is 2 and the word is brown\n",
      "The index is 3 and the word is fox\n",
      "The index is 4 and the word is jumped\n",
      "The index is 5 and the word is over\n",
      "The index is 6 and the word is the\n",
      "The index is 7 and the word is lazy\n",
      "The index is 8 and the word is dog\n"
     ]
    }
   ],
   "source": [
    "for idx, word in enumerate(words):\n",
    "    print('The index is {0} and the word is {1}'.format(idx, word))"
   ]
  },
  {
   "cell_type": "markdown",
   "metadata": {},
   "source": [
    "---\n",
    "### *Exercise*\n",
    "\n",
    "> Create a list that contains \"Sam\", \"Tim\", and \"Lidia\", iterate this list and print out the following <br>\n",
    "\n",
    "Number 1 is Sam <br>\n",
    "Number 2 is Tim <br>\n",
    "Number 3 is Lidia <br>\n",
    "\n",
    "> Try to use two print methods\n",
    "\n",
    "---"
   ]
  },
  {
   "cell_type": "code",
   "execution_count": 46,
   "metadata": {},
   "outputs": [
    {
     "name": "stdout",
     "output_type": "stream",
     "text": [
      "Number 1 is Sam\n",
      "Number 2 is Tim\n",
      "Number 3 is Lidia\n"
     ]
    }
   ],
   "source": [
    "name_list = ['Sam', 'Tim', 'Lidia']\n",
    "\n",
    "for idx, name in enumerate(name_list):\n",
    "    print('Number {0} is {1}'.format(idx+1,name))"
   ]
  },
  {
   "cell_type": "code",
   "execution_count": 47,
   "metadata": {},
   "outputs": [
    {
     "name": "stdout",
     "output_type": "stream",
     "text": [
      "Number 1 is Sam\n",
      "Number 2 is Tim\n",
      "Number 3 is Lidia\n"
     ]
    }
   ],
   "source": [
    "for idx, name in enumerate(name_list):\n",
    "    print('Number ' + str(idx+1) + ' is '+ name)"
   ]
  },
  {
   "cell_type": "markdown",
   "metadata": {},
   "source": [
    "### List comprehension (super useful!)\n",
    "\n",
    "There is a short way to make a list from a simple rule by using list comprehensions. The syntax is like\n",
    "\n",
    "    [<element(item)> for item in sequence]\n",
    "    \n",
    "The `element` can be any code snippet that depends on the `item`. "
   ]
  },
  {
   "cell_type": "markdown",
   "metadata": {},
   "source": [
    "for example, we can calculate the squares of the first 10 integers"
   ]
  },
  {
   "cell_type": "code",
   "execution_count": 48,
   "metadata": {},
   "outputs": [
    {
     "data": {
      "text/plain": [
       "[0, 1, 4, 9, 16, 25, 36, 49, 64, 81]"
      ]
     },
     "execution_count": 48,
     "metadata": {},
     "output_type": "execute_result"
    }
   ],
   "source": [
    "[i**2 for i in range(10)]"
   ]
  },
  {
   "cell_type": "code",
   "execution_count": 49,
   "metadata": {},
   "outputs": [
    {
     "data": {
      "text/plain": [
       "[0, 1, 4, 9, 16, 25, 36, 49, 64, 81]"
      ]
     },
     "execution_count": 49,
     "metadata": {},
     "output_type": "execute_result"
    }
   ],
   "source": [
    "# the normal way (cumbersome!):\n",
    "xx = []\n",
    "for i in range(10):\n",
    "    xx.append(i**2)\n",
    "xx"
   ]
  },
  {
   "cell_type": "markdown",
   "metadata": {},
   "source": [
    "This example gives a sequence of boolean values that determine if the element in a list is a string."
   ]
  },
  {
   "cell_type": "code",
   "execution_count": 50,
   "metadata": {},
   "outputs": [
    {
     "data": {
      "text/plain": [
       "[False, False, True, False, False]"
      ]
     },
     "execution_count": 50,
     "metadata": {},
     "output_type": "execute_result"
    }
   ],
   "source": [
    "random_list = [1, 2, 'three', 4.0, ['five']]\n",
    "foo = [isinstance(item, str) for item in random_list]\n",
    "foo"
   ]
  },
  {
   "cell_type": "markdown",
   "metadata": {},
   "source": [
    "*the normal for-loop: cumbersome!!!*"
   ]
  },
  {
   "cell_type": "code",
   "execution_count": 51,
   "metadata": {},
   "outputs": [
    {
     "data": {
      "text/plain": [
       "[False, False, True, False, False]"
      ]
     },
     "execution_count": 51,
     "metadata": {},
     "output_type": "execute_result"
    }
   ],
   "source": [
    "random_list = [1, 2, 'three', 4.0, ['five']]\n",
    "\n",
    "foo = []\n",
    "for item in random_list:\n",
    "    foo.append(isinstance(item, str))\n",
    "foo"
   ]
  },
  {
   "cell_type": "markdown",
   "metadata": {},
   "source": [
    "---\n",
    "### *Exercise*\n",
    "\n",
    "> Modify the previous list comprehension to test if the elements are integers.\n",
    "\n",
    "---"
   ]
  },
  {
   "cell_type": "code",
   "execution_count": 53,
   "metadata": {},
   "outputs": [
    {
     "data": {
      "text/plain": [
       "[True, True, False, False, False]"
      ]
     },
     "execution_count": 53,
     "metadata": {},
     "output_type": "execute_result"
    }
   ],
   "source": [
    "[isinstance(item, int) for item in random_list]"
   ]
  },
  {
   "cell_type": "markdown",
   "metadata": {},
   "source": [
    "**Combine list comprehension with filtering**\n",
    "\n",
    "This filtering form is similar to the simple form of list comprehension, but it evaluates boolean-expression for every item. It also only keeps those members for which the boolean expression is True."
   ]
  },
  {
   "cell_type": "code",
   "execution_count": 54,
   "metadata": {},
   "outputs": [
    {
     "data": {
      "text/plain": [
       "[0, 1, 2, 3, 4, 5, 6, 7, 8, 9]"
      ]
     },
     "execution_count": 54,
     "metadata": {},
     "output_type": "execute_result"
    }
   ],
   "source": [
    "# obtain the integers from 0 to 9\n",
    "foo = [i for i in range(10)]\n",
    "foo"
   ]
  },
  {
   "cell_type": "code",
   "execution_count": 55,
   "metadata": {},
   "outputs": [
    {
     "data": {
      "text/plain": [
       "[0, 3, 6, 9]"
      ]
     },
     "execution_count": 55,
     "metadata": {},
     "output_type": "execute_result"
    }
   ],
   "source": [
    "# obtain the integers from 0 to 9 that are divisible by 3\n",
    "# we use the modulus operator % to check is the remainder is 0\n",
    "foo = [i for i in range(10) if i % 3 == 0]\n",
    "foo"
   ]
  },
  {
   "cell_type": "markdown",
   "metadata": {},
   "source": [
    "*the normal for-loop: cumbersome!!!* Not recommended!"
   ]
  },
  {
   "cell_type": "code",
   "execution_count": 56,
   "metadata": {},
   "outputs": [
    {
     "data": {
      "text/plain": [
       "[0, 3, 6, 9]"
      ]
     },
     "execution_count": 56,
     "metadata": {},
     "output_type": "execute_result"
    }
   ],
   "source": [
    "foo = []\n",
    "for i in range(10):\n",
    "    if i % 3 == 0:\n",
    "        foo.append(i)\n",
    "        \n",
    "foo"
   ]
  },
  {
   "cell_type": "markdown",
   "metadata": {},
   "source": [
    "### While loops\n",
    "\n",
    "The majority of loops that you will write will be `for` loops. These are loops that have a defined number of iterations, over a specified sequence. However, there may be times when it is not clear when the loop should terminate. In this case, you use a `while` loop. This has the syntax\n",
    "\n",
    "    while <condition>:\n",
    "        <code>\n",
    "\n",
    "The while loop is like a repeated if statement. The code is executed over and over again, as long as the `condition` is True.\n",
    "\n",
    "`condition` should be something that can be evaluated when the loop is started, and the variables that determine the conditional should be modified in the loop and should finally yield a false condition to stop the loop.\n",
    "\n",
    "**This kind of loop should be used carefully** — it is relatively easy to accidentally create an infinite loop, where the condition is never triggered to stop so the loop continues forever. **This can cause the computer to crash**."
   ]
  },
  {
   "cell_type": "markdown",
   "metadata": {},
   "source": [
    "Here is an example of using the while loop to check the error of a dummy numerical model\n",
    "\n",
    "* Error starts at 50\n",
    "* Error is divided by 4 on every run\n",
    "* Continue until error is no longer > 1"
   ]
  },
  {
   "cell_type": "code",
   "execution_count": 60,
   "metadata": {},
   "outputs": [
    {
     "name": "stdout",
     "output_type": "stream",
     "text": [
      "12.5\n",
      "3.125\n",
      "0.78125\n"
     ]
    }
   ],
   "source": [
    "error = 50\n",
    "\n",
    "while error > 1:\n",
    "    error = error / 4\n",
    "    print(error)"
   ]
  },
  {
   "cell_type": "markdown",
   "metadata": {},
   "source": [
    "---\n",
    "### *Exercise*\n",
    "\n",
    "* Write a for loop, add up integers from 0 to 100.\n",
    "\n",
    "* Write a while loop, add up integers from 0 to 100.\n",
    "\n",
    "---"
   ]
  },
  {
   "cell_type": "code",
   "execution_count": 70,
   "metadata": {},
   "outputs": [
    {
     "data": {
      "text/plain": [
       "5050"
      ]
     },
     "execution_count": 70,
     "metadata": {},
     "output_type": "execute_result"
    }
   ],
   "source": [
    "to100 = range(0,101,1)\n",
    "sum_num = 0\n",
    "for i in to100:\n",
    "    sum_num += i\n",
    "sum_num"
   ]
  },
  {
   "cell_type": "code",
   "execution_count": 71,
   "metadata": {},
   "outputs": [
    {
     "name": "stdout",
     "output_type": "stream",
     "text": [
      "5050\n"
     ]
    }
   ],
   "source": [
    "i = 0 \n",
    "sum_num = 0\n",
    "\n",
    "while i < 101:\n",
    "    sum_num = sum_num +i\n",
    "    i = i + 1\n",
    "    \n",
    "print(sum_num)"
   ]
  },
  {
   "cell_type": "markdown",
   "metadata": {},
   "source": [
    "### Flow control: combine loops and conditionals\n",
    "\n",
    "There are a few statements that allow you to control the flow of any iterative loop: `continue`, `break`, and `pass`.\n",
    "\n",
    "- `continue` stops the current iteration and continues to the next element of the loop, if there is one.\n",
    "\n",
    "- `break` stops the current iteration, and leaves the loop."
   ]
  },
  {
   "cell_type": "code",
   "execution_count": 72,
   "metadata": {},
   "outputs": [
    {
     "name": "stdout",
     "output_type": "stream",
     "text": [
      "0\n",
      "1\n",
      "2\n",
      "3\n",
      "4\n",
      "6\n",
      "7\n",
      "8\n",
      "9\n",
      "done\n"
     ]
    }
   ],
   "source": [
    "# print all the numbers from 0 to 9, except 5\n",
    "for n in range(10):\n",
    "    if n == 5:\n",
    "        continue\n",
    "    print(n)\n",
    "\n",
    "print('done')"
   ]
  },
  {
   "cell_type": "code",
   "execution_count": 73,
   "metadata": {},
   "outputs": [
    {
     "name": "stdout",
     "output_type": "stream",
     "text": [
      "0\n",
      "1\n",
      "2\n",
      "3\n",
      "4\n",
      "done\n"
     ]
    }
   ],
   "source": [
    "# print all the numbers up to (but not including) 5, then break out of the loop.\n",
    "for n in range(10):\n",
    "    if n == 5:\n",
    "        break\n",
    "    print(n)\n",
    "\n",
    "print('done')\n"
   ]
  },
  {
   "cell_type": "markdown",
   "metadata": {
    "collapsed": true
   },
   "source": [
    "# Functions\n",
    "\n",
    "Functions are ways to create reusable blocks of code that can be run with different variable values – the input variables to the function. Functions are defined using the syntax\n",
    "\n",
    "    def <function name>(var1, var2, ...):\n",
    "        <block of code...>\n",
    "        return <return variable(s)>\n",
    "\n",
    "Functions can be defined at any point in the code, and called at any subsequent point.\n",
    "\n",
    "**Note:** \n",
    "\n",
    "1. indentation following the `def` line!\n",
    "2. the return statement is not required if you don't want to return anything!"
   ]
  },
  {
   "cell_type": "code",
   "execution_count": null,
   "metadata": {},
   "outputs": [],
   "source": [
    "def addfive(x):\n",
    "    return x + 5"
   ]
  },
  {
   "cell_type": "markdown",
   "metadata": {},
   "source": [
    "**If you want to run the function, you need to call the function. You can use either positional argument or keyword argument**"
   ]
  },
  {
   "cell_type": "code",
   "execution_count": null,
   "metadata": {},
   "outputs": [],
   "source": [
    "addfive(3) # positional argument without x"
   ]
  },
  {
   "cell_type": "code",
   "execution_count": null,
   "metadata": {},
   "outputs": [],
   "source": [
    "addfive(x = 3) # keyword argument with x"
   ]
  },
  {
   "cell_type": "markdown",
   "metadata": {},
   "source": [
    "**recap on the difference between interactive output and the real `print` function**"
   ]
  },
  {
   "cell_type": "code",
   "execution_count": null,
   "metadata": {},
   "outputs": [],
   "source": [
    "def addfive_with_print(x):\n",
    "    print(x+5)\n",
    "    return x+5"
   ]
  },
  {
   "cell_type": "code",
   "execution_count": null,
   "metadata": {},
   "outputs": [],
   "source": [
    "addfive_with_print(3)"
   ]
  },
  {
   "cell_type": "code",
   "execution_count": null,
   "metadata": {},
   "outputs": [],
   "source": [
    "a = addfive_with_print(3)"
   ]
  },
  {
   "cell_type": "code",
   "execution_count": null,
   "metadata": {
    "scrolled": true
   },
   "outputs": [],
   "source": [
    "a"
   ]
  },
  {
   "cell_type": "markdown",
   "metadata": {},
   "source": [
    "**Note that function stops after running `return`**"
   ]
  },
  {
   "cell_type": "code",
   "execution_count": null,
   "metadata": {},
   "outputs": [],
   "source": [
    "def addfive_with_print_wrong(x):\n",
    "    return x + 5\n",
    "    print(x + 5) # print will not work here!!!"
   ]
  },
  {
   "cell_type": "markdown",
   "metadata": {},
   "source": [
    "why is nothing printed out when you run the cell below?"
   ]
  },
  {
   "cell_type": "code",
   "execution_count": null,
   "metadata": {},
   "outputs": [],
   "source": [
    "a = addfive_with_print_wrong(3)"
   ]
  },
  {
   "cell_type": "markdown",
   "metadata": {},
   "source": [
    "## More on function inputs and outputs\n",
    "\n",
    "Functions can have multiple input and output values."
   ]
  },
  {
   "cell_type": "code",
   "execution_count": null,
   "metadata": {},
   "outputs": [],
   "source": [
    "def sasos(a, b, c):\n",
    "    res1 = 2*a + b + c\n",
    "    res2 = a**3 + b**2 + c**2\n",
    "    return res1, res2"
   ]
  },
  {
   "cell_type": "code",
   "execution_count": null,
   "metadata": {},
   "outputs": [],
   "source": [
    "# note that \"return res1, res2\" in the function above will return a tuple\n",
    "s = sasos(1,2,3) # positional argument\n",
    "s"
   ]
  },
  {
   "cell_type": "code",
   "execution_count": null,
   "metadata": {},
   "outputs": [],
   "source": [
    "s = sasos(a = 1, b = 2, c = 3) # keyword argument\n",
    "s"
   ]
  },
  {
   "cell_type": "code",
   "execution_count": null,
   "metadata": {},
   "outputs": [],
   "source": [
    "s = sasos(c = 3, b = 2, a = 1) # keyword argument with a new sequence\n",
    "s"
   ]
  },
  {
   "cell_type": "code",
   "execution_count": null,
   "metadata": {},
   "outputs": [],
   "source": [
    "s = sasos(3, 2, 1) # positional argument with a new sequence\n",
    "s "
   ]
  },
  {
   "cell_type": "code",
   "execution_count": null,
   "metadata": {},
   "outputs": [],
   "source": [
    "# unpack the tuple\n",
    "s1, s2 = sasos(1, 2, 3)\n",
    "print(s1)\n",
    "print(s2)"
   ]
  },
  {
   "cell_type": "code",
   "execution_count": null,
   "metadata": {},
   "outputs": [],
   "source": [
    "# You can assign the output first to a single variable and then unpack later\n",
    "# but this needs more lines of code\n",
    "s = sasos(1, 2, 3)\n",
    "s1 = s[0]\n",
    "s2 = s[1]\n",
    "print(s1)\n",
    "print(s2)"
   ]
  },
  {
   "cell_type": "markdown",
   "metadata": {},
   "source": [
    "Functions can have variables with default values."
   ]
  },
  {
   "cell_type": "code",
   "execution_count": null,
   "metadata": {},
   "outputs": [],
   "source": [
    "def powsum(x, y, z, a=1, b=2, c=3):\n",
    "    return x**a + y**b + z**c # x to the power of a, y to the powe of b, and z to the power of c"
   ]
  },
  {
   "cell_type": "code",
   "execution_count": null,
   "metadata": {},
   "outputs": [],
   "source": [
    "powsum(2, 3, 4) # positional argument with all default a, b, c values"
   ]
  },
  {
   "cell_type": "code",
   "execution_count": null,
   "metadata": {},
   "outputs": [],
   "source": [
    "powsum(2, 3, 4, b=5) # positional argument with new keyword argument b"
   ]
  },
  {
   "cell_type": "code",
   "execution_count": null,
   "metadata": {},
   "outputs": [],
   "source": [
    "powsum(z=2, c=2, x=3, y=4) # all arguments are keyword arguments"
   ]
  },
  {
   "cell_type": "markdown",
   "metadata": {},
   "source": [
    "---\n",
    "### *Exercise*\n",
    "\n",
    "* Verify `powsum(z=2, x=3, y=4, c=2)` is the same as `powsum(3, 4, 2, c=2)`\n",
    "\n",
    "* What happens when you do `powsum(3, 4, 2, x=2)`?  Why?\n",
    "\n",
    "\n",
    "---"
   ]
  },
  {
   "cell_type": "code",
   "execution_count": null,
   "metadata": {},
   "outputs": [],
   "source": []
  },
  {
   "cell_type": "code",
   "execution_count": null,
   "metadata": {},
   "outputs": [],
   "source": []
  },
  {
   "cell_type": "code",
   "execution_count": null,
   "metadata": {},
   "outputs": [],
   "source": []
  },
  {
   "cell_type": "markdown",
   "metadata": {},
   "source": [
    "## Docstrings\n",
    "\n",
    "You can add 'help' text to functions by adding a `docstring`(paired triple single-quotes or double-quotes), which is just a regular string, right below the definition of the function. **This should be considered a mandatory step in your code writing.**\n",
    "\n",
    "> Do Something Today, That You'll Thank Yourself For Tomorrow."
   ]
  },
  {
   "cell_type": "code",
   "execution_count": null,
   "metadata": {},
   "outputs": [],
   "source": [
    "def addfive(x):\n",
    "    '''Return the argument plus five\n",
    "    \n",
    "    Input:  x\n",
    "            A number\n",
    "    \n",
    "    Output: foo\n",
    "            The number x plus five\n",
    "    \n",
    "    '''\n",
    "    return x + 5"
   ]
  },
  {
   "cell_type": "code",
   "execution_count": null,
   "metadata": {},
   "outputs": [],
   "source": [
    "# now, try addfive?\n",
    "# addfive?"
   ]
  },
  {
   "cell_type": "code",
   "execution_count": null,
   "metadata": {},
   "outputs": [],
   "source": [
    "addfive(3)"
   ]
  },
  {
   "cell_type": "markdown",
   "metadata": {},
   "source": [
    "See [PEP-257](https://www.python.org/dev/peps/pep-0257/) for guidelines about writing good docstrings."
   ]
  },
  {
   "cell_type": "markdown",
   "metadata": {},
   "source": [
    "## Scope of variables\n",
    "The scope of a variable refers to the segment of the code in which the variable is accessible.\n",
    "\n",
    "\n",
    "* Variables that can be accessed throughout the program are called **global variables**. The variables we created up to now are almost all global variables (except inside of a function). <br><br>\n",
    "\n",
    "* Variables with limited scope are called **local variables**. Variables defined inside a function have their scope limited to the function. They cannot be accessed from the outside and only exit in memory as long as the function executes. That is, all of the variables that are changed within the block of code inside a function are only changed within that block, and do not affect similarly named variables outside the function."
   ]
  },
  {
   "cell_type": "code",
   "execution_count": null,
   "metadata": {},
   "outputs": [],
   "source": [
    "x = 5 # global variable\n",
    "\n",
    "def changex(x):      # This x is local to the function\n",
    "    y = 10           # This y is local to the function\n",
    "    x = x + y         # h ere the local variable x is changed\n",
    "    print('Inside changex, x =', x)\n",
    "    return x\n",
    "\n",
    "res = changex(x)    # supply the value of x in the 'global' scope"
   ]
  },
  {
   "cell_type": "code",
   "execution_count": null,
   "metadata": {},
   "outputs": [],
   "source": [
    "print('The returned value is', res)          \n",
    "print('Outside of changex, x =', x)            # The global x is unchanged "
   ]
  },
  {
   "cell_type": "code",
   "execution_count": null,
   "metadata": {},
   "outputs": [],
   "source": [
    "# print(y) # y is inside of the changex function so it is not defined"
   ]
  },
  {
   "cell_type": "markdown",
   "metadata": {},
   "source": [
    "Variables from the 'global' scope can be used within a function, as long as those variables are unchanged. This technique should generally only be used when it is very clear what value the global variable has, for example, in very short helper functions."
   ]
  },
  {
   "cell_type": "code",
   "execution_count": null,
   "metadata": {},
   "outputs": [],
   "source": [
    "x = 5\n",
    "\n",
    "def dostuffwithx():\n",
    "    res = x + 5       # Here, the global value of x is used, since it is not passed to the function explicitly,\n",
    "                      # or defined inside the function.\n",
    "    return res"
   ]
  },
  {
   "cell_type": "code",
   "execution_count": null,
   "metadata": {},
   "outputs": [],
   "source": [
    "dostuffwithx()"
   ]
  },
  {
   "cell_type": "markdown",
   "metadata": {},
   "source": [
    "**Tip**: Even if there is no argument in the function, you still need to use the round bracket following function's name when you run the function!"
   ]
  },
  {
   "cell_type": "code",
   "execution_count": null,
   "metadata": {
    "scrolled": true
   },
   "outputs": [],
   "source": [
    "dostuffwithx"
   ]
  },
  {
   "cell_type": "markdown",
   "metadata": {},
   "source": [
    "### Unpacking function arguments\n",
    "\n",
    "You can provide a sequence of arguments to a function by placing a `*` in front of the sequence, like\n",
    "\n",
    "    foo(*args)\n",
    "\n",
    "This unpacks the elements of the **sequence** (like list or tuple) into the arguments of the function, in order.\n",
    "\n",
    "**The advantage is that you don't need to extract the element from the sequence one by one when you pass those elements to the function arguments**."
   ]
  },
  {
   "cell_type": "code",
   "execution_count": null,
   "metadata": {},
   "outputs": [],
   "source": [
    "# we define the powsum function here again\n",
    "def powsum(x, y, z, a=1, b=2, c=3):\n",
    "    return x**a + y**b + z**c # x to the power of a, y to the powe of b, and z to the power of c"
   ]
  },
  {
   "cell_type": "code",
   "execution_count": null,
   "metadata": {},
   "outputs": [],
   "source": [
    "# a quick example for unpacking\n",
    "xyz = [1, 2, 3]\n",
    "powsum(*xyz)"
   ]
  },
  {
   "cell_type": "code",
   "execution_count": null,
   "metadata": {},
   "outputs": [],
   "source": [
    "# the above is the same as:\n",
    "powsum(xyz[0], xyz[1], xyz[2])"
   ]
  },
  {
   "cell_type": "markdown",
   "metadata": {},
   "source": [
    "You can also **unpack dictionaries** as keyword arguments by placing `**` in front of the dictionary, like \n",
    "\n",
    "    foo(**kwargs)"
   ]
  },
  {
   "cell_type": "code",
   "execution_count": null,
   "metadata": {},
   "outputs": [],
   "source": [
    "powdict = {'a': 1, 'b': 2, 'c': 3}\n",
    "\n",
    "powsum(1, 2, 3, **powdict)"
   ]
  },
  {
   "cell_type": "code",
   "execution_count": null,
   "metadata": {},
   "outputs": [],
   "source": [
    "# the above is the same as:\n",
    "powsum(1, 2, 3, a=powdict['a'], b=powdict['b'], c=powdict['c'])"
   ]
  },
  {
   "cell_type": "markdown",
   "metadata": {},
   "source": [
    "**Unpacking sequence (list or tuple) can be mixed with unpacking dictionary. E.g., `foo(*args, **kwargs)` works.**"
   ]
  },
  {
   "cell_type": "code",
   "execution_count": null,
   "metadata": {},
   "outputs": [],
   "source": [
    "xyz = [1, 2, 3]\n",
    "powdict = {'a': 1, 'b': 2, 'c': 3}\n",
    "\n",
    "powsum(*xyz, **powdict)"
   ]
  },
  {
   "cell_type": "markdown",
   "metadata": {},
   "source": [
    "### Unpacking in other common cases"
   ]
  },
  {
   "cell_type": "markdown",
   "metadata": {},
   "source": [
    "One common usage is using the builtin `zip` function to take a 'transpose' of a set of points."
   ]
  },
  {
   "cell_type": "code",
   "execution_count": null,
   "metadata": {},
   "outputs": [],
   "source": [
    "names = [\"Sam\", \"Tim\", \"Lidia\"]\n",
    "laptops = [\"mac\", \"windows\", \"linux\"]"
   ]
  },
  {
   "cell_type": "code",
   "execution_count": null,
   "metadata": {},
   "outputs": [],
   "source": [
    "zip(names, laptops)"
   ]
  },
  {
   "cell_type": "code",
   "execution_count": null,
   "metadata": {},
   "outputs": [],
   "source": [
    "list(zip(names, laptops))"
   ]
  },
  {
   "cell_type": "code",
   "execution_count": null,
   "metadata": {},
   "outputs": [],
   "source": [
    "# the names list and the laptops list are contained in a single list\n",
    "# how can we pair the name and the laptop and generate a new list?\n",
    "names_laptops = [[\"Sam\", \"Tim\", \"Lidia\"], [\"mac\", \"windows\", \"linux\"]]"
   ]
  },
  {
   "cell_type": "code",
   "execution_count": null,
   "metadata": {},
   "outputs": [],
   "source": [
    "list(zip(*names_laptops)) # this is exactly the same with list(zip(names, laptops))"
   ]
  },
  {
   "cell_type": "code",
   "execution_count": null,
   "metadata": {},
   "outputs": [],
   "source": [
    "# the above is the same as:\n",
    "list(zip(names_laptops[0], names_laptops[1]))"
   ]
  },
  {
   "cell_type": "markdown",
   "metadata": {},
   "source": [
    "# Reading and writing text files\n",
    "\n",
    "There are many different file formats. Some data are stored in a specialized binary format. But there are also many datasets that are simple text files. Basic text file commands are included in the Python core language."
   ]
  },
  {
   "cell_type": "markdown",
   "metadata": {},
   "source": [
    "**This is the screenshot of the `02_GPS.dat` file**"
   ]
  },
  {
   "cell_type": "markdown",
   "metadata": {},
   "source": [
    "![data](img/02_GPS_screenshot.png)"
   ]
  },
  {
   "cell_type": "code",
   "execution_count": null,
   "metadata": {},
   "outputs": [],
   "source": [
    "# open the \"02_GPS.dat\" data file created by a handheld GPS unit in the data folder\n",
    "f = open('data/02_GPS.dat')"
   ]
  },
  {
   "cell_type": "markdown",
   "metadata": {},
   "source": [
    "**Tip**: later when we are done with the file, we would close it with the `f.close()` command (note that `f` is what you define yourself).           "
   ]
  },
  {
   "cell_type": "markdown",
   "metadata": {},
   "source": [
    "\n",
    "### *Exercise*\n",
    "\n",
    "* Use `TAB` completion to explore the different attributes and methods of the `f` object.\n",
    "\n",
    "* We will use the `f.readlines()` method to obtain all of the lines in the file. Run `f.readlines()` yourself and see what this command returns. Run it twice and see what happens.\n"
   ]
  },
  {
   "cell_type": "code",
   "execution_count": null,
   "metadata": {},
   "outputs": [],
   "source": []
  },
  {
   "cell_type": "code",
   "execution_count": null,
   "metadata": {},
   "outputs": [],
   "source": [
    "# This sets the pointer back to the beginning of the file. This allows us to run this\n",
    "# block of code many times without reopening the file each time.\n",
    "\n",
    "f.seek(0) # important!"
   ]
  },
  {
   "cell_type": "code",
   "execution_count": null,
   "metadata": {},
   "outputs": [],
   "source": [
    "# now we run f.readlines()\n",
    "f.readlines()"
   ]
  },
  {
   "cell_type": "markdown",
   "metadata": {},
   "source": [
    "**Extract info from the text:**\n",
    "\n",
    "Our goal is to extract the latitude of each trackpoint in the unit of degree. For each latitude value, we have both  arc degree and arc minute in the original file. Hence, to get the latitude in the unit of degree, we need to convert the arc minute to arc degree and then add it to the original arc degree."
   ]
  },
  {
   "cell_type": "code",
   "execution_count": null,
   "metadata": {},
   "outputs": [],
   "source": [
    "f.seek(0) # important!"
   ]
  },
  {
   "cell_type": "code",
   "execution_count": null,
   "metadata": {},
   "outputs": [],
   "source": [
    "# get all the text in the data file\n",
    "lines_all = f.readlines()"
   ]
  },
  {
   "cell_type": "code",
   "execution_count": null,
   "metadata": {
    "scrolled": true
   },
   "outputs": [],
   "source": [
    "lines_all"
   ]
  },
  {
   "cell_type": "code",
   "execution_count": null,
   "metadata": {},
   "outputs": [],
   "source": [
    "lines_all[0]"
   ]
  },
  {
   "cell_type": "code",
   "execution_count": null,
   "metadata": {},
   "outputs": [],
   "source": [
    "lines_all[1]"
   ]
  },
  {
   "cell_type": "code",
   "execution_count": null,
   "metadata": {},
   "outputs": [],
   "source": [
    "lines_all[2]"
   ]
  },
  {
   "cell_type": "code",
   "execution_count": null,
   "metadata": {},
   "outputs": [],
   "source": [
    "lines_all[10]"
   ]
  },
  {
   "cell_type": "markdown",
   "metadata": {},
   "source": [
    "now we use `.split` to separate the words in the list"
   ]
  },
  {
   "cell_type": "code",
   "execution_count": null,
   "metadata": {},
   "outputs": [],
   "source": [
    "lines_all[10].split()"
   ]
  },
  {
   "cell_type": "code",
   "execution_count": null,
   "metadata": {},
   "outputs": [],
   "source": [
    "lines_all[10].split()[0]"
   ]
  },
  {
   "cell_type": "code",
   "execution_count": null,
   "metadata": {},
   "outputs": [],
   "source": [
    "lines_all[10].split()[1]"
   ]
  },
  {
   "cell_type": "code",
   "execution_count": null,
   "metadata": {},
   "outputs": [],
   "source": [
    "lines_all[10].split()[1][1:]"
   ]
  },
  {
   "cell_type": "code",
   "execution_count": null,
   "metadata": {},
   "outputs": [],
   "source": [
    "# we get the degree in numeric values\n",
    "float(lines_all[10].split()[1][1:])"
   ]
  },
  {
   "cell_type": "code",
   "execution_count": null,
   "metadata": {},
   "outputs": [],
   "source": [
    "lines_all[10].split()[2]"
   ]
  },
  {
   "cell_type": "code",
   "execution_count": null,
   "metadata": {},
   "outputs": [],
   "source": [
    "# we get the minute in numeric values\n",
    "float(lines_all[10].split()[2])"
   ]
  },
  {
   "cell_type": "code",
   "execution_count": null,
   "metadata": {},
   "outputs": [],
   "source": [
    "# we convert the minute to degree\n",
    "float(lines_all[10].split()[2])/60"
   ]
  },
  {
   "cell_type": "code",
   "execution_count": null,
   "metadata": {},
   "outputs": [],
   "source": [
    "# join them together\n",
    "float(lines_all[10].split()[1][1:]) + float(lines_all[10].split()[2])/60"
   ]
  },
  {
   "cell_type": "code",
   "execution_count": null,
   "metadata": {},
   "outputs": [],
   "source": [
    "# since lines_all[10].split() is duplicated in the code, we can first create a variable to store this value\n",
    "data = lines_all[10].split()\n",
    "float(data[1][1:]) + float(data[2])/60"
   ]
  },
  {
   "cell_type": "markdown",
   "metadata": {},
   "source": [
    "now let's try to output the latitude of each trackpoint:\n",
    "**the key is to find the line that contains the latitude**"
   ]
  },
  {
   "cell_type": "code",
   "execution_count": null,
   "metadata": {},
   "outputs": [],
   "source": [
    "# # use for loop to get the latitude and longitude for each trackpoint line\n",
    "# for line in lines_all:        # iterate over each line in the file. Each line is a string.\n",
    "#     data = line.split()       # split the line of text into words, each separated by spaces or tabs        \n",
    "#     if data[0] == 'Trackpoint':   # We only want to consider lines that begin with 'Trackpoint', as these hold the data\n",
    "#         print(float(data[1][1:]) + float(data[2])/60.0) # print the latitude"
   ]
  },
  {
   "cell_type": "markdown",
   "metadata": {},
   "source": [
    "**Why do we see the error?**"
   ]
  },
  {
   "cell_type": "markdown",
   "metadata": {},
   "source": [
    "There might be something wrong inside the for loop!"
   ]
  },
  {
   "cell_type": "code",
   "execution_count": null,
   "metadata": {},
   "outputs": [],
   "source": [
    "# lines_all[0].split()"
   ]
  },
  {
   "cell_type": "code",
   "execution_count": null,
   "metadata": {},
   "outputs": [],
   "source": [
    "# lines_all[0].split()[0]"
   ]
  },
  {
   "cell_type": "code",
   "execution_count": null,
   "metadata": {
    "scrolled": true
   },
   "outputs": [],
   "source": [
    "# lines_all[2].split()"
   ]
  },
  {
   "cell_type": "code",
   "execution_count": null,
   "metadata": {},
   "outputs": [],
   "source": [
    "# lines_all[2].split()[0]"
   ]
  },
  {
   "cell_type": "markdown",
   "metadata": {},
   "source": [
    "**The right way:**"
   ]
  },
  {
   "cell_type": "code",
   "execution_count": null,
   "metadata": {},
   "outputs": [],
   "source": [
    "# use for loop to get the latitude and longitude for each trackpoint line\n",
    "for line in lines_all:        # iterate over each line in the file. Each line is a string.\n",
    "    data = line.split()       # split the line of text into words, each separated by spaces or tabs\n",
    "    if data == []:            # Test for an empty list, the same as \"if not data\"\n",
    "        continue         \n",
    "    if data[0] == 'Trackpoint':   # We only want to consider lines that begin with 'Trackpoint', as these hold the data\n",
    "        print(float(data[1][1:]) + float(data[2])/60.0) # print the latitude"
   ]
  },
  {
   "cell_type": "code",
   "execution_count": null,
   "metadata": {},
   "outputs": [],
   "source": [
    "# remember to close the file\n",
    "f.close()"
   ]
  },
  {
   "cell_type": "markdown",
   "metadata": {},
   "source": [
    "**Now let's put everything together!**"
   ]
  },
  {
   "cell_type": "code",
   "execution_count": null,
   "metadata": {},
   "outputs": [],
   "source": [
    "# open the file\n",
    "f = open('data/02_GPS.dat')\n",
    "\n",
    "# go to the first line\n",
    "f.seek(0)\n",
    "\n",
    "# get all the text in the data file\n",
    "lines_all = f.readlines()\n",
    "\n",
    "# use for loop to get the latitude and longitude for each trackpoint line\n",
    "for line in lines_all:        # iterate over each line in the file. Each line is a string.\n",
    "    data = line.split()       # split the line of text into words, each separated by spaces or tabs\n",
    "    if data == []:            # Test for an empty list, the same as \"if not data\"\n",
    "        continue         \n",
    "    if data[0] == 'Trackpoint':   # We only want to consider lines that begin with 'Trackpoint', as these hold the data\n",
    "        print(float(data[1][1:]) + float(data[2])/60.0) # print the latitude\n",
    "        \n",
    "# close the file\n",
    "f.close()"
   ]
  },
  {
   "cell_type": "markdown",
   "metadata": {},
   "source": [
    "**Now, lets write the converted latitudes to a file**"
   ]
  },
  {
   "cell_type": "markdown",
   "metadata": {
    "collapsed": true
   },
   "source": [
    "To write a file, open it with the `'w'` flag, which specifies the file as writable. This example shows how to write the latitude with a specific format (**2 decimal places**) to a file called \"gps_out.dat\" in the data folder. [Learn more about string formatting from the python documentation](https://docs.python.org/3/library/string.html#format-string-syntax)"
   ]
  },
  {
   "cell_type": "code",
   "execution_count": null,
   "metadata": {},
   "outputs": [],
   "source": [
    "# open the output file\n",
    "fout = open('data_out/gps_out_lat.txt', 'w')\n",
    "\n",
    "# open the file containing the input\n",
    "f = open('data/02_GPS.dat')\n",
    "\n",
    "# go to the first line\n",
    "f.seek(0)\n",
    "\n",
    "for line in f.readlines():        # iterate over each line in the file. Each line is a string.\n",
    "    data = line.split()           # split the line of text into words, each separated by spaces\n",
    "    if data == []:                # Test for an empty list\n",
    "        continue         \n",
    "    if data[0] == 'Trackpoint':   # We only want to consider lines that begin with 'Trackpoint', as these hold the data\n",
    "        lat = float(data[1][1:]) + float(data[2])/60.0\n",
    "        \n",
    "        # write to the fout file with 2 decimal places (don't forget the newline character \\n)\n",
    "        fout.write(\"{0:.2f}\\n\".format(lat)) # print the latitude with 2 decimal places            \n",
    "\n",
    "f.close()\n",
    "fout.close()"
   ]
  },
  {
   "cell_type": "markdown",
   "metadata": {},
   "source": [
    "\n",
    "### *Exercise*\n",
    "\n",
    "> Following the above tutorial, write the longitude with 2 decimal places and save the output to the 'data_out' folder with a filename of \"gps_out_lon.txt\" \n",
    "\n",
    "> Test \"{0:.2f}\\n\" vs. \"{0:.2f}\" when you write to the file."
   ]
  },
  {
   "cell_type": "code",
   "execution_count": null,
   "metadata": {},
   "outputs": [],
   "source": []
  },
  {
   "cell_type": "code",
   "execution_count": null,
   "metadata": {},
   "outputs": [],
   "source": []
  }
 ],
 "metadata": {
  "anaconda-cloud": {},
  "kernelspec": {
   "display_name": "Python 3 (ipykernel)",
   "language": "python",
   "name": "python3"
  },
  "language_info": {
   "codemirror_mode": {
    "name": "ipython",
    "version": 3
   },
   "file_extension": ".py",
   "mimetype": "text/x-python",
   "name": "python",
   "nbconvert_exporter": "python",
   "pygments_lexer": "ipython3",
   "version": "3.8.10"
  },
  "toc": {
   "base_numbering": 1,
   "nav_menu": {},
   "number_sections": false,
   "sideBar": true,
   "skip_h1_title": false,
   "title_cell": "Table of Contents",
   "title_sidebar": "Contents",
   "toc_cell": false,
   "toc_position": {},
   "toc_section_display": true,
   "toc_window_display": false
  }
 },
 "nbformat": 4,
 "nbformat_minor": 1
}
