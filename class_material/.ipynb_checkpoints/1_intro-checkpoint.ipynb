{
 "cells": [
  {
   "cell_type": "markdown",
   "metadata": {},
   "source": [
    "# Course introduction"
   ]
  },
  {
   "cell_type": "markdown",
   "metadata": {},
   "source": [
    "> *Python for Geosciences © [Shuang Zhang](https://ocean.tamu.edu/people/profiles/faculty/zhangshuang.html)*\n"
   ]
  },
  {
   "cell_type": "markdown",
   "metadata": {},
   "source": [
    "![code](img/everybody_code_narrow.jpeg)"
   ]
  },
  {
   "cell_type": "markdown",
   "metadata": {},
   "source": [
    "## Overview"
   ]
  },
  {
   "cell_type": "markdown",
   "metadata": {},
   "source": [
    "![Python Logo](https://www.python.org/static/img/python-logo.png)\n",
    "\n",
    "### What is Python?\n",
    "Simply put Python is a programming language. It's a useful [scripting language](https://www.geeksforgeeks.org/whats-the-difference-between-scripting-and-programming-languages/). But as the [Python website](https://www.python.org/) itself says:<br>\n",
    "<br>\n",
    "> *Python is a programming language that lets you work quickly\n",
    "      and integrate systems more effectively.*  <br>\n",
    "\n",
    "**Advantages of using Python**\n",
    "* Open source\n",
    "\n",
    "* Large community\n",
    "\n",
    "* Highly readable\n",
    "\n",
    "* Versatile\n",
    "\n",
    "* Popular!!!"
   ]
  },
  {
   "cell_type": "markdown",
   "metadata": {},
   "source": [
    "### How is this course for geosciences specifically?\n",
    "\n",
    "* This course targets upper-level undergraduate students and graduate students who want to enhance their general geo-data manipulation and analysis skills in Python. It aims to provide students the means to effectively tackle commonly encountered geo-data handling tasks in order to increase the overall efficiency of their study and research. To that end, I will try to cover various datasets from geology, geography, atmospheric sciences, and oceanography. Specifically, I will focus on data wrangling, data visualization, 1D timeseries, and 2D geospatial (i.e., on a map) analysis. \n",
    "\n",
    "\n",
    "* This course does not aim to offer training in statistics or machine learning. If you have any other topics you would like to cover, please let me know, and I will do my best to accommodate."
   ]
  },
  {
   "cell_type": "markdown",
   "metadata": {},
   "source": [
    "### What computational resources do I need for class?\n",
    "\n",
    "You will need a laptop that will provide you access to the course (i.e. internet access) and a Python environment to follow along. We will use [Anaconda distribution of Python](https://www.anaconda.com/products/individual) in this course. Anaconda integrates Python, **Jupyter notebook (and we are in Jupyter notebook now!)**, and common python modules, which allows you to write Python codes right away.\n",
    "\n",
    "\n",
    "<table><tr>\n",
    "<td width=\"500\"> <img src=\"img/conda-miniconda.png\"/> </td>\n",
    "<td width=\"500\"> <img src=\"img/jupyter.png\"/> </td>\n",
    "</tr></table>"
   ]
  },
  {
   "cell_type": "markdown",
   "metadata": {},
   "source": [
    "## Class setup\n",
    "\n",
    "### Class format\n",
    "\n",
    "We will go through course materials using Jupyter notebooks during class time. You should bring a computer to class so that you can follow along and participate in exercises. Also, course materials are interactive, so you can learn by running code snippets as we go and asking questions. **Much like learning a new spoken language, hands-on coding is one of the best ways to learn a new language.**\n",
    "\n",
    "\n",
    "### Course materials\n",
    "\n",
    "The course materials (Jupyter notebooks) will be posted to Canvas on a weekly basis. More information on notebooks in the next section.\n",
    "\n",
    "You'll do your work on your own computer, and submit the homework in the jupyter notebook format to Canvas.\n",
    "\n",
    "\n",
    "### Course textbook\n",
    "\n",
    "There is no textbook required for the course. But if you'd like an outside resource, here are several recommendations:\n",
    "\n",
    "1. **Beginning Python** by Magnus Lie Hetland (available electronically through TAMU Library http://library.tamu.edu/)\n",
    "* Chapter 1: Instant Hacking: The Basics\n",
    "* Chapter 2: Lists and Tuples\n",
    "* Chapter 3: Working with Strings\n",
    "* Chapter 4: Dictionaries: When Indices Won’t Do\n",
    "* Chapter 5: Conditionals, Loops, and Some Other Statements\n",
    "\n",
    "2. **Numerical Python** by Robert Johansson (available electronically through TAMU Library http://library.tamu.edu/)\n",
    "\n",
    "* Chapter 2: Vectors, Matrices, and Multidimensional Arrays \n",
    "* Chapter 4: Plotting and Visualization\n",
    "* Chapter 12: Data Processing and Analysis\n",
    "\n",
    "3. A number of free Python books (https://devfreebooks.github.io/python/)\n"
   ]
  },
  {
   "cell_type": "markdown",
   "metadata": {},
   "source": [
    "<table><tr>\n",
    "<td width=\"350\"> <img src=\"img/book_begin_python.png\"/> </td>\n",
    "<td width=\"350\"> <img src=\"img/book_numeric_python.png\"/> </td>\n",
    "</tr></table>"
   ]
  },
  {
   "cell_type": "markdown",
   "metadata": {},
   "source": [
    "## Python cheatsheets and tutorials\n",
    "\n",
    "1. [Python basics](https://www.pythoncheatsheet.org/)\n",
    "2. [numpy](http://datacamp-community-prod.s3.amazonaws.com/da466534-51fe-4c6d-b0cb-154f4782eb54)\n",
    "3. [pandas](https://pandas.pydata.org/Pandas_Cheat_Sheet.pdf)\n",
    "4. [Basics, numpy and pandas](https://www.kaggle.com/lavanyashukla01/pandas-numpy-python-cheatsheet)\n",
    "5. [matplotlib for plotting](https://github.com/matplotlib/cheatsheets#cheatsheets) \n",
    "6. [seaborn for plotting](https://seaborn.pydata.org/tutorial.html)"
   ]
  },
  {
   "cell_type": "markdown",
   "metadata": {
    "slideshow": {
     "slide_type": "slide"
    }
   },
   "source": [
    "## Jupyter notebooks\n",
    "\n",
    "The Jupyter Notebook is the original web application for **creating and sharing computational documents**. It integrates code, text, and figure, and offers a simple, streamlined, document-centric experience.\n",
    "\n",
    "The notebook can be opened in a local computer (and we are doing this now!). \n",
    "\n",
    "You'll run class materials and work on homework assignments using Jupyter notebooks.\n"
   ]
  },
  {
   "cell_type": "markdown",
   "metadata": {},
   "source": [
    "### Notebook structure\n",
    "\n",
    "<img src = \"img/jupyter_interface.png\" />"
   ]
  },
  {
   "cell_type": "markdown",
   "metadata": {},
   "source": [
    "**Notebooks are built of cells. cell is the soul of jupyter notebook!**"
   ]
  },
  {
   "cell_type": "markdown",
   "metadata": {},
   "source": [
    "### cell syntax\n",
    "\n",
    "Cells can have multiple built-in formats including code and Markdown text. You can select the desired format from a dropdown menu at the top. If you **want to type words, use \"Markdown\"**; if you **want to write code, choose \"Code\"**. Or you can use the shortcuts:\n",
    "\n",
    "* `M` to change the current cell to Markdown cell, `Y` to change it to code cell."
   ]
  },
  {
   "cell_type": "markdown",
   "metadata": {},
   "source": [
    "**This is a markdown cell**"
   ]
  },
  {
   "cell_type": "code",
   "execution_count": 1,
   "metadata": {},
   "outputs": [],
   "source": [
    "# this is a code cell\n",
    "a = 1"
   ]
  },
  {
   "cell_type": "markdown",
   "metadata": {},
   "source": [
    "### [Command mode] vs  [Edit mode]  for the cell\n",
    "\n",
    "There are two modes for the cells.\n",
    "\n",
    "* *command* mode means you're NOT editing, i.e. NOT with your cursor inside a cell to type content --> <font color=\"blue\">blue colored left border</font>\n",
    "\n",
    "* *edit* mode means you're editing a cell, i.e. with your cursor inside a cell to type content --> <font color=\"green\">green colored left border</font>\n",
    "\n",
    "To start editing, press `Enter` or `Return`, this will enter the *edit* mode (You can also double click and then single click inside a cell to enter the Edit mode).\n",
    "\n",
    "To stop editing, single click the left margin or other cells, this will enter the Command mode. **Note that this will not run the current cell, instead, it only exit the edit mode so that you could not edit the cell anymore**. "
   ]
  },
  {
   "cell_type": "markdown",
   "metadata": {},
   "source": [
    "Regardless you are in edit mode or command mode, to run selected cells, use the following shortcuts:\n",
    "\n",
    "* `Ctrl` + `Enter` (mac is `Command` + `Enter`) run selected cells\n",
    "* `Shift` + `Enter` run the current cell, select below\n",
    "* `Alt` + `Enter` (mac is `Option` + `Enter`) run the current cell, insert below"
   ]
  },
  {
   "cell_type": "markdown",
   "metadata": {},
   "source": [
    "### Other useful shortcuts\n",
    "\n",
    "Shortcuts in command mode:\n",
    "\n",
    "* `A` to insert a new cell above the current cell, `B` to insert a new cell below.\n",
    "* `D + D` (press the key twice) to delete the current cell\n",
    "* `Z` to undo \"delete cells\"\n"
   ]
  },
  {
   "cell_type": "markdown",
   "metadata": {},
   "source": [
    "### *Exercises*\n",
    "> Play with the Jupyter notebook, get familiar with command mode and edit mode, add cells, delete cells, and change cell types between Markdown and code."
   ]
  },
  {
   "cell_type": "code",
   "execution_count": null,
   "metadata": {},
   "outputs": [],
   "source": []
  },
  {
   "cell_type": "markdown",
   "metadata": {},
   "source": [
    "### Write Markdown (see [tutorial](https://www.datacamp.com/community/tutorials/markdown-in-jupyter-notebook) and [cheatsheet](https://github.com/dc-aichara/Juputer-Notebook-Markdown/blob/master/cheatsheet/Jupyter%20Notebook%20Markdown%20Cheatsheet.pdf))"
   ]
  },
  {
   "cell_type": "markdown",
   "metadata": {},
   "source": [
    "**bold, italic and highlight:**"
   ]
  },
  {
   "cell_type": "markdown",
   "metadata": {},
   "source": [
    "I **love** `Python` *so much*! "
   ]
  },
  {
   "cell_type": "markdown",
   "metadata": {},
   "source": [
    "**unordered list:**"
   ]
  },
  {
   "cell_type": "markdown",
   "metadata": {},
   "source": [
    "* apple (note the space between `*` and `apple`)\n",
    "* banana\n",
    "* orange"
   ]
  },
  {
   "cell_type": "markdown",
   "metadata": {},
   "source": [
    "**unordered list:**"
   ]
  },
  {
   "cell_type": "markdown",
   "metadata": {},
   "source": [
    "- apple (note the space between `-` and `apple`)\n",
    "- banana\n",
    "- orange"
   ]
  },
  {
   "cell_type": "markdown",
   "metadata": {},
   "source": [
    "**ordered list:**"
   ]
  },
  {
   "cell_type": "markdown",
   "metadata": {},
   "source": [
    "1. low (note the space between `1.` and `low`)\n",
    "2. medium\n",
    "2. high"
   ]
  },
  {
   "cell_type": "markdown",
   "metadata": {},
   "source": [
    "**link:**"
   ]
  },
  {
   "cell_type": "markdown",
   "metadata": {},
   "source": [
    "[this is google](https://www.google.com)"
   ]
  },
  {
   "cell_type": "markdown",
   "metadata": {},
   "source": [
    "**table:**"
   ]
  },
  {
   "cell_type": "markdown",
   "metadata": {},
   "source": [
    "course | points\n",
    "--- | ---\n",
    "Math | 8\n",
    "English | 10"
   ]
  },
  {
   "cell_type": "markdown",
   "metadata": {},
   "source": [
    "**blockquote:**"
   ]
  },
  {
   "cell_type": "markdown",
   "metadata": {},
   "source": [
    "> Python is fun!"
   ]
  },
  {
   "cell_type": "markdown",
   "metadata": {},
   "source": [
    "**insert code (similar to highlight):**"
   ]
  },
  {
   "cell_type": "markdown",
   "metadata": {},
   "source": [
    "I will use the code `a = 3` in my python snippets"
   ]
  },
  {
   "cell_type": "markdown",
   "metadata": {},
   "source": [
    "**Insert images to the cell**\n",
    "\n",
    "![CODE_IMAGE](img/everybody_code_narrow.jpeg)"
   ]
  },
  {
   "cell_type": "markdown",
   "metadata": {},
   "source": [
    "**Math euqations (powerful!) (see tutorials of [this](https://www.codersarts.com/forum/machine-learning/writing-mathematical-equations-in-jupyter-notebook) and [this](https://math.meta.stackexchange.com/questions/5020/mathjax-basic-tutorial-and-quick-reference)):**"
   ]
  },
  {
   "cell_type": "markdown",
   "metadata": {},
   "source": [
    "$A = \\pi r^2$"
   ]
  },
  {
   "cell_type": "markdown",
   "metadata": {},
   "source": [
    "$Var(x) = \\frac{\\sum_{i=1}^n (x_i - \\mu)^2}{n}$"
   ]
  },
  {
   "cell_type": "markdown",
   "metadata": {},
   "source": [
    "$\\int_a^b f(x) = F(b) - F(a)$"
   ]
  },
  {
   "cell_type": "markdown",
   "metadata": {},
   "source": [
    "### *Exercises*\n",
    "> Continue to play with the Jupyter notebooks, create different cells (Markdown and code) and run cells <br><br>\n",
    "> Try to write the above equations yourself.<br><br>\n",
    "> How can you increase the font size of those equations?"
   ]
  },
  {
   "cell_type": "markdown",
   "metadata": {},
   "source": [
    "Tips: \\Huge \\huge \\LARGE \\Large \\large \\normalsize (default) \\small \\tiny"
   ]
  },
  {
   "cell_type": "markdown",
   "metadata": {},
   "source": []
  },
  {
   "cell_type": "markdown",
   "metadata": {},
   "source": []
  },
  {
   "cell_type": "markdown",
   "metadata": {},
   "source": []
  },
  {
   "cell_type": "markdown",
   "metadata": {},
   "source": [
    "### More about jupyter notebook"
   ]
  },
  {
   "cell_type": "markdown",
   "metadata": {},
   "source": [
    "#### Save your notebook"
   ]
  },
  {
   "cell_type": "markdown",
   "metadata": {},
   "source": [
    "<div class=\"alert alert-danger\">\n",
    "Always click the 'Save' button on your toolbar before you quit your jupyter notebook to avoid loss of your work!!! </div>"
   ]
  },
  {
   "cell_type": "markdown",
   "metadata": {},
   "source": [
    "#### Restart the kernel"
   ]
  },
  {
   "cell_type": "markdown",
   "metadata": {},
   "source": [
    "<div class=\"alert alert-danger\">\n",
    "Without any error, your code should <b>always</b> be able to work if you run every cell in the notebook, in order, starting <b>from the top to the bottom with a fresh kernel</b>. </div>"
   ]
  },
  {
   "cell_type": "markdown",
   "metadata": {},
   "source": [
    "To test that your code can do this\n",
    "\n",
    "1. restart the kernel by clicking the restart button in the tool bar (or select Kernel$\\rightarrow$Restart from the menu bar).\n",
    "\n",
    "![](img/restart-kernel-button.png)\n",
    "\n",
    "2. Then, run all cells in the notebook in order by choosing **Cell$\\rightarrow$Run All** from the menu bar."
   ]
  },
  {
   "cell_type": "markdown",
   "metadata": {},
   "source": [
    "**Note:** It is generally a good idea to periodically restart the kernel and start fresh, **because you may encounter some errors in one line, and then you fix the error by writing the correct codes below the original error line, but you forget to delete the bad line containing that error (and you think your code runs well)**.\n",
    "\n",
    "Below is an example highlighting the importance of restarting your kernel to make sure your code is right:"
   ]
  },
  {
   "cell_type": "code",
   "execution_count": 12,
   "metadata": {},
   "outputs": [],
   "source": [
    "# y = x"
   ]
  },
  {
   "cell_type": "code",
   "execution_count": 13,
   "metadata": {},
   "outputs": [],
   "source": [
    "# x = 1"
   ]
  },
  {
   "cell_type": "markdown",
   "metadata": {},
   "source": [
    "**Note:** \n",
    "\n",
    "1. This example suggests you should **restart your kernel** to check whether you can run code from the top to the bottom without seeing any error!\n",
    "\n",
    "2. That also means before you submit your homeork, make sure you restart the kernel and rerun all cells in your homework to see whether there is any error!"
   ]
  },
  {
   "cell_type": "code",
   "execution_count": null,
   "metadata": {},
   "outputs": [],
   "source": []
  }
 ],
 "metadata": {
  "anaconda-cloud": {},
  "kernelspec": {
   "display_name": "Python 3",
   "language": "python",
   "name": "python3"
  },
  "language_info": {
   "codemirror_mode": {
    "name": "ipython",
    "version": 3
   },
   "file_extension": ".py",
   "mimetype": "text/x-python",
   "name": "python",
   "nbconvert_exporter": "python",
   "pygments_lexer": "ipython3",
   "version": "3.8.5"
  },
  "toc": {
   "base_numbering": 1,
   "nav_menu": {},
   "number_sections": false,
   "sideBar": true,
   "skip_h1_title": false,
   "title_cell": "Table of Contents",
   "title_sidebar": "Contents",
   "toc_cell": false,
   "toc_position": {},
   "toc_section_display": true,
   "toc_window_display": false
  },
  "varInspector": {
   "cols": {
    "lenName": 16,
    "lenType": 16,
    "lenVar": 40
   },
   "kernels_config": {
    "python": {
     "delete_cmd_postfix": "",
     "delete_cmd_prefix": "del ",
     "library": "var_list.py",
     "varRefreshCmd": "print(var_dic_list())"
    },
    "r": {
     "delete_cmd_postfix": ") ",
     "delete_cmd_prefix": "rm(",
     "library": "var_list.r",
     "varRefreshCmd": "cat(var_dic_list()) "
    }
   },
   "types_to_exclude": [
    "module",
    "function",
    "builtin_function_or_method",
    "instance",
    "_Feature"
   ],
   "window_display": false
  }
 },
 "nbformat": 4,
 "nbformat_minor": 1
}
