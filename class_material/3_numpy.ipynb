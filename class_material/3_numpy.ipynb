{
 "cells": [
  {
   "cell_type": "markdown",
   "metadata": {},
   "source": [
    "# Python cheatsheets and tutorials\n",
    "\n",
    "1. [Python basics](https://www.pythoncheatsheet.org/)\n",
    "2. [numpy](http://datacamp-community-prod.s3.amazonaws.com/da466534-51fe-4c6d-b0cb-154f4782eb54)\n",
    "3. [pandas](https://pandas.pydata.org/Pandas_Cheat_Sheet.pdf)\n",
    "4. [Basics, numpy and pandas](https://www.kaggle.com/lavanyashukla01/pandas-numpy-python-cheatsheet)\n",
    "5. [matplotlib for plotting](https://github.com/matplotlib/cheatsheets#cheatsheets) \n",
    "6. [seaborn for plotting](https://seaborn.pydata.org/tutorial.html) "
   ]
  },
  {
   "cell_type": "markdown",
   "metadata": {},
   "source": [
    "# Numpy"
   ]
  },
  {
   "cell_type": "markdown",
   "metadata": {},
   "source": [
    "<img src=\"img/logo/numpy.png\" width=\"200\"/>"
   ]
  },
  {
   "cell_type": "markdown",
   "metadata": {},
   "source": [
    "> We need arrays in scientific computation!\n",
    "\n",
    "* Arrays are essential tools in numerical computing. When a computation must be repeated for a set of input values, **it is natural and advantageous to represent the data as arrays and the computation in terms of array operations**. <br><br>\n",
    "\n",
    "* Computations that are formulated this way are said to be vectorized. **Vectorized computing eliminates the need for many explicit loops over the array elements by applying batch operations on the array data.** The result is concise and more maintainable code. Vectorized computations can therefore be significantly faster than sequential element-by-element computations.<br><br>\n",
    "\n",
    "* The core of NumPy is implemented in C and provides efficient functions for manipulating and processing arrays. **NumPy provides the numerical backend for nearly every scientific or technical library for Python.** "
   ]
  },
  {
   "cell_type": "code",
   "execution_count": 1,
   "metadata": {},
   "outputs": [],
   "source": [
    "# run this cell first before running the cells below!!!\n",
    "import numpy as np"
   ]
  },
  {
   "cell_type": "markdown",
   "metadata": {},
   "source": [
    "The core of the `numpy` package is the `array` class. Let's examine that first. We can make an array out of a sequence, like a list."
   ]
  },
  {
   "cell_type": "code",
   "execution_count": null,
   "metadata": {},
   "outputs": [],
   "source": [
    "# this is a list\n",
    "li = [1, 2, 3, 4, 5]"
   ]
  },
  {
   "cell_type": "code",
   "execution_count": null,
   "metadata": {},
   "outputs": [],
   "source": [
    "li"
   ]
  },
  {
   "cell_type": "code",
   "execution_count": null,
   "metadata": {},
   "outputs": [],
   "source": [
    "type(li)"
   ]
  },
  {
   "cell_type": "code",
   "execution_count": null,
   "metadata": {},
   "outputs": [],
   "source": [
    "# make an array\n",
    "dd = np.array(li)"
   ]
  },
  {
   "cell_type": "code",
   "execution_count": null,
   "metadata": {},
   "outputs": [],
   "source": [
    "type(dd)"
   ]
  },
  {
   "cell_type": "code",
   "execution_count": null,
   "metadata": {},
   "outputs": [],
   "source": [
    "dd"
   ]
  },
  {
   "cell_type": "markdown",
   "metadata": {},
   "source": [
    "* At a first glance, Numpy arrays bear some resemblance to Python’s list data structure. But an important difference is that while Python lists are generic containers of objects, **NumPy arrays are homogenous and typed arrays of fixed size.**<br><br>\n",
    "\n",
    "* Homogenous means that all elements in the array have the **same data type**. Fixed size means that an **array cannot be resized (without creating a new array)**. For these and other reasons, operations and functions acting on NumPy arrays can be much more efficient than those using Python lists.<br><br>\n",
    "\n",
    "* In addition, compared with list, NumPy also provides a **large collection of basic operators and functions** that act on these data structures, as well as **submodules with higher-level algorithms** such as linear algebra.<br><br>"
   ]
  },
  {
   "cell_type": "markdown",
   "metadata": {},
   "source": [
    "Homogenous:"
   ]
  },
  {
   "cell_type": "code",
   "execution_count": null,
   "metadata": {},
   "outputs": [],
   "source": [
    "li = [1,2,3,\"abc\"]\n",
    "li"
   ]
  },
  {
   "cell_type": "code",
   "execution_count": null,
   "metadata": {},
   "outputs": [],
   "source": [
    "dd = np.array(li)\n",
    "dd"
   ]
  },
  {
   "cell_type": "markdown",
   "metadata": {},
   "source": [
    "Fixed size:"
   ]
  },
  {
   "cell_type": "code",
   "execution_count": null,
   "metadata": {},
   "outputs": [],
   "source": [
    "li.append(2)\n",
    "li"
   ]
  },
  {
   "cell_type": "code",
   "execution_count": null,
   "metadata": {},
   "outputs": [],
   "source": [
    "# dd.append(2)"
   ]
  },
  {
   "cell_type": "markdown",
   "metadata": {},
   "source": [
    "### Array numeric type\n",
    "\n",
    "A very nice summary of the array data types can be found [here](https://betterprogramming.pub/a-comprehensive-guide-to-numpy-data-types-8f62cb57ea83)\n",
    "\n",
    "<img src=\"img/array_numeric_type.png\" alt=\"beginning python\" width=\"800\"/>"
   ]
  },
  {
   "cell_type": "code",
   "execution_count": null,
   "metadata": {},
   "outputs": [],
   "source": [
    "z = np.array([1,2,3])\n",
    "z"
   ]
  },
  {
   "cell_type": "markdown",
   "metadata": {},
   "source": [
    "**You can query the data type of the elements in the array by using the `dtype` attribute**. Don't confuse this with the `type()` method, which checks the type of the whole object."
   ]
  },
  {
   "cell_type": "code",
   "execution_count": null,
   "metadata": {},
   "outputs": [],
   "source": [
    "type(z)"
   ]
  },
  {
   "cell_type": "code",
   "execution_count": null,
   "metadata": {},
   "outputs": [],
   "source": [
    "z.dtype # the default is int64 for integers"
   ]
  },
  {
   "cell_type": "code",
   "execution_count": null,
   "metadata": {},
   "outputs": [],
   "source": [
    "z = np.array([1.2,2.3,3.4])\n",
    "z"
   ]
  },
  {
   "cell_type": "code",
   "execution_count": null,
   "metadata": {},
   "outputs": [],
   "source": [
    "z.dtype # the default is float64 for floating point numbers\n"
   ]
  },
  {
   "cell_type": "markdown",
   "metadata": {},
   "source": [
    "Array is homogeneous. The property of \"Homogeneous\" requires an array is **upcast** to be able to represent all of the elements. So, if one element is a float, all elements will be converted to floats."
   ]
  },
  {
   "cell_type": "code",
   "execution_count": null,
   "metadata": {
    "run_control": {
     "marked": false
    }
   },
   "outputs": [],
   "source": [
    "# a mixture of integer and floating point number\n",
    "d = [1, 2, 3.1415, 4, 5]\n",
    "arr = np.array(d)\n",
    "arr"
   ]
  },
  {
   "cell_type": "code",
   "execution_count": null,
   "metadata": {},
   "outputs": [],
   "source": [
    "arr.dtype"
   ]
  },
  {
   "cell_type": "markdown",
   "metadata": {},
   "source": [
    "Array types may be defined explicity in the call. When creating a new ndarray data, you can define the data type of the element by the **string name** in the above array numeric type graph."
   ]
  },
  {
   "cell_type": "code",
   "execution_count": null,
   "metadata": {},
   "outputs": [],
   "source": [
    "# assign the array type during creation\n",
    "z = np.array([1,2,3], dtype=\"int8\")\n",
    "z"
   ]
  },
  {
   "cell_type": "code",
   "execution_count": null,
   "metadata": {},
   "outputs": [],
   "source": [
    "# check array type\n",
    "z.dtype"
   ]
  },
  {
   "cell_type": "code",
   "execution_count": null,
   "metadata": {},
   "outputs": [],
   "source": [
    "z = np.array([1,2,3], dtype=\"int64\")\n",
    "z"
   ]
  },
  {
   "cell_type": "code",
   "execution_count": null,
   "metadata": {},
   "outputs": [],
   "source": [
    "# check array type\n",
    "z.dtype"
   ]
  },
  {
   "cell_type": "markdown",
   "metadata": {},
   "source": [
    "You can use the `astype()` method to convert the array data type"
   ]
  },
  {
   "cell_type": "code",
   "execution_count": null,
   "metadata": {},
   "outputs": [],
   "source": [
    "z.astype(\"float16\")"
   ]
  },
  {
   "cell_type": "code",
   "execution_count": null,
   "metadata": {},
   "outputs": [],
   "source": [
    "# the original array data type is not changed!\n",
    "z.dtype"
   ]
  },
  {
   "cell_type": "code",
   "execution_count": null,
   "metadata": {},
   "outputs": [],
   "source": [
    "# need to assign the result to variable\n",
    "z = z.astype(\"float16\")"
   ]
  },
  {
   "cell_type": "code",
   "execution_count": null,
   "metadata": {},
   "outputs": [],
   "source": [
    "z.dtype"
   ]
  },
  {
   "cell_type": "markdown",
   "metadata": {},
   "source": [
    "Arrays are like **multidimensional sequences**. We can create a 2D/3D array by supplying **a list of lists** as the argument. And note how many square brackets are surrounding the output!"
   ]
  },
  {
   "cell_type": "code",
   "execution_count": null,
   "metadata": {},
   "outputs": [],
   "source": [
    "# 2D array\n",
    "arr = np.array([[1, 2, 3,], [4, 5, 6]])\n",
    "arr"
   ]
  },
  {
   "cell_type": "code",
   "execution_count": null,
   "metadata": {},
   "outputs": [],
   "source": [
    "# 3D array\n",
    "arr = np.array([[[1, 2, 3,], [4, 5, 6]], [[3, 2, 1,], [6, 5, 4]]])"
   ]
  },
  {
   "cell_type": "code",
   "execution_count": null,
   "metadata": {},
   "outputs": [],
   "source": [
    "arr"
   ]
  },
  {
   "cell_type": "markdown",
   "metadata": {},
   "source": [
    "### Array attributes\n",
    "\n",
    "Arrays have a few other important attributes. **Note attributes never have parentheses after them. Methods always do.**"
   ]
  },
  {
   "cell_type": "markdown",
   "metadata": {},
   "source": [
    "![array_axis](img/array_axis.png)"
   ]
  },
  {
   "cell_type": "code",
   "execution_count": null,
   "metadata": {},
   "outputs": [],
   "source": [
    "# 1D array\n",
    "arr = np.array([1,2,3])\n",
    "arr"
   ]
  },
  {
   "cell_type": "code",
   "execution_count": null,
   "metadata": {},
   "outputs": [],
   "source": [
    "arr.ndim"
   ]
  },
  {
   "cell_type": "code",
   "execution_count": null,
   "metadata": {},
   "outputs": [],
   "source": [
    "arr.shape"
   ]
  },
  {
   "cell_type": "code",
   "execution_count": null,
   "metadata": {},
   "outputs": [],
   "source": [
    "arr.size"
   ]
  },
  {
   "cell_type": "code",
   "execution_count": null,
   "metadata": {},
   "outputs": [],
   "source": [
    "# 2D array\n",
    "arr = np.array([[1, 2], [4, 5],[5,5]])\n",
    "arr"
   ]
  },
  {
   "cell_type": "code",
   "execution_count": null,
   "metadata": {},
   "outputs": [],
   "source": [
    "arr.ndim # The number of dimensions (indices) of the array"
   ]
  },
  {
   "cell_type": "code",
   "execution_count": null,
   "metadata": {},
   "outputs": [],
   "source": [
    "arr.shape # The shape of the array (i.e., the size of array in each dimension)"
   ]
  },
  {
   "cell_type": "code",
   "execution_count": null,
   "metadata": {},
   "outputs": [],
   "source": [
    "arr.size # The total number of elements in the array"
   ]
  },
  {
   "cell_type": "markdown",
   "metadata": {},
   "source": [
    "### change array shape\n",
    "\n",
    "You can set the `array.shape` attribute to change the shape of the array."
   ]
  },
  {
   "cell_type": "code",
   "execution_count": null,
   "metadata": {},
   "outputs": [],
   "source": [
    "arr = np.array([[1, 2, 3,], [4, 5, 6]])"
   ]
  },
  {
   "cell_type": "code",
   "execution_count": null,
   "metadata": {},
   "outputs": [],
   "source": [
    "arr"
   ]
  },
  {
   "cell_type": "code",
   "execution_count": null,
   "metadata": {},
   "outputs": [],
   "source": [
    "arr.shape"
   ]
  },
  {
   "cell_type": "code",
   "execution_count": null,
   "metadata": {},
   "outputs": [],
   "source": [
    "arr.shape = (3, 2)\n",
    "arr"
   ]
  },
  {
   "cell_type": "markdown",
   "metadata": {},
   "source": [
    "You can also use the `reshape()` method to change the shape of an array. **Note that it will not change the array itself.**"
   ]
  },
  {
   "cell_type": "code",
   "execution_count": null,
   "metadata": {},
   "outputs": [],
   "source": [
    "arr = np.array([[1, 2, 3,], [4, 5, 6]])"
   ]
  },
  {
   "cell_type": "code",
   "execution_count": null,
   "metadata": {},
   "outputs": [],
   "source": [
    "arr"
   ]
  },
  {
   "cell_type": "code",
   "execution_count": null,
   "metadata": {},
   "outputs": [],
   "source": [
    "arr.reshape(3, 2)"
   ]
  },
  {
   "cell_type": "markdown",
   "metadata": {},
   "source": [
    "Note that it will not change the array itself."
   ]
  },
  {
   "cell_type": "code",
   "execution_count": null,
   "metadata": {},
   "outputs": [],
   "source": [
    "arr"
   ]
  },
  {
   "cell_type": "markdown",
   "metadata": {},
   "source": [
    "assign the conversion back to the original array to change its shape"
   ]
  },
  {
   "cell_type": "code",
   "execution_count": null,
   "metadata": {},
   "outputs": [],
   "source": [
    "arr = arr.reshape(3, 2)\n",
    "arr"
   ]
  },
  {
   "cell_type": "markdown",
   "metadata": {},
   "source": [
    "### 1D vs. 2D array for the same number of elements\n",
    "\n",
    "This part can be very tricky BUT important for you to understand the 1D vs. 2D array"
   ]
  },
  {
   "cell_type": "code",
   "execution_count": null,
   "metadata": {},
   "outputs": [],
   "source": [
    "arr = np.array([[1, 2, 3,], [4, 5, 6]])\n",
    "arr"
   ]
  },
  {
   "cell_type": "code",
   "execution_count": null,
   "metadata": {},
   "outputs": [],
   "source": [
    "# convert it to 1D array\n",
    "arr.shape = (6, )"
   ]
  },
  {
   "cell_type": "code",
   "execution_count": null,
   "metadata": {},
   "outputs": [],
   "source": [
    "arr"
   ]
  },
  {
   "cell_type": "markdown",
   "metadata": {},
   "source": [
    "Singleton dimensions (aka. the size of array in this dimension is 1) **add** to the dimensionality of an array. The last example is a 1D array (also called a vector), but the next is a 2D array|."
   ]
  },
  {
   "cell_type": "code",
   "execution_count": null,
   "metadata": {},
   "outputs": [],
   "source": [
    "# convert it back to 2D array\n",
    "arr.shape = (2, 3)\n",
    "arr\n",
    "\n",
    "# Note that there are *two* square brackets in the output sequence to denote it is a 2D array.\n",
    "# It looks like a row vector."
   ]
  },
  {
   "cell_type": "markdown",
   "metadata": {},
   "source": [
    "In the above example, the arr shape is (1, 6), indicating we have a singleton dimension for the row. In other words, the size of array in the row dimension is 1, so we have 1 single element for each column."
   ]
  },
  {
   "cell_type": "code",
   "execution_count": null,
   "metadata": {},
   "outputs": [],
   "source": [
    "arr.shape = (6, 1)\n",
    "arr   # this is also a 2D array, like a column vector"
   ]
  },
  {
   "cell_type": "markdown",
   "metadata": {},
   "source": [
    "**What if we don't know the size of the array but we still want to convert the original 1D or 2D array to a 2D array with only 1 row or 1 column?**"
   ]
  },
  {
   "cell_type": "markdown",
   "metadata": {},
   "source": [
    "*Convert an array from 1D to 2D with only 1 row or 1 column*"
   ]
  },
  {
   "cell_type": "code",
   "execution_count": null,
   "metadata": {},
   "outputs": [],
   "source": [
    "arr = np.array([[1, 2, 3,], [4, 5, 6]])\n",
    "arr"
   ]
  },
  {
   "cell_type": "code",
   "execution_count": null,
   "metadata": {},
   "outputs": [],
   "source": [
    "# let's change arr back to 1D array\n",
    "arr.shape = (6, ) # not (, 6)!!!\n",
    "arr"
   ]
  },
  {
   "cell_type": "markdown",
   "metadata": {},
   "source": [
    "**Method 1: use `size` attribute**"
   ]
  },
  {
   "cell_type": "code",
   "execution_count": null,
   "metadata": {},
   "outputs": [],
   "source": [
    "# convert to 2D array with only 1 row\n",
    "arr.shape = (1, arr.size)\n",
    "arr"
   ]
  },
  {
   "cell_type": "code",
   "execution_count": null,
   "metadata": {},
   "outputs": [],
   "source": [
    "# back to 1D array\n",
    "arr.shape = (arr.size, )\n",
    "arr"
   ]
  },
  {
   "cell_type": "code",
   "execution_count": null,
   "metadata": {},
   "outputs": [],
   "source": [
    "# convert to 2D array with only 1 column\n",
    "arr.shape = (arr.size, 1)\n",
    "arr"
   ]
  },
  {
   "cell_type": "markdown",
   "metadata": {},
   "source": [
    "**Method 2: use -1**"
   ]
  },
  {
   "cell_type": "markdown",
   "metadata": {},
   "source": [
    "* use -1 at the dimension of unknown size"
   ]
  },
  {
   "cell_type": "code",
   "execution_count": null,
   "metadata": {},
   "outputs": [],
   "source": [
    "# back to 1D array\n",
    "arr.shape = (arr.size, )\n",
    "arr"
   ]
  },
  {
   "cell_type": "code",
   "execution_count": null,
   "metadata": {},
   "outputs": [],
   "source": [
    "# use the -1 trick to create a 2D array with 1 row\n",
    "arr.shape = (1,-1)\n",
    "arr"
   ]
  },
  {
   "cell_type": "code",
   "execution_count": null,
   "metadata": {},
   "outputs": [],
   "source": [
    "# back to 1D array\n",
    "arr.shape = (arr.size, )\n",
    "arr"
   ]
  },
  {
   "cell_type": "code",
   "execution_count": null,
   "metadata": {},
   "outputs": [],
   "source": [
    "# use the -1 trick to create a 2D array with 1 column\n",
    "arr.shape = (-1, 1)\n",
    "arr"
   ]
  },
  {
   "cell_type": "markdown",
   "metadata": {},
   "source": [
    "*Convert an array from 2D with multiple rows and columns to 2D with only 1 row or 1 column*"
   ]
  },
  {
   "cell_type": "code",
   "execution_count": null,
   "metadata": {},
   "outputs": [],
   "source": [
    "arr = np.array([[1, 2, 3,], [4, 5, 6]])\n",
    "arr"
   ]
  },
  {
   "cell_type": "markdown",
   "metadata": {},
   "source": [
    "**method 1: use the `size` attribute**"
   ]
  },
  {
   "cell_type": "code",
   "execution_count": null,
   "metadata": {},
   "outputs": [],
   "source": [
    "# create a 2D array with 1 row\n",
    "arr.shape = (1, arr.size)\n",
    "arr"
   ]
  },
  {
   "cell_type": "code",
   "execution_count": null,
   "metadata": {},
   "outputs": [],
   "source": [
    "# back to multiple rows and columns\n",
    "arr.shape = (2, 3)\n",
    "arr"
   ]
  },
  {
   "cell_type": "code",
   "execution_count": null,
   "metadata": {},
   "outputs": [],
   "source": [
    "# create a 2D array with 1 column\n",
    "arr.shape = (arr.size, 1)\n",
    "arr"
   ]
  },
  {
   "cell_type": "markdown",
   "metadata": {},
   "source": [
    "**method 2: use the `-1` trick**"
   ]
  },
  {
   "cell_type": "code",
   "execution_count": null,
   "metadata": {},
   "outputs": [],
   "source": [
    "# back to multiple rows and columns\n",
    "arr.shape = (2, 3)\n",
    "arr"
   ]
  },
  {
   "cell_type": "code",
   "execution_count": null,
   "metadata": {},
   "outputs": [],
   "source": [
    "# use the -1 trick to create a 2D array with 1 row\n",
    "arr.shape = (1, -1)\n",
    "arr"
   ]
  },
  {
   "cell_type": "code",
   "execution_count": null,
   "metadata": {},
   "outputs": [],
   "source": [
    "# back to multiple rows and columns\n",
    "arr.shape = (2, 3)\n",
    "arr"
   ]
  },
  {
   "cell_type": "code",
   "execution_count": null,
   "metadata": {},
   "outputs": [],
   "source": [
    "# use the -1 trick to create a 2D array with 1 column\n",
    "arr.shape = (-1, 1)\n",
    "arr"
   ]
  },
  {
   "cell_type": "markdown",
   "metadata": {},
   "source": [
    "*Convert an array from 2D to 1D (i.e., flatten the array)*"
   ]
  },
  {
   "cell_type": "code",
   "execution_count": null,
   "metadata": {},
   "outputs": [],
   "source": [
    "arr = np.array([[1, 2, 3,], [4, 5, 6]])\n",
    "arr"
   ]
  },
  {
   "cell_type": "markdown",
   "metadata": {},
   "source": [
    "**method 1: use the `size` attribute**"
   ]
  },
  {
   "cell_type": "code",
   "execution_count": null,
   "metadata": {},
   "outputs": [],
   "source": [
    "arr.shape = (arr.size, )\n",
    "arr"
   ]
  },
  {
   "cell_type": "markdown",
   "metadata": {},
   "source": [
    "**method 2: use the `-1` trick**"
   ]
  },
  {
   "cell_type": "code",
   "execution_count": null,
   "metadata": {},
   "outputs": [],
   "source": [
    "# back to 2D array\n",
    "arr.shape = (2, 3)\n",
    "arr"
   ]
  },
  {
   "cell_type": "code",
   "execution_count": null,
   "metadata": {},
   "outputs": [],
   "source": [
    "arr.shape = (-1,) # not (, -1)!!!\n",
    "arr"
   ]
  },
  {
   "cell_type": "markdown",
   "metadata": {},
   "source": [
    "You may feel this is confusing, but actually this makes sense. Recall that the shape of 1D array yields (xx, ), where xx is the number of elements in the 1D array. Therefore, by providing `arr.size` when using `arr.shape = (arr.size, )`, we are letting Python to generate a 1D array containing `arr.size` elements. Similarly, by providing -1 when using `arr.shape = (-1, )`, we are letting Python automatically determine the number of elements that should be contained in the resulting 1D array."
   ]
  },
  {
   "cell_type": "markdown",
   "metadata": {},
   "source": [
    "**method 3: use the `flatten()` method**. Similar to `.reshape()`, `.flatten()` will not change the original array."
   ]
  },
  {
   "cell_type": "code",
   "execution_count": null,
   "metadata": {},
   "outputs": [],
   "source": [
    "# remember to assign the conversion back to arr\n",
    "arr = arr.flatten()"
   ]
  },
  {
   "cell_type": "code",
   "execution_count": null,
   "metadata": {},
   "outputs": [],
   "source": [
    "arr"
   ]
  },
  {
   "cell_type": "markdown",
   "metadata": {},
   "source": [
    "---\n",
    "### *Exercise*\n",
    "\n",
    "> Go over the above examples about 1D-2D conversion\n"
   ]
  },
  {
   "cell_type": "code",
   "execution_count": null,
   "metadata": {},
   "outputs": [],
   "source": [
    "yee = 1"
   ]
  },
  {
   "cell_type": "markdown",
   "metadata": {},
   "source": [
    "## Array indexing\n",
    "\n",
    "Arrays are indexed in a similar way to sequences (like list)."
   ]
  },
  {
   "cell_type": "markdown",
   "metadata": {},
   "source": [
    "### 1-dimensional array"
   ]
  },
  {
   "cell_type": "markdown",
   "metadata": {},
   "source": [
    "![array_index](img/array_index.jpeg)"
   ]
  },
  {
   "cell_type": "code",
   "execution_count": null,
   "metadata": {
    "scrolled": true
   },
   "outputs": [],
   "source": [
    "arr = np.array([2,  3,  0,  1,  4,  5,  6,  7,  8,  9, 10, 11, 12, 13, 14, 15, 16,\n",
    "       17, 18, 19, 20, 21, 22, 23, 24])"
   ]
  },
  {
   "cell_type": "code",
   "execution_count": null,
   "metadata": {},
   "outputs": [],
   "source": [
    "arr"
   ]
  },
  {
   "cell_type": "code",
   "execution_count": null,
   "metadata": {},
   "outputs": [],
   "source": [
    "arr.size"
   ]
  },
  {
   "cell_type": "code",
   "execution_count": null,
   "metadata": {},
   "outputs": [],
   "source": [
    "arr.shape"
   ]
  },
  {
   "cell_type": "markdown",
   "metadata": {},
   "source": [
    "**Similar to string slicing or list slicing, we can get a subset of the data in that particular dimension of the array by giving a range of the index to extract**. This is done by using the following format\n",
    "\n",
    "    start:stop:step\n",
    "\n",
    "1. `s[start:stop:step]`: This extracts the elements from the start index up to but not including the stop index, with a step size of step.\n",
    "\n",
    "1. `s[start:stop]`:  This extracts the elements from the start index up to but not including the stop index, with a default step size of 1.\n",
    "\n",
    "1. `s[start:]`: This extracts the elements from the start index to the last one, with a default step size of 1.\n",
    "\n",
    "1. `s[:stop]`: This extracts the elements from the beginning up to but not including the stop index, with a default step size of 1.\n",
    "\n",
    "1. `s[::step]`: This extracts the elements from the beginning up to the last one (or from the ending to the first one, depending on whether step is positive or negative), with a default step size of step.\n",
    "\n",
    "1. `s[:]` or `s1[::]` extract all elements"
   ]
  },
  {
   "cell_type": "code",
   "execution_count": null,
   "metadata": {},
   "outputs": [],
   "source": [
    "arr[2]"
   ]
  },
  {
   "cell_type": "code",
   "execution_count": null,
   "metadata": {},
   "outputs": [],
   "source": [
    "arr[1:10:2]"
   ]
  },
  {
   "cell_type": "markdown",
   "metadata": {},
   "source": [
    "### 2-dimensional array"
   ]
  },
  {
   "cell_type": "markdown",
   "metadata": {},
   "source": [
    "![array_index](img/array_index_2d.jpeg)"
   ]
  },
  {
   "cell_type": "code",
   "execution_count": null,
   "metadata": {},
   "outputs": [],
   "source": [
    "arr"
   ]
  },
  {
   "cell_type": "code",
   "execution_count": null,
   "metadata": {},
   "outputs": [],
   "source": [
    "arr.size"
   ]
  },
  {
   "cell_type": "code",
   "execution_count": null,
   "metadata": {},
   "outputs": [],
   "source": [
    "# convert it to 2D array\n",
    "arr.shape = (5, 5)\n",
    "arr"
   ]
  },
  {
   "cell_type": "code",
   "execution_count": null,
   "metadata": {},
   "outputs": [],
   "source": [
    "arr[3, 4] # an individual element"
   ]
  },
  {
   "cell_type": "code",
   "execution_count": null,
   "metadata": {},
   "outputs": [],
   "source": [
    "# A common use case is to get a single row or column from a 2D array.\n",
    "\n",
    "arr[:, 4]   # the 5th column with all rows"
   ]
  },
  {
   "cell_type": "code",
   "execution_count": null,
   "metadata": {},
   "outputs": [],
   "source": [
    "arr[2, :]   # the 3rd row with all columns"
   ]
  },
  {
   "cell_type": "code",
   "execution_count": null,
   "metadata": {},
   "outputs": [],
   "source": [
    "arr[2]     # Trailing colons do not need to be explicitly typed. This is equivalent to the last example."
   ]
  },
  {
   "cell_type": "code",
   "execution_count": null,
   "metadata": {},
   "outputs": [],
   "source": [
    "arr[1::2, :] # get the second row and beyond with a step of 2"
   ]
  },
  {
   "cell_type": "markdown",
   "metadata": {},
   "source": [
    "---\n",
    "### *Exercise*\n",
    "\n",
    "> Use array `arr` and grab out every other row and the 4th column and beyond\n"
   ]
  },
  {
   "cell_type": "code",
   "execution_count": null,
   "metadata": {},
   "outputs": [],
   "source": [
    "arr[0::2,]"
   ]
  },
  {
   "cell_type": "markdown",
   "metadata": {},
   "source": [
    "## Array methods\n",
    "\n",
    "Arrays have a number of methods. Let's take a look at the `sum()` method as an example. "
   ]
  },
  {
   "cell_type": "code",
   "execution_count": null,
   "metadata": {},
   "outputs": [],
   "source": [
    "arr = np.array([[0, 1, 2], [3, 4, 5]])  # reset the array to our 2x3 array."
   ]
  },
  {
   "cell_type": "code",
   "execution_count": null,
   "metadata": {},
   "outputs": [],
   "source": [
    "arr"
   ]
  },
  {
   "cell_type": "code",
   "execution_count": null,
   "metadata": {},
   "outputs": [],
   "source": [
    "arr.sum()        # The sum of all of the elements in the array"
   ]
  },
  {
   "cell_type": "markdown",
   "metadata": {},
   "source": [
    "**Note:** \n",
    "\n",
    "* `Sum` takes the optional argument `axis` that can be used to take the sum along a single axis of the array. Just like with indexing, the axes are reference in a **zero-based** system.\n",
    "* In a 2D array case, `axis=0` means the first dimension, which is the row direction, pointing downwards; `axis=1` means the second dimension, which is the column direction, pointing to the right."
   ]
  },
  {
   "cell_type": "markdown",
   "metadata": {},
   "source": [
    "![array_axis](img/array_axis.png)"
   ]
  },
  {
   "cell_type": "markdown",
   "metadata": {},
   "source": [
    "<div class=\"alert alert-info\">When you run arr.sum(axis = 0 or axis = 1) (here arr is a 2D array), it will produce a 1D array. For axis = 0, you can think the operation collapses the row axis. For axis = 1, you can think the operation collapses the column axis. The following figure shows what happens.</div>\n",
    "\n"
   ]
  },
  {
   "cell_type": "markdown",
   "metadata": {},
   "source": [
    "\n",
    "Here is a good [tutorial](https://www.sharpsightlabs.com/blog/numpy-axes-explained/).\n",
    "\n",
    "\n",
    "![numpy_axis](img/numpy_axis.png)"
   ]
  },
  {
   "cell_type": "code",
   "execution_count": null,
   "metadata": {},
   "outputs": [],
   "source": [
    "arr"
   ]
  },
  {
   "cell_type": "code",
   "execution_count": null,
   "metadata": {},
   "outputs": [],
   "source": [
    "arr.sum(axis=0)  # takes the sum in the 'row' direction, resulting in a 1D array that is the sum across the rows"
   ]
  },
  {
   "cell_type": "code",
   "execution_count": null,
   "metadata": {},
   "outputs": [],
   "source": [
    "arr.sum(axis=1)  # takes the sum in the 'column' direction, resulting in a 1D array that is the sum across the columns"
   ]
  },
  {
   "cell_type": "markdown",
   "metadata": {},
   "source": [
    "---\n",
    "### *Exercise*\n",
    "\n",
    "> Use the `mean()` method get the mean of the numbers in each column of `arr`. The result should be a 1D array with three elements.\n"
   ]
  },
  {
   "cell_type": "code",
   "execution_count": null,
   "metadata": {},
   "outputs": [],
   "source": [
    "arr.mean(axis=1)"
   ]
  },
  {
   "cell_type": "markdown",
   "metadata": {},
   "source": [
    "You can find the mininum and maximum of an array with the `min()` and `max()` methods."
   ]
  },
  {
   "cell_type": "code",
   "execution_count": 27,
   "metadata": {},
   "outputs": [
    {
     "data": {
      "text/plain": [
       "array([[0, 1, 2],\n",
       "       [3, 4, 5]])"
      ]
     },
     "execution_count": 27,
     "metadata": {},
     "output_type": "execute_result"
    }
   ],
   "source": [
    "arr = np.array([[0, 1, 2], [3, 4, 5]]) \n",
    "arr"
   ]
  },
  {
   "cell_type": "code",
   "execution_count": 28,
   "metadata": {},
   "outputs": [
    {
     "data": {
      "text/plain": [
       "0"
      ]
     },
     "execution_count": 28,
     "metadata": {},
     "output_type": "execute_result"
    }
   ],
   "source": [
    "arr.min()"
   ]
  },
  {
   "cell_type": "code",
   "execution_count": 29,
   "metadata": {},
   "outputs": [
    {
     "data": {
      "text/plain": [
       "5"
      ]
     },
     "execution_count": 29,
     "metadata": {},
     "output_type": "execute_result"
    }
   ],
   "source": [
    "arr.max()"
   ]
  },
  {
   "cell_type": "code",
   "execution_count": 30,
   "metadata": {},
   "outputs": [
    {
     "data": {
      "text/plain": [
       "array([0, 1, 2])"
      ]
     },
     "execution_count": 30,
     "metadata": {},
     "output_type": "execute_result"
    }
   ],
   "source": [
    "# find the min value along each column\n",
    "arr.min(axis=0)"
   ]
  },
  {
   "cell_type": "code",
   "execution_count": 31,
   "metadata": {},
   "outputs": [
    {
     "data": {
      "text/plain": [
       "array([2, 5])"
      ]
     },
     "execution_count": 31,
     "metadata": {},
     "output_type": "execute_result"
    }
   ],
   "source": [
    "# find the max value along each row\n",
    "arr.max(axis=1)"
   ]
  },
  {
   "cell_type": "markdown",
   "metadata": {},
   "source": [
    "Sometimes it is useful to find the indices of these minima and maxima. For this use `argmin` and `argmax`:"
   ]
  },
  {
   "cell_type": "markdown",
   "metadata": {},
   "source": [
    "**Note:** argmin or argmax function by default works along the flattened array (aka, the min or max index generated is the min or max index of the flattened 1D array)."
   ]
  },
  {
   "cell_type": "code",
   "execution_count": 32,
   "metadata": {},
   "outputs": [
    {
     "data": {
      "text/plain": [
       "array([[2, 3, 5],\n",
       "       [1, 8, 4]])"
      ]
     },
     "execution_count": 32,
     "metadata": {},
     "output_type": "execute_result"
    }
   ],
   "source": [
    "arr2 = np.array([[2,3,5], [1,8,4]])\n",
    "arr2"
   ]
  },
  {
   "cell_type": "code",
   "execution_count": 33,
   "metadata": {},
   "outputs": [
    {
     "data": {
      "text/plain": [
       "3"
      ]
     },
     "execution_count": 33,
     "metadata": {},
     "output_type": "execute_result"
    }
   ],
   "source": [
    "arr2.argmin()"
   ]
  },
  {
   "cell_type": "code",
   "execution_count": null,
   "metadata": {},
   "outputs": [],
   "source": [
    "arr2.argmax()"
   ]
  },
  {
   "cell_type": "markdown",
   "metadata": {},
   "source": [
    "**use flatten() to check the min and max index and it is right!**"
   ]
  },
  {
   "cell_type": "code",
   "execution_count": null,
   "metadata": {},
   "outputs": [],
   "source": [
    "arr2.flatten()"
   ]
  },
  {
   "cell_type": "code",
   "execution_count": null,
   "metadata": {},
   "outputs": [],
   "source": [
    "arr2.flatten()[arr2.argmin()]"
   ]
  },
  {
   "cell_type": "code",
   "execution_count": null,
   "metadata": {},
   "outputs": [],
   "source": [
    "arr2.flatten()[arr2.argmax()]"
   ]
  },
  {
   "cell_type": "markdown",
   "metadata": {},
   "source": [
    "#### find the min  or max value index along single axis"
   ]
  },
  {
   "cell_type": "code",
   "execution_count": null,
   "metadata": {},
   "outputs": [],
   "source": [
    "arr2"
   ]
  },
  {
   "cell_type": "code",
   "execution_count": null,
   "metadata": {},
   "outputs": [],
   "source": [
    "# min index in each column\n",
    "arr2.argmin(axis=0)"
   ]
  },
  {
   "cell_type": "code",
   "execution_count": null,
   "metadata": {},
   "outputs": [],
   "source": [
    "# max index in each row\n",
    "arr2.argmax(axis=1)"
   ]
  },
  {
   "cell_type": "markdown",
   "metadata": {},
   "source": [
    "sort the array using the `sort()` method"
   ]
  },
  {
   "cell_type": "code",
   "execution_count": null,
   "metadata": {},
   "outputs": [],
   "source": [
    "arr = np.array([2,1,4,3,5])\n",
    "arr"
   ]
  },
  {
   "cell_type": "markdown",
   "metadata": {},
   "source": [
    "**Method 1: use `sort()` method (sort the array in place)**"
   ]
  },
  {
   "cell_type": "code",
   "execution_count": null,
   "metadata": {},
   "outputs": [],
   "source": [
    "arr.sort() # sort occurs inplace (arr itself will be changed after using the sort method)"
   ]
  },
  {
   "cell_type": "code",
   "execution_count": null,
   "metadata": {},
   "outputs": [],
   "source": [
    "arr"
   ]
  },
  {
   "cell_type": "markdown",
   "metadata": {},
   "source": [
    "**Method 2: use `np.sort()` method (sort and create a new array)**"
   ]
  },
  {
   "cell_type": "code",
   "execution_count": null,
   "metadata": {},
   "outputs": [],
   "source": [
    "arr = np.array([2,1,4,3,5])\n",
    "arr"
   ]
  },
  {
   "cell_type": "code",
   "execution_count": null,
   "metadata": {},
   "outputs": [],
   "source": [
    "np.sort(arr)"
   ]
  },
  {
   "cell_type": "code",
   "execution_count": null,
   "metadata": {},
   "outputs": [],
   "source": [
    "arr"
   ]
  },
  {
   "cell_type": "code",
   "execution_count": null,
   "metadata": {},
   "outputs": [],
   "source": [
    "arr = np.sort(arr)\n",
    "arr"
   ]
  },
  {
   "cell_type": "markdown",
   "metadata": {},
   "source": [
    "---\n",
    "### *Exercise*\n",
    "\n",
    "> Sort the arr in descending order\n"
   ]
  },
  {
   "cell_type": "code",
   "execution_count": null,
   "metadata": {},
   "outputs": [],
   "source": [
    "np.sort(arr)[::-1]"
   ]
  },
  {
   "cell_type": "markdown",
   "metadata": {},
   "source": [
    "## Creating standard arrays\n",
    "\n",
    "There are a few standard arrays, for example, arrays filled with zeros or ones (or empty). Here are some examples of creating arrays."
   ]
  },
  {
   "cell_type": "markdown",
   "metadata": {},
   "source": [
    "create an array with all 1"
   ]
  },
  {
   "cell_type": "code",
   "execution_count": null,
   "metadata": {},
   "outputs": [],
   "source": [
    "o = np.ones(6)\n",
    "o"
   ]
  },
  {
   "cell_type": "code",
   "execution_count": null,
   "metadata": {},
   "outputs": [],
   "source": [
    "# create two-dimensional array with all 1\n",
    "# The argument should be a tuple or a list with the length of each dimension as an argument\n",
    "o = np.ones((3, 4)) # note that we have two round brackets on each side!!!\n",
    "o"
   ]
  },
  {
   "cell_type": "code",
   "execution_count": null,
   "metadata": {},
   "outputs": [],
   "source": [
    "# np.ones(3, 4) # this will be wrong as 3 and 4 are written separately, instead of as a tuple or list"
   ]
  },
  {
   "cell_type": "code",
   "execution_count": null,
   "metadata": {},
   "outputs": [],
   "source": [
    "# check default array type\n",
    "o.dtype"
   ]
  },
  {
   "cell_type": "markdown",
   "metadata": {},
   "source": [
    "create an array with all 0"
   ]
  },
  {
   "cell_type": "code",
   "execution_count": null,
   "metadata": {},
   "outputs": [],
   "source": [
    "z = np.zeros((2, 3))\n",
    "z"
   ]
  },
  {
   "cell_type": "code",
   "execution_count": null,
   "metadata": {},
   "outputs": [],
   "source": [
    "# check default array type\n",
    "z.dtype"
   ]
  },
  {
   "cell_type": "code",
   "execution_count": null,
   "metadata": {},
   "outputs": [],
   "source": [
    "# explicitly denote the variable type\n",
    "z = np.zeros((2, 3), dtype=\"int8\")\n",
    "z"
   ]
  },
  {
   "cell_type": "code",
   "execution_count": null,
   "metadata": {},
   "outputs": [],
   "source": [
    "z.dtype"
   ]
  },
  {
   "cell_type": "markdown",
   "metadata": {},
   "source": [
    "You can also create these arrays with the same shape and datatype of the input array using `np.ones_like` and `np.zeros_like`."
   ]
  },
  {
   "cell_type": "code",
   "execution_count": null,
   "metadata": {},
   "outputs": [],
   "source": [
    "z"
   ]
  },
  {
   "cell_type": "code",
   "execution_count": null,
   "metadata": {},
   "outputs": [],
   "source": [
    "zo = np.ones_like(z)\n",
    "zo"
   ]
  },
  {
   "cell_type": "code",
   "execution_count": null,
   "metadata": {},
   "outputs": [],
   "source": [
    "zo = np.zeros_like(z)\n",
    "zo"
   ]
  },
  {
   "cell_type": "markdown",
   "metadata": {},
   "source": [
    "You can also create a diagonal array with a given vector along the diagonal."
   ]
  },
  {
   "cell_type": "code",
   "execution_count": null,
   "metadata": {
    "run_control": {
     "marked": false
    }
   },
   "outputs": [],
   "source": [
    "np.diag(-2*np.ones(6))"
   ]
  },
  {
   "cell_type": "markdown",
   "metadata": {},
   "source": [
    "**There are also a number of ways to generate sequences of numbers.**\n",
    "\n",
    " - `np.arange([start,] stop [[, step]])` Create a sequence of numbers, similar to `range`. **Up-to-but-not-including stop.**\n",
    " - `np.linspace(min, max, length)` Create a uniform series of specified `length` between `min` and `max`, **inclusive**."
   ]
  },
  {
   "cell_type": "code",
   "execution_count": null,
   "metadata": {},
   "outputs": [],
   "source": [
    "np.arange(10)"
   ]
  },
  {
   "cell_type": "code",
   "execution_count": null,
   "metadata": {},
   "outputs": [],
   "source": [
    "np.linspace(0, 10, 11)"
   ]
  },
  {
   "cell_type": "code",
   "execution_count": null,
   "metadata": {},
   "outputs": [],
   "source": [
    "np.arange(1, 10, 2)"
   ]
  },
  {
   "cell_type": "markdown",
   "metadata": {},
   "source": [
    "**You can create arrays of random numbers easily with methods in `np.random`.**\n",
    "\n",
    "* `np.random.uniform(low=0.0, high=1.0, size=None)`: Return random samples from a uniform distribution of `size` (int or tuple of ints) in the interval [low, high). <br><br>\n",
    "\n",
    "* `np.random.normal(loc=0.0, scale=1.0, size=None)`: Return random samples from a normal distribution (mean is loc and standard deviation is scale) of `size` (int or tuple of ints). <br><br>\n",
    "\n",
    "* `np.random.randint(low, high=None, size=None)`: Return random integers from `low` (inclusive) to `high` (exclusive). If `high` is None then return integers from [0, `low`). `size` is an int or tuple of ints to give the output shape. <br><br>\n"
   ]
  },
  {
   "cell_type": "markdown",
   "metadata": {},
   "source": [
    "**np.random.uniform**"
   ]
  },
  {
   "cell_type": "code",
   "execution_count": null,
   "metadata": {},
   "outputs": [],
   "source": [
    "x = np.random.uniform(low=3, high=10, size=10000)\n",
    "x"
   ]
  },
  {
   "cell_type": "code",
   "execution_count": null,
   "metadata": {},
   "outputs": [],
   "source": [
    "# we will learn how to plot soon\n",
    "import matplotlib.pyplot as plt\n",
    "%matplotlib inline\n",
    "\n",
    "fig, ax = plt.subplots() \n",
    "\n",
    "ax.hist(x, color=\"red\", edgecolor=\"white\", bins=30);"
   ]
  },
  {
   "cell_type": "markdown",
   "metadata": {},
   "source": [
    "**np.random.normal**"
   ]
  },
  {
   "cell_type": "code",
   "execution_count": null,
   "metadata": {},
   "outputs": [],
   "source": [
    "x = np.random.normal(loc=5, scale=2, size=10000)\n",
    "x"
   ]
  },
  {
   "cell_type": "code",
   "execution_count": null,
   "metadata": {},
   "outputs": [],
   "source": [
    "fig, ax = plt.subplots()\n",
    "\n",
    "ax.hist(x, color=\"red\", edgecolor=\"white\", bins=30);"
   ]
  },
  {
   "cell_type": "markdown",
   "metadata": {},
   "source": [
    "**np.random.randint**"
   ]
  },
  {
   "cell_type": "code",
   "execution_count": null,
   "metadata": {},
   "outputs": [],
   "source": [
    "x = np.random.randint(low=5, high=15, size=10000)\n",
    "x"
   ]
  },
  {
   "cell_type": "code",
   "execution_count": null,
   "metadata": {},
   "outputs": [],
   "source": [
    "fig, ax = plt.subplots()\n",
    "\n",
    "ax.hist(x, color=\"red\", edgecolor=\"white\", bins=30);"
   ]
  },
  {
   "cell_type": "markdown",
   "metadata": {},
   "source": [
    "---\n",
    "### *Exercise*\n",
    "\n",
    "> Create an array of random floats between 0 and 1 that has dimension 5 x 3. Calculate the standard deviation of each column of the array.\n",
    "\n",
    "---"
   ]
  },
  {
   "cell_type": "code",
   "execution_count": null,
   "metadata": {},
   "outputs": [],
   "source": [
    "zeroto1 = np.random.uniform(low=0,high=1,size = (5,3))\n",
    "zeroto1"
   ]
  },
  {
   "cell_type": "code",
   "execution_count": null,
   "metadata": {},
   "outputs": [],
   "source": [
    "zeroto1.std(axis = 0 )"
   ]
  },
  {
   "cell_type": "code",
   "execution_count": null,
   "metadata": {},
   "outputs": [],
   "source": [
    "np.std(zeroto1, axis = 0 )"
   ]
  },
  {
   "cell_type": "markdown",
   "metadata": {},
   "source": [
    "## Combining arrays\n",
    "\n",
    "Generally, arrays can be combined with the `np.concatenate` function. The arguments are a sequence of arrays to join, and the axis along which to join them (default=0).\n",
    "\n",
    "\n"
   ]
  },
  {
   "cell_type": "code",
   "execution_count": null,
   "metadata": {},
   "outputs": [],
   "source": [
    "x = np.ones((2,3))\n",
    "y = x * 9"
   ]
  },
  {
   "cell_type": "code",
   "execution_count": null,
   "metadata": {},
   "outputs": [],
   "source": [
    "x"
   ]
  },
  {
   "cell_type": "code",
   "execution_count": null,
   "metadata": {},
   "outputs": [],
   "source": [
    "y"
   ]
  },
  {
   "cell_type": "markdown",
   "metadata": {},
   "source": [
    "<table><tr>\n",
    "<td> <img src=\"img/np_conc_0.png\"/> </td>\n",
    "<td> <img src=\"img/np_conc_1.png\"/> </td>\n",
    "</tr></table>"
   ]
  },
  {
   "cell_type": "code",
   "execution_count": null,
   "metadata": {},
   "outputs": [],
   "source": [
    "xnp.concatenate((x, y), axis=0)"
   ]
  },
  {
   "cell_type": "code",
   "execution_count": null,
   "metadata": {},
   "outputs": [],
   "source": [
    "np.concatenate((x, y), axis=1)"
   ]
  },
  {
   "cell_type": "markdown",
   "metadata": {},
   "source": [
    "There are a number of convenience functions that act like concatenate for specific axes:\n",
    "\n",
    " - `np.vstack` – vertical stack (stack along axis=0)\n",
    " - `np.hstack` – horizontal stack (stack along axis=1)"
   ]
  },
  {
   "cell_type": "code",
   "execution_count": null,
   "metadata": {},
   "outputs": [],
   "source": [
    "np.vstack((x, y))"
   ]
  },
  {
   "cell_type": "code",
   "execution_count": null,
   "metadata": {},
   "outputs": [],
   "source": [
    "np.hstack((x, y))"
   ]
  },
  {
   "cell_type": "markdown",
   "metadata": {},
   "source": [
    "**Note:**\n",
    "* Everything that I’ve said about `concatenate` or `stack` applies to 2D arrays (as well as multi-dimensional arrays).\n",
    "\n",
    "* The axes of 1D array work differently. For beginners, this is likely to cause issues (especially for `concatenate`)\n",
    "\n",
    "* Note that 1D array only has one axis, and since axes start from 0, the axis of the 1D array will be 0 "
   ]
  },
  {
   "cell_type": "code",
   "execution_count": null,
   "metadata": {},
   "outputs": [],
   "source": [
    "x1d = np.array([0,0,0])\n",
    "y1d = np.array([1,1,1])"
   ]
  },
  {
   "cell_type": "code",
   "execution_count": null,
   "metadata": {},
   "outputs": [],
   "source": [
    "x1d"
   ]
  },
  {
   "cell_type": "code",
   "execution_count": null,
   "metadata": {},
   "outputs": [],
   "source": [
    "y1d"
   ]
  },
  {
   "cell_type": "code",
   "execution_count": null,
   "metadata": {},
   "outputs": [],
   "source": [
    "np.concatenate((x1d, y1d), axis = 0)"
   ]
  },
  {
   "cell_type": "code",
   "execution_count": null,
   "metadata": {},
   "outputs": [],
   "source": [
    "# np.concatenate((x1d, y1d), axis = 1) # since 1D array doesn't have axis 1, this will throw out error"
   ]
  },
  {
   "cell_type": "markdown",
   "metadata": {},
   "source": [
    "if we want to stack the two 1D array vertically (and in the meantime obtains a 2D array):"
   ]
  },
  {
   "cell_type": "markdown",
   "metadata": {},
   "source": [
    "We can convert 1D array to 2D array and then do the concatenation."
   ]
  },
  {
   "cell_type": "code",
   "execution_count": null,
   "metadata": {},
   "outputs": [],
   "source": [
    "x2d = x1d.reshape(1, -1) # reshape to 2D\n",
    "x2d"
   ]
  },
  {
   "cell_type": "code",
   "execution_count": null,
   "metadata": {},
   "outputs": [],
   "source": [
    "y2d = y1d.reshape(1, -1) # reshape to 2D\n",
    "y2d"
   ]
  },
  {
   "cell_type": "code",
   "execution_count": null,
   "metadata": {},
   "outputs": [],
   "source": [
    "np.concatenate((x2d, y2d), axis = 0)"
   ]
  },
  {
   "cell_type": "code",
   "execution_count": null,
   "metadata": {},
   "outputs": [],
   "source": [
    "# we can concatenate using axis=1\n",
    "np.concatenate((x2d, y2d), axis = 1)"
   ]
  },
  {
   "cell_type": "markdown",
   "metadata": {},
   "source": [
    "**You can also use vstack and hstack directly on 1D array for vertical and horizontal stack**"
   ]
  },
  {
   "cell_type": "code",
   "execution_count": null,
   "metadata": {},
   "outputs": [],
   "source": [
    "x1d"
   ]
  },
  {
   "cell_type": "code",
   "execution_count": null,
   "metadata": {},
   "outputs": [],
   "source": [
    "y1d"
   ]
  },
  {
   "cell_type": "code",
   "execution_count": null,
   "metadata": {},
   "outputs": [],
   "source": [
    "np.vstack((x1d, y1d)) # output is 2D, nice!"
   ]
  },
  {
   "cell_type": "code",
   "execution_count": null,
   "metadata": {},
   "outputs": [],
   "source": [
    "np.hstack((x1d, y1d)) # output is 1D. nice? Maybe not. Your call!"
   ]
  },
  {
   "cell_type": "code",
   "execution_count": null,
   "metadata": {},
   "outputs": [],
   "source": [
    "# same as:\n",
    "np.concatenate((x1d, y1d)) # output is 1D. nice? Maybe not. Your call!"
   ]
  },
  {
   "cell_type": "markdown",
   "metadata": {},
   "source": [
    "## Splitting array"
   ]
  },
  {
   "cell_type": "markdown",
   "metadata": {},
   "source": [
    "Likewise, arrays can be split with `np.split`. There are also convenience functions to split horizontally, vertically, and with depth."
   ]
  },
  {
   "cell_type": "code",
   "execution_count": null,
   "metadata": {},
   "outputs": [],
   "source": [
    "x = np.random.randint(low=1, high=10, size=(12, 2))"
   ]
  },
  {
   "cell_type": "code",
   "execution_count": null,
   "metadata": {},
   "outputs": [],
   "source": [
    "x.shape"
   ]
  },
  {
   "cell_type": "code",
   "execution_count": null,
   "metadata": {},
   "outputs": [],
   "source": [
    "x"
   ]
  },
  {
   "cell_type": "code",
   "execution_count": null,
   "metadata": {},
   "outputs": [],
   "source": [
    "# split into four arrays (the outcome will be a list)\n",
    "np.split(x, 4, axis=0)"
   ]
  },
  {
   "cell_type": "code",
   "execution_count": null,
   "metadata": {},
   "outputs": [],
   "source": [
    "# check the shape of each array in the list\n",
    "[a.shape for a in np.split(x, 4, axis=0)]"
   ]
  },
  {
   "cell_type": "markdown",
   "metadata": {},
   "source": [
    "---\n",
    "### *Exercise*\n",
    "\n",
    "1. Create an array, A, of shape (40, 50). Fill the first 10 columns with 1, the second 10 columns with 2, ..., and so on up to the fifth 10 columns with 5.\n",
    "\n",
    "1. Split it along axis=1 into a list containing the splitted five arrays.\n",
    "\n",
    "1. What is the resulting shape of each array? *[Advanced: can you calculate this on one line?]*\n",
    "\n",
    "1. Concatenate the first two arrays back together along axis 1."
   ]
  },
  {
   "cell_type": "code",
   "execution_count": 24,
   "metadata": {},
   "outputs": [
    {
     "name": "stdout",
     "output_type": "stream",
     "text": [
      "(40, 50)\n",
      "[[1. 1. 1. ... 5. 5. 5.]\n",
      " [1. 1. 1. ... 5. 5. 5.]\n",
      " [1. 1. 1. ... 5. 5. 5.]\n",
      " ...\n",
      " [1. 1. 1. ... 5. 5. 5.]\n",
      " [1. 1. 1. ... 5. 5. 5.]\n",
      " [1. 1. 1. ... 5. 5. 5.]]\n"
     ]
    }
   ],
   "source": [
    "# ans 2\n",
    "\n",
    "A = np.ones((40,50))\n",
    "\n",
    "for i in range(5):\n",
    "    col_start = i*10\n",
    "    col_end = col_start + 10 \n",
    "    A[:, col_start:col_end] = i + 1\n",
    "    \n",
    "print(A.shape)    \n",
    "print(A)"
   ]
  },
  {
   "cell_type": "code",
   "execution_count": 26,
   "metadata": {},
   "outputs": [
    {
     "name": "stdout",
     "output_type": "stream",
     "text": [
      "[[1. 1. 1. 1. 1. 1. 1. 1. 1. 1. 2. 2. 2. 2. 2. 2. 2. 2. 2. 2. 3. 3. 3. 3.\n",
      "  3. 3. 3. 3. 3. 3. 4. 4. 4. 4. 4. 4. 4. 4. 4. 4. 5. 5. 5. 5. 5. 5. 5. 5.\n",
      "  5. 5.]\n",
      " [1. 1. 1. 1. 1. 1. 1. 1. 1. 1. 2. 2. 2. 2. 2. 2. 2. 2. 2. 2. 3. 3. 3. 3.\n",
      "  3. 3. 3. 3. 3. 3. 4. 4. 4. 4. 4. 4. 4. 4. 4. 4. 5. 5. 5. 5. 5. 5. 5. 5.\n",
      "  5. 5.]\n",
      " [1. 1. 1. 1. 1. 1. 1. 1. 1. 1. 2. 2. 2. 2. 2. 2. 2. 2. 2. 2. 3. 3. 3. 3.\n",
      "  3. 3. 3. 3. 3. 3. 4. 4. 4. 4. 4. 4. 4. 4. 4. 4. 5. 5. 5. 5. 5. 5. 5. 5.\n",
      "  5. 5.]\n",
      " [1. 1. 1. 1. 1. 1. 1. 1. 1. 1. 2. 2. 2. 2. 2. 2. 2. 2. 2. 2. 3. 3. 3. 3.\n",
      "  3. 3. 3. 3. 3. 3. 4. 4. 4. 4. 4. 4. 4. 4. 4. 4. 5. 5. 5. 5. 5. 5. 5. 5.\n",
      "  5. 5.]\n",
      " [1. 1. 1. 1. 1. 1. 1. 1. 1. 1. 2. 2. 2. 2. 2. 2. 2. 2. 2. 2. 3. 3. 3. 3.\n",
      "  3. 3. 3. 3. 3. 3. 4. 4. 4. 4. 4. 4. 4. 4. 4. 4. 5. 5. 5. 5. 5. 5. 5. 5.\n",
      "  5. 5.]\n",
      " [1. 1. 1. 1. 1. 1. 1. 1. 1. 1. 2. 2. 2. 2. 2. 2. 2. 2. 2. 2. 3. 3. 3. 3.\n",
      "  3. 3. 3. 3. 3. 3. 4. 4. 4. 4. 4. 4. 4. 4. 4. 4. 5. 5. 5. 5. 5. 5. 5. 5.\n",
      "  5. 5.]\n",
      " [1. 1. 1. 1. 1. 1. 1. 1. 1. 1. 2. 2. 2. 2. 2. 2. 2. 2. 2. 2. 3. 3. 3. 3.\n",
      "  3. 3. 3. 3. 3. 3. 4. 4. 4. 4. 4. 4. 4. 4. 4. 4. 5. 5. 5. 5. 5. 5. 5. 5.\n",
      "  5. 5.]\n",
      " [1. 1. 1. 1. 1. 1. 1. 1. 1. 1. 2. 2. 2. 2. 2. 2. 2. 2. 2. 2. 3. 3. 3. 3.\n",
      "  3. 3. 3. 3. 3. 3. 4. 4. 4. 4. 4. 4. 4. 4. 4. 4. 5. 5. 5. 5. 5. 5. 5. 5.\n",
      "  5. 5.]\n",
      " [1. 1. 1. 1. 1. 1. 1. 1. 1. 1. 2. 2. 2. 2. 2. 2. 2. 2. 2. 2. 3. 3. 3. 3.\n",
      "  3. 3. 3. 3. 3. 3. 4. 4. 4. 4. 4. 4. 4. 4. 4. 4. 5. 5. 5. 5. 5. 5. 5. 5.\n",
      "  5. 5.]\n",
      " [1. 1. 1. 1. 1. 1. 1. 1. 1. 1. 2. 2. 2. 2. 2. 2. 2. 2. 2. 2. 3. 3. 3. 3.\n",
      "  3. 3. 3. 3. 3. 3. 4. 4. 4. 4. 4. 4. 4. 4. 4. 4. 5. 5. 5. 5. 5. 5. 5. 5.\n",
      "  5. 5.]\n",
      " [1. 1. 1. 1. 1. 1. 1. 1. 1. 1. 2. 2. 2. 2. 2. 2. 2. 2. 2. 2. 3. 3. 3. 3.\n",
      "  3. 3. 3. 3. 3. 3. 4. 4. 4. 4. 4. 4. 4. 4. 4. 4. 5. 5. 5. 5. 5. 5. 5. 5.\n",
      "  5. 5.]\n",
      " [1. 1. 1. 1. 1. 1. 1. 1. 1. 1. 2. 2. 2. 2. 2. 2. 2. 2. 2. 2. 3. 3. 3. 3.\n",
      "  3. 3. 3. 3. 3. 3. 4. 4. 4. 4. 4. 4. 4. 4. 4. 4. 5. 5. 5. 5. 5. 5. 5. 5.\n",
      "  5. 5.]\n",
      " [1. 1. 1. 1. 1. 1. 1. 1. 1. 1. 2. 2. 2. 2. 2. 2. 2. 2. 2. 2. 3. 3. 3. 3.\n",
      "  3. 3. 3. 3. 3. 3. 4. 4. 4. 4. 4. 4. 4. 4. 4. 4. 5. 5. 5. 5. 5. 5. 5. 5.\n",
      "  5. 5.]\n",
      " [1. 1. 1. 1. 1. 1. 1. 1. 1. 1. 2. 2. 2. 2. 2. 2. 2. 2. 2. 2. 3. 3. 3. 3.\n",
      "  3. 3. 3. 3. 3. 3. 4. 4. 4. 4. 4. 4. 4. 4. 4. 4. 5. 5. 5. 5. 5. 5. 5. 5.\n",
      "  5. 5.]\n",
      " [1. 1. 1. 1. 1. 1. 1. 1. 1. 1. 2. 2. 2. 2. 2. 2. 2. 2. 2. 2. 3. 3. 3. 3.\n",
      "  3. 3. 3. 3. 3. 3. 4. 4. 4. 4. 4. 4. 4. 4. 4. 4. 5. 5. 5. 5. 5. 5. 5. 5.\n",
      "  5. 5.]\n",
      " [1. 1. 1. 1. 1. 1. 1. 1. 1. 1. 2. 2. 2. 2. 2. 2. 2. 2. 2. 2. 3. 3. 3. 3.\n",
      "  3. 3. 3. 3. 3. 3. 4. 4. 4. 4. 4. 4. 4. 4. 4. 4. 5. 5. 5. 5. 5. 5. 5. 5.\n",
      "  5. 5.]\n",
      " [1. 1. 1. 1. 1. 1. 1. 1. 1. 1. 2. 2. 2. 2. 2. 2. 2. 2. 2. 2. 3. 3. 3. 3.\n",
      "  3. 3. 3. 3. 3. 3. 4. 4. 4. 4. 4. 4. 4. 4. 4. 4. 5. 5. 5. 5. 5. 5. 5. 5.\n",
      "  5. 5.]\n",
      " [1. 1. 1. 1. 1. 1. 1. 1. 1. 1. 2. 2. 2. 2. 2. 2. 2. 2. 2. 2. 3. 3. 3. 3.\n",
      "  3. 3. 3. 3. 3. 3. 4. 4. 4. 4. 4. 4. 4. 4. 4. 4. 5. 5. 5. 5. 5. 5. 5. 5.\n",
      "  5. 5.]\n",
      " [1. 1. 1. 1. 1. 1. 1. 1. 1. 1. 2. 2. 2. 2. 2. 2. 2. 2. 2. 2. 3. 3. 3. 3.\n",
      "  3. 3. 3. 3. 3. 3. 4. 4. 4. 4. 4. 4. 4. 4. 4. 4. 5. 5. 5. 5. 5. 5. 5. 5.\n",
      "  5. 5.]\n",
      " [1. 1. 1. 1. 1. 1. 1. 1. 1. 1. 2. 2. 2. 2. 2. 2. 2. 2. 2. 2. 3. 3. 3. 3.\n",
      "  3. 3. 3. 3. 3. 3. 4. 4. 4. 4. 4. 4. 4. 4. 4. 4. 5. 5. 5. 5. 5. 5. 5. 5.\n",
      "  5. 5.]\n",
      " [1. 1. 1. 1. 1. 1. 1. 1. 1. 1. 2. 2. 2. 2. 2. 2. 2. 2. 2. 2. 3. 3. 3. 3.\n",
      "  3. 3. 3. 3. 3. 3. 4. 4. 4. 4. 4. 4. 4. 4. 4. 4. 5. 5. 5. 5. 5. 5. 5. 5.\n",
      "  5. 5.]\n",
      " [1. 1. 1. 1. 1. 1. 1. 1. 1. 1. 2. 2. 2. 2. 2. 2. 2. 2. 2. 2. 3. 3. 3. 3.\n",
      "  3. 3. 3. 3. 3. 3. 4. 4. 4. 4. 4. 4. 4. 4. 4. 4. 5. 5. 5. 5. 5. 5. 5. 5.\n",
      "  5. 5.]\n",
      " [1. 1. 1. 1. 1. 1. 1. 1. 1. 1. 2. 2. 2. 2. 2. 2. 2. 2. 2. 2. 3. 3. 3. 3.\n",
      "  3. 3. 3. 3. 3. 3. 4. 4. 4. 4. 4. 4. 4. 4. 4. 4. 5. 5. 5. 5. 5. 5. 5. 5.\n",
      "  5. 5.]\n",
      " [1. 1. 1. 1. 1. 1. 1. 1. 1. 1. 2. 2. 2. 2. 2. 2. 2. 2. 2. 2. 3. 3. 3. 3.\n",
      "  3. 3. 3. 3. 3. 3. 4. 4. 4. 4. 4. 4. 4. 4. 4. 4. 5. 5. 5. 5. 5. 5. 5. 5.\n",
      "  5. 5.]\n",
      " [1. 1. 1. 1. 1. 1. 1. 1. 1. 1. 2. 2. 2. 2. 2. 2. 2. 2. 2. 2. 3. 3. 3. 3.\n",
      "  3. 3. 3. 3. 3. 3. 4. 4. 4. 4. 4. 4. 4. 4. 4. 4. 5. 5. 5. 5. 5. 5. 5. 5.\n",
      "  5. 5.]\n",
      " [1. 1. 1. 1. 1. 1. 1. 1. 1. 1. 2. 2. 2. 2. 2. 2. 2. 2. 2. 2. 3. 3. 3. 3.\n",
      "  3. 3. 3. 3. 3. 3. 4. 4. 4. 4. 4. 4. 4. 4. 4. 4. 5. 5. 5. 5. 5. 5. 5. 5.\n",
      "  5. 5.]\n",
      " [1. 1. 1. 1. 1. 1. 1. 1. 1. 1. 2. 2. 2. 2. 2. 2. 2. 2. 2. 2. 3. 3. 3. 3.\n",
      "  3. 3. 3. 3. 3. 3. 4. 4. 4. 4. 4. 4. 4. 4. 4. 4. 5. 5. 5. 5. 5. 5. 5. 5.\n",
      "  5. 5.]\n",
      " [1. 1. 1. 1. 1. 1. 1. 1. 1. 1. 2. 2. 2. 2. 2. 2. 2. 2. 2. 2. 3. 3. 3. 3.\n",
      "  3. 3. 3. 3. 3. 3. 4. 4. 4. 4. 4. 4. 4. 4. 4. 4. 5. 5. 5. 5. 5. 5. 5. 5.\n",
      "  5. 5.]\n",
      " [1. 1. 1. 1. 1. 1. 1. 1. 1. 1. 2. 2. 2. 2. 2. 2. 2. 2. 2. 2. 3. 3. 3. 3.\n",
      "  3. 3. 3. 3. 3. 3. 4. 4. 4. 4. 4. 4. 4. 4. 4. 4. 5. 5. 5. 5. 5. 5. 5. 5.\n",
      "  5. 5.]\n",
      " [1. 1. 1. 1. 1. 1. 1. 1. 1. 1. 2. 2. 2. 2. 2. 2. 2. 2. 2. 2. 3. 3. 3. 3.\n",
      "  3. 3. 3. 3. 3. 3. 4. 4. 4. 4. 4. 4. 4. 4. 4. 4. 5. 5. 5. 5. 5. 5. 5. 5.\n",
      "  5. 5.]\n",
      " [1. 1. 1. 1. 1. 1. 1. 1. 1. 1. 2. 2. 2. 2. 2. 2. 2. 2. 2. 2. 3. 3. 3. 3.\n",
      "  3. 3. 3. 3. 3. 3. 4. 4. 4. 4. 4. 4. 4. 4. 4. 4. 5. 5. 5. 5. 5. 5. 5. 5.\n",
      "  5. 5.]\n",
      " [1. 1. 1. 1. 1. 1. 1. 1. 1. 1. 2. 2. 2. 2. 2. 2. 2. 2. 2. 2. 3. 3. 3. 3.\n",
      "  3. 3. 3. 3. 3. 3. 4. 4. 4. 4. 4. 4. 4. 4. 4. 4. 5. 5. 5. 5. 5. 5. 5. 5.\n",
      "  5. 5.]\n",
      " [1. 1. 1. 1. 1. 1. 1. 1. 1. 1. 2. 2. 2. 2. 2. 2. 2. 2. 2. 2. 3. 3. 3. 3.\n",
      "  3. 3. 3. 3. 3. 3. 4. 4. 4. 4. 4. 4. 4. 4. 4. 4. 5. 5. 5. 5. 5. 5. 5. 5.\n",
      "  5. 5.]\n",
      " [1. 1. 1. 1. 1. 1. 1. 1. 1. 1. 2. 2. 2. 2. 2. 2. 2. 2. 2. 2. 3. 3. 3. 3.\n",
      "  3. 3. 3. 3. 3. 3. 4. 4. 4. 4. 4. 4. 4. 4. 4. 4. 5. 5. 5. 5. 5. 5. 5. 5.\n",
      "  5. 5.]\n",
      " [1. 1. 1. 1. 1. 1. 1. 1. 1. 1. 2. 2. 2. 2. 2. 2. 2. 2. 2. 2. 3. 3. 3. 3.\n",
      "  3. 3. 3. 3. 3. 3. 4. 4. 4. 4. 4. 4. 4. 4. 4. 4. 5. 5. 5. 5. 5. 5. 5. 5.\n",
      "  5. 5.]\n",
      " [1. 1. 1. 1. 1. 1. 1. 1. 1. 1. 2. 2. 2. 2. 2. 2. 2. 2. 2. 2. 3. 3. 3. 3.\n",
      "  3. 3. 3. 3. 3. 3. 4. 4. 4. 4. 4. 4. 4. 4. 4. 4. 5. 5. 5. 5. 5. 5. 5. 5.\n",
      "  5. 5.]\n",
      " [1. 1. 1. 1. 1. 1. 1. 1. 1. 1. 2. 2. 2. 2. 2. 2. 2. 2. 2. 2. 3. 3. 3. 3.\n",
      "  3. 3. 3. 3. 3. 3. 4. 4. 4. 4. 4. 4. 4. 4. 4. 4. 5. 5. 5. 5. 5. 5. 5. 5.\n",
      "  5. 5.]\n",
      " [1. 1. 1. 1. 1. 1. 1. 1. 1. 1. 2. 2. 2. 2. 2. 2. 2. 2. 2. 2. 3. 3. 3. 3.\n",
      "  3. 3. 3. 3. 3. 3. 4. 4. 4. 4. 4. 4. 4. 4. 4. 4. 5. 5. 5. 5. 5. 5. 5. 5.\n",
      "  5. 5.]\n",
      " [1. 1. 1. 1. 1. 1. 1. 1. 1. 1. 2. 2. 2. 2. 2. 2. 2. 2. 2. 2. 3. 3. 3. 3.\n",
      "  3. 3. 3. 3. 3. 3. 4. 4. 4. 4. 4. 4. 4. 4. 4. 4. 5. 5. 5. 5. 5. 5. 5. 5.\n",
      "  5. 5.]\n",
      " [1. 1. 1. 1. 1. 1. 1. 1. 1. 1. 2. 2. 2. 2. 2. 2. 2. 2. 2. 2. 3. 3. 3. 3.\n",
      "  3. 3. 3. 3. 3. 3. 4. 4. 4. 4. 4. 4. 4. 4. 4. 4. 5. 5. 5. 5. 5. 5. 5. 5.\n",
      "  5. 5.]]\n"
     ]
    }
   ],
   "source": [
    "import sys\n",
    "\n",
    "np.set_printoptions(threshold=sys.maxsize)\n",
    "print(A)\n"
   ]
  },
  {
   "cell_type": "code",
   "execution_count": null,
   "metadata": {},
   "outputs": [],
   "source": [
    "A_split = np.split(A, 5, axis =1)"
   ]
  },
  {
   "cell_type": "code",
   "execution_count": null,
   "metadata": {},
   "outputs": [],
   "source": [
    "# answer 1\n",
    "xx = np.hstack([np.ones((40,10)) * (i+1) for i in range(5)])"
   ]
  },
  {
   "cell_type": "code",
   "execution_count": null,
   "metadata": {},
   "outputs": [],
   "source": [
    "\n",
    "[x.shape for x in A_split]\n"
   ]
  },
  {
   "cell_type": "code",
   "execution_count": null,
   "metadata": {},
   "outputs": [],
   "source": [
    "np.concatenate( A_split[0], A_split[1], axis = 1)"
   ]
  },
  {
   "cell_type": "markdown",
   "metadata": {},
   "source": [
    "## Finding values\n",
    "\n",
    "There are a number of ways to find values in an array."
   ]
  },
  {
   "cell_type": "code",
   "execution_count": 2,
   "metadata": {},
   "outputs": [
    {
     "data": {
      "text/plain": [
       "array([[-4.65003683e-01, -7.68675422e-01, -6.65056619e-02,\n",
       "        -5.57349191e-02, -1.63495017e+00],\n",
       "       [ 3.09015070e-01,  3.27824736e-01, -6.11614114e-01,\n",
       "         1.05258263e+00, -4.53425779e-01],\n",
       "       [-6.89751750e-01, -4.79742263e-01, -1.02961560e-03,\n",
       "         1.97659675e-01,  1.05015504e+00],\n",
       "       [-5.38415949e-01,  4.36683461e-01,  1.94159948e-01,\n",
       "         1.57133139e-01,  2.78221898e-01],\n",
       "       [-9.32363432e-01, -3.37336760e-01, -6.03031895e-01,\n",
       "         7.14413427e-01,  8.35387277e-01]])"
      ]
     },
     "execution_count": 2,
     "metadata": {},
     "output_type": "execute_result"
    }
   ],
   "source": [
    "x = np.random.normal(size=(5,5))\n",
    "x"
   ]
  },
  {
   "cell_type": "markdown",
   "metadata": {},
   "source": [
    "The simplest is always to create a **boolean array index**, like"
   ]
  },
  {
   "cell_type": "code",
   "execution_count": 3,
   "metadata": {},
   "outputs": [
    {
     "data": {
      "text/plain": [
       "array([[False, False, False, False, False],\n",
       "       [False, False, False,  True, False],\n",
       "       [False, False, False, False,  True],\n",
       "       [False, False, False, False, False],\n",
       "       [False, False, False,  True,  True]])"
      ]
     },
     "execution_count": 3,
     "metadata": {},
     "output_type": "execute_result"
    }
   ],
   "source": [
    "ind = x > 0.5\n",
    "ind"
   ]
  },
  {
   "cell_type": "markdown",
   "metadata": {},
   "source": [
    "The boolean array can be used as an index to the original array or other arrays. **Note that using the boolean array as an index will return a 1D array, no matter what dimension the original arrays are, because there is no way to know what structure the `True` values have.**"
   ]
  },
  {
   "cell_type": "code",
   "execution_count": null,
   "metadata": {},
   "outputs": [],
   "source": [
    "# array itself\n",
    "x[ind]"
   ]
  },
  {
   "cell_type": "markdown",
   "metadata": {},
   "source": [
    "You can also use the boolean array index on other array to filter values"
   ]
  },
  {
   "cell_type": "code",
   "execution_count": null,
   "metadata": {},
   "outputs": [],
   "source": [
    "# other array\n",
    "x = np.random.normal(size=(5,5))\n",
    "y = np.sin(x)\n",
    "\n",
    "print(x)\n",
    "print() # this is to add some space between the two prints\n",
    "print(y)"
   ]
  },
  {
   "cell_type": "code",
   "execution_count": null,
   "metadata": {},
   "outputs": [],
   "source": [
    "idx = x > 0.5 # create boolean array index\n",
    "\n",
    "print()\n",
    "print(y[idx]) # filter y values based on the array index"
   ]
  },
  {
   "cell_type": "code",
   "execution_count": null,
   "metadata": {},
   "outputs": [],
   "source": [
    "print(y[x > 0.5])"
   ]
  },
  {
   "cell_type": "markdown",
   "metadata": {},
   "source": [
    "To get the indices of the places where the conditional is true (i.e., the locations of the `True` values in the boolean array), use the `np.where` command. "
   ]
  },
  {
   "cell_type": "markdown",
   "metadata": {},
   "source": [
    "Note that `np.where` always returns **a tuple of array index for each dimension**."
   ]
  },
  {
   "cell_type": "code",
   "execution_count": null,
   "metadata": {},
   "outputs": [],
   "source": [
    "x = np.random.normal(size=(3,3))\n",
    "x"
   ]
  },
  {
   "cell_type": "code",
   "execution_count": null,
   "metadata": {},
   "outputs": [],
   "source": [
    "idx = np.where(x > 0.5)\n",
    "idx"
   ]
  },
  {
   "cell_type": "code",
   "execution_count": null,
   "metadata": {},
   "outputs": [],
   "source": [
    "# use the tuple as the index to filter the array and it will return a 1D array\n",
    "x[idx]"
   ]
  },
  {
   "cell_type": "markdown",
   "metadata": {},
   "source": [
    "\n",
    "Returning a tuple of indices for each dimension is a little strange for 1D arrays, but is done for consistency across all input values."
   ]
  },
  {
   "cell_type": "code",
   "execution_count": 2,
   "metadata": {},
   "outputs": [],
   "source": [
    "x = np.random.normal(size=10)"
   ]
  },
  {
   "cell_type": "code",
   "execution_count": 3,
   "metadata": {},
   "outputs": [
    {
     "data": {
      "text/plain": [
       "array([-1.53055986, -0.61285888,  1.10110529, -0.70312264, -0.83367902,\n",
       "        1.10030764, -0.1907624 ,  0.61935245,  0.17727296,  1.14321342])"
      ]
     },
     "execution_count": 3,
     "metadata": {},
     "output_type": "execute_result"
    }
   ],
   "source": [
    "x"
   ]
  },
  {
   "cell_type": "code",
   "execution_count": 4,
   "metadata": {},
   "outputs": [
    {
     "data": {
      "text/plain": [
       "(array([2, 5, 7, 9]),)"
      ]
     },
     "execution_count": 4,
     "metadata": {},
     "output_type": "execute_result"
    }
   ],
   "source": [
    "idx = np.where(x > 0.5)\n",
    "idx # still a tuple"
   ]
  },
  {
   "cell_type": "code",
   "execution_count": 5,
   "metadata": {},
   "outputs": [
    {
     "data": {
      "text/plain": [
       "array([1.10110529, 1.10030764, 0.61935245, 1.14321342])"
      ]
     },
     "execution_count": 5,
     "metadata": {},
     "output_type": "execute_result"
    }
   ],
   "source": [
    "x[idx] # use the array index to filter"
   ]
  },
  {
   "cell_type": "markdown",
   "metadata": {},
   "source": [
    "You can also use these calculated indices, or boolean matrices for assignment."
   ]
  },
  {
   "cell_type": "code",
   "execution_count": 6,
   "metadata": {},
   "outputs": [
    {
     "data": {
      "text/plain": [
       "array([-1.53055986, -0.61285888,  1.10110529, -0.70312264, -0.83367902,\n",
       "        1.10030764, -0.1907624 ,  0.61935245,  0.17727296,  1.14321342])"
      ]
     },
     "execution_count": 6,
     "metadata": {},
     "output_type": "execute_result"
    }
   ],
   "source": [
    "x"
   ]
  },
  {
   "cell_type": "code",
   "execution_count": 7,
   "metadata": {},
   "outputs": [
    {
     "data": {
      "text/plain": [
       "array([False, False,  True, False, False,  True, False, False, False,\n",
       "        True])"
      ]
     },
     "execution_count": 7,
     "metadata": {},
     "output_type": "execute_result"
    }
   ],
   "source": [
    "x>0.8"
   ]
  },
  {
   "cell_type": "code",
   "execution_count": 8,
   "metadata": {},
   "outputs": [],
   "source": [
    "# assign 10 to all elements > 0.8\n",
    "x[x>0.8] = 10"
   ]
  },
  {
   "cell_type": "code",
   "execution_count": 9,
   "metadata": {},
   "outputs": [
    {
     "data": {
      "text/plain": [
       "array([-1.53055986, -0.61285888, 10.        , -0.70312264, -0.83367902,\n",
       "       10.        , -0.1907624 ,  0.61935245,  0.17727296, 10.        ])"
      ]
     },
     "execution_count": 9,
     "metadata": {},
     "output_type": "execute_result"
    }
   ],
   "source": [
    "x"
   ]
  },
  {
   "cell_type": "code",
   "execution_count": 10,
   "metadata": {},
   "outputs": [
    {
     "data": {
      "text/plain": [
       "(array([2, 5, 7, 9]),)"
      ]
     },
     "execution_count": 10,
     "metadata": {},
     "output_type": "execute_result"
    }
   ],
   "source": [
    "# assign 10 to all elements > 0.5\n",
    "np.where(x>0.5)"
   ]
  },
  {
   "cell_type": "code",
   "execution_count": 11,
   "metadata": {},
   "outputs": [
    {
     "data": {
      "text/plain": [
       "array([-1.53055986, -0.61285888, 10.        , -0.70312264, -0.83367902,\n",
       "       10.        , -0.1907624 , 10.        ,  0.17727296, 10.        ])"
      ]
     },
     "execution_count": 11,
     "metadata": {},
     "output_type": "execute_result"
    }
   ],
   "source": [
    "x[np.where(x>0.5)] = 10\n",
    "x"
   ]
  },
  {
   "cell_type": "markdown",
   "metadata": {},
   "source": [
    "### *Exercise*\n",
    "\n",
    "> Create a 3x3 random array, with values between 0 and 1. Replace all of the numbers smaller than 0.5 with zero.\n",
    "\n",
    "> Complete this without using `where`.\n",
    "\n",
    "> Complete this using `where`."
   ]
  },
  {
   "cell_type": "code",
   "execution_count": 15,
   "metadata": {},
   "outputs": [],
   "source": [
    "d = np.random.uniform(low = 0, high = 1, size = (3,3))"
   ]
  },
  {
   "cell_type": "code",
   "execution_count": 17,
   "metadata": {},
   "outputs": [
    {
     "data": {
      "text/plain": [
       "array([[False,  True, False],\n",
       "       [False,  True, False],\n",
       "       [False,  True, False]])"
      ]
     },
     "execution_count": 17,
     "metadata": {},
     "output_type": "execute_result"
    }
   ],
   "source": [
    "new = d<0.5\n",
    "new"
   ]
  },
  {
   "cell_type": "code",
   "execution_count": 19,
   "metadata": {},
   "outputs": [
    {
     "data": {
      "text/plain": [
       "(array([0, 1, 2]), array([1, 1, 1]))"
      ]
     },
     "execution_count": 19,
     "metadata": {},
     "output_type": "execute_result"
    }
   ],
   "source": [
    "new2 = np.where(d<0.5)\n",
    "new2"
   ]
  },
  {
   "cell_type": "code",
   "execution_count": 21,
   "metadata": {},
   "outputs": [],
   "source": [
    "d[np.where(d<0.5)] = 0\n"
   ]
  },
  {
   "cell_type": "code",
   "execution_count": null,
   "metadata": {},
   "outputs": [],
   "source": []
  },
  {
   "cell_type": "markdown",
   "metadata": {},
   "source": [
    "## Array views\n",
    "\n",
    "The data for an array may be stored in memory using `C` or `FORTRAN` ordered memory. Typically, there is no need to think about this, some details can be found [here](http://docs.scipy.org/doc/numpy-1.10.0/reference/internals.html).\n",
    "\n",
    "**However, it is important to remember that subsets of an array can produce a different 'view' of the array that addresses the same memory as the original array**. This can lead to some unexpected behaviors. One way to think of this is that assignment in Python is more like a C-pointer (i.e., a reference to a memory location) than an actual value."
   ]
  },
  {
   "cell_type": "code",
   "execution_count": 12,
   "metadata": {},
   "outputs": [
    {
     "data": {
      "text/plain": [
       "array([0, 1, 2, 3, 4, 5, 6, 7, 8, 9])"
      ]
     },
     "execution_count": 12,
     "metadata": {},
     "output_type": "execute_result"
    }
   ],
   "source": [
    "a = np.arange(10)\n",
    "a"
   ]
  },
  {
   "cell_type": "code",
   "execution_count": 13,
   "metadata": {},
   "outputs": [
    {
     "data": {
      "text/plain": [
       "array([0, 1, 2, 3, 4])"
      ]
     },
     "execution_count": 13,
     "metadata": {},
     "output_type": "execute_result"
    }
   ],
   "source": [
    "b = a[:5]\n",
    "b"
   ]
  },
  {
   "cell_type": "code",
   "execution_count": 14,
   "metadata": {},
   "outputs": [],
   "source": [
    "b[1] = 100 # change the b value"
   ]
  },
  {
   "cell_type": "code",
   "execution_count": 15,
   "metadata": {},
   "outputs": [
    {
     "data": {
      "text/plain": [
       "array([  0, 100,   2,   3,   4])"
      ]
     },
     "execution_count": 15,
     "metadata": {},
     "output_type": "execute_result"
    }
   ],
   "source": [
    "b"
   ]
  },
  {
   "cell_type": "code",
   "execution_count": 16,
   "metadata": {},
   "outputs": [
    {
     "data": {
      "text/plain": [
       "array([  0, 100,   2,   3,   4,   5,   6,   7,   8,   9])"
      ]
     },
     "execution_count": 16,
     "metadata": {},
     "output_type": "execute_result"
    }
   ],
   "source": [
    "a # a is also changed!"
   ]
  },
  {
   "cell_type": "code",
   "execution_count": 17,
   "metadata": {},
   "outputs": [
    {
     "data": {
      "text/plain": [
       "array([   0,  100,    2,    3, -999,    5,    6,    7,    8,    9])"
      ]
     },
     "execution_count": 17,
     "metadata": {},
     "output_type": "execute_result"
    }
   ],
   "source": [
    "a[4] = -999   # change the a value\n",
    "a"
   ]
  },
  {
   "cell_type": "code",
   "execution_count": 18,
   "metadata": {},
   "outputs": [
    {
     "data": {
      "text/plain": [
       "array([   0,  100,    2,    3, -999])"
      ]
     },
     "execution_count": 18,
     "metadata": {},
     "output_type": "execute_result"
    }
   ],
   "source": [
    "b # b is also changed"
   ]
  },
  {
   "cell_type": "markdown",
   "metadata": {},
   "source": [
    "Normally, this will not be a problem, but if you need to make sure that a subset of an array has it's own memory, make sure you make a `copy` of the array, like"
   ]
  },
  {
   "cell_type": "code",
   "execution_count": 19,
   "metadata": {},
   "outputs": [
    {
     "data": {
      "text/plain": [
       "array([0., 1., 2., 3., 4., 5., 6., 7., 8., 9.])"
      ]
     },
     "execution_count": 19,
     "metadata": {},
     "output_type": "execute_result"
    }
   ],
   "source": [
    "a = np.arange(10.0)\n",
    "a"
   ]
  },
  {
   "cell_type": "code",
   "execution_count": 20,
   "metadata": {},
   "outputs": [
    {
     "data": {
      "text/plain": [
       "array([0., 1., 2., 3., 4.])"
      ]
     },
     "execution_count": 20,
     "metadata": {},
     "output_type": "execute_result"
    }
   ],
   "source": [
    "b = a[:5].copy()\n",
    "b"
   ]
  },
  {
   "cell_type": "code",
   "execution_count": 21,
   "metadata": {},
   "outputs": [],
   "source": [
    "b[2] = -999 # change b value"
   ]
  },
  {
   "cell_type": "code",
   "execution_count": 22,
   "metadata": {},
   "outputs": [
    {
     "data": {
      "text/plain": [
       "array([   0.,    1., -999.,    3.,    4.])"
      ]
     },
     "execution_count": 22,
     "metadata": {},
     "output_type": "execute_result"
    }
   ],
   "source": [
    "b"
   ]
  },
  {
   "cell_type": "code",
   "execution_count": 23,
   "metadata": {},
   "outputs": [
    {
     "data": {
      "text/plain": [
       "array([0., 1., 2., 3., 4., 5., 6., 7., 8., 9.])"
      ]
     },
     "execution_count": 23,
     "metadata": {},
     "output_type": "execute_result"
    }
   ],
   "source": [
    "a # a value is not changed"
   ]
  },
  {
   "cell_type": "markdown",
   "metadata": {},
   "source": [
    "## Array broadcasting\n",
    "\n",
    "(Largely taken from [SciPy docs](https://docs.scipy.org/doc/numpy-1.10.0/user/basics.broadcasting.html))\n",
    "\n",
    "Generally arrays should be the same shape for them to be **operated together (element-wise)**"
   ]
  },
  {
   "cell_type": "code",
   "execution_count": 24,
   "metadata": {},
   "outputs": [],
   "source": [
    "a = np.random.uniform(low=0, high=5, size=(3,2))\n",
    "\n",
    "b = np.random.uniform(low=0, high=5, size=(3,2))"
   ]
  },
  {
   "cell_type": "code",
   "execution_count": 25,
   "metadata": {},
   "outputs": [
    {
     "data": {
      "text/plain": [
       "array([[3.12560829, 0.93733869],\n",
       "       [2.189425  , 0.33624186],\n",
       "       [2.30065033, 0.20763432]])"
      ]
     },
     "execution_count": 25,
     "metadata": {},
     "output_type": "execute_result"
    }
   ],
   "source": [
    "a"
   ]
  },
  {
   "cell_type": "code",
   "execution_count": 26,
   "metadata": {},
   "outputs": [
    {
     "data": {
      "text/plain": [
       "array([[1.04935688, 0.97791422],\n",
       "       [3.20977191, 4.7276275 ],\n",
       "       [4.94869036, 1.04748968]])"
      ]
     },
     "execution_count": 26,
     "metadata": {},
     "output_type": "execute_result"
    }
   ],
   "source": [
    "b"
   ]
  },
  {
   "cell_type": "code",
   "execution_count": 27,
   "metadata": {},
   "outputs": [
    {
     "data": {
      "text/plain": [
       "array([[4.17496517, 1.91525291],\n",
       "       [5.39919691, 5.06386936],\n",
       "       [7.24934069, 1.25512401]])"
      ]
     },
     "execution_count": 27,
     "metadata": {},
     "output_type": "execute_result"
    }
   ],
   "source": [
    "a + b"
   ]
  },
  {
   "cell_type": "code",
   "execution_count": 28,
   "metadata": {},
   "outputs": [
    {
     "data": {
      "text/plain": [
       "array([[ 2.07625141, -0.04057554],\n",
       "       [-1.02034692, -4.39138564],\n",
       "       [-2.64804004, -0.83985536]])"
      ]
     },
     "execution_count": 28,
     "metadata": {},
     "output_type": "execute_result"
    }
   ],
   "source": [
    "a - b"
   ]
  },
  {
   "cell_type": "code",
   "execution_count": 29,
   "metadata": {},
   "outputs": [
    {
     "data": {
      "text/plain": [
       "array([[ 3.27987856,  0.91663683],\n",
       "       [ 7.02755486,  1.58962625],\n",
       "       [11.3852061 ,  0.21749481]])"
      ]
     },
     "execution_count": 29,
     "metadata": {},
     "output_type": "execute_result"
    }
   ],
   "source": [
    "a * b"
   ]
  },
  {
   "cell_type": "code",
   "execution_count": 30,
   "metadata": {},
   "outputs": [
    {
     "data": {
      "text/plain": [
       "array([[2.97859417, 0.95850808],\n",
       "       [0.68211233, 0.07112275],\n",
       "       [0.46490084, 0.19822088]])"
      ]
     },
     "execution_count": 30,
     "metadata": {},
     "output_type": "execute_result"
    }
   ],
   "source": [
    "a / b"
   ]
  },
  {
   "cell_type": "markdown",
   "metadata": {},
   "source": [
    "The term broadcasting describes how `numpy` treats arrays with **different shapes** during arithmetic operations. Subject to certain constraints, the smaller array is “broadcast” across the larger array so that they have compatible shapes. Broadcasting provides a means of vectorizing array operations so that looping occurs in C instead of Python. It does this without making needless copies of data and usually leads to efficient algorithm implementations.\n",
    "\n",
    "For example, the simplest broadcasting example occurs when an array and a scalar value are combined in an operation:"
   ]
  },
  {
   "cell_type": "code",
   "execution_count": 31,
   "metadata": {},
   "outputs": [
    {
     "data": {
      "text/plain": [
       "array([2., 4., 6.])"
      ]
     },
     "execution_count": 31,
     "metadata": {},
     "output_type": "execute_result"
    }
   ],
   "source": [
    "a = np.array([1.0, 2.0, 3.0])\n",
    "b = 2.0\n",
    "a * b"
   ]
  },
  {
   "cell_type": "code",
   "execution_count": 32,
   "metadata": {},
   "outputs": [
    {
     "data": {
      "text/plain": [
       "array([1., 2., 3.])"
      ]
     },
     "execution_count": 32,
     "metadata": {},
     "output_type": "execute_result"
    }
   ],
   "source": [
    "a"
   ]
  },
  {
   "cell_type": "code",
   "execution_count": 33,
   "metadata": {},
   "outputs": [
    {
     "data": {
      "text/plain": [
       "2.0"
      ]
     },
     "execution_count": 33,
     "metadata": {},
     "output_type": "execute_result"
    }
   ],
   "source": [
    "b"
   ]
  },
  {
   "cell_type": "code",
   "execution_count": 34,
   "metadata": {},
   "outputs": [
    {
     "data": {
      "text/plain": [
       "array([2., 4., 6.])"
      ]
     },
     "execution_count": 34,
     "metadata": {},
     "output_type": "execute_result"
    }
   ],
   "source": [
    "# the above is equivalent to:\n",
    "a * np.array([2.0, 2.0, 2.0])"
   ]
  },
  {
   "cell_type": "markdown",
   "metadata": {},
   "source": [
    "In the `a * b` example, We can think of the scalar `b` being stretched during the arithmetic operation into an array with the same shape as `a`. The new elements in b are simply copies of the original scalar. The stretching analogy is only conceptual. **NumPy is smart enough to use the original scalar value without actually making copies, so that broadcasting operations are as memory and computationally efficient as possible.**"
   ]
  },
  {
   "cell_type": "markdown",
   "metadata": {},
   "source": [
    "### General Broadcasting Rules\n",
    "\n",
    "When operating on two arrays, NumPy compares their shapes element-wise. It **starts with the trailing dimensions, and works its way to the front**. Two dimensions are compatible when\n",
    "\n",
    "1. they are equal, or\n",
    "1. one of them is 1\n",
    "\n",
    "Here are some more examples:\n",
    "\n",
    "    a      (2d array):  2 x 3\n",
    "    b      (1d array):      3\n",
    "    Result (2d array):  2 x 3\n",
    "\n",
    "    a      (2d array):  2 x 3\n",
    "    b      (1d array):      1\n",
    "    Result (2d array):  2 x 3\n",
    "    \n",
    "    \n",
    "**The size of the resulting array is the maximum size along each dimension of the input**"
   ]
  },
  {
   "cell_type": "markdown",
   "metadata": {},
   "source": [
    "*1D example*"
   ]
  },
  {
   "cell_type": "code",
   "execution_count": 35,
   "metadata": {},
   "outputs": [
    {
     "data": {
      "text/plain": [
       "array([[1, 2, 3],\n",
       "       [2, 4, 6]])"
      ]
     },
     "execution_count": 35,
     "metadata": {},
     "output_type": "execute_result"
    }
   ],
   "source": [
    "a = np.array([[1,2,3], [2,4,6]])\n",
    "a"
   ]
  },
  {
   "cell_type": "code",
   "execution_count": 36,
   "metadata": {},
   "outputs": [
    {
     "data": {
      "text/plain": [
       "(2, 3)"
      ]
     },
     "execution_count": 36,
     "metadata": {},
     "output_type": "execute_result"
    }
   ],
   "source": [
    "a.shape"
   ]
  },
  {
   "cell_type": "code",
   "execution_count": 37,
   "metadata": {},
   "outputs": [
    {
     "data": {
      "text/plain": [
       "array([1, 2, 3])"
      ]
     },
     "execution_count": 37,
     "metadata": {},
     "output_type": "execute_result"
    }
   ],
   "source": [
    "b = np.array([1,2,3])\n",
    "b"
   ]
  },
  {
   "cell_type": "code",
   "execution_count": 38,
   "metadata": {},
   "outputs": [
    {
     "data": {
      "text/plain": [
       "(3,)"
      ]
     },
     "execution_count": 38,
     "metadata": {},
     "output_type": "execute_result"
    }
   ],
   "source": [
    "b.shape"
   ]
  },
  {
   "cell_type": "code",
   "execution_count": 39,
   "metadata": {},
   "outputs": [
    {
     "data": {
      "text/plain": [
       "array([[ 1,  4,  9],\n",
       "       [ 2,  8, 18]])"
      ]
     },
     "execution_count": 39,
     "metadata": {},
     "output_type": "execute_result"
    }
   ],
   "source": [
    "a * b"
   ]
  },
  {
   "cell_type": "markdown",
   "metadata": {},
   "source": [
    "the above is equal to:"
   ]
  },
  {
   "cell_type": "code",
   "execution_count": 40,
   "metadata": {},
   "outputs": [
    {
     "data": {
      "text/plain": [
       "array([[ 1,  4,  9],\n",
       "       [ 2,  8, 18]])"
      ]
     },
     "execution_count": 40,
     "metadata": {},
     "output_type": "execute_result"
    }
   ],
   "source": [
    "a * np.vstack([b, b])"
   ]
  },
  {
   "cell_type": "markdown",
   "metadata": {},
   "source": [
    "*2D example*"
   ]
  },
  {
   "cell_type": "code",
   "execution_count": 41,
   "metadata": {},
   "outputs": [],
   "source": [
    "b_2d = b.reshape(1,3)"
   ]
  },
  {
   "cell_type": "code",
   "execution_count": 42,
   "metadata": {},
   "outputs": [
    {
     "data": {
      "text/plain": [
       "array([[1, 2, 3]])"
      ]
     },
     "execution_count": 42,
     "metadata": {},
     "output_type": "execute_result"
    }
   ],
   "source": [
    "b_2d"
   ]
  },
  {
   "cell_type": "code",
   "execution_count": 43,
   "metadata": {},
   "outputs": [
    {
     "data": {
      "text/plain": [
       "(1, 3)"
      ]
     },
     "execution_count": 43,
     "metadata": {},
     "output_type": "execute_result"
    }
   ],
   "source": [
    "b_2d.shape"
   ]
  },
  {
   "cell_type": "code",
   "execution_count": 44,
   "metadata": {},
   "outputs": [
    {
     "data": {
      "text/plain": [
       "array([[1, 2, 3],\n",
       "       [2, 4, 6]])"
      ]
     },
     "execution_count": 44,
     "metadata": {},
     "output_type": "execute_result"
    }
   ],
   "source": [
    "a"
   ]
  },
  {
   "cell_type": "code",
   "execution_count": 45,
   "metadata": {},
   "outputs": [
    {
     "data": {
      "text/plain": [
       "(2, 3)"
      ]
     },
     "execution_count": 45,
     "metadata": {},
     "output_type": "execute_result"
    }
   ],
   "source": [
    "a.shape"
   ]
  },
  {
   "cell_type": "code",
   "execution_count": 46,
   "metadata": {},
   "outputs": [
    {
     "data": {
      "text/plain": [
       "array([[ 1,  4,  9],\n",
       "       [ 2,  8, 18]])"
      ]
     },
     "execution_count": 46,
     "metadata": {},
     "output_type": "execute_result"
    }
   ],
   "source": [
    "a * b_2d"
   ]
  },
  {
   "cell_type": "markdown",
   "metadata": {},
   "source": [
    "the above is equal to:"
   ]
  },
  {
   "cell_type": "code",
   "execution_count": 47,
   "metadata": {},
   "outputs": [
    {
     "data": {
      "text/plain": [
       "array([[ 1,  4,  9],\n",
       "       [ 2,  8, 18]])"
      ]
     },
     "execution_count": 47,
     "metadata": {},
     "output_type": "execute_result"
    }
   ],
   "source": [
    "a * np.vstack([b_2d, b_2d])"
   ]
  },
  {
   "cell_type": "markdown",
   "metadata": {},
   "source": [
    "Notice that the rules for broadcasting are based on the location of singleton dimensions. Singleton dimensions are implied to the front (to the left), not to the end (to the right). So, the first example here works but not the second:\n",
    "\n",
    "    a      (2d array):  2 x 3\n",
    "    b      (1d array):      3\n",
    "    Result (2d array):  2 x 3\n",
    "\n",
    "    a      (2d array):  2 x 3\n",
    "    b      (1d array):      2\n",
    "    Result error!"
   ]
  },
  {
   "cell_type": "code",
   "execution_count": 48,
   "metadata": {},
   "outputs": [
    {
     "data": {
      "text/plain": [
       "array([1, 2])"
      ]
     },
     "execution_count": 48,
     "metadata": {},
     "output_type": "execute_result"
    }
   ],
   "source": [
    "b = np.array([1,2])\n",
    "b"
   ]
  },
  {
   "cell_type": "code",
   "execution_count": 49,
   "metadata": {},
   "outputs": [
    {
     "data": {
      "text/plain": [
       "(2, 3)"
      ]
     },
     "execution_count": 49,
     "metadata": {},
     "output_type": "execute_result"
    }
   ],
   "source": [
    "a.shape"
   ]
  },
  {
   "cell_type": "code",
   "execution_count": 50,
   "metadata": {},
   "outputs": [
    {
     "data": {
      "text/plain": [
       "(2,)"
      ]
     },
     "execution_count": 50,
     "metadata": {},
     "output_type": "execute_result"
    }
   ],
   "source": [
    "b.shape"
   ]
  },
  {
   "cell_type": "code",
   "execution_count": 51,
   "metadata": {},
   "outputs": [
    {
     "ename": "ValueError",
     "evalue": "operands could not be broadcast together with shapes (2,3) (2,) ",
     "output_type": "error",
     "traceback": [
      "\u001b[0;31m---------------------------------------------------------------------------\u001b[0m",
      "\u001b[0;31mValueError\u001b[0m                                Traceback (most recent call last)",
      "\u001b[0;32m/var/folders/4l/gn64yzcd6938cphmlv0bpkj80000gn/T/ipykernel_2058/272607360.py\u001b[0m in \u001b[0;36m<module>\u001b[0;34m\u001b[0m\n\u001b[0;32m----> 1\u001b[0;31m \u001b[0ma\u001b[0m \u001b[0;34m*\u001b[0m \u001b[0mb\u001b[0m \u001b[0;31m# this will not work because this doesn't obey the broadcasting rule!\u001b[0m\u001b[0;34m\u001b[0m\u001b[0;34m\u001b[0m\u001b[0m\n\u001b[0m",
      "\u001b[0;31mValueError\u001b[0m: operands could not be broadcast together with shapes (2,3) (2,) "
     ]
    }
   ],
   "source": [
    " #a * b # this will not work because this doesn't obey the broadcasting rule!"
   ]
  },
  {
   "cell_type": "markdown",
   "metadata": {},
   "source": [
    "If you really want to multiply `a` with `b`, this problem can be fixed by creating new singleton dimensions in arrays. This can be done by putting `np.newaxis` in the appropriate space when indexing the array. For example:"
   ]
  },
  {
   "cell_type": "code",
   "execution_count": 52,
   "metadata": {},
   "outputs": [],
   "source": [
    "b_new = b[:,np.newaxis]"
   ]
  },
  {
   "cell_type": "code",
   "execution_count": 53,
   "metadata": {},
   "outputs": [
    {
     "data": {
      "text/plain": [
       "array([[1],\n",
       "       [2]])"
      ]
     },
     "execution_count": 53,
     "metadata": {},
     "output_type": "execute_result"
    }
   ],
   "source": [
    "b_new"
   ]
  },
  {
   "cell_type": "code",
   "execution_count": 54,
   "metadata": {},
   "outputs": [
    {
     "data": {
      "text/plain": [
       "(2, 1)"
      ]
     },
     "execution_count": 54,
     "metadata": {},
     "output_type": "execute_result"
    }
   ],
   "source": [
    "b_new.shape"
   ]
  },
  {
   "cell_type": "code",
   "execution_count": 55,
   "metadata": {},
   "outputs": [
    {
     "data": {
      "text/plain": [
       "(2, 3)"
      ]
     },
     "execution_count": 55,
     "metadata": {},
     "output_type": "execute_result"
    }
   ],
   "source": [
    "a.shape"
   ]
  },
  {
   "cell_type": "code",
   "execution_count": 56,
   "metadata": {},
   "outputs": [
    {
     "data": {
      "text/plain": [
       "array([[1, 2, 3],\n",
       "       [2, 4, 6]])"
      ]
     },
     "execution_count": 56,
     "metadata": {},
     "output_type": "execute_result"
    }
   ],
   "source": [
    "a"
   ]
  },
  {
   "cell_type": "code",
   "execution_count": 57,
   "metadata": {},
   "outputs": [
    {
     "data": {
      "text/plain": [
       "array([[1],\n",
       "       [2]])"
      ]
     },
     "execution_count": 57,
     "metadata": {},
     "output_type": "execute_result"
    }
   ],
   "source": [
    "b_new"
   ]
  },
  {
   "cell_type": "code",
   "execution_count": 58,
   "metadata": {},
   "outputs": [
    {
     "data": {
      "text/plain": [
       "array([[ 1,  2,  3],\n",
       "       [ 4,  8, 12]])"
      ]
     },
     "execution_count": 58,
     "metadata": {},
     "output_type": "execute_result"
    }
   ],
   "source": [
    "a * b_new"
   ]
  },
  {
   "cell_type": "markdown",
   "metadata": {},
   "source": [
    "the above is equal to:"
   ]
  },
  {
   "cell_type": "code",
   "execution_count": 59,
   "metadata": {},
   "outputs": [
    {
     "data": {
      "text/plain": [
       "array([[ 1,  2,  3],\n",
       "       [ 4,  8, 12]])"
      ]
     },
     "execution_count": 59,
     "metadata": {},
     "output_type": "execute_result"
    }
   ],
   "source": [
    "a * np.hstack([b_new, b_new, b_new])"
   ]
  },
  {
   "cell_type": "markdown",
   "metadata": {},
   "source": [
    "\n",
    "### *Exercise*\n",
    "\n",
    "Can you make a * b work without using `newaxis`?"
   ]
  },
  {
   "cell_type": "code",
   "execution_count": 61,
   "metadata": {},
   "outputs": [
    {
     "data": {
      "text/plain": [
       "array([[ 1,  2,  3],\n",
       "       [ 4,  8, 12]])"
      ]
     },
     "execution_count": 61,
     "metadata": {},
     "output_type": "execute_result"
    }
   ],
   "source": [
    "new = b.reshape(2,1)\n",
    "a * new"
   ]
  },
  {
   "cell_type": "markdown",
   "metadata": {},
   "source": [
    "## Transposing arrays with  `T`"
   ]
  },
  {
   "cell_type": "code",
   "execution_count": 62,
   "metadata": {},
   "outputs": [
    {
     "data": {
      "text/plain": [
       "array([[5, 6, 7],\n",
       "       [7, 4, 1]])"
      ]
     },
     "execution_count": 62,
     "metadata": {},
     "output_type": "execute_result"
    }
   ],
   "source": [
    "a = np.random.randint(low=1, high=10, size=(2,3))\n",
    "a"
   ]
  },
  {
   "cell_type": "code",
   "execution_count": 63,
   "metadata": {},
   "outputs": [
    {
     "data": {
      "text/plain": [
       "array([[5, 7],\n",
       "       [6, 4],\n",
       "       [7, 1]])"
      ]
     },
     "execution_count": 63,
     "metadata": {},
     "output_type": "execute_result"
    }
   ],
   "source": [
    "# transpose\n",
    "b = a.T\n",
    "b"
   ]
  },
  {
   "cell_type": "markdown",
   "metadata": {},
   "source": [
    "## Importing data\n",
    "\n",
    "One of the basic commands in `numpy` for loading in data is the `loadtxt` command."
   ]
  },
  {
   "cell_type": "markdown",
   "metadata": {},
   "source": [
    "Let's read in the `CTD.txt` file"
   ]
  },
  {
   "cell_type": "markdown",
   "metadata": {},
   "source": [
    "![CTD](img/CTD_screenshot.png)"
   ]
  },
  {
   "cell_type": "code",
   "execution_count": 64,
   "metadata": {},
   "outputs": [
    {
     "data": {
      "text/plain": [
       "array([[ 2.013   ,  2.      , 26.5827  , 26.5823  ,  4.575059, 28.6303  ,\n",
       "        18.0579  ,  4.62032 ,  3.1596  , 56.9022  ,  2.8503  ,  0.62493 ,\n",
       "         0.3862  ,  3.9016  ,  2.6426  ,  2.5965  ,  1.731   ],\n",
       "       [ 2.515   ,  2.5     , 25.9263  , 25.9258  ,  4.727182, 30.1208  ,\n",
       "        19.3798  ,  4.37469 ,  3.0143  , 60.8058  ,  3.0417  ,  0.55938 ,\n",
       "         0.339   ,  3.7094  ,  2.6212  ,  2.6264  ,  1.751   ],\n",
       "       [ 3.02    ,  3.      , 25.3695  , 25.3688  ,  4.983968, 32.35    ,\n",
       "        21.2286  ,  4.04875 ,  2.8266  , 74.4409  ,  3.7104  ,  0.49003 ,\n",
       "         0.2819  ,  2.6419  ,  2.4727  ,  2.3413  ,  1.5609  ],\n",
       "       [ 3.524   ,  3.5     , 25.2304  , 25.2296  ,  5.016042, 32.6833  ,\n",
       "        21.5222  ,  3.86168 ,  2.7138  , 77.8474  ,  3.8774  ,  0.44482 ,\n",
       "         0.2396  ,  1.9937  ,  2.3524  ,  1.8684  ,  1.2456  ],\n",
       "       [ 4.026   ,  4.      , 24.568   , 24.5671  ,  5.051934, 33.4325  ,\n",
       "        22.2871  ,  3.42057 ,  2.4863  , 80.6842  ,  4.0166  ,  0.4113  ,\n",
       "         0.2056  ,  1.5597  ,  2.2455  ,  1.7666  ,  1.1777  ],\n",
       "       [ 4.531   ,  4.5     , 24.6885  , 24.6875  ,  5.193132, 34.3913  ,\n",
       "        22.9757  ,  3.66067 ,  2.6229  , 83.2554  ,  4.1427  ,  0.38664 ,\n",
       "         0.1791  ,  0.9636  ,  2.0401  ,  1.6703  ,  1.1135  ],\n",
       "       [ 5.034   ,  5.      , 24.7855  , 24.7844  ,  5.241169, 34.6742  ,\n",
       "        23.1603  ,  3.7742  ,  2.686   , 82.4341  ,  4.1024  ,  0.3765  ,\n",
       "         0.1675  ,  0.6497  ,  1.8711  ,  1.6017  ,  1.0678  ],\n",
       "       [ 5.538   ,  5.5     , 24.7213  , 24.7201  ,  5.263355, 34.8889  ,\n",
       "        23.342   ,  3.80708 ,  2.7     , 81.7989  ,  4.0712  ,  0.36692 ,\n",
       "         0.1563  ,  0.5132  ,  1.775   ,  1.5905  ,  1.0603  ],\n",
       "       [ 6.04    ,  6.      , 24.5692  , 24.5679  ,  5.285194, 35.1705  ,\n",
       "        23.6008  ,  3.78426 ,  2.6834  , 82.4157  ,  4.1015  ,  0.35886 ,\n",
       "         0.1467  ,  0.4507  ,  1.7205  ,  1.6583  ,  1.1056  ],\n",
       "       [ 6.545   ,  6.5     , 24.3945  , 24.3931  ,  5.285643, 35.3111  ,\n",
       "        23.7597  ,  3.64367 ,  2.6034  , 83.0791  ,  4.134   ,  0.35486 ,\n",
       "         0.1418  ,  0.4163  ,  1.6878  ,  1.6521  ,  1.1014  ],\n",
       "       [ 7.047   ,  7.      , 24.3252  , 24.3237  ,  5.299917, 35.4731  ,\n",
       "        23.9031  ,  3.52267 ,  2.534   , 83.8917  ,  4.1739  ,  0.35048 ,\n",
       "         0.1364  ,  0.4251  ,  1.6965  ,  1.6019  ,  1.068   ],\n",
       "       [ 7.551   ,  7.5     , 24.2424  , 24.2408  ,  5.301194, 35.5484  ,\n",
       "        23.9849  ,  3.47868 ,  2.5075  , 84.3093  ,  4.1943  ,  0.34609 ,\n",
       "         0.1309  ,  0.4295  ,  1.7007  ,  1.5436  ,  1.0291  ],\n",
       "       [ 8.055   ,  8.      , 24.1822  , 24.1805  ,  5.298561, 35.5763  ,\n",
       "        24.024   ,  3.46935 ,  2.4986  , 84.2073  ,  4.1893  ,  0.34559 ,\n",
       "         0.1303  ,  0.4557  ,  1.7255  ,  1.5279  ,  1.0186  ],\n",
       "       [ 8.558   ,  8.5     , 24.1057  , 24.1039  ,  5.294033, 35.6029  ,\n",
       "        24.067   ,  3.46966 ,  2.4961  , 83.9218  ,  4.1754  ,  0.34049 ,\n",
       "         0.1238  ,  0.4944  ,  1.7596  ,  1.5275  ,  1.0183  ],\n",
       "       [ 9.06    ,  9.      , 23.9863  , 23.9844  ,  5.290402, 35.6708  ,\n",
       "        24.154   ,  3.44662 ,  2.4813  , 84.2771  ,  4.1928  ,  0.33726 ,\n",
       "         0.1197  ,  0.4986  ,  1.7632  ,  1.5505  ,  1.0336  ],\n",
       "       [ 9.567   ,  9.5     , 23.9235  , 23.9215  ,  5.290679, 35.7231  ,\n",
       "        24.2123  ,  3.43409 ,  2.4702  , 84.8025  ,  4.2185  ,  0.33329 ,\n",
       "         0.1146  ,  0.5074  ,  1.7705  ,  1.5558  ,  1.0372  ],\n",
       "       [10.067   , 10.      , 23.8288  , 23.8267  ,  5.283119, 35.7416  ,\n",
       "        24.2544  ,  3.42576 ,  2.4632  , 85.0635  ,  4.2313  ,  0.33077 ,\n",
       "         0.1113  ,  0.5162  ,  1.7777  ,  1.5155  ,  1.0103  ],\n",
       "       [10.571   , 10.5     , 23.7446  , 23.7424  ,  5.276477, 35.7587  ,\n",
       "        24.2922  ,  3.43403 ,  2.4655  , 85.3002  ,  4.2429  ,  0.32903 ,\n",
       "         0.109   ,  0.5069  ,  1.7701  ,  1.5265  ,  1.0177  ],\n",
       "       [11.076   , 11.      , 23.6302  , 23.6279  ,  5.264635, 35.7604  ,\n",
       "        24.3272  ,  3.42438 ,  2.4636  , 85.1457  ,  4.2354  ,  0.32783 ,\n",
       "         0.1074  ,  0.496   ,  1.761   ,  1.5267  ,  1.0178  ],\n",
       "       [11.578   , 11.5     , 23.711   , 23.7086  ,  5.284763, 35.8487  ,\n",
       "        24.3704  ,  3.43764 ,  2.4638  , 85.4358  ,  4.2496  ,  0.32717 ,\n",
       "         0.1065  ,  0.4916  ,  1.7572  ,  1.5157  ,  1.0105  ],\n",
       "       [12.081   , 12.      , 23.6082  , 23.6057  ,  5.27541 , 35.8603  ,\n",
       "        24.4095  ,  3.36434 ,  2.4213  , 85.9359  ,  4.2741  ,  0.32633 ,\n",
       "         0.1054  ,  0.4552  ,  1.7243  ,  1.5121  ,  1.0081  ],\n",
       "       [12.587   , 12.5     , 23.4458  , 23.4432  ,  5.257677, 35.856   ,\n",
       "        24.4539  ,  3.18706 ,  2.3248  , 86.0294  ,  4.2787  ,  0.32615 ,\n",
       "         0.1052  ,  0.3793  ,  1.6496  ,  1.5069  ,  1.0046  ],\n",
       "       [13.088   , 13.      , 23.4764  , 23.4737  ,  5.268183, 35.9116  ,\n",
       "        24.4871  ,  3.09821 ,  2.2753  , 85.5425  ,  4.2548  ,  0.32522 ,\n",
       "         0.104   ,  0.3807  ,  1.6506  ,  1.4974  ,  0.9983  ],\n",
       "       [13.591   , 13.5     , 23.4612  , 23.4584  ,  5.267762, 35.9205  ,\n",
       "        24.4984  ,  3.07823 ,  2.2635  , 85.2657  ,  4.2413  ,  0.32498 ,\n",
       "         0.1036  ,  0.3578  ,  1.6248  ,  1.5346  ,  1.0231  ],\n",
       "       [14.096   , 14.      , 23.4353  , 23.4324  ,  5.264903, 35.9195  ,\n",
       "        24.5052  ,  3.05358 ,  2.2483  , 84.5898  ,  4.2081  ,  0.32371 ,\n",
       "         0.1019  ,  0.3382  ,  1.6016  ,  1.5619  ,  1.0412  ],\n",
       "       [14.599   , 14.5     , 23.4063  , 23.4033  ,  5.261464, 35.9165  ,\n",
       "        24.5115  ,  3.01636 ,  2.2263  , 84.6701  ,  4.212   ,  0.3233  ,\n",
       "         0.1013  ,  0.3309  ,  1.5927  ,  1.5621  ,  1.0414  ],\n",
       "       [15.102   , 15.      , 23.358   , 23.3549  ,  5.255675, 35.9111  ,\n",
       "        24.5216  ,  2.96978 ,  2.1993  , 83.9191  ,  4.1752  ,  0.32317 ,\n",
       "         0.1011  ,  0.3299  ,  1.5914  ,  1.6069  ,  1.0713  ],\n",
       "       [15.605   , 15.5     , 23.3041  , 23.3009  ,  5.249433, 35.9069  ,\n",
       "        24.5341  ,  2.88443 ,  2.1502  , 81.1542  ,  4.0396  ,  0.32255 ,\n",
       "         0.1003  ,  0.3081  ,  1.5633  ,  1.6936  ,  1.129   ],\n",
       "       [16.11    , 16.      , 23.2337  , 23.2304  ,  5.241798, 35.9053  ,\n",
       "        24.5535  ,  2.73975 ,  2.069   , 74.5688  ,  3.7167  ,  0.32235 ,\n",
       "         0.1001  ,  0.3045  ,  1.5584  ,  1.8209  ,  1.214   ],\n",
       "       [16.612   , 16.5     , 23.1621  , 23.1587  ,  5.234012, 35.9035  ,\n",
       "        24.573   ,  2.58368 ,  1.984   , 65.1178  ,  3.2532  ,  0.32243 ,\n",
       "         0.1002  ,  0.2852  ,  1.5315  ,  2.2357  ,  1.4905  ],\n",
       "       [17.116   , 17.      , 23.1239  , 23.1204  ,  5.229688, 35.9011  ,\n",
       "        24.5823  ,  2.4569  ,  1.9128  , 58.2498  ,  2.9164  ,  0.32238 ,\n",
       "         0.1001  ,  0.2765  ,  1.519   ,  2.8591  ,  1.9061  ],\n",
       "       [17.619   , 17.5     , 23.045   , 23.0414  ,  5.220671, 35.8957  ,\n",
       "        24.6011  ,  2.27295 ,  1.8119  , 47.6081  ,  2.3945  ,  0.32241 ,\n",
       "         0.1002  ,  0.2598  ,  1.4936  ,  3.8565  ,  2.571   ],\n",
       "       [18.123   , 18.      , 23.0066  , 23.0029  ,  5.216195, 35.8923  ,\n",
       "        24.6097  ,  2.16211 ,  1.7508  , 41.5527  ,  2.0975  ,  0.32158 ,\n",
       "         0.099   ,  0.2406  ,  1.4625  ,  4.9708  ,  3.3139  ],\n",
       "       [18.626   , 18.5     , 22.9947  , 22.9909  ,  5.214803, 35.891   ,\n",
       "        24.6122  ,  2.12785 ,  1.732   , 39.7434  ,  2.0088  ,  0.32075 ,\n",
       "         0.098   ,  0.2415  ,  1.464   ,  5.4901  ,  3.6601  ],\n",
       "       [19.129   , 19.      , 22.9833  , 22.9794  ,  5.213493, 35.8901  ,\n",
       "        24.6148  ,  2.09126 ,  1.712   , 38.8811  ,  1.9665  ,  0.32066 ,\n",
       "         0.0978  ,  0.2388  ,  1.4596  ,  5.2755  ,  3.517   ],\n",
       "       [19.633   , 19.5     , 22.9804  , 22.9764  ,  5.213144, 35.8895  ,\n",
       "        24.6153  ,  2.08627 ,  1.7092  , 36.7616  ,  1.8626  ,  0.32065 ,\n",
       "         0.0978  ,  0.2401  ,  1.4615  ,  6.0477  ,  4.0318  ],\n",
       "       [20.133   , 20.      , 22.9798  , 22.9757  ,  5.21312 , 35.8897  ,\n",
       "        24.6156  ,  2.07638 ,  1.7039  , 36.5524  ,  1.8523  ,  0.32527 ,\n",
       "         0.104   ,  0.2352  ,  1.4535  ,  6.4111  ,  4.2741  ]])"
      ]
     },
     "execution_count": 64,
     "metadata": {},
     "output_type": "execute_result"
    }
   ],
   "source": [
    "# note that comments = '*' indicates we ignore those lines starting with *\n",
    "data = np.loadtxt(\"data/CTD.txt\", comments='*')\n",
    "data"
   ]
  },
  {
   "cell_type": "code",
   "execution_count": 65,
   "metadata": {},
   "outputs": [
    {
     "data": {
      "text/plain": [
       "(37, 17)"
      ]
     },
     "execution_count": 65,
     "metadata": {},
     "output_type": "execute_result"
    }
   ],
   "source": [
    "data.shape"
   ]
  },
  {
   "cell_type": "code",
   "execution_count": 66,
   "metadata": {},
   "outputs": [
    {
     "data": {
      "text/plain": [
       "array([26.5827, 25.9263, 25.3695, 25.2304, 24.568 , 24.6885, 24.7855,\n",
       "       24.7213, 24.5692, 24.3945, 24.3252, 24.2424, 24.1822, 24.1057,\n",
       "       23.9863, 23.9235, 23.8288, 23.7446, 23.6302, 23.711 , 23.6082,\n",
       "       23.4458, 23.4764, 23.4612, 23.4353, 23.4063, 23.358 , 23.3041,\n",
       "       23.2337, 23.1621, 23.1239, 23.045 , 23.0066, 22.9947, 22.9833,\n",
       "       22.9804, 22.9798])"
      ]
     },
     "execution_count": 66,
     "metadata": {},
     "output_type": "execute_result"
    }
   ],
   "source": [
    "data[:,2]    # a column of data representing temperature"
   ]
  },
  {
   "cell_type": "markdown",
   "metadata": {},
   "source": [
    "---\n",
    "### *Exercise*\n",
    "\n",
    "> Read in the oceanographic data file 'data/CTD.txt' into an array. You can look at the data file itself to see what variables are stored in each column.\n",
    "\n",
    "> Using this data, write a function to calculate the linear equation of state. This is an approximation of the density of water, as it depends on salinity, temperature, and some empirical constants. We will use the following form for the linear equation of state:\n",
    "\n",
    "> $\\rho = 1027[1+7.6\\times 10^{-4}(S-35) -1.7\\times 10^{-4}(T-25)]$\n",
    "\n",
    "> where $\\rho$ is the density, $S$ is the salinity, and $T$ is the temperature.\n",
    "\n",
    "> This is a more free form than the homework, so you should set up all of the associated code to call the function, and write out the function yourself. Don't forget docstrings! Use your salinity and temperature contained in CTD.txt to calculate density. For a check, the first value of your density array in order should equal 1021.75199816 and the last should equal 1028.04713536.\n",
    "\n",
    "---"
   ]
  },
  {
   "cell_type": "code",
   "execution_count": 75,
   "metadata": {},
   "outputs": [
    {
     "data": {
      "text/plain": [
       "array([1021.75199816, 1023.0299641 , 1024.867111  , 1025.15154378,\n",
       "       1025.85195778, 1026.57928226, 1026.78315614, 1026.96194246,\n",
       "       1027.20829203, 1027.34853402, 1027.48707734, 1027.56030655,\n",
       "       1027.59259338, 1027.62671135, 1027.7005547 , 1027.75234015,\n",
       "       1027.78331344, 1027.81136081, 1027.83266079, 1027.88747383,\n",
       "       1027.91447572, 1027.9394729 , 1027.97752736, 1027.98712775,\n",
       "       1027.99086911, 1027.99359066, 1027.99780855, 1028.00394077,\n",
       "       1028.01498307, 1028.02607878, 1028.03087487, 1028.04043521,\n",
       "       1028.0444857 , 1028.04554865, 1028.0468365 , 1028.0468745 ,\n",
       "       1028.04713536])"
      ]
     },
     "execution_count": 75,
     "metadata": {},
     "output_type": "execute_result"
    }
   ],
   "source": [
    "load_file = np.loadtxt('data/CTD.txt', comments = '*')\n",
    "#load_file.shape\n",
    "Sal = load_file[:,5]\n",
    "Temp = load_file[:,2]\n",
    "def calc_temp(salinity, temperature):\n",
    "    density = 1027 * (1 + (7.6e-4 * (salinity - 35)) - (1.7e-4 * (temperature - 25)) )\n",
    "    return density \n",
    "calc_temp(Sal,Temp)\n"
   ]
  },
  {
   "cell_type": "code",
   "execution_count": null,
   "metadata": {},
   "outputs": [],
   "source": []
  },
  {
   "cell_type": "markdown",
   "metadata": {},
   "source": [
    "## Polynomial fitting\n",
    "\n",
    "The basic function for fitting a polynomial (e.g., a straight line) is `np.polyfit(x, y, deg)`. There are a number of other functions that let you find zeros (`np.roots`), and do other operations to polynomials."
   ]
  },
  {
   "cell_type": "code",
   "execution_count": 76,
   "metadata": {},
   "outputs": [],
   "source": [
    "x = np.random.uniform(size=100)\n",
    "y = 5 + 3*x + 0.1*np.random.normal(size=(100))   # A straight line with some noise"
   ]
  },
  {
   "cell_type": "code",
   "execution_count": 79,
   "metadata": {},
   "outputs": [
    {
     "data": {
      "text/plain": [
       "Text(0.5, 1.0, 'TITLE')"
      ]
     },
     "execution_count": 79,
     "metadata": {},
     "output_type": "execute_result"
    },
    {
     "data": {
      "image/png": "[encoded data removed]",
      "text/plain": [
       "<Figure size 432x432 with 1 Axes>"
      ]
     },
     "metadata": {
      "needs_background": "light"
     },
     "output_type": "display_data"
    }
   ],
   "source": [
    "# we will learn how to plot soon\n",
    "import matplotlib.pyplot as plt\n",
    "%matplotlib inline\n",
    "\n",
    "# plot data\n",
    "fig, ax = plt.subplots(figsize=(6,6))\n",
    "ax.plot(x, y, \".\")\n",
    "ax.set_title('TITLE')"
   ]
  },
  {
   "cell_type": "code",
   "execution_count": 80,
   "metadata": {},
   "outputs": [
    {
     "name": "stdout",
     "output_type": "stream",
     "text": [
      "[3.00384082 4.99454584]\n"
     ]
    }
   ],
   "source": [
    "# let's fit the data\n",
    "p = np.polyfit(x, y, 1)  # fit a straight line (order is 1)\n",
    "print(p)  # The coefficients of the polynomial, with highest order first. (i.e,. [slope, intercept])"
   ]
  },
  {
   "cell_type": "code",
   "execution_count": 81,
   "metadata": {},
   "outputs": [
    {
     "data": {
      "text/plain": [
       "3.0038408231514127"
      ]
     },
     "execution_count": 81,
     "metadata": {},
     "output_type": "execute_result"
    }
   ],
   "source": [
    "p[0] # this is the slope"
   ]
  },
  {
   "cell_type": "code",
   "execution_count": 82,
   "metadata": {},
   "outputs": [
    {
     "data": {
      "text/plain": [
       "4.994545835798278"
      ]
     },
     "execution_count": 82,
     "metadata": {},
     "output_type": "execute_result"
    }
   ],
   "source": [
    "p[1] # this is the intercept"
   ]
  },
  {
   "cell_type": "code",
   "execution_count": 83,
   "metadata": {},
   "outputs": [
    {
     "data": {
      "text/plain": [
       "array([3.00384082, 4.99454584])"
      ]
     },
     "execution_count": 83,
     "metadata": {},
     "output_type": "execute_result"
    }
   ],
   "source": [
    "p"
   ]
  },
  {
   "cell_type": "markdown",
   "metadata": {},
   "source": [
    "Let's plot it to make sure this makes sense:"
   ]
  },
  {
   "cell_type": "code",
   "execution_count": 84,
   "metadata": {},
   "outputs": [
    {
     "data": {
      "text/plain": [
       "<matplotlib.legend.Legend at 0x7f805592a760>"
      ]
     },
     "execution_count": 84,
     "metadata": {},
     "output_type": "execute_result"
    },
    {
     "data": {
      "image/png": "[encoded data removed]",
      "text/plain": [
       "<Figure size 432x432 with 1 Axes>"
      ]
     },
     "metadata": {
      "needs_background": "light"
     },
     "output_type": "display_data"
    }
   ],
   "source": [
    "# plot data\n",
    "fig, ax = plt.subplots(figsize=(6,6))\n",
    "ax.plot(x, y, \".\")\n",
    "\n",
    "# plot fitted line\n",
    "x_new = np.linspace(0, 1, 10)\n",
    "y_fit = p[0]*x_new + p[1]\n",
    "ax.plot(x_new, y_fit)\n",
    "\n",
    "ax.legend(('Data', 'Fitted line'))"
   ]
  },
  {
   "cell_type": "markdown",
   "metadata": {},
   "source": [
    "Once you have the fit, you can use it to find other useful things, like the value of the fitted line at $x=1$:"
   ]
  },
  {
   "cell_type": "code",
   "execution_count": 85,
   "metadata": {},
   "outputs": [
    {
     "data": {
      "text/plain": [
       "<matplotlib.legend.Legend at 0x7f80559a3190>"
      ]
     },
     "execution_count": 85,
     "metadata": {},
     "output_type": "execute_result"
    },
    {
     "data": {
      "image/png": "[encoded data removed]",
      "text/plain": [
       "<Figure size 432x432 with 1 Axes>"
      ]
     },
     "metadata": {
      "needs_background": "light"
     },
     "output_type": "display_data"
    }
   ],
   "source": [
    "# plot data\n",
    "fig, ax = plt.subplots(figsize=(6,6))\n",
    "ax.plot(x, y, \".\")\n",
    "\n",
    "# plot fitted line\n",
    "x_new = np.linspace(-2, 2, 10)\n",
    "y_fit = p[0]*x_new + p[1]\n",
    "ax.plot(x_new, y_fit)\n",
    "\n",
    "ax.axvline(1)\n",
    "\n",
    "ax.legend(('Data', 'Fitted line'))"
   ]
  },
  {
   "cell_type": "code",
   "execution_count": 86,
   "metadata": {},
   "outputs": [
    {
     "data": {
      "text/plain": [
       "7.998386658949691"
      ]
     },
     "execution_count": 86,
     "metadata": {},
     "output_type": "execute_result"
    }
   ],
   "source": [
    "np.polyval(p, 1)"
   ]
  },
  {
   "cell_type": "code",
   "execution_count": 89,
   "metadata": {},
   "outputs": [
    {
     "data": {
      "text/plain": [
       "<matplotlib.legend.Legend at 0x7f8055cee070>"
      ]
     },
     "execution_count": 89,
     "metadata": {},
     "output_type": "execute_result"
    },
    {
     "data": {
      "image/png": "[encoded data removed]",
      "text/plain": [
       "<Figure size 432x432 with 1 Axes>"
      ]
     },
     "metadata": {
      "needs_background": "light"
     },
     "output_type": "display_data"
    }
   ],
   "source": [
    "# plot data\n",
    "fig, ax = plt.subplots(figsize=(6,6))\n",
    "ax.plot(x, y, \".\")\n",
    "\n",
    "# plot fitted line\n",
    "x_new = np.linspace(-2, 2, 10)\n",
    "y_fit = p[0]*x_new + p[1]\n",
    "ax.plot(x_new, y_fit)\n",
    "\n",
    "ax.axhline(0)\n",
    "\n",
    "ax.legend(('Data', 'Fitted line'))"
   ]
  },
  {
   "cell_type": "code",
   "execution_count": 90,
   "metadata": {},
   "outputs": [
    {
     "data": {
      "text/plain": [
       "array([-1.66271987])"
      ]
     },
     "execution_count": 90,
     "metadata": {},
     "output_type": "execute_result"
    }
   ],
   "source": [
    "np.roots(p)"
   ]
  },
  {
   "cell_type": "markdown",
   "metadata": {},
   "source": [
    "## Vectorization\n",
    "\n",
    "Array broadcasting and vectorization are two big reasons that `numpy` can be efficient and fast. With these tools, you can avoid writing for loops (which are slow).\n",
    "\n",
    "The best way to do mathematical operations using `numpy` arrays is to do `vector` operations. That is, mathematical operations are defined to be element by element, and this is done much faster than looping. \n",
    "\n",
    "**As a rule of thumb, you should be very concerned if your code has more than one significant `for` loop in the numerical analysis section.**\n",
    "\n",
    "Here is a way to do multiply 2 big arrays using for loops, which is not how you should do it. The sum at the end is included for comparison with the subsequent approach."
   ]
  },
  {
   "cell_type": "code",
   "execution_count": 91,
   "metadata": {},
   "outputs": [],
   "source": [
    "a = np.arange(102400.0).reshape(4, 8, 1600, 2)   # a 4D array using sequential numbers\n",
    "b = np.random.uniform(size=(4, 8, 1600, 2))      # a 4D array using random numbers"
   ]
  },
  {
   "cell_type": "code",
   "execution_count": 92,
   "metadata": {},
   "outputs": [
    {
     "data": {
      "text/plain": [
       "(4, 8, 1600, 2)"
      ]
     },
     "execution_count": 92,
     "metadata": {},
     "output_type": "execute_result"
    }
   ],
   "source": [
    "a.shape"
   ]
  },
  {
   "cell_type": "code",
   "execution_count": 93,
   "metadata": {},
   "outputs": [
    {
     "data": {
      "text/plain": [
       "(4, 8, 1600, 2)"
      ]
     },
     "execution_count": 93,
     "metadata": {},
     "output_type": "execute_result"
    }
   ],
   "source": [
    "b.shape"
   ]
  },
  {
   "cell_type": "code",
   "execution_count": 101,
   "metadata": {},
   "outputs": [
    {
     "name": "stdout",
     "output_type": "stream",
     "text": [
      "2620162153.8753815\n",
      "CPU times: user 84.5 ms, sys: 2.26 ms, total: 86.8 ms\n",
      "Wall time: 85.6 ms\n"
     ]
    }
   ],
   "source": [
    "%%time \n",
    "\n",
    "li, lj, lk, lm = b.shape  # size of b in each dimension\n",
    "sol = np.zeros(b.shape)\n",
    "for i in range(li):\n",
    "    for j in range(lj):\n",
    "        for k in range(lk):\n",
    "            for m in range(lm):\n",
    "                sol[i,j,k,m] = a[i,j,k,m]*b[i,j,k,m]\n",
    "print(sol.sum())"
   ]
  },
  {
   "cell_type": "markdown",
   "metadata": {},
   "source": [
    "The better way is to directly multiply the arrays together, taking advantage of C code that Python has in the background."
   ]
  },
  {
   "cell_type": "code",
   "execution_count": 102,
   "metadata": {},
   "outputs": [
    {
     "name": "stdout",
     "output_type": "stream",
     "text": [
      "CPU times: user 3 µs, sys: 1e+03 ns, total: 4 µs\n",
      "Wall time: 5.96 µs\n",
      "2620162153.8753815\n"
     ]
    }
   ],
   "source": [
    "# element-by-element multiplication. This operation is about as fast as it can be on your computer.\n",
    "%time\n",
    "\n",
    "sol = a * b       \n",
    "print(sol.sum())"
   ]
  },
  {
   "cell_type": "markdown",
   "metadata": {},
   "source": [
    "## Basic performance evaluation\n",
    "\n",
    "We can do some very basic perfomance testing using the `%%time` (whole cell) or `%time` (single-line code) magic command in jupyter notebooks."
   ]
  },
  {
   "cell_type": "code",
   "execution_count": 103,
   "metadata": {},
   "outputs": [
    {
     "name": "stdout",
     "output_type": "stream",
     "text": [
      "2620162153.8753815\n",
      "CPU times: user 84.9 ms, sys: 2.02 ms, total: 87 ms\n",
      "Wall time: 85.6 ms\n"
     ]
    }
   ],
   "source": [
    "%%time\n",
    "\n",
    "li, lj, lk, lm = b.shape  # size of b in each dimension\n",
    "sol = np.zeros(b.shape)\n",
    "for i in range(li):\n",
    "    for j in range(lj):\n",
    "        for k in range(lk):\n",
    "            for m in range(lm):\n",
    "                sol[i,j,k,m] = a[i,j,k,m]*b[i,j,k,m]\n",
    "print(sol.sum())"
   ]
  },
  {
   "cell_type": "code",
   "execution_count": 104,
   "metadata": {},
   "outputs": [
    {
     "name": "stdout",
     "output_type": "stream",
     "text": [
      "2620162153.8753815\n",
      "CPU times: user 545 µs, sys: 209 µs, total: 754 µs\n",
      "Wall time: 476 µs\n"
     ]
    }
   ],
   "source": [
    "%%time\n",
    "\n",
    "sol = a * b       \n",
    "print(sol.sum())"
   ]
  },
  {
   "cell_type": "code",
   "execution_count": 105,
   "metadata": {
    "scrolled": true
   },
   "outputs": [
    {
     "name": "stdout",
     "output_type": "stream",
     "text": [
      "CPU times: user 350 µs, sys: 153 µs, total: 503 µs\n",
      "Wall time: 426 µs\n"
     ]
    }
   ],
   "source": [
    "%time b = np.random.normal(size=(50, 20))"
   ]
  },
  {
   "cell_type": "markdown",
   "metadata": {},
   "source": [
    "For statements that are longer than a single line, the `time.time` function can also be used."
   ]
  },
  {
   "cell_type": "code",
   "execution_count": 107,
   "metadata": {},
   "outputs": [
    {
     "name": "stdout",
     "output_type": "stream",
     "text": [
      "0.2553 seconds have passed.\n"
     ]
    }
   ],
   "source": [
    "import time\n",
    "\n",
    "t_start = time.time()\n",
    "time.sleep(0.25)   # Do nothing for 0.25 seconds\n",
    "t_stop = time.time()\n",
    "\n",
    "print('{:6.4f} seconds have passed.'.format(t_stop-t_start))"
   ]
  },
  {
   "cell_type": "code",
   "execution_count": 108,
   "metadata": {},
   "outputs": [
    {
     "name": "stdout",
     "output_type": "stream",
     "text": [
      "0.0006 seconds have passed.\n"
     ]
    }
   ],
   "source": [
    "import time\n",
    "\n",
    "t_start = time.time()\n",
    "\n",
    "b = np.random.normal(size=(50, 20))\n",
    "b = np.random.normal(size=(50, 20))\n",
    "b = np.random.normal(size=(50, 20))\n",
    "b = np.random.normal(size=(50, 20))\n",
    "b = np.random.normal(size=(50, 20))\n",
    "b = np.random.normal(size=(50, 20))\n",
    "b = np.random.normal(size=(50, 20))\n",
    "\n",
    "\n",
    "t_stop = time.time()\n",
    "\n",
    "print('{:6.4f} seconds have passed.'.format(t_stop-t_start))"
   ]
  },
  {
   "cell_type": "markdown",
   "metadata": {},
   "source": [
    "## Linear algebra"
   ]
  },
  {
   "cell_type": "markdown",
   "metadata": {},
   "source": [
    "Matrix multiplication is done using the `np.dot` function. In this case, matrices do _not_ need to be the same shape, but must follow the rules of matrix multiplication. E.g., the operation dot(<2x3 array>, <3x4 array>) results in a 2x4 array; i.e., the inner dimensions must match (technically last and second-to-last, for arrays with more than two dimensions).   "
   ]
  },
  {
   "cell_type": "markdown",
   "metadata": {},
   "source": [
    "![matrix_mult](img/matrix_mult.png)"
   ]
  },
  {
   "cell_type": "code",
   "execution_count": 109,
   "metadata": {},
   "outputs": [
    {
     "name": "stdout",
     "output_type": "stream",
     "text": [
      "(2, 3)\n",
      "\n",
      "(3, 4)\n"
     ]
    }
   ],
   "source": [
    "x = np.random.uniform(size=(2, 3))\n",
    "y = np.random.uniform(size=(3, 4))\n",
    "\n",
    "print(x.shape)\n",
    "print()\n",
    "print(y.shape)"
   ]
  },
  {
   "cell_type": "code",
   "execution_count": 110,
   "metadata": {},
   "outputs": [
    {
     "name": "stdout",
     "output_type": "stream",
     "text": [
      "\n",
      "[[0.58545545 0.60361002 1.15775392 0.7432316 ]\n",
      " [0.81375876 1.54735246 1.97185933 1.13191425]]\n",
      "(2, 4)\n"
     ]
    }
   ],
   "source": [
    "res = np.dot(x, y)\n",
    "print()\n",
    "print(res)\n",
    "print(res.shape)\n",
    "\n",
    "# np.dot(y, x)  # This gives an error -- order is important."
   ]
  },
  {
   "cell_type": "markdown",
   "metadata": {},
   "source": [
    "\n",
    "One of the key elements of the `numpy` package is the `numpy.linalg` subpackage that contains a number of linear algebra functions that work efficiently on arrays."
   ]
  },
  {
   "cell_type": "code",
   "execution_count": 111,
   "metadata": {},
   "outputs": [],
   "source": [
    "a = np.random.normal(size=(3, 3))\n",
    "\n",
    "# get the eigen value and eigen vector\n",
    "eigen_value, eigen_vector = np.linalg.eig(a)"
   ]
  },
  {
   "cell_type": "code",
   "execution_count": 112,
   "metadata": {},
   "outputs": [
    {
     "data": {
      "text/plain": [
       "array([ 1.43924443+0.j        , -0.36013225+0.77761328j,\n",
       "       -0.36013225-0.77761328j])"
      ]
     },
     "execution_count": 112,
     "metadata": {},
     "output_type": "execute_result"
    }
   ],
   "source": [
    "eigen_value"
   ]
  },
  {
   "cell_type": "code",
   "execution_count": 113,
   "metadata": {},
   "outputs": [
    {
     "data": {
      "text/plain": [
       "array([[-0.7541527 +0.j        , -0.38470304+0.44439959j,\n",
       "        -0.38470304-0.44439959j],\n",
       "       [-0.43743929+0.j        ,  0.14714342-0.29563874j,\n",
       "         0.14714342+0.29563874j],\n",
       "       [ 0.48979646+0.j        ,  0.73855205+0.j        ,\n",
       "         0.73855205-0.j        ]])"
      ]
     },
     "execution_count": 113,
     "metadata": {},
     "output_type": "execute_result"
    }
   ],
   "source": [
    "eigen_vector"
   ]
  },
  {
   "cell_type": "code",
   "execution_count": null,
   "metadata": {},
   "outputs": [],
   "source": []
  }
 ],
 "metadata": {
  "anaconda-cloud": {},
  "kernelspec": {
   "display_name": "Python 3 (ipykernel)",
   "language": "python",
   "name": "python3"
  },
  "language_info": {
   "codemirror_mode": {
    "name": "ipython",
    "version": 3
   },
   "file_extension": ".py",
   "mimetype": "text/x-python",
   "name": "python",
   "nbconvert_exporter": "python",
   "pygments_lexer": "ipython3",
   "version": "3.8.10"
  },
  "toc": {
   "base_numbering": 1,
   "nav_menu": {},
   "number_sections": false,
   "sideBar": true,
   "skip_h1_title": false,
   "title_cell": "Table of Contents",
   "title_sidebar": "Contents",
   "toc_cell": false,
   "toc_position": {},
   "toc_section_display": true,
   "toc_window_display": false
  }
 },
 "nbformat": 4,
 "nbformat_minor": 1
}
