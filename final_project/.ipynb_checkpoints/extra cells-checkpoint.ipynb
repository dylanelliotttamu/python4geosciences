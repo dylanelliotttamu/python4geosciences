{
 "cells": [
  {
   "cell_type": "code",
   "execution_count": null,
   "id": "bf79ed41",
   "metadata": {},
   "outputs": [],
   "source": [
    "notes"
   ]
  },
  {
   "cell_type": "code",
   "execution_count": null,
   "id": "6f18004b",
   "metadata": {},
   "outputs": [],
   "source": [
    "df['wvht'].isnull().sum()"
   ]
  },
  {
   "cell_type": "code",
   "execution_count": null,
   "id": "53c614e2",
   "metadata": {},
   "outputs": [],
   "source": [
    "9/5 * np.average(df['wtmp']) + 32"
   ]
  },
  {
   "cell_type": "code",
   "execution_count": null,
   "id": "f961a9d2",
   "metadata": {},
   "outputs": [],
   "source": [
    "avg_wave_height_by_year = df.groupby('year')['wvht'].mean()\n",
    "avg_wave_height_by_month = df.groupby('month')['wvht'].mean()\n",
    "print(avg_wave_height_by_year)\n",
    "print(avg_wave_height_by_month)"
   ]
  },
  {
   "cell_type": "code",
   "execution_count": null,
   "id": "5fee3c2d",
   "metadata": {},
   "outputs": [],
   "source": [
    "plt.plot(range(1,13,1),avg_wave_height_by_month)"
   ]
  },
  {
   "cell_type": "code",
   "execution_count": null,
   "id": "8f81854d",
   "metadata": {},
   "outputs": [],
   "source": [
    "avg_water_temp_by_month = df.groupby('month')['wtmp'].mean()"
   ]
  },
  {
   "cell_type": "code",
   "execution_count": null,
   "id": "75ea372d",
   "metadata": {},
   "outputs": [],
   "source": [
    "plt.plot(range(1,13,1), avg_water_temp_by_month)"
   ]
  },
  {
   "cell_type": "code",
   "execution_count": null,
   "id": "baa6a52e",
   "metadata": {},
   "outputs": [],
   "source": [
    "import pandas as pd\n",
    "\n",
    "# define the station ID\n",
    "station_id = 46225\n",
    "\n",
    "# create an empty list to store the data frames\n",
    "dfs = []\n",
    "\n",
    "# loop through the years\n",
    "for year in range(1987, 2024):\n",
    "\n",
    "    # construct the file path\n",
    "    url = 'https://www.ndbc.noaa.gov/view_text_file.php?filename={station_id}h{year}.txt.gz&dir=data/historical/stdmet/'\n",
    "\n",
    "    # download the file and extract the data\n",
    "    with pd.read_csv(url, delim_whitespace=True, skiprows=1, header=None, names=['year', 'month', 'day', 'hour', 'minute', 'wdir', 'wspd', 'gst', 'wvht', 'dpd', 'apd', 'mwd', 'pres', 'atmp', 'wtmp', 'dewp', 'vis', 'ptdy', 'tide'], index_col=['year', 'month', 'day', 'hour']) as data:\n",
    "\n",
    "        # filter out rows with 99.0 for wvht or 999.0 for wtmp\n",
    "        data = data.loc[(data['wvht'] != 99.0) & (data['wtmp'] != 999.0)]\n",
    "\n",
    "        # add the station ID as a new column\n",
    "        data['station_id'] = station_id\n",
    "\n",
    "        # add the data frame to the list\n",
    "        dfs.append(data)\n",
    "\n",
    "# concatenate all the data frames into a single data frame\n",
    "df = pd.concat(dfs, ignore_index=False)\n",
    "\n",
    "# calculate the average wvht for each year and station ID\n",
    "avg_by_year_station = df.groupby(['station_id', pd.Grouper(freq='Y')])['wvht'].mean()\n",
    "\n",
    "# print the result\n",
    "print(avg_by_year_station)\n"
   ]
  },
  {
   "cell_type": "code",
   "execution_count": null,
   "id": "a2444679",
   "metadata": {},
   "outputs": [],
   "source": [
    "years = np.arange(2004,2020)\n",
    "print(years)\n",
    "url = 'https://www.ndbc.noaa.gov/view_text_file.php?filename=46225h2007.txt.gz&dir=data/historical/stdmet/'\n",
    "read = pd.read_csv(url,delim_whitespace=True)\n",
    "read"
   ]
  },
  {
   "cell_type": "code",
   "execution_count": null,
   "id": "ae67fee3",
   "metadata": {},
   "outputs": [],
   "source": [
    "import pandas as pd\n",
    "#https://www.ndbc.noaa.gov/view_text_file.php?filename=46042h2005.txt.gz&dir=data/historical/stdmet/\n",
    "station = '46042'\n",
    "url_prefix = 'https://www.ndbc.noaa.gov/view_text_file.php?filename='+station+'h'\n",
    "\n",
    "url_suffix = '.txt.gz&dir=data/historical/stdmet/'\n",
    "\n",
    "# List to store data from all files\n",
    "all_data = []\n",
    "\n",
    "# Loop through years from 1987 to 2023\n",
    "for year in range(1987, 2024):\n",
    "    # Construct URL for this year's file\n",
    "    url = url_prefix + str(year) + url_suffix\n",
    "    \n",
    "    # Read data from URL into a Pandas DataFrame\n",
    "    data = pd.read_csv(url, delim_whitespace=True, header=None, names=['year', 'month', 'day', 'hour', 'minute', 'wind_dir', 'wind_spd', 'gust', 'wave_height', 'dominant_wave_period', 'average_wave_period', 'mean_wave_dir', 'atmos_pressure', 'air_temp', 'water_temp', 'dew_point', 'rel_humidity', 'station_visibility', 'pressure_tendency'])\n",
    "    \n",
    "    # Add year column to DataFrame\n",
    "    data['year'] = year\n",
    "    \n",
    "    # Add data to list\n",
    "    all_data.append(data)\n",
    "\n",
    "# Concatenate all DataFrames into one\n",
    "all_data = pd.concat(all_data)\n"
   ]
  },
  {
   "cell_type": "code",
   "execution_count": null,
   "id": "6e8119ce",
   "metadata": {},
   "outputs": [],
   "source": []
  },
  {
   "cell_type": "code",
   "execution_count": null,
   "id": "ec9abe13",
   "metadata": {},
   "outputs": [],
   "source": []
  },
  {
   "cell_type": "code",
   "execution_count": null,
   "id": "e4e89c4f",
   "metadata": {},
   "outputs": [],
   "source": []
  },
  {
   "cell_type": "code",
   "execution_count": null,
   "id": "d88f27f1",
   "metadata": {},
   "outputs": [],
   "source": []
  },
  {
   "cell_type": "code",
   "execution_count": null,
   "id": "2799e523",
   "metadata": {},
   "outputs": [],
   "source": []
  },
  {
   "cell_type": "code",
   "execution_count": null,
   "id": "b966e83a",
   "metadata": {},
   "outputs": [],
   "source": []
  },
  {
   "cell_type": "code",
   "execution_count": null,
   "id": "14b60bf8",
   "metadata": {},
   "outputs": [],
   "source": []
  },
  {
   "cell_type": "code",
   "execution_count": null,
   "id": "90c8e462",
   "metadata": {},
   "outputs": [],
   "source": []
  },
  {
   "cell_type": "code",
   "execution_count": null,
   "id": "a8f2a9dc",
   "metadata": {},
   "outputs": [],
   "source": []
  }
 ],
 "metadata": {
  "kernelspec": {
   "display_name": "Python 3 (ipykernel)",
   "language": "python",
   "name": "python3"
  },
  "language_info": {
   "codemirror_mode": {
    "name": "ipython",
    "version": 3
   },
   "file_extension": ".py",
   "mimetype": "text/x-python",
   "name": "python",
   "nbconvert_exporter": "python",
   "pygments_lexer": "ipython3",
   "version": "3.8.10"
  }
 },
 "nbformat": 4,
 "nbformat_minor": 5
}
