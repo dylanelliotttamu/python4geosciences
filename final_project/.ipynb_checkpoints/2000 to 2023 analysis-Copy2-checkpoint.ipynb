{
 "cells": [
  {
   "cell_type": "code",
   "execution_count": 1,
   "id": "486ab724",
   "metadata": {},
   "outputs": [],
   "source": [
    "import numpy as np\n",
    "import numpy.ma as ma\n",
    "import pandas as pd\n",
    "import matplotlib as mpl\n",
    "import matplotlib.pyplot as plt\n",
    "%matplotlib inline\n",
    "import cartopy\n",
    "import cartopy.crs as ccrs \n",
    "import cartopy.feature as cfeature\n",
    "from cartopy.mpl.gridliner import LONGITUDE_FORMATTER, LATITUDE_FORMATTER\n",
    "from shapely.geometry import Point, LineString\n",
    "import geopandas as gpd\n",
    "from matplotlib.ticker import AutoMinorLocator"
   ]
  },
  {
   "cell_type": "code",
   "execution_count": 11,
   "id": "cc5603e9",
   "metadata": {},
   "outputs": [
    {
     "data": {
      "text/html": [
       "<div>\n",
       "<style scoped>\n",
       "    .dataframe tbody tr th:only-of-type {\n",
       "        vertical-align: middle;\n",
       "    }\n",
       "\n",
       "    .dataframe tbody tr th {\n",
       "        vertical-align: top;\n",
       "    }\n",
       "\n",
       "    .dataframe thead th {\n",
       "        text-align: right;\n",
       "    }\n",
       "</style>\n",
       "<table border=\"1\" class=\"dataframe\">\n",
       "  <thead>\n",
       "    <tr style=\"text-align: right;\">\n",
       "      <th></th>\n",
       "      <th>year</th>\n",
       "      <th>month</th>\n",
       "      <th>day</th>\n",
       "      <th>hour</th>\n",
       "      <th>wdir</th>\n",
       "      <th>wspd</th>\n",
       "      <th>gst</th>\n",
       "      <th>wvht</th>\n",
       "      <th>dpd</th>\n",
       "      <th>apd</th>\n",
       "      <th>mwd</th>\n",
       "      <th>pres</th>\n",
       "      <th>atmp</th>\n",
       "      <th>wtmp</th>\n",
       "      <th>dewp</th>\n",
       "      <th>vis</th>\n",
       "      <th>ptdy</th>\n",
       "      <th>tide</th>\n",
       "    </tr>\n",
       "  </thead>\n",
       "  <tbody>\n",
       "    <tr>\n",
       "      <th>0</th>\n",
       "      <td>2000</td>\n",
       "      <td>1</td>\n",
       "      <td>1</td>\n",
       "      <td>0</td>\n",
       "      <td>297</td>\n",
       "      <td>4.9</td>\n",
       "      <td>6.1</td>\n",
       "      <td>1.22</td>\n",
       "      <td>7.14</td>\n",
       "      <td>5.68</td>\n",
       "      <td>323</td>\n",
       "      <td>1017.4</td>\n",
       "      <td>11.0</td>\n",
       "      <td>11.6</td>\n",
       "      <td>6.5</td>\n",
       "      <td>99.0</td>\n",
       "      <td>NaN</td>\n",
       "      <td>NaN</td>\n",
       "    </tr>\n",
       "    <tr>\n",
       "      <th>1</th>\n",
       "      <td>2000</td>\n",
       "      <td>1</td>\n",
       "      <td>1</td>\n",
       "      <td>1</td>\n",
       "      <td>305</td>\n",
       "      <td>5.2</td>\n",
       "      <td>6.4</td>\n",
       "      <td>1.33</td>\n",
       "      <td>6.67</td>\n",
       "      <td>5.60</td>\n",
       "      <td>320</td>\n",
       "      <td>1017.6</td>\n",
       "      <td>11.1</td>\n",
       "      <td>11.7</td>\n",
       "      <td>6.7</td>\n",
       "      <td>99.0</td>\n",
       "      <td>NaN</td>\n",
       "      <td>NaN</td>\n",
       "    </tr>\n",
       "    <tr>\n",
       "      <th>2</th>\n",
       "      <td>2000</td>\n",
       "      <td>1</td>\n",
       "      <td>1</td>\n",
       "      <td>2</td>\n",
       "      <td>302</td>\n",
       "      <td>5.5</td>\n",
       "      <td>6.7</td>\n",
       "      <td>1.29</td>\n",
       "      <td>7.14</td>\n",
       "      <td>5.41</td>\n",
       "      <td>324</td>\n",
       "      <td>1018.1</td>\n",
       "      <td>11.2</td>\n",
       "      <td>11.6</td>\n",
       "      <td>6.7</td>\n",
       "      <td>99.0</td>\n",
       "      <td>NaN</td>\n",
       "      <td>NaN</td>\n",
       "    </tr>\n",
       "    <tr>\n",
       "      <th>3</th>\n",
       "      <td>2000</td>\n",
       "      <td>1</td>\n",
       "      <td>1</td>\n",
       "      <td>3</td>\n",
       "      <td>304</td>\n",
       "      <td>2.4</td>\n",
       "      <td>3.1</td>\n",
       "      <td>1.22</td>\n",
       "      <td>7.14</td>\n",
       "      <td>5.70</td>\n",
       "      <td>320</td>\n",
       "      <td>1018.1</td>\n",
       "      <td>11.3</td>\n",
       "      <td>11.6</td>\n",
       "      <td>6.6</td>\n",
       "      <td>99.0</td>\n",
       "      <td>NaN</td>\n",
       "      <td>NaN</td>\n",
       "    </tr>\n",
       "    <tr>\n",
       "      <th>4</th>\n",
       "      <td>2000</td>\n",
       "      <td>1</td>\n",
       "      <td>1</td>\n",
       "      <td>4</td>\n",
       "      <td>292</td>\n",
       "      <td>4.7</td>\n",
       "      <td>6.1</td>\n",
       "      <td>1.27</td>\n",
       "      <td>6.67</td>\n",
       "      <td>5.90</td>\n",
       "      <td>321</td>\n",
       "      <td>1018.5</td>\n",
       "      <td>11.5</td>\n",
       "      <td>11.6</td>\n",
       "      <td>7.2</td>\n",
       "      <td>99.0</td>\n",
       "      <td>NaN</td>\n",
       "      <td>NaN</td>\n",
       "    </tr>\n",
       "  </tbody>\n",
       "</table>\n",
       "</div>"
      ],
      "text/plain": [
       "   year  month  day  hour  wdir  wspd  gst  wvht   dpd   apd  mwd    pres  \\\n",
       "0  2000      1    1     0   297   4.9  6.1  1.22  7.14  5.68  323  1017.4   \n",
       "1  2000      1    1     1   305   5.2  6.4  1.33  6.67  5.60  320  1017.6   \n",
       "2  2000      1    1     2   302   5.5  6.7  1.29  7.14  5.41  324  1018.1   \n",
       "3  2000      1    1     3   304   2.4  3.1  1.22  7.14  5.70  320  1018.1   \n",
       "4  2000      1    1     4   292   4.7  6.1  1.27  6.67  5.90  321  1018.5   \n",
       "\n",
       "   atmp  wtmp  dewp   vis  ptdy  tide  \n",
       "0  11.0  11.6   6.5  99.0   NaN   NaN  \n",
       "1  11.1  11.7   6.7  99.0   NaN   NaN  \n",
       "2  11.2  11.6   6.7  99.0   NaN   NaN  \n",
       "3  11.3  11.6   6.6  99.0   NaN   NaN  \n",
       "4  11.5  11.6   7.2  99.0   NaN   NaN  "
      ]
     },
     "execution_count": 11,
     "metadata": {},
     "output_type": "execute_result"
    }
   ],
   "source": [
    "url_template = 'https://www.ndbc.noaa.gov/view_text_file.php?filename=46042h{year}.txt.gz&dir=data/historical/stdmet/'\n",
    "    \n",
    "# create an empty list to store the data frames\n",
    "dfs = []\n",
    "\n",
    "# loop through the years\n",
    "for year in range(2000, 2005):\n",
    "\n",
    "    # construct the file path\n",
    "    url = url_template.format(year=year)\n",
    "    \n",
    "    # parse the data and create a data frame\n",
    "    df = pd.read_csv(url, delim_whitespace=True, skiprows=1, header=None, names=['year', 'month', 'day', 'hour', 'wdir', 'wspd', 'gst', 'wvht', 'dpd', 'apd', 'mwd', 'pres', 'atmp', 'wtmp', 'dewp', 'vis', 'ptdy', 'tide'])\n",
    "    \n",
    "    # add the data frame to the list\n",
    "    dfs.append(df)\n",
    "\n",
    "# concatenate all the data frames into a single data frame\n",
    "df = pd.concat(dfs, ignore_index=True)\n",
    "\n",
    "# print the resulting data frame\n",
    "df.head()"
   ]
  },
  {
   "cell_type": "code",
   "execution_count": null,
   "id": "033933c0",
   "metadata": {},
   "outputs": [],
   "source": []
  },
  {
   "cell_type": "code",
   "execution_count": 12,
   "id": "9ef947b9",
   "metadata": {},
   "outputs": [
    {
     "name": "stderr",
     "output_type": "stream",
     "text": [
      "/Users/dylan/opt/anaconda3/envs/geo2023spring/lib/python3.8/site-packages/IPython/core/interactiveshell.py:3441: DtypeWarning: Columns (0,1,2,3,4,5,6,7,8,9,10,11,12,13,14,15,16,17) have mixed types.Specify dtype option on import or set low_memory=False.\n",
      "  exec(code_obj, self.user_global_ns, self.user_ns)\n"
     ]
    },
    {
     "data": {
      "text/html": [
       "<div>\n",
       "<style scoped>\n",
       "    .dataframe tbody tr th:only-of-type {\n",
       "        vertical-align: middle;\n",
       "    }\n",
       "\n",
       "    .dataframe tbody tr th {\n",
       "        vertical-align: top;\n",
       "    }\n",
       "\n",
       "    .dataframe thead th {\n",
       "        text-align: right;\n",
       "    }\n",
       "</style>\n",
       "<table border=\"1\" class=\"dataframe\">\n",
       "  <thead>\n",
       "    <tr style=\"text-align: right;\">\n",
       "      <th></th>\n",
       "      <th>year</th>\n",
       "      <th>month</th>\n",
       "      <th>day</th>\n",
       "      <th>hour</th>\n",
       "      <th>minute</th>\n",
       "      <th>wdir</th>\n",
       "      <th>wspd</th>\n",
       "      <th>gst</th>\n",
       "      <th>wvht</th>\n",
       "      <th>dpd</th>\n",
       "      <th>apd</th>\n",
       "      <th>mwd</th>\n",
       "      <th>pres</th>\n",
       "      <th>atmp</th>\n",
       "      <th>wtmp</th>\n",
       "      <th>dewp</th>\n",
       "      <th>vis</th>\n",
       "      <th>ptdy</th>\n",
       "      <th>tide</th>\n",
       "    </tr>\n",
       "  </thead>\n",
       "  <tbody>\n",
       "    <tr>\n",
       "      <th>0</th>\n",
       "      <td>2005</td>\n",
       "      <td>1</td>\n",
       "      <td>1</td>\n",
       "      <td>0</td>\n",
       "      <td>0</td>\n",
       "      <td>216</td>\n",
       "      <td>7.4</td>\n",
       "      <td>8.6</td>\n",
       "      <td>2.8</td>\n",
       "      <td>12.9</td>\n",
       "      <td>7.83</td>\n",
       "      <td>293</td>\n",
       "      <td>1011.8</td>\n",
       "      <td>12.4</td>\n",
       "      <td>13.8</td>\n",
       "      <td>999.0</td>\n",
       "      <td>99.0</td>\n",
       "      <td>99.0</td>\n",
       "      <td>NaN</td>\n",
       "    </tr>\n",
       "    <tr>\n",
       "      <th>1</th>\n",
       "      <td>2005</td>\n",
       "      <td>1</td>\n",
       "      <td>1</td>\n",
       "      <td>1</td>\n",
       "      <td>0</td>\n",
       "      <td>198</td>\n",
       "      <td>8.1</td>\n",
       "      <td>9.3</td>\n",
       "      <td>2.84</td>\n",
       "      <td>12.12</td>\n",
       "      <td>7.74</td>\n",
       "      <td>292</td>\n",
       "      <td>1011.6</td>\n",
       "      <td>12.3</td>\n",
       "      <td>13.8</td>\n",
       "      <td>999.0</td>\n",
       "      <td>99.0</td>\n",
       "      <td>99.0</td>\n",
       "      <td>NaN</td>\n",
       "    </tr>\n",
       "    <tr>\n",
       "      <th>2</th>\n",
       "      <td>2005</td>\n",
       "      <td>1</td>\n",
       "      <td>1</td>\n",
       "      <td>2</td>\n",
       "      <td>0</td>\n",
       "      <td>206</td>\n",
       "      <td>8.4</td>\n",
       "      <td>10.1</td>\n",
       "      <td>2.94</td>\n",
       "      <td>12.9</td>\n",
       "      <td>7.62</td>\n",
       "      <td>288</td>\n",
       "      <td>1011.5</td>\n",
       "      <td>12.6</td>\n",
       "      <td>13.8</td>\n",
       "      <td>999.0</td>\n",
       "      <td>99.0</td>\n",
       "      <td>99.0</td>\n",
       "      <td>NaN</td>\n",
       "    </tr>\n",
       "    <tr>\n",
       "      <th>3</th>\n",
       "      <td>2005</td>\n",
       "      <td>1</td>\n",
       "      <td>1</td>\n",
       "      <td>3</td>\n",
       "      <td>0</td>\n",
       "      <td>223</td>\n",
       "      <td>8.9</td>\n",
       "      <td>10.5</td>\n",
       "      <td>2.91</td>\n",
       "      <td>12.12</td>\n",
       "      <td>7.29</td>\n",
       "      <td>298</td>\n",
       "      <td>1011.8</td>\n",
       "      <td>11.5</td>\n",
       "      <td>13.8</td>\n",
       "      <td>999.0</td>\n",
       "      <td>99.0</td>\n",
       "      <td>99.0</td>\n",
       "      <td>NaN</td>\n",
       "    </tr>\n",
       "    <tr>\n",
       "      <th>4</th>\n",
       "      <td>2005</td>\n",
       "      <td>1</td>\n",
       "      <td>1</td>\n",
       "      <td>4</td>\n",
       "      <td>0</td>\n",
       "      <td>215</td>\n",
       "      <td>8.4</td>\n",
       "      <td>10.9</td>\n",
       "      <td>2.77</td>\n",
       "      <td>12.9</td>\n",
       "      <td>7.16</td>\n",
       "      <td>294</td>\n",
       "      <td>1012.1</td>\n",
       "      <td>12.1</td>\n",
       "      <td>13.8</td>\n",
       "      <td>999.0</td>\n",
       "      <td>99.0</td>\n",
       "      <td>99.0</td>\n",
       "      <td>NaN</td>\n",
       "    </tr>\n",
       "  </tbody>\n",
       "</table>\n",
       "</div>"
      ],
      "text/plain": [
       "   year month day hour minute wdir wspd   gst  wvht    dpd   apd  mwd    pres  \\\n",
       "0  2005     1   1    0      0  216  7.4   8.6   2.8   12.9  7.83  293  1011.8   \n",
       "1  2005     1   1    1      0  198  8.1   9.3  2.84  12.12  7.74  292  1011.6   \n",
       "2  2005     1   1    2      0  206  8.4  10.1  2.94   12.9  7.62  288  1011.5   \n",
       "3  2005     1   1    3      0  223  8.9  10.5  2.91  12.12  7.29  298  1011.8   \n",
       "4  2005     1   1    4      0  215  8.4  10.9  2.77   12.9  7.16  294  1012.1   \n",
       "\n",
       "   atmp  wtmp   dewp   vis  ptdy  tide  \n",
       "0  12.4  13.8  999.0  99.0  99.0   NaN  \n",
       "1  12.3  13.8  999.0  99.0  99.0   NaN  \n",
       "2  12.6  13.8  999.0  99.0  99.0   NaN  \n",
       "3  11.5  13.8  999.0  99.0  99.0   NaN  \n",
       "4  12.1  13.8  999.0  99.0  99.0   NaN  "
      ]
     },
     "execution_count": 12,
     "metadata": {},
     "output_type": "execute_result"
    }
   ],
   "source": [
    "dfs2 = []\n",
    "for year in range(2005, 2023):\n",
    "    url = url_template.format(year=year)\n",
    "    df2 = pd.read_csv(url, delim_whitespace=True, skiprows=1, header=None, names=['year', 'month', 'day', 'hour', 'minute', 'wdir', 'wspd', 'gst', 'wvht', 'dpd', 'apd', 'mwd', 'pres', 'atmp', 'wtmp', 'dewp', 'vis', 'ptdy', 'tide'])\n",
    "    dfs2.append(df2)\n",
    "\n",
    "df2 = pd.concat(dfs2, ignore_index=True)\n",
    "\n",
    "# print the 2000 - 2005 range\n",
    "df2.head()"
   ]
  },
  {
   "cell_type": "code",
   "execution_count": 13,
   "id": "1c06d5fe",
   "metadata": {},
   "outputs": [
    {
     "name": "stdout",
     "output_type": "stream",
     "text": [
      "   year month day hour wdir wspd  gst  wvht   dpd   apd  mwd    pres  atmp  \\\n",
      "0  2000     1   1    0  297  4.9  6.1  1.22  7.14  5.68  323  1017.4  11.0   \n",
      "1  2000     1   1    1  305  5.2  6.4  1.33  6.67   5.6  320  1017.6  11.1   \n",
      "2  2000     1   1    2  302  5.5  6.7  1.29  7.14  5.41  324  1018.1  11.2   \n",
      "3  2000     1   1    3  304  2.4  3.1  1.22  7.14   5.7  320  1018.1  11.3   \n",
      "4  2000     1   1    4  292  4.7  6.1  1.27  6.67   5.9  321  1018.5  11.5   \n",
      "\n",
      "   wtmp dewp   vis ptdy  tide minute  \n",
      "0  11.6  6.5  99.0  NaN   NaN    NaN  \n",
      "1  11.7  6.7  99.0  NaN   NaN    NaN  \n",
      "2  11.6  6.7  99.0  NaN   NaN    NaN  \n",
      "3  11.6  6.6  99.0  NaN   NaN    NaN  \n",
      "4  11.6  7.2  99.0  NaN   NaN    NaN  \n"
     ]
    }
   ],
   "source": [
    "data_list = [df, df2]\n",
    "data_list = pd.concat(data_list, ignore_index=True)\n",
    "print(data_list.head())"
   ]
  },
  {
   "cell_type": "code",
   "execution_count": 15,
   "id": "5e3e44f4",
   "metadata": {},
   "outputs": [
    {
     "data": {
      "text/html": [
       "<div>\n",
       "<style scoped>\n",
       "    .dataframe tbody tr th:only-of-type {\n",
       "        vertical-align: middle;\n",
       "    }\n",
       "\n",
       "    .dataframe tbody tr th {\n",
       "        vertical-align: top;\n",
       "    }\n",
       "\n",
       "    .dataframe thead th {\n",
       "        text-align: right;\n",
       "    }\n",
       "</style>\n",
       "<table border=\"1\" class=\"dataframe\">\n",
       "  <thead>\n",
       "    <tr style=\"text-align: right;\">\n",
       "      <th></th>\n",
       "      <th>year</th>\n",
       "      <th>month</th>\n",
       "      <th>day</th>\n",
       "      <th>hour</th>\n",
       "      <th>wdir</th>\n",
       "      <th>wspd</th>\n",
       "      <th>gst</th>\n",
       "      <th>wvht</th>\n",
       "      <th>dpd</th>\n",
       "      <th>apd</th>\n",
       "      <th>mwd</th>\n",
       "      <th>pres</th>\n",
       "      <th>atmp</th>\n",
       "      <th>wtmp</th>\n",
       "      <th>dewp</th>\n",
       "      <th>vis</th>\n",
       "      <th>ptdy</th>\n",
       "      <th>tide</th>\n",
       "      <th>minute</th>\n",
       "    </tr>\n",
       "  </thead>\n",
       "  <tbody>\n",
       "    <tr>\n",
       "      <th>0</th>\n",
       "      <td>2000</td>\n",
       "      <td>1</td>\n",
       "      <td>1</td>\n",
       "      <td>0</td>\n",
       "      <td>297</td>\n",
       "      <td>4.9</td>\n",
       "      <td>6.1</td>\n",
       "      <td>1.22</td>\n",
       "      <td>7.14</td>\n",
       "      <td>5.68</td>\n",
       "      <td>323</td>\n",
       "      <td>1017.4</td>\n",
       "      <td>11.0</td>\n",
       "      <td>11.6</td>\n",
       "      <td>6.5</td>\n",
       "      <td>99.0</td>\n",
       "      <td>NaN</td>\n",
       "      <td>NaN</td>\n",
       "      <td>NaN</td>\n",
       "    </tr>\n",
       "    <tr>\n",
       "      <th>1</th>\n",
       "      <td>2000</td>\n",
       "      <td>1</td>\n",
       "      <td>1</td>\n",
       "      <td>1</td>\n",
       "      <td>305</td>\n",
       "      <td>5.2</td>\n",
       "      <td>6.4</td>\n",
       "      <td>1.33</td>\n",
       "      <td>6.67</td>\n",
       "      <td>5.6</td>\n",
       "      <td>320</td>\n",
       "      <td>1017.6</td>\n",
       "      <td>11.1</td>\n",
       "      <td>11.7</td>\n",
       "      <td>6.7</td>\n",
       "      <td>99.0</td>\n",
       "      <td>NaN</td>\n",
       "      <td>NaN</td>\n",
       "      <td>NaN</td>\n",
       "    </tr>\n",
       "    <tr>\n",
       "      <th>2</th>\n",
       "      <td>2000</td>\n",
       "      <td>1</td>\n",
       "      <td>1</td>\n",
       "      <td>2</td>\n",
       "      <td>302</td>\n",
       "      <td>5.5</td>\n",
       "      <td>6.7</td>\n",
       "      <td>1.29</td>\n",
       "      <td>7.14</td>\n",
       "      <td>5.41</td>\n",
       "      <td>324</td>\n",
       "      <td>1018.1</td>\n",
       "      <td>11.2</td>\n",
       "      <td>11.6</td>\n",
       "      <td>6.7</td>\n",
       "      <td>99.0</td>\n",
       "      <td>NaN</td>\n",
       "      <td>NaN</td>\n",
       "      <td>NaN</td>\n",
       "    </tr>\n",
       "    <tr>\n",
       "      <th>3</th>\n",
       "      <td>2000</td>\n",
       "      <td>1</td>\n",
       "      <td>1</td>\n",
       "      <td>3</td>\n",
       "      <td>304</td>\n",
       "      <td>2.4</td>\n",
       "      <td>3.1</td>\n",
       "      <td>1.22</td>\n",
       "      <td>7.14</td>\n",
       "      <td>5.7</td>\n",
       "      <td>320</td>\n",
       "      <td>1018.1</td>\n",
       "      <td>11.3</td>\n",
       "      <td>11.6</td>\n",
       "      <td>6.6</td>\n",
       "      <td>99.0</td>\n",
       "      <td>NaN</td>\n",
       "      <td>NaN</td>\n",
       "      <td>NaN</td>\n",
       "    </tr>\n",
       "    <tr>\n",
       "      <th>4</th>\n",
       "      <td>2000</td>\n",
       "      <td>1</td>\n",
       "      <td>1</td>\n",
       "      <td>4</td>\n",
       "      <td>292</td>\n",
       "      <td>4.7</td>\n",
       "      <td>6.1</td>\n",
       "      <td>1.27</td>\n",
       "      <td>6.67</td>\n",
       "      <td>5.9</td>\n",
       "      <td>321</td>\n",
       "      <td>1018.5</td>\n",
       "      <td>11.5</td>\n",
       "      <td>11.6</td>\n",
       "      <td>7.2</td>\n",
       "      <td>99.0</td>\n",
       "      <td>NaN</td>\n",
       "      <td>NaN</td>\n",
       "      <td>NaN</td>\n",
       "    </tr>\n",
       "    <tr>\n",
       "      <th>...</th>\n",
       "      <td>...</td>\n",
       "      <td>...</td>\n",
       "      <td>...</td>\n",
       "      <td>...</td>\n",
       "      <td>...</td>\n",
       "      <td>...</td>\n",
       "      <td>...</td>\n",
       "      <td>...</td>\n",
       "      <td>...</td>\n",
       "      <td>...</td>\n",
       "      <td>...</td>\n",
       "      <td>...</td>\n",
       "      <td>...</td>\n",
       "      <td>...</td>\n",
       "      <td>...</td>\n",
       "      <td>...</td>\n",
       "      <td>...</td>\n",
       "      <td>...</td>\n",
       "      <td>...</td>\n",
       "    </tr>\n",
       "    <tr>\n",
       "      <th>335800</th>\n",
       "      <td>2022</td>\n",
       "      <td>12</td>\n",
       "      <td>31</td>\n",
       "      <td>23</td>\n",
       "      <td>297</td>\n",
       "      <td>10.4</td>\n",
       "      <td>15.2</td>\n",
       "      <td>99.0</td>\n",
       "      <td>99.0</td>\n",
       "      <td>99.0</td>\n",
       "      <td>999</td>\n",
       "      <td>1001.6</td>\n",
       "      <td>12.2</td>\n",
       "      <td>999.0</td>\n",
       "      <td>999.0</td>\n",
       "      <td>99.0</td>\n",
       "      <td>99.0</td>\n",
       "      <td>NaN</td>\n",
       "      <td>10</td>\n",
       "    </tr>\n",
       "    <tr>\n",
       "      <th>335801</th>\n",
       "      <td>2022</td>\n",
       "      <td>12</td>\n",
       "      <td>31</td>\n",
       "      <td>23</td>\n",
       "      <td>296</td>\n",
       "      <td>11.9</td>\n",
       "      <td>15.5</td>\n",
       "      <td>99.0</td>\n",
       "      <td>99.0</td>\n",
       "      <td>99.0</td>\n",
       "      <td>999</td>\n",
       "      <td>1001.5</td>\n",
       "      <td>12.2</td>\n",
       "      <td>999.0</td>\n",
       "      <td>999.0</td>\n",
       "      <td>99.0</td>\n",
       "      <td>99.0</td>\n",
       "      <td>NaN</td>\n",
       "      <td>20</td>\n",
       "    </tr>\n",
       "    <tr>\n",
       "      <th>335802</th>\n",
       "      <td>2022</td>\n",
       "      <td>12</td>\n",
       "      <td>31</td>\n",
       "      <td>23</td>\n",
       "      <td>302</td>\n",
       "      <td>13.0</td>\n",
       "      <td>17.9</td>\n",
       "      <td>99.0</td>\n",
       "      <td>99.0</td>\n",
       "      <td>99.0</td>\n",
       "      <td>999</td>\n",
       "      <td>1001.3</td>\n",
       "      <td>12.3</td>\n",
       "      <td>999.0</td>\n",
       "      <td>999.0</td>\n",
       "      <td>99.0</td>\n",
       "      <td>99.0</td>\n",
       "      <td>NaN</td>\n",
       "      <td>30</td>\n",
       "    </tr>\n",
       "    <tr>\n",
       "      <th>335803</th>\n",
       "      <td>2022</td>\n",
       "      <td>12</td>\n",
       "      <td>31</td>\n",
       "      <td>23</td>\n",
       "      <td>307</td>\n",
       "      <td>13.5</td>\n",
       "      <td>18.4</td>\n",
       "      <td>3.86</td>\n",
       "      <td>12.9</td>\n",
       "      <td>7.17</td>\n",
       "      <td>272</td>\n",
       "      <td>1001.2</td>\n",
       "      <td>12.3</td>\n",
       "      <td>999.0</td>\n",
       "      <td>999.0</td>\n",
       "      <td>99.0</td>\n",
       "      <td>99.0</td>\n",
       "      <td>NaN</td>\n",
       "      <td>40</td>\n",
       "    </tr>\n",
       "    <tr>\n",
       "      <th>335804</th>\n",
       "      <td>2022</td>\n",
       "      <td>12</td>\n",
       "      <td>31</td>\n",
       "      <td>23</td>\n",
       "      <td>304</td>\n",
       "      <td>14.4</td>\n",
       "      <td>19.7</td>\n",
       "      <td>99.0</td>\n",
       "      <td>99.0</td>\n",
       "      <td>99.0</td>\n",
       "      <td>999</td>\n",
       "      <td>1001.0</td>\n",
       "      <td>12.1</td>\n",
       "      <td>12.5</td>\n",
       "      <td>999.0</td>\n",
       "      <td>99.0</td>\n",
       "      <td>99.0</td>\n",
       "      <td>NaN</td>\n",
       "      <td>50</td>\n",
       "    </tr>\n",
       "  </tbody>\n",
       "</table>\n",
       "<p>335805 rows × 19 columns</p>\n",
       "</div>"
      ],
      "text/plain": [
       "        year month day hour wdir  wspd   gst  wvht   dpd   apd  mwd    pres  \\\n",
       "0       2000     1   1    0  297   4.9   6.1  1.22  7.14  5.68  323  1017.4   \n",
       "1       2000     1   1    1  305   5.2   6.4  1.33  6.67   5.6  320  1017.6   \n",
       "2       2000     1   1    2  302   5.5   6.7  1.29  7.14  5.41  324  1018.1   \n",
       "3       2000     1   1    3  304   2.4   3.1  1.22  7.14   5.7  320  1018.1   \n",
       "4       2000     1   1    4  292   4.7   6.1  1.27  6.67   5.9  321  1018.5   \n",
       "...      ...   ...  ..  ...  ...   ...   ...   ...   ...   ...  ...     ...   \n",
       "335800  2022    12  31   23  297  10.4  15.2  99.0  99.0  99.0  999  1001.6   \n",
       "335801  2022    12  31   23  296  11.9  15.5  99.0  99.0  99.0  999  1001.5   \n",
       "335802  2022    12  31   23  302  13.0  17.9  99.0  99.0  99.0  999  1001.3   \n",
       "335803  2022    12  31   23  307  13.5  18.4  3.86  12.9  7.17  272  1001.2   \n",
       "335804  2022    12  31   23  304  14.4  19.7  99.0  99.0  99.0  999  1001.0   \n",
       "\n",
       "        atmp   wtmp   dewp   vis  ptdy  tide minute  \n",
       "0       11.0   11.6    6.5  99.0   NaN   NaN    NaN  \n",
       "1       11.1   11.7    6.7  99.0   NaN   NaN    NaN  \n",
       "2       11.2   11.6    6.7  99.0   NaN   NaN    NaN  \n",
       "3       11.3   11.6    6.6  99.0   NaN   NaN    NaN  \n",
       "4       11.5   11.6    7.2  99.0   NaN   NaN    NaN  \n",
       "...      ...    ...    ...   ...   ...   ...    ...  \n",
       "335800  12.2  999.0  999.0  99.0  99.0   NaN     10  \n",
       "335801  12.2  999.0  999.0  99.0  99.0   NaN     20  \n",
       "335802  12.3  999.0  999.0  99.0  99.0   NaN     30  \n",
       "335803  12.3  999.0  999.0  99.0  99.0   NaN     40  \n",
       "335804  12.1   12.5  999.0  99.0  99.0   NaN     50  \n",
       "\n",
       "[335805 rows x 19 columns]"
      ]
     },
     "execution_count": 15,
     "metadata": {},
     "output_type": "execute_result"
    }
   ],
   "source": [
    "data_list"
   ]
  },
  {
   "cell_type": "code",
   "execution_count": 31,
   "id": "36b335c0",
   "metadata": {},
   "outputs": [
    {
     "name": "stderr",
     "output_type": "stream",
     "text": [
      "/var/folders/4l/gn64yzcd6938cphmlv0bpkj80000gn/T/ipykernel_4593/2384224802.py:8: SettingWithCopyWarning: \n",
      "A value is trying to be set on a copy of a slice from a DataFrame.\n",
      "Try using .loc[row_indexer,col_indexer] = value instead\n",
      "\n",
      "See the caveats in the documentation: https://pandas.pydata.org/pandas-docs/stable/user_guide/indexing.html#returning-a-view-versus-a-copy\n",
      "  data_clean['time'] = pd.to_datetime(data_clean[date_cols])\n",
      "/Users/dylan/opt/anaconda3/envs/geo2023spring/lib/python3.8/site-packages/pandas/core/frame.py:4901: SettingWithCopyWarning: \n",
      "A value is trying to be set on a copy of a slice from a DataFrame\n",
      "\n",
      "See the caveats in the documentation: https://pandas.pydata.org/pandas-docs/stable/user_guide/indexing.html#returning-a-view-versus-a-copy\n",
      "  return super().drop(\n"
     ]
    },
    {
     "name": "stdout",
     "output_type": "stream",
     "text": [
      "                    wdir   wvht   dpd   apd  mwd   wtmp minute\n",
      "time                                                          \n",
      "2000-01-01 00:00:00  297   1.22  7.14  5.68  323   11.6    NaN\n",
      "2000-01-01 01:00:00  305   1.33  6.67   5.6  320   11.7    NaN\n",
      "2000-01-01 02:00:00  302   1.29  7.14  5.41  324   11.6    NaN\n",
      "2000-01-01 03:00:00  304   1.22  7.14   5.7  320   11.6    NaN\n",
      "2000-01-01 04:00:00  292   1.27  6.67   5.9  321   11.6    NaN\n",
      "...                  ...    ...   ...   ...  ...    ...    ...\n",
      "2022-12-31 23:00:00  297  99.00  99.0  99.0  999  999.0     10\n",
      "2022-12-31 23:00:00  296  99.00  99.0  99.0  999  999.0     20\n",
      "2022-12-31 23:00:00  302  99.00  99.0  99.0  999  999.0     30\n",
      "2022-12-31 23:00:00  307   3.86  12.9  7.17  272  999.0     40\n",
      "2022-12-31 23:00:00  304  99.00  99.0  99.0  999   12.5     50\n",
      "\n",
      "[335789 rows x 7 columns]\n"
     ]
    },
    {
     "name": "stderr",
     "output_type": "stream",
     "text": [
      "/var/folders/4l/gn64yzcd6938cphmlv0bpkj80000gn/T/ipykernel_4593/2384224802.py:13: SettingWithCopyWarning: \n",
      "A value is trying to be set on a copy of a slice from a DataFrame.\n",
      "Try using .loc[row_indexer,col_indexer] = value instead\n",
      "\n",
      "See the caveats in the documentation: https://pandas.pydata.org/pandas-docs/stable/user_guide/indexing.html#returning-a-view-versus-a-copy\n",
      "  data_clean['wvht']= data_clean['wvht'].astype(float)\n"
     ]
    }
   ],
   "source": [
    "# need to get rid of strings \n",
    "data_clean = data_list[data_list['wvht'] != 'm']\n",
    "# data_clean\n",
    "\n",
    "# to date time\n",
    "\n",
    "date_cols = ['year','month','day','hour']\n",
    "data_clean['time'] = pd.to_datetime(data_clean[date_cols])\n",
    "data_clean.set_index('time',inplace=True)\n",
    "data_clean.drop(date_cols,axis=1,inplace=True)\n",
    "cols_to_drop = ['pres','atmp','dewp','vis','ptdy','tide','wspd','gst']\n",
    "data_clean.drop(cols_to_drop,axis=1,inplace=True)\n",
    "data_clean['wvht'] = data_clean['wvht'].astype(float)\n",
    "print(data_clean)"
   ]
  },
  {
   "cell_type": "code",
   "execution_count": 36,
   "id": "0cb8189b",
   "metadata": {},
   "outputs": [
    {
     "data": {
      "text/plain": [
       "44.134588953181904"
      ]
     },
     "execution_count": 36,
     "metadata": {},
     "output_type": "execute_result"
    }
   ],
   "source": [
    "data_clean.wvht.mean()\n",
    "# data_clean.wdir.max()"
   ]
  },
  {
   "cell_type": "code",
   "execution_count": 41,
   "id": "6c779709",
   "metadata": {},
   "outputs": [
    {
     "data": {
      "text/plain": [
       "288.6784141231547"
      ]
     },
     "execution_count": 41,
     "metadata": {},
     "output_type": "execute_result"
    }
   ],
   "source": [
    "data_clean.wdir = data_clean['wdir'].astype(float)\n",
    "data_clean.wdir.mean()"
   ]
  },
  {
   "cell_type": "code",
   "execution_count": 44,
   "id": "96cead49",
   "metadata": {},
   "outputs": [
    {
     "data": {
      "text/plain": [
       "[<matplotlib.lines.Line2D at 0x7fb6a63ec2b0>]"
      ]
     },
     "execution_count": 44,
     "metadata": {},
     "output_type": "execute_result"
    },
    {
     "data": {
      "image/png": "[encoded data removed]",
      "text/plain": [
       "<Figure size 432x288 with 1 Axes>"
      ]
     },
     "metadata": {
      "needs_background": "light"
     },
     "output_type": "display_data"
    }
   ],
   "source": [
    "plt.plot(data_clean.wvht)"
   ]
  },
  {
   "cell_type": "code",
   "execution_count": 56,
   "id": "15658bbe",
   "metadata": {},
   "outputs": [
    {
     "name": "stdout",
     "output_type": "stream",
     "text": [
      "(190318, 7)\n"
     ]
    }
   ],
   "source": [
    "#remove bad values === 99.0\n",
    "data = data_clean.loc[data_clean[\"wvht\"] < 98]\n",
    "print(data.shape)"
   ]
  },
  {
   "cell_type": "code",
   "execution_count": 57,
   "id": "46ef7a74",
   "metadata": {},
   "outputs": [
    {
     "data": {
      "text/plain": [
       "[<matplotlib.lines.Line2D at 0x7fb6c4cbdf10>]"
      ]
     },
     "execution_count": 57,
     "metadata": {},
     "output_type": "execute_result"
    },
    {
     "data": {
      "image/png": "[encoded data removed]",
      "text/plain": [
       "<Figure size 432x288 with 1 Axes>"
      ]
     },
     "metadata": {
      "needs_background": "light"
     },
     "output_type": "display_data"
    }
   ],
   "source": [
    "plt.plot(data.wvht)"
   ]
  },
  {
   "cell_type": "code",
   "execution_count": 59,
   "id": "086dddf8",
   "metadata": {},
   "outputs": [],
   "source": [
    "# save as local csv\n",
    "data.to_csv('data_new.txt', sep='\\t')"
   ]
  },
  {
   "cell_type": "code",
   "execution_count": null,
   "id": "d41d027b",
   "metadata": {},
   "outputs": [],
   "source": []
  },
  {
   "cell_type": "code",
   "execution_count": null,
   "id": "1bd2bc6c",
   "metadata": {},
   "outputs": [],
   "source": []
  },
  {
   "cell_type": "code",
   "execution_count": null,
   "id": "f882050f",
   "metadata": {},
   "outputs": [],
   "source": []
  },
  {
   "cell_type": "code",
   "execution_count": null,
   "id": "572a9fde",
   "metadata": {},
   "outputs": [],
   "source": []
  },
  {
   "cell_type": "code",
   "execution_count": null,
   "id": "89460ecb",
   "metadata": {},
   "outputs": [],
   "source": [
    "####### sort out bad values\n",
    "df_new = df[df['wvht'] != 99.0]\n",
    "#\n",
    "df_new = df[df['wvht'] != 99.00]\n",
    "#\n",
    "df_new_2 = df_new[df_new['wvht'] != 'm']\n",
    "df_new_2\n",
    "print(df_new_2.head())"
   ]
  },
  {
   "cell_type": "code",
   "execution_count": null,
   "id": "a521e093",
   "metadata": {},
   "outputs": [],
   "source": [
    "# df_new_2.to_csv('data2.txt', sep='\\t') # now i want to have a datetime as index"
   ]
  },
  {
   "cell_type": "code",
   "execution_count": null,
   "id": "ef71a6c0",
   "metadata": {},
   "outputs": [],
   "source": [
    "df_new_2.columns"
   ]
  },
  {
   "cell_type": "code",
   "execution_count": null,
   "id": "6f483425",
   "metadata": {},
   "outputs": [],
   "source": [
    "date_cols = ['year','month','day','hour','minute']\n",
    "df_new_2['datetime'] = pd.to_datetime(df_new_2[date_cols])\n",
    "df_new_2.set_index('datetime',inplace=True)\n",
    "df_new_2.drop(date_cols,axis=1,inplace=True)\n",
    "# df_new_2.set_index('datetime',inplace=True)\n",
    "# df_new_2.drop(date_cols,axis=1,inplace=True)\n",
    "\n",
    "print(df_new_2)"
   ]
  },
  {
   "cell_type": "code",
   "execution_count": null,
   "id": "58294b18",
   "metadata": {},
   "outputs": [],
   "source": [
    "cols_to_drop = ['pres','atmp','dewp','vis','ptdy','tide','wdir','wspd','gst']\n",
    "df_new_2.drop(cols_to_drop,axis=1,inplace=True)\n",
    "print(df_new_2)"
   ]
  },
  {
   "cell_type": "code",
   "execution_count": null,
   "id": "2c100701",
   "metadata": {},
   "outputs": [],
   "source": [
    "print(df_new_2)"
   ]
  },
  {
   "cell_type": "code",
   "execution_count": null,
   "id": "83a01c7d",
   "metadata": {},
   "outputs": [],
   "source": [
    "plt.plot(df_new_2.loc['2008']['wvht']) #"
   ]
  },
  {
   "cell_type": "code",
   "execution_count": null,
   "id": "1429904f",
   "metadata": {},
   "outputs": [],
   "source": [
    "# plt.plot(df_new_2.wvht)"
   ]
  },
  {
   "cell_type": "code",
   "execution_count": null,
   "id": "6b238982",
   "metadata": {},
   "outputs": [],
   "source": [
    "df_new_2.describe()"
   ]
  },
  {
   "cell_type": "code",
   "execution_count": null,
   "id": "e7133069",
   "metadata": {},
   "outputs": [],
   "source": [
    "df_new_2.loc['2008']"
   ]
  },
  {
   "cell_type": "code",
   "execution_count": null,
   "id": "00baf978",
   "metadata": {},
   "outputs": [],
   "source": [
    "df2 = df_new_2"
   ]
  },
  {
   "cell_type": "code",
   "execution_count": null,
   "id": "75ee9c75",
   "metadata": {},
   "outputs": [],
   "source": [
    "df2"
   ]
  },
  {
   "cell_type": "code",
   "execution_count": null,
   "id": "6e3a2f5b",
   "metadata": {},
   "outputs": [],
   "source": [
    "# df2['wvht']= df2['wvht'].astype(float)\n",
    "df2['wvht']= df2['wvht'].astype(float)\n",
    "df2['wvht'].plot(figsize=(14,6))"
   ]
  },
  {
   "cell_type": "code",
   "execution_count": null,
   "id": "7173f502",
   "metadata": {},
   "outputs": [],
   "source": [
    "df2['wvht'].loc['2008']"
   ]
  },
  {
   "cell_type": "code",
   "execution_count": null,
   "id": "eb191d0c",
   "metadata": {},
   "outputs": [],
   "source": [
    "df2.describe()"
   ]
  },
  {
   "cell_type": "code",
   "execution_count": null,
   "id": "96eef018",
   "metadata": {},
   "outputs": [],
   "source": [
    "fig, ax = plt.subplots(figsize=(14,6))\n",
    "\n",
    "ax.plot(df2.index,df2['wvht'])\n",
    "ax.set_xlabel(df2.index.name)\n",
    "ax.set_ylabel('wvht')"
   ]
  },
  {
   "cell_type": "code",
   "execution_count": null,
   "id": "0d94b7dc",
   "metadata": {},
   "outputs": [],
   "source": [
    "df2.to_csv('data2.txt', sep='\\t')"
   ]
  },
  {
   "cell_type": "code",
   "execution_count": null,
   "id": "51258f59",
   "metadata": {},
   "outputs": [],
   "source": [
    "print(df2.shape)\n",
    "data = df2.loc[df2[\"wvht\"] < 50]\n",
    "print(data.shape)"
   ]
  },
  {
   "cell_type": "code",
   "execution_count": null,
   "id": "4bd18384",
   "metadata": {},
   "outputs": [],
   "source": [
    "fig, ax = plt.subplots(figsize=(14,6))\n",
    "\n",
    "ax.plot(data.index,data['wvht'])\n",
    "ax.set_xlabel(data.index.name)\n",
    "ax.set_ylabel('wvht')"
   ]
  },
  {
   "cell_type": "code",
   "execution_count": null,
   "id": "cb170a11",
   "metadata": {},
   "outputs": [],
   "source": [
    "data.to_csv('data2.txt', sep='\\t')"
   ]
  },
  {
   "cell_type": "code",
   "execution_count": null,
   "id": "54c61aca",
   "metadata": {},
   "outputs": [],
   "source": [
    "# change yr 2000 to 2000"
   ]
  }
 ],
 "metadata": {
  "kernelspec": {
   "display_name": "Python 3 (ipykernel)",
   "language": "python",
   "name": "python3"
  },
  "language_info": {
   "codemirror_mode": {
    "name": "ipython",
    "version": 3
   },
   "file_extension": ".py",
   "mimetype": "text/x-python",
   "name": "python",
   "nbconvert_exporter": "python",
   "pygments_lexer": "ipython3",
   "version": "3.8.10"
  }
 },
 "nbformat": 4,
 "nbformat_minor": 5
}
