{
 "cells": [
  {
   "cell_type": "markdown",
   "id": "3349508f",
   "metadata": {},
   "source": [
    "'''\n",
    "MONTEREY BAY BUOY DATA\n",
    "\n",
    "Small coastal towns this winter in California like Santa Cruz were heavily affected by large swells \n",
    "combined with record-breaking precipitaion. 2/3 of the piers in Santa Cruz county were destroyed this last \n",
    "winter. Because of the revenue coastal areas generate, it's important for city planners and \n",
    "government agencies to understand the implications that may come from extreme ocean weather events \n",
    "and to predict the frequency of these events.\n",
    "\n",
    "The question is: Could we have anticipated this?\n",
    "\n",
    "Climate change predicts an increase in the frequency of extreme events. Using historical buoy data nearshore \n",
    "in Central California are we...\n",
    "1. Observing an increase in wave height?\n",
    "2. Observing an increase in the number of days that swell exceeds 15ft (high surf advisory)?\n",
    "3. What direction are these damaging swells coming from, what other properties are associated with them? Wind?\n",
    "4. What's going on with SST at this location? Is it matching with the global increase average air temperature?\n",
    "5. Predicting frequency of swell events above 15ft into future?\n",
    "6. Predicting water temperature into the future?\n",
    "7. Cartopy map of the buoy location using lat and lon. \n",
    "8. Change in mean wave direction?\n",
    "\n",
    "Are we seeing a change in sea surface temperature that matches the increase in air temperature?\n",
    "\n",
    "7.cartopy map of the buoy location using the lat,lons. !\n",
    "\n",
    "is mean wave direction changing?? aka storm track? swell track??\n",
    "\n",
    "'''"
   ]
  },
  {
   "cell_type": "code",
   "execution_count": 1,
   "id": "32086570",
   "metadata": {},
   "outputs": [],
   "source": [
    "import numpy as np\n",
    "import numpy.ma as ma\n",
    "import pandas as pd\n",
    "import matplotlib as mpl\n",
    "import matplotlib.pyplot as plt\n",
    "%matplotlib inline\n",
    "import cartopy\n",
    "import cartopy.crs as ccrs \n",
    "import cartopy.feature as cfeature\n",
    "from cartopy.mpl.gridliner import LONGITUDE_FORMATTER, LATITUDE_FORMATTER\n",
    "from shapely.geometry import Point, LineString\n",
    "import geopandas as gpd\n",
    "from matplotlib.ticker import AutoMinorLocator"
   ]
  },
  {
   "cell_type": "code",
   "execution_count": null,
   "id": "95254208",
   "metadata": {},
   "outputs": [],
   "source": [
    "# 46092 = Monterey Bay # 2005 - 2023\n",
    "\n",
    "# Station 46042 (LLNR 297) - MONTEREY - 27NM WNW of Monterey, CA\n",
    "# Owned and maintained by National Data Buoy Center\n",
    "## time_period = range(1987, 2022)\n",
    "# 36.785 N 122.396 W (36°47'5\" N 122°23'46\" W)\n",
    "#99.0 = error for wvht and 999.0 = error for wtmp\n",
    "# filter out rows with those\n"
   ]
  },
  {
   "cell_type": "markdown",
   "id": "cefd52ba",
   "metadata": {},
   "source": []
  },
  {
   "cell_type": "code",
   "execution_count": 2,
   "id": "8097b1e1",
   "metadata": {},
   "outputs": [
    {
     "name": "stderr",
     "output_type": "stream",
     "text": [
      "/Users/dylan/opt/anaconda3/envs/geo2023spring/lib/python3.8/site-packages/IPython/core/interactiveshell.py:3441: DtypeWarning: Columns (0,1,2,3,4,5,6,7,8,9,10,11,12,13,14,15,16,17) have mixed types.Specify dtype option on import or set low_memory=False.\n",
      "  exec(code_obj, self.user_global_ns, self.user_ns)\n"
     ]
    },
    {
     "data": {
      "text/html": [
       "<div>\n",
       "<style scoped>\n",
       "    .dataframe tbody tr th:only-of-type {\n",
       "        vertical-align: middle;\n",
       "    }\n",
       "\n",
       "    .dataframe tbody tr th {\n",
       "        vertical-align: top;\n",
       "    }\n",
       "\n",
       "    .dataframe thead th {\n",
       "        text-align: right;\n",
       "    }\n",
       "</style>\n",
       "<table border=\"1\" class=\"dataframe\">\n",
       "  <thead>\n",
       "    <tr style=\"text-align: right;\">\n",
       "      <th></th>\n",
       "      <th>year</th>\n",
       "      <th>month</th>\n",
       "      <th>day</th>\n",
       "      <th>hour</th>\n",
       "      <th>minute</th>\n",
       "      <th>wdir</th>\n",
       "      <th>wspd</th>\n",
       "      <th>gst</th>\n",
       "      <th>wvht</th>\n",
       "      <th>dpd</th>\n",
       "      <th>apd</th>\n",
       "      <th>mwd</th>\n",
       "      <th>pres</th>\n",
       "      <th>atmp</th>\n",
       "      <th>wtmp</th>\n",
       "      <th>dewp</th>\n",
       "      <th>vis</th>\n",
       "      <th>ptdy</th>\n",
       "      <th>tide</th>\n",
       "    </tr>\n",
       "  </thead>\n",
       "  <tbody>\n",
       "    <tr>\n",
       "      <th>0</th>\n",
       "      <td>88</td>\n",
       "      <td>1</td>\n",
       "      <td>1</td>\n",
       "      <td>1</td>\n",
       "      <td>10</td>\n",
       "      <td>3.0</td>\n",
       "      <td>4.0</td>\n",
       "      <td>1.7</td>\n",
       "      <td>10.0</td>\n",
       "      <td>7.4</td>\n",
       "      <td>999</td>\n",
       "      <td>1025.3</td>\n",
       "      <td>9.5</td>\n",
       "      <td>11.8</td>\n",
       "      <td>999.0</td>\n",
       "      <td>99.0</td>\n",
       "      <td>NaN</td>\n",
       "      <td>NaN</td>\n",
       "      <td>NaN</td>\n",
       "    </tr>\n",
       "    <tr>\n",
       "      <th>1</th>\n",
       "      <td>88</td>\n",
       "      <td>1</td>\n",
       "      <td>1</td>\n",
       "      <td>2</td>\n",
       "      <td>360</td>\n",
       "      <td>3.0</td>\n",
       "      <td>4.0</td>\n",
       "      <td>1.5</td>\n",
       "      <td>9.1</td>\n",
       "      <td>7.2</td>\n",
       "      <td>999</td>\n",
       "      <td>1025.5</td>\n",
       "      <td>9.4</td>\n",
       "      <td>11.8</td>\n",
       "      <td>999.0</td>\n",
       "      <td>99.0</td>\n",
       "      <td>NaN</td>\n",
       "      <td>NaN</td>\n",
       "      <td>NaN</td>\n",
       "    </tr>\n",
       "    <tr>\n",
       "      <th>2</th>\n",
       "      <td>88</td>\n",
       "      <td>1</td>\n",
       "      <td>1</td>\n",
       "      <td>3</td>\n",
       "      <td>50</td>\n",
       "      <td>6.0</td>\n",
       "      <td>7.0</td>\n",
       "      <td>1.6</td>\n",
       "      <td>10.0</td>\n",
       "      <td>7.0</td>\n",
       "      <td>999</td>\n",
       "      <td>1025.5</td>\n",
       "      <td>9.5</td>\n",
       "      <td>11.8</td>\n",
       "      <td>999.0</td>\n",
       "      <td>99.0</td>\n",
       "      <td>NaN</td>\n",
       "      <td>NaN</td>\n",
       "      <td>NaN</td>\n",
       "    </tr>\n",
       "    <tr>\n",
       "      <th>3</th>\n",
       "      <td>88</td>\n",
       "      <td>1</td>\n",
       "      <td>1</td>\n",
       "      <td>4</td>\n",
       "      <td>50</td>\n",
       "      <td>7.0</td>\n",
       "      <td>8.0</td>\n",
       "      <td>1.5</td>\n",
       "      <td>16.7</td>\n",
       "      <td>6.8</td>\n",
       "      <td>999</td>\n",
       "      <td>1025.3</td>\n",
       "      <td>9.3</td>\n",
       "      <td>11.7</td>\n",
       "      <td>999.0</td>\n",
       "      <td>99.0</td>\n",
       "      <td>NaN</td>\n",
       "      <td>NaN</td>\n",
       "      <td>NaN</td>\n",
       "    </tr>\n",
       "    <tr>\n",
       "      <th>4</th>\n",
       "      <td>88</td>\n",
       "      <td>1</td>\n",
       "      <td>1</td>\n",
       "      <td>5</td>\n",
       "      <td>60</td>\n",
       "      <td>8.0</td>\n",
       "      <td>10.0</td>\n",
       "      <td>1.6</td>\n",
       "      <td>16.7</td>\n",
       "      <td>5.9</td>\n",
       "      <td>999</td>\n",
       "      <td>1025.1</td>\n",
       "      <td>9.3</td>\n",
       "      <td>11.7</td>\n",
       "      <td>999.0</td>\n",
       "      <td>99.0</td>\n",
       "      <td>NaN</td>\n",
       "      <td>NaN</td>\n",
       "      <td>NaN</td>\n",
       "    </tr>\n",
       "    <tr>\n",
       "      <th>...</th>\n",
       "      <td>...</td>\n",
       "      <td>...</td>\n",
       "      <td>...</td>\n",
       "      <td>...</td>\n",
       "      <td>...</td>\n",
       "      <td>...</td>\n",
       "      <td>...</td>\n",
       "      <td>...</td>\n",
       "      <td>...</td>\n",
       "      <td>...</td>\n",
       "      <td>...</td>\n",
       "      <td>...</td>\n",
       "      <td>...</td>\n",
       "      <td>...</td>\n",
       "      <td>...</td>\n",
       "      <td>...</td>\n",
       "      <td>...</td>\n",
       "      <td>...</td>\n",
       "      <td>...</td>\n",
       "    </tr>\n",
       "    <tr>\n",
       "      <th>430195</th>\n",
       "      <td>2022</td>\n",
       "      <td>12</td>\n",
       "      <td>31</td>\n",
       "      <td>23</td>\n",
       "      <td>10</td>\n",
       "      <td>297</td>\n",
       "      <td>10.4</td>\n",
       "      <td>15.2</td>\n",
       "      <td>99.0</td>\n",
       "      <td>99.0</td>\n",
       "      <td>99.0</td>\n",
       "      <td>999</td>\n",
       "      <td>1001.6</td>\n",
       "      <td>12.2</td>\n",
       "      <td>999.0</td>\n",
       "      <td>999.0</td>\n",
       "      <td>99.0</td>\n",
       "      <td>99.0</td>\n",
       "      <td>NaN</td>\n",
       "    </tr>\n",
       "    <tr>\n",
       "      <th>430196</th>\n",
       "      <td>2022</td>\n",
       "      <td>12</td>\n",
       "      <td>31</td>\n",
       "      <td>23</td>\n",
       "      <td>20</td>\n",
       "      <td>296</td>\n",
       "      <td>11.9</td>\n",
       "      <td>15.5</td>\n",
       "      <td>99.0</td>\n",
       "      <td>99.0</td>\n",
       "      <td>99.0</td>\n",
       "      <td>999</td>\n",
       "      <td>1001.5</td>\n",
       "      <td>12.2</td>\n",
       "      <td>999.0</td>\n",
       "      <td>999.0</td>\n",
       "      <td>99.0</td>\n",
       "      <td>99.0</td>\n",
       "      <td>NaN</td>\n",
       "    </tr>\n",
       "    <tr>\n",
       "      <th>430197</th>\n",
       "      <td>2022</td>\n",
       "      <td>12</td>\n",
       "      <td>31</td>\n",
       "      <td>23</td>\n",
       "      <td>30</td>\n",
       "      <td>302</td>\n",
       "      <td>13.0</td>\n",
       "      <td>17.9</td>\n",
       "      <td>99.0</td>\n",
       "      <td>99.0</td>\n",
       "      <td>99.0</td>\n",
       "      <td>999</td>\n",
       "      <td>1001.3</td>\n",
       "      <td>12.3</td>\n",
       "      <td>999.0</td>\n",
       "      <td>999.0</td>\n",
       "      <td>99.0</td>\n",
       "      <td>99.0</td>\n",
       "      <td>NaN</td>\n",
       "    </tr>\n",
       "    <tr>\n",
       "      <th>430198</th>\n",
       "      <td>2022</td>\n",
       "      <td>12</td>\n",
       "      <td>31</td>\n",
       "      <td>23</td>\n",
       "      <td>40</td>\n",
       "      <td>307</td>\n",
       "      <td>13.5</td>\n",
       "      <td>18.4</td>\n",
       "      <td>3.86</td>\n",
       "      <td>12.9</td>\n",
       "      <td>7.17</td>\n",
       "      <td>272</td>\n",
       "      <td>1001.2</td>\n",
       "      <td>12.3</td>\n",
       "      <td>999.0</td>\n",
       "      <td>999.0</td>\n",
       "      <td>99.0</td>\n",
       "      <td>99.0</td>\n",
       "      <td>NaN</td>\n",
       "    </tr>\n",
       "    <tr>\n",
       "      <th>430199</th>\n",
       "      <td>2022</td>\n",
       "      <td>12</td>\n",
       "      <td>31</td>\n",
       "      <td>23</td>\n",
       "      <td>50</td>\n",
       "      <td>304</td>\n",
       "      <td>14.4</td>\n",
       "      <td>19.7</td>\n",
       "      <td>99.0</td>\n",
       "      <td>99.0</td>\n",
       "      <td>99.0</td>\n",
       "      <td>999</td>\n",
       "      <td>1001.0</td>\n",
       "      <td>12.1</td>\n",
       "      <td>12.5</td>\n",
       "      <td>999.0</td>\n",
       "      <td>99.0</td>\n",
       "      <td>99.0</td>\n",
       "      <td>NaN</td>\n",
       "    </tr>\n",
       "  </tbody>\n",
       "</table>\n",
       "<p>430200 rows × 19 columns</p>\n",
       "</div>"
      ],
      "text/plain": [
       "        year month day hour minute wdir  wspd   gst  wvht   dpd   apd     mwd  \\\n",
       "0         88     1   1    1     10  3.0   4.0   1.7  10.0   7.4   999  1025.3   \n",
       "1         88     1   1    2    360  3.0   4.0   1.5   9.1   7.2   999  1025.5   \n",
       "2         88     1   1    3     50  6.0   7.0   1.6  10.0   7.0   999  1025.5   \n",
       "3         88     1   1    4     50  7.0   8.0   1.5  16.7   6.8   999  1025.3   \n",
       "4         88     1   1    5     60  8.0  10.0   1.6  16.7   5.9   999  1025.1   \n",
       "...      ...   ...  ..  ...    ...  ...   ...   ...   ...   ...   ...     ...   \n",
       "430195  2022    12  31   23     10  297  10.4  15.2  99.0  99.0  99.0     999   \n",
       "430196  2022    12  31   23     20  296  11.9  15.5  99.0  99.0  99.0     999   \n",
       "430197  2022    12  31   23     30  302  13.0  17.9  99.0  99.0  99.0     999   \n",
       "430198  2022    12  31   23     40  307  13.5  18.4  3.86  12.9  7.17     272   \n",
       "430199  2022    12  31   23     50  304  14.4  19.7  99.0  99.0  99.0     999   \n",
       "\n",
       "          pres  atmp   wtmp   dewp   vis  ptdy  tide  \n",
       "0          9.5  11.8  999.0   99.0   NaN   NaN   NaN  \n",
       "1          9.4  11.8  999.0   99.0   NaN   NaN   NaN  \n",
       "2          9.5  11.8  999.0   99.0   NaN   NaN   NaN  \n",
       "3          9.3  11.7  999.0   99.0   NaN   NaN   NaN  \n",
       "4          9.3  11.7  999.0   99.0   NaN   NaN   NaN  \n",
       "...        ...   ...    ...    ...   ...   ...   ...  \n",
       "430195  1001.6  12.2  999.0  999.0  99.0  99.0   NaN  \n",
       "430196  1001.5  12.2  999.0  999.0  99.0  99.0   NaN  \n",
       "430197  1001.3  12.3  999.0  999.0  99.0  99.0   NaN  \n",
       "430198  1001.2  12.3  999.0  999.0  99.0  99.0   NaN  \n",
       "430199  1001.0  12.1   12.5  999.0  99.0  99.0   NaN  \n",
       "\n",
       "[430200 rows x 19 columns]"
      ]
     },
     "execution_count": 2,
     "metadata": {},
     "output_type": "execute_result"
    }
   ],
   "source": [
    "url_template = 'https://www.ndbc.noaa.gov/view_text_file.php?filename=46042h{year}.txt.gz&dir=data/historical/stdmet/'\n",
    "    \n",
    "# create an empty list to store the data frames\n",
    "dfs = []\n",
    "\n",
    "# loop through the years\n",
    "for year in range(1988, 2023):\n",
    "\n",
    "    # construct the file path\n",
    "    url = url_template.format(year=year)\n",
    "    \n",
    "    # parse the data and create a data frame\n",
    "    df = pd.read_csv(url, delim_whitespace=True, skiprows=1, header=None, names=['year', 'month', 'day', 'hour', 'minute', 'wdir', 'wspd', 'gst', 'wvht', 'dpd', 'apd', 'mwd', 'pres', 'atmp', 'wtmp', 'dewp', 'vis', 'ptdy', 'tide'])\n",
    "    \n",
    "    # add the data frame to the list\n",
    "    dfs.append(df)\n",
    "\n",
    "# concatenate all the data frames into a single data frame\n",
    "buoy_46042 = pd.concat(dfs, ignore_index=True)\n",
    "\n",
    "# print the resulting data frame\n",
    "buoy_46042"
   ]
  },
  {
   "cell_type": "code",
   "execution_count": 3,
   "id": "5c20a331",
   "metadata": {},
   "outputs": [
    {
     "name": "stdout",
     "output_type": "stream",
     "text": [
      "<class 'pandas.core.frame.DataFrame'>\n",
      "RangeIndex: 430200 entries, 0 to 430199\n",
      "Data columns (total 19 columns):\n",
      " #   Column  Non-Null Count   Dtype  \n",
      "---  ------  --------------   -----  \n",
      " 0   year    430200 non-null  object \n",
      " 1   month   430200 non-null  object \n",
      " 2   day     430200 non-null  object \n",
      " 3   hour    430200 non-null  object \n",
      " 4   minute  430200 non-null  object \n",
      " 5   wdir    430200 non-null  object \n",
      " 6   wspd    430200 non-null  object \n",
      " 7   gst     430200 non-null  object \n",
      " 8   wvht    430200 non-null  object \n",
      " 9   dpd     430200 non-null  object \n",
      " 10  apd     430200 non-null  object \n",
      " 11  mwd     430200 non-null  object \n",
      " 12  pres    430200 non-null  object \n",
      " 13  atmp    430200 non-null  object \n",
      " 14  wtmp    430200 non-null  object \n",
      " 15  dewp    430200 non-null  object \n",
      " 16  vis     330693 non-null  object \n",
      " 17  ptdy    292023 non-null  object \n",
      " 18  tide    0 non-null       float64\n",
      "dtypes: float64(1), object(18)\n",
      "memory usage: 62.4+ MB\n",
      "None\n"
     ]
    }
   ],
   "source": [
    "print(buoy_46042.info())\n",
    "# print(df.index.name)"
   ]
  },
  {
   "cell_type": "code",
   "execution_count": 4,
   "id": "2c9c54c8",
   "metadata": {},
   "outputs": [
    {
     "data": {
      "text/plain": [
       "[<matplotlib.lines.Line2D at 0x7fcafa121190>]"
      ]
     },
     "execution_count": 4,
     "metadata": {},
     "output_type": "execute_result"
    },
    {
     "data": {
      "image/png": "[encoded data removed]",
      "text/plain": [
       "<Figure size 432x288 with 1 Axes>"
      ]
     },
     "metadata": {
      "needs_background": "light"
     },
     "output_type": "display_data"
    }
   ],
   "source": [
    "plt.plot(buoy_46042['wvht'][0:10000])"
   ]
  },
  {
   "cell_type": "code",
   "execution_count": null,
   "id": "17ab508c",
   "metadata": {},
   "outputs": [],
   "source": [
    "# drop the rows that contain wtmp = 999.0\n",
    "buoy_46042_wtmp_anal = buoy_46042.drop(buoy_46042[buoy_46042['wtmp'] == 999.0].index)\n",
    "print(buoy_46042_wtmp_anal)"
   ]
  },
  {
   "cell_type": "code",
   "execution_count": 5,
   "id": "4eea0d40",
   "metadata": {},
   "outputs": [
    {
     "name": "stdout",
     "output_type": "stream",
     "text": [
      "        year month day hour minute wdir  wspd   gst  wvht    dpd   apd  \\\n",
      "0         88     1   1    1     10  3.0   4.0   1.7  10.0    7.4   999   \n",
      "1         88     1   1    2    360  3.0   4.0   1.5   9.1    7.2   999   \n",
      "2         88     1   1    3     50  6.0   7.0   1.6  10.0    7.0   999   \n",
      "3         88     1   1    4     50  7.0   8.0   1.5  16.7    6.8   999   \n",
      "4         88     1   1    5     60  8.0  10.0   1.6  16.7    5.9   999   \n",
      "...      ...   ...  ..  ...    ...  ...   ...   ...   ...    ...   ...   \n",
      "430174  2022    12  31   19     40  172  10.9  15.1  2.99  13.79  6.54   \n",
      "430180  2022    12  31   20     40  175  12.8  16.2  3.17  12.12  6.51   \n",
      "430186  2022    12  31   21     40  181  12.4  15.2  3.38  14.81  6.57   \n",
      "430192  2022    12  31   22     40  242  10.8  17.3  3.32  10.81  6.34   \n",
      "430198  2022    12  31   23     40  307  13.5  18.4  3.86   12.9  7.17   \n",
      "\n",
      "           mwd    pres  atmp   wtmp   dewp   vis  ptdy  tide  \n",
      "0       1025.3     9.5  11.8  999.0   99.0   NaN   NaN   NaN  \n",
      "1       1025.5     9.4  11.8  999.0   99.0   NaN   NaN   NaN  \n",
      "2       1025.5     9.5  11.8  999.0   99.0   NaN   NaN   NaN  \n",
      "3       1025.3     9.3  11.7  999.0   99.0   NaN   NaN   NaN  \n",
      "4       1025.1     9.3  11.7  999.0   99.0   NaN   NaN   NaN  \n",
      "...        ...     ...   ...    ...    ...   ...   ...   ...  \n",
      "430174     281  1005.3  13.7   12.5  999.0  99.0  99.0   NaN  \n",
      "430180     282  1003.3  13.7  999.0  999.0  99.0  99.0   NaN  \n",
      "430186     303  1001.9  13.7  999.0  999.0  99.0  99.0   NaN  \n",
      "430192     272  1002.0  12.6  999.0  999.0  99.0  99.0   NaN  \n",
      "430198     272  1001.2  12.3  999.0  999.0  99.0  99.0   NaN  \n",
      "\n",
      "[379429 rows x 19 columns]\n"
     ]
    }
   ],
   "source": [
    "# drop the rows that contain wtmp == 99.0\n",
    "buoy_46042_wvht_anal = buoy_46042.drop(buoy_46042[buoy_46042['wvht'] == 99.0].index)\n",
    "print(buoy_46042_wvht_anal)"
   ]
  },
  {
   "cell_type": "code",
   "execution_count": 6,
   "id": "7e6d240f",
   "metadata": {},
   "outputs": [
    {
     "data": {
      "text/plain": [
       "[<matplotlib.lines.Line2D at 0x7fcae59c43a0>]"
      ]
     },
     "execution_count": 6,
     "metadata": {},
     "output_type": "execute_result"
    },
    {
     "data": {
      "image/png": "[encoded data removed]",
      "text/plain": [
       "<Figure size 432x288 with 1 Axes>"
      ]
     },
     "metadata": {
      "needs_background": "light"
     },
     "output_type": "display_data"
    }
   ],
   "source": [
    "plt.plot(buoy_46042_wvht_anal['wvht'][0:152610]) # and then theres a string #yr row"
   ]
  },
  {
   "cell_type": "code",
   "execution_count": 7,
   "id": "5401953f",
   "metadata": {},
   "outputs": [
    {
     "data": {
      "text/plain": [
       "25.0"
      ]
     },
     "execution_count": 7,
     "metadata": {},
     "output_type": "execute_result"
    }
   ],
   "source": [
    "buoy_46042_wvht_anal['wvht'][0:152610].max()"
   ]
  },
  {
   "cell_type": "code",
   "execution_count": 8,
   "id": "00e82ede",
   "metadata": {},
   "outputs": [
    {
     "name": "stdout",
     "output_type": "stream",
     "text": [
      "        year month day hour minute  wdir wspd  gst  wvht    dpd    apd   mwd  \\\n",
      "155559  2006    12  31   22      0   344  3.2  4.2  3.18  14.81  10.24   289   \n",
      "155560  2006    12  31   23      0   330  4.2  5.4  3.49  13.79  10.78   283   \n",
      "155561   #yr    mo  dy   hr     mn  degT  m/s  m/s     m    sec    sec  degT   \n",
      "155562  2007    01  01   00     00   335  5.9  7.6  3.04  13.79  10.21   287   \n",
      "155563  2007    01  01   01     00   322  6.2  9.0  3.29  14.81  10.39   287   \n",
      "155564  2007    01  01   02     00   346  6.3  8.2  3.00  13.79   9.99   296   \n",
      "155565  2007    01  01   03     00   346  6.2  7.6  2.98  13.79   9.71   285   \n",
      "155566  2007    01  01   04     00   351  6.9  8.7  2.98  12.90   9.44   293   \n",
      "155567  2007    01  01   05     00   333  6.6  8.0  3.02  12.90   9.24   297   \n",
      "155568  2007    01  01   06     00   338  6.4  8.0  2.88  12.90   9.31   297   \n",
      "\n",
      "          pres  atmp  wtmp   dewp   vis   ptdy  tide  \n",
      "155559  1025.1  11.1  13.0  999.0  99.0   99.0   NaN  \n",
      "155560  1025.1  11.4  13.0  999.0  99.0   99.0   NaN  \n",
      "155561     hPa  degC  degC   degC   nmi     ft   NaN  \n",
      "155562  1025.0  11.5  12.9  999.0  99.0  99.00   NaN  \n",
      "155563  1025.1  11.5  12.9  999.0  99.0  99.00   NaN  \n",
      "155564  1025.4  11.4  12.9  999.0  99.0  99.00   NaN  \n",
      "155565  1025.4  11.5  12.9  999.0  99.0  99.00   NaN  \n",
      "155566  1025.4  11.4  12.9  999.0  99.0  99.00   NaN  \n",
      "155567  1025.4  11.3  12.9  999.0  99.0  99.00   NaN  \n",
      "155568  1025.4  11.2  12.9  999.0  99.0  99.00   NaN  \n"
     ]
    }
   ],
   "source": [
    "print(buoy_46042_wvht_anal[152610:152610+10]) # theres a row in here that has a header"
   ]
  },
  {
   "cell_type": "code",
   "execution_count": 9,
   "id": "fabd0caa",
   "metadata": {},
   "outputs": [
    {
     "data": {
      "text/plain": [
       "16"
      ]
     },
     "execution_count": 9,
     "metadata": {},
     "output_type": "execute_result"
    }
   ],
   "source": [
    "len(buoy_46042_wvht_anal[buoy_46042_wvht_anal['year'] == '#yr'].index)"
   ]
  },
  {
   "cell_type": "code",
   "execution_count": 11,
   "id": "21982a60",
   "metadata": {},
   "outputs": [
    {
     "name": "stdout",
     "output_type": "stream",
     "text": [
      "        year month day hour minute wdir  wspd   gst  wvht    dpd   apd  \\\n",
      "0         88     1   1    1     10  3.0   4.0   1.7  10.0    7.4   999   \n",
      "1         88     1   1    2    360  3.0   4.0   1.5   9.1    7.2   999   \n",
      "2         88     1   1    3     50  6.0   7.0   1.6  10.0    7.0   999   \n",
      "3         88     1   1    4     50  7.0   8.0   1.5  16.7    6.8   999   \n",
      "4         88     1   1    5     60  8.0  10.0   1.6  16.7    5.9   999   \n",
      "...      ...   ...  ..  ...    ...  ...   ...   ...   ...    ...   ...   \n",
      "430174  2022    12  31   19     40  172  10.9  15.1  2.99  13.79  6.54   \n",
      "430180  2022    12  31   20     40  175  12.8  16.2  3.17  12.12  6.51   \n",
      "430186  2022    12  31   21     40  181  12.4  15.2  3.38  14.81  6.57   \n",
      "430192  2022    12  31   22     40  242  10.8  17.3  3.32  10.81  6.34   \n",
      "430198  2022    12  31   23     40  307  13.5  18.4  3.86   12.9  7.17   \n",
      "\n",
      "           mwd    pres  atmp   wtmp   dewp   vis  ptdy  tide  \n",
      "0       1025.3     9.5  11.8  999.0   99.0   NaN   NaN   NaN  \n",
      "1       1025.5     9.4  11.8  999.0   99.0   NaN   NaN   NaN  \n",
      "2       1025.5     9.5  11.8  999.0   99.0   NaN   NaN   NaN  \n",
      "3       1025.3     9.3  11.7  999.0   99.0   NaN   NaN   NaN  \n",
      "4       1025.1     9.3  11.7  999.0   99.0   NaN   NaN   NaN  \n",
      "...        ...     ...   ...    ...    ...   ...   ...   ...  \n",
      "430174     281  1005.3  13.7   12.5  999.0  99.0  99.0   NaN  \n",
      "430180     282  1003.3  13.7  999.0  999.0  99.0  99.0   NaN  \n",
      "430186     303  1001.9  13.7  999.0  999.0  99.0  99.0   NaN  \n",
      "430192     272  1002.0  12.6  999.0  999.0  99.0  99.0   NaN  \n",
      "430198     272  1001.2  12.3  999.0  999.0  99.0  99.0   NaN  \n",
      "\n",
      "[379413 rows x 19 columns]\n",
      "        year month day hour minute wdir wspd  gst  wvht    dpd    apd  mwd  \\\n",
      "155559  2006    12  31   22      0  344  3.2  4.2  3.18  14.81  10.24  289   \n",
      "155560  2006    12  31   23      0  330  4.2  5.4  3.49  13.79  10.78  283   \n",
      "155562  2007    01  01   00     00  335  5.9  7.6  3.04  13.79  10.21  287   \n",
      "155563  2007    01  01   01     00  322  6.2  9.0  3.29  14.81  10.39  287   \n",
      "155564  2007    01  01   02     00  346  6.3  8.2  3.00  13.79   9.99  296   \n",
      "155565  2007    01  01   03     00  346  6.2  7.6  2.98  13.79   9.71  285   \n",
      "155566  2007    01  01   04     00  351  6.9  8.7  2.98  12.90   9.44  293   \n",
      "155567  2007    01  01   05     00  333  6.6  8.0  3.02  12.90   9.24  297   \n",
      "155568  2007    01  01   06     00  338  6.4  8.0  2.88  12.90   9.31  297   \n",
      "155569  2007    01  01   07     00  342  6.7  8.2  3.17  12.90   9.75  304   \n",
      "\n",
      "          pres  atmp  wtmp   dewp   vis   ptdy  tide  \n",
      "155559  1025.1  11.1  13.0  999.0  99.0   99.0   NaN  \n",
      "155560  1025.1  11.4  13.0  999.0  99.0   99.0   NaN  \n",
      "155562  1025.0  11.5  12.9  999.0  99.0  99.00   NaN  \n",
      "155563  1025.1  11.5  12.9  999.0  99.0  99.00   NaN  \n",
      "155564  1025.4  11.4  12.9  999.0  99.0  99.00   NaN  \n",
      "155565  1025.4  11.5  12.9  999.0  99.0  99.00   NaN  \n",
      "155566  1025.4  11.4  12.9  999.0  99.0  99.00   NaN  \n",
      "155567  1025.4  11.3  12.9  999.0  99.0  99.00   NaN  \n",
      "155568  1025.4  11.2  12.9  999.0  99.0  99.00   NaN  \n",
      "155569  1025.6  11.0  12.9  999.0  99.0  99.00   NaN  \n"
     ]
    }
   ],
   "source": [
    "buoy_46042_wvht_anal_nostrings = buoy_46042_wvht_anal.drop(buoy_46042_wvht_anal[buoy_46042_wvht_anal['year'] == '#yr'].index)\n",
    "print(buoy_46042_wvht_anal_nostrings)\n",
    "print(buoy_46042_wvht_anal_nostrings[152610:152610+10])"
   ]
  },
  {
   "cell_type": "code",
   "execution_count": 13,
   "id": "4b76f86f",
   "metadata": {},
   "outputs": [
    {
     "name": "stdout",
     "output_type": "stream",
     "text": [
      "        year month day hour minute wdir wspd  gst  wvht    dpd    apd  mwd  \\\n",
      "155559  2006    12  31   22      0  344  3.2  4.2  3.18  14.81  10.24  289   \n",
      "155560  2006    12  31   23      0  330  4.2  5.4  3.49  13.79  10.78  283   \n",
      "155562  2007    01  01   00     00  335  5.9  7.6  3.04  13.79  10.21  287   \n",
      "155563  2007    01  01   01     00  322  6.2  9.0  3.29  14.81  10.39  287   \n",
      "155564  2007    01  01   02     00  346  6.3  8.2  3.00  13.79   9.99  296   \n",
      "155565  2007    01  01   03     00  346  6.2  7.6  2.98  13.79   9.71  285   \n",
      "155566  2007    01  01   04     00  351  6.9  8.7  2.98  12.90   9.44  293   \n",
      "155567  2007    01  01   05     00  333  6.6  8.0  3.02  12.90   9.24  297   \n",
      "155568  2007    01  01   06     00  338  6.4  8.0  2.88  12.90   9.31  297   \n",
      "155569  2007    01  01   07     00  342  6.7  8.2  3.17  12.90   9.75  304   \n",
      "\n",
      "          pres  atmp  wtmp   dewp   vis   ptdy  tide  \n",
      "155559  1025.1  11.1  13.0  999.0  99.0   99.0   NaN  \n",
      "155560  1025.1  11.4  13.0  999.0  99.0   99.0   NaN  \n",
      "155562  1025.0  11.5  12.9  999.0  99.0  99.00   NaN  \n",
      "155563  1025.1  11.5  12.9  999.0  99.0  99.00   NaN  \n",
      "155564  1025.4  11.4  12.9  999.0  99.0  99.00   NaN  \n",
      "155565  1025.4  11.5  12.9  999.0  99.0  99.00   NaN  \n",
      "155566  1025.4  11.4  12.9  999.0  99.0  99.00   NaN  \n",
      "155567  1025.4  11.3  12.9  999.0  99.0  99.00   NaN  \n",
      "155568  1025.4  11.2  12.9  999.0  99.0  99.00   NaN  \n",
      "155569  1025.6  11.0  12.9  999.0  99.0  99.00   NaN  \n"
     ]
    },
    {
     "data": {
      "image/png": "[encoded data removed]",
      "text/plain": [
       "<Figure size 432x288 with 1 Axes>"
      ]
     },
     "metadata": {
      "needs_background": "light"
     },
     "output_type": "display_data"
    }
   ],
   "source": [
    "plt.plot(buoy_46042_wvht_anal_nostrings['wvht'][:])\n",
    "\n",
    "buoy_46042_wvht_anal_nostrings_no99 = buoy_46042_wvht_anal_nostrings.drop(buoy_46042_wvht_anal_nostrings[buoy_46042_wvht_anal_nostrings['wvht']==99.0].index)\n",
    "print(buoy_46042_wvht_anal_nostrings_no99[152610:152610+10]) # #yr is gone!"
   ]
  },
  {
   "cell_type": "code",
   "execution_count": 26,
   "id": "d3ff8f99",
   "metadata": {},
   "outputs": [
    {
     "name": "stdout",
     "output_type": "stream",
     "text": [
      "Int64Index([     0,      1,      2,      3,      4,      5,      6,      7,\n",
      "                 8,      9,\n",
      "            ...\n",
      "            430144, 430150, 430156, 430162, 430168, 430174, 430180, 430186,\n",
      "            430192, 430198],\n",
      "           dtype='int64', length=379413)\n"
     ]
    }
   ],
   "source": [
    "print(buoy_46042_wvht_anal_nostrings_no99.wvht.index)"
   ]
  },
  {
   "cell_type": "code",
   "execution_count": 82,
   "id": "fa3ffe30",
   "metadata": {},
   "outputs": [
    {
     "name": "stdout",
     "output_type": "stream",
     "text": [
      "0          True\n",
      "1          True\n",
      "2          True\n",
      "3          True\n",
      "4          True\n",
      "          ...  \n",
      "430174    False\n",
      "430180    False\n",
      "430186    False\n",
      "430192    False\n",
      "430198    False\n",
      "Name: year, Length: 379413, dtype: bool\n"
     ]
    }
   ],
   "source": [
    "# plt.plot(buoy_46042_wvht_anal_nostrings_no99['year'][92000:94500])\n",
    "# plt.ylim(80,2020)\n",
    "print((buoy_46042_wvht_anal_nostrings_no99['year'] == 1997))\n"
   ]
  },
  {
   "cell_type": "code",
   "execution_count": 87,
   "id": "b8904a3c",
   "metadata": {},
   "outputs": [],
   "source": [
    "buoy_46042_wvht_anal_nostrings_no99.to_csv('data1.txt', sep='\\t') # now i want to have a datetime as index"
   ]
  },
  {
   "cell_type": "code",
   "execution_count": null,
   "id": "af3f11e6",
   "metadata": {},
   "outputs": [],
   "source": []
  },
  {
   "cell_type": "code",
   "execution_count": 136,
   "id": "bbbd837c",
   "metadata": {},
   "outputs": [
    {
     "name": "stdout",
     "output_type": "stream",
     "text": [
      "year          98\n",
      "month         12\n",
      "day           31\n",
      "hour          23\n",
      "minute       326\n",
      "wdir         9.5\n",
      "wspd        11.6\n",
      "gst         2.32\n",
      "wvht       14.29\n",
      "dpd          6.4\n",
      "apd          282\n",
      "mwd       1019.9\n",
      "pres        11.0\n",
      "atmp        11.0\n",
      "wtmp       999.0\n",
      "dewp        99.0\n",
      "vis          NaN\n",
      "ptdy         NaN\n",
      "tide         NaN\n",
      "Name: 88564, dtype: object\n"
     ]
    }
   ],
   "source": [
    "# assume df is your DataFrame and the year column is called 'year'\n",
    "\n",
    "# convert YY format to YYYY format\n",
    "df_new = buoy_46042_wvht_anal_nostrings_no99.copy()\n",
    "# print(df_new)\n",
    "# print(df_new.year[86879:86888])\n",
    "# print(df_new.year[:86887])\n",
    "print(df_new.iloc[86880])\n",
    "\n",
    "# df_new['year'] = df_new['year'][0:86882].apply(lambda x: int('19' + str(x)))\n",
    "\n",
    "# buoy_46042_wvht_anal_nostrings_no99['year'] = buoy_46042_wvht_anal_nostrings_no99['year'].apply(lambda x: int('19' + str(x)) if int(x) > 50 else int('20' + str(x)))\n",
    "\n",
    "# continue processing the DataFrame\n",
    "# print(df_new['year'][86883-10:86883+10])\n"
   ]
  },
  {
   "cell_type": "code",
   "execution_count": null,
   "id": "fbbae7cb",
   "metadata": {},
   "outputs": [],
   "source": [
    "import pandas as pd\n",
    "\n",
    "# combine year, month, day, hour, and minute columns into a single datetime column\n",
    "buoy_46042_wvht_anal_nostrings_no99['time'] = pd.to_datetime(buoy_46042_wvht_anal_nostrings_no99[['year', 'month', 'day', 'hour', 'minute']])\n",
    "\n",
    "# drop the original year, month, day, hour, and minute columns\n",
    "buoy_46042_wvht_anal_nostrings_no99.drop(['year', 'month', 'day', 'hour', 'minute'], axis=1, inplace=True)\n",
    "\n",
    "# set the 'time' column as the index\n",
    "buoy_46042_wvht_anal_nostrings_no99.set_index('time', inplace=True)\n",
    "\n",
    "# error because 88 is YY not YYYY"
   ]
  },
  {
   "cell_type": "code",
   "execution_count": null,
   "id": "6aa91bb8",
   "metadata": {},
   "outputs": [],
   "source": []
  }
 ],
 "metadata": {
  "kernelspec": {
   "display_name": "Python 3 (ipykernel)",
   "language": "python",
   "name": "python3"
  },
  "language_info": {
   "codemirror_mode": {
    "name": "ipython",
    "version": 3
   },
   "file_extension": ".py",
   "mimetype": "text/x-python",
   "name": "python",
   "nbconvert_exporter": "python",
   "pygments_lexer": "ipython3",
   "version": "3.8.10"
  }
 },
 "nbformat": 4,
 "nbformat_minor": 5
}
