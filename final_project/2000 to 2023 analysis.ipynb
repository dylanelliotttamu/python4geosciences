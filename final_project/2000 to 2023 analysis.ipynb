{
 "cells": [
  {
   "cell_type": "code",
   "execution_count": 1,
   "id": "486ab724",
   "metadata": {},
   "outputs": [],
   "source": [
    "import numpy as np\n",
    "import numpy.ma as ma\n",
    "import pandas as pd\n",
    "import matplotlib as mpl\n",
    "import matplotlib.pyplot as plt\n",
    "%matplotlib inline\n",
    "import cartopy\n",
    "import cartopy.crs as ccrs \n",
    "import cartopy.feature as cfeature\n",
    "from cartopy.mpl.gridliner import LONGITUDE_FORMATTER, LATITUDE_FORMATTER\n",
    "from shapely.geometry import Point, LineString\n",
    "import geopandas as gpd\n",
    "from matplotlib.ticker import AutoMinorLocator"
   ]
  },
  {
   "cell_type": "code",
   "execution_count": 3,
   "id": "cc5603e9",
   "metadata": {},
   "outputs": [
    {
     "name": "stderr",
     "output_type": "stream",
     "text": [
      "/Users/dylan/opt/anaconda3/envs/geo2023spring/lib/python3.8/site-packages/IPython/core/interactiveshell.py:3441: DtypeWarning: Columns (0,1,2,3,4,5,6,7,8,9,10,11,12,13,14,15,16,17) have mixed types.Specify dtype option on import or set low_memory=False.\n",
      "  exec(code_obj, self.user_global_ns, self.user_ns)\n"
     ]
    },
    {
     "data": {
      "text/html": [
       "<div>\n",
       "<style scoped>\n",
       "    .dataframe tbody tr th:only-of-type {\n",
       "        vertical-align: middle;\n",
       "    }\n",
       "\n",
       "    .dataframe tbody tr th {\n",
       "        vertical-align: top;\n",
       "    }\n",
       "\n",
       "    .dataframe thead th {\n",
       "        text-align: right;\n",
       "    }\n",
       "</style>\n",
       "<table border=\"1\" class=\"dataframe\">\n",
       "  <thead>\n",
       "    <tr style=\"text-align: right;\">\n",
       "      <th></th>\n",
       "      <th>year</th>\n",
       "      <th>month</th>\n",
       "      <th>day</th>\n",
       "      <th>hour</th>\n",
       "      <th>minute</th>\n",
       "      <th>wdir</th>\n",
       "      <th>wspd</th>\n",
       "      <th>gst</th>\n",
       "      <th>wvht</th>\n",
       "      <th>dpd</th>\n",
       "      <th>apd</th>\n",
       "      <th>mwd</th>\n",
       "      <th>pres</th>\n",
       "      <th>atmp</th>\n",
       "      <th>wtmp</th>\n",
       "      <th>dewp</th>\n",
       "      <th>vis</th>\n",
       "      <th>ptdy</th>\n",
       "      <th>tide</th>\n",
       "    </tr>\n",
       "  </thead>\n",
       "  <tbody>\n",
       "    <tr>\n",
       "      <th>0</th>\n",
       "      <td>2000</td>\n",
       "      <td>1</td>\n",
       "      <td>1</td>\n",
       "      <td>0</td>\n",
       "      <td>297</td>\n",
       "      <td>4.9</td>\n",
       "      <td>6.1</td>\n",
       "      <td>1.22</td>\n",
       "      <td>7.14</td>\n",
       "      <td>5.68</td>\n",
       "      <td>323</td>\n",
       "      <td>1017.4</td>\n",
       "      <td>11.0</td>\n",
       "      <td>11.6</td>\n",
       "      <td>6.5</td>\n",
       "      <td>99.0</td>\n",
       "      <td>NaN</td>\n",
       "      <td>NaN</td>\n",
       "      <td>NaN</td>\n",
       "    </tr>\n",
       "    <tr>\n",
       "      <th>1</th>\n",
       "      <td>2000</td>\n",
       "      <td>1</td>\n",
       "      <td>1</td>\n",
       "      <td>1</td>\n",
       "      <td>305</td>\n",
       "      <td>5.2</td>\n",
       "      <td>6.4</td>\n",
       "      <td>1.33</td>\n",
       "      <td>6.67</td>\n",
       "      <td>5.6</td>\n",
       "      <td>320</td>\n",
       "      <td>1017.6</td>\n",
       "      <td>11.1</td>\n",
       "      <td>11.7</td>\n",
       "      <td>6.7</td>\n",
       "      <td>99.0</td>\n",
       "      <td>NaN</td>\n",
       "      <td>NaN</td>\n",
       "      <td>NaN</td>\n",
       "    </tr>\n",
       "    <tr>\n",
       "      <th>2</th>\n",
       "      <td>2000</td>\n",
       "      <td>1</td>\n",
       "      <td>1</td>\n",
       "      <td>2</td>\n",
       "      <td>302</td>\n",
       "      <td>5.5</td>\n",
       "      <td>6.7</td>\n",
       "      <td>1.29</td>\n",
       "      <td>7.14</td>\n",
       "      <td>5.41</td>\n",
       "      <td>324</td>\n",
       "      <td>1018.1</td>\n",
       "      <td>11.2</td>\n",
       "      <td>11.6</td>\n",
       "      <td>6.7</td>\n",
       "      <td>99.0</td>\n",
       "      <td>NaN</td>\n",
       "      <td>NaN</td>\n",
       "      <td>NaN</td>\n",
       "    </tr>\n",
       "    <tr>\n",
       "      <th>3</th>\n",
       "      <td>2000</td>\n",
       "      <td>1</td>\n",
       "      <td>1</td>\n",
       "      <td>3</td>\n",
       "      <td>304</td>\n",
       "      <td>2.4</td>\n",
       "      <td>3.1</td>\n",
       "      <td>1.22</td>\n",
       "      <td>7.14</td>\n",
       "      <td>5.7</td>\n",
       "      <td>320</td>\n",
       "      <td>1018.1</td>\n",
       "      <td>11.3</td>\n",
       "      <td>11.6</td>\n",
       "      <td>6.6</td>\n",
       "      <td>99.0</td>\n",
       "      <td>NaN</td>\n",
       "      <td>NaN</td>\n",
       "      <td>NaN</td>\n",
       "    </tr>\n",
       "    <tr>\n",
       "      <th>4</th>\n",
       "      <td>2000</td>\n",
       "      <td>1</td>\n",
       "      <td>1</td>\n",
       "      <td>4</td>\n",
       "      <td>292</td>\n",
       "      <td>4.7</td>\n",
       "      <td>6.1</td>\n",
       "      <td>1.27</td>\n",
       "      <td>6.67</td>\n",
       "      <td>5.9</td>\n",
       "      <td>321</td>\n",
       "      <td>1018.5</td>\n",
       "      <td>11.5</td>\n",
       "      <td>11.6</td>\n",
       "      <td>7.2</td>\n",
       "      <td>99.0</td>\n",
       "      <td>NaN</td>\n",
       "      <td>NaN</td>\n",
       "      <td>NaN</td>\n",
       "    </tr>\n",
       "  </tbody>\n",
       "</table>\n",
       "</div>"
      ],
      "text/plain": [
       "   year month day hour minute wdir wspd   gst  wvht   dpd  apd     mwd  pres  \\\n",
       "0  2000     1   1    0    297  4.9  6.1  1.22  7.14  5.68  323  1017.4  11.0   \n",
       "1  2000     1   1    1    305  5.2  6.4  1.33  6.67   5.6  320  1017.6  11.1   \n",
       "2  2000     1   1    2    302  5.5  6.7  1.29  7.14  5.41  324  1018.1  11.2   \n",
       "3  2000     1   1    3    304  2.4  3.1  1.22  7.14   5.7  320  1018.1  11.3   \n",
       "4  2000     1   1    4    292  4.7  6.1  1.27  6.67   5.9  321  1018.5  11.5   \n",
       "\n",
       "   atmp wtmp  dewp  vis ptdy  tide  \n",
       "0  11.6  6.5  99.0  NaN  NaN   NaN  \n",
       "1  11.7  6.7  99.0  NaN  NaN   NaN  \n",
       "2  11.6  6.7  99.0  NaN  NaN   NaN  \n",
       "3  11.6  6.6  99.0  NaN  NaN   NaN  \n",
       "4  11.6  7.2  99.0  NaN  NaN   NaN  "
      ]
     },
     "execution_count": 3,
     "metadata": {},
     "output_type": "execute_result"
    }
   ],
   "source": [
    "url_template = 'https://www.ndbc.noaa.gov/view_text_file.php?filename=46042h{year}.txt.gz&dir=data/historical/stdmet/'\n",
    "    \n",
    "# create an empty list to store the data frames\n",
    "dfs = []\n",
    "\n",
    "# loop through the years\n",
    "for year in range(2000, 2023):\n",
    "\n",
    "    # construct the file path\n",
    "    url = url_template.format(year=year)\n",
    "    \n",
    "    # parse the data and create a data frame\n",
    "    df = pd.read_csv(url, delim_whitespace=True, skiprows=1, header=None, names=['year', 'month', 'day', 'hour', 'minute', 'wdir', 'wspd', 'gst', 'wvht', 'dpd', 'apd', 'mwd', 'pres', 'atmp', 'wtmp', 'dewp', 'vis', 'ptdy', 'tide'])\n",
    "    \n",
    "    # add the data frame to the list\n",
    "    dfs.append(df)\n",
    "\n",
    "# concatenate all the data frames into a single data frame\n",
    "df = pd.concat(dfs, ignore_index=True)\n",
    "\n",
    "# print the resulting data frame\n",
    "df.head()"
   ]
  },
  {
   "cell_type": "code",
   "execution_count": 9,
   "id": "89460ecb",
   "metadata": {},
   "outputs": [
    {
     "name": "stdout",
     "output_type": "stream",
     "text": [
      "   year month day hour minute wdir wspd   gst  wvht   dpd  apd     mwd  pres  \\\n",
      "0  2000     1   1    0    297  4.9  6.1  1.22  7.14  5.68  323  1017.4  11.0   \n",
      "1  2000     1   1    1    305  5.2  6.4  1.33  6.67   5.6  320  1017.6  11.1   \n",
      "2  2000     1   1    2    302  5.5  6.7  1.29  7.14  5.41  324  1018.1  11.2   \n",
      "3  2000     1   1    3    304  2.4  3.1  1.22  7.14   5.7  320  1018.1  11.3   \n",
      "4  2000     1   1    4    292  4.7  6.1  1.27  6.67   5.9  321  1018.5  11.5   \n",
      "\n",
      "   atmp wtmp  dewp  vis ptdy  tide  \n",
      "0  11.6  6.5  99.0  NaN  NaN   NaN  \n",
      "1  11.7  6.7  99.0  NaN  NaN   NaN  \n",
      "2  11.6  6.7  99.0  NaN  NaN   NaN  \n",
      "3  11.6  6.6  99.0  NaN  NaN   NaN  \n",
      "4  11.6  7.2  99.0  NaN  NaN   NaN  \n"
     ]
    }
   ],
   "source": [
    "####### sort out bad values\n",
    "df_new = df[df['wvht'] != 99.0]\n",
    "df_new_2 = df_new[df_new['wvht'] != 'm']\n",
    "df_new_2\n",
    "print(df_new_2.head())"
   ]
  },
  {
   "cell_type": "code",
   "execution_count": null,
   "id": "a521e093",
   "metadata": {},
   "outputs": [],
   "source": [
    "# df_new_2.to_csv('data2.txt', sep='\\t') # now i want to have a datetime as index"
   ]
  },
  {
   "cell_type": "code",
   "execution_count": 10,
   "id": "ef71a6c0",
   "metadata": {},
   "outputs": [
    {
     "data": {
      "text/plain": [
       "Index(['year', 'month', 'day', 'hour', 'minute', 'wdir', 'wspd', 'gst', 'wvht',\n",
       "       'dpd', 'apd', 'mwd', 'pres', 'atmp', 'wtmp', 'dewp', 'vis', 'ptdy',\n",
       "       'tide'],\n",
       "      dtype='object')"
      ]
     },
     "execution_count": 10,
     "metadata": {},
     "output_type": "execute_result"
    }
   ],
   "source": [
    "df_new_2.columns"
   ]
  },
  {
   "cell_type": "code",
   "execution_count": 11,
   "id": "6f483425",
   "metadata": {},
   "outputs": [
    {
     "name": "stdout",
     "output_type": "stream",
     "text": [
      "                    wdir  wspd   gst  wvht    dpd   apd     mwd    pres  atmp  \\\n",
      "datetime                                                                        \n",
      "2000-01-01 04:57:00  4.9   6.1  1.22  7.14   5.68   323  1017.4    11.0  11.6   \n",
      "2000-01-01 06:05:00  5.2   6.4  1.33  6.67    5.6   320  1017.6    11.1  11.7   \n",
      "2000-01-01 07:02:00  5.5   6.7  1.29  7.14   5.41   324  1018.1    11.2  11.6   \n",
      "2000-01-01 08:04:00  2.4   3.1  1.22  7.14    5.7   320  1018.1    11.3  11.6   \n",
      "2000-01-01 08:52:00  4.7   6.1  1.27  6.67    5.9   321  1018.5    11.5  11.6   \n",
      "...                  ...   ...   ...   ...    ...   ...     ...     ...   ...   \n",
      "2022-12-31 19:40:00  172  10.9  15.1  2.99  13.79  6.54     281  1005.3  13.7   \n",
      "2022-12-31 20:40:00  175  12.8  16.2  3.17  12.12  6.51     282  1003.3  13.7   \n",
      "2022-12-31 21:40:00  181  12.4  15.2  3.38  14.81  6.57     303  1001.9  13.7   \n",
      "2022-12-31 22:40:00  242  10.8  17.3  3.32  10.81  6.34     272  1002.0  12.6   \n",
      "2022-12-31 23:40:00  307  13.5  18.4  3.86   12.9  7.17     272  1001.2  12.3   \n",
      "\n",
      "                      wtmp   dewp   vis  ptdy  tide  \n",
      "datetime                                             \n",
      "2000-01-01 04:57:00    6.5   99.0   NaN   NaN   NaN  \n",
      "2000-01-01 06:05:00    6.7   99.0   NaN   NaN   NaN  \n",
      "2000-01-01 07:02:00    6.7   99.0   NaN   NaN   NaN  \n",
      "2000-01-01 08:04:00    6.6   99.0   NaN   NaN   NaN  \n",
      "2000-01-01 08:52:00    7.2   99.0   NaN   NaN   NaN  \n",
      "...                    ...    ...   ...   ...   ...  \n",
      "2022-12-31 19:40:00   12.5  999.0  99.0  99.0   NaN  \n",
      "2022-12-31 20:40:00  999.0  999.0  99.0  99.0   NaN  \n",
      "2022-12-31 21:40:00  999.0  999.0  99.0  99.0   NaN  \n",
      "2022-12-31 22:40:00  999.0  999.0  99.0  99.0   NaN  \n",
      "2022-12-31 23:40:00  999.0  999.0  99.0  99.0   NaN  \n",
      "\n",
      "[286897 rows x 14 columns]\n"
     ]
    },
    {
     "name": "stderr",
     "output_type": "stream",
     "text": [
      "/var/folders/4l/gn64yzcd6938cphmlv0bpkj80000gn/T/ipykernel_4095/2137210434.py:2: SettingWithCopyWarning: \n",
      "A value is trying to be set on a copy of a slice from a DataFrame.\n",
      "Try using .loc[row_indexer,col_indexer] = value instead\n",
      "\n",
      "See the caveats in the documentation: https://pandas.pydata.org/pandas-docs/stable/user_guide/indexing.html#returning-a-view-versus-a-copy\n",
      "  df_new_2['datetime'] = pd.to_datetime(df_new_2[date_cols])\n",
      "/Users/dylan/opt/anaconda3/envs/geo2023spring/lib/python3.8/site-packages/pandas/core/frame.py:4901: SettingWithCopyWarning: \n",
      "A value is trying to be set on a copy of a slice from a DataFrame\n",
      "\n",
      "See the caveats in the documentation: https://pandas.pydata.org/pandas-docs/stable/user_guide/indexing.html#returning-a-view-versus-a-copy\n",
      "  return super().drop(\n"
     ]
    }
   ],
   "source": [
    "date_cols = ['year','month','day','hour','minute']\n",
    "df_new_2['datetime'] = pd.to_datetime(df_new_2[date_cols])\n",
    "df_new_2.set_index('datetime',inplace=True)\n",
    "df_new_2.drop(date_cols,axis=1,inplace=True)\n",
    "# df_new_2.set_index('datetime',inplace=True)\n",
    "# df_new_2.drop(date_cols,axis=1,inplace=True)\n",
    "\n",
    "print(df_new_2)"
   ]
  },
  {
   "cell_type": "code",
   "execution_count": 12,
   "id": "58294b18",
   "metadata": {},
   "outputs": [
    {
     "name": "stdout",
     "output_type": "stream",
     "text": [
      "                     wvht    dpd   apd     mwd   wtmp\n",
      "datetime                                             \n",
      "2000-01-01 04:57:00  7.14   5.68   323  1017.4    6.5\n",
      "2000-01-01 06:05:00  6.67    5.6   320  1017.6    6.7\n",
      "2000-01-01 07:02:00  7.14   5.41   324  1018.1    6.7\n",
      "2000-01-01 08:04:00  7.14    5.7   320  1018.1    6.6\n",
      "2000-01-01 08:52:00  6.67    5.9   321  1018.5    7.2\n",
      "...                   ...    ...   ...     ...    ...\n",
      "2022-12-31 19:40:00  2.99  13.79  6.54     281   12.5\n",
      "2022-12-31 20:40:00  3.17  12.12  6.51     282  999.0\n",
      "2022-12-31 21:40:00  3.38  14.81  6.57     303  999.0\n",
      "2022-12-31 22:40:00  3.32  10.81  6.34     272  999.0\n",
      "2022-12-31 23:40:00  3.86   12.9  7.17     272  999.0\n",
      "\n",
      "[286897 rows x 5 columns]\n"
     ]
    },
    {
     "name": "stderr",
     "output_type": "stream",
     "text": [
      "/Users/dylan/opt/anaconda3/envs/geo2023spring/lib/python3.8/site-packages/pandas/core/frame.py:4901: SettingWithCopyWarning: \n",
      "A value is trying to be set on a copy of a slice from a DataFrame\n",
      "\n",
      "See the caveats in the documentation: https://pandas.pydata.org/pandas-docs/stable/user_guide/indexing.html#returning-a-view-versus-a-copy\n",
      "  return super().drop(\n"
     ]
    }
   ],
   "source": [
    "cols_to_drop = ['pres','atmp','dewp','vis','ptdy','tide','wdir','wspd','gst']\n",
    "df_new_2.drop(cols_to_drop,axis=1,inplace=True)\n",
    "print(df_new_2)"
   ]
  },
  {
   "cell_type": "code",
   "execution_count": 13,
   "id": "2c100701",
   "metadata": {},
   "outputs": [
    {
     "name": "stdout",
     "output_type": "stream",
     "text": [
      "                     wvht    dpd   apd     mwd   wtmp\n",
      "datetime                                             \n",
      "2000-01-01 04:57:00  7.14   5.68   323  1017.4    6.5\n",
      "2000-01-01 06:05:00  6.67    5.6   320  1017.6    6.7\n",
      "2000-01-01 07:02:00  7.14   5.41   324  1018.1    6.7\n",
      "2000-01-01 08:04:00  7.14    5.7   320  1018.1    6.6\n",
      "2000-01-01 08:52:00  6.67    5.9   321  1018.5    7.2\n",
      "...                   ...    ...   ...     ...    ...\n",
      "2022-12-31 19:40:00  2.99  13.79  6.54     281   12.5\n",
      "2022-12-31 20:40:00  3.17  12.12  6.51     282  999.0\n",
      "2022-12-31 21:40:00  3.38  14.81  6.57     303  999.0\n",
      "2022-12-31 22:40:00  3.32  10.81  6.34     272  999.0\n",
      "2022-12-31 23:40:00  3.86   12.9  7.17     272  999.0\n",
      "\n",
      "[286897 rows x 5 columns]\n"
     ]
    }
   ],
   "source": [
    "print(df_new_2)"
   ]
  },
  {
   "cell_type": "code",
   "execution_count": 14,
   "id": "83a01c7d",
   "metadata": {},
   "outputs": [
    {
     "data": {
      "text/plain": [
       "[<matplotlib.lines.Line2D at 0x7f9ba8ab73d0>]"
      ]
     },
     "execution_count": 14,
     "metadata": {},
     "output_type": "execute_result"
    },
    {
     "data": {
      "image/png": "[encoded data removed]",
      "text/plain": [
       "<Figure size 432x288 with 1 Axes>"
      ]
     },
     "metadata": {
      "needs_background": "light"
     },
     "output_type": "display_data"
    }
   ],
   "source": [
    "plt.plot(df_new_2.iloc[2008])"
   ]
  },
  {
   "cell_type": "code",
   "execution_count": 18,
   "id": "1429904f",
   "metadata": {},
   "outputs": [
    {
     "data": {
      "text/plain": [
       "<matplotlib.collections.PathCollection at 0x7f9bc48459d0>"
      ]
     },
     "execution_count": 18,
     "metadata": {},
     "output_type": "execute_result"
    },
    {
     "data": {
      "image/png": "[encoded data removed]",
      "text/plain": [
       "<Figure size 432x288 with 1 Axes>"
      ]
     },
     "metadata": {
      "needs_background": "light"
     },
     "output_type": "display_data"
    }
   ],
   "source": [
    "plt.scatter(df_new_2.index,df_new_2.wvht)"
   ]
  },
  {
   "cell_type": "code",
   "execution_count": null,
   "id": "6b238982",
   "metadata": {},
   "outputs": [],
   "source": [
    "df_new_2"
   ]
  }
 ],
 "metadata": {
  "kernelspec": {
   "display_name": "Python 3 (ipykernel)",
   "language": "python",
   "name": "python3"
  },
  "language_info": {
   "codemirror_mode": {
    "name": "ipython",
    "version": 3
   },
   "file_extension": ".py",
   "mimetype": "text/x-python",
   "name": "python",
   "nbconvert_exporter": "python",
   "pygments_lexer": "ipython3",
   "version": "3.8.10"
  }
 },
 "nbformat": 4,
 "nbformat_minor": 5
}
