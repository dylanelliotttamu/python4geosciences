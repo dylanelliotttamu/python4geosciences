{
 "cells": [
  {
   "cell_type": "code",
   "execution_count": 3,
   "id": "b8da29a8",
   "metadata": {},
   "outputs": [
    {
     "name": "stdout",
     "output_type": "stream",
     "text": [
      "62.75\n"
     ]
    }
   ],
   "source": [
    "'''\n",
    "\n",
    "Wave Pool Temperature Forecast\n",
    "-self updates \n",
    "-add wind chill later\n",
    "automatically update temperature forecasts for Waco up to 1 week from NWS \n",
    "and then take average of two days prior for each day\n",
    "\n",
    "\n",
    "Week 15 (Apr 25/27) – Project presentation\n",
    "Graduate students present, undergraduates and graduates give feedback.\n",
    "Final Project Presentation\n",
    "'''\n",
    "\n",
    "import numpy as np\n",
    "\n",
    "temp_2_days_ago = [78,63]\n",
    "\n",
    "temp_1_day_ago = [69,41]\n",
    "\n",
    "avg_temp_2 = np.mean(temp_2_days_ago)\n",
    "\n",
    "avg_temp_1 = np.mean(temp_1_day_ago)\n",
    "\n",
    "forecasted_wind = np.random.randint(low=0,high=50,size=7)\n",
    "\n",
    "wind = 13\n",
    "\n",
    "\n",
    "#if \n",
    "\n",
    "\n",
    "pool_temp_today = (avg_temp_1 + avg_temp_2) / 2\n",
    "print(pool_temp_today)\n"
   ]
  },
  {
   "cell_type": "code",
   "execution_count": null,
   "id": "f08a117e",
   "metadata": {},
   "outputs": [],
   "source": [
    "'''\n",
    "\n",
    "Back up ideas\n",
    "\n",
    "wave pool temp climatology \n",
    "wind averages\n",
    "\n",
    "gulf of mexico swell heights \n",
    "\n",
    "\n",
    "\n",
    "'''"
   ]
  }
 ],
 "metadata": {
  "kernelspec": {
   "display_name": "Python 3 (ipykernel)",
   "language": "python",
   "name": "python3"
  },
  "language_info": {
   "codemirror_mode": {
    "name": "ipython",
    "version": 3
   },
   "file_extension": ".py",
   "mimetype": "text/x-python",
   "name": "python",
   "nbconvert_exporter": "python",
   "pygments_lexer": "ipython3",
   "version": "3.8.10"
  }
 },
 "nbformat": 4,
 "nbformat_minor": 5
}
